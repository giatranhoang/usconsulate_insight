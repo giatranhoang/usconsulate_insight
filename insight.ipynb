{
 "metadata": {
  "language_info": {
   "codemirror_mode": {
    "name": "ipython",
    "version": 3
   },
   "file_extension": ".py",
   "mimetype": "text/x-python",
   "name": "python",
   "nbconvert_exporter": "python",
   "pygments_lexer": "ipython3",
   "version": "3.8.7"
  },
  "orig_nbformat": 2,
  "kernelspec": {
   "name": "python3",
   "display_name": "Python 3.8.7 64-bit",
   "metadata": {
    "interpreter": {
     "hash": "aee8b7b246df8f9039afb4144a1f6fd8d2ca17a180786b69acc140d282b71a49"
    }
   }
  }
 },
 "nbformat": 4,
 "nbformat_minor": 2,
 "cells": [
  {
   "cell_type": "code",
   "execution_count": 15,
   "metadata": {},
   "outputs": [],
   "source": [
    "import pandas as pd\n",
    "import json\n",
    "import requests\n",
    "from pandas.io.json import json_normalize\n",
    "import facebook as facebook\n",
    "from datetime import datetime"
   ]
  },
  {
   "cell_type": "code",
   "execution_count": 133,
   "metadata": {},
   "outputs": [],
   "source": [
    "graph = facebook.GraphAPI(access_token=\"EAABnlB7bWhcBABde3nVXzemP41sx4mnAua62zr7vQZBkP4cfZAR0HEZAIesfJSsTjZBzCHZBsrFDSDRDMaKjGBgtMyjUc5wcS7iZC5gUNAHmJoZCcSO9tJ3yKUA6lUhxifvGXTRbOie58jn3WL8j2jtkydlf282TSHuMcIAW7PUaP6PgIWzz62ut0wLXo8Yf7QZD\", version=\"3.1\")"
   ]
  },
  {
   "cell_type": "code",
   "execution_count": 136,
   "metadata": {},
   "outputs": [],
   "source": [
    "allposts = graph.get_all_connections(id='165419643537532', connection_name ='posts', fields ='created_time, id, message, status_type, permalink_url, full_picture, message_tags, with_tags')"
   ]
  },
  {
   "cell_type": "code",
   "execution_count": 119,
   "metadata": {},
   "outputs": [
    {
     "output_type": "execute_result",
     "data": {
      "text/plain": [
       "<generator object GraphAPI.get_all_connections at 0x7fc41b96c0b0>"
      ]
     },
     "metadata": {},
     "execution_count": 119
    }
   ],
   "source": [
    "allposts"
   ]
  },
  {
   "cell_type": "code",
   "execution_count": 137,
   "metadata": {},
   "outputs": [],
   "source": [
    "ab = list(allposts)"
   ]
  },
  {
   "cell_type": "code",
   "execution_count": 138,
   "metadata": {},
   "outputs": [],
   "source": [
    "df = pd.DataFrame(ab)"
   ]
  },
  {
   "cell_type": "code",
   "execution_count": 139,
   "metadata": {},
   "outputs": [
    {
     "output_type": "execute_result",
     "data": {
      "text/plain": [
       "                  created_time                                id  \\\n",
       "0     2021-04-04T02:15:00+0000  165419643537532_3859131857499607   \n",
       "1     2021-04-03T12:48:00+0000  165419643537532_3855602657852527   \n",
       "2     2021-04-02T12:34:00+0000  165419643537532_3859056144173845   \n",
       "3     2021-04-02T08:53:25+0000   165419643537532_505717244145146   \n",
       "4     2021-04-02T07:38:53+0000   165419643537532_218596766710290   \n",
       "...                        ...                               ...   \n",
       "6523  2011-10-03T08:53:12+0000   165419643537532_176095189136644   \n",
       "6524  2011-09-30T15:05:30+0000   165419643537532_175001792579317   \n",
       "6525  2011-09-30T06:29:49+0000   165419643537532_174882175924612   \n",
       "6526  2011-09-28T03:15:16+0000   165419643537532_174031516009678   \n",
       "6527  2011-09-14T12:20:12+0000   165419643537532_168350943244402   \n",
       "\n",
       "                                                message           status_type  \\\n",
       "0     ⚡️ 𝐂𝐚̣̂𝐩 𝐧𝐡𝐚̣̂𝐭 𝐯𝐞̂̀ 𝐭𝐡𝐢̣ 𝐭𝐡𝐮̛̣𝐜 𝐤𝐡𝐨̂𝐧𝐠 đ𝐢̣𝐧𝐡 ...          added_photos   \n",
       "1     💡 𝐓𝐢𝐩 𝐨𝐟 𝐭𝐡𝐞 𝐖𝐞𝐞𝐤: This month’s American Citiz...          added_photos   \n",
       "2     🇺🇸🤝🇻🇳 Bộ trưởng Bộ Y tế Nguyễn Thanh Long và Đ...          added_photos   \n",
       "3                                                   NaN         created_event   \n",
       "4                                                   NaN         created_event   \n",
       "...                                                 ...                   ...   \n",
       "6523  On September 23, to mark a World Heart Day and...          added_photos   \n",
       "6524                                                NaN          added_photos   \n",
       "6525                                                NaN          added_photos   \n",
       "6526  The American Center - Grand Opening September ...  mobile_status_update   \n",
       "6527                                                NaN          added_photos   \n",
       "\n",
       "                                          permalink_url  \\\n",
       "0     https://www.facebook.com/165419643537532/posts...   \n",
       "1     https://www.facebook.com/165419643537532/posts...   \n",
       "2     https://www.facebook.com/165419643537532/posts...   \n",
       "3      https://www.facebook.com/events/505717244145146/   \n",
       "4      https://www.facebook.com/events/218596766710290/   \n",
       "...                                                 ...   \n",
       "6523  https://www.facebook.com/USConsulateHCMC/photo...   \n",
       "6524  https://www.facebook.com/USConsulateHCMC/photo...   \n",
       "6525  https://www.facebook.com/USConsulateHCMC/photo...   \n",
       "6526  https://www.facebook.com/165419643537532/posts...   \n",
       "6527  https://www.facebook.com/USConsulateHCMC/photo...   \n",
       "\n",
       "                                           full_picture message_tags  \n",
       "0     https://scontent.fsgn2-4.fna.fbcdn.net/v/t1.64...           []  \n",
       "1     https://scontent.fsgn2-2.fna.fbcdn.net/v/t1.64...           []  \n",
       "2     https://scontent.fsgn2-3.fna.fbcdn.net/v/t1.64...          NaN  \n",
       "3     https://scontent.fsgn2-3.fna.fbcdn.net/v/t1.64...          NaN  \n",
       "4     https://scontent.fsgn2-5.fna.fbcdn.net/v/t1.64...          NaN  \n",
       "...                                                 ...          ...  \n",
       "6523  https://scontent.fsgn2-5.fna.fbcdn.net/v/t1.18...          NaN  \n",
       "6524  https://scontent.fsgn2-2.fna.fbcdn.net/v/t1.18...          NaN  \n",
       "6525  https://scontent.fsgn2-3.fna.fbcdn.net/v/t1.18...          NaN  \n",
       "6526                                                NaN          NaN  \n",
       "6527  https://scontent.fsgn2-3.fna.fbcdn.net/v/t1.18...          NaN  \n",
       "\n",
       "[6528 rows x 7 columns]"
      ],
      "text/html": "<div>\n<style scoped>\n    .dataframe tbody tr th:only-of-type {\n        vertical-align: middle;\n    }\n\n    .dataframe tbody tr th {\n        vertical-align: top;\n    }\n\n    .dataframe thead th {\n        text-align: right;\n    }\n</style>\n<table border=\"1\" class=\"dataframe\">\n  <thead>\n    <tr style=\"text-align: right;\">\n      <th></th>\n      <th>created_time</th>\n      <th>id</th>\n      <th>message</th>\n      <th>status_type</th>\n      <th>permalink_url</th>\n      <th>full_picture</th>\n      <th>message_tags</th>\n    </tr>\n  </thead>\n  <tbody>\n    <tr>\n      <th>0</th>\n      <td>2021-04-04T02:15:00+0000</td>\n      <td>165419643537532_3859131857499607</td>\n      <td>⚡️ 𝐂𝐚̣̂𝐩 𝐧𝐡𝐚̣̂𝐭 𝐯𝐞̂̀ 𝐭𝐡𝐢̣ 𝐭𝐡𝐮̛̣𝐜 𝐤𝐡𝐨̂𝐧𝐠 đ𝐢̣𝐧𝐡 ...</td>\n      <td>added_photos</td>\n      <td>https://www.facebook.com/165419643537532/posts...</td>\n      <td>https://scontent.fsgn2-4.fna.fbcdn.net/v/t1.64...</td>\n      <td>[]</td>\n    </tr>\n    <tr>\n      <th>1</th>\n      <td>2021-04-03T12:48:00+0000</td>\n      <td>165419643537532_3855602657852527</td>\n      <td>💡 𝐓𝐢𝐩 𝐨𝐟 𝐭𝐡𝐞 𝐖𝐞𝐞𝐤: This month’s American Citiz...</td>\n      <td>added_photos</td>\n      <td>https://www.facebook.com/165419643537532/posts...</td>\n      <td>https://scontent.fsgn2-2.fna.fbcdn.net/v/t1.64...</td>\n      <td>[]</td>\n    </tr>\n    <tr>\n      <th>2</th>\n      <td>2021-04-02T12:34:00+0000</td>\n      <td>165419643537532_3859056144173845</td>\n      <td>🇺🇸🤝🇻🇳 Bộ trưởng Bộ Y tế Nguyễn Thanh Long và Đ...</td>\n      <td>added_photos</td>\n      <td>https://www.facebook.com/165419643537532/posts...</td>\n      <td>https://scontent.fsgn2-3.fna.fbcdn.net/v/t1.64...</td>\n      <td>NaN</td>\n    </tr>\n    <tr>\n      <th>3</th>\n      <td>2021-04-02T08:53:25+0000</td>\n      <td>165419643537532_505717244145146</td>\n      <td>NaN</td>\n      <td>created_event</td>\n      <td>https://www.facebook.com/events/505717244145146/</td>\n      <td>https://scontent.fsgn2-3.fna.fbcdn.net/v/t1.64...</td>\n      <td>NaN</td>\n    </tr>\n    <tr>\n      <th>4</th>\n      <td>2021-04-02T07:38:53+0000</td>\n      <td>165419643537532_218596766710290</td>\n      <td>NaN</td>\n      <td>created_event</td>\n      <td>https://www.facebook.com/events/218596766710290/</td>\n      <td>https://scontent.fsgn2-5.fna.fbcdn.net/v/t1.64...</td>\n      <td>NaN</td>\n    </tr>\n    <tr>\n      <th>...</th>\n      <td>...</td>\n      <td>...</td>\n      <td>...</td>\n      <td>...</td>\n      <td>...</td>\n      <td>...</td>\n      <td>...</td>\n    </tr>\n    <tr>\n      <th>6523</th>\n      <td>2011-10-03T08:53:12+0000</td>\n      <td>165419643537532_176095189136644</td>\n      <td>On September 23, to mark a World Heart Day and...</td>\n      <td>added_photos</td>\n      <td>https://www.facebook.com/USConsulateHCMC/photo...</td>\n      <td>https://scontent.fsgn2-5.fna.fbcdn.net/v/t1.18...</td>\n      <td>NaN</td>\n    </tr>\n    <tr>\n      <th>6524</th>\n      <td>2011-09-30T15:05:30+0000</td>\n      <td>165419643537532_175001792579317</td>\n      <td>NaN</td>\n      <td>added_photos</td>\n      <td>https://www.facebook.com/USConsulateHCMC/photo...</td>\n      <td>https://scontent.fsgn2-2.fna.fbcdn.net/v/t1.18...</td>\n      <td>NaN</td>\n    </tr>\n    <tr>\n      <th>6525</th>\n      <td>2011-09-30T06:29:49+0000</td>\n      <td>165419643537532_174882175924612</td>\n      <td>NaN</td>\n      <td>added_photos</td>\n      <td>https://www.facebook.com/USConsulateHCMC/photo...</td>\n      <td>https://scontent.fsgn2-3.fna.fbcdn.net/v/t1.18...</td>\n      <td>NaN</td>\n    </tr>\n    <tr>\n      <th>6526</th>\n      <td>2011-09-28T03:15:16+0000</td>\n      <td>165419643537532_174031516009678</td>\n      <td>The American Center - Grand Opening September ...</td>\n      <td>mobile_status_update</td>\n      <td>https://www.facebook.com/165419643537532/posts...</td>\n      <td>NaN</td>\n      <td>NaN</td>\n    </tr>\n    <tr>\n      <th>6527</th>\n      <td>2011-09-14T12:20:12+0000</td>\n      <td>165419643537532_168350943244402</td>\n      <td>NaN</td>\n      <td>added_photos</td>\n      <td>https://www.facebook.com/USConsulateHCMC/photo...</td>\n      <td>https://scontent.fsgn2-3.fna.fbcdn.net/v/t1.18...</td>\n      <td>NaN</td>\n    </tr>\n  </tbody>\n</table>\n<p>6528 rows × 7 columns</p>\n</div>"
     },
     "metadata": {},
     "execution_count": 139
    }
   ],
   "source": [
    "df"
   ]
  },
  {
   "cell_type": "code",
   "execution_count": 140,
   "metadata": {},
   "outputs": [],
   "source": [
    "df.to_csv(\"20210404_Posts.csv\")"
   ]
  },
  {
   "cell_type": "code",
   "execution_count": 154,
   "metadata": {},
   "outputs": [
    {
     "output_type": "execute_result",
     "data": {
      "text/plain": [
       "                  created_time                                id  \\\n",
       "0     2021-04-04T02:15:00+0000  165419643537532_3859131857499607   \n",
       "1     2021-04-03T12:48:00+0000  165419643537532_3855602657852527   \n",
       "7     2021-04-01T11:08:00+0000  165419643537532_3856463221099804   \n",
       "11    2021-04-01T01:20:02+0000  165419643537532_3853500094729450   \n",
       "12    2021-03-31T14:00:07+0000   165419643537532_475554033759018   \n",
       "...                        ...                               ...   \n",
       "6509  2011-10-17T06:54:22+0000   165419643537532_227464453980948   \n",
       "6514  2011-10-13T14:24:12+0000   165419643537532_180324642047032   \n",
       "6516  2011-10-12T06:19:30+0000   165419643537532_179789732100523   \n",
       "6517  2011-10-12T06:03:43+0000   165419643537532_179787395434090   \n",
       "6518  2011-10-12T03:02:01+0000   165419643537532_179748328771330   \n",
       "\n",
       "                                                message           status_type  \\\n",
       "0     ⚡️ 𝐂𝐚̣̂𝐩 𝐧𝐡𝐚̣̂𝐭 𝐯𝐞̂̀ 𝐭𝐡𝐢̣ 𝐭𝐡𝐮̛̣𝐜 𝐤𝐡𝐨̂𝐧𝐠 đ𝐢̣𝐧𝐡 ...          added_photos   \n",
       "1     💡 𝐓𝐢𝐩 𝐨𝐟 𝐭𝐡𝐞 𝐖𝐞𝐞𝐤: This month’s American Citiz...          added_photos   \n",
       "7     #ĐạisứKritenbrink: Hoa Kỳ vui mừng chào đón lô...          added_photos   \n",
       "11    Ngày mai là Ngày Nhận thức về Tự kỷ Thế giới 💙...          added_photos   \n",
       "12    Chào mừng đến với Phần 2 | Tập 3 của ACTV 📺!\\n...           added_video   \n",
       "...                                                 ...                   ...   \n",
       "6509  Sept. 16, 2011: Remarks by Secretary Clinton a...          shared_story   \n",
       "6514  The Public Affairs Section of the U.S. Embassy...  mobile_status_update   \n",
       "6516  A photo contest sponsored by the U.S. Departme...          added_photos   \n",
       "6517  Let's makes friends with these students from S...          added_photos   \n",
       "6518  Study of the United States Institutes (SUSI) f...  mobile_status_update   \n",
       "\n",
       "                                          permalink_url  \\\n",
       "0     https://www.facebook.com/165419643537532/posts...   \n",
       "1     https://www.facebook.com/165419643537532/posts...   \n",
       "7     https://www.facebook.com/165419643537532/posts...   \n",
       "11    https://www.facebook.com/165419643537532/posts...   \n",
       "12    https://www.facebook.com/USConsulateHCMC/video...   \n",
       "...                                                 ...   \n",
       "6509  https://www.facebook.com/165419643537532/posts...   \n",
       "6514  https://www.facebook.com/165419643537532/posts...   \n",
       "6516  https://www.facebook.com/USConsulateHCMC/photo...   \n",
       "6517  https://www.facebook.com/USConsulateHCMC/photo...   \n",
       "6518  https://www.facebook.com/165419643537532/posts...   \n",
       "\n",
       "                                           full_picture  \\\n",
       "0     https://scontent.fsgn2-4.fna.fbcdn.net/v/t1.64...   \n",
       "1     https://scontent.fsgn2-2.fna.fbcdn.net/v/t1.64...   \n",
       "7     https://scontent.fsgn2-1.fna.fbcdn.net/v/t1.64...   \n",
       "11    https://scontent.fsgn2-5.fna.fbcdn.net/v/t1.64...   \n",
       "12    https://scontent.fsgn2-4.fna.fbcdn.net/v/t15.5...   \n",
       "...                                                 ...   \n",
       "6509  https://external.fsgn2-2.fna.fbcdn.net/safe_im...   \n",
       "6514                                                NaN   \n",
       "6516  https://scontent.fsgn2-3.fna.fbcdn.net/v/t31.1...   \n",
       "6517  https://scontent.fsgn2-1.fna.fbcdn.net/v/t1.18...   \n",
       "6518                                                NaN   \n",
       "\n",
       "                                           message_tags  \n",
       "0                                                    []  \n",
       "1                                                    []  \n",
       "7     [{'id': '62690599685', 'name': 'USAID - US Age...  \n",
       "11    [{'id': '2434525386667828', 'name': '#thắpđènx...  \n",
       "12    [{'id': '612012588812093', 'name': '#WomensHis...  \n",
       "...                                                 ...  \n",
       "6509                                                 []  \n",
       "6514                                                 []  \n",
       "6516                                                 []  \n",
       "6517                                                 []  \n",
       "6518                                                 []  \n",
       "\n",
       "[3376 rows x 7 columns]"
      ],
      "text/html": "<div>\n<style scoped>\n    .dataframe tbody tr th:only-of-type {\n        vertical-align: middle;\n    }\n\n    .dataframe tbody tr th {\n        vertical-align: top;\n    }\n\n    .dataframe thead th {\n        text-align: right;\n    }\n</style>\n<table border=\"1\" class=\"dataframe\">\n  <thead>\n    <tr style=\"text-align: right;\">\n      <th></th>\n      <th>created_time</th>\n      <th>id</th>\n      <th>message</th>\n      <th>status_type</th>\n      <th>permalink_url</th>\n      <th>full_picture</th>\n      <th>message_tags</th>\n    </tr>\n  </thead>\n  <tbody>\n    <tr>\n      <th>0</th>\n      <td>2021-04-04T02:15:00+0000</td>\n      <td>165419643537532_3859131857499607</td>\n      <td>⚡️ 𝐂𝐚̣̂𝐩 𝐧𝐡𝐚̣̂𝐭 𝐯𝐞̂̀ 𝐭𝐡𝐢̣ 𝐭𝐡𝐮̛̣𝐜 𝐤𝐡𝐨̂𝐧𝐠 đ𝐢̣𝐧𝐡 ...</td>\n      <td>added_photos</td>\n      <td>https://www.facebook.com/165419643537532/posts...</td>\n      <td>https://scontent.fsgn2-4.fna.fbcdn.net/v/t1.64...</td>\n      <td>[]</td>\n    </tr>\n    <tr>\n      <th>1</th>\n      <td>2021-04-03T12:48:00+0000</td>\n      <td>165419643537532_3855602657852527</td>\n      <td>💡 𝐓𝐢𝐩 𝐨𝐟 𝐭𝐡𝐞 𝐖𝐞𝐞𝐤: This month’s American Citiz...</td>\n      <td>added_photos</td>\n      <td>https://www.facebook.com/165419643537532/posts...</td>\n      <td>https://scontent.fsgn2-2.fna.fbcdn.net/v/t1.64...</td>\n      <td>[]</td>\n    </tr>\n    <tr>\n      <th>7</th>\n      <td>2021-04-01T11:08:00+0000</td>\n      <td>165419643537532_3856463221099804</td>\n      <td>#ĐạisứKritenbrink: Hoa Kỳ vui mừng chào đón lô...</td>\n      <td>added_photos</td>\n      <td>https://www.facebook.com/165419643537532/posts...</td>\n      <td>https://scontent.fsgn2-1.fna.fbcdn.net/v/t1.64...</td>\n      <td>[{'id': '62690599685', 'name': 'USAID - US Age...</td>\n    </tr>\n    <tr>\n      <th>11</th>\n      <td>2021-04-01T01:20:02+0000</td>\n      <td>165419643537532_3853500094729450</td>\n      <td>Ngày mai là Ngày Nhận thức về Tự kỷ Thế giới 💙...</td>\n      <td>added_photos</td>\n      <td>https://www.facebook.com/165419643537532/posts...</td>\n      <td>https://scontent.fsgn2-5.fna.fbcdn.net/v/t1.64...</td>\n      <td>[{'id': '2434525386667828', 'name': '#thắpđènx...</td>\n    </tr>\n    <tr>\n      <th>12</th>\n      <td>2021-03-31T14:00:07+0000</td>\n      <td>165419643537532_475554033759018</td>\n      <td>Chào mừng đến với Phần 2 | Tập 3 của ACTV 📺!\\n...</td>\n      <td>added_video</td>\n      <td>https://www.facebook.com/USConsulateHCMC/video...</td>\n      <td>https://scontent.fsgn2-4.fna.fbcdn.net/v/t15.5...</td>\n      <td>[{'id': '612012588812093', 'name': '#WomensHis...</td>\n    </tr>\n    <tr>\n      <th>...</th>\n      <td>...</td>\n      <td>...</td>\n      <td>...</td>\n      <td>...</td>\n      <td>...</td>\n      <td>...</td>\n      <td>...</td>\n    </tr>\n    <tr>\n      <th>6509</th>\n      <td>2011-10-17T06:54:22+0000</td>\n      <td>165419643537532_227464453980948</td>\n      <td>Sept. 16, 2011: Remarks by Secretary Clinton a...</td>\n      <td>shared_story</td>\n      <td>https://www.facebook.com/165419643537532/posts...</td>\n      <td>https://external.fsgn2-2.fna.fbcdn.net/safe_im...</td>\n      <td>[]</td>\n    </tr>\n    <tr>\n      <th>6514</th>\n      <td>2011-10-13T14:24:12+0000</td>\n      <td>165419643537532_180324642047032</td>\n      <td>The Public Affairs Section of the U.S. Embassy...</td>\n      <td>mobile_status_update</td>\n      <td>https://www.facebook.com/165419643537532/posts...</td>\n      <td>NaN</td>\n      <td>[]</td>\n    </tr>\n    <tr>\n      <th>6516</th>\n      <td>2011-10-12T06:19:30+0000</td>\n      <td>165419643537532_179789732100523</td>\n      <td>A photo contest sponsored by the U.S. Departme...</td>\n      <td>added_photos</td>\n      <td>https://www.facebook.com/USConsulateHCMC/photo...</td>\n      <td>https://scontent.fsgn2-3.fna.fbcdn.net/v/t31.1...</td>\n      <td>[]</td>\n    </tr>\n    <tr>\n      <th>6517</th>\n      <td>2011-10-12T06:03:43+0000</td>\n      <td>165419643537532_179787395434090</td>\n      <td>Let's makes friends with these students from S...</td>\n      <td>added_photos</td>\n      <td>https://www.facebook.com/USConsulateHCMC/photo...</td>\n      <td>https://scontent.fsgn2-1.fna.fbcdn.net/v/t1.18...</td>\n      <td>[]</td>\n    </tr>\n    <tr>\n      <th>6518</th>\n      <td>2011-10-12T03:02:01+0000</td>\n      <td>165419643537532_179748328771330</td>\n      <td>Study of the United States Institutes (SUSI) f...</td>\n      <td>mobile_status_update</td>\n      <td>https://www.facebook.com/165419643537532/posts...</td>\n      <td>NaN</td>\n      <td>[]</td>\n    </tr>\n  </tbody>\n</table>\n<p>3376 rows × 7 columns</p>\n</div>"
     },
     "metadata": {},
     "execution_count": 154
    }
   ],
   "source": [
    "df[df[\"message_tags\"].notnull()]"
   ]
  },
  {
   "cell_type": "code",
   "execution_count": 153,
   "metadata": {},
   "outputs": [
    {
     "output_type": "execute_result",
     "data": {
      "text/plain": [
       "                  created_time                                id  \\\n",
       "7     2021-04-01T11:08:00+0000  165419643537532_3856463221099804   \n",
       "11    2021-04-01T01:20:02+0000  165419643537532_3853500094729450   \n",
       "12    2021-03-31T14:00:07+0000   165419643537532_475554033759018   \n",
       "13    2021-03-31T12:55:32+0000  165419643537532_3853965321349594   \n",
       "14    2021-03-31T09:19:00+0000  165419643537532_3853483328064460   \n",
       "...                        ...                               ...   \n",
       "5814  2012-10-01T09:36:54+0000   165419643537532_109811402509108   \n",
       "5864  2012-09-10T15:44:42+0000   165419643537532_357768487635979   \n",
       "6057  2012-06-27T16:22:13+0000   165419643537532_492784527402505   \n",
       "6130  2012-05-25T09:26:09+0000   165419643537532_222214201231444   \n",
       "6174  2012-05-03T12:40:36+0000   165419643537532_117375465065472   \n",
       "\n",
       "                                                message           status_type  \\\n",
       "7     #ĐạisứKritenbrink: Hoa Kỳ vui mừng chào đón lô...          added_photos   \n",
       "11    Ngày mai là Ngày Nhận thức về Tự kỷ Thế giới 💙...          added_photos   \n",
       "12    Chào mừng đến với Phần 2 | Tập 3 của ACTV 📺!\\n...           added_video   \n",
       "13    Chào mừng đến với Phần 2 | Tập 3 của ACTV 📺!\\n...  mobile_status_update   \n",
       "14    Cam kết đối với những quyền không thể bị tước ...          added_photos   \n",
       "...                                                 ...                   ...   \n",
       "5814  Hôm nay trời mưa dữ quá.  Hy vọng ngày mai trờ...          shared_story   \n",
       "5864  Mời các bạn tham dự câu lạc bộ tiếng Anh thườn...  mobile_status_update   \n",
       "6057  Bà con đừng quên chương trình hay ngày thứ sáu...          shared_story   \n",
       "6130  On May 24, Secretary Clinton released the annu...          shared_story   \n",
       "6174  Hi all,\\n\\nPlease see below AC's next program ...          shared_story   \n",
       "\n",
       "                                          permalink_url  \\\n",
       "7     https://www.facebook.com/165419643537532/posts...   \n",
       "11    https://www.facebook.com/165419643537532/posts...   \n",
       "12    https://www.facebook.com/USConsulateHCMC/video...   \n",
       "13    https://www.facebook.com/165419643537532/posts...   \n",
       "14    https://www.facebook.com/165419643537532/posts...   \n",
       "...                                                 ...   \n",
       "5814  https://www.facebook.com/165419643537532/posts...   \n",
       "5864  https://www.facebook.com/165419643537532/posts...   \n",
       "6057  https://www.facebook.com/165419643537532/posts...   \n",
       "6130  https://www.facebook.com/165419643537532/posts...   \n",
       "6174  https://www.facebook.com/165419643537532/posts...   \n",
       "\n",
       "                                           full_picture  \\\n",
       "7     https://scontent.fsgn2-1.fna.fbcdn.net/v/t1.64...   \n",
       "11    https://scontent.fsgn2-5.fna.fbcdn.net/v/t1.64...   \n",
       "12    https://scontent.fsgn2-4.fna.fbcdn.net/v/t15.5...   \n",
       "13                                                  NaN   \n",
       "14    https://scontent.fsgn2-5.fna.fbcdn.net/v/t1.64...   \n",
       "...                                                 ...   \n",
       "5814                                                NaN   \n",
       "5864                                                NaN   \n",
       "6057                                                NaN   \n",
       "6130                                                NaN   \n",
       "6174                                                NaN   \n",
       "\n",
       "                                           message_tags  \n",
       "7     [{'id': '62690599685', 'name': 'USAID - US Age...  \n",
       "11    [{'id': '2434525386667828', 'name': '#thắpđènx...  \n",
       "12    [{'id': '612012588812093', 'name': '#WomensHis...  \n",
       "13    [{'id': '612012588812093', 'name': '#WomensHis...  \n",
       "14    [{'id': '163489463833353', 'name': '#quyềnconn...  \n",
       "...                                                 ...  \n",
       "5814  [{'id': '1133470066732480', 'name': 'U.S. Cons...  \n",
       "5864  [{'id': '357790907631035', 'name': 'Activities...  \n",
       "6057  [{'id': '467071066654013', 'name': 'Using Powe...  \n",
       "6130  [{'id': '10153921440956074', 'name': 'U.S. Dep...  \n",
       "6174  [{'id': '352845864779269', 'name': 'Speaker Pr...  \n",
       "\n",
       "[1675 rows x 7 columns]"
      ],
      "text/html": "<div>\n<style scoped>\n    .dataframe tbody tr th:only-of-type {\n        vertical-align: middle;\n    }\n\n    .dataframe tbody tr th {\n        vertical-align: top;\n    }\n\n    .dataframe thead th {\n        text-align: right;\n    }\n</style>\n<table border=\"1\" class=\"dataframe\">\n  <thead>\n    <tr style=\"text-align: right;\">\n      <th></th>\n      <th>created_time</th>\n      <th>id</th>\n      <th>message</th>\n      <th>status_type</th>\n      <th>permalink_url</th>\n      <th>full_picture</th>\n      <th>message_tags</th>\n    </tr>\n  </thead>\n  <tbody>\n    <tr>\n      <th>7</th>\n      <td>2021-04-01T11:08:00+0000</td>\n      <td>165419643537532_3856463221099804</td>\n      <td>#ĐạisứKritenbrink: Hoa Kỳ vui mừng chào đón lô...</td>\n      <td>added_photos</td>\n      <td>https://www.facebook.com/165419643537532/posts...</td>\n      <td>https://scontent.fsgn2-1.fna.fbcdn.net/v/t1.64...</td>\n      <td>[{'id': '62690599685', 'name': 'USAID - US Age...</td>\n    </tr>\n    <tr>\n      <th>11</th>\n      <td>2021-04-01T01:20:02+0000</td>\n      <td>165419643537532_3853500094729450</td>\n      <td>Ngày mai là Ngày Nhận thức về Tự kỷ Thế giới 💙...</td>\n      <td>added_photos</td>\n      <td>https://www.facebook.com/165419643537532/posts...</td>\n      <td>https://scontent.fsgn2-5.fna.fbcdn.net/v/t1.64...</td>\n      <td>[{'id': '2434525386667828', 'name': '#thắpđènx...</td>\n    </tr>\n    <tr>\n      <th>12</th>\n      <td>2021-03-31T14:00:07+0000</td>\n      <td>165419643537532_475554033759018</td>\n      <td>Chào mừng đến với Phần 2 | Tập 3 của ACTV 📺!\\n...</td>\n      <td>added_video</td>\n      <td>https://www.facebook.com/USConsulateHCMC/video...</td>\n      <td>https://scontent.fsgn2-4.fna.fbcdn.net/v/t15.5...</td>\n      <td>[{'id': '612012588812093', 'name': '#WomensHis...</td>\n    </tr>\n    <tr>\n      <th>13</th>\n      <td>2021-03-31T12:55:32+0000</td>\n      <td>165419643537532_3853965321349594</td>\n      <td>Chào mừng đến với Phần 2 | Tập 3 của ACTV 📺!\\n...</td>\n      <td>mobile_status_update</td>\n      <td>https://www.facebook.com/165419643537532/posts...</td>\n      <td>NaN</td>\n      <td>[{'id': '612012588812093', 'name': '#WomensHis...</td>\n    </tr>\n    <tr>\n      <th>14</th>\n      <td>2021-03-31T09:19:00+0000</td>\n      <td>165419643537532_3853483328064460</td>\n      <td>Cam kết đối với những quyền không thể bị tước ...</td>\n      <td>added_photos</td>\n      <td>https://www.facebook.com/165419643537532/posts...</td>\n      <td>https://scontent.fsgn2-5.fna.fbcdn.net/v/t1.64...</td>\n      <td>[{'id': '163489463833353', 'name': '#quyềnconn...</td>\n    </tr>\n    <tr>\n      <th>...</th>\n      <td>...</td>\n      <td>...</td>\n      <td>...</td>\n      <td>...</td>\n      <td>...</td>\n      <td>...</td>\n      <td>...</td>\n    </tr>\n    <tr>\n      <th>5814</th>\n      <td>2012-10-01T09:36:54+0000</td>\n      <td>165419643537532_109811402509108</td>\n      <td>Hôm nay trời mưa dữ quá.  Hy vọng ngày mai trờ...</td>\n      <td>shared_story</td>\n      <td>https://www.facebook.com/165419643537532/posts...</td>\n      <td>NaN</td>\n      <td>[{'id': '1133470066732480', 'name': 'U.S. Cons...</td>\n    </tr>\n    <tr>\n      <th>5864</th>\n      <td>2012-09-10T15:44:42+0000</td>\n      <td>165419643537532_357768487635979</td>\n      <td>Mời các bạn tham dự câu lạc bộ tiếng Anh thườn...</td>\n      <td>mobile_status_update</td>\n      <td>https://www.facebook.com/165419643537532/posts...</td>\n      <td>NaN</td>\n      <td>[{'id': '357790907631035', 'name': 'Activities...</td>\n    </tr>\n    <tr>\n      <th>6057</th>\n      <td>2012-06-27T16:22:13+0000</td>\n      <td>165419643537532_492784527402505</td>\n      <td>Bà con đừng quên chương trình hay ngày thứ sáu...</td>\n      <td>shared_story</td>\n      <td>https://www.facebook.com/165419643537532/posts...</td>\n      <td>NaN</td>\n      <td>[{'id': '467071066654013', 'name': 'Using Powe...</td>\n    </tr>\n    <tr>\n      <th>6130</th>\n      <td>2012-05-25T09:26:09+0000</td>\n      <td>165419643537532_222214201231444</td>\n      <td>On May 24, Secretary Clinton released the annu...</td>\n      <td>shared_story</td>\n      <td>https://www.facebook.com/165419643537532/posts...</td>\n      <td>NaN</td>\n      <td>[{'id': '10153921440956074', 'name': 'U.S. Dep...</td>\n    </tr>\n    <tr>\n      <th>6174</th>\n      <td>2012-05-03T12:40:36+0000</td>\n      <td>165419643537532_117375465065472</td>\n      <td>Hi all,\\n\\nPlease see below AC's next program ...</td>\n      <td>shared_story</td>\n      <td>https://www.facebook.com/165419643537532/posts...</td>\n      <td>NaN</td>\n      <td>[{'id': '352845864779269', 'name': 'Speaker Pr...</td>\n    </tr>\n  </tbody>\n</table>\n<p>1675 rows × 7 columns</p>\n</div>"
     },
     "metadata": {},
     "execution_count": 153
    }
   ],
   "source": [
    "df[df[\"message_tags\"].notnull() & df[\"message_tags\"].str.len() != 0]"
   ]
  },
  {
   "cell_type": "code",
   "execution_count": 159,
   "metadata": {},
   "outputs": [
    {
     "output_type": "execute_result",
     "data": {
      "text/plain": [
       "13    [{'id': '612012588812093', 'name': '#WomensHis...\n",
       "Name: message_tags, dtype: object"
      ]
     },
     "metadata": {},
     "execution_count": 159
    }
   ],
   "source": [
    "df[df[\"id\"] == '165419643537532_3853965321349594'][\"message_tags\"]"
   ]
  },
  {
   "cell_type": "code",
   "execution_count": 176,
   "metadata": {},
   "outputs": [
    {
     "output_type": "error",
     "ename": "GraphAPIError",
     "evalue": "(#803) Some of the aliases you requested do not exist: 0       165419643537532_3859131857499607\n1       165419643537532_3855602657852527\n2       165419643537532_3859056144173845\n3        165419643537532_505717244145146\n4        165419643537532_218596766710290\n                      ...               \n6523     165419643537532_176095189136644\n6524     165419643537532_175001792579317\n6525     165419643537532_174882175924612\n6526     165419643537532_174031516009678\n6527     165419643537532_168350943244402\nName: id, Length: 6528, dtype: object",
     "traceback": [
      "\u001b[0;31m---------------------------------------------------------------------------\u001b[0m",
      "\u001b[0;31mGraphAPIError\u001b[0m                             Traceback (most recent call last)",
      "\u001b[0;32m<ipython-input-176-fe746b70a1cd>\u001b[0m in \u001b[0;36m<module>\u001b[0;34m\u001b[0m\n\u001b[0;32m----> 1\u001b[0;31m \u001b[0mcd\u001b[0m \u001b[0;34m=\u001b[0m \u001b[0mgraph\u001b[0m\u001b[0;34m.\u001b[0m\u001b[0mget_connections\u001b[0m\u001b[0;34m(\u001b[0m\u001b[0mid\u001b[0m\u001b[0;34m=\u001b[0m\u001b[0mdf\u001b[0m\u001b[0;34m[\u001b[0m\u001b[0;34m\"id\"\u001b[0m\u001b[0;34m]\u001b[0m\u001b[0;34m,\u001b[0m \u001b[0mconnection_name\u001b[0m \u001b[0;34m=\u001b[0m \u001b[0;34m\"insights\"\u001b[0m\u001b[0;34m,\u001b[0m \u001b[0mmetric\u001b[0m\u001b[0;34m=\u001b[0m\u001b[0;34m'post_activity_by_action_type'\u001b[0m\u001b[0;34m,\u001b[0m \u001b[0mdate_preset\u001b[0m\u001b[0;34m=\u001b[0m\u001b[0;34m'yesterday'\u001b[0m\u001b[0;34m,\u001b[0m \u001b[0mperiod\u001b[0m\u001b[0;34m=\u001b[0m\u001b[0;34m'lifetime'\u001b[0m\u001b[0;34m,\u001b[0m \u001b[0mshow_description_from_api_doc\u001b[0m\u001b[0;34m=\u001b[0m\u001b[0;32mFalse\u001b[0m\u001b[0;34m)\u001b[0m\u001b[0;34m\u001b[0m\u001b[0;34m\u001b[0m\u001b[0m\n\u001b[0m\u001b[1;32m      2\u001b[0m \u001b[0mdf\u001b[0m\u001b[0;34m[\u001b[0m\u001b[0;34m\"shares\"\u001b[0m\u001b[0;34m]\u001b[0m \u001b[0;34m=\u001b[0m \u001b[0mcd\u001b[0m\u001b[0;34m[\u001b[0m\u001b[0;34m'data'\u001b[0m\u001b[0;34m]\u001b[0m\u001b[0;34m[\u001b[0m\u001b[0;36m0\u001b[0m\u001b[0;34m]\u001b[0m\u001b[0;34m[\u001b[0m\u001b[0;34m'values'\u001b[0m\u001b[0;34m]\u001b[0m\u001b[0;34m[\u001b[0m\u001b[0;36m0\u001b[0m\u001b[0;34m]\u001b[0m\u001b[0;34m[\u001b[0m\u001b[0;34m'value'\u001b[0m\u001b[0;34m]\u001b[0m\u001b[0;34m[\u001b[0m\u001b[0;34m'share'\u001b[0m\u001b[0;34m]\u001b[0m\u001b[0;34m\u001b[0m\u001b[0;34m\u001b[0m\u001b[0m\n",
      "\u001b[0;32m/Library/Frameworks/Python.framework/Versions/3.8/lib/python3.8/site-packages/facebook/__init__.py\u001b[0m in \u001b[0;36mget_connections\u001b[0;34m(self, id, connection_name, **args)\u001b[0m\n\u001b[1;32m    147\u001b[0m     \u001b[0;32mdef\u001b[0m \u001b[0mget_connections\u001b[0m\u001b[0;34m(\u001b[0m\u001b[0mself\u001b[0m\u001b[0;34m,\u001b[0m \u001b[0mid\u001b[0m\u001b[0;34m,\u001b[0m \u001b[0mconnection_name\u001b[0m\u001b[0;34m,\u001b[0m \u001b[0;34m**\u001b[0m\u001b[0margs\u001b[0m\u001b[0;34m)\u001b[0m\u001b[0;34m:\u001b[0m\u001b[0;34m\u001b[0m\u001b[0;34m\u001b[0m\u001b[0m\n\u001b[1;32m    148\u001b[0m         \u001b[0;34m\"\"\"Fetches the connections for given object.\"\"\"\u001b[0m\u001b[0;34m\u001b[0m\u001b[0;34m\u001b[0m\u001b[0m\n\u001b[0;32m--> 149\u001b[0;31m         return self.request(\n\u001b[0m\u001b[1;32m    150\u001b[0m             \u001b[0;34m\"{0}/{1}/{2}\"\u001b[0m\u001b[0;34m.\u001b[0m\u001b[0mformat\u001b[0m\u001b[0;34m(\u001b[0m\u001b[0mself\u001b[0m\u001b[0;34m.\u001b[0m\u001b[0mversion\u001b[0m\u001b[0;34m,\u001b[0m \u001b[0mid\u001b[0m\u001b[0;34m,\u001b[0m \u001b[0mconnection_name\u001b[0m\u001b[0;34m)\u001b[0m\u001b[0;34m,\u001b[0m \u001b[0margs\u001b[0m\u001b[0;34m\u001b[0m\u001b[0;34m\u001b[0m\u001b[0m\n\u001b[1;32m    151\u001b[0m         )\n",
      "\u001b[0;32m/Library/Frameworks/Python.framework/Versions/3.8/lib/python3.8/site-packages/facebook/__init__.py\u001b[0m in \u001b[0;36mrequest\u001b[0;34m(self, path, args, post_args, files, method)\u001b[0m\n\u001b[1;32m    311\u001b[0m \u001b[0;34m\u001b[0m\u001b[0m\n\u001b[1;32m    312\u001b[0m         \u001b[0;32mif\u001b[0m \u001b[0mresult\u001b[0m \u001b[0;32mand\u001b[0m \u001b[0misinstance\u001b[0m\u001b[0;34m(\u001b[0m\u001b[0mresult\u001b[0m\u001b[0;34m,\u001b[0m \u001b[0mdict\u001b[0m\u001b[0;34m)\u001b[0m \u001b[0;32mand\u001b[0m \u001b[0mresult\u001b[0m\u001b[0;34m.\u001b[0m\u001b[0mget\u001b[0m\u001b[0;34m(\u001b[0m\u001b[0;34m\"error\"\u001b[0m\u001b[0;34m)\u001b[0m\u001b[0;34m:\u001b[0m\u001b[0;34m\u001b[0m\u001b[0;34m\u001b[0m\u001b[0m\n\u001b[0;32m--> 313\u001b[0;31m             \u001b[0;32mraise\u001b[0m \u001b[0mGraphAPIError\u001b[0m\u001b[0;34m(\u001b[0m\u001b[0mresult\u001b[0m\u001b[0;34m)\u001b[0m\u001b[0;34m\u001b[0m\u001b[0;34m\u001b[0m\u001b[0m\n\u001b[0m\u001b[1;32m    314\u001b[0m         \u001b[0;32mreturn\u001b[0m \u001b[0mresult\u001b[0m\u001b[0;34m\u001b[0m\u001b[0;34m\u001b[0m\u001b[0m\n\u001b[1;32m    315\u001b[0m \u001b[0;34m\u001b[0m\u001b[0m\n",
      "\u001b[0;31mGraphAPIError\u001b[0m: (#803) Some of the aliases you requested do not exist: 0       165419643537532_3859131857499607\n1       165419643537532_3855602657852527\n2       165419643537532_3859056144173845\n3        165419643537532_505717244145146\n4        165419643537532_218596766710290\n                      ...               \n6523     165419643537532_176095189136644\n6524     165419643537532_175001792579317\n6525     165419643537532_174882175924612\n6526     165419643537532_174031516009678\n6527     165419643537532_168350943244402\nName: id, Length: 6528, dtype: object"
     ]
    }
   ],
   "source": [
    "cd = graph.get_connections(id=df[\"id\"], connection_name = \"insights\", metric='post_activity_by_action_type', date_preset='yesterday', period='lifetime', show_description_from_api_doc=False)\n",
    "df[\"shares\"] = cd['data'][0]['values'][0]['value']['share']"
   ]
  },
  {
   "cell_type": "code",
   "execution_count": 187,
   "metadata": {},
   "outputs": [
    {
     "output_type": "error",
     "ename": "IndentationError",
     "evalue": "unexpected indent (<ipython-input-187-9e0c78abe238>, line 6)",
     "traceback": [
      "\u001b[0;36m  File \u001b[0;32m\"<ipython-input-187-9e0c78abe238>\"\u001b[0;36m, line \u001b[0;32m6\u001b[0m\n\u001b[0;31m    else return insight['data'][0]['values'][0]['value']['like']\u001b[0m\n\u001b[0m    ^\u001b[0m\n\u001b[0;31mIndentationError\u001b[0m\u001b[0;31m:\u001b[0m unexpected indent\n"
     ]
    }
   ],
   "source": [
    "def return_engagements(nid):\n",
    "    insight = graph.get_connections(nid, connection_name='insights',metric='post_activity_by_action_type', date_preset='yesterday', period='lifetime', show_description_from_api_doc=False)\n",
    "    if bool(insight['data'][0]['values'][0]['value']) == True:\n",
    "        if bool(insight['data'][0]['values'][0]['value']['like']) == False:\n",
    "            return null\n",
    "                else return insight['data'][0]['values'][0]['value']['like']"
   ]
  },
  {
   "cell_type": "code",
   "execution_count": 180,
   "metadata": {},
   "outputs": [
    {
     "output_type": "error",
     "ename": "KeyError",
     "evalue": "'like'",
     "traceback": [
      "\u001b[0;31m---------------------------------------------------------------------------\u001b[0m",
      "\u001b[0;31mKeyError\u001b[0m                                  Traceback (most recent call last)",
      "\u001b[0;32m<ipython-input-180-5cf2dab16039>\u001b[0m in \u001b[0;36m<module>\u001b[0;34m\u001b[0m\n\u001b[0;32m----> 1\u001b[0;31m \u001b[0mdf\u001b[0m\u001b[0;34m[\u001b[0m\u001b[0;34m'likes'\u001b[0m\u001b[0;34m]\u001b[0m \u001b[0;34m=\u001b[0m \u001b[0mdf\u001b[0m\u001b[0;34m[\u001b[0m\u001b[0;34m'id'\u001b[0m\u001b[0;34m]\u001b[0m\u001b[0;34m.\u001b[0m\u001b[0mapply\u001b[0m\u001b[0;34m(\u001b[0m\u001b[0mreturn_engagements\u001b[0m\u001b[0;34m)\u001b[0m\u001b[0;34m\u001b[0m\u001b[0;34m\u001b[0m\u001b[0m\n\u001b[0m",
      "\u001b[0;32m/Library/Frameworks/Python.framework/Versions/3.8/lib/python3.8/site-packages/pandas/core/series.py\u001b[0m in \u001b[0;36mapply\u001b[0;34m(self, func, convert_dtype, args, **kwds)\u001b[0m\n\u001b[1;32m   4106\u001b[0m             \u001b[0;32melse\u001b[0m\u001b[0;34m:\u001b[0m\u001b[0;34m\u001b[0m\u001b[0;34m\u001b[0m\u001b[0m\n\u001b[1;32m   4107\u001b[0m                 \u001b[0mvalues\u001b[0m \u001b[0;34m=\u001b[0m \u001b[0mself\u001b[0m\u001b[0;34m.\u001b[0m\u001b[0mastype\u001b[0m\u001b[0;34m(\u001b[0m\u001b[0mobject\u001b[0m\u001b[0;34m)\u001b[0m\u001b[0;34m.\u001b[0m\u001b[0m_values\u001b[0m\u001b[0;34m\u001b[0m\u001b[0;34m\u001b[0m\u001b[0m\n\u001b[0;32m-> 4108\u001b[0;31m                 \u001b[0mmapped\u001b[0m \u001b[0;34m=\u001b[0m \u001b[0mlib\u001b[0m\u001b[0;34m.\u001b[0m\u001b[0mmap_infer\u001b[0m\u001b[0;34m(\u001b[0m\u001b[0mvalues\u001b[0m\u001b[0;34m,\u001b[0m \u001b[0mf\u001b[0m\u001b[0;34m,\u001b[0m \u001b[0mconvert\u001b[0m\u001b[0;34m=\u001b[0m\u001b[0mconvert_dtype\u001b[0m\u001b[0;34m)\u001b[0m\u001b[0;34m\u001b[0m\u001b[0;34m\u001b[0m\u001b[0m\n\u001b[0m\u001b[1;32m   4109\u001b[0m \u001b[0;34m\u001b[0m\u001b[0m\n\u001b[1;32m   4110\u001b[0m         \u001b[0;32mif\u001b[0m \u001b[0mlen\u001b[0m\u001b[0;34m(\u001b[0m\u001b[0mmapped\u001b[0m\u001b[0;34m)\u001b[0m \u001b[0;32mand\u001b[0m \u001b[0misinstance\u001b[0m\u001b[0;34m(\u001b[0m\u001b[0mmapped\u001b[0m\u001b[0;34m[\u001b[0m\u001b[0;36m0\u001b[0m\u001b[0;34m]\u001b[0m\u001b[0;34m,\u001b[0m \u001b[0mSeries\u001b[0m\u001b[0;34m)\u001b[0m\u001b[0;34m:\u001b[0m\u001b[0;34m\u001b[0m\u001b[0;34m\u001b[0m\u001b[0m\n",
      "\u001b[0;32mpandas/_libs/lib.pyx\u001b[0m in \u001b[0;36mpandas._libs.lib.map_infer\u001b[0;34m()\u001b[0m\n",
      "\u001b[0;32m<ipython-input-179-7494a8718745>\u001b[0m in \u001b[0;36mreturn_engagements\u001b[0;34m(nid)\u001b[0m\n\u001b[1;32m      2\u001b[0m     \u001b[0minsight\u001b[0m \u001b[0;34m=\u001b[0m \u001b[0mgraph\u001b[0m\u001b[0;34m.\u001b[0m\u001b[0mget_connections\u001b[0m\u001b[0;34m(\u001b[0m\u001b[0mnid\u001b[0m\u001b[0;34m,\u001b[0m \u001b[0mconnection_name\u001b[0m\u001b[0;34m=\u001b[0m\u001b[0;34m'insights'\u001b[0m\u001b[0;34m,\u001b[0m\u001b[0mmetric\u001b[0m\u001b[0;34m=\u001b[0m\u001b[0;34m'post_activity_by_action_type'\u001b[0m\u001b[0;34m,\u001b[0m \u001b[0mdate_preset\u001b[0m\u001b[0;34m=\u001b[0m\u001b[0;34m'yesterday'\u001b[0m\u001b[0;34m,\u001b[0m \u001b[0mperiod\u001b[0m\u001b[0;34m=\u001b[0m\u001b[0;34m'lifetime'\u001b[0m\u001b[0;34m,\u001b[0m \u001b[0mshow_description_from_api_doc\u001b[0m\u001b[0;34m=\u001b[0m\u001b[0;32mFalse\u001b[0m\u001b[0;34m)\u001b[0m\u001b[0;34m\u001b[0m\u001b[0;34m\u001b[0m\u001b[0m\n\u001b[1;32m      3\u001b[0m     \u001b[0;32mif\u001b[0m \u001b[0mbool\u001b[0m\u001b[0;34m(\u001b[0m\u001b[0minsight\u001b[0m\u001b[0;34m[\u001b[0m\u001b[0;34m'data'\u001b[0m\u001b[0;34m]\u001b[0m\u001b[0;34m[\u001b[0m\u001b[0;36m0\u001b[0m\u001b[0;34m]\u001b[0m\u001b[0;34m[\u001b[0m\u001b[0;34m'values'\u001b[0m\u001b[0;34m]\u001b[0m\u001b[0;34m[\u001b[0m\u001b[0;36m0\u001b[0m\u001b[0;34m]\u001b[0m\u001b[0;34m[\u001b[0m\u001b[0;34m'value'\u001b[0m\u001b[0;34m]\u001b[0m\u001b[0;34m)\u001b[0m \u001b[0;34m==\u001b[0m \u001b[0;32mTrue\u001b[0m\u001b[0;34m:\u001b[0m\u001b[0;34m\u001b[0m\u001b[0;34m\u001b[0m\u001b[0m\n\u001b[0;32m----> 4\u001b[0;31m         \u001b[0;32mreturn\u001b[0m \u001b[0minsight\u001b[0m\u001b[0;34m[\u001b[0m\u001b[0;34m'data'\u001b[0m\u001b[0;34m]\u001b[0m\u001b[0;34m[\u001b[0m\u001b[0;36m0\u001b[0m\u001b[0;34m]\u001b[0m\u001b[0;34m[\u001b[0m\u001b[0;34m'values'\u001b[0m\u001b[0;34m]\u001b[0m\u001b[0;34m[\u001b[0m\u001b[0;36m0\u001b[0m\u001b[0;34m]\u001b[0m\u001b[0;34m[\u001b[0m\u001b[0;34m'value'\u001b[0m\u001b[0;34m]\u001b[0m\u001b[0;34m[\u001b[0m\u001b[0;34m'like'\u001b[0m\u001b[0;34m]\u001b[0m\u001b[0;34m\u001b[0m\u001b[0;34m\u001b[0m\u001b[0m\n\u001b[0m",
      "\u001b[0;31mKeyError\u001b[0m: 'like'"
     ]
    }
   ],
   "source": [
    "df['likes'] = df['id'].apyply(return_engagements)"
   ]
  },
  {
   "cell_type": "code",
   "execution_count": 183,
   "metadata": {},
   "outputs": [
    {
     "output_type": "error",
     "ename": "KeyError",
     "evalue": "'likes'",
     "traceback": [
      "\u001b[0;31m---------------------------------------------------------------------------\u001b[0m",
      "\u001b[0;31mKeyError\u001b[0m                                  Traceback (most recent call last)",
      "\u001b[0;32m/Library/Frameworks/Python.framework/Versions/3.8/lib/python3.8/site-packages/pandas/core/indexes/base.py\u001b[0m in \u001b[0;36mget_loc\u001b[0;34m(self, key, method, tolerance)\u001b[0m\n\u001b[1;32m   3079\u001b[0m             \u001b[0;32mtry\u001b[0m\u001b[0;34m:\u001b[0m\u001b[0;34m\u001b[0m\u001b[0;34m\u001b[0m\u001b[0m\n\u001b[0;32m-> 3080\u001b[0;31m                 \u001b[0;32mreturn\u001b[0m \u001b[0mself\u001b[0m\u001b[0;34m.\u001b[0m\u001b[0m_engine\u001b[0m\u001b[0;34m.\u001b[0m\u001b[0mget_loc\u001b[0m\u001b[0;34m(\u001b[0m\u001b[0mcasted_key\u001b[0m\u001b[0;34m)\u001b[0m\u001b[0;34m\u001b[0m\u001b[0;34m\u001b[0m\u001b[0m\n\u001b[0m\u001b[1;32m   3081\u001b[0m             \u001b[0;32mexcept\u001b[0m \u001b[0mKeyError\u001b[0m \u001b[0;32mas\u001b[0m \u001b[0merr\u001b[0m\u001b[0;34m:\u001b[0m\u001b[0;34m\u001b[0m\u001b[0;34m\u001b[0m\u001b[0m\n",
      "\u001b[0;32mpandas/_libs/index.pyx\u001b[0m in \u001b[0;36mpandas._libs.index.IndexEngine.get_loc\u001b[0;34m()\u001b[0m\n",
      "\u001b[0;32mpandas/_libs/index.pyx\u001b[0m in \u001b[0;36mpandas._libs.index.IndexEngine.get_loc\u001b[0;34m()\u001b[0m\n",
      "\u001b[0;32mpandas/_libs/hashtable_class_helper.pxi\u001b[0m in \u001b[0;36mpandas._libs.hashtable.PyObjectHashTable.get_item\u001b[0;34m()\u001b[0m\n",
      "\u001b[0;32mpandas/_libs/hashtable_class_helper.pxi\u001b[0m in \u001b[0;36mpandas._libs.hashtable.PyObjectHashTable.get_item\u001b[0;34m()\u001b[0m\n",
      "\u001b[0;31mKeyError\u001b[0m: 'likes'",
      "\nThe above exception was the direct cause of the following exception:\n",
      "\u001b[0;31mKeyError\u001b[0m                                  Traceback (most recent call last)",
      "\u001b[0;32m<ipython-input-183-ef84decd3f9b>\u001b[0m in \u001b[0;36m<module>\u001b[0;34m\u001b[0m\n\u001b[0;32m----> 1\u001b[0;31m \u001b[0mdf\u001b[0m\u001b[0;34m[\u001b[0m\u001b[0;34m\"likes\"\u001b[0m\u001b[0;34m]\u001b[0m\u001b[0;34m\u001b[0m\u001b[0;34m\u001b[0m\u001b[0m\n\u001b[0m",
      "\u001b[0;32m/Library/Frameworks/Python.framework/Versions/3.8/lib/python3.8/site-packages/pandas/core/frame.py\u001b[0m in \u001b[0;36m__getitem__\u001b[0;34m(self, key)\u001b[0m\n\u001b[1;32m   3022\u001b[0m             \u001b[0;32mif\u001b[0m \u001b[0mself\u001b[0m\u001b[0;34m.\u001b[0m\u001b[0mcolumns\u001b[0m\u001b[0;34m.\u001b[0m\u001b[0mnlevels\u001b[0m \u001b[0;34m>\u001b[0m \u001b[0;36m1\u001b[0m\u001b[0;34m:\u001b[0m\u001b[0;34m\u001b[0m\u001b[0;34m\u001b[0m\u001b[0m\n\u001b[1;32m   3023\u001b[0m                 \u001b[0;32mreturn\u001b[0m \u001b[0mself\u001b[0m\u001b[0;34m.\u001b[0m\u001b[0m_getitem_multilevel\u001b[0m\u001b[0;34m(\u001b[0m\u001b[0mkey\u001b[0m\u001b[0;34m)\u001b[0m\u001b[0;34m\u001b[0m\u001b[0;34m\u001b[0m\u001b[0m\n\u001b[0;32m-> 3024\u001b[0;31m             \u001b[0mindexer\u001b[0m \u001b[0;34m=\u001b[0m \u001b[0mself\u001b[0m\u001b[0;34m.\u001b[0m\u001b[0mcolumns\u001b[0m\u001b[0;34m.\u001b[0m\u001b[0mget_loc\u001b[0m\u001b[0;34m(\u001b[0m\u001b[0mkey\u001b[0m\u001b[0;34m)\u001b[0m\u001b[0;34m\u001b[0m\u001b[0;34m\u001b[0m\u001b[0m\n\u001b[0m\u001b[1;32m   3025\u001b[0m             \u001b[0;32mif\u001b[0m \u001b[0mis_integer\u001b[0m\u001b[0;34m(\u001b[0m\u001b[0mindexer\u001b[0m\u001b[0;34m)\u001b[0m\u001b[0;34m:\u001b[0m\u001b[0;34m\u001b[0m\u001b[0;34m\u001b[0m\u001b[0m\n\u001b[1;32m   3026\u001b[0m                 \u001b[0mindexer\u001b[0m \u001b[0;34m=\u001b[0m \u001b[0;34m[\u001b[0m\u001b[0mindexer\u001b[0m\u001b[0;34m]\u001b[0m\u001b[0;34m\u001b[0m\u001b[0;34m\u001b[0m\u001b[0m\n",
      "\u001b[0;32m/Library/Frameworks/Python.framework/Versions/3.8/lib/python3.8/site-packages/pandas/core/indexes/base.py\u001b[0m in \u001b[0;36mget_loc\u001b[0;34m(self, key, method, tolerance)\u001b[0m\n\u001b[1;32m   3080\u001b[0m                 \u001b[0;32mreturn\u001b[0m \u001b[0mself\u001b[0m\u001b[0;34m.\u001b[0m\u001b[0m_engine\u001b[0m\u001b[0;34m.\u001b[0m\u001b[0mget_loc\u001b[0m\u001b[0;34m(\u001b[0m\u001b[0mcasted_key\u001b[0m\u001b[0;34m)\u001b[0m\u001b[0;34m\u001b[0m\u001b[0;34m\u001b[0m\u001b[0m\n\u001b[1;32m   3081\u001b[0m             \u001b[0;32mexcept\u001b[0m \u001b[0mKeyError\u001b[0m \u001b[0;32mas\u001b[0m \u001b[0merr\u001b[0m\u001b[0;34m:\u001b[0m\u001b[0;34m\u001b[0m\u001b[0;34m\u001b[0m\u001b[0m\n\u001b[0;32m-> 3082\u001b[0;31m                 \u001b[0;32mraise\u001b[0m \u001b[0mKeyError\u001b[0m\u001b[0;34m(\u001b[0m\u001b[0mkey\u001b[0m\u001b[0;34m)\u001b[0m \u001b[0;32mfrom\u001b[0m \u001b[0merr\u001b[0m\u001b[0;34m\u001b[0m\u001b[0;34m\u001b[0m\u001b[0m\n\u001b[0m\u001b[1;32m   3083\u001b[0m \u001b[0;34m\u001b[0m\u001b[0m\n\u001b[1;32m   3084\u001b[0m         \u001b[0;32mif\u001b[0m \u001b[0mtolerance\u001b[0m \u001b[0;32mis\u001b[0m \u001b[0;32mnot\u001b[0m \u001b[0;32mNone\u001b[0m\u001b[0;34m:\u001b[0m\u001b[0;34m\u001b[0m\u001b[0;34m\u001b[0m\u001b[0m\n",
      "\u001b[0;31mKeyError\u001b[0m: 'likes'"
     ]
    }
   ],
   "source": [
    "df[\"likes\"]"
   ]
  }
 ]
}