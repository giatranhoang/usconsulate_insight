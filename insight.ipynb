{
 "metadata": {
  "language_info": {
   "codemirror_mode": {
    "name": "ipython",
    "version": 3
   },
   "file_extension": ".py",
   "mimetype": "text/x-python",
   "name": "python",
   "nbconvert_exporter": "python",
   "pygments_lexer": "ipython3",
   "version": "3.8.7"
  },
  "orig_nbformat": 2,
  "kernelspec": {
   "name": "python3",
   "display_name": "Python 3.8.7 64-bit",
   "metadata": {
    "interpreter": {
     "hash": "aee8b7b246df8f9039afb4144a1f6fd8d2ca17a180786b69acc140d282b71a49"
    }
   }
  }
 },
 "nbformat": 4,
 "nbformat_minor": 2,
 "cells": [
  {
   "cell_type": "code",
   "execution_count": 3,
   "metadata": {},
   "outputs": [],
   "source": [
    "import pandas as pd\n",
    "import json\n",
    "import requests\n",
    "from pandas.io.json import json_normalize\n",
    "import facebook as facebook\n",
    "from datetime import datetime"
   ]
  },
  {
   "cell_type": "code",
   "execution_count": 33,
   "metadata": {},
   "outputs": [],
   "source": [
    "graph = facebook.GraphAPI(access_token=\"EAABnlB7bWhcBABde3nVXzemP41sx4mnAua62zr7vQZBkP4cfZAR0HEZAIesfJSsTjZBzCHZBsrFDSDRDMaKjGBgtMyjUc5wcS7iZC5gUNAHmJoZCcSO9tJ3yKUA6lUhxifvGXTRbOie58jn3WL8j2jtkydlf282TSHuMcIAW7PUaP6PgIWzz62ut0wLXo8Yf7QZD\", version=\"3.1\")"
   ]
  },
  {
   "cell_type": "code",
   "execution_count": 136,
   "metadata": {},
   "outputs": [],
   "source": [
    "allposts = graph.get_all_connections(id='165419643537532', connection_name ='posts', fields ='created_time, id, message, status_type, permalink_url, full_picture, message_tags, with_tags')"
   ]
  },
  {
   "cell_type": "code",
   "execution_count": 4,
   "metadata": {},
   "outputs": [],
   "source": [
    "df = pd.read_csv(\"20210404_Posts.csv\")"
   ]
  },
  {
   "cell_type": "code",
   "execution_count": 119,
   "metadata": {},
   "outputs": [
    {
     "output_type": "execute_result",
     "data": {
      "text/plain": [
       "<generator object GraphAPI.get_all_connections at 0x7fc41b96c0b0>"
      ]
     },
     "metadata": {},
     "execution_count": 119
    }
   ],
   "source": [
    "allposts"
   ]
  },
  {
   "cell_type": "code",
   "execution_count": 137,
   "metadata": {},
   "outputs": [],
   "source": [
    "ab = list(allposts)"
   ]
  },
  {
   "cell_type": "code",
   "execution_count": 138,
   "metadata": {},
   "outputs": [],
   "source": [
    "df = pd.DataFrame(ab)"
   ]
  },
  {
   "cell_type": "code",
   "execution_count": 103,
   "metadata": {},
   "outputs": [
    {
     "output_type": "execute_result",
     "data": {
      "text/plain": [
       "      Unnamed: 0              created_time                                id  \\\n",
       "0              0  2021-04-04T02:15:00+0000  165419643537532_3859131857499607   \n",
       "1              1  2021-04-03T12:48:00+0000  165419643537532_3855602657852527   \n",
       "2              2  2021-04-02T12:34:00+0000  165419643537532_3859056144173845   \n",
       "3              3  2021-04-02T08:53:25+0000   165419643537532_505717244145146   \n",
       "4              4  2021-04-02T07:38:53+0000   165419643537532_218596766710290   \n",
       "...          ...                       ...                               ...   \n",
       "6523        6523  2011-10-03T08:53:12+0000   165419643537532_176095189136644   \n",
       "6524        6524  2011-09-30T15:05:30+0000   165419643537532_175001792579317   \n",
       "6525        6525  2011-09-30T06:29:49+0000   165419643537532_174882175924612   \n",
       "6526        6526  2011-09-28T03:15:16+0000   165419643537532_174031516009678   \n",
       "6527        6527  2011-09-14T12:20:12+0000   165419643537532_168350943244402   \n",
       "\n",
       "                                                message           status_type  \\\n",
       "0     ⚡️ 𝐂𝐚̣̂𝐩 𝐧𝐡𝐚̣̂𝐭 𝐯𝐞̂̀ 𝐭𝐡𝐢̣ 𝐭𝐡𝐮̛̣𝐜 𝐤𝐡𝐨̂𝐧𝐠 đ𝐢̣𝐧𝐡 ...          added_photos   \n",
       "1     💡 𝐓𝐢𝐩 𝐨𝐟 𝐭𝐡𝐞 𝐖𝐞𝐞𝐤: This month’s American Citiz...          added_photos   \n",
       "2     🇺🇸🤝🇻🇳 Bộ trưởng Bộ Y tế Nguyễn Thanh Long và Đ...          added_photos   \n",
       "3                                                   NaN         created_event   \n",
       "4                                                   NaN         created_event   \n",
       "...                                                 ...                   ...   \n",
       "6523  On September 23, to mark a World Heart Day and...          added_photos   \n",
       "6524                                                NaN          added_photos   \n",
       "6525                                                NaN          added_photos   \n",
       "6526  The American Center - Grand Opening September ...  mobile_status_update   \n",
       "6527                                                NaN          added_photos   \n",
       "\n",
       "                                          permalink_url  \\\n",
       "0     https://www.facebook.com/165419643537532/posts...   \n",
       "1     https://www.facebook.com/165419643537532/posts...   \n",
       "2     https://www.facebook.com/165419643537532/posts...   \n",
       "3      https://www.facebook.com/events/505717244145146/   \n",
       "4      https://www.facebook.com/events/218596766710290/   \n",
       "...                                                 ...   \n",
       "6523  https://www.facebook.com/USConsulateHCMC/photo...   \n",
       "6524  https://www.facebook.com/USConsulateHCMC/photo...   \n",
       "6525  https://www.facebook.com/USConsulateHCMC/photo...   \n",
       "6526  https://www.facebook.com/165419643537532/posts...   \n",
       "6527  https://www.facebook.com/USConsulateHCMC/photo...   \n",
       "\n",
       "                                           full_picture message_tags  likes  \n",
       "0     https://scontent.fsgn2-4.fna.fbcdn.net/v/t1.64...           []  294.0  \n",
       "1     https://scontent.fsgn2-2.fna.fbcdn.net/v/t1.64...           []   40.0  \n",
       "2     https://scontent.fsgn2-3.fna.fbcdn.net/v/t1.64...          NaN  288.0  \n",
       "3     https://scontent.fsgn2-3.fna.fbcdn.net/v/t1.64...          NaN    0.0  \n",
       "4     https://scontent.fsgn2-5.fna.fbcdn.net/v/t1.64...          NaN    0.0  \n",
       "...                                                 ...          ...    ...  \n",
       "6523  https://scontent.fsgn2-5.fna.fbcdn.net/v/t1.18...          NaN    0.0  \n",
       "6524  https://scontent.fsgn2-2.fna.fbcdn.net/v/t1.18...          NaN    0.0  \n",
       "6525  https://scontent.fsgn2-3.fna.fbcdn.net/v/t1.18...          NaN    0.0  \n",
       "6526                                                NaN          NaN    0.0  \n",
       "6527  https://scontent.fsgn2-3.fna.fbcdn.net/v/t1.18...          NaN    0.0  \n",
       "\n",
       "[6528 rows x 9 columns]"
      ],
      "text/html": "<div>\n<style scoped>\n    .dataframe tbody tr th:only-of-type {\n        vertical-align: middle;\n    }\n\n    .dataframe tbody tr th {\n        vertical-align: top;\n    }\n\n    .dataframe thead th {\n        text-align: right;\n    }\n</style>\n<table border=\"1\" class=\"dataframe\">\n  <thead>\n    <tr style=\"text-align: right;\">\n      <th></th>\n      <th>Unnamed: 0</th>\n      <th>created_time</th>\n      <th>id</th>\n      <th>message</th>\n      <th>status_type</th>\n      <th>permalink_url</th>\n      <th>full_picture</th>\n      <th>message_tags</th>\n      <th>likes</th>\n    </tr>\n  </thead>\n  <tbody>\n    <tr>\n      <th>0</th>\n      <td>0</td>\n      <td>2021-04-04T02:15:00+0000</td>\n      <td>165419643537532_3859131857499607</td>\n      <td>⚡️ 𝐂𝐚̣̂𝐩 𝐧𝐡𝐚̣̂𝐭 𝐯𝐞̂̀ 𝐭𝐡𝐢̣ 𝐭𝐡𝐮̛̣𝐜 𝐤𝐡𝐨̂𝐧𝐠 đ𝐢̣𝐧𝐡 ...</td>\n      <td>added_photos</td>\n      <td>https://www.facebook.com/165419643537532/posts...</td>\n      <td>https://scontent.fsgn2-4.fna.fbcdn.net/v/t1.64...</td>\n      <td>[]</td>\n      <td>294.0</td>\n    </tr>\n    <tr>\n      <th>1</th>\n      <td>1</td>\n      <td>2021-04-03T12:48:00+0000</td>\n      <td>165419643537532_3855602657852527</td>\n      <td>💡 𝐓𝐢𝐩 𝐨𝐟 𝐭𝐡𝐞 𝐖𝐞𝐞𝐤: This month’s American Citiz...</td>\n      <td>added_photos</td>\n      <td>https://www.facebook.com/165419643537532/posts...</td>\n      <td>https://scontent.fsgn2-2.fna.fbcdn.net/v/t1.64...</td>\n      <td>[]</td>\n      <td>40.0</td>\n    </tr>\n    <tr>\n      <th>2</th>\n      <td>2</td>\n      <td>2021-04-02T12:34:00+0000</td>\n      <td>165419643537532_3859056144173845</td>\n      <td>🇺🇸🤝🇻🇳 Bộ trưởng Bộ Y tế Nguyễn Thanh Long và Đ...</td>\n      <td>added_photos</td>\n      <td>https://www.facebook.com/165419643537532/posts...</td>\n      <td>https://scontent.fsgn2-3.fna.fbcdn.net/v/t1.64...</td>\n      <td>NaN</td>\n      <td>288.0</td>\n    </tr>\n    <tr>\n      <th>3</th>\n      <td>3</td>\n      <td>2021-04-02T08:53:25+0000</td>\n      <td>165419643537532_505717244145146</td>\n      <td>NaN</td>\n      <td>created_event</td>\n      <td>https://www.facebook.com/events/505717244145146/</td>\n      <td>https://scontent.fsgn2-3.fna.fbcdn.net/v/t1.64...</td>\n      <td>NaN</td>\n      <td>0.0</td>\n    </tr>\n    <tr>\n      <th>4</th>\n      <td>4</td>\n      <td>2021-04-02T07:38:53+0000</td>\n      <td>165419643537532_218596766710290</td>\n      <td>NaN</td>\n      <td>created_event</td>\n      <td>https://www.facebook.com/events/218596766710290/</td>\n      <td>https://scontent.fsgn2-5.fna.fbcdn.net/v/t1.64...</td>\n      <td>NaN</td>\n      <td>0.0</td>\n    </tr>\n    <tr>\n      <th>...</th>\n      <td>...</td>\n      <td>...</td>\n      <td>...</td>\n      <td>...</td>\n      <td>...</td>\n      <td>...</td>\n      <td>...</td>\n      <td>...</td>\n      <td>...</td>\n    </tr>\n    <tr>\n      <th>6523</th>\n      <td>6523</td>\n      <td>2011-10-03T08:53:12+0000</td>\n      <td>165419643537532_176095189136644</td>\n      <td>On September 23, to mark a World Heart Day and...</td>\n      <td>added_photos</td>\n      <td>https://www.facebook.com/USConsulateHCMC/photo...</td>\n      <td>https://scontent.fsgn2-5.fna.fbcdn.net/v/t1.18...</td>\n      <td>NaN</td>\n      <td>0.0</td>\n    </tr>\n    <tr>\n      <th>6524</th>\n      <td>6524</td>\n      <td>2011-09-30T15:05:30+0000</td>\n      <td>165419643537532_175001792579317</td>\n      <td>NaN</td>\n      <td>added_photos</td>\n      <td>https://www.facebook.com/USConsulateHCMC/photo...</td>\n      <td>https://scontent.fsgn2-2.fna.fbcdn.net/v/t1.18...</td>\n      <td>NaN</td>\n      <td>0.0</td>\n    </tr>\n    <tr>\n      <th>6525</th>\n      <td>6525</td>\n      <td>2011-09-30T06:29:49+0000</td>\n      <td>165419643537532_174882175924612</td>\n      <td>NaN</td>\n      <td>added_photos</td>\n      <td>https://www.facebook.com/USConsulateHCMC/photo...</td>\n      <td>https://scontent.fsgn2-3.fna.fbcdn.net/v/t1.18...</td>\n      <td>NaN</td>\n      <td>0.0</td>\n    </tr>\n    <tr>\n      <th>6526</th>\n      <td>6526</td>\n      <td>2011-09-28T03:15:16+0000</td>\n      <td>165419643537532_174031516009678</td>\n      <td>The American Center - Grand Opening September ...</td>\n      <td>mobile_status_update</td>\n      <td>https://www.facebook.com/165419643537532/posts...</td>\n      <td>NaN</td>\n      <td>NaN</td>\n      <td>0.0</td>\n    </tr>\n    <tr>\n      <th>6527</th>\n      <td>6527</td>\n      <td>2011-09-14T12:20:12+0000</td>\n      <td>165419643537532_168350943244402</td>\n      <td>NaN</td>\n      <td>added_photos</td>\n      <td>https://www.facebook.com/USConsulateHCMC/photo...</td>\n      <td>https://scontent.fsgn2-3.fna.fbcdn.net/v/t1.18...</td>\n      <td>NaN</td>\n      <td>0.0</td>\n    </tr>\n  </tbody>\n</table>\n<p>6528 rows × 9 columns</p>\n</div>"
     },
     "metadata": {},
     "execution_count": 103
    }
   ],
   "source": [
    "df"
   ]
  },
  {
   "cell_type": "code",
   "execution_count": 140,
   "metadata": {},
   "outputs": [],
   "source": [
    "df.to_csv(\"20210404_Posts.csv\")"
   ]
  },
  {
   "cell_type": "code",
   "execution_count": 154,
   "metadata": {},
   "outputs": [
    {
     "output_type": "execute_result",
     "data": {
      "text/plain": [
       "                  created_time                                id  \\\n",
       "0     2021-04-04T02:15:00+0000  165419643537532_3859131857499607   \n",
       "1     2021-04-03T12:48:00+0000  165419643537532_3855602657852527   \n",
       "7     2021-04-01T11:08:00+0000  165419643537532_3856463221099804   \n",
       "11    2021-04-01T01:20:02+0000  165419643537532_3853500094729450   \n",
       "12    2021-03-31T14:00:07+0000   165419643537532_475554033759018   \n",
       "...                        ...                               ...   \n",
       "6509  2011-10-17T06:54:22+0000   165419643537532_227464453980948   \n",
       "6514  2011-10-13T14:24:12+0000   165419643537532_180324642047032   \n",
       "6516  2011-10-12T06:19:30+0000   165419643537532_179789732100523   \n",
       "6517  2011-10-12T06:03:43+0000   165419643537532_179787395434090   \n",
       "6518  2011-10-12T03:02:01+0000   165419643537532_179748328771330   \n",
       "\n",
       "                                                message           status_type  \\\n",
       "0     ⚡️ 𝐂𝐚̣̂𝐩 𝐧𝐡𝐚̣̂𝐭 𝐯𝐞̂̀ 𝐭𝐡𝐢̣ 𝐭𝐡𝐮̛̣𝐜 𝐤𝐡𝐨̂𝐧𝐠 đ𝐢̣𝐧𝐡 ...          added_photos   \n",
       "1     💡 𝐓𝐢𝐩 𝐨𝐟 𝐭𝐡𝐞 𝐖𝐞𝐞𝐤: This month’s American Citiz...          added_photos   \n",
       "7     #ĐạisứKritenbrink: Hoa Kỳ vui mừng chào đón lô...          added_photos   \n",
       "11    Ngày mai là Ngày Nhận thức về Tự kỷ Thế giới 💙...          added_photos   \n",
       "12    Chào mừng đến với Phần 2 | Tập 3 của ACTV 📺!\\n...           added_video   \n",
       "...                                                 ...                   ...   \n",
       "6509  Sept. 16, 2011: Remarks by Secretary Clinton a...          shared_story   \n",
       "6514  The Public Affairs Section of the U.S. Embassy...  mobile_status_update   \n",
       "6516  A photo contest sponsored by the U.S. Departme...          added_photos   \n",
       "6517  Let's makes friends with these students from S...          added_photos   \n",
       "6518  Study of the United States Institutes (SUSI) f...  mobile_status_update   \n",
       "\n",
       "                                          permalink_url  \\\n",
       "0     https://www.facebook.com/165419643537532/posts...   \n",
       "1     https://www.facebook.com/165419643537532/posts...   \n",
       "7     https://www.facebook.com/165419643537532/posts...   \n",
       "11    https://www.facebook.com/165419643537532/posts...   \n",
       "12    https://www.facebook.com/USConsulateHCMC/video...   \n",
       "...                                                 ...   \n",
       "6509  https://www.facebook.com/165419643537532/posts...   \n",
       "6514  https://www.facebook.com/165419643537532/posts...   \n",
       "6516  https://www.facebook.com/USConsulateHCMC/photo...   \n",
       "6517  https://www.facebook.com/USConsulateHCMC/photo...   \n",
       "6518  https://www.facebook.com/165419643537532/posts...   \n",
       "\n",
       "                                           full_picture  \\\n",
       "0     https://scontent.fsgn2-4.fna.fbcdn.net/v/t1.64...   \n",
       "1     https://scontent.fsgn2-2.fna.fbcdn.net/v/t1.64...   \n",
       "7     https://scontent.fsgn2-1.fna.fbcdn.net/v/t1.64...   \n",
       "11    https://scontent.fsgn2-5.fna.fbcdn.net/v/t1.64...   \n",
       "12    https://scontent.fsgn2-4.fna.fbcdn.net/v/t15.5...   \n",
       "...                                                 ...   \n",
       "6509  https://external.fsgn2-2.fna.fbcdn.net/safe_im...   \n",
       "6514                                                NaN   \n",
       "6516  https://scontent.fsgn2-3.fna.fbcdn.net/v/t31.1...   \n",
       "6517  https://scontent.fsgn2-1.fna.fbcdn.net/v/t1.18...   \n",
       "6518                                                NaN   \n",
       "\n",
       "                                           message_tags  \n",
       "0                                                    []  \n",
       "1                                                    []  \n",
       "7     [{'id': '62690599685', 'name': 'USAID - US Age...  \n",
       "11    [{'id': '2434525386667828', 'name': '#thắpđènx...  \n",
       "12    [{'id': '612012588812093', 'name': '#WomensHis...  \n",
       "...                                                 ...  \n",
       "6509                                                 []  \n",
       "6514                                                 []  \n",
       "6516                                                 []  \n",
       "6517                                                 []  \n",
       "6518                                                 []  \n",
       "\n",
       "[3376 rows x 7 columns]"
      ],
      "text/html": "<div>\n<style scoped>\n    .dataframe tbody tr th:only-of-type {\n        vertical-align: middle;\n    }\n\n    .dataframe tbody tr th {\n        vertical-align: top;\n    }\n\n    .dataframe thead th {\n        text-align: right;\n    }\n</style>\n<table border=\"1\" class=\"dataframe\">\n  <thead>\n    <tr style=\"text-align: right;\">\n      <th></th>\n      <th>created_time</th>\n      <th>id</th>\n      <th>message</th>\n      <th>status_type</th>\n      <th>permalink_url</th>\n      <th>full_picture</th>\n      <th>message_tags</th>\n    </tr>\n  </thead>\n  <tbody>\n    <tr>\n      <th>0</th>\n      <td>2021-04-04T02:15:00+0000</td>\n      <td>165419643537532_3859131857499607</td>\n      <td>⚡️ 𝐂𝐚̣̂𝐩 𝐧𝐡𝐚̣̂𝐭 𝐯𝐞̂̀ 𝐭𝐡𝐢̣ 𝐭𝐡𝐮̛̣𝐜 𝐤𝐡𝐨̂𝐧𝐠 đ𝐢̣𝐧𝐡 ...</td>\n      <td>added_photos</td>\n      <td>https://www.facebook.com/165419643537532/posts...</td>\n      <td>https://scontent.fsgn2-4.fna.fbcdn.net/v/t1.64...</td>\n      <td>[]</td>\n    </tr>\n    <tr>\n      <th>1</th>\n      <td>2021-04-03T12:48:00+0000</td>\n      <td>165419643537532_3855602657852527</td>\n      <td>💡 𝐓𝐢𝐩 𝐨𝐟 𝐭𝐡𝐞 𝐖𝐞𝐞𝐤: This month’s American Citiz...</td>\n      <td>added_photos</td>\n      <td>https://www.facebook.com/165419643537532/posts...</td>\n      <td>https://scontent.fsgn2-2.fna.fbcdn.net/v/t1.64...</td>\n      <td>[]</td>\n    </tr>\n    <tr>\n      <th>7</th>\n      <td>2021-04-01T11:08:00+0000</td>\n      <td>165419643537532_3856463221099804</td>\n      <td>#ĐạisứKritenbrink: Hoa Kỳ vui mừng chào đón lô...</td>\n      <td>added_photos</td>\n      <td>https://www.facebook.com/165419643537532/posts...</td>\n      <td>https://scontent.fsgn2-1.fna.fbcdn.net/v/t1.64...</td>\n      <td>[{'id': '62690599685', 'name': 'USAID - US Age...</td>\n    </tr>\n    <tr>\n      <th>11</th>\n      <td>2021-04-01T01:20:02+0000</td>\n      <td>165419643537532_3853500094729450</td>\n      <td>Ngày mai là Ngày Nhận thức về Tự kỷ Thế giới 💙...</td>\n      <td>added_photos</td>\n      <td>https://www.facebook.com/165419643537532/posts...</td>\n      <td>https://scontent.fsgn2-5.fna.fbcdn.net/v/t1.64...</td>\n      <td>[{'id': '2434525386667828', 'name': '#thắpđènx...</td>\n    </tr>\n    <tr>\n      <th>12</th>\n      <td>2021-03-31T14:00:07+0000</td>\n      <td>165419643537532_475554033759018</td>\n      <td>Chào mừng đến với Phần 2 | Tập 3 của ACTV 📺!\\n...</td>\n      <td>added_video</td>\n      <td>https://www.facebook.com/USConsulateHCMC/video...</td>\n      <td>https://scontent.fsgn2-4.fna.fbcdn.net/v/t15.5...</td>\n      <td>[{'id': '612012588812093', 'name': '#WomensHis...</td>\n    </tr>\n    <tr>\n      <th>...</th>\n      <td>...</td>\n      <td>...</td>\n      <td>...</td>\n      <td>...</td>\n      <td>...</td>\n      <td>...</td>\n      <td>...</td>\n    </tr>\n    <tr>\n      <th>6509</th>\n      <td>2011-10-17T06:54:22+0000</td>\n      <td>165419643537532_227464453980948</td>\n      <td>Sept. 16, 2011: Remarks by Secretary Clinton a...</td>\n      <td>shared_story</td>\n      <td>https://www.facebook.com/165419643537532/posts...</td>\n      <td>https://external.fsgn2-2.fna.fbcdn.net/safe_im...</td>\n      <td>[]</td>\n    </tr>\n    <tr>\n      <th>6514</th>\n      <td>2011-10-13T14:24:12+0000</td>\n      <td>165419643537532_180324642047032</td>\n      <td>The Public Affairs Section of the U.S. Embassy...</td>\n      <td>mobile_status_update</td>\n      <td>https://www.facebook.com/165419643537532/posts...</td>\n      <td>NaN</td>\n      <td>[]</td>\n    </tr>\n    <tr>\n      <th>6516</th>\n      <td>2011-10-12T06:19:30+0000</td>\n      <td>165419643537532_179789732100523</td>\n      <td>A photo contest sponsored by the U.S. Departme...</td>\n      <td>added_photos</td>\n      <td>https://www.facebook.com/USConsulateHCMC/photo...</td>\n      <td>https://scontent.fsgn2-3.fna.fbcdn.net/v/t31.1...</td>\n      <td>[]</td>\n    </tr>\n    <tr>\n      <th>6517</th>\n      <td>2011-10-12T06:03:43+0000</td>\n      <td>165419643537532_179787395434090</td>\n      <td>Let's makes friends with these students from S...</td>\n      <td>added_photos</td>\n      <td>https://www.facebook.com/USConsulateHCMC/photo...</td>\n      <td>https://scontent.fsgn2-1.fna.fbcdn.net/v/t1.18...</td>\n      <td>[]</td>\n    </tr>\n    <tr>\n      <th>6518</th>\n      <td>2011-10-12T03:02:01+0000</td>\n      <td>165419643537532_179748328771330</td>\n      <td>Study of the United States Institutes (SUSI) f...</td>\n      <td>mobile_status_update</td>\n      <td>https://www.facebook.com/165419643537532/posts...</td>\n      <td>NaN</td>\n      <td>[]</td>\n    </tr>\n  </tbody>\n</table>\n<p>3376 rows × 7 columns</p>\n</div>"
     },
     "metadata": {},
     "execution_count": 154
    }
   ],
   "source": [
    "df[df[\"message_tags\"].notnull()]"
   ]
  },
  {
   "cell_type": "code",
   "execution_count": 153,
   "metadata": {},
   "outputs": [
    {
     "output_type": "execute_result",
     "data": {
      "text/plain": [
       "                  created_time                                id  \\\n",
       "7     2021-04-01T11:08:00+0000  165419643537532_3856463221099804   \n",
       "11    2021-04-01T01:20:02+0000  165419643537532_3853500094729450   \n",
       "12    2021-03-31T14:00:07+0000   165419643537532_475554033759018   \n",
       "13    2021-03-31T12:55:32+0000  165419643537532_3853965321349594   \n",
       "14    2021-03-31T09:19:00+0000  165419643537532_3853483328064460   \n",
       "...                        ...                               ...   \n",
       "5814  2012-10-01T09:36:54+0000   165419643537532_109811402509108   \n",
       "5864  2012-09-10T15:44:42+0000   165419643537532_357768487635979   \n",
       "6057  2012-06-27T16:22:13+0000   165419643537532_492784527402505   \n",
       "6130  2012-05-25T09:26:09+0000   165419643537532_222214201231444   \n",
       "6174  2012-05-03T12:40:36+0000   165419643537532_117375465065472   \n",
       "\n",
       "                                                message           status_type  \\\n",
       "7     #ĐạisứKritenbrink: Hoa Kỳ vui mừng chào đón lô...          added_photos   \n",
       "11    Ngày mai là Ngày Nhận thức về Tự kỷ Thế giới 💙...          added_photos   \n",
       "12    Chào mừng đến với Phần 2 | Tập 3 của ACTV 📺!\\n...           added_video   \n",
       "13    Chào mừng đến với Phần 2 | Tập 3 của ACTV 📺!\\n...  mobile_status_update   \n",
       "14    Cam kết đối với những quyền không thể bị tước ...          added_photos   \n",
       "...                                                 ...                   ...   \n",
       "5814  Hôm nay trời mưa dữ quá.  Hy vọng ngày mai trờ...          shared_story   \n",
       "5864  Mời các bạn tham dự câu lạc bộ tiếng Anh thườn...  mobile_status_update   \n",
       "6057  Bà con đừng quên chương trình hay ngày thứ sáu...          shared_story   \n",
       "6130  On May 24, Secretary Clinton released the annu...          shared_story   \n",
       "6174  Hi all,\\n\\nPlease see below AC's next program ...          shared_story   \n",
       "\n",
       "                                          permalink_url  \\\n",
       "7     https://www.facebook.com/165419643537532/posts...   \n",
       "11    https://www.facebook.com/165419643537532/posts...   \n",
       "12    https://www.facebook.com/USConsulateHCMC/video...   \n",
       "13    https://www.facebook.com/165419643537532/posts...   \n",
       "14    https://www.facebook.com/165419643537532/posts...   \n",
       "...                                                 ...   \n",
       "5814  https://www.facebook.com/165419643537532/posts...   \n",
       "5864  https://www.facebook.com/165419643537532/posts...   \n",
       "6057  https://www.facebook.com/165419643537532/posts...   \n",
       "6130  https://www.facebook.com/165419643537532/posts...   \n",
       "6174  https://www.facebook.com/165419643537532/posts...   \n",
       "\n",
       "                                           full_picture  \\\n",
       "7     https://scontent.fsgn2-1.fna.fbcdn.net/v/t1.64...   \n",
       "11    https://scontent.fsgn2-5.fna.fbcdn.net/v/t1.64...   \n",
       "12    https://scontent.fsgn2-4.fna.fbcdn.net/v/t15.5...   \n",
       "13                                                  NaN   \n",
       "14    https://scontent.fsgn2-5.fna.fbcdn.net/v/t1.64...   \n",
       "...                                                 ...   \n",
       "5814                                                NaN   \n",
       "5864                                                NaN   \n",
       "6057                                                NaN   \n",
       "6130                                                NaN   \n",
       "6174                                                NaN   \n",
       "\n",
       "                                           message_tags  \n",
       "7     [{'id': '62690599685', 'name': 'USAID - US Age...  \n",
       "11    [{'id': '2434525386667828', 'name': '#thắpđènx...  \n",
       "12    [{'id': '612012588812093', 'name': '#WomensHis...  \n",
       "13    [{'id': '612012588812093', 'name': '#WomensHis...  \n",
       "14    [{'id': '163489463833353', 'name': '#quyềnconn...  \n",
       "...                                                 ...  \n",
       "5814  [{'id': '1133470066732480', 'name': 'U.S. Cons...  \n",
       "5864  [{'id': '357790907631035', 'name': 'Activities...  \n",
       "6057  [{'id': '467071066654013', 'name': 'Using Powe...  \n",
       "6130  [{'id': '10153921440956074', 'name': 'U.S. Dep...  \n",
       "6174  [{'id': '352845864779269', 'name': 'Speaker Pr...  \n",
       "\n",
       "[1675 rows x 7 columns]"
      ],
      "text/html": "<div>\n<style scoped>\n    .dataframe tbody tr th:only-of-type {\n        vertical-align: middle;\n    }\n\n    .dataframe tbody tr th {\n        vertical-align: top;\n    }\n\n    .dataframe thead th {\n        text-align: right;\n    }\n</style>\n<table border=\"1\" class=\"dataframe\">\n  <thead>\n    <tr style=\"text-align: right;\">\n      <th></th>\n      <th>created_time</th>\n      <th>id</th>\n      <th>message</th>\n      <th>status_type</th>\n      <th>permalink_url</th>\n      <th>full_picture</th>\n      <th>message_tags</th>\n    </tr>\n  </thead>\n  <tbody>\n    <tr>\n      <th>7</th>\n      <td>2021-04-01T11:08:00+0000</td>\n      <td>165419643537532_3856463221099804</td>\n      <td>#ĐạisứKritenbrink: Hoa Kỳ vui mừng chào đón lô...</td>\n      <td>added_photos</td>\n      <td>https://www.facebook.com/165419643537532/posts...</td>\n      <td>https://scontent.fsgn2-1.fna.fbcdn.net/v/t1.64...</td>\n      <td>[{'id': '62690599685', 'name': 'USAID - US Age...</td>\n    </tr>\n    <tr>\n      <th>11</th>\n      <td>2021-04-01T01:20:02+0000</td>\n      <td>165419643537532_3853500094729450</td>\n      <td>Ngày mai là Ngày Nhận thức về Tự kỷ Thế giới 💙...</td>\n      <td>added_photos</td>\n      <td>https://www.facebook.com/165419643537532/posts...</td>\n      <td>https://scontent.fsgn2-5.fna.fbcdn.net/v/t1.64...</td>\n      <td>[{'id': '2434525386667828', 'name': '#thắpđènx...</td>\n    </tr>\n    <tr>\n      <th>12</th>\n      <td>2021-03-31T14:00:07+0000</td>\n      <td>165419643537532_475554033759018</td>\n      <td>Chào mừng đến với Phần 2 | Tập 3 của ACTV 📺!\\n...</td>\n      <td>added_video</td>\n      <td>https://www.facebook.com/USConsulateHCMC/video...</td>\n      <td>https://scontent.fsgn2-4.fna.fbcdn.net/v/t15.5...</td>\n      <td>[{'id': '612012588812093', 'name': '#WomensHis...</td>\n    </tr>\n    <tr>\n      <th>13</th>\n      <td>2021-03-31T12:55:32+0000</td>\n      <td>165419643537532_3853965321349594</td>\n      <td>Chào mừng đến với Phần 2 | Tập 3 của ACTV 📺!\\n...</td>\n      <td>mobile_status_update</td>\n      <td>https://www.facebook.com/165419643537532/posts...</td>\n      <td>NaN</td>\n      <td>[{'id': '612012588812093', 'name': '#WomensHis...</td>\n    </tr>\n    <tr>\n      <th>14</th>\n      <td>2021-03-31T09:19:00+0000</td>\n      <td>165419643537532_3853483328064460</td>\n      <td>Cam kết đối với những quyền không thể bị tước ...</td>\n      <td>added_photos</td>\n      <td>https://www.facebook.com/165419643537532/posts...</td>\n      <td>https://scontent.fsgn2-5.fna.fbcdn.net/v/t1.64...</td>\n      <td>[{'id': '163489463833353', 'name': '#quyềnconn...</td>\n    </tr>\n    <tr>\n      <th>...</th>\n      <td>...</td>\n      <td>...</td>\n      <td>...</td>\n      <td>...</td>\n      <td>...</td>\n      <td>...</td>\n      <td>...</td>\n    </tr>\n    <tr>\n      <th>5814</th>\n      <td>2012-10-01T09:36:54+0000</td>\n      <td>165419643537532_109811402509108</td>\n      <td>Hôm nay trời mưa dữ quá.  Hy vọng ngày mai trờ...</td>\n      <td>shared_story</td>\n      <td>https://www.facebook.com/165419643537532/posts...</td>\n      <td>NaN</td>\n      <td>[{'id': '1133470066732480', 'name': 'U.S. Cons...</td>\n    </tr>\n    <tr>\n      <th>5864</th>\n      <td>2012-09-10T15:44:42+0000</td>\n      <td>165419643537532_357768487635979</td>\n      <td>Mời các bạn tham dự câu lạc bộ tiếng Anh thườn...</td>\n      <td>mobile_status_update</td>\n      <td>https://www.facebook.com/165419643537532/posts...</td>\n      <td>NaN</td>\n      <td>[{'id': '357790907631035', 'name': 'Activities...</td>\n    </tr>\n    <tr>\n      <th>6057</th>\n      <td>2012-06-27T16:22:13+0000</td>\n      <td>165419643537532_492784527402505</td>\n      <td>Bà con đừng quên chương trình hay ngày thứ sáu...</td>\n      <td>shared_story</td>\n      <td>https://www.facebook.com/165419643537532/posts...</td>\n      <td>NaN</td>\n      <td>[{'id': '467071066654013', 'name': 'Using Powe...</td>\n    </tr>\n    <tr>\n      <th>6130</th>\n      <td>2012-05-25T09:26:09+0000</td>\n      <td>165419643537532_222214201231444</td>\n      <td>On May 24, Secretary Clinton released the annu...</td>\n      <td>shared_story</td>\n      <td>https://www.facebook.com/165419643537532/posts...</td>\n      <td>NaN</td>\n      <td>[{'id': '10153921440956074', 'name': 'U.S. Dep...</td>\n    </tr>\n    <tr>\n      <th>6174</th>\n      <td>2012-05-03T12:40:36+0000</td>\n      <td>165419643537532_117375465065472</td>\n      <td>Hi all,\\n\\nPlease see below AC's next program ...</td>\n      <td>shared_story</td>\n      <td>https://www.facebook.com/165419643537532/posts...</td>\n      <td>NaN</td>\n      <td>[{'id': '352845864779269', 'name': 'Speaker Pr...</td>\n    </tr>\n  </tbody>\n</table>\n<p>1675 rows × 7 columns</p>\n</div>"
     },
     "metadata": {},
     "execution_count": 153
    }
   ],
   "source": [
    "df[df[\"message_tags\"].notnull() & df[\"message_tags\"].str.len() != 0]"
   ]
  },
  {
   "cell_type": "code",
   "execution_count": 159,
   "metadata": {},
   "outputs": [
    {
     "output_type": "execute_result",
     "data": {
      "text/plain": [
       "13    [{'id': '612012588812093', 'name': '#WomensHis...\n",
       "Name: message_tags, dtype: object"
      ]
     },
     "metadata": {},
     "execution_count": 159
    }
   ],
   "source": [
    "df[df[\"id\"] == '165419643537532_3853965321349594'][\"message_tags\"]"
   ]
  },
  {
   "cell_type": "code",
   "execution_count": 176,
   "metadata": {},
   "outputs": [
    {
     "output_type": "error",
     "ename": "GraphAPIError",
     "evalue": "(#803) Some of the aliases you requested do not exist: 0       165419643537532_3859131857499607\n1       165419643537532_3855602657852527\n2       165419643537532_3859056144173845\n3        165419643537532_505717244145146\n4        165419643537532_218596766710290\n                      ...               \n6523     165419643537532_176095189136644\n6524     165419643537532_175001792579317\n6525     165419643537532_174882175924612\n6526     165419643537532_174031516009678\n6527     165419643537532_168350943244402\nName: id, Length: 6528, dtype: object",
     "traceback": [
      "\u001b[0;31m---------------------------------------------------------------------------\u001b[0m",
      "\u001b[0;31mGraphAPIError\u001b[0m                             Traceback (most recent call last)",
      "\u001b[0;32m<ipython-input-176-fe746b70a1cd>\u001b[0m in \u001b[0;36m<module>\u001b[0;34m\u001b[0m\n\u001b[0;32m----> 1\u001b[0;31m \u001b[0mcd\u001b[0m \u001b[0;34m=\u001b[0m \u001b[0mgraph\u001b[0m\u001b[0;34m.\u001b[0m\u001b[0mget_connections\u001b[0m\u001b[0;34m(\u001b[0m\u001b[0mid\u001b[0m\u001b[0;34m=\u001b[0m\u001b[0mdf\u001b[0m\u001b[0;34m[\u001b[0m\u001b[0;34m\"id\"\u001b[0m\u001b[0;34m]\u001b[0m\u001b[0;34m,\u001b[0m \u001b[0mconnection_name\u001b[0m \u001b[0;34m=\u001b[0m \u001b[0;34m\"insights\"\u001b[0m\u001b[0;34m,\u001b[0m \u001b[0mmetric\u001b[0m\u001b[0;34m=\u001b[0m\u001b[0;34m'post_activity_by_action_type'\u001b[0m\u001b[0;34m,\u001b[0m \u001b[0mdate_preset\u001b[0m\u001b[0;34m=\u001b[0m\u001b[0;34m'yesterday'\u001b[0m\u001b[0;34m,\u001b[0m \u001b[0mperiod\u001b[0m\u001b[0;34m=\u001b[0m\u001b[0;34m'lifetime'\u001b[0m\u001b[0;34m,\u001b[0m \u001b[0mshow_description_from_api_doc\u001b[0m\u001b[0;34m=\u001b[0m\u001b[0;32mFalse\u001b[0m\u001b[0;34m)\u001b[0m\u001b[0;34m\u001b[0m\u001b[0;34m\u001b[0m\u001b[0m\n\u001b[0m\u001b[1;32m      2\u001b[0m \u001b[0mdf\u001b[0m\u001b[0;34m[\u001b[0m\u001b[0;34m\"shares\"\u001b[0m\u001b[0;34m]\u001b[0m \u001b[0;34m=\u001b[0m \u001b[0mcd\u001b[0m\u001b[0;34m[\u001b[0m\u001b[0;34m'data'\u001b[0m\u001b[0;34m]\u001b[0m\u001b[0;34m[\u001b[0m\u001b[0;36m0\u001b[0m\u001b[0;34m]\u001b[0m\u001b[0;34m[\u001b[0m\u001b[0;34m'values'\u001b[0m\u001b[0;34m]\u001b[0m\u001b[0;34m[\u001b[0m\u001b[0;36m0\u001b[0m\u001b[0;34m]\u001b[0m\u001b[0;34m[\u001b[0m\u001b[0;34m'value'\u001b[0m\u001b[0;34m]\u001b[0m\u001b[0;34m[\u001b[0m\u001b[0;34m'share'\u001b[0m\u001b[0;34m]\u001b[0m\u001b[0;34m\u001b[0m\u001b[0;34m\u001b[0m\u001b[0m\n",
      "\u001b[0;32m/Library/Frameworks/Python.framework/Versions/3.8/lib/python3.8/site-packages/facebook/__init__.py\u001b[0m in \u001b[0;36mget_connections\u001b[0;34m(self, id, connection_name, **args)\u001b[0m\n\u001b[1;32m    147\u001b[0m     \u001b[0;32mdef\u001b[0m \u001b[0mget_connections\u001b[0m\u001b[0;34m(\u001b[0m\u001b[0mself\u001b[0m\u001b[0;34m,\u001b[0m \u001b[0mid\u001b[0m\u001b[0;34m,\u001b[0m \u001b[0mconnection_name\u001b[0m\u001b[0;34m,\u001b[0m \u001b[0;34m**\u001b[0m\u001b[0margs\u001b[0m\u001b[0;34m)\u001b[0m\u001b[0;34m:\u001b[0m\u001b[0;34m\u001b[0m\u001b[0;34m\u001b[0m\u001b[0m\n\u001b[1;32m    148\u001b[0m         \u001b[0;34m\"\"\"Fetches the connections for given object.\"\"\"\u001b[0m\u001b[0;34m\u001b[0m\u001b[0;34m\u001b[0m\u001b[0m\n\u001b[0;32m--> 149\u001b[0;31m         return self.request(\n\u001b[0m\u001b[1;32m    150\u001b[0m             \u001b[0;34m\"{0}/{1}/{2}\"\u001b[0m\u001b[0;34m.\u001b[0m\u001b[0mformat\u001b[0m\u001b[0;34m(\u001b[0m\u001b[0mself\u001b[0m\u001b[0;34m.\u001b[0m\u001b[0mversion\u001b[0m\u001b[0;34m,\u001b[0m \u001b[0mid\u001b[0m\u001b[0;34m,\u001b[0m \u001b[0mconnection_name\u001b[0m\u001b[0;34m)\u001b[0m\u001b[0;34m,\u001b[0m \u001b[0margs\u001b[0m\u001b[0;34m\u001b[0m\u001b[0;34m\u001b[0m\u001b[0m\n\u001b[1;32m    151\u001b[0m         )\n",
      "\u001b[0;32m/Library/Frameworks/Python.framework/Versions/3.8/lib/python3.8/site-packages/facebook/__init__.py\u001b[0m in \u001b[0;36mrequest\u001b[0;34m(self, path, args, post_args, files, method)\u001b[0m\n\u001b[1;32m    311\u001b[0m \u001b[0;34m\u001b[0m\u001b[0m\n\u001b[1;32m    312\u001b[0m         \u001b[0;32mif\u001b[0m \u001b[0mresult\u001b[0m \u001b[0;32mand\u001b[0m \u001b[0misinstance\u001b[0m\u001b[0;34m(\u001b[0m\u001b[0mresult\u001b[0m\u001b[0;34m,\u001b[0m \u001b[0mdict\u001b[0m\u001b[0;34m)\u001b[0m \u001b[0;32mand\u001b[0m \u001b[0mresult\u001b[0m\u001b[0;34m.\u001b[0m\u001b[0mget\u001b[0m\u001b[0;34m(\u001b[0m\u001b[0;34m\"error\"\u001b[0m\u001b[0;34m)\u001b[0m\u001b[0;34m:\u001b[0m\u001b[0;34m\u001b[0m\u001b[0;34m\u001b[0m\u001b[0m\n\u001b[0;32m--> 313\u001b[0;31m             \u001b[0;32mraise\u001b[0m \u001b[0mGraphAPIError\u001b[0m\u001b[0;34m(\u001b[0m\u001b[0mresult\u001b[0m\u001b[0;34m)\u001b[0m\u001b[0;34m\u001b[0m\u001b[0;34m\u001b[0m\u001b[0m\n\u001b[0m\u001b[1;32m    314\u001b[0m         \u001b[0;32mreturn\u001b[0m \u001b[0mresult\u001b[0m\u001b[0;34m\u001b[0m\u001b[0;34m\u001b[0m\u001b[0m\n\u001b[1;32m    315\u001b[0m \u001b[0;34m\u001b[0m\u001b[0m\n",
      "\u001b[0;31mGraphAPIError\u001b[0m: (#803) Some of the aliases you requested do not exist: 0       165419643537532_3859131857499607\n1       165419643537532_3855602657852527\n2       165419643537532_3859056144173845\n3        165419643537532_505717244145146\n4        165419643537532_218596766710290\n                      ...               \n6523     165419643537532_176095189136644\n6524     165419643537532_175001792579317\n6525     165419643537532_174882175924612\n6526     165419643537532_174031516009678\n6527     165419643537532_168350943244402\nName: id, Length: 6528, dtype: object"
     ]
    }
   ],
   "source": [
    "cd = graph.get_connections(id=df[\"id\"], connection_name = \"insights\", metric='post_activity_by_action_type', date_preset='yesterday', period='lifetime', show_description_from_api_doc=False)\n",
    "df[\"shares\"] = cd['data'][0]['values'][0]['value']['share']"
   ]
  },
  {
   "cell_type": "code",
   "execution_count": 58,
   "metadata": {},
   "outputs": [
    {
     "output_type": "error",
     "ename": "IndentationError",
     "evalue": "unexpected indent (<ipython-input-58-9e0c78abe238>, line 6)",
     "traceback": [
      "\u001b[0;36m  File \u001b[0;32m\"<ipython-input-58-9e0c78abe238>\"\u001b[0;36m, line \u001b[0;32m6\u001b[0m\n\u001b[0;31m    else return insight['data'][0]['values'][0]['value']['like']\u001b[0m\n\u001b[0m    ^\u001b[0m\n\u001b[0;31mIndentationError\u001b[0m\u001b[0;31m:\u001b[0m unexpected indent\n"
     ]
    }
   ],
   "source": [
    "def return_engagements(nid):\n",
    "    insight = graph.get_connections(nid, connection_name='insights',metric='post_activity_by_action_type', date_preset='yesterday', period='lifetime', show_description_from_api_doc=False)\n",
    "    if bool(insight['data'][0]['values'][0]['value']) == True:\n",
    "        if bool(insight['data'][0]['values'][0]['value']['like']) == False:\n",
    "            return null\n",
    "                else return insight['data'][0]['values'][0]['value']['like']"
   ]
  },
  {
   "cell_type": "code",
   "execution_count": 61,
   "metadata": {},
   "outputs": [
    {
     "output_type": "error",
     "ename": "GraphAPIError",
     "evalue": "(#803) Some of the aliases you requested do not exist: 0       165419643537532_3859131857499607\n1       165419643537532_3855602657852527\n2       165419643537532_3859056144173845\n3        165419643537532_505717244145146\n4        165419643537532_218596766710290\n                      ...               \n6523     165419643537532_176095189136644\n6524     165419643537532_175001792579317\n6525     165419643537532_174882175924612\n6526     165419643537532_174031516009678\n6527     165419643537532_168350943244402\nName: id, Length: 6528, dtype: object",
     "traceback": [
      "\u001b[0;31m---------------------------------------------------------------------------\u001b[0m",
      "\u001b[0;31mGraphAPIError\u001b[0m                             Traceback (most recent call last)",
      "\u001b[0;32m<ipython-input-61-b5a987aabcae>\u001b[0m in \u001b[0;36m<module>\u001b[0;34m\u001b[0m\n\u001b[0;32m----> 1\u001b[0;31m \u001b[0mdf\u001b[0m\u001b[0;34m[\u001b[0m\u001b[0;34m'likes'\u001b[0m\u001b[0;34m]\u001b[0m \u001b[0;34m=\u001b[0m \u001b[0mgraph\u001b[0m\u001b[0;34m.\u001b[0m\u001b[0mget_connections\u001b[0m\u001b[0;34m(\u001b[0m\u001b[0mdf\u001b[0m\u001b[0;34m[\u001b[0m\u001b[0;34m\"id\"\u001b[0m\u001b[0;34m]\u001b[0m\u001b[0;34m,\u001b[0m \u001b[0mconnection_name\u001b[0m\u001b[0;34m=\u001b[0m\u001b[0;34m'insights'\u001b[0m\u001b[0;34m,\u001b[0m\u001b[0mmetric\u001b[0m\u001b[0;34m=\u001b[0m\u001b[0;34m'post_activity_by_action_type'\u001b[0m\u001b[0;34m,\u001b[0m \u001b[0mdate_preset\u001b[0m\u001b[0;34m=\u001b[0m\u001b[0;34m'yesterday'\u001b[0m\u001b[0;34m,\u001b[0m \u001b[0mperiod\u001b[0m\u001b[0;34m=\u001b[0m\u001b[0;34m'lifetime'\u001b[0m\u001b[0;34m,\u001b[0m \u001b[0mshow_description_from_api_doc\u001b[0m\u001b[0;34m=\u001b[0m\u001b[0;32mFalse\u001b[0m\u001b[0;34m)\u001b[0m\u001b[0;34m\u001b[0m\u001b[0;34m\u001b[0m\u001b[0m\n\u001b[0m",
      "\u001b[0;32m/usr/local/lib/python3.9/site-packages/facebook/__init__.py\u001b[0m in \u001b[0;36mget_connections\u001b[0;34m(self, id, connection_name, **args)\u001b[0m\n\u001b[1;32m    147\u001b[0m     \u001b[0;32mdef\u001b[0m \u001b[0mget_connections\u001b[0m\u001b[0;34m(\u001b[0m\u001b[0mself\u001b[0m\u001b[0;34m,\u001b[0m \u001b[0mid\u001b[0m\u001b[0;34m,\u001b[0m \u001b[0mconnection_name\u001b[0m\u001b[0;34m,\u001b[0m \u001b[0;34m**\u001b[0m\u001b[0margs\u001b[0m\u001b[0;34m)\u001b[0m\u001b[0;34m:\u001b[0m\u001b[0;34m\u001b[0m\u001b[0;34m\u001b[0m\u001b[0m\n\u001b[1;32m    148\u001b[0m         \u001b[0;34m\"\"\"Fetches the connections for given object.\"\"\"\u001b[0m\u001b[0;34m\u001b[0m\u001b[0;34m\u001b[0m\u001b[0m\n\u001b[0;32m--> 149\u001b[0;31m         return self.request(\n\u001b[0m\u001b[1;32m    150\u001b[0m             \u001b[0;34m\"{0}/{1}/{2}\"\u001b[0m\u001b[0;34m.\u001b[0m\u001b[0mformat\u001b[0m\u001b[0;34m(\u001b[0m\u001b[0mself\u001b[0m\u001b[0;34m.\u001b[0m\u001b[0mversion\u001b[0m\u001b[0;34m,\u001b[0m \u001b[0mid\u001b[0m\u001b[0;34m,\u001b[0m \u001b[0mconnection_name\u001b[0m\u001b[0;34m)\u001b[0m\u001b[0;34m,\u001b[0m \u001b[0margs\u001b[0m\u001b[0;34m\u001b[0m\u001b[0;34m\u001b[0m\u001b[0m\n\u001b[1;32m    151\u001b[0m         )\n",
      "\u001b[0;32m/usr/local/lib/python3.9/site-packages/facebook/__init__.py\u001b[0m in \u001b[0;36mrequest\u001b[0;34m(self, path, args, post_args, files, method)\u001b[0m\n\u001b[1;32m    311\u001b[0m \u001b[0;34m\u001b[0m\u001b[0m\n\u001b[1;32m    312\u001b[0m         \u001b[0;32mif\u001b[0m \u001b[0mresult\u001b[0m \u001b[0;32mand\u001b[0m \u001b[0misinstance\u001b[0m\u001b[0;34m(\u001b[0m\u001b[0mresult\u001b[0m\u001b[0;34m,\u001b[0m \u001b[0mdict\u001b[0m\u001b[0;34m)\u001b[0m \u001b[0;32mand\u001b[0m \u001b[0mresult\u001b[0m\u001b[0;34m.\u001b[0m\u001b[0mget\u001b[0m\u001b[0;34m(\u001b[0m\u001b[0;34m\"error\"\u001b[0m\u001b[0;34m)\u001b[0m\u001b[0;34m:\u001b[0m\u001b[0;34m\u001b[0m\u001b[0;34m\u001b[0m\u001b[0m\n\u001b[0;32m--> 313\u001b[0;31m             \u001b[0;32mraise\u001b[0m \u001b[0mGraphAPIError\u001b[0m\u001b[0;34m(\u001b[0m\u001b[0mresult\u001b[0m\u001b[0;34m)\u001b[0m\u001b[0;34m\u001b[0m\u001b[0;34m\u001b[0m\u001b[0m\n\u001b[0m\u001b[1;32m    314\u001b[0m         \u001b[0;32mreturn\u001b[0m \u001b[0mresult\u001b[0m\u001b[0;34m\u001b[0m\u001b[0;34m\u001b[0m\u001b[0m\n\u001b[1;32m    315\u001b[0m \u001b[0;34m\u001b[0m\u001b[0m\n",
      "\u001b[0;31mGraphAPIError\u001b[0m: (#803) Some of the aliases you requested do not exist: 0       165419643537532_3859131857499607\n1       165419643537532_3855602657852527\n2       165419643537532_3859056144173845\n3        165419643537532_505717244145146\n4        165419643537532_218596766710290\n                      ...               \n6523     165419643537532_176095189136644\n6524     165419643537532_175001792579317\n6525     165419643537532_174882175924612\n6526     165419643537532_174031516009678\n6527     165419643537532_168350943244402\nName: id, Length: 6528, dtype: object"
     ]
    }
   ],
   "source": [
    "df['likes'] = graph.get_connections(df[\"id\"], connection_name='insights',metric='post_activity_by_action_type', date_preset='yesterday', period='lifetime', show_description_from_api_doc=False)"
   ]
  },
  {
   "cell_type": "code",
   "execution_count": 65,
   "metadata": {},
   "outputs": [
    {
     "output_type": "error",
     "ename": "GraphAPIError",
     "evalue": "(#803) Some of the aliases you requested do not exist: 0       165419643537532_3859131857499607\n1       165419643537532_3855602657852527\n2       165419643537532_3859056144173845\n3        165419643537532_505717244145146\n4        165419643537532_218596766710290\n                      ...               \n6523     165419643537532_176095189136644\n6524     165419643537532_175001792579317\n6525     165419643537532_174882175924612\n6526     165419643537532_174031516009678\n6527     165419643537532_168350943244402\nName: id, Length: 6528, dtype: object",
     "traceback": [
      "\u001b[0;31m---------------------------------------------------------------------------\u001b[0m",
      "\u001b[0;31mGraphAPIError\u001b[0m                             Traceback (most recent call last)",
      "\u001b[0;32m<ipython-input-65-f373f38f7ac8>\u001b[0m in \u001b[0;36m<module>\u001b[0;34m\u001b[0m\n\u001b[0;32m----> 1\u001b[0;31m \u001b[0mdf\u001b[0m\u001b[0;34m[\u001b[0m\u001b[0;34m\"likes\"\u001b[0m\u001b[0;34m]\u001b[0m \u001b[0;34m=\u001b[0m \u001b[0mgraph\u001b[0m\u001b[0;34m.\u001b[0m\u001b[0mget_connections\u001b[0m\u001b[0;34m(\u001b[0m\u001b[0mid\u001b[0m\u001b[0;34m=\u001b[0m\u001b[0mdf\u001b[0m\u001b[0;34m[\u001b[0m\u001b[0;34m\"id\"\u001b[0m\u001b[0;34m]\u001b[0m\u001b[0;34m,\u001b[0m \u001b[0mconnection_name\u001b[0m \u001b[0;34m=\u001b[0m\u001b[0;34m'insights'\u001b[0m\u001b[0;34m,\u001b[0m \u001b[0mmetric\u001b[0m\u001b[0;34m=\u001b[0m\u001b[0;34m'post_reactions_like_total'\u001b[0m\u001b[0;34m,\u001b[0m \u001b[0mdate_preset\u001b[0m\u001b[0;34m=\u001b[0m\u001b[0;34m'yesterday'\u001b[0m\u001b[0;34m,\u001b[0m \u001b[0mperiod\u001b[0m\u001b[0;34m=\u001b[0m\u001b[0;34m'lifetime'\u001b[0m\u001b[0;34m,\u001b[0m \u001b[0mshow_description_from_api_doc\u001b[0m\u001b[0;34m=\u001b[0m\u001b[0;32mFalse\u001b[0m\u001b[0;34m)\u001b[0m\u001b[0;34m\u001b[0m\u001b[0;34m\u001b[0m\u001b[0m\n\u001b[0m",
      "\u001b[0;32m/usr/local/lib/python3.9/site-packages/facebook/__init__.py\u001b[0m in \u001b[0;36mget_connections\u001b[0;34m(self, id, connection_name, **args)\u001b[0m\n\u001b[1;32m    147\u001b[0m     \u001b[0;32mdef\u001b[0m \u001b[0mget_connections\u001b[0m\u001b[0;34m(\u001b[0m\u001b[0mself\u001b[0m\u001b[0;34m,\u001b[0m \u001b[0mid\u001b[0m\u001b[0;34m,\u001b[0m \u001b[0mconnection_name\u001b[0m\u001b[0;34m,\u001b[0m \u001b[0;34m**\u001b[0m\u001b[0margs\u001b[0m\u001b[0;34m)\u001b[0m\u001b[0;34m:\u001b[0m\u001b[0;34m\u001b[0m\u001b[0;34m\u001b[0m\u001b[0m\n\u001b[1;32m    148\u001b[0m         \u001b[0;34m\"\"\"Fetches the connections for given object.\"\"\"\u001b[0m\u001b[0;34m\u001b[0m\u001b[0;34m\u001b[0m\u001b[0m\n\u001b[0;32m--> 149\u001b[0;31m         return self.request(\n\u001b[0m\u001b[1;32m    150\u001b[0m             \u001b[0;34m\"{0}/{1}/{2}\"\u001b[0m\u001b[0;34m.\u001b[0m\u001b[0mformat\u001b[0m\u001b[0;34m(\u001b[0m\u001b[0mself\u001b[0m\u001b[0;34m.\u001b[0m\u001b[0mversion\u001b[0m\u001b[0;34m,\u001b[0m \u001b[0mid\u001b[0m\u001b[0;34m,\u001b[0m \u001b[0mconnection_name\u001b[0m\u001b[0;34m)\u001b[0m\u001b[0;34m,\u001b[0m \u001b[0margs\u001b[0m\u001b[0;34m\u001b[0m\u001b[0;34m\u001b[0m\u001b[0m\n\u001b[1;32m    151\u001b[0m         )\n",
      "\u001b[0;32m/usr/local/lib/python3.9/site-packages/facebook/__init__.py\u001b[0m in \u001b[0;36mrequest\u001b[0;34m(self, path, args, post_args, files, method)\u001b[0m\n\u001b[1;32m    311\u001b[0m \u001b[0;34m\u001b[0m\u001b[0m\n\u001b[1;32m    312\u001b[0m         \u001b[0;32mif\u001b[0m \u001b[0mresult\u001b[0m \u001b[0;32mand\u001b[0m \u001b[0misinstance\u001b[0m\u001b[0;34m(\u001b[0m\u001b[0mresult\u001b[0m\u001b[0;34m,\u001b[0m \u001b[0mdict\u001b[0m\u001b[0;34m)\u001b[0m \u001b[0;32mand\u001b[0m \u001b[0mresult\u001b[0m\u001b[0;34m.\u001b[0m\u001b[0mget\u001b[0m\u001b[0;34m(\u001b[0m\u001b[0;34m\"error\"\u001b[0m\u001b[0;34m)\u001b[0m\u001b[0;34m:\u001b[0m\u001b[0;34m\u001b[0m\u001b[0;34m\u001b[0m\u001b[0m\n\u001b[0;32m--> 313\u001b[0;31m             \u001b[0;32mraise\u001b[0m \u001b[0mGraphAPIError\u001b[0m\u001b[0;34m(\u001b[0m\u001b[0mresult\u001b[0m\u001b[0;34m)\u001b[0m\u001b[0;34m\u001b[0m\u001b[0;34m\u001b[0m\u001b[0m\n\u001b[0m\u001b[1;32m    314\u001b[0m         \u001b[0;32mreturn\u001b[0m \u001b[0mresult\u001b[0m\u001b[0;34m\u001b[0m\u001b[0;34m\u001b[0m\u001b[0m\n\u001b[1;32m    315\u001b[0m \u001b[0;34m\u001b[0m\u001b[0m\n",
      "\u001b[0;31mGraphAPIError\u001b[0m: (#803) Some of the aliases you requested do not exist: 0       165419643537532_3859131857499607\n1       165419643537532_3855602657852527\n2       165419643537532_3859056144173845\n3        165419643537532_505717244145146\n4        165419643537532_218596766710290\n                      ...               \n6523     165419643537532_176095189136644\n6524     165419643537532_175001792579317\n6525     165419643537532_174882175924612\n6526     165419643537532_174031516009678\n6527     165419643537532_168350943244402\nName: id, Length: 6528, dtype: object"
     ]
    }
   ],
   "source": [
    "df[\"likes\"] = graph.get_connections(id=df[\"id\"], connection_name ='insights', metric='post_reactions_like_total', date_preset='yesterday', period='lifetime', show_description_from_api_doc=False)"
   ]
  },
  {
   "cell_type": "code",
   "execution_count": 73,
   "metadata": {
    "tags": []
   },
   "outputs": [
    {
     "output_type": "error",
     "ename": "GraphAPIError",
     "evalue": "(#190) This method must be called with a Page Access Token",
     "traceback": [
      "\u001b[0;31m---------------------------------------------------------------------------\u001b[0m",
      "\u001b[0;31mGraphAPIError\u001b[0m                             Traceback (most recent call last)",
      "\u001b[0;32m<ipython-input-73-b58e6c20aa38>\u001b[0m in \u001b[0;36m<module>\u001b[0;34m\u001b[0m\n\u001b[1;32m      1\u001b[0m \u001b[0;32mfor\u001b[0m \u001b[0mindex\u001b[0m\u001b[0;34m,\u001b[0m \u001b[0mrow\u001b[0m \u001b[0;32min\u001b[0m \u001b[0mdf\u001b[0m\u001b[0;34m.\u001b[0m\u001b[0miterrows\u001b[0m\u001b[0;34m(\u001b[0m\u001b[0;34m)\u001b[0m\u001b[0;34m:\u001b[0m\u001b[0;34m\u001b[0m\u001b[0;34m\u001b[0m\u001b[0m\n\u001b[0;32m----> 2\u001b[0;31m     \u001b[0mlikes1\u001b[0m \u001b[0;34m=\u001b[0m \u001b[0mgraph\u001b[0m\u001b[0;34m.\u001b[0m\u001b[0mget_connections\u001b[0m\u001b[0;34m(\u001b[0m\u001b[0mid\u001b[0m\u001b[0;34m=\u001b[0m\u001b[0mrow\u001b[0m\u001b[0;34m[\u001b[0m\u001b[0;34m\"id\"\u001b[0m\u001b[0;34m]\u001b[0m\u001b[0;34m,\u001b[0m \u001b[0mconnection_name\u001b[0m \u001b[0;34m=\u001b[0m\u001b[0;34m'insights'\u001b[0m\u001b[0;34m,\u001b[0m \u001b[0mmetric\u001b[0m\u001b[0;34m=\u001b[0m\u001b[0;34m'post_reactions_like_total'\u001b[0m\u001b[0;34m,\u001b[0m \u001b[0mdate_preset\u001b[0m\u001b[0;34m=\u001b[0m\u001b[0;34m'yesterday'\u001b[0m\u001b[0;34m,\u001b[0m \u001b[0mperiod\u001b[0m\u001b[0;34m=\u001b[0m\u001b[0;34m'lifetime'\u001b[0m\u001b[0;34m,\u001b[0m \u001b[0mshow_description_from_api_doc\u001b[0m\u001b[0;34m=\u001b[0m\u001b[0;32mFalse\u001b[0m\u001b[0;34m)\u001b[0m\u001b[0;34m\u001b[0m\u001b[0;34m\u001b[0m\u001b[0m\n\u001b[0m\u001b[1;32m      3\u001b[0m     \u001b[0mdf\u001b[0m\u001b[0;34m.\u001b[0m\u001b[0mloc\u001b[0m\u001b[0;34m[\u001b[0m\u001b[0mindex\u001b[0m\u001b[0;34m,\u001b[0m \u001b[0;34m\"likes\"\u001b[0m\u001b[0;34m]\u001b[0m\u001b[0;34m=\u001b[0m \u001b[0mlikes1\u001b[0m\u001b[0;34m[\u001b[0m\u001b[0;34m'data'\u001b[0m\u001b[0;34m]\u001b[0m\u001b[0;34m[\u001b[0m\u001b[0;36m0\u001b[0m\u001b[0;34m]\u001b[0m\u001b[0;34m[\u001b[0m\u001b[0;34m'values'\u001b[0m\u001b[0;34m]\u001b[0m\u001b[0;34m[\u001b[0m\u001b[0;36m0\u001b[0m\u001b[0;34m]\u001b[0m\u001b[0;34m[\u001b[0m\u001b[0;34m'value'\u001b[0m\u001b[0;34m]\u001b[0m\u001b[0;34m\u001b[0m\u001b[0;34m\u001b[0m\u001b[0m\n",
      "\u001b[0;32m/Library/Frameworks/Python.framework/Versions/3.8/lib/python3.8/site-packages/facebook/__init__.py\u001b[0m in \u001b[0;36mget_connections\u001b[0;34m(self, id, connection_name, **args)\u001b[0m\n\u001b[1;32m    147\u001b[0m     \u001b[0;32mdef\u001b[0m \u001b[0mget_connections\u001b[0m\u001b[0;34m(\u001b[0m\u001b[0mself\u001b[0m\u001b[0;34m,\u001b[0m \u001b[0mid\u001b[0m\u001b[0;34m,\u001b[0m \u001b[0mconnection_name\u001b[0m\u001b[0;34m,\u001b[0m \u001b[0;34m**\u001b[0m\u001b[0margs\u001b[0m\u001b[0;34m)\u001b[0m\u001b[0;34m:\u001b[0m\u001b[0;34m\u001b[0m\u001b[0;34m\u001b[0m\u001b[0m\n\u001b[1;32m    148\u001b[0m         \u001b[0;34m\"\"\"Fetches the connections for given object.\"\"\"\u001b[0m\u001b[0;34m\u001b[0m\u001b[0;34m\u001b[0m\u001b[0m\n\u001b[0;32m--> 149\u001b[0;31m         return self.request(\n\u001b[0m\u001b[1;32m    150\u001b[0m             \u001b[0;34m\"{0}/{1}/{2}\"\u001b[0m\u001b[0;34m.\u001b[0m\u001b[0mformat\u001b[0m\u001b[0;34m(\u001b[0m\u001b[0mself\u001b[0m\u001b[0;34m.\u001b[0m\u001b[0mversion\u001b[0m\u001b[0;34m,\u001b[0m \u001b[0mid\u001b[0m\u001b[0;34m,\u001b[0m \u001b[0mconnection_name\u001b[0m\u001b[0;34m)\u001b[0m\u001b[0;34m,\u001b[0m \u001b[0margs\u001b[0m\u001b[0;34m\u001b[0m\u001b[0;34m\u001b[0m\u001b[0m\n\u001b[1;32m    151\u001b[0m         )\n",
      "\u001b[0;32m/Library/Frameworks/Python.framework/Versions/3.8/lib/python3.8/site-packages/facebook/__init__.py\u001b[0m in \u001b[0;36mrequest\u001b[0;34m(self, path, args, post_args, files, method)\u001b[0m\n\u001b[1;32m    311\u001b[0m \u001b[0;34m\u001b[0m\u001b[0m\n\u001b[1;32m    312\u001b[0m         \u001b[0;32mif\u001b[0m \u001b[0mresult\u001b[0m \u001b[0;32mand\u001b[0m \u001b[0misinstance\u001b[0m\u001b[0;34m(\u001b[0m\u001b[0mresult\u001b[0m\u001b[0;34m,\u001b[0m \u001b[0mdict\u001b[0m\u001b[0;34m)\u001b[0m \u001b[0;32mand\u001b[0m \u001b[0mresult\u001b[0m\u001b[0;34m.\u001b[0m\u001b[0mget\u001b[0m\u001b[0;34m(\u001b[0m\u001b[0;34m\"error\"\u001b[0m\u001b[0;34m)\u001b[0m\u001b[0;34m:\u001b[0m\u001b[0;34m\u001b[0m\u001b[0;34m\u001b[0m\u001b[0m\n\u001b[0;32m--> 313\u001b[0;31m             \u001b[0;32mraise\u001b[0m \u001b[0mGraphAPIError\u001b[0m\u001b[0;34m(\u001b[0m\u001b[0mresult\u001b[0m\u001b[0;34m)\u001b[0m\u001b[0;34m\u001b[0m\u001b[0;34m\u001b[0m\u001b[0m\n\u001b[0m\u001b[1;32m    314\u001b[0m         \u001b[0;32mreturn\u001b[0m \u001b[0mresult\u001b[0m\u001b[0;34m\u001b[0m\u001b[0;34m\u001b[0m\u001b[0m\n\u001b[1;32m    315\u001b[0m \u001b[0;34m\u001b[0m\u001b[0m\n",
      "\u001b[0;31mGraphAPIError\u001b[0m: (#190) This method must be called with a Page Access Token"
     ]
    }
   ],
   "source": [
    "for index, row in df.iterrows():\n",
    "    likes1 = graph.get_connections(id=row[\"id\"], connection_name ='insights', metric='post_reactions_like_total', date_preset='yesterday', period='lifetime', show_description_from_api_doc=False)\n",
    "    df.loc[index, \"likes\"]= likes1['data'][0]['values'][0]['value']"
   ]
  },
  {
   "cell_type": "code",
   "execution_count": 90,
   "metadata": {},
   "outputs": [],
   "source": [
    "for index, row in df[df[\"likes\"].isnull()].iterrows():\n",
    "    likes1 = graph.get_connections(id=row[\"id\"], connection_name ='insights', metric='post_reactions_like_total', date_preset='yesterday', period='lifetime', show_description_from_api_doc=False)\n",
    "    df.loc[index, \"likes\"]= likes1['data'][0]['values'][0]['value']"
   ]
  },
  {
   "cell_type": "code",
   "execution_count": 71,
   "metadata": {},
   "outputs": [],
   "source": [
    "abc = graph.get_connections(id=\"165419643537532_3859131857499607\", connection_name ='insights', metric='post_reactions_like_total', date_preset='yesterday', period='lifetime', show_description_from_api_doc=False)"
   ]
  },
  {
   "cell_type": "code",
   "execution_count": 72,
   "metadata": {},
   "outputs": [
    {
     "output_type": "execute_result",
     "data": {
      "text/plain": [
       "294"
      ]
     },
     "metadata": {},
     "execution_count": 72
    }
   ],
   "source": [
    "abc['data'][0]['values'][0]['value']"
   ]
  },
  {
   "cell_type": "code",
   "execution_count": 62,
   "metadata": {},
   "outputs": [],
   "source": [
    "dffirst = df.iloc[:3]"
   ]
  },
  {
   "cell_type": "code",
   "execution_count": 112,
   "metadata": {},
   "outputs": [
    {
     "output_type": "execute_result",
     "data": {
      "text/plain": [
       "      Unnamed: 0              created_time                               id  \\\n",
       "3              3  2021-04-02T08:53:25+0000  165419643537532_505717244145146   \n",
       "4              4  2021-04-02T07:38:53+0000  165419643537532_218596766710290   \n",
       "8              8  2021-04-01T10:32:19+0000  165419643537532_184982976771639   \n",
       "15            15  2021-03-31T05:53:37+0000  165419643537532_135134605213645   \n",
       "20            20  2021-03-30T03:54:09+0000  165419643537532_249693136899421   \n",
       "...          ...                       ...                              ...   \n",
       "6523        6523  2011-10-03T08:53:12+0000  165419643537532_176095189136644   \n",
       "6524        6524  2011-09-30T15:05:30+0000  165419643537532_175001792579317   \n",
       "6525        6525  2011-09-30T06:29:49+0000  165419643537532_174882175924612   \n",
       "6526        6526  2011-09-28T03:15:16+0000  165419643537532_174031516009678   \n",
       "6527        6527  2011-09-14T12:20:12+0000  165419643537532_168350943244402   \n",
       "\n",
       "                                                message           status_type  \\\n",
       "3                                                   NaN         created_event   \n",
       "4                                                   NaN         created_event   \n",
       "8                                                   NaN         created_event   \n",
       "15                                                  NaN         created_event   \n",
       "20                                                  NaN         created_event   \n",
       "...                                                 ...                   ...   \n",
       "6523  On September 23, to mark a World Heart Day and...          added_photos   \n",
       "6524                                                NaN          added_photos   \n",
       "6525                                                NaN          added_photos   \n",
       "6526  The American Center - Grand Opening September ...  mobile_status_update   \n",
       "6527                                                NaN          added_photos   \n",
       "\n",
       "                                          permalink_url  \\\n",
       "3      https://www.facebook.com/events/505717244145146/   \n",
       "4      https://www.facebook.com/events/218596766710290/   \n",
       "8      https://www.facebook.com/events/184982976771639/   \n",
       "15     https://www.facebook.com/events/135134605213645/   \n",
       "20     https://www.facebook.com/events/249693136899421/   \n",
       "...                                                 ...   \n",
       "6523  https://www.facebook.com/USConsulateHCMC/photo...   \n",
       "6524  https://www.facebook.com/USConsulateHCMC/photo...   \n",
       "6525  https://www.facebook.com/USConsulateHCMC/photo...   \n",
       "6526  https://www.facebook.com/165419643537532/posts...   \n",
       "6527  https://www.facebook.com/USConsulateHCMC/photo...   \n",
       "\n",
       "                                           full_picture message_tags  likes  \n",
       "3     https://scontent.fsgn2-3.fna.fbcdn.net/v/t1.64...          NaN    0.0  \n",
       "4     https://scontent.fsgn2-5.fna.fbcdn.net/v/t1.64...          NaN    0.0  \n",
       "8     https://scontent.fsgn2-5.fna.fbcdn.net/v/t1.64...          NaN    0.0  \n",
       "15    https://scontent.fsgn2-4.fna.fbcdn.net/v/t1.64...          NaN    0.0  \n",
       "20    https://scontent.fsgn2-5.fna.fbcdn.net/v/t1.64...          NaN    0.0  \n",
       "...                                                 ...          ...    ...  \n",
       "6523  https://scontent.fsgn2-5.fna.fbcdn.net/v/t1.18...          NaN    0.0  \n",
       "6524  https://scontent.fsgn2-2.fna.fbcdn.net/v/t1.18...          NaN    0.0  \n",
       "6525  https://scontent.fsgn2-3.fna.fbcdn.net/v/t1.18...          NaN    0.0  \n",
       "6526                                                NaN          NaN    0.0  \n",
       "6527  https://scontent.fsgn2-3.fna.fbcdn.net/v/t1.18...          NaN    0.0  \n",
       "\n",
       "[4615 rows x 9 columns]"
      ],
      "text/html": "<div>\n<style scoped>\n    .dataframe tbody tr th:only-of-type {\n        vertical-align: middle;\n    }\n\n    .dataframe tbody tr th {\n        vertical-align: top;\n    }\n\n    .dataframe thead th {\n        text-align: right;\n    }\n</style>\n<table border=\"1\" class=\"dataframe\">\n  <thead>\n    <tr style=\"text-align: right;\">\n      <th></th>\n      <th>Unnamed: 0</th>\n      <th>created_time</th>\n      <th>id</th>\n      <th>message</th>\n      <th>status_type</th>\n      <th>permalink_url</th>\n      <th>full_picture</th>\n      <th>message_tags</th>\n      <th>likes</th>\n    </tr>\n  </thead>\n  <tbody>\n    <tr>\n      <th>3</th>\n      <td>3</td>\n      <td>2021-04-02T08:53:25+0000</td>\n      <td>165419643537532_505717244145146</td>\n      <td>NaN</td>\n      <td>created_event</td>\n      <td>https://www.facebook.com/events/505717244145146/</td>\n      <td>https://scontent.fsgn2-3.fna.fbcdn.net/v/t1.64...</td>\n      <td>NaN</td>\n      <td>0.0</td>\n    </tr>\n    <tr>\n      <th>4</th>\n      <td>4</td>\n      <td>2021-04-02T07:38:53+0000</td>\n      <td>165419643537532_218596766710290</td>\n      <td>NaN</td>\n      <td>created_event</td>\n      <td>https://www.facebook.com/events/218596766710290/</td>\n      <td>https://scontent.fsgn2-5.fna.fbcdn.net/v/t1.64...</td>\n      <td>NaN</td>\n      <td>0.0</td>\n    </tr>\n    <tr>\n      <th>8</th>\n      <td>8</td>\n      <td>2021-04-01T10:32:19+0000</td>\n      <td>165419643537532_184982976771639</td>\n      <td>NaN</td>\n      <td>created_event</td>\n      <td>https://www.facebook.com/events/184982976771639/</td>\n      <td>https://scontent.fsgn2-5.fna.fbcdn.net/v/t1.64...</td>\n      <td>NaN</td>\n      <td>0.0</td>\n    </tr>\n    <tr>\n      <th>15</th>\n      <td>15</td>\n      <td>2021-03-31T05:53:37+0000</td>\n      <td>165419643537532_135134605213645</td>\n      <td>NaN</td>\n      <td>created_event</td>\n      <td>https://www.facebook.com/events/135134605213645/</td>\n      <td>https://scontent.fsgn2-4.fna.fbcdn.net/v/t1.64...</td>\n      <td>NaN</td>\n      <td>0.0</td>\n    </tr>\n    <tr>\n      <th>20</th>\n      <td>20</td>\n      <td>2021-03-30T03:54:09+0000</td>\n      <td>165419643537532_249693136899421</td>\n      <td>NaN</td>\n      <td>created_event</td>\n      <td>https://www.facebook.com/events/249693136899421/</td>\n      <td>https://scontent.fsgn2-5.fna.fbcdn.net/v/t1.64...</td>\n      <td>NaN</td>\n      <td>0.0</td>\n    </tr>\n    <tr>\n      <th>...</th>\n      <td>...</td>\n      <td>...</td>\n      <td>...</td>\n      <td>...</td>\n      <td>...</td>\n      <td>...</td>\n      <td>...</td>\n      <td>...</td>\n      <td>...</td>\n    </tr>\n    <tr>\n      <th>6523</th>\n      <td>6523</td>\n      <td>2011-10-03T08:53:12+0000</td>\n      <td>165419643537532_176095189136644</td>\n      <td>On September 23, to mark a World Heart Day and...</td>\n      <td>added_photos</td>\n      <td>https://www.facebook.com/USConsulateHCMC/photo...</td>\n      <td>https://scontent.fsgn2-5.fna.fbcdn.net/v/t1.18...</td>\n      <td>NaN</td>\n      <td>0.0</td>\n    </tr>\n    <tr>\n      <th>6524</th>\n      <td>6524</td>\n      <td>2011-09-30T15:05:30+0000</td>\n      <td>165419643537532_175001792579317</td>\n      <td>NaN</td>\n      <td>added_photos</td>\n      <td>https://www.facebook.com/USConsulateHCMC/photo...</td>\n      <td>https://scontent.fsgn2-2.fna.fbcdn.net/v/t1.18...</td>\n      <td>NaN</td>\n      <td>0.0</td>\n    </tr>\n    <tr>\n      <th>6525</th>\n      <td>6525</td>\n      <td>2011-09-30T06:29:49+0000</td>\n      <td>165419643537532_174882175924612</td>\n      <td>NaN</td>\n      <td>added_photos</td>\n      <td>https://www.facebook.com/USConsulateHCMC/photo...</td>\n      <td>https://scontent.fsgn2-3.fna.fbcdn.net/v/t1.18...</td>\n      <td>NaN</td>\n      <td>0.0</td>\n    </tr>\n    <tr>\n      <th>6526</th>\n      <td>6526</td>\n      <td>2011-09-28T03:15:16+0000</td>\n      <td>165419643537532_174031516009678</td>\n      <td>The American Center - Grand Opening September ...</td>\n      <td>mobile_status_update</td>\n      <td>https://www.facebook.com/165419643537532/posts...</td>\n      <td>NaN</td>\n      <td>NaN</td>\n      <td>0.0</td>\n    </tr>\n    <tr>\n      <th>6527</th>\n      <td>6527</td>\n      <td>2011-09-14T12:20:12+0000</td>\n      <td>165419643537532_168350943244402</td>\n      <td>NaN</td>\n      <td>added_photos</td>\n      <td>https://www.facebook.com/USConsulateHCMC/photo...</td>\n      <td>https://scontent.fsgn2-3.fna.fbcdn.net/v/t1.18...</td>\n      <td>NaN</td>\n      <td>0.0</td>\n    </tr>\n  </tbody>\n</table>\n<p>4615 rows × 9 columns</p>\n</div>"
     },
     "metadata": {},
     "execution_count": 112
    }
   ],
   "source": [
    "df[df[\"likes\"] == 0 & df[\"message\"].isna()]"
   ]
  },
  {
   "cell_type": "code",
   "execution_count": 95,
   "metadata": {},
   "outputs": [
    {
     "output_type": "execute_result",
     "data": {
      "text/plain": [
       "      Unnamed: 0              created_time                                id  \\\n",
       "3263        3263  2017-06-01T03:10:50+0000   165419643537532_296262150821183   \n",
       "4357        4357  2014-10-13T00:35:29+0000   165419643537532_719287898150701   \n",
       "4356        4356  2014-10-15T01:31:17+0000   165419643537532_720447801368044   \n",
       "4355        4355  2014-10-15T04:15:37+0000   165419643537532_720495784696579   \n",
       "4354        4354  2014-10-16T14:36:43+0000   165419643537532_721098564636301   \n",
       "...          ...                       ...                               ...   \n",
       "1869        1869  2019-05-24T02:19:58+0000  165419643537532_2236328996446576   \n",
       "852          852  2020-07-17T01:57:01+0000  165419643537532_3137724729640327   \n",
       "973          973  2020-06-18T02:08:00+0000  165419643537532_3058674177545383   \n",
       "781          781  2020-08-05T12:50:01+0000  165419643537532_3190675637678569   \n",
       "983          983  2020-06-14T03:09:00+0000  165419643537532_3042479769164824   \n",
       "\n",
       "                                                message    status_type  \\\n",
       "3263                                                NaN  created_event   \n",
       "4357  Mời các bạn ghi lại chương trình tuần này.  Rấ...   shared_story   \n",
       "4356  Hôm nay AC có 2 chương trình rất hay.  Hai chư...   shared_story   \n",
       "4355  Fellowships in the United States. Check it out...   added_photos   \n",
       "4354  Today, October 16th, is World Food Day – a day...   added_photos   \n",
       "...                                                 ...            ...   \n",
       "1869  THÔNG BÁO TUYỂN DỤNG \\n\\nTổng Lãnh Sự Quán Hoa...   added_photos   \n",
       "852   THÔNG BÁO TUYỂN DỤNG\\nTổng Lãnh sự quán Hoa Kỳ...   added_photos   \n",
       "973   Chúc mừng bạn đã được nhận vào trường đại học ...   added_photos   \n",
       "781   Các chuyên viên tư vấn #EducationUSA vẫn đang ...   added_photos   \n",
       "983   🦁 Bạn có phải là người hâm mộ phim Vua Sư Tử? ...    added_video   \n",
       "\n",
       "                                          permalink_url  \\\n",
       "3263   https://www.facebook.com/events/296262150821183/   \n",
       "4357  https://www.facebook.com/165419643537532/posts...   \n",
       "4356  https://www.facebook.com/165419643537532/posts...   \n",
       "4355  https://www.facebook.com/USConsulateHCMC/photo...   \n",
       "4354  https://www.facebook.com/USConsulateHCMC/photo...   \n",
       "...                                                 ...   \n",
       "1869  https://www.facebook.com/165419643537532/posts...   \n",
       "852   https://www.facebook.com/165419643537532/posts...   \n",
       "973   https://www.facebook.com/165419643537532/posts...   \n",
       "781   https://www.facebook.com/165419643537532/posts...   \n",
       "983   https://www.facebook.com/165419643537532/posts...   \n",
       "\n",
       "                                           full_picture  \\\n",
       "3263  https://scontent.fsgn2-3.fna.fbcdn.net/v/t31.1...   \n",
       "4357  https://external.fsgn2-2.fna.fbcdn.net/safe_im...   \n",
       "4356  https://external.fsgn2-2.fna.fbcdn.net/safe_im...   \n",
       "4355  https://scontent.fsgn2-3.fna.fbcdn.net/v/t1.18...   \n",
       "4354  https://scontent.fsgn2-5.fna.fbcdn.net/v/t1.18...   \n",
       "...                                                 ...   \n",
       "1869  https://scontent.fsgn2-5.fna.fbcdn.net/v/t1.64...   \n",
       "852   https://scontent.fsgn2-2.fna.fbcdn.net/v/t1.64...   \n",
       "973   https://scontent.fsgn2-5.fna.fbcdn.net/v/t1.64...   \n",
       "781   https://scontent.fsgn2-4.fna.fbcdn.net/v/t1.64...   \n",
       "983   https://scontent.fsgn2-2.fna.fbcdn.net/v/t15.5...   \n",
       "\n",
       "                                           message_tags    likes  \n",
       "3263                                                NaN      0.0  \n",
       "4357                                                 []      0.0  \n",
       "4356                                                 []      0.0  \n",
       "4355                                                 []      0.0  \n",
       "4354                                                 []      0.0  \n",
       "...                                                 ...      ...  \n",
       "1869                                                 []  12296.0  \n",
       "852                                                  []  12596.0  \n",
       "973                                                  []  13281.0  \n",
       "781   [{'id': '588953707811576', 'name': '#duhocMy',...  13775.0  \n",
       "983   [{'id': '211146183395', 'name': 'United States...  15359.0  \n",
       "\n",
       "[6528 rows x 9 columns]"
      ],
      "text/html": "<div>\n<style scoped>\n    .dataframe tbody tr th:only-of-type {\n        vertical-align: middle;\n    }\n\n    .dataframe tbody tr th {\n        vertical-align: top;\n    }\n\n    .dataframe thead th {\n        text-align: right;\n    }\n</style>\n<table border=\"1\" class=\"dataframe\">\n  <thead>\n    <tr style=\"text-align: right;\">\n      <th></th>\n      <th>Unnamed: 0</th>\n      <th>created_time</th>\n      <th>id</th>\n      <th>message</th>\n      <th>status_type</th>\n      <th>permalink_url</th>\n      <th>full_picture</th>\n      <th>message_tags</th>\n      <th>likes</th>\n    </tr>\n  </thead>\n  <tbody>\n    <tr>\n      <th>3263</th>\n      <td>3263</td>\n      <td>2017-06-01T03:10:50+0000</td>\n      <td>165419643537532_296262150821183</td>\n      <td>NaN</td>\n      <td>created_event</td>\n      <td>https://www.facebook.com/events/296262150821183/</td>\n      <td>https://scontent.fsgn2-3.fna.fbcdn.net/v/t31.1...</td>\n      <td>NaN</td>\n      <td>0.0</td>\n    </tr>\n    <tr>\n      <th>4357</th>\n      <td>4357</td>\n      <td>2014-10-13T00:35:29+0000</td>\n      <td>165419643537532_719287898150701</td>\n      <td>Mời các bạn ghi lại chương trình tuần này.  Rấ...</td>\n      <td>shared_story</td>\n      <td>https://www.facebook.com/165419643537532/posts...</td>\n      <td>https://external.fsgn2-2.fna.fbcdn.net/safe_im...</td>\n      <td>[]</td>\n      <td>0.0</td>\n    </tr>\n    <tr>\n      <th>4356</th>\n      <td>4356</td>\n      <td>2014-10-15T01:31:17+0000</td>\n      <td>165419643537532_720447801368044</td>\n      <td>Hôm nay AC có 2 chương trình rất hay.  Hai chư...</td>\n      <td>shared_story</td>\n      <td>https://www.facebook.com/165419643537532/posts...</td>\n      <td>https://external.fsgn2-2.fna.fbcdn.net/safe_im...</td>\n      <td>[]</td>\n      <td>0.0</td>\n    </tr>\n    <tr>\n      <th>4355</th>\n      <td>4355</td>\n      <td>2014-10-15T04:15:37+0000</td>\n      <td>165419643537532_720495784696579</td>\n      <td>Fellowships in the United States. Check it out...</td>\n      <td>added_photos</td>\n      <td>https://www.facebook.com/USConsulateHCMC/photo...</td>\n      <td>https://scontent.fsgn2-3.fna.fbcdn.net/v/t1.18...</td>\n      <td>[]</td>\n      <td>0.0</td>\n    </tr>\n    <tr>\n      <th>4354</th>\n      <td>4354</td>\n      <td>2014-10-16T14:36:43+0000</td>\n      <td>165419643537532_721098564636301</td>\n      <td>Today, October 16th, is World Food Day – a day...</td>\n      <td>added_photos</td>\n      <td>https://www.facebook.com/USConsulateHCMC/photo...</td>\n      <td>https://scontent.fsgn2-5.fna.fbcdn.net/v/t1.18...</td>\n      <td>[]</td>\n      <td>0.0</td>\n    </tr>\n    <tr>\n      <th>...</th>\n      <td>...</td>\n      <td>...</td>\n      <td>...</td>\n      <td>...</td>\n      <td>...</td>\n      <td>...</td>\n      <td>...</td>\n      <td>...</td>\n      <td>...</td>\n    </tr>\n    <tr>\n      <th>1869</th>\n      <td>1869</td>\n      <td>2019-05-24T02:19:58+0000</td>\n      <td>165419643537532_2236328996446576</td>\n      <td>THÔNG BÁO TUYỂN DỤNG \\n\\nTổng Lãnh Sự Quán Hoa...</td>\n      <td>added_photos</td>\n      <td>https://www.facebook.com/165419643537532/posts...</td>\n      <td>https://scontent.fsgn2-5.fna.fbcdn.net/v/t1.64...</td>\n      <td>[]</td>\n      <td>12296.0</td>\n    </tr>\n    <tr>\n      <th>852</th>\n      <td>852</td>\n      <td>2020-07-17T01:57:01+0000</td>\n      <td>165419643537532_3137724729640327</td>\n      <td>THÔNG BÁO TUYỂN DỤNG\\nTổng Lãnh sự quán Hoa Kỳ...</td>\n      <td>added_photos</td>\n      <td>https://www.facebook.com/165419643537532/posts...</td>\n      <td>https://scontent.fsgn2-2.fna.fbcdn.net/v/t1.64...</td>\n      <td>[]</td>\n      <td>12596.0</td>\n    </tr>\n    <tr>\n      <th>973</th>\n      <td>973</td>\n      <td>2020-06-18T02:08:00+0000</td>\n      <td>165419643537532_3058674177545383</td>\n      <td>Chúc mừng bạn đã được nhận vào trường đại học ...</td>\n      <td>added_photos</td>\n      <td>https://www.facebook.com/165419643537532/posts...</td>\n      <td>https://scontent.fsgn2-5.fna.fbcdn.net/v/t1.64...</td>\n      <td>[]</td>\n      <td>13281.0</td>\n    </tr>\n    <tr>\n      <th>781</th>\n      <td>781</td>\n      <td>2020-08-05T12:50:01+0000</td>\n      <td>165419643537532_3190675637678569</td>\n      <td>Các chuyên viên tư vấn #EducationUSA vẫn đang ...</td>\n      <td>added_photos</td>\n      <td>https://www.facebook.com/165419643537532/posts...</td>\n      <td>https://scontent.fsgn2-4.fna.fbcdn.net/v/t1.64...</td>\n      <td>[{'id': '588953707811576', 'name': '#duhocMy',...</td>\n      <td>13775.0</td>\n    </tr>\n    <tr>\n      <th>983</th>\n      <td>983</td>\n      <td>2020-06-14T03:09:00+0000</td>\n      <td>165419643537532_3042479769164824</td>\n      <td>🦁 Bạn có phải là người hâm mộ phim Vua Sư Tử? ...</td>\n      <td>added_video</td>\n      <td>https://www.facebook.com/165419643537532/posts...</td>\n      <td>https://scontent.fsgn2-2.fna.fbcdn.net/v/t15.5...</td>\n      <td>[{'id': '211146183395', 'name': 'United States...</td>\n      <td>15359.0</td>\n    </tr>\n  </tbody>\n</table>\n<p>6528 rows × 9 columns</p>\n</div>"
     },
     "metadata": {},
     "execution_count": 95
    }
   ],
   "source": [
    "df.sort_values(by=['likes'])"
   ]
  },
  {
   "cell_type": "code",
   "execution_count": 99,
   "metadata": {},
   "outputs": [],
   "source": [
    "ambovideo = df[df[\"message\"].str.contains(\"Kritenbrink\", na=False)]"
   ]
  },
  {
   "cell_type": "code",
   "execution_count": 100,
   "metadata": {},
   "outputs": [],
   "source": [
    "amboposts = df[df[\"message\"].str.contains(\"Kritenbrink\", na=False)]"
   ]
  },
  {
   "cell_type": "code",
   "execution_count": 102,
   "metadata": {},
   "outputs": [
    {
     "output_type": "execute_result",
     "data": {
      "text/plain": [
       "      Unnamed: 0              created_time                                id  \\\n",
       "2841        2841  2018-01-19T07:19:12+0000  165419643537532_1581788235233992   \n",
       "1920        1920  2019-04-23T02:21:25+0000  165419643537532_2186349154777894   \n",
       "1928        1928  2019-04-19T13:00:00+0000  165419643537532_2180232068722936   \n",
       "2099        2099  2018-12-12T09:00:01+0000  165419643537532_1991716517574493   \n",
       "2102        2102  2018-12-11T10:39:48+0000  165419643537532_1990617327684412   \n",
       "...          ...                       ...                               ...   \n",
       "1259        1259  2020-03-23T13:46:58+0000  165419643537532_2848846751861461   \n",
       "1236        1236  2020-03-31T06:46:11+0000  165419643537532_2866177430128393   \n",
       "1172        1172  2020-04-16T11:48:30+0000  165419643537532_2904676422945160   \n",
       "160          160  2021-02-08T13:11:19+0000  165419643537532_3707751855970942   \n",
       "1132        1132  2020-04-29T08:37:43+0000  165419643537532_2934817353264400   \n",
       "\n",
       "                                                message           status_type  \\\n",
       "2841  Sẽ diễn ra trong vòng 15' nữa, bạn đã sẵn sàng...  mobile_status_update   \n",
       "1920  Tuyên bố của Đại sứ Kritenbrink về việc nguyên...  mobile_status_update   \n",
       "1928  Tôi vô cùng vinh dự và xúc động khi được gặp T...          added_photos   \n",
       "2099  Người xưa thường nói: \"Nhập gia tùy tục\" Đại s...          added_photos   \n",
       "2102  Đại sứ Kritenbrink, Chuẩn Đô đốc Jon Kreitz và...          added_photos   \n",
       "...                                                 ...                   ...   \n",
       "1259  “Tôi gửi đến các bạn những lời chúc tốt đẹp nh...           added_video   \n",
       "1236  #ĐạisứKritenbrink: Các đối tác luôn sát cánh b...           added_video   \n",
       "1172  Cảm ơn rất nhiều 🇻🇳! ❤️❤️❤️ Hôm nay, #ĐạisứKri...          added_photos   \n",
       "160   Bằng tất cả tình cảm quý mến dành cho 🇻🇳, cộng...           added_video   \n",
       "1132  #ĐạisứKritenbrink: Sau nhiều năm gian khó và h...          added_photos   \n",
       "\n",
       "                                          permalink_url  \\\n",
       "2841  https://www.facebook.com/165419643537532/posts...   \n",
       "1920  https://www.facebook.com/165419643537532/posts...   \n",
       "1928  https://www.facebook.com/165419643537532/posts...   \n",
       "2099  https://www.facebook.com/165419643537532/posts...   \n",
       "2102  https://www.facebook.com/165419643537532/posts...   \n",
       "...                                                 ...   \n",
       "1259  https://www.facebook.com/165419643537532/posts...   \n",
       "1236  https://www.facebook.com/165419643537532/posts...   \n",
       "1172  https://www.facebook.com/165419643537532/posts...   \n",
       "160   https://www.facebook.com/165419643537532/posts...   \n",
       "1132  https://www.facebook.com/165419643537532/posts...   \n",
       "\n",
       "                                           full_picture  \\\n",
       "2841  https://scontent.fsgn2-1.fna.fbcdn.net/v/t31.1...   \n",
       "1920                                                NaN   \n",
       "1928  https://scontent.fsgn2-5.fna.fbcdn.net/v/t1.64...   \n",
       "2099  https://scontent.fsgn2-5.fna.fbcdn.net/v/t1.64...   \n",
       "2102  https://scontent.fsgn2-5.fna.fbcdn.net/v/t1.64...   \n",
       "...                                                 ...   \n",
       "1259  https://scontent.fsgn2-4.fna.fbcdn.net/v/t15.5...   \n",
       "1236  https://scontent.fsgn2-4.fna.fbcdn.net/v/t15.5...   \n",
       "1172  https://scontent.fsgn2-5.fna.fbcdn.net/v/t1.64...   \n",
       "160   https://scontent.fsgn2-1.fna.fbcdn.net/v/t15.5...   \n",
       "1132  https://scontent.fsgn2-4.fna.fbcdn.net/v/t1.64...   \n",
       "\n",
       "                                           message_tags   likes  \n",
       "2841  [{'id': '238467186292600', 'name': '#AmericanC...     0.0  \n",
       "1920                                                NaN     0.0  \n",
       "1928  [{'id': '2107028136003141', 'name': '#Ambassad...     0.0  \n",
       "2099                                                NaN     0.0  \n",
       "2102                                                NaN     0.0  \n",
       "...                                                 ...     ...  \n",
       "1259  [{'id': '2722264851181928', 'name': '#ĐạisứKri...  2085.0  \n",
       "1236  [{'id': '2722264851181928', 'name': '#ĐạisứKri...  2276.0  \n",
       "1172  [{'id': '2722264851181928', 'name': '#ĐạisứKri...  3449.0  \n",
       "160   [{'id': '312851086870901', 'name': 'Binz Da Po...  4987.0  \n",
       "1132  [{'id': '2722264851181928', 'name': '#ĐạisứKri...  5391.0  \n",
       "\n",
       "[120 rows x 9 columns]"
      ],
      "text/html": "<div>\n<style scoped>\n    .dataframe tbody tr th:only-of-type {\n        vertical-align: middle;\n    }\n\n    .dataframe tbody tr th {\n        vertical-align: top;\n    }\n\n    .dataframe thead th {\n        text-align: right;\n    }\n</style>\n<table border=\"1\" class=\"dataframe\">\n  <thead>\n    <tr style=\"text-align: right;\">\n      <th></th>\n      <th>Unnamed: 0</th>\n      <th>created_time</th>\n      <th>id</th>\n      <th>message</th>\n      <th>status_type</th>\n      <th>permalink_url</th>\n      <th>full_picture</th>\n      <th>message_tags</th>\n      <th>likes</th>\n    </tr>\n  </thead>\n  <tbody>\n    <tr>\n      <th>2841</th>\n      <td>2841</td>\n      <td>2018-01-19T07:19:12+0000</td>\n      <td>165419643537532_1581788235233992</td>\n      <td>Sẽ diễn ra trong vòng 15' nữa, bạn đã sẵn sàng...</td>\n      <td>mobile_status_update</td>\n      <td>https://www.facebook.com/165419643537532/posts...</td>\n      <td>https://scontent.fsgn2-1.fna.fbcdn.net/v/t31.1...</td>\n      <td>[{'id': '238467186292600', 'name': '#AmericanC...</td>\n      <td>0.0</td>\n    </tr>\n    <tr>\n      <th>1920</th>\n      <td>1920</td>\n      <td>2019-04-23T02:21:25+0000</td>\n      <td>165419643537532_2186349154777894</td>\n      <td>Tuyên bố của Đại sứ Kritenbrink về việc nguyên...</td>\n      <td>mobile_status_update</td>\n      <td>https://www.facebook.com/165419643537532/posts...</td>\n      <td>NaN</td>\n      <td>NaN</td>\n      <td>0.0</td>\n    </tr>\n    <tr>\n      <th>1928</th>\n      <td>1928</td>\n      <td>2019-04-19T13:00:00+0000</td>\n      <td>165419643537532_2180232068722936</td>\n      <td>Tôi vô cùng vinh dự và xúc động khi được gặp T...</td>\n      <td>added_photos</td>\n      <td>https://www.facebook.com/165419643537532/posts...</td>\n      <td>https://scontent.fsgn2-5.fna.fbcdn.net/v/t1.64...</td>\n      <td>[{'id': '2107028136003141', 'name': '#Ambassad...</td>\n      <td>0.0</td>\n    </tr>\n    <tr>\n      <th>2099</th>\n      <td>2099</td>\n      <td>2018-12-12T09:00:01+0000</td>\n      <td>165419643537532_1991716517574493</td>\n      <td>Người xưa thường nói: \"Nhập gia tùy tục\" Đại s...</td>\n      <td>added_photos</td>\n      <td>https://www.facebook.com/165419643537532/posts...</td>\n      <td>https://scontent.fsgn2-5.fna.fbcdn.net/v/t1.64...</td>\n      <td>NaN</td>\n      <td>0.0</td>\n    </tr>\n    <tr>\n      <th>2102</th>\n      <td>2102</td>\n      <td>2018-12-11T10:39:48+0000</td>\n      <td>165419643537532_1990617327684412</td>\n      <td>Đại sứ Kritenbrink, Chuẩn Đô đốc Jon Kreitz và...</td>\n      <td>added_photos</td>\n      <td>https://www.facebook.com/165419643537532/posts...</td>\n      <td>https://scontent.fsgn2-5.fna.fbcdn.net/v/t1.64...</td>\n      <td>NaN</td>\n      <td>0.0</td>\n    </tr>\n    <tr>\n      <th>...</th>\n      <td>...</td>\n      <td>...</td>\n      <td>...</td>\n      <td>...</td>\n      <td>...</td>\n      <td>...</td>\n      <td>...</td>\n      <td>...</td>\n      <td>...</td>\n    </tr>\n    <tr>\n      <th>1259</th>\n      <td>1259</td>\n      <td>2020-03-23T13:46:58+0000</td>\n      <td>165419643537532_2848846751861461</td>\n      <td>“Tôi gửi đến các bạn những lời chúc tốt đẹp nh...</td>\n      <td>added_video</td>\n      <td>https://www.facebook.com/165419643537532/posts...</td>\n      <td>https://scontent.fsgn2-4.fna.fbcdn.net/v/t15.5...</td>\n      <td>[{'id': '2722264851181928', 'name': '#ĐạisứKri...</td>\n      <td>2085.0</td>\n    </tr>\n    <tr>\n      <th>1236</th>\n      <td>1236</td>\n      <td>2020-03-31T06:46:11+0000</td>\n      <td>165419643537532_2866177430128393</td>\n      <td>#ĐạisứKritenbrink: Các đối tác luôn sát cánh b...</td>\n      <td>added_video</td>\n      <td>https://www.facebook.com/165419643537532/posts...</td>\n      <td>https://scontent.fsgn2-4.fna.fbcdn.net/v/t15.5...</td>\n      <td>[{'id': '2722264851181928', 'name': '#ĐạisứKri...</td>\n      <td>2276.0</td>\n    </tr>\n    <tr>\n      <th>1172</th>\n      <td>1172</td>\n      <td>2020-04-16T11:48:30+0000</td>\n      <td>165419643537532_2904676422945160</td>\n      <td>Cảm ơn rất nhiều 🇻🇳! ❤️❤️❤️ Hôm nay, #ĐạisứKri...</td>\n      <td>added_photos</td>\n      <td>https://www.facebook.com/165419643537532/posts...</td>\n      <td>https://scontent.fsgn2-5.fna.fbcdn.net/v/t1.64...</td>\n      <td>[{'id': '2722264851181928', 'name': '#ĐạisứKri...</td>\n      <td>3449.0</td>\n    </tr>\n    <tr>\n      <th>160</th>\n      <td>160</td>\n      <td>2021-02-08T13:11:19+0000</td>\n      <td>165419643537532_3707751855970942</td>\n      <td>Bằng tất cả tình cảm quý mến dành cho 🇻🇳, cộng...</td>\n      <td>added_video</td>\n      <td>https://www.facebook.com/165419643537532/posts...</td>\n      <td>https://scontent.fsgn2-1.fna.fbcdn.net/v/t15.5...</td>\n      <td>[{'id': '312851086870901', 'name': 'Binz Da Po...</td>\n      <td>4987.0</td>\n    </tr>\n    <tr>\n      <th>1132</th>\n      <td>1132</td>\n      <td>2020-04-29T08:37:43+0000</td>\n      <td>165419643537532_2934817353264400</td>\n      <td>#ĐạisứKritenbrink: Sau nhiều năm gian khó và h...</td>\n      <td>added_photos</td>\n      <td>https://www.facebook.com/165419643537532/posts...</td>\n      <td>https://scontent.fsgn2-4.fna.fbcdn.net/v/t1.64...</td>\n      <td>[{'id': '2722264851181928', 'name': '#ĐạisứKri...</td>\n      <td>5391.0</td>\n    </tr>\n  </tbody>\n</table>\n<p>120 rows × 9 columns</p>\n</div>"
     },
     "metadata": {},
     "execution_count": 102
    }
   ],
   "source": [
    "amboposts.sort_values(by = \"likes\")"
   ]
  },
  {
   "cell_type": "code",
   "execution_count": 15,
   "metadata": {},
   "outputs": [
    {
     "output_type": "execute_result",
     "data": {
      "text/plain": [
       "Unnamed: 0       13\n",
       "created_time     13\n",
       "id               13\n",
       "message          13\n",
       "status_type      13\n",
       "permalink_url    13\n",
       "full_picture     13\n",
       "message_tags     13\n",
       "dtype: int64"
      ]
     },
     "metadata": {},
     "execution_count": 15
    }
   ],
   "source": [
    "ambovideo.count()"
   ]
  },
  {
   "cell_type": "code",
   "execution_count": 23,
   "metadata": {},
   "outputs": [],
   "source": [
    "pd.set_option(\"max_colwidth\", None)"
   ]
  },
  {
   "cell_type": "code",
   "execution_count": 24,
   "metadata": {},
   "outputs": [
    {
     "output_type": "execute_result",
     "data": {
      "text/plain": [
       "                                                                                                                                                                                                                                                                                                                                                                                                                                                                                                                           Chúc mừng #NgàyTráiĐất 2019! BẠN đang làm gì để cứu Mẹ Trái Đất? Bạn có sẵn sàng tham gia thử thách không? Hãy cùng chúng tôi trải nghiệm một Ngày Không Rác Thải Nhựa, để Việt Nam và trái đất này trở nên sạch đẹp hơn. H'Hen Niê, Việt Max, Suboi, Hong Hoang, U.S. Embassy in Hanoi\\n#AmbassadorKritenbrink\\n#ADayWithoutPlastic\\nHappy #EarthDay2019!  What are YOU doing to save our Mother Earth?  Are you ready for a challenge? Let’s join us to have A Day Without Plastic, and make Vietnam, and the whole world, a cleaner and more beautiful place.   \n",
       "1942                                                                                                                                                                                                                                                                                                                                                                                                                                                                                                                                                                                                                                                                                                                                                                                                                 Các chính phủ có thể cùng lúc làm giảm ô nhiễm không khí và phát triển nền kinh tế. Trước mối lo ngại của công chúng về chất lượng không khí, Hoa Kỳ đã có nhiều biện pháp và cung cấp dữ liệu để các nhà nghiên cứu và công dân có thể đưa ra ý tưởng của họ. Chúng tôi cũng dựa vào một đạo luật tốt, được gọi là Đạo luật Không khí Sạch và việc thực thi luật mạnh mẽ. Liệu những giải pháp này có thể có hiệu quả tại Việt Nam?\\n\\nGovernments can reduce air pollution and grow the economy at the same time.  The United States reacted to public concern about pollution and made data available so researchers and citizens can offer solutions.  We also rely laws like the Clean Air Act, and strong enforcement. Can these solutions work in Vietnam?\\n#AmbassadorKritenbrink   \n",
       "\n",
       "      status_type  \\\n",
       "160   added_video   \n",
       "163   added_video   \n",
       "198   added_video   \n",
       "596   added_video   \n",
       "897   added_video   \n",
       "1120  added_video   \n",
       "1135  added_video   \n",
       "1236  added_video   \n",
       "1259  added_video   \n",
       "1419  added_video   \n",
       "1427  added_video   \n",
       "1924  added_video   \n",
       "1942  added_video   \n",
       "\n",
       "                                                          permalink_url  \\\n",
       "160    https://www.facebook.com/165419643537532/posts/3707751855970942/   \n",
       "163    https://www.facebook.com/165419643537532/posts/3705398099539651/   \n",
       "198    https://www.facebook.com/165419643537532/posts/3659520337460761/   \n",
       "596    https://www.facebook.com/165419643537532/posts/3359957464083718/   \n",
       "897   https://www.facebook.com/USConsulateHCMC/videos/3419265434763280/   \n",
       "1120   https://www.facebook.com/165419643537532/posts/2944736792272456/   \n",
       "1135   https://www.facebook.com/165419643537532/posts/2932872200125582/   \n",
       "1236   https://www.facebook.com/165419643537532/posts/2866177430128393/   \n",
       "1259   https://www.facebook.com/165419643537532/posts/2848846751861461/   \n",
       "1419   https://www.facebook.com/165419643537532/posts/2717830351629769/   \n",
       "1427   https://www.facebook.com/165419643537532/posts/2707317219347749/   \n",
       "1924   https://www.facebook.com/165419643537532/posts/2180293942050082/   \n",
       "1942   https://www.facebook.com/165419643537532/posts/2166696543409822/   \n",
       "\n",
       "                                                                                                                                                                                                                                                                                                                        full_picture  \\\n",
       "160                                                                             https://scontent.fsgn2-1.fna.fbcdn.net/v/t15.5256-10/146085227_3737272932987083_3101946582242083663_n.jpg?_nc_cat=111&ccb=1-3&_nc_sid=ad6a45&_nc_ohc=s_94E7XaYUMAX9m51em&_nc_ht=scontent.fsgn2-1.fna&oh=d043cc68ff5b4ab4ee86a96aecd3106d&oe=608D1A95   \n",
       "163                                                                              https://scontent.fsgn2-5.fna.fbcdn.net/v/t15.5256-10/135154206_326031575464469_4119590147561114629_n.jpg?_nc_cat=102&ccb=1-3&_nc_sid=ad6a45&_nc_ohc=Q4raGK55h8wAX-JShkh&_nc_ht=scontent.fsgn2-5.fna&oh=3069e8401c5729aa426686cb996ed470&oe=608E7061   \n",
       "198                                                                              https://scontent.fsgn2-2.fna.fbcdn.net/v/t15.5256-10/136260387_774085779858626_6473196935751275348_n.jpg?_nc_cat=103&ccb=1-3&_nc_sid=ad6a45&_nc_ohc=tkaniHyBymcAX86KIe2&_nc_ht=scontent.fsgn2-2.fna&oh=c8d8c40ff1fe9fad88ee87d425ec1681&oe=60904442   \n",
       "596                                                                             https://scontent.fsgn2-5.fna.fbcdn.net/v/t15.13418-10/120327183_326424911994961_3354453478612256446_n.jpg?_nc_cat=104&ccb=1-3&_nc_sid=ad6a45&_nc_ohc=LaPMQ-QsJXUAX9jBhrz&_nc_ht=scontent.fsgn2-5.fna&oh=ed1a7d0107969241d029e9f527959059&oe=608D58D3   \n",
       "897                                                                             https://scontent.fsgn2-5.fna.fbcdn.net/v/t15.5256-10/107424671_3419314318091725_8616411672105387595_n.jpg?_nc_cat=106&ccb=1-3&_nc_sid=ad6a45&_nc_ohc=Z7XjKJRV0W4AX8hptR9&_nc_ht=scontent.fsgn2-5.fna&oh=2ac7f39830eb875ab18443e3bb9c4fa8&oe=608E444E   \n",
       "1120                                                                              https://scontent.fsgn2-4.fna.fbcdn.net/v/t15.5256-10/95206269_699129004177805_8889907460278583296_n.jpg?_nc_cat=101&ccb=1-3&_nc_sid=ad6a45&_nc_ohc=wjp4Kx-mr8UAX9PVhke&_nc_ht=scontent.fsgn2-4.fna&oh=4d4b9698b398949a3c28724ca37dd13c&oe=608FCC48   \n",
       "1135                                                                             https://scontent.fsgn2-1.fna.fbcdn.net/v/t15.13418-10/95627109_239046140634843_7339892379203141632_n.jpg?_nc_cat=107&ccb=1-3&_nc_sid=ad6a45&_nc_ohc=XYrN4nj_K48AX_203q9&_nc_ht=scontent.fsgn2-1.fna&oh=4ac2e140f841df5103ec33ee7e9ca437&oe=608F625B   \n",
       "1236  https://scontent.fsgn2-4.fna.fbcdn.net/v/t15.5256-10/91634782_2640092239449938_8858643774855708672_n.jpg?_nc_cat=101&ccb=1-3&_nc_sid=ad6a45&_nc_ohc=QUuf8K8WkekAX-9kp-6&_nc_oc=AQkwBh5W96ZoDGYxN-jhvLVAM_fmNQiAUUxJ1yJpUu0SrNkc18Wdsllj7xhTy5JTgKU&_nc_ht=scontent.fsgn2-4.fna&oh=ca628eb53f83730cf308e23fd0e471a5&oe=608EE937   \n",
       "1259                                                                              https://scontent.fsgn2-4.fna.fbcdn.net/v/t15.5256-10/77096992_556790374948365_3085332573610573824_n.jpg?_nc_cat=109&ccb=1-3&_nc_sid=ad6a45&_nc_ohc=TRhPLIP_krIAX90t-Lj&_nc_ht=scontent.fsgn2-4.fna&oh=f293318a66e57ca58da1f5bf30840206&oe=608F0E32   \n",
       "1419                                                                              https://scontent.fsgn2-5.fna.fbcdn.net/v/t15.13418-10/74298665_491234334867712_245157596544106496_n.jpg?_nc_cat=102&ccb=1-3&_nc_sid=ad6a45&_nc_ohc=70ZaFYr3YiUAX_fSQx0&_nc_ht=scontent.fsgn2-5.fna&oh=4753f167295918b67738ee628befbef6&oe=608E5761   \n",
       "1427                                                                              https://scontent.fsgn2-3.fna.fbcdn.net/v/t15.5256-10/71696049_460825967933548_5605038282418159616_n.jpg?_nc_cat=108&ccb=1-3&_nc_sid=ad6a45&_nc_ohc=asAyG0p0QzAAX8uoMaE&_nc_ht=scontent.fsgn2-3.fna&oh=a3d0c7b7cd32072d92775c1efa47f455&oe=608D1E30   \n",
       "1924                                                                             https://scontent.fsgn2-3.fna.fbcdn.net/v/t15.13418-10/56431085_332056027454312_1801785179203698688_n.jpg?_nc_cat=108&ccb=1-3&_nc_sid=ad6a45&_nc_ohc=xF1sQSQz_FYAX_ylFpS&_nc_ht=scontent.fsgn2-3.fna&oh=2a03736468cbb72a74beb9879a7d18a4&oe=608D6DF4   \n",
       "1942                                                                             https://scontent.fsgn2-4.fna.fbcdn.net/v/t15.5256-10/54606033_1025407800975650_3199516989299097600_n.jpg?_nc_cat=101&ccb=1-3&_nc_sid=ad6a45&_nc_ohc=tqLRNvkpYPUAX-FHJ8W&_nc_ht=scontent.fsgn2-4.fna&oh=05c9dedbcf0f7d49d5248e0188792379&oe=609053D3   \n",
       "\n",
       "                                                                                                                                                                                                                                                                                                                                                                                                                                                                                                                                                                                                                                                                                                                                                                                                                                   message_tags  \n",
       "160                                                                                                                                                                                                                                                                                                                                                                                                                                                                                                                                                 [{'id': '312851086870901', 'name': 'Binz Da Poet', 'type': 'user', 'offset': 207, 'length': 12}, {'id': '312851086870901', 'name': 'Binz Da Poet', 'type': 'user', 'offset': 473, 'length': 12}, {'id': '2107028136003141', 'name': '#AmbassadorKritenbrink', 'offset': 358, 'length': 22}]  \n",
       "163                                                                                                                                                          [{'id': '312851086870901', 'name': 'Binz Da Poet', 'type': 'user', 'offset': 58, 'length': 12}, {'id': '361159270675351', 'name': 'Wowy Nguyễn', 'type': 'page', 'offset': 72, 'length': 11}, {'id': '495498560610642', 'name': 'Vietcetera', 'type': 'page', 'offset': 135, 'length': 10}, {'id': '495498560610642', 'name': 'Vietcetera', 'type': 'page', 'offset': 243, 'length': 10}, {'id': '312851086870901', 'name': 'Binz Da Poet', 'type': 'user', 'offset': 297, 'length': 12}, {'id': '361159270675351', 'name': 'Wowy Nguyễn', 'type': 'page', 'offset': 311, 'length': 11}, {'id': '2107028136003141', 'name': '#AmbassadorKritenbrink', 'offset': 88, 'length': 22}]  \n",
       "198                                                                                                                                                                                                                                                                                                                                                                                                                                                                                                                                                                                                                                                                        [{'id': '459900304078534', 'name': '#danbo', 'offset': 202, 'length': 6}, {'id': '2107028136003141', 'name': '#AmbassadorKritenbrink', 'offset': 273, 'length': 22}]  \n",
       "596                                                                                                                                                                                                                                                                                                                                                                                                                                                                                              [{'id': '2722264851181928', 'name': '#ĐạisứKritenbrink', 'offset': 0, 'length': 17}, {'id': '2107028136003141', 'name': '#AmbassadorKritenbrink', 'offset': 522, 'length': 22}, {'id': '2908410405854367', 'name': '#25nămMỹViệt', 'offset': 1084, 'length': 12}, {'id': '2485375301542107', 'name': '#US_VN25', 'offset': 1102, 'length': 8}]  \n",
       "897                                                                                                                                                                                                                                                                                                                                                                                                                                                                                                                                                                                                                                                                                                                                                 [{'id': '2107028136003141', 'name': '#AmbassadorKritenbrink', 'offset': 129, 'length': 22}]  \n",
       "1120                                                                                                                                                                                                                                                                                                                                                                                                                                                                                                                                                                                                                                                           [{'id': '2722264851181928', 'name': '#ĐạisứKritenbrink', 'offset': 56, 'length': 17}, {'id': '2107028136003141', 'name': '#AmbassadorKritenbrink', 'offset': 486, 'length': 22}]  \n",
       "1135                                                                                                                                                                                                                                                                                                                                                                                                                                                                                                                                                                               [{'id': '2722264851181928', 'name': '#ĐạisứKritenbrink', 'offset': 62, 'length': 17}, {'id': '2555494087811671', 'name': '#COVID19', 'offset': 214, 'length': 8}, {'id': '2107028136003141', 'name': '#AmbassadorKritenbrink', 'offset': 370, 'length': 22}]  \n",
       "1236                                                                                                                                                                                                                                                                                                                                                                                                                                                                                                                                                                                [{'id': '2722264851181928', 'name': '#ĐạisứKritenbrink', 'offset': 0, 'length': 17}, {'id': '2555494087811671', 'name': '#COVID19', 'offset': 121, 'length': 8}, {'id': '2107028136003141', 'name': '#AmbassadorKritenbrink', 'offset': 136, 'length': 22}]  \n",
       "1259                                                                                                                                                                                                                                                                                                                                                                                                                                                                                                                                                                            [{'id': '2722264851181928', 'name': '#ĐạisứKritenbrink', 'offset': 171, 'length': 17}, {'id': '2107028136003141', 'name': '#AmbassadorKritenbrink', 'offset': 1012, 'length': 22}, {'id': '2555494087811671', 'name': '#COVID19', 'offset': 1148, 'length': 8}]  \n",
       "1419                                                                                                                                                                                                                                                                                  [{'id': '440138752727445', 'name': 'Tung Duong Singer', 'type': 'page', 'offset': 93, 'length': 17}, {'id': '110425642319640', 'name': 'U.S. Embassy in Hanoi', 'type': 'page', 'offset': 143, 'length': 21}, {'id': '2722264851181928', 'name': '#ĐạisứKritenbrink', 'offset': 27, 'length': 17}, {'id': '2107028136003141', 'name': '#AmbassadorKritenbrink', 'offset': 66, 'length': 22}, {'id': '2908410405854367', 'name': '#25nămMỹViệt', 'offset': 113, 'length': 12}, {'id': '2485375301542107', 'name': '#US_VN25', 'offset': 131, 'length': 8}]  \n",
       "1427                                                                                                                                                                                                                                                                                                                                                                                                                                                                                                                                                                                                                                                            [{'id': '2722264851181928', 'name': '#ĐạisứKritenbrink', 'offset': 0, 'length': 17}, {'id': '2107028136003141', 'name': '#AmbassadorKritenbrink', 'offset': 226, 'length': 22}]  \n",
       "1924  [{'id': '298736694952043', 'name': \"H'Hen Niê\", 'type': 'user', 'offset': 218, 'length': 9}, {'id': '10222325448058540', 'name': 'Việt Max', 'type': 'user', 'offset': 229, 'length': 8}, {'id': '228500895181', 'name': 'Suboi', 'type': 'page', 'offset': 239, 'length': 5}, {'id': '10225080593586441', 'name': 'Hong Hoang', 'type': 'user', 'offset': 246, 'length': 10}, {'id': '110425642319640', 'name': 'U.S. Embassy in Hanoi', 'type': 'page', 'offset': 258, 'length': 21}, {'id': '730862076954437', 'name': '#ngàytráiđất', 'offset': 10, 'length': 12}, {'id': '2107028136003141', 'name': '#AmbassadorKritenbrink', 'offset': 280, 'length': 22}, {'id': '631326210271085', 'name': '#adaywithoutplastic', 'offset': 303, 'length': 19}, {'id': '852801878181280', 'name': '#EarthDay2019', 'offset': 329, 'length': 13}]  \n",
       "1942                                                                                                                                                                                                                                                                                                                                                                                                                                                                                                                                                                                                                                                                                                                                                [{'id': '2107028136003141', 'name': '#AmbassadorKritenbrink', 'offset': 736, 'length': 22}]  "
      ],
      "text/html": "<div>\n<style scoped>\n    .dataframe tbody tr th:only-of-type {\n        vertical-align: middle;\n    }\n\n    .dataframe tbody tr th {\n        vertical-align: top;\n    }\n\n    .dataframe thead th {\n        text-align: right;\n    }\n</style>\n<table border=\"1\" class=\"dataframe\">\n  <thead>\n    <tr style=\"text-align: right;\">\n      <th></th>\n      <th>Unnamed: 0</th>\n      <th>created_time</th>\n      <th>id</th>\n      <th>message</th>\n      <th>status_type</th>\n      <th>permalink_url</th>\n      <th>full_picture</th>\n      <th>message_tags</th>\n    </tr>\n  </thead>\n  <tbody>\n    <tr>\n      <th>160</th>\n      <td>160</td>\n      <td>2021-02-08T13:11:19+0000</td>\n      <td>165419643537532_3707751855970942</td>\n      <td>Bằng tất cả tình cảm quý mến dành cho 🇻🇳, cộng thêm sự trợ giúp nhiệt tình từ HLV “mát tay” Wowy thì những lời chúc mừng năm mới cực kỳ chân thành của ngài Đại sứ Mỹ tại Việt Nam Daniel Kritenbrink đã khiến Binz Da Poet phải thốt lên: “Ờ mây zing! Gút chóp!” 😆\\n\\nWith all his affection for 🇻🇳, together with enthusiastic guidance from the amazing coach Wowy, #AmbassadorKritenbrink’s Lunar New Year musical masterpiece gained the praise of one of Vietnam’s top rap artist - Binz Da Poet, who called the Ambassador’s rap, “Amazing, good job!” 😆</td>\n      <td>added_video</td>\n      <td>https://www.facebook.com/165419643537532/posts/3707751855970942/</td>\n      <td>https://scontent.fsgn2-1.fna.fbcdn.net/v/t15.5256-10/146085227_3737272932987083_3101946582242083663_n.jpg?_nc_cat=111&amp;ccb=1-3&amp;_nc_sid=ad6a45&amp;_nc_ohc=s_94E7XaYUMAX9m51em&amp;_nc_ht=scontent.fsgn2-1.fna&amp;oh=d043cc68ff5b4ab4ee86a96aecd3106d&amp;oe=608D1A95</td>\n      <td>[{'id': '312851086870901', 'name': 'Binz Da Poet', 'type': 'user', 'offset': 207, 'length': 12}, {'id': '312851086870901', 'name': 'Binz Da Poet', 'type': 'user', 'offset': 473, 'length': 12}, {'id': '2107028136003141', 'name': '#AmbassadorKritenbrink', 'offset': 358, 'length': 22}]</td>\n    </tr>\n    <tr>\n      <th>163</th>\n      <td>163</td>\n      <td>2021-02-07T13:50:19+0000</td>\n      <td>165419643537532_3705398099539651</td>\n      <td>Tết này, những gương mặt vàng trong làng Rap Việt Nam như Binz Da Poet, Wowy Nguyễn, và #AmbassadorKritenbrink 🤪 sẽ cùng lên sóng trên Vietcetera ? Đúng vậy đó! Hãy cùng đón chờ bản hit mới nhất lên sóng vào ngày mai - 8/2 nhé! 🤘🏻🤝\\n\\nThis Tet, Vietcetera celebrates famous faces of Vietnamese rap: Binz Da Poet, Wowy Nguyễn, and U.S. Ambassador Daniel Kritenbrink ?? 🤔🤔🤔 That’s right - stay tuned for our release of Vietnam’s latest rap hit tomorrow, 8/2.</td>\n      <td>added_video</td>\n      <td>https://www.facebook.com/165419643537532/posts/3705398099539651/</td>\n      <td>https://scontent.fsgn2-5.fna.fbcdn.net/v/t15.5256-10/135154206_326031575464469_4119590147561114629_n.jpg?_nc_cat=102&amp;ccb=1-3&amp;_nc_sid=ad6a45&amp;_nc_ohc=Q4raGK55h8wAX-JShkh&amp;_nc_ht=scontent.fsgn2-5.fna&amp;oh=3069e8401c5729aa426686cb996ed470&amp;oe=608E7061</td>\n      <td>[{'id': '312851086870901', 'name': 'Binz Da Poet', 'type': 'user', 'offset': 58, 'length': 12}, {'id': '361159270675351', 'name': 'Wowy Nguyễn', 'type': 'page', 'offset': 72, 'length': 11}, {'id': '495498560610642', 'name': 'Vietcetera', 'type': 'page', 'offset': 135, 'length': 10}, {'id': '495498560610642', 'name': 'Vietcetera', 'type': 'page', 'offset': 243, 'length': 10}, {'id': '312851086870901', 'name': 'Binz Da Poet', 'type': 'user', 'offset': 297, 'length': 12}, {'id': '361159270675351', 'name': 'Wowy Nguyễn', 'type': 'page', 'offset': 311, 'length': 11}, {'id': '2107028136003141', 'name': '#AmbassadorKritenbrink', 'offset': 88, 'length': 22}]</td>\n    </tr>\n    <tr>\n      <th>198</th>\n      <td>198</td>\n      <td>2021-01-24T13:08:00+0000</td>\n      <td>165419643537532_3659520337460761</td>\n      <td>Từ Nebraska đến Hanoi, it’s your boy #Danbo! 🆒 Đừng quên đón xem trên trang fanpage của chúng tôi để thấy Đại sứ Kritenbrink sắp thực hiện \"dự án\" gì hay ho nhé! 🤩\\nFrom Nebraska to Hanoi, it’s your boy #Danbo! 🆒 Don’t forget to check out our Facebook page to find out what #AmbassadorKritenBrink has been up to lately! 🤩</td>\n      <td>added_video</td>\n      <td>https://www.facebook.com/165419643537532/posts/3659520337460761/</td>\n      <td>https://scontent.fsgn2-2.fna.fbcdn.net/v/t15.5256-10/136260387_774085779858626_6473196935751275348_n.jpg?_nc_cat=103&amp;ccb=1-3&amp;_nc_sid=ad6a45&amp;_nc_ohc=tkaniHyBymcAX86KIe2&amp;_nc_ht=scontent.fsgn2-2.fna&amp;oh=c8d8c40ff1fe9fad88ee87d425ec1681&amp;oe=60904442</td>\n      <td>[{'id': '459900304078534', 'name': '#danbo', 'offset': 202, 'length': 6}, {'id': '2107028136003141', 'name': '#AmbassadorKritenbrink', 'offset': 273, 'length': 22}]</td>\n    </tr>\n    <tr>\n      <th>596</th>\n      <td>596</td>\n      <td>2020-10-01T01:57:02+0000</td>\n      <td>165419643537532_3359957464083718</td>\n      <td>#ĐạisứKritenbrink: Để tri ân Tết Trung thu của Việt Nam và Kỷ niệm 25 năm quan hệ ngoại giao 🇺🇸-🇻🇳, tôi quyết định thử làm bánh trung thu đặc biệt của riêng mình trong năm nay bằng cách kết hợp các nguyên liệu truyền thống của Việt Nam với các nguyên liệu tinh túy của Mỹ, như kem phô mai và quả việt quất. Tôi đã rất thích thú khi làm bánh và tìm hiểu thêm về các truyền thống lâu đời của Tết Trung thu. Chúc tất cả các bạn có một lễ kỷ niệm tuyệt vời bên gia đình và bạn bè của mình trong một năm vô cùng đặc biệt này!\\n\\n#AmbassadorKritenbrink: As a tribute to Vietnam’s Mid-Autumn Festival and the 25th Anniversary of 🇺🇸-🇻🇳 diplomatic relations, I decided to try making my own special mooncakes this year by combining traditional Vietnamese ingredients with quintessentially American ingredients, like cream cheese and blueberries. I had a great time making them and learning more about the time-honored traditions of the Mid-Autumn Festival. Wishing you all a wonderful celebration with your family and friends during this very special year!\\n\\nĐối tác tin cậy. Thịnh vượng bền lâu.\\n#25nămMỹViệt 🇺🇸🇻🇳 #US_VN25\\nTrusted Partners Prosper Together</td>\n      <td>added_video</td>\n      <td>https://www.facebook.com/165419643537532/posts/3359957464083718/</td>\n      <td>https://scontent.fsgn2-5.fna.fbcdn.net/v/t15.13418-10/120327183_326424911994961_3354453478612256446_n.jpg?_nc_cat=104&amp;ccb=1-3&amp;_nc_sid=ad6a45&amp;_nc_ohc=LaPMQ-QsJXUAX9jBhrz&amp;_nc_ht=scontent.fsgn2-5.fna&amp;oh=ed1a7d0107969241d029e9f527959059&amp;oe=608D58D3</td>\n      <td>[{'id': '2722264851181928', 'name': '#ĐạisứKritenbrink', 'offset': 0, 'length': 17}, {'id': '2107028136003141', 'name': '#AmbassadorKritenbrink', 'offset': 522, 'length': 22}, {'id': '2908410405854367', 'name': '#25nămMỹViệt', 'offset': 1084, 'length': 12}, {'id': '2485375301542107', 'name': '#US_VN25', 'offset': 1102, 'length': 8}]</td>\n    </tr>\n    <tr>\n      <th>897</th>\n      <td>897</td>\n      <td>2020-07-08T02:04:40+0000</td>\n      <td>165419643537532_3419265434763280</td>\n      <td>Hãy cùng tham gia giao lưu trực tuyến với Đại sứ #AmbassadorKritenbrink trên trang VietnamNet vào lúc 9:30 hôm nay!\\n\\nPlease join #AmbassadorKritenbrink on VietnamNet for a live webchat at 9:30am!</td>\n      <td>added_video</td>\n      <td>https://www.facebook.com/USConsulateHCMC/videos/3419265434763280/</td>\n      <td>https://scontent.fsgn2-5.fna.fbcdn.net/v/t15.5256-10/107424671_3419314318091725_8616411672105387595_n.jpg?_nc_cat=106&amp;ccb=1-3&amp;_nc_sid=ad6a45&amp;_nc_ohc=Z7XjKJRV0W4AX8hptR9&amp;_nc_ht=scontent.fsgn2-5.fna&amp;oh=2ac7f39830eb875ab18443e3bb9c4fa8&amp;oe=608E444E</td>\n      <td>[{'id': '2107028136003141', 'name': '#AmbassadorKritenbrink', 'offset': 129, 'length': 22}]</td>\n    </tr>\n    <tr>\n      <th>1120</th>\n      <td>1120</td>\n      <td>2020-05-03T14:04:35+0000</td>\n      <td>165419643537532_2944736792272456</td>\n      <td>Trong cuộc phỏng vấn với Truyền hình Nhân Dân tuần này, #ĐạisứKritenbrink cho biết, \"2020 là một năm quan trọng trong mối quan hệ song phương 🇺🇸-🇻🇳 khi hai nước kỷ niệm 25 năm tình hữu nghị. Mặc dù chúng ta có thể sẽ không kỷ niệm cột mốc quan trọng này theo cách mà chúng ta hình dung ban đầu, sự hỗ trợ chúng ta dành cho nhau trong những thời điểm đầy khó khăn này chính là bằng chứng rõ nét nhất về quan hệ đối tác mạnh mẽ của hai nước.\"\\n\\nIn an interview with Nhan Dan TV this week, #AmbassadorKritenbrink said, “2020 is an important year in the 🇺🇸-🇻🇳 bilateral relationship as we celebrate 25 years of friendship. While we may not be able to celebrate this important milestone in the ways we originally envisioned, there is no better proof of our strong partnership than our support for each other during these challenging times.”</td>\n      <td>added_video</td>\n      <td>https://www.facebook.com/165419643537532/posts/2944736792272456/</td>\n      <td>https://scontent.fsgn2-4.fna.fbcdn.net/v/t15.5256-10/95206269_699129004177805_8889907460278583296_n.jpg?_nc_cat=101&amp;ccb=1-3&amp;_nc_sid=ad6a45&amp;_nc_ohc=wjp4Kx-mr8UAX9PVhke&amp;_nc_ht=scontent.fsgn2-4.fna&amp;oh=4d4b9698b398949a3c28724ca37dd13c&amp;oe=608FCC48</td>\n      <td>[{'id': '2722264851181928', 'name': '#ĐạisứKritenbrink', 'offset': 56, 'length': 17}, {'id': '2107028136003141', 'name': '#AmbassadorKritenbrink', 'offset': 486, 'length': 22}]</td>\n    </tr>\n    <tr>\n      <th>1135</th>\n      <td>1135</td>\n      <td>2020-04-28T12:30:01+0000</td>\n      <td>165419643537532_2932872200125582</td>\n      <td>Ngày hôm nay, trong cuộc phỏng vấn với kênh truyền hình VTC1, #ĐạisứKritenbrink cho biết, \"Chúng tôi phản đối mạnh mẽ việc Cộng hoà Nhân dân Trung Hoa lợi dụng thời điểm khu vực đang tập trung ứng phó với đại dịch #COVID19 để cưỡng ép các nước láng giềng và thúc đẩy các tuyên bố hàng hải mang tính khiêu khích của mình tại Biển Đông.\"\\n\\nIn an interview with VTC1 today, #AmbassadorKritenbrink said, “We strongly oppose efforts by the People’s Republic of China to take advantage of the region’s focus on addressing the COVID-19 pandemic to coerce its neighbors and press its provocative maritime claims in the South China Sea.”</td>\n      <td>added_video</td>\n      <td>https://www.facebook.com/165419643537532/posts/2932872200125582/</td>\n      <td>https://scontent.fsgn2-1.fna.fbcdn.net/v/t15.13418-10/95627109_239046140634843_7339892379203141632_n.jpg?_nc_cat=107&amp;ccb=1-3&amp;_nc_sid=ad6a45&amp;_nc_ohc=XYrN4nj_K48AX_203q9&amp;_nc_ht=scontent.fsgn2-1.fna&amp;oh=4ac2e140f841df5103ec33ee7e9ca437&amp;oe=608F625B</td>\n      <td>[{'id': '2722264851181928', 'name': '#ĐạisứKritenbrink', 'offset': 62, 'length': 17}, {'id': '2555494087811671', 'name': '#COVID19', 'offset': 214, 'length': 8}, {'id': '2107028136003141', 'name': '#AmbassadorKritenbrink', 'offset': 370, 'length': 22}]</td>\n    </tr>\n    <tr>\n      <th>1236</th>\n      <td>1236</td>\n      <td>2020-03-31T06:46:11+0000</td>\n      <td>165419643537532_2866177430128393</td>\n      <td>#ĐạisứKritenbrink: Các đối tác luôn sát cánh bên nhau, và Hoa Kỳ luôn luôn sát cánh cùng Việt Nam trong trận chiến chống #COVID19 này.\\n\\n#AmbassadorKritenbrink: Partners stand together, and we stand together with Vietnam in the fight against COVID-19.</td>\n      <td>added_video</td>\n      <td>https://www.facebook.com/165419643537532/posts/2866177430128393/</td>\n      <td>https://scontent.fsgn2-4.fna.fbcdn.net/v/t15.5256-10/91634782_2640092239449938_8858643774855708672_n.jpg?_nc_cat=101&amp;ccb=1-3&amp;_nc_sid=ad6a45&amp;_nc_ohc=QUuf8K8WkekAX-9kp-6&amp;_nc_oc=AQkwBh5W96ZoDGYxN-jhvLVAM_fmNQiAUUxJ1yJpUu0SrNkc18Wdsllj7xhTy5JTgKU&amp;_nc_ht=scontent.fsgn2-4.fna&amp;oh=ca628eb53f83730cf308e23fd0e471a5&amp;oe=608EE937</td>\n      <td>[{'id': '2722264851181928', 'name': '#ĐạisứKritenbrink', 'offset': 0, 'length': 17}, {'id': '2555494087811671', 'name': '#COVID19', 'offset': 121, 'length': 8}, {'id': '2107028136003141', 'name': '#AmbassadorKritenbrink', 'offset': 136, 'length': 22}]</td>\n    </tr>\n    <tr>\n      <th>1259</th>\n      <td>1259</td>\n      <td>2020-03-23T13:46:58+0000</td>\n      <td>165419643537532_2848846751861461</td>\n      <td>“Tôi gửi đến các bạn những lời chúc tốt đẹp nhất, cũng như hy vọng chân thành rằng bạn và gia đình của bạn được an toàn và khỏe mạnh trong thời gian đầy thách thức này.\" -#ĐạiSứKritenbrink cho biết khi nói về sự hợp tác chặt chẽ giữa Phái đoàn Ngoại giao Hoa Kỳ tại Việt Nam và các cơ quan chính phủ Việt Nam trong việc hạn chế sự lây lan của #COVID19 và các nguồn thông tin quan trọng cho công dân Hoa Kỳ.\\n \\n❇️ Các dịch vụ lãnh sự cho công dân Hoa Kỳ luôn sẵn sàng và vẫn là ưu tiên hàng đầu của chúng tôi: https://bit.ly/3dxCOUW\\n❇️ Xem chuyên trang về COVID-19 của chúng tôi để biết thông tin cập nhật về tình hình COVID-19 tại Việt Nam: http://bit.ly/vncovid\\n❇️ Chúng tôi khuyến khích tất cả công dân Hoa Kỳ đang đi du lịch nước ngoài đăng ký Chương trình Đăng ký Khách du lịch Thông minh (STEP)  để nhận được các tin nhắn quan trọng: https://step.state.gov/\\n \\n“I send to each of you my best wishes, as well as the sincere hope that you and your families stay safe and healthy during this challenging time.\" -#AmbassadorKritenbrink speaks about the U.S. Mission to Vietnam's close collaboration with Vietnamese authorities to slow the spread of #COVID19 and important resources for U.S. citizens.\\n \\n❇️ Consular services for U.S. citizens are available and remain our top priority: https://bit.ly/3dxCOUW\\n❇️ Check our dedicated COVID-19 page for local updates: http://bit.ly/vncovid\\n❇️ We encourage U.S. citizens to enroll in the Smart Traveler Enrollment Program (STEP) to receive important travel messages: https://step.state.gov/</td>\n      <td>added_video</td>\n      <td>https://www.facebook.com/165419643537532/posts/2848846751861461/</td>\n      <td>https://scontent.fsgn2-4.fna.fbcdn.net/v/t15.5256-10/77096992_556790374948365_3085332573610573824_n.jpg?_nc_cat=109&amp;ccb=1-3&amp;_nc_sid=ad6a45&amp;_nc_ohc=TRhPLIP_krIAX90t-Lj&amp;_nc_ht=scontent.fsgn2-4.fna&amp;oh=f293318a66e57ca58da1f5bf30840206&amp;oe=608F0E32</td>\n      <td>[{'id': '2722264851181928', 'name': '#ĐạisứKritenbrink', 'offset': 171, 'length': 17}, {'id': '2107028136003141', 'name': '#AmbassadorKritenbrink', 'offset': 1012, 'length': 22}, {'id': '2555494087811671', 'name': '#COVID19', 'offset': 1148, 'length': 8}]</td>\n    </tr>\n    <tr>\n      <th>1419</th>\n      <td>1419</td>\n      <td>2020-01-22T14:00:14+0000</td>\n      <td>165419643537532_2717830351629769</td>\n      <td>“Tết Tết Tết Tết Đến Rồi…” #ĐạisứKritenbrink và ca sĩ Tùng Dương. #AmbassadorKritenbrink and Tung Duong Singer.\\n\\n#25nămMỹViệt 🇺🇸🇻🇳 #US_VN25\\n\\n🎥 U.S. Embassy in Hanoi</td>\n      <td>added_video</td>\n      <td>https://www.facebook.com/165419643537532/posts/2717830351629769/</td>\n      <td>https://scontent.fsgn2-5.fna.fbcdn.net/v/t15.13418-10/74298665_491234334867712_245157596544106496_n.jpg?_nc_cat=102&amp;ccb=1-3&amp;_nc_sid=ad6a45&amp;_nc_ohc=70ZaFYr3YiUAX_fSQx0&amp;_nc_ht=scontent.fsgn2-5.fna&amp;oh=4753f167295918b67738ee628befbef6&amp;oe=608E5761</td>\n      <td>[{'id': '440138752727445', 'name': 'Tung Duong Singer', 'type': 'page', 'offset': 93, 'length': 17}, {'id': '110425642319640', 'name': 'U.S. Embassy in Hanoi', 'type': 'page', 'offset': 143, 'length': 21}, {'id': '2722264851181928', 'name': '#ĐạisứKritenbrink', 'offset': 27, 'length': 17}, {'id': '2107028136003141', 'name': '#AmbassadorKritenbrink', 'offset': 66, 'length': 22}, {'id': '2908410405854367', 'name': '#25nămMỹViệt', 'offset': 113, 'length': 12}, {'id': '2485375301542107', 'name': '#US_VN25', 'offset': 131, 'length': 8}]</td>\n    </tr>\n    <tr>\n      <th>1427</th>\n      <td>1427</td>\n      <td>2020-01-17T02:13:41+0000</td>\n      <td>165419643537532_2707317219347749</td>\n      <td>#ĐạisứKritenbrink: Tôi rất vinh hạnh khi có dịp tham gia trải nghiệm nghi thức cúng tiễn Táo Quân truyền thống của người Việt. Đây là các vị thần am hiểu, bảo vệ và hỗ trợ các gia đình Việt Nam. Chúc mừng Năm mới, Việt Nam! \\n\\n#AmbassadorKritenbrink: What an honor for me to participate in the annual tradition devoted to the Kitchen Gods, who understand, protect, and support Vietnamese families! Happy New Year, Vietnam!</td>\n      <td>added_video</td>\n      <td>https://www.facebook.com/165419643537532/posts/2707317219347749/</td>\n      <td>https://scontent.fsgn2-3.fna.fbcdn.net/v/t15.5256-10/71696049_460825967933548_5605038282418159616_n.jpg?_nc_cat=108&amp;ccb=1-3&amp;_nc_sid=ad6a45&amp;_nc_ohc=asAyG0p0QzAAX8uoMaE&amp;_nc_ht=scontent.fsgn2-3.fna&amp;oh=a3d0c7b7cd32072d92775c1efa47f455&amp;oe=608D1E30</td>\n      <td>[{'id': '2722264851181928', 'name': '#ĐạisứKritenbrink', 'offset': 0, 'length': 17}, {'id': '2107028136003141', 'name': '#AmbassadorKritenbrink', 'offset': 226, 'length': 22}]</td>\n    </tr>\n    <tr>\n      <th>1924</th>\n      <td>1924</td>\n      <td>2019-04-22T02:00:00+0000</td>\n      <td>165419643537532_2180293942050082</td>\n      <td>Chúc mừng #NgàyTráiĐất 2019! BẠN đang làm gì để cứu Mẹ Trái Đất? Bạn có sẵn sàng tham gia thử thách không? Hãy cùng chúng tôi trải nghiệm một Ngày Không Rác Thải Nhựa, để Việt Nam và trái đất này trở nên sạch đẹp hơn. H'Hen Niê, Việt Max, Suboi, Hong Hoang, U.S. Embassy in Hanoi\\n#AmbassadorKritenbrink\\n#ADayWithoutPlastic\\nHappy #EarthDay2019!  What are YOU doing to save our Mother Earth?  Are you ready for a challenge? Let’s join us to have A Day Without Plastic, and make Vietnam, and the whole world, a cleaner and more beautiful place.</td>\n      <td>added_video</td>\n      <td>https://www.facebook.com/165419643537532/posts/2180293942050082/</td>\n      <td>https://scontent.fsgn2-3.fna.fbcdn.net/v/t15.13418-10/56431085_332056027454312_1801785179203698688_n.jpg?_nc_cat=108&amp;ccb=1-3&amp;_nc_sid=ad6a45&amp;_nc_ohc=xF1sQSQz_FYAX_ylFpS&amp;_nc_ht=scontent.fsgn2-3.fna&amp;oh=2a03736468cbb72a74beb9879a7d18a4&amp;oe=608D6DF4</td>\n      <td>[{'id': '298736694952043', 'name': \"H'Hen Niê\", 'type': 'user', 'offset': 218, 'length': 9}, {'id': '10222325448058540', 'name': 'Việt Max', 'type': 'user', 'offset': 229, 'length': 8}, {'id': '228500895181', 'name': 'Suboi', 'type': 'page', 'offset': 239, 'length': 5}, {'id': '10225080593586441', 'name': 'Hong Hoang', 'type': 'user', 'offset': 246, 'length': 10}, {'id': '110425642319640', 'name': 'U.S. Embassy in Hanoi', 'type': 'page', 'offset': 258, 'length': 21}, {'id': '730862076954437', 'name': '#ngàytráiđất', 'offset': 10, 'length': 12}, {'id': '2107028136003141', 'name': '#AmbassadorKritenbrink', 'offset': 280, 'length': 22}, {'id': '631326210271085', 'name': '#adaywithoutplastic', 'offset': 303, 'length': 19}, {'id': '852801878181280', 'name': '#EarthDay2019', 'offset': 329, 'length': 13}]</td>\n    </tr>\n    <tr>\n      <th>1942</th>\n      <td>1942</td>\n      <td>2019-04-13T02:00:26+0000</td>\n      <td>165419643537532_2166696543409822</td>\n      <td>Các chính phủ có thể cùng lúc làm giảm ô nhiễm không khí và phát triển nền kinh tế. Trước mối lo ngại của công chúng về chất lượng không khí, Hoa Kỳ đã có nhiều biện pháp và cung cấp dữ liệu để các nhà nghiên cứu và công dân có thể đưa ra ý tưởng của họ. Chúng tôi cũng dựa vào một đạo luật tốt, được gọi là Đạo luật Không khí Sạch và việc thực thi luật mạnh mẽ. Liệu những giải pháp này có thể có hiệu quả tại Việt Nam?\\n\\nGovernments can reduce air pollution and grow the economy at the same time.  The United States reacted to public concern about pollution and made data available so researchers and citizens can offer solutions.  We also rely laws like the Clean Air Act, and strong enforcement. Can these solutions work in Vietnam?\\n#AmbassadorKritenbrink</td>\n      <td>added_video</td>\n      <td>https://www.facebook.com/165419643537532/posts/2166696543409822/</td>\n      <td>https://scontent.fsgn2-4.fna.fbcdn.net/v/t15.5256-10/54606033_1025407800975650_3199516989299097600_n.jpg?_nc_cat=101&amp;ccb=1-3&amp;_nc_sid=ad6a45&amp;_nc_ohc=tqLRNvkpYPUAX-FHJ8W&amp;_nc_ht=scontent.fsgn2-4.fna&amp;oh=05c9dedbcf0f7d49d5248e0188792379&amp;oe=609053D3</td>\n      <td>[{'id': '2107028136003141', 'name': '#AmbassadorKritenbrink', 'offset': 736, 'length': 22}]</td>\n    </tr>\n  </tbody>\n</table>\n</div>"
     },
     "metadata": {},
     "execution_count": 24
    }
   ],
   "source": [
    "ambovideo"
   ]
  },
  {
   "cell_type": "code",
   "execution_count": 26,
   "metadata": {},
   "outputs": [],
   "source": [
    "amb_posts = df[df[\"message\"].str.contains(\"Tarnowka\", na=False)]"
   ]
  },
  {
   "cell_type": "code",
   "execution_count": 38,
   "metadata": {},
   "outputs": [
    {
     "output_type": "execute_result",
     "data": {
      "text/plain": [
       "                      Unnamed: 0  created_time  id  message  permalink_url  \\\n",
       "status_type                                                                  \n",
       "added_photos                  96            96  96       96             96   \n",
       "added_video                   13            13  13       13             13   \n",
       "mobile_status_update           3             3   3        3              3   \n",
       "shared_story                   8             8   8        8              8   \n",
       "\n",
       "                      full_picture  message_tags  \n",
       "status_type                                       \n",
       "added_photos                    96            87  \n",
       "added_video                     13            13  \n",
       "mobile_status_update             2             2  \n",
       "shared_story                     8             8  "
      ],
      "text/html": "<div>\n<style scoped>\n    .dataframe tbody tr th:only-of-type {\n        vertical-align: middle;\n    }\n\n    .dataframe tbody tr th {\n        vertical-align: top;\n    }\n\n    .dataframe thead th {\n        text-align: right;\n    }\n</style>\n<table border=\"1\" class=\"dataframe\">\n  <thead>\n    <tr style=\"text-align: right;\">\n      <th></th>\n      <th>Unnamed: 0</th>\n      <th>created_time</th>\n      <th>id</th>\n      <th>message</th>\n      <th>permalink_url</th>\n      <th>full_picture</th>\n      <th>message_tags</th>\n    </tr>\n    <tr>\n      <th>status_type</th>\n      <th></th>\n      <th></th>\n      <th></th>\n      <th></th>\n      <th></th>\n      <th></th>\n      <th></th>\n    </tr>\n  </thead>\n  <tbody>\n    <tr>\n      <th>added_photos</th>\n      <td>96</td>\n      <td>96</td>\n      <td>96</td>\n      <td>96</td>\n      <td>96</td>\n      <td>96</td>\n      <td>87</td>\n    </tr>\n    <tr>\n      <th>added_video</th>\n      <td>13</td>\n      <td>13</td>\n      <td>13</td>\n      <td>13</td>\n      <td>13</td>\n      <td>13</td>\n      <td>13</td>\n    </tr>\n    <tr>\n      <th>mobile_status_update</th>\n      <td>3</td>\n      <td>3</td>\n      <td>3</td>\n      <td>3</td>\n      <td>3</td>\n      <td>2</td>\n      <td>2</td>\n    </tr>\n    <tr>\n      <th>shared_story</th>\n      <td>8</td>\n      <td>8</td>\n      <td>8</td>\n      <td>8</td>\n      <td>8</td>\n      <td>8</td>\n      <td>8</td>\n    </tr>\n  </tbody>\n</table>\n</div>"
     },
     "metadata": {},
     "execution_count": 38
    }
   ],
   "source": [
    "amb_posts.groupby(\"status_type\").count()"
   ]
  },
  {
   "cell_type": "code",
   "execution_count": 55,
   "metadata": {},
   "outputs": [
    {
     "output_type": "execute_result",
     "data": {
      "text/plain": [
       "      Unnamed: 0              created_time                                id  \\\n",
       "226          226  2021-01-15T13:00:23+0000  165419643537532_3644014275678034   \n",
       "1920        1920  2019-04-23T02:21:25+0000  165419643537532_2186349154777894   \n",
       "2841        2841  2018-01-19T07:19:12+0000  165419643537532_1581788235233992   \n",
       "\n",
       "                                                                                                                                                                                                                                                                                                                                                                                                                                                                                                                                                                                                                                                                                                                                                                                                                                                                                                                                                                                                                                                                                                                                                                                                                                                                                                                       message  \\\n",
       "226                                                                                                                                                                                                                                                                                                                                                                                                                                                                                                                                                                                                                                                                                                                                                                                                                                                                                                                                           🤪 Ơ, Đại sứ Kritenbrink và Wowy đã dành thời gian gặp nhau tại Hà Nội kìa! Bạn có tò mò họ đang thực hiện \"dự án\" gì không? Hãy cùng chờ xem nhé! 😉🆒\\n\\n🤪 Spotted! #AmbassadorKritenbrink and Wowy spent some quality time in Hanoi. Wonder what they were doing? 🤔 Stay tuned to find out! 😉🆒\\n\\nhttps://www.facebook.com/artistwowy/photos/a.372575242867087/2514459638678626/   \n",
       "1920  Tuyên bố của Đại sứ Kritenbrink về việc nguyên Chủ tịch nước Lê Đức Anh qua đời:\\n\\nPhái đoàn Ngoại giao Hoa Kỳ tại Việt Nam bày tỏ lời chia buồn chân thành về việc ông Lê Đức Anh, nguyên Chủ tịch nước Việt Nam, qua đời. Ông Lê Đức Anh phục vụ trong quá trình hai nước chúng ta thực hiện bình thường hóa quan hệ song phương, qua đó đưa tới mối quan hệ đối tác và hữu nghị sâu sắc mà hai quốc gia đang có. Trong thời gian ông lãnh đạo, Việt Nam bắt đầu cải cách và quá trình cải cách đã góp phần mang lại tăng trưởng kinh tế và sự phát triển đáng kể cho đất nước. Chúng tôi xin gửi sự cảm thông tới gia đình và người thân của ông Lê Đức Anh, cũng như tới nhân dân Việt Nam.\\n\\nStatement by Ambassador Kritenbrink on the Passing of Former President Lê Đức Anh:\\n\\nThe U.S. Mission in Vietnam expresses sincere condolences regarding the passing of Lê Đức Anh, former President of Vietnam. Lê Đức Anh served during normalization of bilateral relations between our two countries, leading to the deep partnership and friendship that our two nations enjoy today. During his leadership, Vietnam began reforms that helped build significant economic growth and development for the country. We send our sympathies to Lê Đức Anh’s family, his loved ones, and to the people of Vietnam.   \n",
       "2841                                                                                                                                                                                                                                                                                                                                                                                                                                                                                                                                                                                                                                                                                                                                                                                                                                                                                                                                                                                                                                                                                                                                                                                                                Sẽ diễn ra trong vòng 15' nữa, bạn đã sẵn sàng để gặp Đại sứ Hoa Kỳ Daniel j. Kritenbrink? #AmericanCenter   \n",
       "\n",
       "               status_type  \\\n",
       "226   mobile_status_update   \n",
       "1920  mobile_status_update   \n",
       "2841  mobile_status_update   \n",
       "\n",
       "                                                         permalink_url  \\\n",
       "226   https://www.facebook.com/165419643537532/posts/3644014275678034/   \n",
       "1920  https://www.facebook.com/165419643537532/posts/2186349154777894/   \n",
       "2841  https://www.facebook.com/165419643537532/posts/1581788235233992/   \n",
       "\n",
       "                                                                                                                                                                                                                                                                            full_picture  \\\n",
       "226                     https://scontent.fsgn2-1.fna.fbcdn.net/v/t1.6435-9/s720x720/136755501_2514459642011959_4219588117417997827_n.jpg?_nc_cat=111&ccb=1-3&_nc_sid=110474&_nc_ohc=o6es-Dlp--UAX8C8OZP&_nc_ht=scontent.fsgn2-1.fna&tp=7&oh=2f49b7e168ab85773b5a6cf8532e8bd1&oe=609027E8   \n",
       "1920                                                                                                                                                                                                                                                                                 NaN   \n",
       "2841  https://scontent.fsgn2-1.fna.fbcdn.net/v/t31.18172-8/c280.0.720.720a/p720x720/26240051_1578797218866427_7266616833360748108_o.jpg?_nc_cat=105&ccb=1-3&_nc_sid=b386c4&_nc_ohc=N2pPQI9qth4AX_NEStz&_nc_ht=scontent.fsgn2-1.fna&tp=27&oh=eff3e7c55d04d8df7625d5fdf89108bf&oe=608EC04F   \n",
       "\n",
       "                                                                                     message_tags  \n",
       "226   [{'id': '2107028136003141', 'name': '#AmbassadorKritenbrink', 'offset': 161, 'length': 22}]  \n",
       "1920                                                                                          NaN  \n",
       "2841           [{'id': '238467186292600', 'name': '#AmericanCenter', 'offset': 91, 'length': 15}]  "
      ],
      "text/html": "<div>\n<style scoped>\n    .dataframe tbody tr th:only-of-type {\n        vertical-align: middle;\n    }\n\n    .dataframe tbody tr th {\n        vertical-align: top;\n    }\n\n    .dataframe thead th {\n        text-align: right;\n    }\n</style>\n<table border=\"1\" class=\"dataframe\">\n  <thead>\n    <tr style=\"text-align: right;\">\n      <th></th>\n      <th>Unnamed: 0</th>\n      <th>created_time</th>\n      <th>id</th>\n      <th>message</th>\n      <th>status_type</th>\n      <th>permalink_url</th>\n      <th>full_picture</th>\n      <th>message_tags</th>\n    </tr>\n  </thead>\n  <tbody>\n    <tr>\n      <th>226</th>\n      <td>226</td>\n      <td>2021-01-15T13:00:23+0000</td>\n      <td>165419643537532_3644014275678034</td>\n      <td>🤪 Ơ, Đại sứ Kritenbrink và Wowy đã dành thời gian gặp nhau tại Hà Nội kìa! Bạn có tò mò họ đang thực hiện \"dự án\" gì không? Hãy cùng chờ xem nhé! 😉🆒\\n\\n🤪 Spotted! #AmbassadorKritenbrink and Wowy spent some quality time in Hanoi. Wonder what they were doing? 🤔 Stay tuned to find out! 😉🆒\\n\\nhttps://www.facebook.com/artistwowy/photos/a.372575242867087/2514459638678626/</td>\n      <td>mobile_status_update</td>\n      <td>https://www.facebook.com/165419643537532/posts/3644014275678034/</td>\n      <td>https://scontent.fsgn2-1.fna.fbcdn.net/v/t1.6435-9/s720x720/136755501_2514459642011959_4219588117417997827_n.jpg?_nc_cat=111&amp;ccb=1-3&amp;_nc_sid=110474&amp;_nc_ohc=o6es-Dlp--UAX8C8OZP&amp;_nc_ht=scontent.fsgn2-1.fna&amp;tp=7&amp;oh=2f49b7e168ab85773b5a6cf8532e8bd1&amp;oe=609027E8</td>\n      <td>[{'id': '2107028136003141', 'name': '#AmbassadorKritenbrink', 'offset': 161, 'length': 22}]</td>\n    </tr>\n    <tr>\n      <th>1920</th>\n      <td>1920</td>\n      <td>2019-04-23T02:21:25+0000</td>\n      <td>165419643537532_2186349154777894</td>\n      <td>Tuyên bố của Đại sứ Kritenbrink về việc nguyên Chủ tịch nước Lê Đức Anh qua đời:\\n\\nPhái đoàn Ngoại giao Hoa Kỳ tại Việt Nam bày tỏ lời chia buồn chân thành về việc ông Lê Đức Anh, nguyên Chủ tịch nước Việt Nam, qua đời. Ông Lê Đức Anh phục vụ trong quá trình hai nước chúng ta thực hiện bình thường hóa quan hệ song phương, qua đó đưa tới mối quan hệ đối tác và hữu nghị sâu sắc mà hai quốc gia đang có. Trong thời gian ông lãnh đạo, Việt Nam bắt đầu cải cách và quá trình cải cách đã góp phần mang lại tăng trưởng kinh tế và sự phát triển đáng kể cho đất nước. Chúng tôi xin gửi sự cảm thông tới gia đình và người thân của ông Lê Đức Anh, cũng như tới nhân dân Việt Nam.\\n\\nStatement by Ambassador Kritenbrink on the Passing of Former President Lê Đức Anh:\\n\\nThe U.S. Mission in Vietnam expresses sincere condolences regarding the passing of Lê Đức Anh, former President of Vietnam. Lê Đức Anh served during normalization of bilateral relations between our two countries, leading to the deep partnership and friendship that our two nations enjoy today. During his leadership, Vietnam began reforms that helped build significant economic growth and development for the country. We send our sympathies to Lê Đức Anh’s family, his loved ones, and to the people of Vietnam.</td>\n      <td>mobile_status_update</td>\n      <td>https://www.facebook.com/165419643537532/posts/2186349154777894/</td>\n      <td>NaN</td>\n      <td>NaN</td>\n    </tr>\n    <tr>\n      <th>2841</th>\n      <td>2841</td>\n      <td>2018-01-19T07:19:12+0000</td>\n      <td>165419643537532_1581788235233992</td>\n      <td>Sẽ diễn ra trong vòng 15' nữa, bạn đã sẵn sàng để gặp Đại sứ Hoa Kỳ Daniel j. Kritenbrink? #AmericanCenter</td>\n      <td>mobile_status_update</td>\n      <td>https://www.facebook.com/165419643537532/posts/1581788235233992/</td>\n      <td>https://scontent.fsgn2-1.fna.fbcdn.net/v/t31.18172-8/c280.0.720.720a/p720x720/26240051_1578797218866427_7266616833360748108_o.jpg?_nc_cat=105&amp;ccb=1-3&amp;_nc_sid=b386c4&amp;_nc_ohc=N2pPQI9qth4AX_NEStz&amp;_nc_ht=scontent.fsgn2-1.fna&amp;tp=27&amp;oh=eff3e7c55d04d8df7625d5fdf89108bf&amp;oe=608EC04F</td>\n      <td>[{'id': '238467186292600', 'name': '#AmericanCenter', 'offset': 91, 'length': 15}]</td>\n    </tr>\n  </tbody>\n</table>\n</div>"
     },
     "metadata": {},
     "execution_count": 55
    }
   ],
   "source": [
    "amb_posts[amb_posts[\"status_type\"] == \"mobile_status_update\"]"
   ]
  },
  {
   "cell_type": "code",
   "execution_count": 50,
   "metadata": {},
   "outputs": [
    {
     "output_type": "execute_result",
     "data": {
      "text/plain": [
       "                                                                                                                                                                                                                                                                                                                                                                                                                                                                 message  \\\n",
       "2                                                                                                                                                                                                                                                                                                                                                                                                                                                                                                      🇺🇸🤝🇻🇳 Bộ trưởng Bộ Y tế Nguyễn Thanh Long và Đại sứ Kritenbrink đều biết rằng không một quốc gia nào an toàn trước COVID-19 cho đến khi tất cả các nước đều đã an toàn, đó là lý do vì sao Hoa Kỳ và Việt Nam đang phối hợp để đưa vắc xin đến với người dân Việt Nam trong thời gian sớm nhất có thể. Bạn có biết Hoa Kỳ là nước đóng góp nhiều nhất cho cơ chế COVAX? Và xin chúc mừng Việt Nam đã đạt được những thành công đáng kinh ngạc trong kiểm soát COVID-19. Hoa Kỳ và Việt Nam đang cùng hành động để tăng cường hợp tác y tế song phương! 👩🏻‍⚕️🧪😷\\n\\n🇺🇸🤝🇻🇳 Minister of Health Nguyen Thanh Long and Ambassador Kritenbrink know that no country is safe from COVID-19 until every country is safe, which is why the United States and Vietnam are collaborating to distribute vaccine to the people of Vietnam as quickly as possible. Did you know that the United States is the largest contributor to the COVAX facility? And congratulations to Vietnam for their amazing success at controlling COVID-19. The United States and Vietnam are working together to strengthen our health cooperation! 👩🏻‍⚕️🧪😷\\n\\n📸 Photo credit: Chí Cường (Báo Gia đình và Xã hội)   \n",
       "7                                                                                                                                                                                                                                                                                                                                                                                                                                                                                                                                                                                                                                                                                                                                                                                                                                                                                                                                                                 #ĐạisứKritenbrink: Hoa Kỳ vui mừng chào đón lô vắc xin COVID-19 đầu tiên được tài trợ từ chương trình COVAX đến Việt Nam ngày hôm nay. Vắc xin có vai trò quan trọng để chấm dứt đại dịch này và Hoa Kỳ tự hào hỗ trợ nỗ lực toàn cầu này với khoản đóng góp ban đầu là 2 tỷ đô la cho chương trình COVAX thông qua USAID - US Agency for International Development. 🇻🇳🇺🇸\\n\\n#AmbassadorKritenbrink: The United States welcomes the arrival of COVID-19 vaccines from COVAX in Vietnam today. Vaccines are critical to ending this pandemic, and the United States is proud to support the global effort with an initial $2 billion contribution to COVAX through USAID - US Agency for International Development. 🇻🇳🇺🇸   \n",
       "39                                                                                                                                                                                                                                                                                                                                                                                                                                                   Đại sứ Hoa Kỳ Daniel Kritenbrink đã tham gia lễ ký kết của tổ chức Đối tác Một sức khoẻ Phòng chống Dịch bệnh từ Động vật sang Người tại Việt Nam. Khung Đối tác thể hiện sự hỗ trợ liên tục từ Chính phủ Hoa Kỳ và các đối tác khác cùng chung tay với Chính phủ Việt Nam trong nỗ lực ngăn chặn, phát hiện và ứng phó với các mối de doạ từ bệnh truyền nhiễm trên phạm vi động vật - con người (bệnh truyền nhiễm từ động vật) và dịch bệnh có nguy cơ trở thành đại dịch lây lan từ động vật, như trường hợp COVID-19. Hoa Kỳ 🇺🇸 và Việt Nam 🇻🇳 đang làm việc cùng nhau để tăng cường hợp tác y tế!\\n\\nU.S. Ambassador Daniel Kritenbrink participated in a signing ceremony for Vietnam’s One Health Partnership for Zoonoses. The Partnership Framework signals the continued support of the U.S. Government, and other partners, to the Government of Vietnam in its efforts to prevent, detect, and respond to emerging infectious disease threats which may spillover at the animal - human interface (zoonotic diseases) and to epidemics at risk of becoming animal pandemic spread, as in the case of COVID-19. Together, the United States 🇺🇸 and Vietnam 🇻🇳 are working together to strengthen our health cooperation!   \n",
       "160                                                                                                                                                                                                                                                                                                                                                                                                                                                                                                                                                                                                                                                                                                                                                                                                                                                                                                                                                                                                                                                                                                                      Bằng tất cả tình cảm quý mến dành cho 🇻🇳, cộng thêm sự trợ giúp nhiệt tình từ HLV “mát tay” Wowy thì những lời chúc mừng năm mới cực kỳ chân thành của ngài Đại sứ Mỹ tại Việt Nam Daniel Kritenbrink đã khiến Binz Da Poet phải thốt lên: “Ờ mây zing! Gút chóp!” 😆\\n\\nWith all his affection for 🇻🇳, together with enthusiastic guidance from the amazing coach Wowy, #AmbassadorKritenbrink’s Lunar New Year musical masterpiece gained the praise of one of Vietnam’s top rap artist - Binz Da Poet, who called the Ambassador’s rap, “Amazing, good job!” 😆   \n",
       "163                                                                                                                                                                                                                                                                                                                                                                                                                                                                                                                                                                                                                                                                                                                                                                                                                                                                                                                                                                                                                                                                                                                                                                                                              Tết này, những gương mặt vàng trong làng Rap Việt Nam như Binz Da Poet, Wowy Nguyễn, và #AmbassadorKritenbrink 🤪 sẽ cùng lên sóng trên Vietcetera ? Đúng vậy đó! Hãy cùng đón chờ bản hit mới nhất lên sóng vào ngày mai - 8/2 nhé! 🤘🏻🤝\\n\\nThis Tet, Vietcetera celebrates famous faces of Vietnamese rap: Binz Da Poet, Wowy Nguyễn, and U.S. Ambassador Daniel Kritenbrink ?? 🤔🤔🤔 That’s right - stay tuned for our release of Vietnam’s latest rap hit tomorrow, 8/2.   \n",
       "...                                                                                                                                                                                                                                                                                                                                                                                                                                                                                                                                                                                                                                                                                                                                                                                                                                                                                                                                                                                                                                                                                                                                                                                                                                                                                                                                                                                                                                                                                                                                                                                                                                                                                   ...   \n",
       "2267                                                                                                                                                                                                                                                                                                                                                                                                                                                                                                                                                                                                                                                                                                                                                                                                                                                                                                                                                  Đại sứ Ambassador Daniel J. Kritenbrink và Tổng Lãnh sự Tarnowka chúc đoàn quân y của Bệnh viện Quân y 175 thượng lộ bình an. Bệnh viện 175 vừa cử các bác sĩ và nhân viên y tế sang Nam Sudan để tham gia lực lượng gìn giữ hòa bình của Liên Hiệp Quốc lần đầu tiên. Hoa Kỳ tự hào hợp tác cùng Việt Nam trong việc hỗ trợ an toàn, an ninh và nhân đạo ở Nam Sudan.\\n\\nAmbassador Kritenbrink and Consul General Tarnowka wished safe travels to Vietnam's Military Hospital 175, which just sent doctors and medical staff to South Sudan for its first-ever United Nations peacekeeping mission. The United States is proud to partner with Vietnam in providing safety, security, and humanitarian assistance in South Sudan.   \n",
       "2277                                                                                                                                                                                                                                                                                                                                                                                                                                                                                                                                                                                                                                                                                                                                                                                                                                                                                                                                                                                                                                                                                                                                                                                                                                                                                                                                                                                                                                           Cùng thưởng thức bia thủ công Mỹ được sản xuất tại Việt Nam với Đại sứ Kritenbrink và Phó Tổng Lãnh sự Tim Liston. #CGTarnowka\\n\\nEnjoying American craft beer, brewed in Vietnam, with Ambassador Kritenbrink and Tim Liston. #CGTarnowka   \n",
       "2294  Thay mặt Phái đoàn Ngoại giao Hoa Kỳ tại Việt Nam, tôi xin gửi lời chia buồn chân thành về việc Chủ tịch nước Trần Đại Quang từ trần. Chúng tôi xin bày tỏ lòng cảm thông tới gia đình ông và nhân dân Việt Nam vào thời khắc đau buồn này. Chủ tịch nước Trần Đại Quang là một người bạn của mối quan hệ Hoa Kỳ - Việt Nam. Sự tiếp đón của ông trong chuyến thăm lịch sử của Tổng thống Donald J. Trump tới Hà Nội vào tháng 11 năm 2017 đã giúp đưa mối Quan hệ Đối tác Toàn diện Hoa Kỳ - Việt Nam lên tầm cao mới trên cơ sở hiểu biết lẫn nhau, có lợi ích chung và mong muốn chung nhằm thúc đẩy hòa bình, hợp tác, thịnh vượng và an ninh trong khu vực Ấn Độ Dương - Thái Bình Dương.\\n\\nCùng với gia đình và bạn bè của ông cũng như nhân dân Việt Nam, chúng tôi trân trọng di sản ông để lại và bày tỏ lòng tiếc thương trước sự ra đi của ông.\\n\\nTrân trọng, \\nDaniel Kritenbrink\\n\\nOn behalf of the U.S. Mission in Vietnam, I would like to express our sincere condolences on the passing of President Tran Dai Quang. Our sympathies go out to his family and the people of Vietnam at this sad time. President Tran Dai Quang was a friend of the U.S.-Vietnam relationship. His hosting of President Donald J. Trump’s historic state visit to Hanoi in November 2017 helped advance the U.S.-Vietnam Comprehensive Partnership to new heights on the basis of mutual understanding, shared interests, and a common desire to promote peace, cooperation, prosperity, and security in the Indo-Pacific region.\\n\\nWe honor his legacy and mourn his loss alongside his family and our friends, the people of Vietnam.\\n\\nVery truly yours,\\nDaniel Kritenbrink   \n",
       "2303                                                                                                                                                                                                                                                                                                                                                                                                                                                                                                                                                                                  Đại sứ Kritenbrink đã đến tham quan các địa điểm diễn ra chương trình Thiên Thần Thái Bình Dương ở tỉnh Quảng Nam cuối tuần qua. Mỗi năm, chương trình Thiên Thần Thái Bình Dương quy tụ các nhân viên dân sự và quân sự đến từ Hoa Kỳ và 7 quốc gia đối tác ở khắp khu vực Ấn Độ Dương - Thái Bình Dương để hỗ trợ nhân đạo cho người dân Việt Nam. Chuơng trình Thiên Thần Thái Bình Dương là một trong nhiều hoạt động Hoa Kỳ thực hiện cùng Việt Nam cũng như các quốc gia và tổ chức khác để xây dựng năng lực và quan hệ đối tác trong khu vực Ấn Độ Dương - Thái Bình Dương.  \\n\\nAmbassador Kritenbrink visited the Pacific Angel sites in Quang Nam Province this weekend. Every year, Pacific Angel brings together civilian and military personnel from the United States and seven partners throughout the Indo-Pacific region to support humanitarian assistance to th‎e Vietnamese people. Pacific Angel is one of the many ways that the United States works together with Vietnam and other nations and organizations to build capacity and partnership in the Indo-Pacific region.   \n",
       "2841                                                                                                                                                                                                                                                                                                                                                                                                                                                                                                                                                                                                                                                                                                                                                                                                                                                                                                                                                                                                                                                                                                                                                                                                                                                                                                                                                                                                                                                                                                                                                                           Sẽ diễn ra trong vòng 15' nữa, bạn đã sẵn sàng để gặp Đại sứ Hoa Kỳ Daniel j. Kritenbrink? #AmericanCenter   \n",
       "\n",
       "               status_type  \\\n",
       "2             added_photos   \n",
       "7             added_photos   \n",
       "39            added_photos   \n",
       "160            added_video   \n",
       "163            added_video   \n",
       "...                    ...   \n",
       "2267          added_photos   \n",
       "2277          added_photos   \n",
       "2294          added_photos   \n",
       "2303          added_photos   \n",
       "2841  mobile_status_update   \n",
       "\n",
       "                                                                                   permalink_url  \n",
       "2                               https://www.facebook.com/165419643537532/posts/3859056144173845/  \n",
       "7                               https://www.facebook.com/165419643537532/posts/3856463221099804/  \n",
       "39                              https://www.facebook.com/165419643537532/posts/3826158787463581/  \n",
       "160                             https://www.facebook.com/165419643537532/posts/3707751855970942/  \n",
       "163                             https://www.facebook.com/165419643537532/posts/3705398099539651/  \n",
       "...                                                                                          ...  \n",
       "2267                            https://www.facebook.com/165419643537532/posts/1892689124143900/  \n",
       "2277  https://www.facebook.com/USConsulateHCMC/photos/a.179781728767990/1886488894763923/?type=3  \n",
       "2294  https://www.facebook.com/USConsulateHCMC/photos/a.179781728767990/1877462752333204/?type=3  \n",
       "2303                            https://www.facebook.com/165419643537532/posts/1873399792739500/  \n",
       "2841                            https://www.facebook.com/165419643537532/posts/1581788235233992/  \n",
       "\n",
       "[120 rows x 4 columns]"
      ],
      "text/html": "<div>\n<style scoped>\n    .dataframe tbody tr th:only-of-type {\n        vertical-align: middle;\n    }\n\n    .dataframe tbody tr th {\n        vertical-align: top;\n    }\n\n    .dataframe thead th {\n        text-align: right;\n    }\n</style>\n<table border=\"1\" class=\"dataframe\">\n  <thead>\n    <tr style=\"text-align: right;\">\n      <th></th>\n      <th>id</th>\n      <th>message</th>\n      <th>status_type</th>\n      <th>permalink_url</th>\n    </tr>\n  </thead>\n  <tbody>\n    <tr>\n      <th>2</th>\n      <td>165419643537532_3859056144173845</td>\n      <td>🇺🇸🤝🇻🇳 Bộ trưởng Bộ Y tế Nguyễn Thanh Long và Đại sứ Kritenbrink đều biết rằng không một quốc gia nào an toàn trước COVID-19 cho đến khi tất cả các nước đều đã an toàn, đó là lý do vì sao Hoa Kỳ và Việt Nam đang phối hợp để đưa vắc xin đến với người dân Việt Nam trong thời gian sớm nhất có thể. Bạn có biết Hoa Kỳ là nước đóng góp nhiều nhất cho cơ chế COVAX? Và xin chúc mừng Việt Nam đã đạt được những thành công đáng kinh ngạc trong kiểm soát COVID-19. Hoa Kỳ và Việt Nam đang cùng hành động để tăng cường hợp tác y tế song phương! 👩🏻‍⚕️🧪😷\\n\\n🇺🇸🤝🇻🇳 Minister of Health Nguyen Thanh Long and Ambassador Kritenbrink know that no country is safe from COVID-19 until every country is safe, which is why the United States and Vietnam are collaborating to distribute vaccine to the people of Vietnam as quickly as possible. Did you know that the United States is the largest contributor to the COVAX facility? And congratulations to Vietnam for their amazing success at controlling COVID-19. The United States and Vietnam are working together to strengthen our health cooperation! 👩🏻‍⚕️🧪😷\\n\\n📸 Photo credit: Chí Cường (Báo Gia đình và Xã hội)</td>\n      <td>added_photos</td>\n      <td>https://www.facebook.com/165419643537532/posts/3859056144173845/</td>\n    </tr>\n    <tr>\n      <th>7</th>\n      <td>165419643537532_3856463221099804</td>\n      <td>#ĐạisứKritenbrink: Hoa Kỳ vui mừng chào đón lô vắc xin COVID-19 đầu tiên được tài trợ từ chương trình COVAX đến Việt Nam ngày hôm nay. Vắc xin có vai trò quan trọng để chấm dứt đại dịch này và Hoa Kỳ tự hào hỗ trợ nỗ lực toàn cầu này với khoản đóng góp ban đầu là 2 tỷ đô la cho chương trình COVAX thông qua USAID - US Agency for International Development. 🇻🇳🇺🇸\\n\\n#AmbassadorKritenbrink: The United States welcomes the arrival of COVID-19 vaccines from COVAX in Vietnam today. Vaccines are critical to ending this pandemic, and the United States is proud to support the global effort with an initial $2 billion contribution to COVAX through USAID - US Agency for International Development. 🇻🇳🇺🇸</td>\n      <td>added_photos</td>\n      <td>https://www.facebook.com/165419643537532/posts/3856463221099804/</td>\n    </tr>\n    <tr>\n      <th>39</th>\n      <td>165419643537532_3826158787463581</td>\n      <td>Đại sứ Hoa Kỳ Daniel Kritenbrink đã tham gia lễ ký kết của tổ chức Đối tác Một sức khoẻ Phòng chống Dịch bệnh từ Động vật sang Người tại Việt Nam. Khung Đối tác thể hiện sự hỗ trợ liên tục từ Chính phủ Hoa Kỳ và các đối tác khác cùng chung tay với Chính phủ Việt Nam trong nỗ lực ngăn chặn, phát hiện và ứng phó với các mối de doạ từ bệnh truyền nhiễm trên phạm vi động vật - con người (bệnh truyền nhiễm từ động vật) và dịch bệnh có nguy cơ trở thành đại dịch lây lan từ động vật, như trường hợp COVID-19. Hoa Kỳ 🇺🇸 và Việt Nam 🇻🇳 đang làm việc cùng nhau để tăng cường hợp tác y tế!\\n\\nU.S. Ambassador Daniel Kritenbrink participated in a signing ceremony for Vietnam’s One Health Partnership for Zoonoses. The Partnership Framework signals the continued support of the U.S. Government, and other partners, to the Government of Vietnam in its efforts to prevent, detect, and respond to emerging infectious disease threats which may spillover at the animal - human interface (zoonotic diseases) and to epidemics at risk of becoming animal pandemic spread, as in the case of COVID-19. Together, the United States 🇺🇸 and Vietnam 🇻🇳 are working together to strengthen our health cooperation!</td>\n      <td>added_photos</td>\n      <td>https://www.facebook.com/165419643537532/posts/3826158787463581/</td>\n    </tr>\n    <tr>\n      <th>160</th>\n      <td>165419643537532_3707751855970942</td>\n      <td>Bằng tất cả tình cảm quý mến dành cho 🇻🇳, cộng thêm sự trợ giúp nhiệt tình từ HLV “mát tay” Wowy thì những lời chúc mừng năm mới cực kỳ chân thành của ngài Đại sứ Mỹ tại Việt Nam Daniel Kritenbrink đã khiến Binz Da Poet phải thốt lên: “Ờ mây zing! Gút chóp!” 😆\\n\\nWith all his affection for 🇻🇳, together with enthusiastic guidance from the amazing coach Wowy, #AmbassadorKritenbrink’s Lunar New Year musical masterpiece gained the praise of one of Vietnam’s top rap artist - Binz Da Poet, who called the Ambassador’s rap, “Amazing, good job!” 😆</td>\n      <td>added_video</td>\n      <td>https://www.facebook.com/165419643537532/posts/3707751855970942/</td>\n    </tr>\n    <tr>\n      <th>163</th>\n      <td>165419643537532_3705398099539651</td>\n      <td>Tết này, những gương mặt vàng trong làng Rap Việt Nam như Binz Da Poet, Wowy Nguyễn, và #AmbassadorKritenbrink 🤪 sẽ cùng lên sóng trên Vietcetera ? Đúng vậy đó! Hãy cùng đón chờ bản hit mới nhất lên sóng vào ngày mai - 8/2 nhé! 🤘🏻🤝\\n\\nThis Tet, Vietcetera celebrates famous faces of Vietnamese rap: Binz Da Poet, Wowy Nguyễn, and U.S. Ambassador Daniel Kritenbrink ?? 🤔🤔🤔 That’s right - stay tuned for our release of Vietnam’s latest rap hit tomorrow, 8/2.</td>\n      <td>added_video</td>\n      <td>https://www.facebook.com/165419643537532/posts/3705398099539651/</td>\n    </tr>\n    <tr>\n      <th>...</th>\n      <td>...</td>\n      <td>...</td>\n      <td>...</td>\n      <td>...</td>\n    </tr>\n    <tr>\n      <th>2267</th>\n      <td>165419643537532_1892689124143900</td>\n      <td>Đại sứ Ambassador Daniel J. Kritenbrink và Tổng Lãnh sự Tarnowka chúc đoàn quân y của Bệnh viện Quân y 175 thượng lộ bình an. Bệnh viện 175 vừa cử các bác sĩ và nhân viên y tế sang Nam Sudan để tham gia lực lượng gìn giữ hòa bình của Liên Hiệp Quốc lần đầu tiên. Hoa Kỳ tự hào hợp tác cùng Việt Nam trong việc hỗ trợ an toàn, an ninh và nhân đạo ở Nam Sudan.\\n\\nAmbassador Kritenbrink and Consul General Tarnowka wished safe travels to Vietnam's Military Hospital 175, which just sent doctors and medical staff to South Sudan for its first-ever United Nations peacekeeping mission. The United States is proud to partner with Vietnam in providing safety, security, and humanitarian assistance in South Sudan.</td>\n      <td>added_photos</td>\n      <td>https://www.facebook.com/165419643537532/posts/1892689124143900/</td>\n    </tr>\n    <tr>\n      <th>2277</th>\n      <td>165419643537532_1886488894763923</td>\n      <td>Cùng thưởng thức bia thủ công Mỹ được sản xuất tại Việt Nam với Đại sứ Kritenbrink và Phó Tổng Lãnh sự Tim Liston. #CGTarnowka\\n\\nEnjoying American craft beer, brewed in Vietnam, with Ambassador Kritenbrink and Tim Liston. #CGTarnowka</td>\n      <td>added_photos</td>\n      <td>https://www.facebook.com/USConsulateHCMC/photos/a.179781728767990/1886488894763923/?type=3</td>\n    </tr>\n    <tr>\n      <th>2294</th>\n      <td>165419643537532_1877462752333204</td>\n      <td>Thay mặt Phái đoàn Ngoại giao Hoa Kỳ tại Việt Nam, tôi xin gửi lời chia buồn chân thành về việc Chủ tịch nước Trần Đại Quang từ trần. Chúng tôi xin bày tỏ lòng cảm thông tới gia đình ông và nhân dân Việt Nam vào thời khắc đau buồn này. Chủ tịch nước Trần Đại Quang là một người bạn của mối quan hệ Hoa Kỳ - Việt Nam. Sự tiếp đón của ông trong chuyến thăm lịch sử của Tổng thống Donald J. Trump tới Hà Nội vào tháng 11 năm 2017 đã giúp đưa mối Quan hệ Đối tác Toàn diện Hoa Kỳ - Việt Nam lên tầm cao mới trên cơ sở hiểu biết lẫn nhau, có lợi ích chung và mong muốn chung nhằm thúc đẩy hòa bình, hợp tác, thịnh vượng và an ninh trong khu vực Ấn Độ Dương - Thái Bình Dương.\\n\\nCùng với gia đình và bạn bè của ông cũng như nhân dân Việt Nam, chúng tôi trân trọng di sản ông để lại và bày tỏ lòng tiếc thương trước sự ra đi của ông.\\n\\nTrân trọng, \\nDaniel Kritenbrink\\n\\nOn behalf of the U.S. Mission in Vietnam, I would like to express our sincere condolences on the passing of President Tran Dai Quang. Our sympathies go out to his family and the people of Vietnam at this sad time. President Tran Dai Quang was a friend of the U.S.-Vietnam relationship. His hosting of President Donald J. Trump’s historic state visit to Hanoi in November 2017 helped advance the U.S.-Vietnam Comprehensive Partnership to new heights on the basis of mutual understanding, shared interests, and a common desire to promote peace, cooperation, prosperity, and security in the Indo-Pacific region.\\n\\nWe honor his legacy and mourn his loss alongside his family and our friends, the people of Vietnam.\\n\\nVery truly yours,\\nDaniel Kritenbrink</td>\n      <td>added_photos</td>\n      <td>https://www.facebook.com/USConsulateHCMC/photos/a.179781728767990/1877462752333204/?type=3</td>\n    </tr>\n    <tr>\n      <th>2303</th>\n      <td>165419643537532_1873399792739500</td>\n      <td>Đại sứ Kritenbrink đã đến tham quan các địa điểm diễn ra chương trình Thiên Thần Thái Bình Dương ở tỉnh Quảng Nam cuối tuần qua. Mỗi năm, chương trình Thiên Thần Thái Bình Dương quy tụ các nhân viên dân sự và quân sự đến từ Hoa Kỳ và 7 quốc gia đối tác ở khắp khu vực Ấn Độ Dương - Thái Bình Dương để hỗ trợ nhân đạo cho người dân Việt Nam. Chuơng trình Thiên Thần Thái Bình Dương là một trong nhiều hoạt động Hoa Kỳ thực hiện cùng Việt Nam cũng như các quốc gia và tổ chức khác để xây dựng năng lực và quan hệ đối tác trong khu vực Ấn Độ Dương - Thái Bình Dương.  \\n\\nAmbassador Kritenbrink visited the Pacific Angel sites in Quang Nam Province this weekend. Every year, Pacific Angel brings together civilian and military personnel from the United States and seven partners throughout the Indo-Pacific region to support humanitarian assistance to th‎e Vietnamese people. Pacific Angel is one of the many ways that the United States works together with Vietnam and other nations and organizations to build capacity and partnership in the Indo-Pacific region.</td>\n      <td>added_photos</td>\n      <td>https://www.facebook.com/165419643537532/posts/1873399792739500/</td>\n    </tr>\n    <tr>\n      <th>2841</th>\n      <td>165419643537532_1581788235233992</td>\n      <td>Sẽ diễn ra trong vòng 15' nữa, bạn đã sẵn sàng để gặp Đại sứ Hoa Kỳ Daniel j. Kritenbrink? #AmericanCenter</td>\n      <td>mobile_status_update</td>\n      <td>https://www.facebook.com/165419643537532/posts/1581788235233992/</td>\n    </tr>\n  </tbody>\n</table>\n<p>120 rows × 4 columns</p>\n</div>"
     },
     "metadata": {},
     "execution_count": 50
    }
   ],
   "source": [
    "amb_posts[amb_posts.columns[2:6]]"
   ]
  },
  {
   "cell_type": "code",
   "execution_count": 54,
   "metadata": {},
   "outputs": [],
   "source": [
    "amb_posts.to_excel(\"Amb posts until 20210404.xlsx\")"
   ]
  },
  {
   "cell_type": "code",
   "execution_count": 56,
   "metadata": {},
   "outputs": [],
   "source": [
    "cg_posts = df[df[\"message\"].str.contains(\"Tarnowka\", na=False)]"
   ]
  },
  {
   "cell_type": "code",
   "execution_count": 1,
   "metadata": {},
   "outputs": [
    {
     "output_type": "error",
     "ename": "NameError",
     "evalue": "name 'df' is not defined",
     "traceback": [
      "\u001b[0;31m---------------------------------------------------------------------------\u001b[0m",
      "\u001b[0;31mNameError\u001b[0m                                 Traceback (most recent call last)",
      "\u001b[0;32m<ipython-input-1-00cf07b74dcd>\u001b[0m in \u001b[0;36m<module>\u001b[0;34m\u001b[0m\n\u001b[0;32m----> 1\u001b[0;31m \u001b[0mdf\u001b[0m\u001b[0;34m\u001b[0m\u001b[0;34m\u001b[0m\u001b[0m\n\u001b[0m",
      "\u001b[0;31mNameError\u001b[0m: name 'df' is not defined"
     ]
    }
   ],
   "source": []
  }
 ]
}