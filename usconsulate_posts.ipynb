{
 "metadata": {
  "language_info": {
   "codemirror_mode": {
    "name": "ipython",
    "version": 3
   },
   "file_extension": ".py",
   "mimetype": "text/x-python",
   "name": "python",
   "nbconvert_exporter": "python",
   "pygments_lexer": "ipython3",
   "version": "3.8.7-final"
  },
  "orig_nbformat": 2,
  "kernelspec": {
   "name": "python3",
   "display_name": "Python 3.8.7 64-bit",
   "metadata": {
    "interpreter": {
     "hash": "aee8b7b246df8f9039afb4144a1f6fd8d2ca17a180786b69acc140d282b71a49"
    }
   }
  }
 },
 "nbformat": 4,
 "nbformat_minor": 2,
 "cells": [
  {
   "cell_type": "code",
   "execution_count": 67,
   "metadata": {},
   "outputs": [],
   "source": [
    "import pandas as pd\n",
    "import json\n",
    "import requests\n",
    "from pandas.io.json import json_normalize"
   ]
  },
  {
   "cell_type": "code",
   "execution_count": 107,
   "metadata": {},
   "outputs": [
    {
     "output_type": "stream",
     "name": "stdout",
     "text": [
      "https://graph.facebook.com/v9.0/165419643537532/published_posts?limit=100&access_token=EAABnlB7bWhcBAAAdwu8FcZBsaLhZCeltVBlF7ZCiWDN2mRbHGHr02jrQyf9LEdSZAxRvZBu8GmQh9DfjpP8UshmfWawHU0B6h8KZCzNcYLl5ZCumtwqjm0LMG4BXvbnWWrv5t6beabNSHeuhykZC6OvaYEKJCtZCZBUQoq0sO3WlnGhTU1ywpUzIz5gZBFuiHPKZCklrGPyWnD2XSZBMutWSX4lEs\n"
     ]
    }
   ],
   "source": [
    "url = 'https://graph.facebook.com/v9.0/165419643537532/published_posts?limit=100&access_token=EAABnlB7bWhcBAAAdwu8FcZBsaLhZCeltVBlF7ZCiWDN2mRbHGHr02jrQyf9LEdSZAxRvZBu8GmQh9DfjpP8UshmfWawHU0B6h8KZCzNcYLl5ZCumtwqjm0LMG4BXvbnWWrv5t6beabNSHeuhykZC6OvaYEKJCtZCZBUQoq0sO3WlnGhTU1ywpUzIz5gZBFuiHPKZCklrGPyWnD2XSZBMutWSX4lEs'\n",
    "\n",
    "print(url)"
   ]
  },
  {
   "cell_type": "code",
   "execution_count": 108,
   "metadata": {},
   "outputs": [
    {
     "output_type": "execute_result",
     "data": {
      "text/plain": [
       "ertified Joseph R. Biden as President-elect and Kamala D. Harris as Vice President-elect on January 6.  They will take the oath of office on January 20, 2021.',\n",
       "   'id': '165419643537532_3625654450847350'},\n",
       "  {'created_time': '2021-01-06T09:49:23+0000',\n",
       "   'story': 'U.S. Consulate General - Ho Chi Minh City added an event.',\n",
       "   'id': '165419643537532_218585479812358'},\n",
       "  {'created_time': '2021-01-06T07:00:00+0000',\n",
       "   'message': '📣🌏🤝 Có phải trước đây bạn từng là tình nguyện viên hoặc nhân viên của Tổ chức Hoà bình (Peace Corps) hiện đang sinh sống ở Việt Nam hay không? Nếu câu trả lời là có, hãy dành 8 phút để làm phiếu khảo sát tại đây:  bit.ly/rpcv-survey. Tổ chức Hoà bình rất hân hạnh được Chính phủ Việt Nam mời triển khai chương trình tại Việt Nam. Cùng với việc này, chúng tôi rất quan tâm đến việc xây dựng cộng đồng những người trước đây từng là tình nguyện viên hoặc nhân viên của Tổ chức Hoà bình (Peace Corps) nhằm tạo cơ hội để các bạn nắm thông tin về các chương trình cũng như kỷ niệm những cột mốc quan trọng của chúng tôi thông qua các hoạt động và thảo luận.\\n\\n📣🌏🤝 Are you either a Returned Peace Corps Volunteer (RPCV) or former Peace Corps staff who are currently residing in Vietnam? If your answer is Yes, please complete the following 8 minute survey here: bit.ly/rpcv-survey. Peace Corps is honored to be invited by the Vietnamese government to begin a Peace Corps program in Vietnam. As we begin this work, we are interested in building a community of RPCVs and former Peace Corps staff to engage you in events and discussions that both inform our program and celebrate our milestones.',\n",
       "   'id': '165419643537532_3619893721423423'},\n",
       "  {'created_time': '2021-01-06T04:52:19+0000',\n",
       "   'story': 'U.S. Consulate General - Ho Chi Minh City updated their profile picture.',\n",
       "   'id': '165419643537532_3619869904759138'},\n",
       "  {'created_time': '2021-01-06T03:02:00+0000',\n",
       "   'message': '🌐🤯 Bạn muốn mở rộng sự nghiệp ra thị trường quốc tế? Tham gia ngay khóa học tiếng Anh trực tuyến MIỄN PHÍ về phát triển sự nghiệp của Coursera! Khóa học mang đến các bài học về từ vựng và cách cải thiện kỹ năng ngôn ngữ tiếng Anh nhằm giúp bạn đạt được mục tiêu nghề nghiệp thông qua quá trình tìm/nộp hồ sơ xin việc, phỏng vấn, và hơn thế nữa.\\n📌👉 Đăng ký và tìm hiểu thêm thông tin tại: https://www.coursera.org/learn/careerdevelopment\\n\\n🌐🤯 Would like to advance your career in the global marketplace? Join the 🆓 English for Career Development course by Coursera! Enjoy lessons on vocabulary and improving your language skills to achieve your professional goals on job search, application, interview process, and more!\\n📌👉 To register and for more info visit: https://www.coursera.org/learn/careerdevelopment',\n",
       "   'id': '165419643537532_3619664464779682'},\n",
       "  {'created_time': '2021-01-05T13:00:01+0000',\n",
       "   'message': '🤓 Bạn có thích tìm hiểu về các vị tổng thống của Hoa Kỳ? 🖼 Cùng thưởng thức triển lãm trực tuyến chân dung các tổng thống Hoa Kỳ của Phòng trưng bày chân dung quốc gia, 🔎 qua đó hiểu thêm về cách mà các cá nhân này đã định hình lịch sử nước Mỹ: https://americaspresidents.si.edu/?utm_source=siedu&utm_medium=referral&utm_campaign=exhibitions\\n\\n🤓 Are you interested in learning about the presidents of the United States? 🖼 Enjoy this virtual presidential exhibition by the U.S. National Portrait Gallery 🔎 to read about how these individuals have shaped American history: https://americaspresidents.si.edu/?utm_source=siedu&utm_medium=referral&utm_campaign=exhibitions',\n",
       "   'id': '165419643537532_3617618771650918'},\n",
       "  {'created_time': '2021-01-05T07:00:01+0000',\n",
       "   'message': '📣 Bạn là tổ chức giáo dục hay tổ chức phi chính phủ? Bạn có quan tâm đến việc hợp tác với Phái đoàn Hoa Kỳ tại 🇻🇳 để trang bị cho thế hệ thanh niên 🇻🇳 tương lai kỹ năng tiếng Anh và kỹ năng mềm cần thiết để thành công không? Nếu có, hãy gửi cho chúng tôi đề xuất thực hiện chương trình Access trong vòng hai năm tại địa phương của bạn! Hạn nộp hồ sơ: 23h59 ngày 08/02/2021!\\n📍👉 Đọc đầy đủ thông báo tại đường link bên dưới!\\n\\n📣 Are you an educational institution or a non-governmental organization? Are you interested in working with the U.S. Mission to 🇻🇳 to equip future generations of 🇻🇳 youth with the English skills and the soft skills they need to be successful? Then, submit your proposal to run a two-year Access program in your province! The application deadline is February 08, 2021 at 11:59 P.M.!\\n📍👉 See full announcement here:\\nhttps://vn.usembassy.gov/wp-content/uploads/sites/40/English-Access-Microscholarship-Program-Call-for-Proposals.pdf?fbclid=IwAR3p0KtpxBM2o00a4a5pzm41LtaXHSMQT1QUtWyKGoLlT1FvyHK_WrkR9Us',\n",
       "   'id': '165419643537532_3617508131661982'},\n",
       "  {'created_time': '2021-01-05T04:00:01+0000',\n",
       "   'message': '🇻🇳: Nền kinh tế số hóa nhanh chóng! 🆒\\n🦾 Hãy cùng nhìn lại cách các nền kinh tế trên thế giới đạt tiến bộ về kỹ thuật số trong năm 2020. Trong số các nền kinh tế cỡ vừa, Việt Nam có đà số hoá ngày càng tăng trưởng. Trong năm 2021, Việt Nam sẽ cần làm gì để số hóa hơn nữa? 🆙\\n\\n👉 Đọc thêm tại đây: https://hbr.org/2020/12/which-economies-showed-the-most-digital-progress-in-2020?ab=hero-subleft-1\\n\\n🇻🇳: the economy that is rapidly digitalizing! 🆒\\n🦾 Let’s take a look back at how economies around the world made digital progress in 2020. Among the midsize economies, Vietnam has displayed increasing digital momentum. What will it take in 2021 for Vietnam to digitize even further? 🆙\\n\\n👉 Read more here: https://hbr.org/2020/12/which-economies-showed-the-most-digital-progress-in-2020?ab=hero-subleft-1\\n\\n📸 Photo credit: everything possible\\\\Shutterstock',\n",
       "   'id': '165419643537532_3617272335018895'},\n",
       "  {'created_time': '2021-01-05T02:27:25+0000',\n",
       "   'message': '#BạnCóBiết thành phố New York là nơi có rất nhiều trường đại học nổi tiếng và các công ty tầm cỡ quốc tế? Hãy xem trực tiếp trên Facebook vào lúc 9 giờ 30 phút ngày 5 tháng 1 năm 2021 để tìm hiểu về các cơ hội học tập tại 25 cơ sở của trường City University of New York (CUNY). Đại diện của trường Brooklyn College sẽ cung cấp cho bạn thông tin về chương trình học cùng với cơ hội thực tập và học bổng.\\n#DYK that New York City is home to many well-renowned universities and global companies? Join us live on Facebook at 9:30 AM on January 5, 2021, to learn about study opportunities at one of the many campuses that make up the City University of New York (CUNY) college system. Representatives from Brooklyn College will discuss college options, internships, and scholarship opportunities.',\n",
       "   'story': 'U.S. Consulate General - Ho Chi Minh City was live.',\n",
       "   'id': '165419643537532_417280069690953'},\n",
       "  {'created_time': '2021-01-04T13:00:02+0000',\n",
       "   'message': '#Bạncóbiết các dấu chấm đơn giản có thể dùng để biểu thị chữ cái, chữ số, nốt nhạc và cả kí hiệu khoa học?\\n📖 Hôm nay, chúng ta kỷ niệm Ngày Chữ nổi Thế giới để nâng cao nhận thức về tầm quan trọng của chữ nổi với vai trò là phương tiện giao tiếp cho người khiếm thị trên toàn thế giới!\\n\\n#WorldBrailleDay\\n\\n#DYK simple dots can be used to represent letters, numbers, musical notes and scientific symbols?\\n📖 Today, we celebrate World Braille Day to raise awareness of its crucial role as a means of communication for blind and visually impaired people worldwide!',\n",
       "   'id': '165419643537532_3615524325193696'},\n",
       "  {'created_time': '2021-01-04T10:43:30+0000',\n",
       "   'story': \"U.S. Consulate General - Ho Chi Minh City followed USAID's Bureau for Humanitarian Assistance.\",\n",
       "   'id': '165419643537532_3615555861857209'},\n",
       "  {'created_time': '2021-01-04T06:00:00+0000',\n",
       "   'message': \"Tháng Một là Tháng Hành Động Quốc Gia Nâng Cao Nhận Thức Về Nô Lệ Và Mua Bán Người.  Mua bán người là tội sử dụng vũ lực, lừa gạt hay cưỡng bức để ép buộc người khác lao động, cung cấp dịch vụ hay bán dâm. Tất cả chúng ta đều có vai trò quan trọng trong việc chấm dứt vấn  nạn toàn cầu này, hoạt động tội phạm lớn thứ 3 trên thế giới. Hãy tìm hiểu những gì các bạn có thể làm tại:  https://bit.ly/2WUIkK7.\\n\\nJanuary is the National Slavery and Human Trafficking Awareness Month. Human trafficking is a crime in which force, fraud, or coercion is used to compel people to perform labor, services, or commercial sex. We all play a crucial role in ending this worldwide phenomenon, which is the world's third largest criminal enterprise. Learn how you can help: https://bit.ly/2WUIkK7. \\n \\n#EndTrafficking #BlueCampaign     \\n\\nPhoto Credit: Structuresxx/Shutterstock\",\n",
       "   'id': '165419643537532_3614965408582921'},\n",
       "  {'created_time': '2021-01-04T02:11:31+0000',\n",
       "   'message': 'Tip of the Week: This month’s American Citizen Services (ACS) newsletter is out! http://bit.ly/2021january\\nYou can receive it monthly by registering in Smart Traveler Enrollment Program (STEP): https://step.state.gov.  U.S. citizens who travel or reside abroad and enroll in STEP receive the most up-to-date security information.  \\nStill have questions?  Contact us at: http://bit.ly/acsvn\\n\\nMẹo hay Tuần này: Bản tin hàng tháng của Bộ phận Công dân Hoa Kỳ đã ra lò! http://bit.ly/2021january\\nBạn có thể nhận được bản tin này mỗi tháng bằng cách đăng ký chương trình STEP (Smart Traveler Enrollment Program): https://step.state.gov.  Các công dân Hoa Kỳ đi du lịch hoặc đang sinh sống tại nước ngoài có đăng ký chương trình STEP còn nhận được các thông tin an ninh cập nhật nhất. \\nNếu bạn còn câu hỏi, hãy liên hệ chúng tôi tại: http://bit.ly/acsvn',\n",
       "   'id': '165419643537532_3614851468594315'},\n",
       "  {'created_time': '2021-01-03T13:00:53+0000',\n",
       "   'message': '🤪👣 #Bạncóbiết Tp.HCM có kế hoạch thiết kế thêm phố đi bộ giữa trung tâm quận 3?💡Bạn muốn khu vực nào được thiết kế thành phố đi bộ nữa? 🗣 Hãy cho chúng tôi biết nhé!\\n\\n🤪👣 #DYK that there are plans to create more \"walking streets\" in the heart of HCMC? 💡Let us know which areas you think would be great to turn into pedestrian-friendly streets? 🗣 Comment below!\\n\\nhttps://tuoitrenews.vn/news/ttnewsstyle/20201129/ho-chi-minh-city-plans-two-more-promenades-in-district-3/58009.html?fbclid=IwAR19Ag_Xi8nsjBpXB3wTGbu054URQ4-oQq4wgQsDpJLsFlT-VEbo8WBKDNU',\n",
       "   'id': '165419643537532_3605423912870404'},\n",
       "  {'created_time': '2021-01-03T07:22:01+0000',\n",
       "   'story': 'U.S. Consulate General - Ho Chi Minh City added an event.',\n",
       "   'id': '165419643537532_830826741103896'},\n",
       "  {'created_time': '2021-01-02T08:00:53+0000',\n",
       "   'message': '✈️ Hàng không giúp hàng triệu người trên thế giới di chuyển thuận lợi, giúp các gia đình đoàn tụ dễ dàng, và các doanh nhân đàm phán giao dịch trong một sớm một chiều! ⚠️ Tuy nhiên, hàng không lại tạo ra một phần lớn lượng khí thải carbon cá nhân của chúng ta và gây ra hậu quả tiêu cực đối với môi trường. May mắn thay, các nhà sản xuất máy bay có thể sớm chế tạo những chiếc máy bay không phát thải CO2! ♻️ Đọc ngay tại đây!\\n\\n✈️ Flying has faciliated travel for millions of people around the world. It has made it easier for families to reunite and businesspersons to negotiate deals overnight! ⚠️ However, flying makes up a large share of our personal carbon footprint and has negative consequences on the environment. Luckily, airplane manufacturers may soon enough build planes that emit zero CO2! ♻️ Read more: https://bit.ly/3pAp3tz',\n",
       "   'id': '165419643537532_3605045906241538'},\n",
       "  {'created_time': '2021-01-02T02:00:19+0000',\n",
       "   'message': \"😍 #Bạncóbiết giá trị thương hiệu của Việt Nam đã tăng trưởng ấn tượng 29% trong năm 2020? Nhờ vào nỗ lực tuyệt vời ứng phó với đại dịch COVID-19, thương hiệu quốc gia Việt Nam hiện nay đạt giá trị 319 tỉ đô la Mỹ, xếp thứ 33 trong tổng số 100 quốc gia trong danh sách xếp hạng. 👉 Đọc thêm tại đây! \\n\\n😍 #DYK that Vietnam's brand value impressively increased by 29% in 2020? Thanks to the outstanding response to the COVID-19 pandemic, national brand value of Vietnam is now worth US$319 billion, ranked No. 33 out of 100 countries.\\n👉 Read more here: https://saigoneer.com/vietnam-news/19752-vietnam-s-brand-value-increases-29-thanks-to-good-pandemic-response\",\n",
       "   'id': '165419643537532_3605396809539781'},\n",
       "  {'created_time': '2021-01-01T07:00:01+0000',\n",
       "   'message': \"🥳 Năm mới đã đến, chúng ta bắt đầu suy ngẫm về những điều chúng ta coi trọng #NewYearNewInterests. Vì vậy, chúng tôi muốn hỏi bạn - khán giả của chúng tôi - bạn quan tâm đến chủ đề nào khi đọc trang fanpage chính thức của Tổng Lãnh sự quán Hoa kỳ Tp.HCM? Văn hóa / Kinh tế / Giáo dục / Chính trị / Du lịch / Khoa học / Xã hội / v.v..\\n💬 Cho chúng tôi biết câu trả lời của bạn!\\n🤩🤟 Hãy cùng nhau làm cho năm nay trở nên vui vẻ và thú vị nhé!\\n\\n🥳 As the new year begins, we start to reflect on what's important and what we value #NewYearNewInterests. Therefore, we want to ask you, our audience, what topics are you interested in learning more about from our FB page? Culture / Economy / Education / Politics / Travel / Science / Society / etc.\\n💬 In the comment section below tell us about your favorite topics!\\n🤩🤟 Let's make this year a fun and interesting one together!\",\n",
       "   'id': '165419643537532_3605386046207524'},\n",
       "  {'created_time': '2021-01-01T03:00:09+0000',\n",
       "   'message': 'Trong một cuộc phỏng vấn gần đây với Zing News, Đại sứ Kritenbrink đã thảo luận về mối quan hệ song phương giữa Hoa Kỳ - Việt Nam, và tầm quan trọng của khu vực Ấn Độ Dương-Thái Bình Dương. Đối với 🇺🇸, điều quan trọng là phải hỗ trợ một khu vực Ấn Độ Dương-Thái Bình Dương tự do và rộng mở, trong đó tất cả các quốc gia cùng phát triển thịnh vượng với tư cách là các quốc gia độc lập, có chủ quyền.\\n👉 Để xem toàn bộ cuộc phỏng vấn, bấm vào đây!\\n\\nDuring a recent interview with Zing News, #AmbassadorKritenbrink discussed U.S.- Vietnam bilateral relations and the importance of the Indo-Pacific. For 🇺🇸, it’s very important to support a free and open Indo-Pacific in which all countries prosper side by side as sovereign, independent states.\\n👉 To watch the full interview, click here:\\n\\nhttps://zingnews.vn/video-ba-tru-cot-trong-chinh-sach-cua-my-o-bien-dong-post1165614.html?fbclid=IwAR21F__UrjThTjRfC-tSH5_MgDWw7hQHETJyuyekmjPJcAXyR14Lvv5w_Cs',\n",
       "   'id': '165419643537532_3605470216199107'},\n",
       "  {'created_time': '2021-01-01T01:00:03+0000',\n",
       "   'message': 'Cám ơn năm 2020 🙃🙄 và chúc mừng năm mới 2021 🤩🥳🎇🎆!\\nBạn dự định làm gì để ăn mừng năm mới? Chia sẻ với chúng tôi trong phần bình luận nhé!\\n\\nThank you 2020 🙃🙄 and Happy New Year 2021 🤩🥳🎇🎆!\\nWhat will you do to celebrate the new year? Share with us in the comments section!',\n",
       "   'id': '165419643537532_3605438666202262'},\n",
       "  {'created_time': '2020-12-31T13:00:02+0000',\n",
       "   'message': '🙏😜 Thank you to the nearly 400 students from Trường Cao Đẳng Cộng Đồng Đồng Tháp - Dong Thap Community College and Trường Cao đẳng Kiên Giang in the Mekong Delta who joined us to learn more about 🇺🇸 culture! Consulate officer Gabrielle shared practical tips with the students about making themselves marketable for both jobs and educational opportunities. These students also learned about #YSEALI, #GlobalUGRAD and #Fulbright programs.\\n\\n🛫📚 Are you planning to study in 🇺🇸 in the future? 👉 Contact our #EducationUSA team today!\\n\\n🙏😜 Cảm ơn gần 400 bạn sinh viên từ trường Cao Đẳng Cộng Đồng Đồng Tháp và Cao Đẳng Kiên Giang tại Đồng Bằng Sông Cửu Long đã cùng tìm hiểu về văn hóa 🇺🇸 với chúng tôi! Viên chức của Lãnh sự quán Gabrielle đã chia sẻ về những bí quyết để giúp các bạn sinh viên tỏa sáng khi tìm việc làm sau khi tốt nghiệp cũng như theo đuổi con đường học hành xa hơn. Các bạn còn tìm hiểu về các chương trình học bổng #YSEALI, #GlobalUGRAD, #Fulbright.\\n\\n🛫📚 Bạn có ý định đi du học 🇺🇸 trong tương lai? 👉 Hãy liên hệ với #EducationUSA ngay hôm nay nha!',\n",
       "   'id': '165419643537532_3605014412911354'},\n",
       "  {'created_time': '2020-12-31T08:00:01+0000',\n",
       "   'message': '📣 Bạn đang tìm nguồn hỗ trợ tài chính để thực hiện đề án về chủ đề ngoại giao nhân dân? 🙌 Còn chờ gì nữa, hãy tìm hiểu Chương trình tài trợ thường niên của chúng tôi để có cơ hội nhận được khoản hỗ trợ lên tới $25,000. Thời hạn nộp đề án: 15/2/2021 và 1/6/2021.\\n📌 Tham khảo thông tin và hướng dẫn nộp đơn chi tiết tại đây: https://bit.ly/2KyL4tu.\\n\\n📣 Looking for funding to run a public diplomacy impact project? 🙌 Our Annual Program Statement grant opportunity is open and we’re accepting submissions on a rolling basis with two deadlines: February 15, 2021 and June 1, 2021.\\n📌 For more information and for a chance to be awarded up to $25,000, read more here: https://bit.ly/2KyL4tu',\n",
       "   'id': '165419643537532_3605107216235407'},\n",
       "  {'created_time': '2020-12-31T07:08:00+0000',\n",
       "   'message': '👋 Tip of the Week: This month’s American Citizen Services (ACS) newsletter is out! http://bit.ly/2021january.\\n📩 You can receive it monthly by registering in Smart Traveler Enrollment Program (STEP): https://step.state.gov. U.S. citizens who travel or reside abroad and enroll in STEP receive the most up-to-date security information.  \\nStill have questions? 👉 Contact us at: http://bit.ly/acsvn\\n\\n👋 Mẹo hay Tuần này: Bản tin hàng tháng của Bộ phận Công dân Hoa Kỳ đã ra lò! http://bit.ly/2020november.\\n📩 Bạn có thể nhận được bản tin này mỗi tháng bằng cách đăng ký chương trình STEP (Smart Traveler Enrollment Program): https://step.state.gov. Các công dân Hoa Kỳ đi du lịch hoặc đang sinh sống tại nước ngoài có đăng ký chương trình STEP còn nhận được các thông tin an ninh cập nhật nhất. \\n👉 Nếu bạn còn câu hỏi, hãy liên hệ chúng tôi tại: http://bit.ly/acsvn',\n",
       "   'id': '165419643537532_3605324646213664'},\n",
       "  {'created_time': '2020-12-31T03:00:01+0000',\n",
       "   'message': '🎉🥳 🎆 Đại sứ quán Hoa Kỳ tại Hà Nội và Tổng Lãnh sự quán Hoa Kỳ tại TP.HCM, bao gồm Phòng Lãnh sự, sẽ đóng cửa nghỉ Tết Dương lịch vào ngày 1 tháng 1 năm 2021. Thay mặt Phái đoàn Ngoại giao Hoa Kỳ tại Việt Nam, chúng tôi xin kính chúc quý vị cùng gia đình và người thân một năm mới an khang thịnh vượng!\\n\\n🎉🥳🎆 The U.S. Embassy in Hanoi and the U.S. Consulate General in HCMC, including the Consular Sections, will be closed Friday, January 1, 2021 for New Year’s Day. On behalf of Mission Vietnam, we would like to wish you and your loved ones a Happy New Year!',\n",
       "   'id': '165419643537532_3604986552914140'},\n",
       "  {'created_time': '2020-12-30T13:00:03+0000',\n",
       "   'message': '🛰 Một vệ tinh hợp tác giữa Hoa Kỳ và châu Âu đã được NASA phóng lên để thu thập dữ liệu quan trọng về mực nước biển 🌊, góp phần nâng cao độ chính xác của việc giám sát khí hậu và dự báo thời tiết.\\n🔎👉 Tìm hiểu ngay tại đây: https://share.america.gov/nasa-starts-us-european-satellite-mission-monitor-global-sea-levels/\\n\\n🛰 A joint U.S.-European satellite has been launched by NASA to collect important data about rising sea levels 🌊, which contributes to the enhancement of climate monitoring and weather forecasting accuracy.\\n🔎👉 Learn more at: https://share.america.gov/nasa-starts-us-european-satellite-mission-monitor-global-sea-levels/\\n\\n📸 Photo: NASA',\n",
       "   'id': '165419643537532_3602892493123546'}],\n",
       " 'paging': {'cursors': {'before': 'Q2c4U1pXNTBYM0YxWlhKNVgzTjBiM0o1WDJsa0R5TXhOalUwTVRrMk5ETTFNemMxTXpJN016WTVOelF5TURjeU1ETXpOek00T1RzN05BOE1ZAWEJwWDNOMGIzSjVYMmxrRHlBeE5qVTBNVGsyTkRNMU16YzFNekpmTXpZANU56UXlNRGN5TURNek56TTRPUThFZAEdsdFpRWmdHN2x3QVE9PQZDZD',\n",
       "   'after': 'Q2c4U1pXNTBYM0YxWlhKNVgzTjBiM0o1WDJsa0R5TXhOalUwTVRrMk5ETTFNemMxTXpJN016WXdNamc1TWpRNU16RXlNelUwTmpzN05BOE1ZAWEJwWDNOMGIzSjVYMmxrRHlBeE5qVTBNVGsyTkRNMU16YzFNekpmTXpZAd01qZAzVNalE1TXpFeU16VTBOZAzhFZAEdsdFpRWmY3SG5UQVE9PQZDZD'},\n",
       "  'next': 'https://graph.facebook.com/v9.0/165419643537532/published_posts?access_token=EAABnlB7bWhcBAAAdwu8FcZBsaLhZCeltVBlF7ZCiWDN2mRbHGHr02jrQyf9LEdSZAxRvZBu8GmQh9DfjpP8UshmfWawHU0B6h8KZCzNcYLl5ZCumtwqjm0LMG4BXvbnWWrv5t6beabNSHeuhykZC6OvaYEKJCtZCZBUQoq0sO3WlnGhTU1ywpUzIz5gZBFuiHPKZCklrGPyWnD2XSZBMutWSX4lEs&limit=100&after=Q2c4U1pXNTBYM0YxWlhKNVgzTjBiM0o1WDJsa0R5TXhOalUwTVRrMk5ETTFNemMxTXpJN016WXdNamc1TWpRNU16RXlNelUwTmpzN05BOE1ZAWEJwWDNOMGIzSjVYMmxrRHlBeE5qVTBNVGsyTkRNMU16YzFNekpmTXpZAd01qZAzVNalE1TXpFeU16VTBOZAzhFZAEdsdFpRWmY3SG5UQVE9PQZDZD'}}"
      ]
     },
     "metadata": {},
     "execution_count": 108
    }
   ],
   "source": [
    "result = requests.get(url).json()\n",
    "result"
   ]
  },
  {
   "cell_type": "code",
   "execution_count": 109,
   "metadata": {},
   "outputs": [
    {
     "output_type": "execute_result",
     "data": {
      "text/plain": [
       "                created_time  \\\n",
       "95  2020-12-31T13:00:02+0000   \n",
       "96  2020-12-31T08:00:01+0000   \n",
       "97  2020-12-31T07:08:00+0000   \n",
       "98  2020-12-31T03:00:01+0000   \n",
       "99  2020-12-30T13:00:03+0000   \n",
       "\n",
       "                                              message  \\\n",
       "95  🙏😜 Thank you to the nearly 400 students from T...   \n",
       "96  📣 Bạn đang tìm nguồn hỗ trợ tài chính để thực ...   \n",
       "97  👋 Tip of the Week: This month’s American Citiz...   \n",
       "98  🎉🥳 🎆 Đại sứ quán Hoa Kỳ tại Hà Nội và Tổng Lãn...   \n",
       "99  🛰 Một vệ tinh hợp tác giữa Hoa Kỳ và châu Âu đ...   \n",
       "\n",
       "                                  id story  \n",
       "95  165419643537532_3605014412911354   NaN  \n",
       "96  165419643537532_3605107216235407   NaN  \n",
       "97  165419643537532_3605324646213664   NaN  \n",
       "98  165419643537532_3604986552914140   NaN  \n",
       "99  165419643537532_3602892493123546   NaN  "
      ],
      "text/html": "<div>\n<style scoped>\n    .dataframe tbody tr th:only-of-type {\n        vertical-align: middle;\n    }\n\n    .dataframe tbody tr th {\n        vertical-align: top;\n    }\n\n    .dataframe thead th {\n        text-align: right;\n    }\n</style>\n<table border=\"1\" class=\"dataframe\">\n  <thead>\n    <tr style=\"text-align: right;\">\n      <th></th>\n      <th>created_time</th>\n      <th>message</th>\n      <th>id</th>\n      <th>story</th>\n    </tr>\n  </thead>\n  <tbody>\n    <tr>\n      <th>95</th>\n      <td>2020-12-31T13:00:02+0000</td>\n      <td>🙏😜 Thank you to the nearly 400 students from T...</td>\n      <td>165419643537532_3605014412911354</td>\n      <td>NaN</td>\n    </tr>\n    <tr>\n      <th>96</th>\n      <td>2020-12-31T08:00:01+0000</td>\n      <td>📣 Bạn đang tìm nguồn hỗ trợ tài chính để thực ...</td>\n      <td>165419643537532_3605107216235407</td>\n      <td>NaN</td>\n    </tr>\n    <tr>\n      <th>97</th>\n      <td>2020-12-31T07:08:00+0000</td>\n      <td>👋 Tip of the Week: This month’s American Citiz...</td>\n      <td>165419643537532_3605324646213664</td>\n      <td>NaN</td>\n    </tr>\n    <tr>\n      <th>98</th>\n      <td>2020-12-31T03:00:01+0000</td>\n      <td>🎉🥳 🎆 Đại sứ quán Hoa Kỳ tại Hà Nội và Tổng Lãn...</td>\n      <td>165419643537532_3604986552914140</td>\n      <td>NaN</td>\n    </tr>\n    <tr>\n      <th>99</th>\n      <td>2020-12-30T13:00:03+0000</td>\n      <td>🛰 Một vệ tinh hợp tác giữa Hoa Kỳ và châu Âu đ...</td>\n      <td>165419643537532_3602892493123546</td>\n      <td>NaN</td>\n    </tr>\n  </tbody>\n</table>\n</div>"
     },
     "metadata": {},
     "execution_count": 109
    }
   ],
   "source": [
    "df = pd.json_normalize(result, 'data')\n",
    "df.tail()"
   ]
  },
  {
   "cell_type": "code",
   "execution_count": 497,
   "metadata": {},
   "outputs": [],
   "source": [
    "urlnext = 'https://graph.facebook.com/v9.0/165419643537532/published_posts?access_token=EAABnlB7bWhcBAG608pDOUZAnWWeeQD8OoJWRSzo1lEWSq521hZCjhmNCZAosSw8hEsKdyVnZAkAi2UjkH7JYCHNJfadWQ4OC1foiDEWs7Fc5ClMJmZC0TIotK5Cl2uRk3PrJEyXBnqwUadbHsqtixZCf9ZA3Qz3BlF4Omoq4QazynxWhKsJoKYSlXrZCJy2Dh3Ctpw3I5iM9EBpB6lusEsab&limit=100&after=Q2c4U1pXNTBYM0YxWlhKNVgzTjBiM0o1WDJsa0R5TXhOalUwTVRrMk5ETTFNemMxTXpJN01UZAzJNVFl4TVRRNE1UTXdNRFE0T3pBN05BOE1ZAWEJwWDNOMGIzSjVYMmxrRHg4eE5qVTBNVGsyTkRNMU16YzFNekpmTVRnMk1UWXhNVFE0TVRNd01EUTREd1IwYVcxbEJrNnBjZAklC'"
   ]
  },
  {
   "cell_type": "code",
   "execution_count": 498,
   "metadata": {},
   "outputs": [
    {
     "output_type": "execute_result",
     "data": {
      "text/plain": [
       "{'data': [{'created_time': '2011-10-27T15:00:02+0000',\n",
       "   'story': 'U.S. Consulate General - Ho Chi Minh City added a new photo.',\n",
       "   'id': '165419643537532_186161151463381'},\n",
       "  {'created_time': '2011-10-27T15:00:02+0000',\n",
       "   'story': 'U.S. Consulate General - Ho Chi Minh City added a new photo.',\n",
       "   'id': '165419643537532_186161154796714'},\n",
       "  {'created_time': '2011-10-27T15:00:02+0000',\n",
       "   'story': 'U.S. Consulate General - Ho Chi Minh City added a new photo — with Quyen Nguyen and 8 others.',\n",
       "   'id': '165419643537532_186161158130047'},\n",
       "  {'created_time': '2011-10-27T15:00:02+0000',\n",
       "   'story': 'U.S. Consulate General - Ho Chi Minh City added a new photo — with Vy Tường Bùi and 4 others.',\n",
       "   'id': '165419643537532_186161161463380'},\n",
       "  {'created_time': '2011-10-27T15:00:01+0000',\n",
       "   'story': 'U.S. Consulate General - Ho Chi Minh City added a new photo — with Nguyễn Phú.',\n",
       "   'id': '165419643537532_186161058130057'},\n",
       "  {'created_time': '2011-10-27T15:00:01+0000',\n",
       "   'story': 'U.S. Consulate General - Ho Chi Minh City added a new photo.',\n",
       "   'id': '165419643537532_186161061463390'},\n",
       "  {'created_time': '2011-10-27T15:00:01+0000',\n",
       "   'story': 'U.S. Consulate General - Ho Chi Minh City added a new photo — with Kim Quan and Ha Meo.',\n",
       "   'id': '165419643537532_186161064796723'},\n",
       "  {'created_time': '2011-10-27T15:00:01+0000',\n",
       "   'story': 'U.S. Consulate General - Ho Chi Minh City added a new photo.',\n",
       "   'id': '165419643537532_186161068130056'},\n",
       "  {'created_time': '2011-10-27T15:00:01+0000',\n",
       "   'story': 'U.S. Consulate General - Ho Chi Minh City added a new photo.',\n",
       "   'id': '165419643537532_186161071463389'},\n",
       "  {'created_time': '2011-10-27T15:00:01+0000',\n",
       "   'story': 'U.S. Consulate General - Ho Chi Minh City added a new photo — with Khoa Nguyen and Thach Thao Tran.',\n",
       "   'id': '165419643537532_186161074796722'},\n",
       "  {'created_time': '2011-10-27T15:00:01+0000',\n",
       "   'story': 'U.S. Consulate General - Ho Chi Minh City added a new photo.',\n",
       "   'id': '165419643537532_186161081463388'},\n",
       "  {'created_time': '2011-10-27T15:00:01+0000',\n",
       "   'story': 'U.S. Consulate General - Ho Chi Minh City added a new photo — with La Huệ Mẫn and 4 others.',\n",
       "   'id': '165419643537532_186161088130054'},\n",
       "  {'created_time': '2011-10-27T15:00:01+0000',\n",
       "   'story': 'U.S. Consulate General - Ho Chi Minh City added a new photo — with Như Nguyễn and 2 others.',\n",
       "   'id': '165419643537532_186161098130053'},\n",
       "  {'created_time': '2011-10-27T15:00:01+0000',\n",
       "   'story': 'U.S. Consulate General - Ho Chi Minh City added a new photo — with Binh Le.',\n",
       "   'id': '165419643537532_186161101463386'},\n",
       "  {'created_time': '2011-10-27T15:00:01+0000',\n",
       "   'message': 'DPO Robert Ogburn explained more about pumpkin carving',\n",
       "   'story': 'U.S. Consulate General - Ho Chi Minh City added a new photo — with Melody Lothridge and 2 others.',\n",
       "   'id': '165419643537532_186161104796719'},\n",
       "  {'created_time': '2011-10-27T01:18:13+0000',\n",
       "   'message': 'New York is holding a huge birthday party for the Statue of Liberty. Do you know how old Lady Liberty is, and how she came to be standing in New York Harbor? http://goo.gl/cvYij ',\n",
       "   'id': '165419643537532_166275140131559'},\n",
       "  {'created_time': '2011-10-26T05:32:36+0000',\n",
       "   'message': 'http://photos.america.gov/galleries/amgov/4110/halloween2011/',\n",
       "   'id': '165419643537532_294416123910281'},\n",
       "  {'created_time': '2011-10-26T02:49:04+0000',\n",
       "   'message': 'How can countries fight global hunger and create economic opportunity? See what Secretary of State Clinton, philanthropist Howard G. Buffett, businessman Bill Gates, and World Food Programme Executive Director Josette Sheeran have to say. http://goo.gl/vNiF9 ',\n",
       "   'id': '165419643537532_306223386058130'},\n",
       "  {'created_time': '2011-10-25T12:28:02+0000',\n",
       "   'message': 'Các bạn ơi, chương trình Halloween đã hết chỗ rồi.  Đến thời điểm này, trung tâm nhận được 41 “Like”, 60 “Attending” on facebook và 68 đăng ký qua email.  Trung tâm sẽ sử dụng tên mà các bạn gửi theo facebook và email để lên danh sách tham dự.  Xin lỗi trung tâm không thể nhận thêm đăng ký được nữa.  Các bạn nhớ đem CMND hoặc thẻ học sinh để vào cổng nhé.  Bạn nào có đồ hóa trang thì mang theo mặc cho vui nhé.  See you all on Thursday at 4:00 p.m.',\n",
       "   'id': '165419643537532_185278264885003'},\n",
       "  {'created_time': '2011-10-25T06:07:30+0000',\n",
       "   'message': 'Millions of American boys pitch in to help others via the Boy Scouts. Are there Boy Scouts, or similar organizations in your area?\\n\\nhttp://iipdigital.usembassy.gov/st/english/inbrief/2011/10/20111024113424enaj0.3364374.html#axzz1bik6cDVI',\n",
       "   'id': '165419643537532_207564445983569'},\n",
       "  {'created_time': '2011-10-25T02:04:37+0000',\n",
       "   'message': 'Two hundred professionals from 28 countries met in Washington recently to share ideas on meeting challenges posed by climate change and other global issues. Are such gatherings useful? http://goo.gl/OcQ8f',\n",
       "   'id': '165419643537532_278529458844718'},\n",
       "  {'created_time': '2011-10-24T08:20:07+0000',\n",
       "   'message': 'Who’s 93 meters tall, is made of copper and is celebrating her 125th birthday?  Probably the best-known landmark in America.  Have you seen her?\\n\\nhttp://iipdigital.usembassy.gov/st/english/inbrief/2011/10/20111021132344esiuol0.5831415.html#axzz1b9j7SCev',\n",
       "   'id': '165419643537532_269661436406499'},\n",
       "  {'created_time': '2011-10-24T06:07:17+0000',\n",
       "   'message': 'http://iipdigital.usembassy.gov/st/english/inbrief/2011/10/20111020165348nerual9.693545e-02.html#axzz1b9j7SCev',\n",
       "   'id': '165419643537532_180987865317339'},\n",
       "  {'created_time': '2011-10-22T07:56:24+0000',\n",
       "   'message': 'http://timessquarenyc.org/',\n",
       "   'story': 'U.S. Consulate General - Ho Chi Minh City added a new photo.',\n",
       "   'id': '165419643537532_183958475016982'},\n",
       "  {'created_time': '2011-10-22T07:36:40+0000',\n",
       "   'message': 'http://www.nps.gov/nr/travel/wash/dc73.htm',\n",
       "   'story': 'U.S. Consulate General - Ho Chi Minh City added a new photo.',\n",
       "   'id': '165419643537532_183955385017291'},\n",
       "  {'created_time': '2011-10-21T10:01:40+0000',\n",
       "   'story': 'U.S. Consulate General - Ho Chi Minh City added a new photo — with Khoa Vũ Trần Đăng.',\n",
       "   'id': '165419643537532_183590998387063'},\n",
       "  {'created_time': '2011-10-21T10:01:40+0000',\n",
       "   'story': 'U.S. Consulate General - Ho Chi Minh City added a new photo — with Phamphuc Thong.',\n",
       "   'id': '165419643537532_183591001720396'},\n",
       "  {'created_time': '2011-10-21T10:01:40+0000',\n",
       "   'story': 'U.S. Consulate General - Ho Chi Minh City added a new photo.',\n",
       "   'id': '165419643537532_183591005053729'},\n",
       "  {'created_time': '2011-10-21T10:01:40+0000',\n",
       "   'story': 'U.S. Consulate General - Ho Chi Minh City added a new photo — with Toan Dinh and 8 others.',\n",
       "   'id': '165419643537532_183591008387062'},\n",
       "  {'created_time': '2011-10-21T10:01:40+0000',\n",
       "   'story': 'U.S. Consulate General - Ho Chi Minh City added a new photo — with Minh Quan and Nhật Nam.',\n",
       "   'id': '165419643537532_183591011720395'},\n",
       "  {'created_time': '2011-10-21T10:01:40+0000',\n",
       "   'story': 'U.S. Consulate General - Ho Chi Minh City added a new photo — with Thế Minh and 3 others.',\n",
       "   'id': '165419643537532_183591015053728'},\n",
       "  {'created_time': '2011-10-21T10:01:40+0000',\n",
       "   'story': 'U.S. Consulate General - Ho Chi Minh City added a new photo — with Mia Nguyen and 2 others.',\n",
       "   'id': '165419643537532_183591018387061'},\n",
       "  {'created_time': '2011-10-21T10:01:40+0000',\n",
       "   'story': 'U.S. Consulate General - Ho Chi Minh City added a new photo — with Khoa Vũ Trần Đăng.',\n",
       "   'id': '165419643537532_183591021720394'},\n",
       "  {'created_time': '2011-10-21T10:01:39+0000',\n",
       "   'story': 'U.S. Consulate General - Ho Chi Minh City added a new photo — with Mia Nguyen.',\n",
       "   'id': '165419643537532_183590981720398'},\n",
       "  {'created_time': '2011-10-21T10:01:39+0000',\n",
       "   'story': 'U.S. Consulate General - Ho Chi Minh City added a new photo — with Như Nguyễn and Minh Doan.',\n",
       "   'id': '165419643537532_183590985053731'},\n",
       "  {'created_time': '2011-10-21T10:01:39+0000',\n",
       "   'story': 'U.S. Consulate General - Ho Chi Minh City added a new photo.',\n",
       "   'id': '165419643537532_183590991720397'},\n",
       "  {'created_time': '2011-10-21T10:01:39+0000',\n",
       "   'story': 'U.S. Consulate General - Ho Chi Minh City added a new photo.',\n",
       "   'id': '165419643537532_183590995053730'},\n",
       "  {'created_time': '2011-10-21T09:38:19+0000',\n",
       "   'message': 'http://goo.gl/s1tso',\n",
       "   'id': '165419643537532_298142016863834'},\n",
       "  {'created_time': '2011-10-21T02:41:21+0000',\n",
       "   'message': 'http://t.co/zfB87Bxm',\n",
       "   'id': '165419643537532_113029132141167'},\n",
       "  {'created_time': '2011-10-20T11:39:00+0000',\n",
       "   'message': 'AC nhận được một số yêu cầu thông tin về một số bang tại Mỹ.  Các bạn cùng tham khảo trang web này để có thêm thông tin nhé. http://www.50states.com/',\n",
       "   'id': '165419643537532_227872530607980'},\n",
       "  {'created_time': '2011-10-20T01:26:23+0000',\n",
       "   'id': '165419643537532_232723983455557'},\n",
       "  {'created_time': '2011-10-19T13:47:01+0000',\n",
       "   'story': 'U.S. Consulate General - Ho Chi Minh City added a new photo — with Tong Thi Thanh Nga and Việt Nguyễn.',\n",
       "   'id': '165419643537532_182817958464367'},\n",
       "  {'created_time': '2011-10-19T01:54:21+0000',\n",
       "   'message': 'What happens when a leader from another country is invited for a state visit to the United States? See images from the three-day U.S. state visit of South Korean President Lee Myung-bak and his wife, Kim Yoon-ok, who were hosted by the Obamas at a White House state dinner on October 13. http://goo.gl/ZaZAA',\n",
       "   'id': '165419643537532_209143575821649'},\n",
       "  {'created_time': '2011-10-18T12:32:31+0000',\n",
       "   'message': 'http://trailers.apple.com/trailers\\nhttp://www.boxofficemojo.com\\n\\nCác bạn ơi, đây là 2 website mà ông Bullen chia sẻ với chúng ta trong buổi nói chuyện hôm nay.  Các bạn xem thử nhé.  Nhớ cho chúng tôi biết các bạn thích loại phim nào và có thích xem chiếu phim tại trung tâm không.  Chúng tôi muốn bổ sung các bộ phim yêu thích của các bạn vào bộ sưu tập của trung tâm và sẽ tổ chức thêm nhiều chương trình bổ ích để phục vụ các bạn. Các bạn cũng có thể đưa các câu hỏi của mình lên facebook, trung tâm sẽ tìm câu trả lời cho các bạn. Mong nhận được nhiều ý kiến của các bạn.\\n',\n",
       "   'id': '165419643537532_147373278693568'},\n",
       "  {'created_time': '2011-10-18T11:48:32+0000',\n",
       "   'story': 'U.S. Consulate General - Ho Chi Minh City added a new photo.',\n",
       "   'id': '165419643537532_182372111842285'},\n",
       "  {'created_time': '2011-10-18T01:56:18+0000',\n",
       "   'message': 'Time is running out – enter the U.S. Department of State’s “Dance with Us” Photo Contest by October 25th to win an iPad 2 and other prizes! http://goo.gl/TIvZM',\n",
       "   'id': '165419643537532_178862718863328'},\n",
       "  {'created_time': '2011-10-17T09:48:10+0000',\n",
       "   'message': 'The APEC Women and the Economy Summit (WES) motivated the Asia-Pacific community to empower women entrepreneurs and business leaders. What was the outcome? Find out by joining our conversation on how women are important to help grow the global economy! Click here and “Enter as a Guest” to share your thoughts: http://goo.gl/56UEh',\n",
       "   'id': '165419643537532_178570995559179'},\n",
       "  {'created_time': '2011-10-17T06:54:22+0000',\n",
       "   'message': 'Sept. 16, 2011: Remarks by Secretary Clinton at the Asia Pacific Economic Cooperation Women and the Economy Summit. http://goo.gl/UR2zM  \\n',\n",
       "   'id': '165419643537532_227464453980948'},\n",
       "  {'created_time': '2011-10-17T03:32:13+0000',\n",
       "   'message': \"Bob, Katia, Lindsay, Elise and Simon are coming back. Let's get together again and play with them. More games, more fun this time. Only at the American Center Ho Chi Minh City!\",\n",
       "   'id': '165419643537532_181844461895050'},\n",
       "  {'created_time': '2011-10-16T01:17:15+0000',\n",
       "   'message': \"The Golden Gate Bridge is acclaimed as one of the world's most beautiful bridges and with its tremendous towers, sweeping main cables and great span, it is a sensory beauty featuring color, sound, and light. The Bridge can be a very busy place, particularly during the summer months. It is estimated that about nine million people from around the world visit the Bridge each year (1989 survey by San Francisco Convention and Visitor Bureau).\\r\\n\\r\\nhttp://www.facebook.com/goldengatebridge\",\n",
       "   'story': 'U.S. Consulate General - Ho Chi Minh City added a new photo.',\n",
       "   'id': '165419643537532_181397105273119'},\n",
       "  {'created_time': '2011-10-15T02:17:45+0000',\n",
       "   'message': 'Dear friends,\\n\\nAC wants to hear from you? Let us know how you like our programs and send us your ideas and suggestions. You can write in Vietnamese. More comments, more \"Like\", more fun!\\n\\nCác bạn ơi, trung tâm muốn lắng nghe từ các bạn. Hãy cho chúng tôi biết các bạn thích gì? Hãy gửi ý tưởng, gợi ý về chương trình cho trung tâm nhé. Trên facebook, các bạn có thể viết tiếng Anh hoặc tiếng Việt. Mong nhận được nhiều ý kiến của các bạn.  Càng nhiều ý kiến, càng đông, mình càng vui các bạn nhỉ?',\n",
       "   'id': '165419643537532_181010395311790'},\n",
       "  {'created_time': '2011-10-14T10:23:38+0000',\n",
       "   'story': 'U.S. Consulate General - Ho Chi Minh City added a new photo.',\n",
       "   'id': '165419643537532_180688655343964'},\n",
       "  {'created_time': '2011-10-13T14:24:12+0000',\n",
       "   'message': 'The Public Affairs Section of the U.S. Embassy in Hanoi and Consulate General in Ho Chi Minh City are currently seeking candidates for the 2012 Global Undergraduate Exchange Program. More information about the program, including details about how to apply, is available at\\nhttp://sites.google.com/site/ugradvietnam/\\nUGRAD Program - Vietnam',\n",
       "   'id': '165419643537532_180324642047032'},\n",
       "  {'created_time': '2011-10-13T13:12:42+0000',\n",
       "   'story': 'U.S. Consulate General - Ho Chi Minh City added a new photo.',\n",
       "   'id': '165419643537532_180302718715891'},\n",
       "  {'created_time': '2011-10-12T06:19:30+0000',\n",
       "   'message': 'A photo contest sponsored by the U.S. Department of State\\r\\nhttp://connect.state.gov/page/photo-contest?utm_source=septoct2011&utm_medium=announcementpost&utm_content=contestinfopage&utm_campaign=photocontest',\n",
       "   'id': '165419643537532_179789732100523'},\n",
       "  {'created_time': '2011-10-12T06:03:43+0000',\n",
       "   'message': \"Let's makes friends with these students from SIT Study Abroad Program. They will be with us tomorrow afternoon, at 4:30 p.m. at the American Center Ho Chi Minh City. What an exciting event!\\r\\nhttp://www.sit.edu/studyabroad\",\n",
       "   'id': '165419643537532_179787395434090'},\n",
       "  {'created_time': '2011-10-12T03:02:01+0000',\n",
       "   'message': 'Study of the United States Institutes (SUSI) for Student Leaders on Global Environmental Issues. More detail, please visit http://hochiminh.usconsulate.gov',\n",
       "   'id': '165419643537532_179748328771330'},\n",
       "  {'created_time': '2011-10-09T14:27:12+0000',\n",
       "   'message': 'Columbus Day\\nMonday, October 10, 2011\\n\\nThis holiday commemorates Christopher Columbus’s first landing in the Americas on October 12, 1492. Beginning in the late 19th century, Italian-Americans began to honor the day as a celebration of their heritage, as Columbus is widely believed to be of Italian origin. In 1937, President Franklin D. Roosevelt proclaimed the federal holiday.',\n",
       "   'id': '165419643537532_178622235550606'},\n",
       "  {'created_time': '2011-10-07T14:04:52+0000',\n",
       "   'message': 'The American Center Ho Chi Minh City will be closed in observance of Columbus Day on October 10th. Normal operating hours will resume on Tuesday, October 11.',\n",
       "   'id': '165419643537532_177815448964618'},\n",
       "  {'created_time': '2011-10-07T09:34:34+0000',\n",
       "   'story': 'U.S. Consulate General - Ho Chi Minh City added a new photo — with Vũ Viết Trụ and 2 others.',\n",
       "   'id': '165419643537532_177747635638066'},\n",
       "  {'created_time': '2011-10-04T03:56:22+0000',\n",
       "   'id': '165419643537532_117417895033040'},\n",
       "  {'created_time': '2011-10-03T08:53:12+0000',\n",
       "   'story': 'U.S. Consulate General - Ho Chi Minh City added a new photo.',\n",
       "   'id': '165419643537532_176095189136644'},\n",
       "  {'created_time': '2011-09-30T15:05:30+0000',\n",
       "   'story': 'U.S. Consulate General - Ho Chi Minh City added a new photo.',\n",
       "   'id': '165419643537532_175001792579317'},\n",
       "  {'created_time': '2011-09-30T06:29:49+0000',\n",
       "   'story': 'U.S. Consulate General - Ho Chi Minh City added a new photo.',\n",
       "   'id': '165419643537532_174882175924612'},\n",
       "  {'created_time': '2011-09-28T03:15:16+0000',\n",
       "   'message': 'The American Center - Grand Opening September 28, 2011.',\n",
       "   'id': '165419643537532_174031516009678'},\n",
       "  {'created_time': '2011-09-14T12:20:12+0000',\n",
       "   'story': 'U.S. Consulate General - Ho Chi Minh City added a new photo.',\n",
       "   'id': '165419643537532_168350943244402'}],\n",
       " 'paging': {'cursors': {'before': 'Q2c4U1pXNTBYM0YxWlhKNVgzTjBiM0o1WDJsa0R5TXhOalUwTVRrMk5ETTFNemMxTXpJN01UZAzJNVFl4TVRVeE5EWXpNemd4T3pBN05BOE1ZAWEJwWDNOMGIzSjVYMmxrRHg4eE5qVTBNVGsyTkRNMU16YzFNekpmTVRnMk1UWXhNVFV4TkRZAek16ZA3hEd1IwYVcxbEJrNnBjZAklC',\n",
       "   'after': 'Q2c4U1pXNTBYM0YxWlhKNVgzTjBiM0o1WDJsa0R5TXhOalUwTVRrMk5ETTFNemMxTXpJN01UWTRNelV3T1RRek1qUTBOREF5T3pBN05BOE1ZAWEJwWDNOMGIzSjVYMmxrRHg4eE5qVTBNVGsyTkRNMU16YzFNekpmTVRZANE16VXdPVFF6TWpRME5EQXlEd1IwYVcxbEJrNXdtL3dC'},\n",
       "  'previous': 'https://graph.facebook.com/v9.0/165419643537532/published_posts?access_token=EAABnlB7bWhcBAG608pDOUZAnWWeeQD8OoJWRSzo1lEWSq521hZCjhmNCZAosSw8hEsKdyVnZAkAi2UjkH7JYCHNJfadWQ4OC1foiDEWs7Fc5ClMJmZC0TIotK5Cl2uRk3PrJEyXBnqwUadbHsqtixZCf9ZA3Qz3BlF4Omoq4QazynxWhKsJoKYSlXrZCJy2Dh3Ctpw3I5iM9EBpB6lusEsab&limit=100&before=Q2c4U1pXNTBYM0YxWlhKNVgzTjBiM0o1WDJsa0R5TXhOalUwTVRrMk5ETTFNemMxTXpJN01UZAzJNVFl4TVRVeE5EWXpNemd4T3pBN05BOE1ZAWEJwWDNOMGIzSjVYMmxrRHg4eE5qVTBNVGsyTkRNMU16YzFNekpmTVRnMk1UWXhNVFV4TkRZAek16ZA3hEd1IwYVcxbEJrNnBjZAklC'}}"
      ]
     },
     "metadata": {},
     "execution_count": 498
    }
   ],
   "source": [
    "resultnext = requests.get(urlnext).json()\n",
    "resultnext"
   ]
  },
  {
   "cell_type": "code",
   "execution_count": 499,
   "metadata": {},
   "outputs": [
    {
     "output_type": "execute_result",
     "data": {
      "text/plain": [
       "                created_time  \\\n",
       "0   2011-10-27T15:00:02+0000   \n",
       "1   2011-10-27T15:00:02+0000   \n",
       "2   2011-10-27T15:00:02+0000   \n",
       "3   2011-10-27T15:00:02+0000   \n",
       "4   2011-10-27T15:00:01+0000   \n",
       "..                       ...   \n",
       "61  2011-10-03T08:53:12+0000   \n",
       "62  2011-09-30T15:05:30+0000   \n",
       "63  2011-09-30T06:29:49+0000   \n",
       "64  2011-09-28T03:15:16+0000   \n",
       "65  2011-09-14T12:20:12+0000   \n",
       "\n",
       "                                                story  \\\n",
       "0   U.S. Consulate General - Ho Chi Minh City adde...   \n",
       "1   U.S. Consulate General - Ho Chi Minh City adde...   \n",
       "2   U.S. Consulate General - Ho Chi Minh City adde...   \n",
       "3   U.S. Consulate General - Ho Chi Minh City adde...   \n",
       "4   U.S. Consulate General - Ho Chi Minh City adde...   \n",
       "..                                                ...   \n",
       "61  U.S. Consulate General - Ho Chi Minh City adde...   \n",
       "62  U.S. Consulate General - Ho Chi Minh City adde...   \n",
       "63  U.S. Consulate General - Ho Chi Minh City adde...   \n",
       "64                                                NaN   \n",
       "65  U.S. Consulate General - Ho Chi Minh City adde...   \n",
       "\n",
       "                                 id  \\\n",
       "0   165419643537532_186161151463381   \n",
       "1   165419643537532_186161154796714   \n",
       "2   165419643537532_186161158130047   \n",
       "3   165419643537532_186161161463380   \n",
       "4   165419643537532_186161058130057   \n",
       "..                              ...   \n",
       "61  165419643537532_176095189136644   \n",
       "62  165419643537532_175001792579317   \n",
       "63  165419643537532_174882175924612   \n",
       "64  165419643537532_174031516009678   \n",
       "65  165419643537532_168350943244402   \n",
       "\n",
       "                                              message  \n",
       "0                                                 NaN  \n",
       "1                                                 NaN  \n",
       "2                                                 NaN  \n",
       "3                                                 NaN  \n",
       "4                                                 NaN  \n",
       "..                                                ...  \n",
       "61                                                NaN  \n",
       "62                                                NaN  \n",
       "63                                                NaN  \n",
       "64  The American Center - Grand Opening September ...  \n",
       "65                                                NaN  \n",
       "\n",
       "[66 rows x 4 columns]"
      ],
      "text/html": "<div>\n<style scoped>\n    .dataframe tbody tr th:only-of-type {\n        vertical-align: middle;\n    }\n\n    .dataframe tbody tr th {\n        vertical-align: top;\n    }\n\n    .dataframe thead th {\n        text-align: right;\n    }\n</style>\n<table border=\"1\" class=\"dataframe\">\n  <thead>\n    <tr style=\"text-align: right;\">\n      <th></th>\n      <th>created_time</th>\n      <th>story</th>\n      <th>id</th>\n      <th>message</th>\n    </tr>\n  </thead>\n  <tbody>\n    <tr>\n      <th>0</th>\n      <td>2011-10-27T15:00:02+0000</td>\n      <td>U.S. Consulate General - Ho Chi Minh City adde...</td>\n      <td>165419643537532_186161151463381</td>\n      <td>NaN</td>\n    </tr>\n    <tr>\n      <th>1</th>\n      <td>2011-10-27T15:00:02+0000</td>\n      <td>U.S. Consulate General - Ho Chi Minh City adde...</td>\n      <td>165419643537532_186161154796714</td>\n      <td>NaN</td>\n    </tr>\n    <tr>\n      <th>2</th>\n      <td>2011-10-27T15:00:02+0000</td>\n      <td>U.S. Consulate General - Ho Chi Minh City adde...</td>\n      <td>165419643537532_186161158130047</td>\n      <td>NaN</td>\n    </tr>\n    <tr>\n      <th>3</th>\n      <td>2011-10-27T15:00:02+0000</td>\n      <td>U.S. Consulate General - Ho Chi Minh City adde...</td>\n      <td>165419643537532_186161161463380</td>\n      <td>NaN</td>\n    </tr>\n    <tr>\n      <th>4</th>\n      <td>2011-10-27T15:00:01+0000</td>\n      <td>U.S. Consulate General - Ho Chi Minh City adde...</td>\n      <td>165419643537532_186161058130057</td>\n      <td>NaN</td>\n    </tr>\n    <tr>\n      <th>...</th>\n      <td>...</td>\n      <td>...</td>\n      <td>...</td>\n      <td>...</td>\n    </tr>\n    <tr>\n      <th>61</th>\n      <td>2011-10-03T08:53:12+0000</td>\n      <td>U.S. Consulate General - Ho Chi Minh City adde...</td>\n      <td>165419643537532_176095189136644</td>\n      <td>NaN</td>\n    </tr>\n    <tr>\n      <th>62</th>\n      <td>2011-09-30T15:05:30+0000</td>\n      <td>U.S. Consulate General - Ho Chi Minh City adde...</td>\n      <td>165419643537532_175001792579317</td>\n      <td>NaN</td>\n    </tr>\n    <tr>\n      <th>63</th>\n      <td>2011-09-30T06:29:49+0000</td>\n      <td>U.S. Consulate General - Ho Chi Minh City adde...</td>\n      <td>165419643537532_174882175924612</td>\n      <td>NaN</td>\n    </tr>\n    <tr>\n      <th>64</th>\n      <td>2011-09-28T03:15:16+0000</td>\n      <td>NaN</td>\n      <td>165419643537532_174031516009678</td>\n      <td>The American Center - Grand Opening September ...</td>\n    </tr>\n    <tr>\n      <th>65</th>\n      <td>2011-09-14T12:20:12+0000</td>\n      <td>U.S. Consulate General - Ho Chi Minh City adde...</td>\n      <td>165419643537532_168350943244402</td>\n      <td>NaN</td>\n    </tr>\n  </tbody>\n</table>\n<p>66 rows × 4 columns</p>\n</div>"
     },
     "metadata": {},
     "execution_count": 499
    }
   ],
   "source": [
    "df3 = pd.json_normalize(resultnext, 'data')\n",
    "df3"
   ]
  },
  {
   "cell_type": "code",
   "execution_count": 501,
   "metadata": {},
   "outputs": [],
   "source": [
    "df = df.append(df3, ignore_index=True)"
   ]
  },
  {
   "cell_type": "code",
   "execution_count": 502,
   "metadata": {},
   "outputs": [
    {
     "output_type": "execute_result",
     "data": {
      "text/plain": [
       "                  created_time  \\\n",
       "7034  2011-10-03T08:53:12+0000   \n",
       "7035  2011-09-30T15:05:30+0000   \n",
       "7036  2011-09-30T06:29:49+0000   \n",
       "7037  2011-09-28T03:15:16+0000   \n",
       "7038  2011-09-14T12:20:12+0000   \n",
       "\n",
       "                                                message  \\\n",
       "7034                                                NaN   \n",
       "7035                                                NaN   \n",
       "7036                                                NaN   \n",
       "7037  The American Center - Grand Opening September ...   \n",
       "7038                                                NaN   \n",
       "\n",
       "                                   id  \\\n",
       "7034  165419643537532_176095189136644   \n",
       "7035  165419643537532_175001792579317   \n",
       "7036  165419643537532_174882175924612   \n",
       "7037  165419643537532_174031516009678   \n",
       "7038  165419643537532_168350943244402   \n",
       "\n",
       "                                                  story  \n",
       "7034  U.S. Consulate General - Ho Chi Minh City adde...  \n",
       "7035  U.S. Consulate General - Ho Chi Minh City adde...  \n",
       "7036  U.S. Consulate General - Ho Chi Minh City adde...  \n",
       "7037                                                NaN  \n",
       "7038  U.S. Consulate General - Ho Chi Minh City adde...  "
      ],
      "text/html": "<div>\n<style scoped>\n    .dataframe tbody tr th:only-of-type {\n        vertical-align: middle;\n    }\n\n    .dataframe tbody tr th {\n        vertical-align: top;\n    }\n\n    .dataframe thead th {\n        text-align: right;\n    }\n</style>\n<table border=\"1\" class=\"dataframe\">\n  <thead>\n    <tr style=\"text-align: right;\">\n      <th></th>\n      <th>created_time</th>\n      <th>message</th>\n      <th>id</th>\n      <th>story</th>\n    </tr>\n  </thead>\n  <tbody>\n    <tr>\n      <th>7034</th>\n      <td>2011-10-03T08:53:12+0000</td>\n      <td>NaN</td>\n      <td>165419643537532_176095189136644</td>\n      <td>U.S. Consulate General - Ho Chi Minh City adde...</td>\n    </tr>\n    <tr>\n      <th>7035</th>\n      <td>2011-09-30T15:05:30+0000</td>\n      <td>NaN</td>\n      <td>165419643537532_175001792579317</td>\n      <td>U.S. Consulate General - Ho Chi Minh City adde...</td>\n    </tr>\n    <tr>\n      <th>7036</th>\n      <td>2011-09-30T06:29:49+0000</td>\n      <td>NaN</td>\n      <td>165419643537532_174882175924612</td>\n      <td>U.S. Consulate General - Ho Chi Minh City adde...</td>\n    </tr>\n    <tr>\n      <th>7037</th>\n      <td>2011-09-28T03:15:16+0000</td>\n      <td>The American Center - Grand Opening September ...</td>\n      <td>165419643537532_174031516009678</td>\n      <td>NaN</td>\n    </tr>\n    <tr>\n      <th>7038</th>\n      <td>2011-09-14T12:20:12+0000</td>\n      <td>NaN</td>\n      <td>165419643537532_168350943244402</td>\n      <td>U.S. Consulate General - Ho Chi Minh City adde...</td>\n    </tr>\n  </tbody>\n</table>\n</div>"
     },
     "metadata": {},
     "execution_count": 502
    }
   ],
   "source": [
    "df.tail(5)"
   ]
  },
  {
   "cell_type": "code",
   "execution_count": 196,
   "metadata": {},
   "outputs": [
    {
     "output_type": "execute_result",
     "data": {
      "text/plain": [
       "                    created_time  \\\n",
       "count                        100   \n",
       "unique                       100   \n",
       "top     2019-09-24T02:48:12+0000   \n",
       "freq                           1   \n",
       "\n",
       "                                                  message  \\\n",
       "count                                                  72   \n",
       "unique                                                 72   \n",
       "top     Bạn sử dụng #Zalo, chúng tôi sử dụng Zalo, vì ...   \n",
       "freq                                                    1   \n",
       "\n",
       "                                      id  \\\n",
       "count                                100   \n",
       "unique                               100   \n",
       "top     165419643537532_2452010094878464   \n",
       "freq                                   1   \n",
       "\n",
       "                                                    story  \n",
       "count                                                  34  \n",
       "unique                                                  4  \n",
       "top     U.S. Consulate General - Ho Chi Minh City adde...  \n",
       "freq                                                   28  "
      ],
      "text/html": "<div>\n<style scoped>\n    .dataframe tbody tr th:only-of-type {\n        vertical-align: middle;\n    }\n\n    .dataframe tbody tr th {\n        vertical-align: top;\n    }\n\n    .dataframe thead th {\n        text-align: right;\n    }\n</style>\n<table border=\"1\" class=\"dataframe\">\n  <thead>\n    <tr style=\"text-align: right;\">\n      <th></th>\n      <th>created_time</th>\n      <th>message</th>\n      <th>id</th>\n      <th>story</th>\n    </tr>\n  </thead>\n  <tbody>\n    <tr>\n      <th>count</th>\n      <td>100</td>\n      <td>72</td>\n      <td>100</td>\n      <td>34</td>\n    </tr>\n    <tr>\n      <th>unique</th>\n      <td>100</td>\n      <td>72</td>\n      <td>100</td>\n      <td>4</td>\n    </tr>\n    <tr>\n      <th>top</th>\n      <td>2019-09-24T02:48:12+0000</td>\n      <td>Bạn sử dụng #Zalo, chúng tôi sử dụng Zalo, vì ...</td>\n      <td>165419643537532_2452010094878464</td>\n      <td>U.S. Consulate General - Ho Chi Minh City adde...</td>\n    </tr>\n    <tr>\n      <th>freq</th>\n      <td>1</td>\n      <td>1</td>\n      <td>1</td>\n      <td>28</td>\n    </tr>\n  </tbody>\n</table>\n</div>"
     },
     "metadata": {},
     "execution_count": 196
    }
   ],
   "source": [
    "df3.describe()"
   ]
  },
  {
   "cell_type": "code",
   "execution_count": 503,
   "metadata": {},
   "outputs": [
    {
     "output_type": "execute_result",
     "data": {
      "text/plain": [
       "                    created_time  \\\n",
       "count                       7039   \n",
       "unique                      6566   \n",
       "top     2011-11-02T08:07:26+0000   \n",
       "freq                          22   \n",
       "\n",
       "                                                  message  \\\n",
       "count                                                5425   \n",
       "unique                                               5264   \n",
       "top     [AMERICAN CENTER QUIZ]\\n\\nHãy cùng tìm hiểu nh...   \n",
       "freq                                                    7   \n",
       "\n",
       "                                      id  \\\n",
       "count                               7039   \n",
       "unique                              7039   \n",
       "top     165419643537532_2478962455516561   \n",
       "freq                                   1   \n",
       "\n",
       "                                                    story  \n",
       "count                                                2185  \n",
       "unique                                                361  \n",
       "top     U.S. Consulate General - Ho Chi Minh City adde...  \n",
       "freq                                                  781  "
      ],
      "text/html": "<div>\n<style scoped>\n    .dataframe tbody tr th:only-of-type {\n        vertical-align: middle;\n    }\n\n    .dataframe tbody tr th {\n        vertical-align: top;\n    }\n\n    .dataframe thead th {\n        text-align: right;\n    }\n</style>\n<table border=\"1\" class=\"dataframe\">\n  <thead>\n    <tr style=\"text-align: right;\">\n      <th></th>\n      <th>created_time</th>\n      <th>message</th>\n      <th>id</th>\n      <th>story</th>\n    </tr>\n  </thead>\n  <tbody>\n    <tr>\n      <th>count</th>\n      <td>7039</td>\n      <td>5425</td>\n      <td>7039</td>\n      <td>2185</td>\n    </tr>\n    <tr>\n      <th>unique</th>\n      <td>6566</td>\n      <td>5264</td>\n      <td>7039</td>\n      <td>361</td>\n    </tr>\n    <tr>\n      <th>top</th>\n      <td>2011-11-02T08:07:26+0000</td>\n      <td>[AMERICAN CENTER QUIZ]\\n\\nHãy cùng tìm hiểu nh...</td>\n      <td>165419643537532_2478962455516561</td>\n      <td>U.S. Consulate General - Ho Chi Minh City adde...</td>\n    </tr>\n    <tr>\n      <th>freq</th>\n      <td>22</td>\n      <td>7</td>\n      <td>1</td>\n      <td>781</td>\n    </tr>\n  </tbody>\n</table>\n</div>"
     },
     "metadata": {},
     "execution_count": 503
    }
   ],
   "source": [
    "df.describe()"
   ]
  },
  {
   "cell_type": "code",
   "execution_count": 500,
   "metadata": {},
   "outputs": [],
   "source": [
    "df3 = df3[['created_time', 'message', 'id', 'story']]"
   ]
  },
  {
   "cell_type": "code",
   "execution_count": null,
   "metadata": {},
   "outputs": [],
   "source": [
    "df3"
   ]
  },
  {
   "cell_type": "code",
   "execution_count": 504,
   "metadata": {},
   "outputs": [],
   "source": [
    "df.to_csv('20210223_export.csv', index = True, header = True)"
   ]
  },
  {
   "cell_type": "code",
   "execution_count": 470,
   "metadata": {},
   "outputs": [
    {
     "output_type": "error",
     "ename": "IllegalCharacterError",
     "evalue": "",
     "traceback": [
      "\u001b[0;31m---------------------------------------------------------------------------\u001b[0m",
      "\u001b[0;31mIllegalCharacterError\u001b[0m                     Traceback (most recent call last)",
      "\u001b[0;32m<ipython-input-470-4d15ea851fc5>\u001b[0m in \u001b[0;36m<module>\u001b[0;34m\u001b[0m\n\u001b[0;32m----> 1\u001b[0;31m \u001b[0mdf\u001b[0m\u001b[0;34m.\u001b[0m\u001b[0mto_excel\u001b[0m\u001b[0;34m(\u001b[0m\u001b[0;34m'ex.xlsx'\u001b[0m\u001b[0;34m)\u001b[0m\u001b[0;34m\u001b[0m\u001b[0;34m\u001b[0m\u001b[0m\n\u001b[0m",
      "\u001b[0;32m/Library/Frameworks/Python.framework/Versions/3.8/lib/python3.8/site-packages/pandas/core/generic.py\u001b[0m in \u001b[0;36mto_excel\u001b[0;34m(self, excel_writer, sheet_name, na_rep, float_format, columns, header, index, index_label, startrow, startcol, engine, merge_cells, encoding, inf_rep, verbose, freeze_panes, storage_options)\u001b[0m\n\u001b[1;32m   2184\u001b[0m             \u001b[0minf_rep\u001b[0m\u001b[0;34m=\u001b[0m\u001b[0minf_rep\u001b[0m\u001b[0;34m,\u001b[0m\u001b[0;34m\u001b[0m\u001b[0;34m\u001b[0m\u001b[0m\n\u001b[1;32m   2185\u001b[0m         )\n\u001b[0;32m-> 2186\u001b[0;31m         formatter.write(\n\u001b[0m\u001b[1;32m   2187\u001b[0m             \u001b[0mexcel_writer\u001b[0m\u001b[0;34m,\u001b[0m\u001b[0;34m\u001b[0m\u001b[0;34m\u001b[0m\u001b[0m\n\u001b[1;32m   2188\u001b[0m             \u001b[0msheet_name\u001b[0m\u001b[0;34m=\u001b[0m\u001b[0msheet_name\u001b[0m\u001b[0;34m,\u001b[0m\u001b[0;34m\u001b[0m\u001b[0;34m\u001b[0m\u001b[0m\n",
      "\u001b[0;32m/Library/Frameworks/Python.framework/Versions/3.8/lib/python3.8/site-packages/pandas/io/formats/excel.py\u001b[0m in \u001b[0;36mwrite\u001b[0;34m(self, writer, sheet_name, startrow, startcol, freeze_panes, engine, storage_options)\u001b[0m\n\u001b[1;32m    819\u001b[0m \u001b[0;34m\u001b[0m\u001b[0m\n\u001b[1;32m    820\u001b[0m         \u001b[0;32mtry\u001b[0m\u001b[0;34m:\u001b[0m\u001b[0;34m\u001b[0m\u001b[0;34m\u001b[0m\u001b[0m\n\u001b[0;32m--> 821\u001b[0;31m             writer.write_cells(\n\u001b[0m\u001b[1;32m    822\u001b[0m                 \u001b[0mformatted_cells\u001b[0m\u001b[0;34m,\u001b[0m\u001b[0;34m\u001b[0m\u001b[0;34m\u001b[0m\u001b[0m\n\u001b[1;32m    823\u001b[0m                 \u001b[0msheet_name\u001b[0m\u001b[0;34m,\u001b[0m\u001b[0;34m\u001b[0m\u001b[0;34m\u001b[0m\u001b[0m\n",
      "\u001b[0;32m/Library/Frameworks/Python.framework/Versions/3.8/lib/python3.8/site-packages/pandas/io/excel/_openpyxl.py\u001b[0m in \u001b[0;36mwrite_cells\u001b[0;34m(self, cells, sheet_name, startrow, startcol, freeze_panes)\u001b[0m\n\u001b[1;32m    406\u001b[0m                 \u001b[0mrow\u001b[0m\u001b[0;34m=\u001b[0m\u001b[0mstartrow\u001b[0m \u001b[0;34m+\u001b[0m \u001b[0mcell\u001b[0m\u001b[0;34m.\u001b[0m\u001b[0mrow\u001b[0m \u001b[0;34m+\u001b[0m \u001b[0;36m1\u001b[0m\u001b[0;34m,\u001b[0m \u001b[0mcolumn\u001b[0m\u001b[0;34m=\u001b[0m\u001b[0mstartcol\u001b[0m \u001b[0;34m+\u001b[0m \u001b[0mcell\u001b[0m\u001b[0;34m.\u001b[0m\u001b[0mcol\u001b[0m \u001b[0;34m+\u001b[0m \u001b[0;36m1\u001b[0m\u001b[0;34m\u001b[0m\u001b[0;34m\u001b[0m\u001b[0m\n\u001b[1;32m    407\u001b[0m             )\n\u001b[0;32m--> 408\u001b[0;31m             \u001b[0mxcell\u001b[0m\u001b[0;34m.\u001b[0m\u001b[0mvalue\u001b[0m\u001b[0;34m,\u001b[0m \u001b[0mfmt\u001b[0m \u001b[0;34m=\u001b[0m \u001b[0mself\u001b[0m\u001b[0;34m.\u001b[0m\u001b[0m_value_with_fmt\u001b[0m\u001b[0;34m(\u001b[0m\u001b[0mcell\u001b[0m\u001b[0;34m.\u001b[0m\u001b[0mval\u001b[0m\u001b[0;34m)\u001b[0m\u001b[0;34m\u001b[0m\u001b[0;34m\u001b[0m\u001b[0m\n\u001b[0m\u001b[1;32m    409\u001b[0m             \u001b[0;32mif\u001b[0m \u001b[0mfmt\u001b[0m\u001b[0;34m:\u001b[0m\u001b[0;34m\u001b[0m\u001b[0;34m\u001b[0m\u001b[0m\n\u001b[1;32m    410\u001b[0m                 \u001b[0mxcell\u001b[0m\u001b[0;34m.\u001b[0m\u001b[0mnumber_format\u001b[0m \u001b[0;34m=\u001b[0m \u001b[0mfmt\u001b[0m\u001b[0;34m\u001b[0m\u001b[0;34m\u001b[0m\u001b[0m\n",
      "\u001b[0;32m/Library/Frameworks/Python.framework/Versions/3.8/lib/python3.8/site-packages/openpyxl/cell/cell.py\u001b[0m in \u001b[0;36mvalue\u001b[0;34m(self, value)\u001b[0m\n\u001b[1;32m    214\u001b[0m     \u001b[0;32mdef\u001b[0m \u001b[0mvalue\u001b[0m\u001b[0;34m(\u001b[0m\u001b[0mself\u001b[0m\u001b[0;34m,\u001b[0m \u001b[0mvalue\u001b[0m\u001b[0;34m)\u001b[0m\u001b[0;34m:\u001b[0m\u001b[0;34m\u001b[0m\u001b[0;34m\u001b[0m\u001b[0m\n\u001b[1;32m    215\u001b[0m         \u001b[0;34m\"\"\"Set the value and infer type and display options.\"\"\"\u001b[0m\u001b[0;34m\u001b[0m\u001b[0;34m\u001b[0m\u001b[0m\n\u001b[0;32m--> 216\u001b[0;31m         \u001b[0mself\u001b[0m\u001b[0;34m.\u001b[0m\u001b[0m_bind_value\u001b[0m\u001b[0;34m(\u001b[0m\u001b[0mvalue\u001b[0m\u001b[0;34m)\u001b[0m\u001b[0;34m\u001b[0m\u001b[0;34m\u001b[0m\u001b[0m\n\u001b[0m\u001b[1;32m    217\u001b[0m \u001b[0;34m\u001b[0m\u001b[0m\n\u001b[1;32m    218\u001b[0m     \u001b[0;34m@\u001b[0m\u001b[0mproperty\u001b[0m\u001b[0;34m\u001b[0m\u001b[0;34m\u001b[0m\u001b[0m\n",
      "\u001b[0;32m/Library/Frameworks/Python.framework/Versions/3.8/lib/python3.8/site-packages/openpyxl/cell/cell.py\u001b[0m in \u001b[0;36m_bind_value\u001b[0;34m(self, value)\u001b[0m\n\u001b[1;32m    190\u001b[0m \u001b[0;34m\u001b[0m\u001b[0m\n\u001b[1;32m    191\u001b[0m         \u001b[0;32melif\u001b[0m \u001b[0mdt\u001b[0m \u001b[0;34m==\u001b[0m \u001b[0;34m\"s\"\u001b[0m\u001b[0;34m:\u001b[0m\u001b[0;34m\u001b[0m\u001b[0;34m\u001b[0m\u001b[0m\n\u001b[0;32m--> 192\u001b[0;31m             \u001b[0mvalue\u001b[0m \u001b[0;34m=\u001b[0m \u001b[0mself\u001b[0m\u001b[0;34m.\u001b[0m\u001b[0mcheck_string\u001b[0m\u001b[0;34m(\u001b[0m\u001b[0mvalue\u001b[0m\u001b[0;34m)\u001b[0m\u001b[0;34m\u001b[0m\u001b[0;34m\u001b[0m\u001b[0m\n\u001b[0m\u001b[1;32m    193\u001b[0m             \u001b[0;32mif\u001b[0m \u001b[0mlen\u001b[0m\u001b[0;34m(\u001b[0m\u001b[0mvalue\u001b[0m\u001b[0;34m)\u001b[0m \u001b[0;34m>\u001b[0m \u001b[0;36m1\u001b[0m \u001b[0;32mand\u001b[0m \u001b[0mvalue\u001b[0m\u001b[0;34m.\u001b[0m\u001b[0mstartswith\u001b[0m\u001b[0;34m(\u001b[0m\u001b[0;34m\"=\"\u001b[0m\u001b[0;34m)\u001b[0m\u001b[0;34m:\u001b[0m\u001b[0;34m\u001b[0m\u001b[0;34m\u001b[0m\u001b[0m\n\u001b[1;32m    194\u001b[0m                 \u001b[0mself\u001b[0m\u001b[0;34m.\u001b[0m\u001b[0mdata_type\u001b[0m \u001b[0;34m=\u001b[0m \u001b[0;34m'f'\u001b[0m\u001b[0;34m\u001b[0m\u001b[0;34m\u001b[0m\u001b[0m\n",
      "\u001b[0;32m/Library/Frameworks/Python.framework/Versions/3.8/lib/python3.8/site-packages/openpyxl/cell/cell.py\u001b[0m in \u001b[0;36mcheck_string\u001b[0;34m(self, value)\u001b[0m\n\u001b[1;32m    157\u001b[0m         \u001b[0mvalue\u001b[0m \u001b[0;34m=\u001b[0m \u001b[0mvalue\u001b[0m\u001b[0;34m[\u001b[0m\u001b[0;34m:\u001b[0m\u001b[0;36m32767\u001b[0m\u001b[0;34m]\u001b[0m\u001b[0;34m\u001b[0m\u001b[0;34m\u001b[0m\u001b[0m\n\u001b[1;32m    158\u001b[0m         \u001b[0;32mif\u001b[0m \u001b[0mnext\u001b[0m\u001b[0;34m(\u001b[0m\u001b[0mILLEGAL_CHARACTERS_RE\u001b[0m\u001b[0;34m.\u001b[0m\u001b[0mfinditer\u001b[0m\u001b[0;34m(\u001b[0m\u001b[0mvalue\u001b[0m\u001b[0;34m)\u001b[0m\u001b[0;34m,\u001b[0m \u001b[0;32mNone\u001b[0m\u001b[0;34m)\u001b[0m\u001b[0;34m:\u001b[0m\u001b[0;34m\u001b[0m\u001b[0;34m\u001b[0m\u001b[0m\n\u001b[0;32m--> 159\u001b[0;31m             \u001b[0;32mraise\u001b[0m \u001b[0mIllegalCharacterError\u001b[0m\u001b[0;34m\u001b[0m\u001b[0;34m\u001b[0m\u001b[0m\n\u001b[0m\u001b[1;32m    160\u001b[0m         \u001b[0;32mreturn\u001b[0m \u001b[0mvalue\u001b[0m\u001b[0;34m\u001b[0m\u001b[0;34m\u001b[0m\u001b[0m\n\u001b[1;32m    161\u001b[0m \u001b[0;34m\u001b[0m\u001b[0m\n",
      "\u001b[0;31mIllegalCharacterError\u001b[0m: "
     ]
    }
   ],
   "source": [
    "df.to_excel('ex.xlsx')"
   ]
  },
  {
   "cell_type": "code",
   "execution_count": null,
   "metadata": {},
   "outputs": [],
   "source": []
  }
 ]
}