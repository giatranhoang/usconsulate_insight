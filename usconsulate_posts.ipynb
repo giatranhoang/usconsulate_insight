{
 "metadata": {
  "language_info": {
   "codemirror_mode": {
    "name": "ipython",
    "version": 3
   },
   "file_extension": ".py",
   "mimetype": "text/x-python",
   "name": "python",
   "nbconvert_exporter": "python",
   "pygments_lexer": "ipython3",
   "version": "3.8.7-final"
  },
  "orig_nbformat": 2,
  "kernelspec": {
   "name": "python3",
   "display_name": "Python 3.8.7 64-bit",
   "metadata": {
    "interpreter": {
     "hash": "aee8b7b246df8f9039afb4144a1f6fd8d2ca17a180786b69acc140d282b71a49"
    }
   }
  }
 },
 "nbformat": 4,
 "nbformat_minor": 2,
 "cells": [
  {
   "cell_type": "code",
   "execution_count": 91,
   "metadata": {},
   "outputs": [],
   "source": [
    "import pandas as pd\n",
    "import json\n",
    "import requests\n",
    "from pandas.io.json import json_normalize\n",
    "import sklearn"
   ]
  },
  {
   "cell_type": "code",
   "execution_count": 2,
   "metadata": {},
   "outputs": [],
   "source": [
    "import facebook"
   ]
  },
  {
   "cell_type": "code",
   "execution_count": 107,
   "metadata": {},
   "outputs": [
    {
     "output_type": "stream",
     "name": "stdout",
     "text": [
      "https://graph.facebook.com/v9.0/165419643537532/published_posts?limit=100&access_token=EAABnlB7bWhcBAAAdwu8FcZBsaLhZCeltVBlF7ZCiWDN2mRbHGHr02jrQyf9LEdSZAxRvZBu8GmQh9DfjpP8UshmfWawHU0B6h8KZCzNcYLl5ZCumtwqjm0LMG4BXvbnWWrv5t6beabNSHeuhykZC6OvaYEKJCtZCZBUQoq0sO3WlnGhTU1ywpUzIz5gZBFuiHPKZCklrGPyWnD2XSZBMutWSX4lEs\n"
     ]
    }
   ],
   "source": [
    "url = 'https://graph.facebook.com/v9.0/165419643537532/published_posts?limit=100&access_token=EAABnlB7bWhcBAAAdwu8FcZBsaLhZCeltVBlF7ZCiWDN2mRbHGHr02jrQyf9LEdSZAxRvZBu8GmQh9DfjpP8UshmfWawHU0B6h8KZCzNcYLl5ZCumtwqjm0LMG4BXvbnWWrv5t6beabNSHeuhykZC6OvaYEKJCtZCZBUQoq0sO3WlnGhTU1ywpUzIz5gZBFuiHPKZCklrGPyWnD2XSZBMutWSX4lEs'\n",
    "\n",
    "print(url)"
   ]
  },
  {
   "cell_type": "code",
   "execution_count": 108,
   "metadata": {},
   "outputs": [
    {
     "output_type": "execute_result",
     "data": {
      "text/plain": [
       "ertified Joseph R. Biden as President-elect and Kamala D. Harris as Vice President-elect on January 6.  They will take the oath of office on January 20, 2021.',\n",
       "   'id': '165419643537532_3625654450847350'},\n",
       "  {'created_time': '2021-01-06T09:49:23+0000',\n",
       "   'story': 'U.S. Consulate General - Ho Chi Minh City added an event.',\n",
       "   'id': '165419643537532_218585479812358'},\n",
       "  {'created_time': '2021-01-06T07:00:00+0000',\n",
       "   'message': '📣🌏🤝 Có phải trước đây bạn từng là tình nguyện viên hoặc nhân viên của Tổ chức Hoà bình (Peace Corps) hiện đang sinh sống ở Việt Nam hay không? Nếu câu trả lời là có, hãy dành 8 phút để làm phiếu khảo sát tại đây:  bit.ly/rpcv-survey. Tổ chức Hoà bình rất hân hạnh được Chính phủ Việt Nam mời triển khai chương trình tại Việt Nam. Cùng với việc này, chúng tôi rất quan tâm đến việc xây dựng cộng đồng những người trước đây từng là tình nguyện viên hoặc nhân viên của Tổ chức Hoà bình (Peace Corps) nhằm tạo cơ hội để các bạn nắm thông tin về các chương trình cũng như kỷ niệm những cột mốc quan trọng của chúng tôi thông qua các hoạt động và thảo luận.\\n\\n📣🌏🤝 Are you either a Returned Peace Corps Volunteer (RPCV) or former Peace Corps staff who are currently residing in Vietnam? If your answer is Yes, please complete the following 8 minute survey here: bit.ly/rpcv-survey. Peace Corps is honored to be invited by the Vietnamese government to begin a Peace Corps program in Vietnam. As we begin this work, we are interested in building a community of RPCVs and former Peace Corps staff to engage you in events and discussions that both inform our program and celebrate our milestones.',\n",
       "   'id': '165419643537532_3619893721423423'},\n",
       "  {'created_time': '2021-01-06T04:52:19+0000',\n",
       "   'story': 'U.S. Consulate General - Ho Chi Minh City updated their profile picture.',\n",
       "   'id': '165419643537532_3619869904759138'},\n",
       "  {'created_time': '2021-01-06T03:02:00+0000',\n",
       "   'message': '🌐🤯 Bạn muốn mở rộng sự nghiệp ra thị trường quốc tế? Tham gia ngay khóa học tiếng Anh trực tuyến MIỄN PHÍ về phát triển sự nghiệp của Coursera! Khóa học mang đến các bài học về từ vựng và cách cải thiện kỹ năng ngôn ngữ tiếng Anh nhằm giúp bạn đạt được mục tiêu nghề nghiệp thông qua quá trình tìm/nộp hồ sơ xin việc, phỏng vấn, và hơn thế nữa.\\n📌👉 Đăng ký và tìm hiểu thêm thông tin tại: https://www.coursera.org/learn/careerdevelopment\\n\\n🌐🤯 Would like to advance your career in the global marketplace? Join the 🆓 English for Career Development course by Coursera! Enjoy lessons on vocabulary and improving your language skills to achieve your professional goals on job search, application, interview process, and more!\\n📌👉 To register and for more info visit: https://www.coursera.org/learn/careerdevelopment',\n",
       "   'id': '165419643537532_3619664464779682'},\n",
       "  {'created_time': '2021-01-05T13:00:01+0000',\n",
       "   'message': '🤓 Bạn có thích tìm hiểu về các vị tổng thống của Hoa Kỳ? 🖼 Cùng thưởng thức triển lãm trực tuyến chân dung các tổng thống Hoa Kỳ của Phòng trưng bày chân dung quốc gia, 🔎 qua đó hiểu thêm về cách mà các cá nhân này đã định hình lịch sử nước Mỹ: https://americaspresidents.si.edu/?utm_source=siedu&utm_medium=referral&utm_campaign=exhibitions\\n\\n🤓 Are you interested in learning about the presidents of the United States? 🖼 Enjoy this virtual presidential exhibition by the U.S. National Portrait Gallery 🔎 to read about how these individuals have shaped American history: https://americaspresidents.si.edu/?utm_source=siedu&utm_medium=referral&utm_campaign=exhibitions',\n",
       "   'id': '165419643537532_3617618771650918'},\n",
       "  {'created_time': '2021-01-05T07:00:01+0000',\n",
       "   'message': '📣 Bạn là tổ chức giáo dục hay tổ chức phi chính phủ? Bạn có quan tâm đến việc hợp tác với Phái đoàn Hoa Kỳ tại 🇻🇳 để trang bị cho thế hệ thanh niên 🇻🇳 tương lai kỹ năng tiếng Anh và kỹ năng mềm cần thiết để thành công không? Nếu có, hãy gửi cho chúng tôi đề xuất thực hiện chương trình Access trong vòng hai năm tại địa phương của bạn! Hạn nộp hồ sơ: 23h59 ngày 08/02/2021!\\n📍👉 Đọc đầy đủ thông báo tại đường link bên dưới!\\n\\n📣 Are you an educational institution or a non-governmental organization? Are you interested in working with the U.S. Mission to 🇻🇳 to equip future generations of 🇻🇳 youth with the English skills and the soft skills they need to be successful? Then, submit your proposal to run a two-year Access program in your province! The application deadline is February 08, 2021 at 11:59 P.M.!\\n📍👉 See full announcement here:\\nhttps://vn.usembassy.gov/wp-content/uploads/sites/40/English-Access-Microscholarship-Program-Call-for-Proposals.pdf?fbclid=IwAR3p0KtpxBM2o00a4a5pzm41LtaXHSMQT1QUtWyKGoLlT1FvyHK_WrkR9Us',\n",
       "   'id': '165419643537532_3617508131661982'},\n",
       "  {'created_time': '2021-01-05T04:00:01+0000',\n",
       "   'message': '🇻🇳: Nền kinh tế số hóa nhanh chóng! 🆒\\n🦾 Hãy cùng nhìn lại cách các nền kinh tế trên thế giới đạt tiến bộ về kỹ thuật số trong năm 2020. Trong số các nền kinh tế cỡ vừa, Việt Nam có đà số hoá ngày càng tăng trưởng. Trong năm 2021, Việt Nam sẽ cần làm gì để số hóa hơn nữa? 🆙\\n\\n👉 Đọc thêm tại đây: https://hbr.org/2020/12/which-economies-showed-the-most-digital-progress-in-2020?ab=hero-subleft-1\\n\\n🇻🇳: the economy that is rapidly digitalizing! 🆒\\n🦾 Let’s take a look back at how economies around the world made digital progress in 2020. Among the midsize economies, Vietnam has displayed increasing digital momentum. What will it take in 2021 for Vietnam to digitize even further? 🆙\\n\\n👉 Read more here: https://hbr.org/2020/12/which-economies-showed-the-most-digital-progress-in-2020?ab=hero-subleft-1\\n\\n📸 Photo credit: everything possible\\\\Shutterstock',\n",
       "   'id': '165419643537532_3617272335018895'},\n",
       "  {'created_time': '2021-01-05T02:27:25+0000',\n",
       "   'message': '#BạnCóBiết thành phố New York là nơi có rất nhiều trường đại học nổi tiếng và các công ty tầm cỡ quốc tế? Hãy xem trực tiếp trên Facebook vào lúc 9 giờ 30 phút ngày 5 tháng 1 năm 2021 để tìm hiểu về các cơ hội học tập tại 25 cơ sở của trường City University of New York (CUNY). Đại diện của trường Brooklyn College sẽ cung cấp cho bạn thông tin về chương trình học cùng với cơ hội thực tập và học bổng.\\n#DYK that New York City is home to many well-renowned universities and global companies? Join us live on Facebook at 9:30 AM on January 5, 2021, to learn about study opportunities at one of the many campuses that make up the City University of New York (CUNY) college system. Representatives from Brooklyn College will discuss college options, internships, and scholarship opportunities.',\n",
       "   'story': 'U.S. Consulate General - Ho Chi Minh City was live.',\n",
       "   'id': '165419643537532_417280069690953'},\n",
       "  {'created_time': '2021-01-04T13:00:02+0000',\n",
       "   'message': '#Bạncóbiết các dấu chấm đơn giản có thể dùng để biểu thị chữ cái, chữ số, nốt nhạc và cả kí hiệu khoa học?\\n📖 Hôm nay, chúng ta kỷ niệm Ngày Chữ nổi Thế giới để nâng cao nhận thức về tầm quan trọng của chữ nổi với vai trò là phương tiện giao tiếp cho người khiếm thị trên toàn thế giới!\\n\\n#WorldBrailleDay\\n\\n#DYK simple dots can be used to represent letters, numbers, musical notes and scientific symbols?\\n📖 Today, we celebrate World Braille Day to raise awareness of its crucial role as a means of communication for blind and visually impaired people worldwide!',\n",
       "   'id': '165419643537532_3615524325193696'},\n",
       "  {'created_time': '2021-01-04T10:43:30+0000',\n",
       "   'story': \"U.S. Consulate General - Ho Chi Minh City followed USAID's Bureau for Humanitarian Assistance.\",\n",
       "   'id': '165419643537532_3615555861857209'},\n",
       "  {'created_time': '2021-01-04T06:00:00+0000',\n",
       "   'message': \"Tháng Một là Tháng Hành Động Quốc Gia Nâng Cao Nhận Thức Về Nô Lệ Và Mua Bán Người.  Mua bán người là tội sử dụng vũ lực, lừa gạt hay cưỡng bức để ép buộc người khác lao động, cung cấp dịch vụ hay bán dâm. Tất cả chúng ta đều có vai trò quan trọng trong việc chấm dứt vấn  nạn toàn cầu này, hoạt động tội phạm lớn thứ 3 trên thế giới. Hãy tìm hiểu những gì các bạn có thể làm tại:  https://bit.ly/2WUIkK7.\\n\\nJanuary is the National Slavery and Human Trafficking Awareness Month. Human trafficking is a crime in which force, fraud, or coercion is used to compel people to perform labor, services, or commercial sex. We all play a crucial role in ending this worldwide phenomenon, which is the world's third largest criminal enterprise. Learn how you can help: https://bit.ly/2WUIkK7. \\n \\n#EndTrafficking #BlueCampaign     \\n\\nPhoto Credit: Structuresxx/Shutterstock\",\n",
       "   'id': '165419643537532_3614965408582921'},\n",
       "  {'created_time': '2021-01-04T02:11:31+0000',\n",
       "   'message': 'Tip of the Week: This month’s American Citizen Services (ACS) newsletter is out! http://bit.ly/2021january\\nYou can receive it monthly by registering in Smart Traveler Enrollment Program (STEP): https://step.state.gov.  U.S. citizens who travel or reside abroad and enroll in STEP receive the most up-to-date security information.  \\nStill have questions?  Contact us at: http://bit.ly/acsvn\\n\\nMẹo hay Tuần này: Bản tin hàng tháng của Bộ phận Công dân Hoa Kỳ đã ra lò! http://bit.ly/2021january\\nBạn có thể nhận được bản tin này mỗi tháng bằng cách đăng ký chương trình STEP (Smart Traveler Enrollment Program): https://step.state.gov.  Các công dân Hoa Kỳ đi du lịch hoặc đang sinh sống tại nước ngoài có đăng ký chương trình STEP còn nhận được các thông tin an ninh cập nhật nhất. \\nNếu bạn còn câu hỏi, hãy liên hệ chúng tôi tại: http://bit.ly/acsvn',\n",
       "   'id': '165419643537532_3614851468594315'},\n",
       "  {'created_time': '2021-01-03T13:00:53+0000',\n",
       "   'message': '🤪👣 #Bạncóbiết Tp.HCM có kế hoạch thiết kế thêm phố đi bộ giữa trung tâm quận 3?💡Bạn muốn khu vực nào được thiết kế thành phố đi bộ nữa? 🗣 Hãy cho chúng tôi biết nhé!\\n\\n🤪👣 #DYK that there are plans to create more \"walking streets\" in the heart of HCMC? 💡Let us know which areas you think would be great to turn into pedestrian-friendly streets? 🗣 Comment below!\\n\\nhttps://tuoitrenews.vn/news/ttnewsstyle/20201129/ho-chi-minh-city-plans-two-more-promenades-in-district-3/58009.html?fbclid=IwAR19Ag_Xi8nsjBpXB3wTGbu054URQ4-oQq4wgQsDpJLsFlT-VEbo8WBKDNU',\n",
       "   'id': '165419643537532_3605423912870404'},\n",
       "  {'created_time': '2021-01-03T07:22:01+0000',\n",
       "   'story': 'U.S. Consulate General - Ho Chi Minh City added an event.',\n",
       "   'id': '165419643537532_830826741103896'},\n",
       "  {'created_time': '2021-01-02T08:00:53+0000',\n",
       "   'message': '✈️ Hàng không giúp hàng triệu người trên thế giới di chuyển thuận lợi, giúp các gia đình đoàn tụ dễ dàng, và các doanh nhân đàm phán giao dịch trong một sớm một chiều! ⚠️ Tuy nhiên, hàng không lại tạo ra một phần lớn lượng khí thải carbon cá nhân của chúng ta và gây ra hậu quả tiêu cực đối với môi trường. May mắn thay, các nhà sản xuất máy bay có thể sớm chế tạo những chiếc máy bay không phát thải CO2! ♻️ Đọc ngay tại đây!\\n\\n✈️ Flying has faciliated travel for millions of people around the world. It has made it easier for families to reunite and businesspersons to negotiate deals overnight! ⚠️ However, flying makes up a large share of our personal carbon footprint and has negative consequences on the environment. Luckily, airplane manufacturers may soon enough build planes that emit zero CO2! ♻️ Read more: https://bit.ly/3pAp3tz',\n",
       "   'id': '165419643537532_3605045906241538'},\n",
       "  {'created_time': '2021-01-02T02:00:19+0000',\n",
       "   'message': \"😍 #Bạncóbiết giá trị thương hiệu của Việt Nam đã tăng trưởng ấn tượng 29% trong năm 2020? Nhờ vào nỗ lực tuyệt vời ứng phó với đại dịch COVID-19, thương hiệu quốc gia Việt Nam hiện nay đạt giá trị 319 tỉ đô la Mỹ, xếp thứ 33 trong tổng số 100 quốc gia trong danh sách xếp hạng. 👉 Đọc thêm tại đây! \\n\\n😍 #DYK that Vietnam's brand value impressively increased by 29% in 2020? Thanks to the outstanding response to the COVID-19 pandemic, national brand value of Vietnam is now worth US$319 billion, ranked No. 33 out of 100 countries.\\n👉 Read more here: https://saigoneer.com/vietnam-news/19752-vietnam-s-brand-value-increases-29-thanks-to-good-pandemic-response\",\n",
       "   'id': '165419643537532_3605396809539781'},\n",
       "  {'created_time': '2021-01-01T07:00:01+0000',\n",
       "   'message': \"🥳 Năm mới đã đến, chúng ta bắt đầu suy ngẫm về những điều chúng ta coi trọng #NewYearNewInterests. Vì vậy, chúng tôi muốn hỏi bạn - khán giả của chúng tôi - bạn quan tâm đến chủ đề nào khi đọc trang fanpage chính thức của Tổng Lãnh sự quán Hoa kỳ Tp.HCM? Văn hóa / Kinh tế / Giáo dục / Chính trị / Du lịch / Khoa học / Xã hội / v.v..\\n💬 Cho chúng tôi biết câu trả lời của bạn!\\n🤩🤟 Hãy cùng nhau làm cho năm nay trở nên vui vẻ và thú vị nhé!\\n\\n🥳 As the new year begins, we start to reflect on what's important and what we value #NewYearNewInterests. Therefore, we want to ask you, our audience, what topics are you interested in learning more about from our FB page? Culture / Economy / Education / Politics / Travel / Science / Society / etc.\\n💬 In the comment section below tell us about your favorite topics!\\n🤩🤟 Let's make this year a fun and interesting one together!\",\n",
       "   'id': '165419643537532_3605386046207524'},\n",
       "  {'created_time': '2021-01-01T03:00:09+0000',\n",
       "   'message': 'Trong một cuộc phỏng vấn gần đây với Zing News, Đại sứ Kritenbrink đã thảo luận về mối quan hệ song phương giữa Hoa Kỳ - Việt Nam, và tầm quan trọng của khu vực Ấn Độ Dương-Thái Bình Dương. Đối với 🇺🇸, điều quan trọng là phải hỗ trợ một khu vực Ấn Độ Dương-Thái Bình Dương tự do và rộng mở, trong đó tất cả các quốc gia cùng phát triển thịnh vượng với tư cách là các quốc gia độc lập, có chủ quyền.\\n👉 Để xem toàn bộ cuộc phỏng vấn, bấm vào đây!\\n\\nDuring a recent interview with Zing News, #AmbassadorKritenbrink discussed U.S.- Vietnam bilateral relations and the importance of the Indo-Pacific. For 🇺🇸, it’s very important to support a free and open Indo-Pacific in which all countries prosper side by side as sovereign, independent states.\\n👉 To watch the full interview, click here:\\n\\nhttps://zingnews.vn/video-ba-tru-cot-trong-chinh-sach-cua-my-o-bien-dong-post1165614.html?fbclid=IwAR21F__UrjThTjRfC-tSH5_MgDWw7hQHETJyuyekmjPJcAXyR14Lvv5w_Cs',\n",
       "   'id': '165419643537532_3605470216199107'},\n",
       "  {'created_time': '2021-01-01T01:00:03+0000',\n",
       "   'message': 'Cám ơn năm 2020 🙃🙄 và chúc mừng năm mới 2021 🤩🥳🎇🎆!\\nBạn dự định làm gì để ăn mừng năm mới? Chia sẻ với chúng tôi trong phần bình luận nhé!\\n\\nThank you 2020 🙃🙄 and Happy New Year 2021 🤩🥳🎇🎆!\\nWhat will you do to celebrate the new year? Share with us in the comments section!',\n",
       "   'id': '165419643537532_3605438666202262'},\n",
       "  {'created_time': '2020-12-31T13:00:02+0000',\n",
       "   'message': '🙏😜 Thank you to the nearly 400 students from Trường Cao Đẳng Cộng Đồng Đồng Tháp - Dong Thap Community College and Trường Cao đẳng Kiên Giang in the Mekong Delta who joined us to learn more about 🇺🇸 culture! Consulate officer Gabrielle shared practical tips with the students about making themselves marketable for both jobs and educational opportunities. These students also learned about #YSEALI, #GlobalUGRAD and #Fulbright programs.\\n\\n🛫📚 Are you planning to study in 🇺🇸 in the future? 👉 Contact our #EducationUSA team today!\\n\\n🙏😜 Cảm ơn gần 400 bạn sinh viên từ trường Cao Đẳng Cộng Đồng Đồng Tháp và Cao Đẳng Kiên Giang tại Đồng Bằng Sông Cửu Long đã cùng tìm hiểu về văn hóa 🇺🇸 với chúng tôi! Viên chức của Lãnh sự quán Gabrielle đã chia sẻ về những bí quyết để giúp các bạn sinh viên tỏa sáng khi tìm việc làm sau khi tốt nghiệp cũng như theo đuổi con đường học hành xa hơn. Các bạn còn tìm hiểu về các chương trình học bổng #YSEALI, #GlobalUGRAD, #Fulbright.\\n\\n🛫📚 Bạn có ý định đi du học 🇺🇸 trong tương lai? 👉 Hãy liên hệ với #EducationUSA ngay hôm nay nha!',\n",
       "   'id': '165419643537532_3605014412911354'},\n",
       "  {'created_time': '2020-12-31T08:00:01+0000',\n",
       "   'message': '📣 Bạn đang tìm nguồn hỗ trợ tài chính để thực hiện đề án về chủ đề ngoại giao nhân dân? 🙌 Còn chờ gì nữa, hãy tìm hiểu Chương trình tài trợ thường niên của chúng tôi để có cơ hội nhận được khoản hỗ trợ lên tới $25,000. Thời hạn nộp đề án: 15/2/2021 và 1/6/2021.\\n📌 Tham khảo thông tin và hướng dẫn nộp đơn chi tiết tại đây: https://bit.ly/2KyL4tu.\\n\\n📣 Looking for funding to run a public diplomacy impact project? 🙌 Our Annual Program Statement grant opportunity is open and we’re accepting submissions on a rolling basis with two deadlines: February 15, 2021 and June 1, 2021.\\n📌 For more information and for a chance to be awarded up to $25,000, read more here: https://bit.ly/2KyL4tu',\n",
       "   'id': '165419643537532_3605107216235407'},\n",
       "  {'created_time': '2020-12-31T07:08:00+0000',\n",
       "   'message': '👋 Tip of the Week: This month’s American Citizen Services (ACS) newsletter is out! http://bit.ly/2021january.\\n📩 You can receive it monthly by registering in Smart Traveler Enrollment Program (STEP): https://step.state.gov. U.S. citizens who travel or reside abroad and enroll in STEP receive the most up-to-date security information.  \\nStill have questions? 👉 Contact us at: http://bit.ly/acsvn\\n\\n👋 Mẹo hay Tuần này: Bản tin hàng tháng của Bộ phận Công dân Hoa Kỳ đã ra lò! http://bit.ly/2020november.\\n📩 Bạn có thể nhận được bản tin này mỗi tháng bằng cách đăng ký chương trình STEP (Smart Traveler Enrollment Program): https://step.state.gov. Các công dân Hoa Kỳ đi du lịch hoặc đang sinh sống tại nước ngoài có đăng ký chương trình STEP còn nhận được các thông tin an ninh cập nhật nhất. \\n👉 Nếu bạn còn câu hỏi, hãy liên hệ chúng tôi tại: http://bit.ly/acsvn',\n",
       "   'id': '165419643537532_3605324646213664'},\n",
       "  {'created_time': '2020-12-31T03:00:01+0000',\n",
       "   'message': '🎉🥳 🎆 Đại sứ quán Hoa Kỳ tại Hà Nội và Tổng Lãnh sự quán Hoa Kỳ tại TP.HCM, bao gồm Phòng Lãnh sự, sẽ đóng cửa nghỉ Tết Dương lịch vào ngày 1 tháng 1 năm 2021. Thay mặt Phái đoàn Ngoại giao Hoa Kỳ tại Việt Nam, chúng tôi xin kính chúc quý vị cùng gia đình và người thân một năm mới an khang thịnh vượng!\\n\\n🎉🥳🎆 The U.S. Embassy in Hanoi and the U.S. Consulate General in HCMC, including the Consular Sections, will be closed Friday, January 1, 2021 for New Year’s Day. On behalf of Mission Vietnam, we would like to wish you and your loved ones a Happy New Year!',\n",
       "   'id': '165419643537532_3604986552914140'},\n",
       "  {'created_time': '2020-12-30T13:00:03+0000',\n",
       "   'message': '🛰 Một vệ tinh hợp tác giữa Hoa Kỳ và châu Âu đã được NASA phóng lên để thu thập dữ liệu quan trọng về mực nước biển 🌊, góp phần nâng cao độ chính xác của việc giám sát khí hậu và dự báo thời tiết.\\n🔎👉 Tìm hiểu ngay tại đây: https://share.america.gov/nasa-starts-us-european-satellite-mission-monitor-global-sea-levels/\\n\\n🛰 A joint U.S.-European satellite has been launched by NASA to collect important data about rising sea levels 🌊, which contributes to the enhancement of climate monitoring and weather forecasting accuracy.\\n🔎👉 Learn more at: https://share.america.gov/nasa-starts-us-european-satellite-mission-monitor-global-sea-levels/\\n\\n📸 Photo: NASA',\n",
       "   'id': '165419643537532_3602892493123546'}],\n",
       " 'paging': {'cursors': {'before': 'Q2c4U1pXNTBYM0YxWlhKNVgzTjBiM0o1WDJsa0R5TXhOalUwTVRrMk5ETTFNemMxTXpJN016WTVOelF5TURjeU1ETXpOek00T1RzN05BOE1ZAWEJwWDNOMGIzSjVYMmxrRHlBeE5qVTBNVGsyTkRNMU16YzFNekpmTXpZANU56UXlNRGN5TURNek56TTRPUThFZAEdsdFpRWmdHN2x3QVE9PQZDZD',\n",
       "   'after': 'Q2c4U1pXNTBYM0YxWlhKNVgzTjBiM0o1WDJsa0R5TXhOalUwTVRrMk5ETTFNemMxTXpJN016WXdNamc1TWpRNU16RXlNelUwTmpzN05BOE1ZAWEJwWDNOMGIzSjVYMmxrRHlBeE5qVTBNVGsyTkRNMU16YzFNekpmTXpZAd01qZAzVNalE1TXpFeU16VTBOZAzhFZAEdsdFpRWmY3SG5UQVE9PQZDZD'},\n",
       "  'next': 'https://graph.facebook.com/v9.0/165419643537532/published_posts?access_token=EAABnlB7bWhcBAAAdwu8FcZBsaLhZCeltVBlF7ZCiWDN2mRbHGHr02jrQyf9LEdSZAxRvZBu8GmQh9DfjpP8UshmfWawHU0B6h8KZCzNcYLl5ZCumtwqjm0LMG4BXvbnWWrv5t6beabNSHeuhykZC6OvaYEKJCtZCZBUQoq0sO3WlnGhTU1ywpUzIz5gZBFuiHPKZCklrGPyWnD2XSZBMutWSX4lEs&limit=100&after=Q2c4U1pXNTBYM0YxWlhKNVgzTjBiM0o1WDJsa0R5TXhOalUwTVRrMk5ETTFNemMxTXpJN016WXdNamc1TWpRNU16RXlNelUwTmpzN05BOE1ZAWEJwWDNOMGIzSjVYMmxrRHlBeE5qVTBNVGsyTkRNMU16YzFNekpmTXpZAd01qZAzVNalE1TXpFeU16VTBOZAzhFZAEdsdFpRWmY3SG5UQVE9PQZDZD'}}"
      ]
     },
     "metadata": {},
     "execution_count": 108
    }
   ],
   "source": [
    "result = requests.get(url).json()\n",
    "result"
   ]
  },
  {
   "cell_type": "code",
   "execution_count": 109,
   "metadata": {},
   "outputs": [
    {
     "output_type": "execute_result",
     "data": {
      "text/plain": [
       "                created_time  \\\n",
       "95  2020-12-31T13:00:02+0000   \n",
       "96  2020-12-31T08:00:01+0000   \n",
       "97  2020-12-31T07:08:00+0000   \n",
       "98  2020-12-31T03:00:01+0000   \n",
       "99  2020-12-30T13:00:03+0000   \n",
       "\n",
       "                                              message  \\\n",
       "95  🙏😜 Thank you to the nearly 400 students from T...   \n",
       "96  📣 Bạn đang tìm nguồn hỗ trợ tài chính để thực ...   \n",
       "97  👋 Tip of the Week: This month’s American Citiz...   \n",
       "98  🎉🥳 🎆 Đại sứ quán Hoa Kỳ tại Hà Nội và Tổng Lãn...   \n",
       "99  🛰 Một vệ tinh hợp tác giữa Hoa Kỳ và châu Âu đ...   \n",
       "\n",
       "                                  id story  \n",
       "95  165419643537532_3605014412911354   NaN  \n",
       "96  165419643537532_3605107216235407   NaN  \n",
       "97  165419643537532_3605324646213664   NaN  \n",
       "98  165419643537532_3604986552914140   NaN  \n",
       "99  165419643537532_3602892493123546   NaN  "
      ],
      "text/html": "<div>\n<style scoped>\n    .dataframe tbody tr th:only-of-type {\n        vertical-align: middle;\n    }\n\n    .dataframe tbody tr th {\n        vertical-align: top;\n    }\n\n    .dataframe thead th {\n        text-align: right;\n    }\n</style>\n<table border=\"1\" class=\"dataframe\">\n  <thead>\n    <tr style=\"text-align: right;\">\n      <th></th>\n      <th>created_time</th>\n      <th>message</th>\n      <th>id</th>\n      <th>story</th>\n    </tr>\n  </thead>\n  <tbody>\n    <tr>\n      <th>95</th>\n      <td>2020-12-31T13:00:02+0000</td>\n      <td>🙏😜 Thank you to the nearly 400 students from T...</td>\n      <td>165419643537532_3605014412911354</td>\n      <td>NaN</td>\n    </tr>\n    <tr>\n      <th>96</th>\n      <td>2020-12-31T08:00:01+0000</td>\n      <td>📣 Bạn đang tìm nguồn hỗ trợ tài chính để thực ...</td>\n      <td>165419643537532_3605107216235407</td>\n      <td>NaN</td>\n    </tr>\n    <tr>\n      <th>97</th>\n      <td>2020-12-31T07:08:00+0000</td>\n      <td>👋 Tip of the Week: This month’s American Citiz...</td>\n      <td>165419643537532_3605324646213664</td>\n      <td>NaN</td>\n    </tr>\n    <tr>\n      <th>98</th>\n      <td>2020-12-31T03:00:01+0000</td>\n      <td>🎉🥳 🎆 Đại sứ quán Hoa Kỳ tại Hà Nội và Tổng Lãn...</td>\n      <td>165419643537532_3604986552914140</td>\n      <td>NaN</td>\n    </tr>\n    <tr>\n      <th>99</th>\n      <td>2020-12-30T13:00:03+0000</td>\n      <td>🛰 Một vệ tinh hợp tác giữa Hoa Kỳ và châu Âu đ...</td>\n      <td>165419643537532_3602892493123546</td>\n      <td>NaN</td>\n    </tr>\n  </tbody>\n</table>\n</div>"
     },
     "metadata": {},
     "execution_count": 109
    }
   ],
   "source": [
    "df = pd.json_normalize(result, 'data')\n",
    "df.tail()"
   ]
  },
  {
   "cell_type": "code",
   "execution_count": 497,
   "metadata": {},
   "outputs": [],
   "source": [
    "urlnext = 'https://graph.facebook.com/v9.0/165419643537532/published_posts?access_token=EAABnlB7bWhcBAG608pDOUZAnWWeeQD8OoJWRSzo1lEWSq521hZCjhmNCZAosSw8hEsKdyVnZAkAi2UjkH7JYCHNJfadWQ4OC1foiDEWs7Fc5ClMJmZC0TIotK5Cl2uRk3PrJEyXBnqwUadbHsqtixZCf9ZA3Qz3BlF4Omoq4QazynxWhKsJoKYSlXrZCJy2Dh3Ctpw3I5iM9EBpB6lusEsab&limit=100&after=Q2c4U1pXNTBYM0YxWlhKNVgzTjBiM0o1WDJsa0R5TXhOalUwTVRrMk5ETTFNemMxTXpJN01UZAzJNVFl4TVRRNE1UTXdNRFE0T3pBN05BOE1ZAWEJwWDNOMGIzSjVYMmxrRHg4eE5qVTBNVGsyTkRNMU16YzFNekpmTVRnMk1UWXhNVFE0TVRNd01EUTREd1IwYVcxbEJrNnBjZAklC'"
   ]
  },
  {
   "cell_type": "code",
   "execution_count": 498,
   "metadata": {},
   "outputs": [
    {
     "output_type": "execute_result",
     "data": {
      "text/plain": [
       "{'data': [{'created_time': '2011-10-27T15:00:02+0000',\n",
       "   'story': 'U.S. Consulate General - Ho Chi Minh City added a new photo.',\n",
       "   'id': '165419643537532_186161151463381'},\n",
       "  {'created_time': '2011-10-27T15:00:02+0000',\n",
       "   'story': 'U.S. Consulate General - Ho Chi Minh City added a new photo.',\n",
       "   'id': '165419643537532_186161154796714'},\n",
       "  {'created_time': '2011-10-27T15:00:02+0000',\n",
       "   'story': 'U.S. Consulate General - Ho Chi Minh City added a new photo — with Quyen Nguyen and 8 others.',\n",
       "   'id': '165419643537532_186161158130047'},\n",
       "  {'created_time': '2011-10-27T15:00:02+0000',\n",
       "   'story': 'U.S. Consulate General - Ho Chi Minh City added a new photo — with Vy Tường Bùi and 4 others.',\n",
       "   'id': '165419643537532_186161161463380'},\n",
       "  {'created_time': '2011-10-27T15:00:01+0000',\n",
       "   'story': 'U.S. Consulate General - Ho Chi Minh City added a new photo — with Nguyễn Phú.',\n",
       "   'id': '165419643537532_186161058130057'},\n",
       "  {'created_time': '2011-10-27T15:00:01+0000',\n",
       "   'story': 'U.S. Consulate General - Ho Chi Minh City added a new photo.',\n",
       "   'id': '165419643537532_186161061463390'},\n",
       "  {'created_time': '2011-10-27T15:00:01+0000',\n",
       "   'story': 'U.S. Consulate General - Ho Chi Minh City added a new photo — with Kim Quan and Ha Meo.',\n",
       "   'id': '165419643537532_186161064796723'},\n",
       "  {'created_time': '2011-10-27T15:00:01+0000',\n",
       "   'story': 'U.S. Consulate General - Ho Chi Minh City added a new photo.',\n",
       "   'id': '165419643537532_186161068130056'},\n",
       "  {'created_time': '2011-10-27T15:00:01+0000',\n",
       "   'story': 'U.S. Consulate General - Ho Chi Minh City added a new photo.',\n",
       "   'id': '165419643537532_186161071463389'},\n",
       "  {'created_time': '2011-10-27T15:00:01+0000',\n",
       "   'story': 'U.S. Consulate General - Ho Chi Minh City added a new photo — with Khoa Nguyen and Thach Thao Tran.',\n",
       "   'id': '165419643537532_186161074796722'},\n",
       "  {'created_time': '2011-10-27T15:00:01+0000',\n",
       "   'story': 'U.S. Consulate General - Ho Chi Minh City added a new photo.',\n",
       "   'id': '165419643537532_186161081463388'},\n",
       "  {'created_time': '2011-10-27T15:00:01+0000',\n",
       "   'story': 'U.S. Consulate General - Ho Chi Minh City added a new photo — with La Huệ Mẫn and 4 others.',\n",
       "   'id': '165419643537532_186161088130054'},\n",
       "  {'created_time': '2011-10-27T15:00:01+0000',\n",
       "   'story': 'U.S. Consulate General - Ho Chi Minh City added a new photo — with Như Nguyễn and 2 others.',\n",
       "   'id': '165419643537532_186161098130053'},\n",
       "  {'created_time': '2011-10-27T15:00:01+0000',\n",
       "   'story': 'U.S. Consulate General - Ho Chi Minh City added a new photo — with Binh Le.',\n",
       "   'id': '165419643537532_186161101463386'},\n",
       "  {'created_time': '2011-10-27T15:00:01+0000',\n",
       "   'message': 'DPO Robert Ogburn explained more about pumpkin carving',\n",
       "   'story': 'U.S. Consulate General - Ho Chi Minh City added a new photo — with Melody Lothridge and 2 others.',\n",
       "   'id': '165419643537532_186161104796719'},\n",
       "  {'created_time': '2011-10-27T01:18:13+0000',\n",
       "   'message': 'New York is holding a huge birthday party for the Statue of Liberty. Do you know how old Lady Liberty is, and how she came to be standing in New York Harbor? http://goo.gl/cvYij ',\n",
       "   'id': '165419643537532_166275140131559'},\n",
       "  {'created_time': '2011-10-26T05:32:36+0000',\n",
       "   'message': 'http://photos.america.gov/galleries/amgov/4110/halloween2011/',\n",
       "   'id': '165419643537532_294416123910281'},\n",
       "  {'created_time': '2011-10-26T02:49:04+0000',\n",
       "   'message': 'How can countries fight global hunger and create economic opportunity? See what Secretary of State Clinton, philanthropist Howard G. Buffett, businessman Bill Gates, and World Food Programme Executive Director Josette Sheeran have to say. http://goo.gl/vNiF9 ',\n",
       "   'id': '165419643537532_306223386058130'},\n",
       "  {'created_time': '2011-10-25T12:28:02+0000',\n",
       "   'message': 'Các bạn ơi, chương trình Halloween đã hết chỗ rồi.  Đến thời điểm này, trung tâm nhận được 41 “Like”, 60 “Attending” on facebook và 68 đăng ký qua email.  Trung tâm sẽ sử dụng tên mà các bạn gửi theo facebook và email để lên danh sách tham dự.  Xin lỗi trung tâm không thể nhận thêm đăng ký được nữa.  Các bạn nhớ đem CMND hoặc thẻ học sinh để vào cổng nhé.  Bạn nào có đồ hóa trang thì mang theo mặc cho vui nhé.  See you all on Thursday at 4:00 p.m.',\n",
       "   'id': '165419643537532_185278264885003'},\n",
       "  {'created_time': '2011-10-25T06:07:30+0000',\n",
       "   'message': 'Millions of American boys pitch in to help others via the Boy Scouts. Are there Boy Scouts, or similar organizations in your area?\\n\\nhttp://iipdigital.usembassy.gov/st/english/inbrief/2011/10/20111024113424enaj0.3364374.html#axzz1bik6cDVI',\n",
       "   'id': '165419643537532_207564445983569'},\n",
       "  {'created_time': '2011-10-25T02:04:37+0000',\n",
       "   'message': 'Two hundred professionals from 28 countries met in Washington recently to share ideas on meeting challenges posed by climate change and other global issues. Are such gatherings useful? http://goo.gl/OcQ8f',\n",
       "   'id': '165419643537532_278529458844718'},\n",
       "  {'created_time': '2011-10-24T08:20:07+0000',\n",
       "   'message': 'Who’s 93 meters tall, is made of copper and is celebrating her 125th birthday?  Probably the best-known landmark in America.  Have you seen her?\\n\\nhttp://iipdigital.usembassy.gov/st/english/inbrief/2011/10/20111021132344esiuol0.5831415.html#axzz1b9j7SCev',\n",
       "   'id': '165419643537532_269661436406499'},\n",
       "  {'created_time': '2011-10-24T06:07:17+0000',\n",
       "   'message': 'http://iipdigital.usembassy.gov/st/english/inbrief/2011/10/20111020165348nerual9.693545e-02.html#axzz1b9j7SCev',\n",
       "   'id': '165419643537532_180987865317339'},\n",
       "  {'created_time': '2011-10-22T07:56:24+0000',\n",
       "   'message': 'http://timessquarenyc.org/',\n",
       "   'story': 'U.S. Consulate General - Ho Chi Minh City added a new photo.',\n",
       "   'id': '165419643537532_183958475016982'},\n",
       "  {'created_time': '2011-10-22T07:36:40+0000',\n",
       "   'message': 'http://www.nps.gov/nr/travel/wash/dc73.htm',\n",
       "   'story': 'U.S. Consulate General - Ho Chi Minh City added a new photo.',\n",
       "   'id': '165419643537532_183955385017291'},\n",
       "  {'created_time': '2011-10-21T10:01:40+0000',\n",
       "   'story': 'U.S. Consulate General - Ho Chi Minh City added a new photo — with Khoa Vũ Trần Đăng.',\n",
       "   'id': '165419643537532_183590998387063'},\n",
       "  {'created_time': '2011-10-21T10:01:40+0000',\n",
       "   'story': 'U.S. Consulate General - Ho Chi Minh City added a new photo — with Phamphuc Thong.',\n",
       "   'id': '165419643537532_183591001720396'},\n",
       "  {'created_time': '2011-10-21T10:01:40+0000',\n",
       "   'story': 'U.S. Consulate General - Ho Chi Minh City added a new photo.',\n",
       "   'id': '165419643537532_183591005053729'},\n",
       "  {'created_time': '2011-10-21T10:01:40+0000',\n",
       "   'story': 'U.S. Consulate General - Ho Chi Minh City added a new photo — with Toan Dinh and 8 others.',\n",
       "   'id': '165419643537532_183591008387062'},\n",
       "  {'created_time': '2011-10-21T10:01:40+0000',\n",
       "   'story': 'U.S. Consulate General - Ho Chi Minh City added a new photo — with Minh Quan and Nhật Nam.',\n",
       "   'id': '165419643537532_183591011720395'},\n",
       "  {'created_time': '2011-10-21T10:01:40+0000',\n",
       "   'story': 'U.S. Consulate General - Ho Chi Minh City added a new photo — with Thế Minh and 3 others.',\n",
       "   'id': '165419643537532_183591015053728'},\n",
       "  {'created_time': '2011-10-21T10:01:40+0000',\n",
       "   'story': 'U.S. Consulate General - Ho Chi Minh City added a new photo — with Mia Nguyen and 2 others.',\n",
       "   'id': '165419643537532_183591018387061'},\n",
       "  {'created_time': '2011-10-21T10:01:40+0000',\n",
       "   'story': 'U.S. Consulate General - Ho Chi Minh City added a new photo — with Khoa Vũ Trần Đăng.',\n",
       "   'id': '165419643537532_183591021720394'},\n",
       "  {'created_time': '2011-10-21T10:01:39+0000',\n",
       "   'story': 'U.S. Consulate General - Ho Chi Minh City added a new photo — with Mia Nguyen.',\n",
       "   'id': '165419643537532_183590981720398'},\n",
       "  {'created_time': '2011-10-21T10:01:39+0000',\n",
       "   'story': 'U.S. Consulate General - Ho Chi Minh City added a new photo — with Như Nguyễn and Minh Doan.',\n",
       "   'id': '165419643537532_183590985053731'},\n",
       "  {'created_time': '2011-10-21T10:01:39+0000',\n",
       "   'story': 'U.S. Consulate General - Ho Chi Minh City added a new photo.',\n",
       "   'id': '165419643537532_183590991720397'},\n",
       "  {'created_time': '2011-10-21T10:01:39+0000',\n",
       "   'story': 'U.S. Consulate General - Ho Chi Minh City added a new photo.',\n",
       "   'id': '165419643537532_183590995053730'},\n",
       "  {'created_time': '2011-10-21T09:38:19+0000',\n",
       "   'message': 'http://goo.gl/s1tso',\n",
       "   'id': '165419643537532_298142016863834'},\n",
       "  {'created_time': '2011-10-21T02:41:21+0000',\n",
       "   'message': 'http://t.co/zfB87Bxm',\n",
       "   'id': '165419643537532_113029132141167'},\n",
       "  {'created_time': '2011-10-20T11:39:00+0000',\n",
       "   'message': 'AC nhận được một số yêu cầu thông tin về một số bang tại Mỹ.  Các bạn cùng tham khảo trang web này để có thêm thông tin nhé. http://www.50states.com/',\n",
       "   'id': '165419643537532_227872530607980'},\n",
       "  {'created_time': '2011-10-20T01:26:23+0000',\n",
       "   'id': '165419643537532_232723983455557'},\n",
       "  {'created_time': '2011-10-19T13:47:01+0000',\n",
       "   'story': 'U.S. Consulate General - Ho Chi Minh City added a new photo — with Tong Thi Thanh Nga and Việt Nguyễn.',\n",
       "   'id': '165419643537532_182817958464367'},\n",
       "  {'created_time': '2011-10-19T01:54:21+0000',\n",
       "   'message': 'What happens when a leader from another country is invited for a state visit to the United States? See images from the three-day U.S. state visit of South Korean President Lee Myung-bak and his wife, Kim Yoon-ok, who were hosted by the Obamas at a White House state dinner on October 13. http://goo.gl/ZaZAA',\n",
       "   'id': '165419643537532_209143575821649'},\n",
       "  {'created_time': '2011-10-18T12:32:31+0000',\n",
       "   'message': 'http://trailers.apple.com/trailers\\nhttp://www.boxofficemojo.com\\n\\nCác bạn ơi, đây là 2 website mà ông Bullen chia sẻ với chúng ta trong buổi nói chuyện hôm nay.  Các bạn xem thử nhé.  Nhớ cho chúng tôi biết các bạn thích loại phim nào và có thích xem chiếu phim tại trung tâm không.  Chúng tôi muốn bổ sung các bộ phim yêu thích của các bạn vào bộ sưu tập của trung tâm và sẽ tổ chức thêm nhiều chương trình bổ ích để phục vụ các bạn. Các bạn cũng có thể đưa các câu hỏi của mình lên facebook, trung tâm sẽ tìm câu trả lời cho các bạn. Mong nhận được nhiều ý kiến của các bạn.\\n',\n",
       "   'id': '165419643537532_147373278693568'},\n",
       "  {'created_time': '2011-10-18T11:48:32+0000',\n",
       "   'story': 'U.S. Consulate General - Ho Chi Minh City added a new photo.',\n",
       "   'id': '165419643537532_182372111842285'},\n",
       "  {'created_time': '2011-10-18T01:56:18+0000',\n",
       "   'message': 'Time is running out – enter the U.S. Department of State’s “Dance with Us” Photo Contest by October 25th to win an iPad 2 and other prizes! http://goo.gl/TIvZM',\n",
       "   'id': '165419643537532_178862718863328'},\n",
       "  {'created_time': '2011-10-17T09:48:10+0000',\n",
       "   'message': 'The APEC Women and the Economy Summit (WES) motivated the Asia-Pacific community to empower women entrepreneurs and business leaders. What was the outcome? Find out by joining our conversation on how women are important to help grow the global economy! Click here and “Enter as a Guest” to share your thoughts: http://goo.gl/56UEh',\n",
       "   'id': '165419643537532_178570995559179'},\n",
       "  {'created_time': '2011-10-17T06:54:22+0000',\n",
       "   'message': 'Sept. 16, 2011: Remarks by Secretary Clinton at the Asia Pacific Economic Cooperation Women and the Economy Summit. http://goo.gl/UR2zM  \\n',\n",
       "   'id': '165419643537532_227464453980948'},\n",
       "  {'created_time': '2011-10-17T03:32:13+0000',\n",
       "   'message': \"Bob, Katia, Lindsay, Elise and Simon are coming back. Let's get together again and play with them. More games, more fun this time. Only at the American Center Ho Chi Minh City!\",\n",
       "   'id': '165419643537532_181844461895050'},\n",
       "  {'created_time': '2011-10-16T01:17:15+0000',\n",
       "   'message': \"The Golden Gate Bridge is acclaimed as one of the world's most beautiful bridges and with its tremendous towers, sweeping main cables and great span, it is a sensory beauty featuring color, sound, and light. The Bridge can be a very busy place, particularly during the summer months. It is estimated that about nine million people from around the world visit the Bridge each year (1989 survey by San Francisco Convention and Visitor Bureau).\\r\\n\\r\\nhttp://www.facebook.com/goldengatebridge\",\n",
       "   'story': 'U.S. Consulate General - Ho Chi Minh City added a new photo.',\n",
       "   'id': '165419643537532_181397105273119'},\n",
       "  {'created_time': '2011-10-15T02:17:45+0000',\n",
       "   'message': 'Dear friends,\\n\\nAC wants to hear from you? Let us know how you like our programs and send us your ideas and suggestions. You can write in Vietnamese. More comments, more \"Like\", more fun!\\n\\nCác bạn ơi, trung tâm muốn lắng nghe từ các bạn. Hãy cho chúng tôi biết các bạn thích gì? Hãy gửi ý tưởng, gợi ý về chương trình cho trung tâm nhé. Trên facebook, các bạn có thể viết tiếng Anh hoặc tiếng Việt. Mong nhận được nhiều ý kiến của các bạn.  Càng nhiều ý kiến, càng đông, mình càng vui các bạn nhỉ?',\n",
       "   'id': '165419643537532_181010395311790'},\n",
       "  {'created_time': '2011-10-14T10:23:38+0000',\n",
       "   'story': 'U.S. Consulate General - Ho Chi Minh City added a new photo.',\n",
       "   'id': '165419643537532_180688655343964'},\n",
       "  {'created_time': '2011-10-13T14:24:12+0000',\n",
       "   'message': 'The Public Affairs Section of the U.S. Embassy in Hanoi and Consulate General in Ho Chi Minh City are currently seeking candidates for the 2012 Global Undergraduate Exchange Program. More information about the program, including details about how to apply, is available at\\nhttp://sites.google.com/site/ugradvietnam/\\nUGRAD Program - Vietnam',\n",
       "   'id': '165419643537532_180324642047032'},\n",
       "  {'created_time': '2011-10-13T13:12:42+0000',\n",
       "   'story': 'U.S. Consulate General - Ho Chi Minh City added a new photo.',\n",
       "   'id': '165419643537532_180302718715891'},\n",
       "  {'created_time': '2011-10-12T06:19:30+0000',\n",
       "   'message': 'A photo contest sponsored by the U.S. Department of State\\r\\nhttp://connect.state.gov/page/photo-contest?utm_source=septoct2011&utm_medium=announcementpost&utm_content=contestinfopage&utm_campaign=photocontest',\n",
       "   'id': '165419643537532_179789732100523'},\n",
       "  {'created_time': '2011-10-12T06:03:43+0000',\n",
       "   'message': \"Let's makes friends with these students from SIT Study Abroad Program. They will be with us tomorrow afternoon, at 4:30 p.m. at the American Center Ho Chi Minh City. What an exciting event!\\r\\nhttp://www.sit.edu/studyabroad\",\n",
       "   'id': '165419643537532_179787395434090'},\n",
       "  {'created_time': '2011-10-12T03:02:01+0000',\n",
       "   'message': 'Study of the United States Institutes (SUSI) for Student Leaders on Global Environmental Issues. More detail, please visit http://hochiminh.usconsulate.gov',\n",
       "   'id': '165419643537532_179748328771330'},\n",
       "  {'created_time': '2011-10-09T14:27:12+0000',\n",
       "   'message': 'Columbus Day\\nMonday, October 10, 2011\\n\\nThis holiday commemorates Christopher Columbus’s first landing in the Americas on October 12, 1492. Beginning in the late 19th century, Italian-Americans began to honor the day as a celebration of their heritage, as Columbus is widely believed to be of Italian origin. In 1937, President Franklin D. Roosevelt proclaimed the federal holiday.',\n",
       "   'id': '165419643537532_178622235550606'},\n",
       "  {'created_time': '2011-10-07T14:04:52+0000',\n",
       "   'message': 'The American Center Ho Chi Minh City will be closed in observance of Columbus Day on October 10th. Normal operating hours will resume on Tuesday, October 11.',\n",
       "   'id': '165419643537532_177815448964618'},\n",
       "  {'created_time': '2011-10-07T09:34:34+0000',\n",
       "   'story': 'U.S. Consulate General - Ho Chi Minh City added a new photo — with Vũ Viết Trụ and 2 others.',\n",
       "   'id': '165419643537532_177747635638066'},\n",
       "  {'created_time': '2011-10-04T03:56:22+0000',\n",
       "   'id': '165419643537532_117417895033040'},\n",
       "  {'created_time': '2011-10-03T08:53:12+0000',\n",
       "   'story': 'U.S. Consulate General - Ho Chi Minh City added a new photo.',\n",
       "   'id': '165419643537532_176095189136644'},\n",
       "  {'created_time': '2011-09-30T15:05:30+0000',\n",
       "   'story': 'U.S. Consulate General - Ho Chi Minh City added a new photo.',\n",
       "   'id': '165419643537532_175001792579317'},\n",
       "  {'created_time': '2011-09-30T06:29:49+0000',\n",
       "   'story': 'U.S. Consulate General - Ho Chi Minh City added a new photo.',\n",
       "   'id': '165419643537532_174882175924612'},\n",
       "  {'created_time': '2011-09-28T03:15:16+0000',\n",
       "   'message': 'The American Center - Grand Opening September 28, 2011.',\n",
       "   'id': '165419643537532_174031516009678'},\n",
       "  {'created_time': '2011-09-14T12:20:12+0000',\n",
       "   'story': 'U.S. Consulate General - Ho Chi Minh City added a new photo.',\n",
       "   'id': '165419643537532_168350943244402'}],\n",
       " 'paging': {'cursors': {'before': 'Q2c4U1pXNTBYM0YxWlhKNVgzTjBiM0o1WDJsa0R5TXhOalUwTVRrMk5ETTFNemMxTXpJN01UZAzJNVFl4TVRVeE5EWXpNemd4T3pBN05BOE1ZAWEJwWDNOMGIzSjVYMmxrRHg4eE5qVTBNVGsyTkRNMU16YzFNekpmTVRnMk1UWXhNVFV4TkRZAek16ZA3hEd1IwYVcxbEJrNnBjZAklC',\n",
       "   'after': 'Q2c4U1pXNTBYM0YxWlhKNVgzTjBiM0o1WDJsa0R5TXhOalUwTVRrMk5ETTFNemMxTXpJN01UWTRNelV3T1RRek1qUTBOREF5T3pBN05BOE1ZAWEJwWDNOMGIzSjVYMmxrRHg4eE5qVTBNVGsyTkRNMU16YzFNekpmTVRZANE16VXdPVFF6TWpRME5EQXlEd1IwYVcxbEJrNXdtL3dC'},\n",
       "  'previous': 'https://graph.facebook.com/v9.0/165419643537532/published_posts?access_token=EAABnlB7bWhcBAG608pDOUZAnWWeeQD8OoJWRSzo1lEWSq521hZCjhmNCZAosSw8hEsKdyVnZAkAi2UjkH7JYCHNJfadWQ4OC1foiDEWs7Fc5ClMJmZC0TIotK5Cl2uRk3PrJEyXBnqwUadbHsqtixZCf9ZA3Qz3BlF4Omoq4QazynxWhKsJoKYSlXrZCJy2Dh3Ctpw3I5iM9EBpB6lusEsab&limit=100&before=Q2c4U1pXNTBYM0YxWlhKNVgzTjBiM0o1WDJsa0R5TXhOalUwTVRrMk5ETTFNemMxTXpJN01UZAzJNVFl4TVRVeE5EWXpNemd4T3pBN05BOE1ZAWEJwWDNOMGIzSjVYMmxrRHg4eE5qVTBNVGsyTkRNMU16YzFNekpmTVRnMk1UWXhNVFV4TkRZAek16ZA3hEd1IwYVcxbEJrNnBjZAklC'}}"
      ]
     },
     "metadata": {},
     "execution_count": 498
    }
   ],
   "source": [
    "resultnext = requests.get(urlnext).json()\n",
    "resultnext"
   ]
  },
  {
   "cell_type": "code",
   "execution_count": 499,
   "metadata": {},
   "outputs": [
    {
     "output_type": "execute_result",
     "data": {
      "text/plain": [
       "                created_time  \\\n",
       "0   2011-10-27T15:00:02+0000   \n",
       "1   2011-10-27T15:00:02+0000   \n",
       "2   2011-10-27T15:00:02+0000   \n",
       "3   2011-10-27T15:00:02+0000   \n",
       "4   2011-10-27T15:00:01+0000   \n",
       "..                       ...   \n",
       "61  2011-10-03T08:53:12+0000   \n",
       "62  2011-09-30T15:05:30+0000   \n",
       "63  2011-09-30T06:29:49+0000   \n",
       "64  2011-09-28T03:15:16+0000   \n",
       "65  2011-09-14T12:20:12+0000   \n",
       "\n",
       "                                                story  \\\n",
       "0   U.S. Consulate General - Ho Chi Minh City adde...   \n",
       "1   U.S. Consulate General - Ho Chi Minh City adde...   \n",
       "2   U.S. Consulate General - Ho Chi Minh City adde...   \n",
       "3   U.S. Consulate General - Ho Chi Minh City adde...   \n",
       "4   U.S. Consulate General - Ho Chi Minh City adde...   \n",
       "..                                                ...   \n",
       "61  U.S. Consulate General - Ho Chi Minh City adde...   \n",
       "62  U.S. Consulate General - Ho Chi Minh City adde...   \n",
       "63  U.S. Consulate General - Ho Chi Minh City adde...   \n",
       "64                                                NaN   \n",
       "65  U.S. Consulate General - Ho Chi Minh City adde...   \n",
       "\n",
       "                                 id  \\\n",
       "0   165419643537532_186161151463381   \n",
       "1   165419643537532_186161154796714   \n",
       "2   165419643537532_186161158130047   \n",
       "3   165419643537532_186161161463380   \n",
       "4   165419643537532_186161058130057   \n",
       "..                              ...   \n",
       "61  165419643537532_176095189136644   \n",
       "62  165419643537532_175001792579317   \n",
       "63  165419643537532_174882175924612   \n",
       "64  165419643537532_174031516009678   \n",
       "65  165419643537532_168350943244402   \n",
       "\n",
       "                                              message  \n",
       "0                                                 NaN  \n",
       "1                                                 NaN  \n",
       "2                                                 NaN  \n",
       "3                                                 NaN  \n",
       "4                                                 NaN  \n",
       "..                                                ...  \n",
       "61                                                NaN  \n",
       "62                                                NaN  \n",
       "63                                                NaN  \n",
       "64  The American Center - Grand Opening September ...  \n",
       "65                                                NaN  \n",
       "\n",
       "[66 rows x 4 columns]"
      ],
      "text/html": "<div>\n<style scoped>\n    .dataframe tbody tr th:only-of-type {\n        vertical-align: middle;\n    }\n\n    .dataframe tbody tr th {\n        vertical-align: top;\n    }\n\n    .dataframe thead th {\n        text-align: right;\n    }\n</style>\n<table border=\"1\" class=\"dataframe\">\n  <thead>\n    <tr style=\"text-align: right;\">\n      <th></th>\n      <th>created_time</th>\n      <th>story</th>\n      <th>id</th>\n      <th>message</th>\n    </tr>\n  </thead>\n  <tbody>\n    <tr>\n      <th>0</th>\n      <td>2011-10-27T15:00:02+0000</td>\n      <td>U.S. Consulate General - Ho Chi Minh City adde...</td>\n      <td>165419643537532_186161151463381</td>\n      <td>NaN</td>\n    </tr>\n    <tr>\n      <th>1</th>\n      <td>2011-10-27T15:00:02+0000</td>\n      <td>U.S. Consulate General - Ho Chi Minh City adde...</td>\n      <td>165419643537532_186161154796714</td>\n      <td>NaN</td>\n    </tr>\n    <tr>\n      <th>2</th>\n      <td>2011-10-27T15:00:02+0000</td>\n      <td>U.S. Consulate General - Ho Chi Minh City adde...</td>\n      <td>165419643537532_186161158130047</td>\n      <td>NaN</td>\n    </tr>\n    <tr>\n      <th>3</th>\n      <td>2011-10-27T15:00:02+0000</td>\n      <td>U.S. Consulate General - Ho Chi Minh City adde...</td>\n      <td>165419643537532_186161161463380</td>\n      <td>NaN</td>\n    </tr>\n    <tr>\n      <th>4</th>\n      <td>2011-10-27T15:00:01+0000</td>\n      <td>U.S. Consulate General - Ho Chi Minh City adde...</td>\n      <td>165419643537532_186161058130057</td>\n      <td>NaN</td>\n    </tr>\n    <tr>\n      <th>...</th>\n      <td>...</td>\n      <td>...</td>\n      <td>...</td>\n      <td>...</td>\n    </tr>\n    <tr>\n      <th>61</th>\n      <td>2011-10-03T08:53:12+0000</td>\n      <td>U.S. Consulate General - Ho Chi Minh City adde...</td>\n      <td>165419643537532_176095189136644</td>\n      <td>NaN</td>\n    </tr>\n    <tr>\n      <th>62</th>\n      <td>2011-09-30T15:05:30+0000</td>\n      <td>U.S. Consulate General - Ho Chi Minh City adde...</td>\n      <td>165419643537532_175001792579317</td>\n      <td>NaN</td>\n    </tr>\n    <tr>\n      <th>63</th>\n      <td>2011-09-30T06:29:49+0000</td>\n      <td>U.S. Consulate General - Ho Chi Minh City adde...</td>\n      <td>165419643537532_174882175924612</td>\n      <td>NaN</td>\n    </tr>\n    <tr>\n      <th>64</th>\n      <td>2011-09-28T03:15:16+0000</td>\n      <td>NaN</td>\n      <td>165419643537532_174031516009678</td>\n      <td>The American Center - Grand Opening September ...</td>\n    </tr>\n    <tr>\n      <th>65</th>\n      <td>2011-09-14T12:20:12+0000</td>\n      <td>U.S. Consulate General - Ho Chi Minh City adde...</td>\n      <td>165419643537532_168350943244402</td>\n      <td>NaN</td>\n    </tr>\n  </tbody>\n</table>\n<p>66 rows × 4 columns</p>\n</div>"
     },
     "metadata": {},
     "execution_count": 499
    }
   ],
   "source": [
    "df3 = pd.json_normalize(resultnext, 'data')\n",
    "df3"
   ]
  },
  {
   "cell_type": "code",
   "execution_count": 501,
   "metadata": {},
   "outputs": [],
   "source": [
    "df = df.append(df3, ignore_index=True)"
   ]
  },
  {
   "cell_type": "code",
   "execution_count": 502,
   "metadata": {},
   "outputs": [
    {
     "output_type": "execute_result",
     "data": {
      "text/plain": [
       "                  created_time  \\\n",
       "7034  2011-10-03T08:53:12+0000   \n",
       "7035  2011-09-30T15:05:30+0000   \n",
       "7036  2011-09-30T06:29:49+0000   \n",
       "7037  2011-09-28T03:15:16+0000   \n",
       "7038  2011-09-14T12:20:12+0000   \n",
       "\n",
       "                                                message  \\\n",
       "7034                                                NaN   \n",
       "7035                                                NaN   \n",
       "7036                                                NaN   \n",
       "7037  The American Center - Grand Opening September ...   \n",
       "7038                                                NaN   \n",
       "\n",
       "                                   id  \\\n",
       "7034  165419643537532_176095189136644   \n",
       "7035  165419643537532_175001792579317   \n",
       "7036  165419643537532_174882175924612   \n",
       "7037  165419643537532_174031516009678   \n",
       "7038  165419643537532_168350943244402   \n",
       "\n",
       "                                                  story  \n",
       "7034  U.S. Consulate General - Ho Chi Minh City adde...  \n",
       "7035  U.S. Consulate General - Ho Chi Minh City adde...  \n",
       "7036  U.S. Consulate General - Ho Chi Minh City adde...  \n",
       "7037                                                NaN  \n",
       "7038  U.S. Consulate General - Ho Chi Minh City adde...  "
      ],
      "text/html": "<div>\n<style scoped>\n    .dataframe tbody tr th:only-of-type {\n        vertical-align: middle;\n    }\n\n    .dataframe tbody tr th {\n        vertical-align: top;\n    }\n\n    .dataframe thead th {\n        text-align: right;\n    }\n</style>\n<table border=\"1\" class=\"dataframe\">\n  <thead>\n    <tr style=\"text-align: right;\">\n      <th></th>\n      <th>created_time</th>\n      <th>message</th>\n      <th>id</th>\n      <th>story</th>\n    </tr>\n  </thead>\n  <tbody>\n    <tr>\n      <th>7034</th>\n      <td>2011-10-03T08:53:12+0000</td>\n      <td>NaN</td>\n      <td>165419643537532_176095189136644</td>\n      <td>U.S. Consulate General - Ho Chi Minh City adde...</td>\n    </tr>\n    <tr>\n      <th>7035</th>\n      <td>2011-09-30T15:05:30+0000</td>\n      <td>NaN</td>\n      <td>165419643537532_175001792579317</td>\n      <td>U.S. Consulate General - Ho Chi Minh City adde...</td>\n    </tr>\n    <tr>\n      <th>7036</th>\n      <td>2011-09-30T06:29:49+0000</td>\n      <td>NaN</td>\n      <td>165419643537532_174882175924612</td>\n      <td>U.S. Consulate General - Ho Chi Minh City adde...</td>\n    </tr>\n    <tr>\n      <th>7037</th>\n      <td>2011-09-28T03:15:16+0000</td>\n      <td>The American Center - Grand Opening September ...</td>\n      <td>165419643537532_174031516009678</td>\n      <td>NaN</td>\n    </tr>\n    <tr>\n      <th>7038</th>\n      <td>2011-09-14T12:20:12+0000</td>\n      <td>NaN</td>\n      <td>165419643537532_168350943244402</td>\n      <td>U.S. Consulate General - Ho Chi Minh City adde...</td>\n    </tr>\n  </tbody>\n</table>\n</div>"
     },
     "metadata": {},
     "execution_count": 502
    }
   ],
   "source": [
    "df.tail(5)"
   ]
  },
  {
   "cell_type": "code",
   "execution_count": 196,
   "metadata": {},
   "outputs": [
    {
     "output_type": "execute_result",
     "data": {
      "text/plain": [
       "                    created_time  \\\n",
       "count                        100   \n",
       "unique                       100   \n",
       "top     2019-09-24T02:48:12+0000   \n",
       "freq                           1   \n",
       "\n",
       "                                                  message  \\\n",
       "count                                                  72   \n",
       "unique                                                 72   \n",
       "top     Bạn sử dụng #Zalo, chúng tôi sử dụng Zalo, vì ...   \n",
       "freq                                                    1   \n",
       "\n",
       "                                      id  \\\n",
       "count                                100   \n",
       "unique                               100   \n",
       "top     165419643537532_2452010094878464   \n",
       "freq                                   1   \n",
       "\n",
       "                                                    story  \n",
       "count                                                  34  \n",
       "unique                                                  4  \n",
       "top     U.S. Consulate General - Ho Chi Minh City adde...  \n",
       "freq                                                   28  "
      ],
      "text/html": "<div>\n<style scoped>\n    .dataframe tbody tr th:only-of-type {\n        vertical-align: middle;\n    }\n\n    .dataframe tbody tr th {\n        vertical-align: top;\n    }\n\n    .dataframe thead th {\n        text-align: right;\n    }\n</style>\n<table border=\"1\" class=\"dataframe\">\n  <thead>\n    <tr style=\"text-align: right;\">\n      <th></th>\n      <th>created_time</th>\n      <th>message</th>\n      <th>id</th>\n      <th>story</th>\n    </tr>\n  </thead>\n  <tbody>\n    <tr>\n      <th>count</th>\n      <td>100</td>\n      <td>72</td>\n      <td>100</td>\n      <td>34</td>\n    </tr>\n    <tr>\n      <th>unique</th>\n      <td>100</td>\n      <td>72</td>\n      <td>100</td>\n      <td>4</td>\n    </tr>\n    <tr>\n      <th>top</th>\n      <td>2019-09-24T02:48:12+0000</td>\n      <td>Bạn sử dụng #Zalo, chúng tôi sử dụng Zalo, vì ...</td>\n      <td>165419643537532_2452010094878464</td>\n      <td>U.S. Consulate General - Ho Chi Minh City adde...</td>\n    </tr>\n    <tr>\n      <th>freq</th>\n      <td>1</td>\n      <td>1</td>\n      <td>1</td>\n      <td>28</td>\n    </tr>\n  </tbody>\n</table>\n</div>"
     },
     "metadata": {},
     "execution_count": 196
    }
   ],
   "source": [
    "df3.describe()"
   ]
  },
  {
   "cell_type": "code",
   "execution_count": 503,
   "metadata": {},
   "outputs": [
    {
     "output_type": "execute_result",
     "data": {
      "text/plain": [
       "                    created_time  \\\n",
       "count                       7039   \n",
       "unique                      6566   \n",
       "top     2011-11-02T08:07:26+0000   \n",
       "freq                          22   \n",
       "\n",
       "                                                  message  \\\n",
       "count                                                5425   \n",
       "unique                                               5264   \n",
       "top     [AMERICAN CENTER QUIZ]\\n\\nHãy cùng tìm hiểu nh...   \n",
       "freq                                                    7   \n",
       "\n",
       "                                      id  \\\n",
       "count                               7039   \n",
       "unique                              7039   \n",
       "top     165419643537532_2478962455516561   \n",
       "freq                                   1   \n",
       "\n",
       "                                                    story  \n",
       "count                                                2185  \n",
       "unique                                                361  \n",
       "top     U.S. Consulate General - Ho Chi Minh City adde...  \n",
       "freq                                                  781  "
      ],
      "text/html": "<div>\n<style scoped>\n    .dataframe tbody tr th:only-of-type {\n        vertical-align: middle;\n    }\n\n    .dataframe tbody tr th {\n        vertical-align: top;\n    }\n\n    .dataframe thead th {\n        text-align: right;\n    }\n</style>\n<table border=\"1\" class=\"dataframe\">\n  <thead>\n    <tr style=\"text-align: right;\">\n      <th></th>\n      <th>created_time</th>\n      <th>message</th>\n      <th>id</th>\n      <th>story</th>\n    </tr>\n  </thead>\n  <tbody>\n    <tr>\n      <th>count</th>\n      <td>7039</td>\n      <td>5425</td>\n      <td>7039</td>\n      <td>2185</td>\n    </tr>\n    <tr>\n      <th>unique</th>\n      <td>6566</td>\n      <td>5264</td>\n      <td>7039</td>\n      <td>361</td>\n    </tr>\n    <tr>\n      <th>top</th>\n      <td>2011-11-02T08:07:26+0000</td>\n      <td>[AMERICAN CENTER QUIZ]\\n\\nHãy cùng tìm hiểu nh...</td>\n      <td>165419643537532_2478962455516561</td>\n      <td>U.S. Consulate General - Ho Chi Minh City adde...</td>\n    </tr>\n    <tr>\n      <th>freq</th>\n      <td>22</td>\n      <td>7</td>\n      <td>1</td>\n      <td>781</td>\n    </tr>\n  </tbody>\n</table>\n</div>"
     },
     "metadata": {},
     "execution_count": 503
    }
   ],
   "source": [
    "df.describe()"
   ]
  },
  {
   "cell_type": "code",
   "execution_count": 500,
   "metadata": {},
   "outputs": [],
   "source": [
    "df3 = df3[['created_time', 'message', 'id', 'story']]"
   ]
  },
  {
   "cell_type": "code",
   "execution_count": null,
   "metadata": {},
   "outputs": [],
   "source": [
    "df3"
   ]
  },
  {
   "cell_type": "code",
   "execution_count": 504,
   "metadata": {},
   "outputs": [],
   "source": [
    "df.to_csv('20210223_export.csv', index = True, header = True)"
   ]
  },
  {
   "cell_type": "code",
   "execution_count": 92,
   "metadata": {},
   "outputs": [],
   "source": [
    "df = pd.read_csv(\"20210223_export.csv\")"
   ]
  },
  {
   "cell_type": "code",
   "execution_count": 93,
   "metadata": {},
   "outputs": [
    {
     "output_type": "stream",
     "name": "stdout",
     "text": [
      "<class 'pandas.core.frame.DataFrame'>\nRangeIndex: 7039 entries, 0 to 7038\nData columns (total 5 columns):\n #   Column        Non-Null Count  Dtype \n---  ------        --------------  ----- \n 0   Unnamed: 0    7039 non-null   int64 \n 1   created_time  7039 non-null   object\n 2   message       5425 non-null   object\n 3   id            7039 non-null   object\n 4   story         2185 non-null   object\ndtypes: int64(1), object(4)\nmemory usage: 275.1+ KB\n"
     ]
    }
   ],
   "source": [
    "df.info()"
   ]
  },
  {
   "cell_type": "code",
   "execution_count": 94,
   "metadata": {},
   "outputs": [],
   "source": [
    "df = df.dropna(subset=['message'])"
   ]
  },
  {
   "cell_type": "code",
   "execution_count": 279,
   "metadata": {},
   "outputs": [],
   "source": [
    "df.drop(['new_column', 'shares'], inplace = True, axis = 1)"
   ]
  },
  {
   "cell_type": "code",
   "execution_count": 302,
   "metadata": {},
   "outputs": [],
   "source": [
    "df.drop('story', inplace = True, axis = 1)"
   ]
  },
  {
   "cell_type": "code",
   "execution_count": 280,
   "metadata": {},
   "outputs": [
    {
     "output_type": "execute_result",
     "data": {
      "text/plain": [
       "                    created_time  \\\n",
       "0       2021-02-04T09:08:00+0000   \n",
       "1       2021-02-04T07:08:00+0000   \n",
       "2       2021-02-04T03:08:00+0000   \n",
       "3       2021-02-03T08:08:00+0000   \n",
       "4       2021-02-03T03:08:00+0000   \n",
       "...                          ...   \n",
       "7029    2011-10-12T03:02:01+0000   \n",
       "7030    2011-10-09T14:27:12+0000   \n",
       "7031    2011-10-07T14:04:52+0000   \n",
       "7037    2011-09-28T03:15:16+0000   \n",
       "shares                        14   \n",
       "\n",
       "                                                  message  \\\n",
       "0       📣 The Online Book Request service will be clos...   \n",
       "1       Hôm nay là Ngày Thế giới Phòng chống Ung thư. ...   \n",
       "2       Khóa học kỹ năng thẩm định thông tin chuyên sâ...   \n",
       "3       #Bạncóbiết Shirley Chisholm là người phụ nữ Mỹ...   \n",
       "4       🌏♻️ Bạn quan tâm tới vấn đề rác thải nhựa? Chú...   \n",
       "...                                                   ...   \n",
       "7029    Study of the United States Institutes (SUSI) f...   \n",
       "7030    Columbus Day\\nMonday, October 10, 2011\\n\\nThis...   \n",
       "7031    The American Center Ho Chi Minh City will be c...   \n",
       "7037    The American Center - Grand Opening September ...   \n",
       "shares                                                 14   \n",
       "\n",
       "                                      id story likes  \n",
       "0       165419643537532_3697420720337389   NaN    76  \n",
       "1       165419643537532_3697304380349023   NaN   275  \n",
       "2       165419643537532_3695161693896625   NaN   116  \n",
       "3       165419643537532_3694477183965076   NaN   147  \n",
       "4       165419643537532_3690108024401992   NaN   202  \n",
       "...                                  ...   ...   ...  \n",
       "7029     165419643537532_179748328771330   NaN        \n",
       "7030     165419643537532_178622235550606   NaN        \n",
       "7031     165419643537532_177815448964618   NaN        \n",
       "7037     165419643537532_174031516009678   NaN        \n",
       "shares                                14    14        \n",
       "\n",
       "[5426 rows x 5 columns]"
      ],
      "text/html": "<div>\n<style scoped>\n    .dataframe tbody tr th:only-of-type {\n        vertical-align: middle;\n    }\n\n    .dataframe tbody tr th {\n        vertical-align: top;\n    }\n\n    .dataframe thead th {\n        text-align: right;\n    }\n</style>\n<table border=\"1\" class=\"dataframe\">\n  <thead>\n    <tr style=\"text-align: right;\">\n      <th></th>\n      <th>created_time</th>\n      <th>message</th>\n      <th>id</th>\n      <th>story</th>\n      <th>likes</th>\n    </tr>\n  </thead>\n  <tbody>\n    <tr>\n      <th>0</th>\n      <td>2021-02-04T09:08:00+0000</td>\n      <td>📣 The Online Book Request service will be clos...</td>\n      <td>165419643537532_3697420720337389</td>\n      <td>NaN</td>\n      <td>76</td>\n    </tr>\n    <tr>\n      <th>1</th>\n      <td>2021-02-04T07:08:00+0000</td>\n      <td>Hôm nay là Ngày Thế giới Phòng chống Ung thư. ...</td>\n      <td>165419643537532_3697304380349023</td>\n      <td>NaN</td>\n      <td>275</td>\n    </tr>\n    <tr>\n      <th>2</th>\n      <td>2021-02-04T03:08:00+0000</td>\n      <td>Khóa học kỹ năng thẩm định thông tin chuyên sâ...</td>\n      <td>165419643537532_3695161693896625</td>\n      <td>NaN</td>\n      <td>116</td>\n    </tr>\n    <tr>\n      <th>3</th>\n      <td>2021-02-03T08:08:00+0000</td>\n      <td>#Bạncóbiết Shirley Chisholm là người phụ nữ Mỹ...</td>\n      <td>165419643537532_3694477183965076</td>\n      <td>NaN</td>\n      <td>147</td>\n    </tr>\n    <tr>\n      <th>4</th>\n      <td>2021-02-03T03:08:00+0000</td>\n      <td>🌏♻️ Bạn quan tâm tới vấn đề rác thải nhựa? Chú...</td>\n      <td>165419643537532_3690108024401992</td>\n      <td>NaN</td>\n      <td>202</td>\n    </tr>\n    <tr>\n      <th>...</th>\n      <td>...</td>\n      <td>...</td>\n      <td>...</td>\n      <td>...</td>\n      <td>...</td>\n    </tr>\n    <tr>\n      <th>7029</th>\n      <td>2011-10-12T03:02:01+0000</td>\n      <td>Study of the United States Institutes (SUSI) f...</td>\n      <td>165419643537532_179748328771330</td>\n      <td>NaN</td>\n      <td></td>\n    </tr>\n    <tr>\n      <th>7030</th>\n      <td>2011-10-09T14:27:12+0000</td>\n      <td>Columbus Day\\nMonday, October 10, 2011\\n\\nThis...</td>\n      <td>165419643537532_178622235550606</td>\n      <td>NaN</td>\n      <td></td>\n    </tr>\n    <tr>\n      <th>7031</th>\n      <td>2011-10-07T14:04:52+0000</td>\n      <td>The American Center Ho Chi Minh City will be c...</td>\n      <td>165419643537532_177815448964618</td>\n      <td>NaN</td>\n      <td></td>\n    </tr>\n    <tr>\n      <th>7037</th>\n      <td>2011-09-28T03:15:16+0000</td>\n      <td>The American Center - Grand Opening September ...</td>\n      <td>165419643537532_174031516009678</td>\n      <td>NaN</td>\n      <td></td>\n    </tr>\n    <tr>\n      <th>shares</th>\n      <td>14</td>\n      <td>14</td>\n      <td>14</td>\n      <td>14</td>\n      <td></td>\n    </tr>\n  </tbody>\n</table>\n<p>5426 rows × 5 columns</p>\n</div>"
     },
     "metadata": {},
     "execution_count": 280
    }
   ],
   "source": [
    "df"
   ]
  },
  {
   "cell_type": "code",
   "execution_count": 105,
   "metadata": {},
   "outputs": [
    {
     "output_type": "execute_result",
     "data": {
      "text/plain": [
       "                  created_time  \\\n",
       "7028  2011-10-12T06:03:43+0000   \n",
       "\n",
       "                                                message  \\\n",
       "7028  Let's makes friends with these students from S...   \n",
       "\n",
       "                                   id story  \n",
       "7028  165419643537532_179787395434090   NaN  "
      ],
      "text/html": "<div>\n<style scoped>\n    .dataframe tbody tr th:only-of-type {\n        vertical-align: middle;\n    }\n\n    .dataframe tbody tr th {\n        vertical-align: top;\n    }\n\n    .dataframe thead th {\n        text-align: right;\n    }\n</style>\n<table border=\"1\" class=\"dataframe\">\n  <thead>\n    <tr style=\"text-align: right;\">\n      <th></th>\n      <th>created_time</th>\n      <th>message</th>\n      <th>id</th>\n      <th>story</th>\n    </tr>\n  </thead>\n  <tbody>\n    <tr>\n      <th>7028</th>\n      <td>2011-10-12T06:03:43+0000</td>\n      <td>Let's makes friends with these students from S...</td>\n      <td>165419643537532_179787395434090</td>\n      <td>NaN</td>\n    </tr>\n  </tbody>\n</table>\n</div>"
     },
     "metadata": {},
     "execution_count": 105
    }
   ],
   "source": [
    "df[df['id'] == '165419643537532_179787395434090']"
   ]
  },
  {
   "cell_type": "code",
   "execution_count": 594,
   "metadata": {},
   "outputs": [],
   "source": [
    "insight_df = pd.DataFrame(data = df['id'])"
   ]
  },
  {
   "cell_type": "code",
   "execution_count": 595,
   "metadata": {},
   "outputs": [
    {
     "output_type": "execute_result",
     "data": {
      "text/plain": [
       "<bound method DataFrame.info of                                     id\n",
       "0     165419643537532_3697420720337389\n",
       "1     165419643537532_3697304380349023\n",
       "2     165419643537532_3695161693896625\n",
       "3     165419643537532_3694477183965076\n",
       "4     165419643537532_3690108024401992\n",
       "...                                ...\n",
       "7028   165419643537532_179787395434090\n",
       "7029   165419643537532_179748328771330\n",
       "7030   165419643537532_178622235550606\n",
       "7031   165419643537532_177815448964618\n",
       "7037   165419643537532_174031516009678\n",
       "\n",
       "[5425 rows x 1 columns]>"
      ]
     },
     "metadata": {},
     "execution_count": 595
    }
   ],
   "source": [
    "insight_df.info"
   ]
  },
  {
   "cell_type": "code",
   "execution_count": null,
   "metadata": {},
   "outputs": [],
   "source": [
    "post_id = insight_df"
   ]
  },
  {
   "cell_type": "code",
   "execution_count": 592,
   "metadata": {},
   "outputs": [
    {
     "output_type": "execute_result",
     "data": {
      "text/plain": [
       "'https://graph.facebook.com/v9.0/\\x1d                                    id  \\\\\\n0     165419643537532_3697420720337389   \\n1     165419643537532_3697304380349023   \\n2     165419643537532_3695161693896625   \\n3     165419643537532_3694477183965076   \\n4     165419643537532_3690108024401992   \\n...                                ...   \\n7028   165419643537532_179787395434090   \\n7029   165419643537532_179748328771330   \\n7030   165419643537532_178622235550606   \\n7031   165419643537532_177815448964618   \\n7037   165419643537532_174031516009678   \\n\\n                                            insightlink  likes  \\n0     https://graph.facebook.com/v9.0/16541964353753...   70.0  \\n1     https://graph.facebook.com/v9.0/16541964353753...    NaN  \\n2     https://graph.facebook.com/v9.0/16541964353753...    NaN  \\n3     https://graph.facebook.com/v9.0/16541964353753...    NaN  \\n4     https://graph.facebook.com/v9.0/16541964353753...    NaN  \\n...                                                 ...    ...  \\n7028  https://graph.facebook.com/v9.0/16541964353753...    NaN  \\n7029  https://graph.facebook.com/v9.0/16541964353753...    NaN  \\n7030  https://graph.facebook.com/v9.0/16541964353753...    NaN  \\n7031  https://graph.facebook.com/v9.0/16541964353753...    NaN  \\n7037  https://graph.facebook.com/v9.0/16541964353753...    NaN  \\n\\n[5425 rows x 3 columns]/insights/post_reactions_by_type_total?access_token=EAABnlB7bWhcBAMcfyNccUtZAkZA5gGVftLgIwklJOAnJef6ZBBuKTwPhdsw69nVU62T80k3pZCWVr4yMRtjYu1gRa7xgZA5pgZChpdxxngr3EEZBSbzmibkfZChstdw3TZBxZBLp6iAxBfGN5Actr5FaF95eK0B1vJo1rS48e7mATdXKe5wW1MZAyAFbWekLaC2SjZAZBqc3SWMNKhyOGJEUOIKDF'"
      ]
     },
     "metadata": {},
     "execution_count": 592
    }
   ],
   "source": [
    "urlinsight = 'https://graph.facebook.com/v9.0/\u001d{}/insights/post_reactions_by_type_total?access_token=EAABnlB7bWhcBAMcfyNccUtZAkZA5gGVftLgIwklJOAnJef6ZBBuKTwPhdsw69nVU62T80k3pZCWVr4yMRtjYu1gRa7xgZA5pgZChpdxxngr3EEZBSbzmibkfZChstdw3TZBxZBLp6iAxBfGN5Actr5FaF95eK0B1vJo1rS48e7mATdXKe5wW1MZAyAFbWekLaC2SjZAZBqc3SWMNKhyOGJEUOIKDF'.format(\n",
    "    insight_df\n",
    ")\n",
    "\n",
    "urlinsight"
   ]
  },
  {
   "cell_type": "code",
   "execution_count": 596,
   "metadata": {},
   "outputs": [],
   "source": [
    "insight_df['insightlink'] = 'https://graph.facebook.com/v9.0/' + insight_df + '/insights/post_reactions_like_total?access_token=EAABnlB7bWhcBADmVfGPtRamJnZC7GnZCX0X2xNO7FAKPeb9voR28eSeSZAZB8tFltQ9chgo97vnNWqq4Vr14U11zDOhOEDYZC3rYTKPTRHeXpIzJQgDxqLDOvKBryLffQTqfb9zXFjPOOpPc3VTCNEW7WUDs3CIK6UgynNfTSj9zjwh0iGIq0aGl4OIoR3KWQQlvywhiTiQ6ih3D9fLq3'"
   ]
  },
  {
   "cell_type": "code",
   "execution_count": 547,
   "metadata": {},
   "outputs": [
    {
     "output_type": "execute_result",
     "data": {
      "text/plain": [
       "                                    id  \\\n",
       "0     165419643537532_3697420720337389   \n",
       "1     165419643537532_3697304380349023   \n",
       "2     165419643537532_3695161693896625   \n",
       "3     165419643537532_3694477183965076   \n",
       "4     165419643537532_3690108024401992   \n",
       "...                                ...   \n",
       "7028   165419643537532_179787395434090   \n",
       "7029   165419643537532_179748328771330   \n",
       "7030   165419643537532_178622235550606   \n",
       "7031   165419643537532_177815448964618   \n",
       "7037   165419643537532_174031516009678   \n",
       "\n",
       "                                            insightlink  \n",
       "0     https://graph.facebook.com/v9.0/16541964353753...  \n",
       "1     https://graph.facebook.com/v9.0/16541964353753...  \n",
       "2     https://graph.facebook.com/v9.0/16541964353753...  \n",
       "3     https://graph.facebook.com/v9.0/16541964353753...  \n",
       "4     https://graph.facebook.com/v9.0/16541964353753...  \n",
       "...                                                 ...  \n",
       "7028  https://graph.facebook.com/v9.0/16541964353753...  \n",
       "7029  https://graph.facebook.com/v9.0/16541964353753...  \n",
       "7030  https://graph.facebook.com/v9.0/16541964353753...  \n",
       "7031  https://graph.facebook.com/v9.0/16541964353753...  \n",
       "7037  https://graph.facebook.com/v9.0/16541964353753...  \n",
       "\n",
       "[5425 rows x 2 columns]"
      ],
      "text/html": "<div>\n<style scoped>\n    .dataframe tbody tr th:only-of-type {\n        vertical-align: middle;\n    }\n\n    .dataframe tbody tr th {\n        vertical-align: top;\n    }\n\n    .dataframe thead th {\n        text-align: right;\n    }\n</style>\n<table border=\"1\" class=\"dataframe\">\n  <thead>\n    <tr style=\"text-align: right;\">\n      <th></th>\n      <th>id</th>\n      <th>insightlink</th>\n    </tr>\n  </thead>\n  <tbody>\n    <tr>\n      <th>0</th>\n      <td>165419643537532_3697420720337389</td>\n      <td>https://graph.facebook.com/v9.0/16541964353753...</td>\n    </tr>\n    <tr>\n      <th>1</th>\n      <td>165419643537532_3697304380349023</td>\n      <td>https://graph.facebook.com/v9.0/16541964353753...</td>\n    </tr>\n    <tr>\n      <th>2</th>\n      <td>165419643537532_3695161693896625</td>\n      <td>https://graph.facebook.com/v9.0/16541964353753...</td>\n    </tr>\n    <tr>\n      <th>3</th>\n      <td>165419643537532_3694477183965076</td>\n      <td>https://graph.facebook.com/v9.0/16541964353753...</td>\n    </tr>\n    <tr>\n      <th>4</th>\n      <td>165419643537532_3690108024401992</td>\n      <td>https://graph.facebook.com/v9.0/16541964353753...</td>\n    </tr>\n    <tr>\n      <th>...</th>\n      <td>...</td>\n      <td>...</td>\n    </tr>\n    <tr>\n      <th>7028</th>\n      <td>165419643537532_179787395434090</td>\n      <td>https://graph.facebook.com/v9.0/16541964353753...</td>\n    </tr>\n    <tr>\n      <th>7029</th>\n      <td>165419643537532_179748328771330</td>\n      <td>https://graph.facebook.com/v9.0/16541964353753...</td>\n    </tr>\n    <tr>\n      <th>7030</th>\n      <td>165419643537532_178622235550606</td>\n      <td>https://graph.facebook.com/v9.0/16541964353753...</td>\n    </tr>\n    <tr>\n      <th>7031</th>\n      <td>165419643537532_177815448964618</td>\n      <td>https://graph.facebook.com/v9.0/16541964353753...</td>\n    </tr>\n    <tr>\n      <th>7037</th>\n      <td>165419643537532_174031516009678</td>\n      <td>https://graph.facebook.com/v9.0/16541964353753...</td>\n    </tr>\n  </tbody>\n</table>\n<p>5425 rows × 2 columns</p>\n</div>"
     },
     "metadata": {},
     "execution_count": 547
    }
   ],
   "source": [
    "insight_df"
   ]
  },
  {
   "cell_type": "code",
   "execution_count": 600,
   "metadata": {},
   "outputs": [
    {
     "output_type": "execute_result",
     "data": {
      "text/plain": [
       "                                 id  \\\n",
       "0  165419643537532_3697420720337389   \n",
       "1  165419643537532_3697304380349023   \n",
       "2  165419643537532_3695161693896625   \n",
       "3  165419643537532_3694477183965076   \n",
       "4  165419643537532_3690108024401992   \n",
       "5  165419643537532_3692556194157175   \n",
       "6  165419643537532_3689969144415880   \n",
       "7  165419643537532_3690064061073055   \n",
       "8  165419643537532_3689675311111930   \n",
       "9  165419643537532_3689527631126698   \n",
       "\n",
       "                                         insightlink  likes  \n",
       "0  https://graph.facebook.com/v9.0/16541964353753...  431.0  \n",
       "1  https://graph.facebook.com/v9.0/16541964353753...    NaN  \n",
       "2  https://graph.facebook.com/v9.0/16541964353753...    NaN  \n",
       "3  https://graph.facebook.com/v9.0/16541964353753...    NaN  \n",
       "4  https://graph.facebook.com/v9.0/16541964353753...    NaN  \n",
       "5  https://graph.facebook.com/v9.0/16541964353753...    NaN  \n",
       "6  https://graph.facebook.com/v9.0/16541964353753...    NaN  \n",
       "7  https://graph.facebook.com/v9.0/16541964353753...    NaN  \n",
       "8  https://graph.facebook.com/v9.0/16541964353753...    NaN  \n",
       "9  https://graph.facebook.com/v9.0/16541964353753...    NaN  "
      ],
      "text/html": "<div>\n<style scoped>\n    .dataframe tbody tr th:only-of-type {\n        vertical-align: middle;\n    }\n\n    .dataframe tbody tr th {\n        vertical-align: top;\n    }\n\n    .dataframe thead th {\n        text-align: right;\n    }\n</style>\n<table border=\"1\" class=\"dataframe\">\n  <thead>\n    <tr style=\"text-align: right;\">\n      <th></th>\n      <th>id</th>\n      <th>insightlink</th>\n      <th>likes</th>\n    </tr>\n  </thead>\n  <tbody>\n    <tr>\n      <th>0</th>\n      <td>165419643537532_3697420720337389</td>\n      <td>https://graph.facebook.com/v9.0/16541964353753...</td>\n      <td>431.0</td>\n    </tr>\n    <tr>\n      <th>1</th>\n      <td>165419643537532_3697304380349023</td>\n      <td>https://graph.facebook.com/v9.0/16541964353753...</td>\n      <td>NaN</td>\n    </tr>\n    <tr>\n      <th>2</th>\n      <td>165419643537532_3695161693896625</td>\n      <td>https://graph.facebook.com/v9.0/16541964353753...</td>\n      <td>NaN</td>\n    </tr>\n    <tr>\n      <th>3</th>\n      <td>165419643537532_3694477183965076</td>\n      <td>https://graph.facebook.com/v9.0/16541964353753...</td>\n      <td>NaN</td>\n    </tr>\n    <tr>\n      <th>4</th>\n      <td>165419643537532_3690108024401992</td>\n      <td>https://graph.facebook.com/v9.0/16541964353753...</td>\n      <td>NaN</td>\n    </tr>\n    <tr>\n      <th>5</th>\n      <td>165419643537532_3692556194157175</td>\n      <td>https://graph.facebook.com/v9.0/16541964353753...</td>\n      <td>NaN</td>\n    </tr>\n    <tr>\n      <th>6</th>\n      <td>165419643537532_3689969144415880</td>\n      <td>https://graph.facebook.com/v9.0/16541964353753...</td>\n      <td>NaN</td>\n    </tr>\n    <tr>\n      <th>7</th>\n      <td>165419643537532_3690064061073055</td>\n      <td>https://graph.facebook.com/v9.0/16541964353753...</td>\n      <td>NaN</td>\n    </tr>\n    <tr>\n      <th>8</th>\n      <td>165419643537532_3689675311111930</td>\n      <td>https://graph.facebook.com/v9.0/16541964353753...</td>\n      <td>NaN</td>\n    </tr>\n    <tr>\n      <th>9</th>\n      <td>165419643537532_3689527631126698</td>\n      <td>https://graph.facebook.com/v9.0/16541964353753...</td>\n      <td>NaN</td>\n    </tr>\n  </tbody>\n</table>\n</div>"
     },
     "metadata": {},
     "execution_count": 600
    }
   ],
   "source": [
    "insight_df.head(10)"
   ]
  },
  {
   "cell_type": "code",
   "execution_count": 598,
   "metadata": {
    "tags": []
   },
   "outputs": [
    {
     "output_type": "execute_result",
     "data": {
      "text/plain": [
       "   value\n",
       "0     63"
      ],
      "text/html": "<div>\n<style scoped>\n    .dataframe tbody tr th:only-of-type {\n        vertical-align: middle;\n    }\n\n    .dataframe tbody tr th {\n        vertical-align: top;\n    }\n\n    .dataframe thead th {\n        text-align: right;\n    }\n</style>\n<table border=\"1\" class=\"dataframe\">\n  <thead>\n    <tr style=\"text-align: right;\">\n      <th></th>\n      <th>value</th>\n    </tr>\n  </thead>\n  <tbody>\n    <tr>\n      <th>0</th>\n      <td>63</td>\n    </tr>\n  </tbody>\n</table>\n</div>"
     },
     "metadata": {},
     "execution_count": 598
    }
   ],
   "source": [
    "url = insight_df['insightlink'][0]\n",
    "result1 = requests.get(url).json()\n",
    "result2 = pd.json_normalize(result1, ['data', 'values'])\n",
    "result2\n",
    "    "
   ]
  },
  {
   "cell_type": "code",
   "execution_count": 560,
   "metadata": {},
   "outputs": [
    {
     "output_type": "execute_result",
     "data": {
      "text/plain": [
       "'https://graph.facebook.com/v9.0/165419643537532_3697420720337389/insights/post_reactions_like_total?access_token=EAABnlB7bWhcBADmVfGPtRamJnZC7GnZCX0X2xNO7FAKPeb9voR28eSeSZAZB8tFltQ9chgo97vnNWqq4Vr14U11zDOhOEDYZC3rYTKPTRHeXpIzJQgDxqLDOvKBryLffQTqfb9zXFjPOOpPc3VTCNEW7WUDs3CIK6UgynNfTSj9zjwh0iGIq0aGl4OIoR3KWQQlvywhiTiQ6ih3D9fLq3'"
      ]
     },
     "metadata": {},
     "execution_count": 560
    }
   ],
   "source": [
    "insight_df['insightlink'][0]"
   ]
  },
  {
   "cell_type": "code",
   "execution_count": 604,
   "metadata": {},
   "outputs": [
    {
     "output_type": "error",
     "ename": "TypeError",
     "evalue": "tuple indices must be integers or slices, not str",
     "traceback": [
      "\u001b[0;31m---------------------------------------------------------------------------\u001b[0m",
      "\u001b[0;31mTypeError\u001b[0m                                 Traceback (most recent call last)",
      "\u001b[0;32m<ipython-input-604-fe9193371df9>\u001b[0m in \u001b[0;36m<module>\u001b[0;34m\u001b[0m\n\u001b[1;32m      1\u001b[0m \u001b[0;32mfor\u001b[0m \u001b[0murl\u001b[0m \u001b[0;32min\u001b[0m \u001b[0minsight_df\u001b[0m\u001b[0;34m.\u001b[0m\u001b[0miterrows\u001b[0m\u001b[0;34m(\u001b[0m\u001b[0;34m)\u001b[0m\u001b[0;34m:\u001b[0m\u001b[0;34m\u001b[0m\u001b[0;34m\u001b[0m\u001b[0m\n\u001b[0;32m----> 2\u001b[0;31m     \u001b[0mresult1\u001b[0m \u001b[0;34m=\u001b[0m \u001b[0mrequests\u001b[0m\u001b[0;34m.\u001b[0m\u001b[0mget\u001b[0m\u001b[0;34m(\u001b[0m\u001b[0murl\u001b[0m\u001b[0;34m[\u001b[0m\u001b[0;34m'insightlink'\u001b[0m\u001b[0;34m]\u001b[0m\u001b[0;34m)\u001b[0m\u001b[0;34m.\u001b[0m\u001b[0mjson\u001b[0m\u001b[0;34m(\u001b[0m\u001b[0;34m)\u001b[0m\u001b[0;34m\u001b[0m\u001b[0;34m\u001b[0m\u001b[0m\n\u001b[0m\u001b[1;32m      3\u001b[0m     \u001b[0mprint\u001b[0m\u001b[0;34m(\u001b[0m\u001b[0mresult1\u001b[0m\u001b[0;34m)\u001b[0m\u001b[0;34m\u001b[0m\u001b[0;34m\u001b[0m\u001b[0m\n",
      "\u001b[0;31mTypeError\u001b[0m: tuple indices must be integers or slices, not str"
     ]
    }
   ],
   "source": [
    "for url in insight_df.iterrows():\n",
    "    result1 = requests.get(url['insightlink']).json()\n",
    "    insight_df['likes'] = pd.json_normalize(result1, ['data', 'values'])"
   ]
  },
  {
   "cell_type": "code",
   "execution_count": 349,
   "metadata": {},
   "outputs": [],
   "source": [
    "graph = facebook.GraphAPI(access_token = \"EAABnlB7bWhcBAK2HPGqAnKai001M7GRmssEXgcs4zhpwKSEAkLA8JJtmWcYfHVZA3q6SJJzSvDR1f7ooHG3LsZBGi9SYhZBWW4Ey8R6vLZCGxOuwDlj8GIwhEUGNCf6lBoZArP1Ys4fuZAxZCZBQ3dokxESwu15GHHvAFARp5gGs0j5knW1ylZCSAyyumvlzU6NCgU6feXvkbJql00HzleiM5\", version=\"3.1\")"
   ]
  },
  {
   "cell_type": "code",
   "execution_count": 16,
   "metadata": {},
   "outputs": [
    {
     "output_type": "execute_result",
     "data": {
      "text/plain": [
       "{'id': '165419643537532_3697420720337389'}"
      ]
     },
     "metadata": {},
     "execution_count": 16
    }
   ],
   "source": [
    "post = graph.get_object(id='165419643537532_3697420720337389', fields='targeting')\n",
    "post"
   ]
  },
  {
   "cell_type": "code",
   "execution_count": 47,
   "metadata": {},
   "outputs": [
    {
     "output_type": "execute_result",
     "data": {
      "text/plain": [
       "{'shares': {'count': 10}, 'id': '165419643537532_3697420720337389'}"
      ]
     },
     "metadata": {},
     "execution_count": 47
    }
   ],
   "source": [
    "insights = graph.get_object(id=\"165419643537532_3697420720337389\", fields = \"shares\")\n",
    "insights"
   ]
  },
  {
   "cell_type": "code",
   "execution_count": 100,
   "metadata": {},
   "outputs": [
    {
     "output_type": "execute_result",
     "data": {
      "text/plain": [
       "{'data': [{'id': '165419643537532',\n",
       "   'name': 'U.S. Consulate General - Ho Chi Minh City',\n",
       "   'type': 'LIKE'}],\n",
       " 'paging': {'cursors': {'before': 'QVFIUjhCNllRQU1lV2p2UlVYXzNGeEZADTzJwMXB5TVFQOFdZAaW91VzVjeXBBS0wwdGpLMjN5YlVRSlJjUlVpTFF4NElJelBoN3V1c1lqcm9EU2U0S1hITDNB',\n",
       "   'after': 'QVFIUjRzZA2VxSEFpelRQM2JZAbnV2VHVPWmpTcDllbHY4TTFHaGhjWmlrcHF2bzlVWXlvMEtuSGlwN2xTVFViUG1MeVNTNVRteFNIUk9vdTlkSWdMMWc0U1ln'}}}"
      ]
     },
     "metadata": {},
     "execution_count": 100
    }
   ],
   "source": [
    "insights = graph.get_connections(id=\"165419643537532_179787395434090\", connection_name = \"reactions\")\n",
    "insights"
   ]
  },
  {
   "cell_type": "code",
   "execution_count": 60,
   "metadata": {},
   "outputs": [
    {
     "output_type": "execute_result",
     "data": {
      "text/plain": [
       "{'data': [{'id': '165419643537532',\n",
       "   'name': 'U.S. Consulate General - Ho Chi Minh City',\n",
       "   'type': 'LIKE'}],\n",
       " 'paging': {'cursors': {'before': 'QVFIUkVEOHJhT0xHYmV1djhmMEp6SlZANRjBxOGJnSU10RUNYREpGSXhPRWRuNkNnSUxZAVHl2ZA2d5VGJGWlFwLXdZAMlpGQzV6WENlZADFXc1R2YVhOUWtwT3NB',\n",
       "   'after': 'QVFIUmU5V0JDa0lqb3VUaXl5YW1jblg0bnBzaGdpZAUwtcG5KZAHZAFZAHEzVUUtd29hS2g4UVdJcGpsNmIyVndzNnFocEZAPYUd2VmZAhVURJNVNNQ0l1bUN0ODFn'},\n",
       "  'next': 'https://graph.facebook.com/v9.0/165419643537532_3690064061073055/reactions?access_token=EAABnlB7bWhcBADPZCtAlHMJaW8MdzuZCU7Krs08eqTZAalqAka1amgjSomdgNMFmH7jTWoxz6vaXOirtWNEFZC16iUr4hpt4Kg2mh8Ht06e2FlDpZAZB8EggBH4c0k6rv5OzPi9BzJVYzUPJBnDgPduoAQvsCe8t1EFNkvnoHUI1ZCnLvwxZC4N0CKSDGrYfUmjzShvlll1Aele0PjfxLshQ&limit=25&after=QVFIUmU5V0JDa0lqb3VUaXl5YW1jblg0bnBzaGdpZAUwtcG5KZAHZAFZAHEzVUUtd29hS2g4UVdJcGpsNmIyVndzNnFocEZAPYUd2VmZAhVURJNVNNQ0l1bUN0ODFn'}}"
      ]
     },
     "metadata": {},
     "execution_count": 60
    }
   ],
   "source": [
    "insights = graph.get_connections(id=\"165419643537532_3690064061073055\", connection_name = \"reactions\")\n",
    "insights"
   ]
  },
  {
   "cell_type": "code",
   "execution_count": 153,
   "metadata": {},
   "outputs": [
    {
     "output_type": "error",
     "ename": "GraphAPIError",
     "evalue": "(#803) Some of the aliases you requested do not exist: 0       165419643537532_3697420720337389\n1       165419643537532_3697304380349023\n2       165419643537532_3695161693896625\n3       165419643537532_3694477183965076\n4       165419643537532_3690108024401992\n                      ...               \n7028     165419643537532_179787395434090\n7029     165419643537532_179748328771330\n7030     165419643537532_178622235550606\n7031     165419643537532_177815448964618\n7037     165419643537532_174031516009678\nName: id, Length: 5425, dtype: object",
     "traceback": [
      "\u001b[0;31m---------------------------------------------------------------------------\u001b[0m",
      "\u001b[0;31mGraphAPIError\u001b[0m                             Traceback (most recent call last)",
      "\u001b[0;32m<ipython-input-153-ae390532f574>\u001b[0m in \u001b[0;36m<module>\u001b[0;34m\u001b[0m\n\u001b[0;32m----> 1\u001b[0;31m \u001b[0mdf\u001b[0m\u001b[0;34m[\u001b[0m\u001b[0;34m'insight'\u001b[0m\u001b[0;34m]\u001b[0m \u001b[0;34m=\u001b[0m \u001b[0mgraph\u001b[0m\u001b[0;34m.\u001b[0m\u001b[0mget_connections\u001b[0m\u001b[0;34m(\u001b[0m\u001b[0mid\u001b[0m\u001b[0;34m=\u001b[0m\u001b[0mdf\u001b[0m\u001b[0;34m.\u001b[0m\u001b[0mid\u001b[0m\u001b[0;34m,\u001b[0m \u001b[0mconnection_name\u001b[0m\u001b[0;34m=\u001b[0m\u001b[0;34m'insights'\u001b[0m\u001b[0;34m,\u001b[0m\u001b[0mmetric\u001b[0m\u001b[0;34m=\u001b[0m\u001b[0;34m'post_activity_by_action_type'\u001b[0m\u001b[0;34m,\u001b[0m \u001b[0mdate_preset\u001b[0m\u001b[0;34m=\u001b[0m\u001b[0;34m'yesterday'\u001b[0m\u001b[0;34m,\u001b[0m \u001b[0mperiod\u001b[0m\u001b[0;34m=\u001b[0m\u001b[0;34m'lifetime'\u001b[0m\u001b[0;34m,\u001b[0m \u001b[0mshow_description_from_api_doc\u001b[0m\u001b[0;34m=\u001b[0m\u001b[0;32mFalse\u001b[0m\u001b[0;34m)\u001b[0m\u001b[0;34m\u001b[0m\u001b[0;34m\u001b[0m\u001b[0m\n\u001b[0m\u001b[1;32m      2\u001b[0m \u001b[0mdf\u001b[0m\u001b[0;34m[\u001b[0m\u001b[0;34m'insight'\u001b[0m\u001b[0;34m]\u001b[0m\u001b[0;34m\u001b[0m\u001b[0;34m\u001b[0m\u001b[0m\n",
      "\u001b[0;32m/Library/Frameworks/Python.framework/Versions/3.8/lib/python3.8/site-packages/facebook/__init__.py\u001b[0m in \u001b[0;36mget_connections\u001b[0;34m(self, id, connection_name, **args)\u001b[0m\n\u001b[1;32m    147\u001b[0m     \u001b[0;32mdef\u001b[0m \u001b[0mget_connections\u001b[0m\u001b[0;34m(\u001b[0m\u001b[0mself\u001b[0m\u001b[0;34m,\u001b[0m \u001b[0mid\u001b[0m\u001b[0;34m,\u001b[0m \u001b[0mconnection_name\u001b[0m\u001b[0;34m,\u001b[0m \u001b[0;34m**\u001b[0m\u001b[0margs\u001b[0m\u001b[0;34m)\u001b[0m\u001b[0;34m:\u001b[0m\u001b[0;34m\u001b[0m\u001b[0;34m\u001b[0m\u001b[0m\n\u001b[1;32m    148\u001b[0m         \u001b[0;34m\"\"\"Fetches the connections for given object.\"\"\"\u001b[0m\u001b[0;34m\u001b[0m\u001b[0;34m\u001b[0m\u001b[0m\n\u001b[0;32m--> 149\u001b[0;31m         return self.request(\n\u001b[0m\u001b[1;32m    150\u001b[0m             \u001b[0;34m\"{0}/{1}/{2}\"\u001b[0m\u001b[0;34m.\u001b[0m\u001b[0mformat\u001b[0m\u001b[0;34m(\u001b[0m\u001b[0mself\u001b[0m\u001b[0;34m.\u001b[0m\u001b[0mversion\u001b[0m\u001b[0;34m,\u001b[0m \u001b[0mid\u001b[0m\u001b[0;34m,\u001b[0m \u001b[0mconnection_name\u001b[0m\u001b[0;34m)\u001b[0m\u001b[0;34m,\u001b[0m \u001b[0margs\u001b[0m\u001b[0;34m\u001b[0m\u001b[0;34m\u001b[0m\u001b[0m\n\u001b[1;32m    151\u001b[0m         )\n",
      "\u001b[0;32m/Library/Frameworks/Python.framework/Versions/3.8/lib/python3.8/site-packages/facebook/__init__.py\u001b[0m in \u001b[0;36mrequest\u001b[0;34m(self, path, args, post_args, files, method)\u001b[0m\n\u001b[1;32m    311\u001b[0m \u001b[0;34m\u001b[0m\u001b[0m\n\u001b[1;32m    312\u001b[0m         \u001b[0;32mif\u001b[0m \u001b[0mresult\u001b[0m \u001b[0;32mand\u001b[0m \u001b[0misinstance\u001b[0m\u001b[0;34m(\u001b[0m\u001b[0mresult\u001b[0m\u001b[0;34m,\u001b[0m \u001b[0mdict\u001b[0m\u001b[0;34m)\u001b[0m \u001b[0;32mand\u001b[0m \u001b[0mresult\u001b[0m\u001b[0;34m.\u001b[0m\u001b[0mget\u001b[0m\u001b[0;34m(\u001b[0m\u001b[0;34m\"error\"\u001b[0m\u001b[0;34m)\u001b[0m\u001b[0;34m:\u001b[0m\u001b[0;34m\u001b[0m\u001b[0;34m\u001b[0m\u001b[0m\n\u001b[0;32m--> 313\u001b[0;31m             \u001b[0;32mraise\u001b[0m \u001b[0mGraphAPIError\u001b[0m\u001b[0;34m(\u001b[0m\u001b[0mresult\u001b[0m\u001b[0;34m)\u001b[0m\u001b[0;34m\u001b[0m\u001b[0;34m\u001b[0m\u001b[0m\n\u001b[0m\u001b[1;32m    314\u001b[0m         \u001b[0;32mreturn\u001b[0m \u001b[0mresult\u001b[0m\u001b[0;34m\u001b[0m\u001b[0;34m\u001b[0m\u001b[0m\n\u001b[1;32m    315\u001b[0m \u001b[0;34m\u001b[0m\u001b[0m\n",
      "\u001b[0;31mGraphAPIError\u001b[0m: (#803) Some of the aliases you requested do not exist: 0       165419643537532_3697420720337389\n1       165419643537532_3697304380349023\n2       165419643537532_3695161693896625\n3       165419643537532_3694477183965076\n4       165419643537532_3690108024401992\n                      ...               \n7028     165419643537532_179787395434090\n7029     165419643537532_179748328771330\n7030     165419643537532_178622235550606\n7031     165419643537532_177815448964618\n7037     165419643537532_174031516009678\nName: id, Length: 5425, dtype: object"
     ]
    }
   ],
   "source": [
    "df['insight'] = graph.get_connections(id=df.id, connection_name='insights',metric='post_activity_by_action_type', date_preset='yesterday', period='lifetime', show_description_from_api_doc=False)\n",
    "df['insight']"
   ]
  },
  {
   "cell_type": "code",
   "execution_count": 144,
   "metadata": {},
   "outputs": [
    {
     "output_type": "execute_result",
     "data": {
      "text/plain": [
       "                  created_time  \\\n",
       "0     2021-02-04T09:08:00+0000   \n",
       "1     2021-02-04T07:08:00+0000   \n",
       "2     2021-02-04T03:08:00+0000   \n",
       "3     2021-02-03T08:08:00+0000   \n",
       "4     2021-02-03T03:08:00+0000   \n",
       "...                        ...   \n",
       "7028  2011-10-12T06:03:43+0000   \n",
       "7029  2011-10-12T03:02:01+0000   \n",
       "7030  2011-10-09T14:27:12+0000   \n",
       "7031  2011-10-07T14:04:52+0000   \n",
       "7037  2011-09-28T03:15:16+0000   \n",
       "\n",
       "                                                message  \\\n",
       "0     📣 The Online Book Request service will be clos...   \n",
       "1     Hôm nay là Ngày Thế giới Phòng chống Ung thư. ...   \n",
       "2     Khóa học kỹ năng thẩm định thông tin chuyên sâ...   \n",
       "3     #Bạncóbiết Shirley Chisholm là người phụ nữ Mỹ...   \n",
       "4     🌏♻️ Bạn quan tâm tới vấn đề rác thải nhựa? Chú...   \n",
       "...                                                 ...   \n",
       "7028  Let's makes friends with these students from S...   \n",
       "7029  Study of the United States Institutes (SUSI) f...   \n",
       "7030  Columbus Day\\nMonday, October 10, 2011\\n\\nThis...   \n",
       "7031  The American Center Ho Chi Minh City will be c...   \n",
       "7037  The American Center - Grand Opening September ...   \n",
       "\n",
       "                                    id story  \n",
       "0     165419643537532_3697420720337389   NaN  \n",
       "1     165419643537532_3697304380349023   NaN  \n",
       "2     165419643537532_3695161693896625   NaN  \n",
       "3     165419643537532_3694477183965076   NaN  \n",
       "4     165419643537532_3690108024401992   NaN  \n",
       "...                                ...   ...  \n",
       "7028   165419643537532_179787395434090   NaN  \n",
       "7029   165419643537532_179748328771330   NaN  \n",
       "7030   165419643537532_178622235550606   NaN  \n",
       "7031   165419643537532_177815448964618   NaN  \n",
       "7037   165419643537532_174031516009678   NaN  \n",
       "\n",
       "[5425 rows x 4 columns]"
      ],
      "text/html": "<div>\n<style scoped>\n    .dataframe tbody tr th:only-of-type {\n        vertical-align: middle;\n    }\n\n    .dataframe tbody tr th {\n        vertical-align: top;\n    }\n\n    .dataframe thead th {\n        text-align: right;\n    }\n</style>\n<table border=\"1\" class=\"dataframe\">\n  <thead>\n    <tr style=\"text-align: right;\">\n      <th></th>\n      <th>created_time</th>\n      <th>message</th>\n      <th>id</th>\n      <th>story</th>\n    </tr>\n  </thead>\n  <tbody>\n    <tr>\n      <th>0</th>\n      <td>2021-02-04T09:08:00+0000</td>\n      <td>📣 The Online Book Request service will be clos...</td>\n      <td>165419643537532_3697420720337389</td>\n      <td>NaN</td>\n    </tr>\n    <tr>\n      <th>1</th>\n      <td>2021-02-04T07:08:00+0000</td>\n      <td>Hôm nay là Ngày Thế giới Phòng chống Ung thư. ...</td>\n      <td>165419643537532_3697304380349023</td>\n      <td>NaN</td>\n    </tr>\n    <tr>\n      <th>2</th>\n      <td>2021-02-04T03:08:00+0000</td>\n      <td>Khóa học kỹ năng thẩm định thông tin chuyên sâ...</td>\n      <td>165419643537532_3695161693896625</td>\n      <td>NaN</td>\n    </tr>\n    <tr>\n      <th>3</th>\n      <td>2021-02-03T08:08:00+0000</td>\n      <td>#Bạncóbiết Shirley Chisholm là người phụ nữ Mỹ...</td>\n      <td>165419643537532_3694477183965076</td>\n      <td>NaN</td>\n    </tr>\n    <tr>\n      <th>4</th>\n      <td>2021-02-03T03:08:00+0000</td>\n      <td>🌏♻️ Bạn quan tâm tới vấn đề rác thải nhựa? Chú...</td>\n      <td>165419643537532_3690108024401992</td>\n      <td>NaN</td>\n    </tr>\n    <tr>\n      <th>...</th>\n      <td>...</td>\n      <td>...</td>\n      <td>...</td>\n      <td>...</td>\n    </tr>\n    <tr>\n      <th>7028</th>\n      <td>2011-10-12T06:03:43+0000</td>\n      <td>Let's makes friends with these students from S...</td>\n      <td>165419643537532_179787395434090</td>\n      <td>NaN</td>\n    </tr>\n    <tr>\n      <th>7029</th>\n      <td>2011-10-12T03:02:01+0000</td>\n      <td>Study of the United States Institutes (SUSI) f...</td>\n      <td>165419643537532_179748328771330</td>\n      <td>NaN</td>\n    </tr>\n    <tr>\n      <th>7030</th>\n      <td>2011-10-09T14:27:12+0000</td>\n      <td>Columbus Day\\nMonday, October 10, 2011\\n\\nThis...</td>\n      <td>165419643537532_178622235550606</td>\n      <td>NaN</td>\n    </tr>\n    <tr>\n      <th>7031</th>\n      <td>2011-10-07T14:04:52+0000</td>\n      <td>The American Center Ho Chi Minh City will be c...</td>\n      <td>165419643537532_177815448964618</td>\n      <td>NaN</td>\n    </tr>\n    <tr>\n      <th>7037</th>\n      <td>2011-09-28T03:15:16+0000</td>\n      <td>The American Center - Grand Opening September ...</td>\n      <td>165419643537532_174031516009678</td>\n      <td>NaN</td>\n    </tr>\n  </tbody>\n</table>\n<p>5425 rows × 4 columns</p>\n</div>"
     },
     "metadata": {},
     "execution_count": 144
    }
   ],
   "source": [
    "df"
   ]
  },
  {
   "cell_type": "code",
   "execution_count": 86,
   "metadata": {},
   "outputs": [
    {
     "output_type": "execute_result",
     "data": {
      "text/plain": [
       "11"
      ]
     },
     "metadata": {},
     "execution_count": 86
    }
   ],
   "source": [
    "insight['data'][0]['values'][0]['value']['share']"
   ]
  },
  {
   "cell_type": "code",
   "execution_count": 209,
   "metadata": {},
   "outputs": [
    {
     "output_type": "execute_result",
     "data": {
      "text/plain": [
       "array(['165419643537532_3697420720337389',\n",
       "       '165419643537532_3697304380349023',\n",
       "       '165419643537532_3695161693896625', ...,\n",
       "       '165419643537532_178622235550606',\n",
       "       '165419643537532_177815448964618',\n",
       "       '165419643537532_174031516009678'], dtype=object)"
      ]
     },
     "metadata": {},
     "execution_count": 209
    }
   ],
   "source": [
    "posts_array = df['id'].values\n",
    "posts_array"
   ]
  },
  {
   "cell_type": "code",
   "execution_count": 190,
   "metadata": {},
   "outputs": [
    {
     "output_type": "execute_result",
     "data": {
      "text/plain": [
       "'165419643537532_3697420720337389'"
      ]
     },
     "metadata": {},
     "execution_count": 190
    }
   ],
   "source": [
    "posts_array[0]"
   ]
  },
  {
   "cell_type": "code",
   "execution_count": 221,
   "metadata": {},
   "outputs": [
    {
     "output_type": "execute_result",
     "data": {
      "text/plain": [
       "0       165419643537532_3697420720337389\n",
       "1       165419643537532_3697304380349023\n",
       "2       165419643537532_3695161693896625\n",
       "3       165419643537532_3694477183965076\n",
       "4       165419643537532_3690108024401992\n",
       "                      ...               \n",
       "7028     165419643537532_179787395434090\n",
       "7029     165419643537532_179748328771330\n",
       "7030     165419643537532_178622235550606\n",
       "7031     165419643537532_177815448964618\n",
       "7037     165419643537532_174031516009678\n",
       "Name: id, Length: 5425, dtype: object"
      ]
     },
     "metadata": {},
     "execution_count": 221
    }
   ],
   "source": [
    "df['id']"
   ]
  },
  {
   "cell_type": "code",
   "execution_count": 213,
   "metadata": {},
   "outputs": [],
   "source": [
    "df['new_column'] = df['id'].astype('str') "
   ]
  },
  {
   "cell_type": "code",
   "execution_count": 222,
   "metadata": {},
   "outputs": [
    {
     "output_type": "execute_result",
     "data": {
      "text/plain": [
       "                  created_time  \\\n",
       "0     2021-02-04T09:08:00+0000   \n",
       "1     2021-02-04T07:08:00+0000   \n",
       "2     2021-02-04T03:08:00+0000   \n",
       "3     2021-02-03T08:08:00+0000   \n",
       "4     2021-02-03T03:08:00+0000   \n",
       "...                        ...   \n",
       "7028  2011-10-12T06:03:43+0000   \n",
       "7029  2011-10-12T03:02:01+0000   \n",
       "7030  2011-10-09T14:27:12+0000   \n",
       "7031  2011-10-07T14:04:52+0000   \n",
       "7037  2011-09-28T03:15:16+0000   \n",
       "\n",
       "                                                message  \\\n",
       "0     📣 The Online Book Request service will be clos...   \n",
       "1     Hôm nay là Ngày Thế giới Phòng chống Ung thư. ...   \n",
       "2     Khóa học kỹ năng thẩm định thông tin chuyên sâ...   \n",
       "3     #Bạncóbiết Shirley Chisholm là người phụ nữ Mỹ...   \n",
       "4     🌏♻️ Bạn quan tâm tới vấn đề rác thải nhựa? Chú...   \n",
       "...                                                 ...   \n",
       "7028  Let's makes friends with these students from S...   \n",
       "7029  Study of the United States Institutes (SUSI) f...   \n",
       "7030  Columbus Day\\nMonday, October 10, 2011\\n\\nThis...   \n",
       "7031  The American Center Ho Chi Minh City will be c...   \n",
       "7037  The American Center - Grand Opening September ...   \n",
       "\n",
       "                                    id story                        new_column  \n",
       "0     165419643537532_3697420720337389   NaN  165419643537532_3697420720337389  \n",
       "1     165419643537532_3697304380349023   NaN  165419643537532_3697304380349023  \n",
       "2     165419643537532_3695161693896625   NaN  165419643537532_3695161693896625  \n",
       "3     165419643537532_3694477183965076   NaN  165419643537532_3694477183965076  \n",
       "4     165419643537532_3690108024401992   NaN  165419643537532_3690108024401992  \n",
       "...                                ...   ...                               ...  \n",
       "7028   165419643537532_179787395434090   NaN   165419643537532_179787395434090  \n",
       "7029   165419643537532_179748328771330   NaN   165419643537532_179748328771330  \n",
       "7030   165419643537532_178622235550606   NaN   165419643537532_178622235550606  \n",
       "7031   165419643537532_177815448964618   NaN   165419643537532_177815448964618  \n",
       "7037   165419643537532_174031516009678   NaN   165419643537532_174031516009678  \n",
       "\n",
       "[5425 rows x 5 columns]"
      ],
      "text/html": "<div>\n<style scoped>\n    .dataframe tbody tr th:only-of-type {\n        vertical-align: middle;\n    }\n\n    .dataframe tbody tr th {\n        vertical-align: top;\n    }\n\n    .dataframe thead th {\n        text-align: right;\n    }\n</style>\n<table border=\"1\" class=\"dataframe\">\n  <thead>\n    <tr style=\"text-align: right;\">\n      <th></th>\n      <th>created_time</th>\n      <th>message</th>\n      <th>id</th>\n      <th>story</th>\n      <th>new_column</th>\n    </tr>\n  </thead>\n  <tbody>\n    <tr>\n      <th>0</th>\n      <td>2021-02-04T09:08:00+0000</td>\n      <td>📣 The Online Book Request service will be clos...</td>\n      <td>165419643537532_3697420720337389</td>\n      <td>NaN</td>\n      <td>165419643537532_3697420720337389</td>\n    </tr>\n    <tr>\n      <th>1</th>\n      <td>2021-02-04T07:08:00+0000</td>\n      <td>Hôm nay là Ngày Thế giới Phòng chống Ung thư. ...</td>\n      <td>165419643537532_3697304380349023</td>\n      <td>NaN</td>\n      <td>165419643537532_3697304380349023</td>\n    </tr>\n    <tr>\n      <th>2</th>\n      <td>2021-02-04T03:08:00+0000</td>\n      <td>Khóa học kỹ năng thẩm định thông tin chuyên sâ...</td>\n      <td>165419643537532_3695161693896625</td>\n      <td>NaN</td>\n      <td>165419643537532_3695161693896625</td>\n    </tr>\n    <tr>\n      <th>3</th>\n      <td>2021-02-03T08:08:00+0000</td>\n      <td>#Bạncóbiết Shirley Chisholm là người phụ nữ Mỹ...</td>\n      <td>165419643537532_3694477183965076</td>\n      <td>NaN</td>\n      <td>165419643537532_3694477183965076</td>\n    </tr>\n    <tr>\n      <th>4</th>\n      <td>2021-02-03T03:08:00+0000</td>\n      <td>🌏♻️ Bạn quan tâm tới vấn đề rác thải nhựa? Chú...</td>\n      <td>165419643537532_3690108024401992</td>\n      <td>NaN</td>\n      <td>165419643537532_3690108024401992</td>\n    </tr>\n    <tr>\n      <th>...</th>\n      <td>...</td>\n      <td>...</td>\n      <td>...</td>\n      <td>...</td>\n      <td>...</td>\n    </tr>\n    <tr>\n      <th>7028</th>\n      <td>2011-10-12T06:03:43+0000</td>\n      <td>Let's makes friends with these students from S...</td>\n      <td>165419643537532_179787395434090</td>\n      <td>NaN</td>\n      <td>165419643537532_179787395434090</td>\n    </tr>\n    <tr>\n      <th>7029</th>\n      <td>2011-10-12T03:02:01+0000</td>\n      <td>Study of the United States Institutes (SUSI) f...</td>\n      <td>165419643537532_179748328771330</td>\n      <td>NaN</td>\n      <td>165419643537532_179748328771330</td>\n    </tr>\n    <tr>\n      <th>7030</th>\n      <td>2011-10-09T14:27:12+0000</td>\n      <td>Columbus Day\\nMonday, October 10, 2011\\n\\nThis...</td>\n      <td>165419643537532_178622235550606</td>\n      <td>NaN</td>\n      <td>165419643537532_178622235550606</td>\n    </tr>\n    <tr>\n      <th>7031</th>\n      <td>2011-10-07T14:04:52+0000</td>\n      <td>The American Center Ho Chi Minh City will be c...</td>\n      <td>165419643537532_177815448964618</td>\n      <td>NaN</td>\n      <td>165419643537532_177815448964618</td>\n    </tr>\n    <tr>\n      <th>7037</th>\n      <td>2011-09-28T03:15:16+0000</td>\n      <td>The American Center - Grand Opening September ...</td>\n      <td>165419643537532_174031516009678</td>\n      <td>NaN</td>\n      <td>165419643537532_174031516009678</td>\n    </tr>\n  </tbody>\n</table>\n<p>5425 rows × 5 columns</p>\n</div>"
     },
     "metadata": {},
     "execution_count": 222
    }
   ],
   "source": [
    "df"
   ]
  },
  {
   "cell_type": "code",
   "execution_count": 199,
   "metadata": {},
   "outputs": [],
   "source": [
    "arraydf = df.to_numpy()"
   ]
  },
  {
   "cell_type": "code",
   "execution_count": 323,
   "metadata": {},
   "outputs": [
    {
     "output_type": "execute_result",
     "data": {
      "text/plain": [
       "                    created_time  \\\n",
       "0       2021-02-04T09:08:00+0000   \n",
       "1       2021-02-04T07:08:00+0000   \n",
       "2       2021-02-04T03:08:00+0000   \n",
       "3       2021-02-03T08:08:00+0000   \n",
       "4       2021-02-03T03:08:00+0000   \n",
       "...                          ...   \n",
       "7029    2011-10-12T03:02:01+0000   \n",
       "7030    2011-10-09T14:27:12+0000   \n",
       "7031    2011-10-07T14:04:52+0000   \n",
       "7037    2011-09-28T03:15:16+0000   \n",
       "shares                        14   \n",
       "\n",
       "                                                  message  \\\n",
       "0       📣 The Online Book Request service will be clos...   \n",
       "1       Hôm nay là Ngày Thế giới Phòng chống Ung thư. ...   \n",
       "2       Khóa học kỹ năng thẩm định thông tin chuyên sâ...   \n",
       "3       #Bạncóbiết Shirley Chisholm là người phụ nữ Mỹ...   \n",
       "4       🌏♻️ Bạn quan tâm tới vấn đề rác thải nhựa? Chú...   \n",
       "...                                                   ...   \n",
       "7029    Study of the United States Institutes (SUSI) f...   \n",
       "7030    Columbus Day\\nMonday, October 10, 2011\\n\\nThis...   \n",
       "7031    The American Center Ho Chi Minh City will be c...   \n",
       "7037    The American Center - Grand Opening September ...   \n",
       "shares                                                 14   \n",
       "\n",
       "                                      id likes  \n",
       "0       165419643537532_3697420720337389    76  \n",
       "1       165419643537532_3697304380349023   275  \n",
       "2       165419643537532_3695161693896625   116  \n",
       "3       165419643537532_3694477183965076   147  \n",
       "4       165419643537532_3690108024401992   202  \n",
       "...                                  ...   ...  \n",
       "7029     165419643537532_179748328771330        \n",
       "7030     165419643537532_178622235550606        \n",
       "7031     165419643537532_177815448964618        \n",
       "7037     165419643537532_174031516009678        \n",
       "shares                                14        \n",
       "\n",
       "[5426 rows x 4 columns]"
      ],
      "text/html": "<div>\n<style scoped>\n    .dataframe tbody tr th:only-of-type {\n        vertical-align: middle;\n    }\n\n    .dataframe tbody tr th {\n        vertical-align: top;\n    }\n\n    .dataframe thead th {\n        text-align: right;\n    }\n</style>\n<table border=\"1\" class=\"dataframe\">\n  <thead>\n    <tr style=\"text-align: right;\">\n      <th></th>\n      <th>created_time</th>\n      <th>message</th>\n      <th>id</th>\n      <th>likes</th>\n    </tr>\n  </thead>\n  <tbody>\n    <tr>\n      <th>0</th>\n      <td>2021-02-04T09:08:00+0000</td>\n      <td>📣 The Online Book Request service will be clos...</td>\n      <td>165419643537532_3697420720337389</td>\n      <td>76</td>\n    </tr>\n    <tr>\n      <th>1</th>\n      <td>2021-02-04T07:08:00+0000</td>\n      <td>Hôm nay là Ngày Thế giới Phòng chống Ung thư. ...</td>\n      <td>165419643537532_3697304380349023</td>\n      <td>275</td>\n    </tr>\n    <tr>\n      <th>2</th>\n      <td>2021-02-04T03:08:00+0000</td>\n      <td>Khóa học kỹ năng thẩm định thông tin chuyên sâ...</td>\n      <td>165419643537532_3695161693896625</td>\n      <td>116</td>\n    </tr>\n    <tr>\n      <th>3</th>\n      <td>2021-02-03T08:08:00+0000</td>\n      <td>#Bạncóbiết Shirley Chisholm là người phụ nữ Mỹ...</td>\n      <td>165419643537532_3694477183965076</td>\n      <td>147</td>\n    </tr>\n    <tr>\n      <th>4</th>\n      <td>2021-02-03T03:08:00+0000</td>\n      <td>🌏♻️ Bạn quan tâm tới vấn đề rác thải nhựa? Chú...</td>\n      <td>165419643537532_3690108024401992</td>\n      <td>202</td>\n    </tr>\n    <tr>\n      <th>...</th>\n      <td>...</td>\n      <td>...</td>\n      <td>...</td>\n      <td>...</td>\n    </tr>\n    <tr>\n      <th>7029</th>\n      <td>2011-10-12T03:02:01+0000</td>\n      <td>Study of the United States Institutes (SUSI) f...</td>\n      <td>165419643537532_179748328771330</td>\n      <td></td>\n    </tr>\n    <tr>\n      <th>7030</th>\n      <td>2011-10-09T14:27:12+0000</td>\n      <td>Columbus Day\\nMonday, October 10, 2011\\n\\nThis...</td>\n      <td>165419643537532_178622235550606</td>\n      <td></td>\n    </tr>\n    <tr>\n      <th>7031</th>\n      <td>2011-10-07T14:04:52+0000</td>\n      <td>The American Center Ho Chi Minh City will be c...</td>\n      <td>165419643537532_177815448964618</td>\n      <td></td>\n    </tr>\n    <tr>\n      <th>7037</th>\n      <td>2011-09-28T03:15:16+0000</td>\n      <td>The American Center - Grand Opening September ...</td>\n      <td>165419643537532_174031516009678</td>\n      <td></td>\n    </tr>\n    <tr>\n      <th>shares</th>\n      <td>14</td>\n      <td>14</td>\n      <td>14</td>\n      <td></td>\n    </tr>\n  </tbody>\n</table>\n<p>5426 rows × 4 columns</p>\n</div>"
     },
     "metadata": {},
     "execution_count": 323
    }
   ],
   "source": [
    "df"
   ]
  },
  {
   "cell_type": "code",
   "execution_count": 293,
   "metadata": {},
   "outputs": [
    {
     "output_type": "stream",
     "name": "stdout",
     "text": [
      "{}\n"
     ]
    }
   ],
   "source": [
    "insight = graph.get_connections(id='165419643537532_2146855768727233', connection_name='insights',metric='post_activity_by_action_type', date_preset='yesterday', period='lifetime', show_description_from_api_doc=False)\n",
    "print(insight['data'][0]['values'][0]['value'])"
   ]
  },
  {
   "cell_type": "code",
   "execution_count": 272,
   "metadata": {},
   "outputs": [],
   "source": [
    "df['likes'] = ''"
   ]
  },
  {
   "cell_type": "code",
   "execution_count": 321,
   "metadata": {},
   "outputs": [
    {
     "output_type": "error",
     "ename": "GraphAPIError",
     "evalue": "(#190) This method must be called with a Page Access Token",
     "traceback": [
      "\u001b[0;31m---------------------------------------------------------------------------\u001b[0m",
      "\u001b[0;31mGraphAPIError\u001b[0m                             Traceback (most recent call last)",
      "\u001b[0;32m<ipython-input-321-6fd6bf959ecc>\u001b[0m in \u001b[0;36m<module>\u001b[0;34m\u001b[0m\n\u001b[1;32m      1\u001b[0m \u001b[0;32mfor\u001b[0m \u001b[0mindex\u001b[0m\u001b[0;34m,\u001b[0m \u001b[0mrow\u001b[0m \u001b[0;32min\u001b[0m \u001b[0mdf\u001b[0m\u001b[0;34m[\u001b[0m\u001b[0mdf\u001b[0m\u001b[0;34m[\u001b[0m\u001b[0;34m'likes'\u001b[0m\u001b[0;34m]\u001b[0m \u001b[0;34m==\u001b[0m \u001b[0;34m''\u001b[0m\u001b[0;34m]\u001b[0m\u001b[0;34m.\u001b[0m\u001b[0miterrows\u001b[0m\u001b[0;34m(\u001b[0m\u001b[0;34m)\u001b[0m\u001b[0;34m:\u001b[0m\u001b[0;34m\u001b[0m\u001b[0;34m\u001b[0m\u001b[0m\n\u001b[0;32m----> 2\u001b[0;31m     \u001b[0minsight\u001b[0m \u001b[0;34m=\u001b[0m \u001b[0mgraph\u001b[0m\u001b[0;34m.\u001b[0m\u001b[0mget_connections\u001b[0m\u001b[0;34m(\u001b[0m\u001b[0mid\u001b[0m\u001b[0;34m=\u001b[0m\u001b[0mrow\u001b[0m\u001b[0;34m[\u001b[0m\u001b[0;34m'id'\u001b[0m\u001b[0;34m]\u001b[0m\u001b[0;34m,\u001b[0m \u001b[0mconnection_name\u001b[0m\u001b[0;34m=\u001b[0m\u001b[0;34m'insights'\u001b[0m\u001b[0;34m,\u001b[0m\u001b[0mmetric\u001b[0m\u001b[0;34m=\u001b[0m\u001b[0;34m'post_activity_by_action_type'\u001b[0m\u001b[0;34m,\u001b[0m \u001b[0mdate_preset\u001b[0m\u001b[0;34m=\u001b[0m\u001b[0;34m'yesterday'\u001b[0m\u001b[0;34m,\u001b[0m \u001b[0mperiod\u001b[0m\u001b[0;34m=\u001b[0m\u001b[0;34m'lifetime'\u001b[0m\u001b[0;34m,\u001b[0m \u001b[0mshow_description_from_api_doc\u001b[0m\u001b[0;34m=\u001b[0m\u001b[0;32mFalse\u001b[0m\u001b[0;34m)\u001b[0m\u001b[0;34m\u001b[0m\u001b[0;34m\u001b[0m\u001b[0m\n\u001b[0m\u001b[1;32m      3\u001b[0m     \u001b[0;32mif\u001b[0m \u001b[0mbool\u001b[0m\u001b[0;34m(\u001b[0m\u001b[0minsight\u001b[0m\u001b[0;34m[\u001b[0m\u001b[0;34m'data'\u001b[0m\u001b[0;34m]\u001b[0m\u001b[0;34m[\u001b[0m\u001b[0;36m0\u001b[0m\u001b[0;34m]\u001b[0m\u001b[0;34m[\u001b[0m\u001b[0;34m'values'\u001b[0m\u001b[0;34m]\u001b[0m\u001b[0;34m[\u001b[0m\u001b[0;36m0\u001b[0m\u001b[0;34m]\u001b[0m\u001b[0;34m[\u001b[0m\u001b[0;34m'value'\u001b[0m\u001b[0;34m]\u001b[0m\u001b[0;34m)\u001b[0m \u001b[0;34m==\u001b[0m \u001b[0;32mTrue\u001b[0m\u001b[0;34m:\u001b[0m\u001b[0;34m\u001b[0m\u001b[0;34m\u001b[0m\u001b[0m\n\u001b[1;32m      4\u001b[0m         \u001b[0mdf\u001b[0m\u001b[0;34m[\u001b[0m\u001b[0;34m'likes'\u001b[0m\u001b[0;34m]\u001b[0m\u001b[0;34m[\u001b[0m\u001b[0mindex\u001b[0m\u001b[0;34m]\u001b[0m \u001b[0;34m=\u001b[0m \u001b[0minsight\u001b[0m\u001b[0;34m[\u001b[0m\u001b[0;34m'data'\u001b[0m\u001b[0;34m]\u001b[0m\u001b[0;34m[\u001b[0m\u001b[0;36m0\u001b[0m\u001b[0;34m]\u001b[0m\u001b[0;34m[\u001b[0m\u001b[0;34m'values'\u001b[0m\u001b[0;34m]\u001b[0m\u001b[0;34m[\u001b[0m\u001b[0;36m0\u001b[0m\u001b[0;34m]\u001b[0m\u001b[0;34m[\u001b[0m\u001b[0;34m'value'\u001b[0m\u001b[0;34m]\u001b[0m\u001b[0;34m[\u001b[0m\u001b[0;34m'like'\u001b[0m\u001b[0;34m]\u001b[0m\u001b[0;34m\u001b[0m\u001b[0;34m\u001b[0m\u001b[0m\n",
      "\u001b[0;32m/Library/Frameworks/Python.framework/Versions/3.8/lib/python3.8/site-packages/facebook/__init__.py\u001b[0m in \u001b[0;36mget_connections\u001b[0;34m(self, id, connection_name, **args)\u001b[0m\n\u001b[1;32m    147\u001b[0m     \u001b[0;32mdef\u001b[0m \u001b[0mget_connections\u001b[0m\u001b[0;34m(\u001b[0m\u001b[0mself\u001b[0m\u001b[0;34m,\u001b[0m \u001b[0mid\u001b[0m\u001b[0;34m,\u001b[0m \u001b[0mconnection_name\u001b[0m\u001b[0;34m,\u001b[0m \u001b[0;34m**\u001b[0m\u001b[0margs\u001b[0m\u001b[0;34m)\u001b[0m\u001b[0;34m:\u001b[0m\u001b[0;34m\u001b[0m\u001b[0;34m\u001b[0m\u001b[0m\n\u001b[1;32m    148\u001b[0m         \u001b[0;34m\"\"\"Fetches the connections for given object.\"\"\"\u001b[0m\u001b[0;34m\u001b[0m\u001b[0;34m\u001b[0m\u001b[0m\n\u001b[0;32m--> 149\u001b[0;31m         return self.request(\n\u001b[0m\u001b[1;32m    150\u001b[0m             \u001b[0;34m\"{0}/{1}/{2}\"\u001b[0m\u001b[0;34m.\u001b[0m\u001b[0mformat\u001b[0m\u001b[0;34m(\u001b[0m\u001b[0mself\u001b[0m\u001b[0;34m.\u001b[0m\u001b[0mversion\u001b[0m\u001b[0;34m,\u001b[0m \u001b[0mid\u001b[0m\u001b[0;34m,\u001b[0m \u001b[0mconnection_name\u001b[0m\u001b[0;34m)\u001b[0m\u001b[0;34m,\u001b[0m \u001b[0margs\u001b[0m\u001b[0;34m\u001b[0m\u001b[0;34m\u001b[0m\u001b[0m\n\u001b[1;32m    151\u001b[0m         )\n",
      "\u001b[0;32m/Library/Frameworks/Python.framework/Versions/3.8/lib/python3.8/site-packages/facebook/__init__.py\u001b[0m in \u001b[0;36mrequest\u001b[0;34m(self, path, args, post_args, files, method)\u001b[0m\n\u001b[1;32m    311\u001b[0m \u001b[0;34m\u001b[0m\u001b[0m\n\u001b[1;32m    312\u001b[0m         \u001b[0;32mif\u001b[0m \u001b[0mresult\u001b[0m \u001b[0;32mand\u001b[0m \u001b[0misinstance\u001b[0m\u001b[0;34m(\u001b[0m\u001b[0mresult\u001b[0m\u001b[0;34m,\u001b[0m \u001b[0mdict\u001b[0m\u001b[0;34m)\u001b[0m \u001b[0;32mand\u001b[0m \u001b[0mresult\u001b[0m\u001b[0;34m.\u001b[0m\u001b[0mget\u001b[0m\u001b[0;34m(\u001b[0m\u001b[0;34m\"error\"\u001b[0m\u001b[0;34m)\u001b[0m\u001b[0;34m:\u001b[0m\u001b[0;34m\u001b[0m\u001b[0;34m\u001b[0m\u001b[0m\n\u001b[0;32m--> 313\u001b[0;31m             \u001b[0;32mraise\u001b[0m \u001b[0mGraphAPIError\u001b[0m\u001b[0;34m(\u001b[0m\u001b[0mresult\u001b[0m\u001b[0;34m)\u001b[0m\u001b[0;34m\u001b[0m\u001b[0;34m\u001b[0m\u001b[0m\n\u001b[0m\u001b[1;32m    314\u001b[0m         \u001b[0;32mreturn\u001b[0m \u001b[0mresult\u001b[0m\u001b[0;34m\u001b[0m\u001b[0;34m\u001b[0m\u001b[0m\n\u001b[1;32m    315\u001b[0m \u001b[0;34m\u001b[0m\u001b[0m\n",
      "\u001b[0;31mGraphAPIError\u001b[0m: (#190) This method must be called with a Page Access Token"
     ]
    }
   ],
   "source": [
    "for index, row in df[df['likes'] == ''].iterrows():\n",
    "    insight = graph.get_connections(id=row['id'], connection_name='insights',metric='post_activity_by_action_type', date_preset='yesterday', period='lifetime', show_description_from_api_doc=False)\n",
    "    if bool(insight['data'][0]['values'][0]['value']) == True:\n",
    "        df['likes'][index] = insight['data'][0]['values'][0]['value']['like']"
   ]
  },
  {
   "cell_type": "code",
   "execution_count": 328,
   "metadata": {},
   "outputs": [
    {
     "output_type": "error",
     "ename": "GraphAPIError",
     "evalue": "(#803) Some of the aliases you requested do not exist: 0         165419643537532_3697420720337389\n1         165419643537532_3697304380349023\n2         165419643537532_3695161693896625\n3         165419643537532_3694477183965076\n4         165419643537532_3690108024401992\n                        ...               \n7029       165419643537532_179748328771330\n7030       165419643537532_178622235550606\n7031       165419643537532_177815448964618\n7037       165419643537532_174031516009678\nshares                                  14\nName: id, Length: 5426, dtype: object",
     "traceback": [
      "\u001b[0;31m---------------------------------------------------------------------------\u001b[0m",
      "\u001b[0;31mGraphAPIError\u001b[0m                             Traceback (most recent call last)",
      "\u001b[0;32m<ipython-input-328-185fe89544de>\u001b[0m in \u001b[0;36m<module>\u001b[0;34m\u001b[0m\n\u001b[0;32m----> 1\u001b[0;31m \u001b[0mdf\u001b[0m\u001b[0;34m[\u001b[0m\u001b[0;34m\"likes\"\u001b[0m\u001b[0;34m]\u001b[0m \u001b[0;34m=\u001b[0m \u001b[0mdf\u001b[0m\u001b[0;34m[\u001b[0m\u001b[0mgraph\u001b[0m\u001b[0;34m.\u001b[0m\u001b[0mget_connections\u001b[0m\u001b[0;34m(\u001b[0m\u001b[0mid\u001b[0m\u001b[0;34m=\u001b[0m\u001b[0mdf\u001b[0m\u001b[0;34m[\u001b[0m\u001b[0;34m\"id\"\u001b[0m\u001b[0;34m]\u001b[0m\u001b[0;34m,\u001b[0m \u001b[0mconnection_name\u001b[0m\u001b[0;34m=\u001b[0m\u001b[0;34m'insights'\u001b[0m\u001b[0;34m,\u001b[0m\u001b[0mmetric\u001b[0m\u001b[0;34m=\u001b[0m\u001b[0;34m'post_activity_by_action_type'\u001b[0m\u001b[0;34m,\u001b[0m \u001b[0mdate_preset\u001b[0m\u001b[0;34m=\u001b[0m\u001b[0;34m'yesterday'\u001b[0m\u001b[0;34m,\u001b[0m \u001b[0mperiod\u001b[0m\u001b[0;34m=\u001b[0m\u001b[0;34m'lifetime'\u001b[0m\u001b[0;34m,\u001b[0m \u001b[0mshow_description_from_api_doc\u001b[0m\u001b[0;34m=\u001b[0m\u001b[0;32mFalse\u001b[0m\u001b[0;34m)\u001b[0m\u001b[0;34m]\u001b[0m\u001b[0;34m\u001b[0m\u001b[0;34m\u001b[0m\u001b[0m\n\u001b[0m",
      "\u001b[0;32m/Library/Frameworks/Python.framework/Versions/3.8/lib/python3.8/site-packages/facebook/__init__.py\u001b[0m in \u001b[0;36mget_connections\u001b[0;34m(self, id, connection_name, **args)\u001b[0m\n\u001b[1;32m    147\u001b[0m     \u001b[0;32mdef\u001b[0m \u001b[0mget_connections\u001b[0m\u001b[0;34m(\u001b[0m\u001b[0mself\u001b[0m\u001b[0;34m,\u001b[0m \u001b[0mid\u001b[0m\u001b[0;34m,\u001b[0m \u001b[0mconnection_name\u001b[0m\u001b[0;34m,\u001b[0m \u001b[0;34m**\u001b[0m\u001b[0margs\u001b[0m\u001b[0;34m)\u001b[0m\u001b[0;34m:\u001b[0m\u001b[0;34m\u001b[0m\u001b[0;34m\u001b[0m\u001b[0m\n\u001b[1;32m    148\u001b[0m         \u001b[0;34m\"\"\"Fetches the connections for given object.\"\"\"\u001b[0m\u001b[0;34m\u001b[0m\u001b[0;34m\u001b[0m\u001b[0m\n\u001b[0;32m--> 149\u001b[0;31m         return self.request(\n\u001b[0m\u001b[1;32m    150\u001b[0m             \u001b[0;34m\"{0}/{1}/{2}\"\u001b[0m\u001b[0;34m.\u001b[0m\u001b[0mformat\u001b[0m\u001b[0;34m(\u001b[0m\u001b[0mself\u001b[0m\u001b[0;34m.\u001b[0m\u001b[0mversion\u001b[0m\u001b[0;34m,\u001b[0m \u001b[0mid\u001b[0m\u001b[0;34m,\u001b[0m \u001b[0mconnection_name\u001b[0m\u001b[0;34m)\u001b[0m\u001b[0;34m,\u001b[0m \u001b[0margs\u001b[0m\u001b[0;34m\u001b[0m\u001b[0;34m\u001b[0m\u001b[0m\n\u001b[1;32m    151\u001b[0m         )\n",
      "\u001b[0;32m/Library/Frameworks/Python.framework/Versions/3.8/lib/python3.8/site-packages/facebook/__init__.py\u001b[0m in \u001b[0;36mrequest\u001b[0;34m(self, path, args, post_args, files, method)\u001b[0m\n\u001b[1;32m    311\u001b[0m \u001b[0;34m\u001b[0m\u001b[0m\n\u001b[1;32m    312\u001b[0m         \u001b[0;32mif\u001b[0m \u001b[0mresult\u001b[0m \u001b[0;32mand\u001b[0m \u001b[0misinstance\u001b[0m\u001b[0;34m(\u001b[0m\u001b[0mresult\u001b[0m\u001b[0;34m,\u001b[0m \u001b[0mdict\u001b[0m\u001b[0;34m)\u001b[0m \u001b[0;32mand\u001b[0m \u001b[0mresult\u001b[0m\u001b[0;34m.\u001b[0m\u001b[0mget\u001b[0m\u001b[0;34m(\u001b[0m\u001b[0;34m\"error\"\u001b[0m\u001b[0;34m)\u001b[0m\u001b[0;34m:\u001b[0m\u001b[0;34m\u001b[0m\u001b[0;34m\u001b[0m\u001b[0m\n\u001b[0;32m--> 313\u001b[0;31m             \u001b[0;32mraise\u001b[0m \u001b[0mGraphAPIError\u001b[0m\u001b[0;34m(\u001b[0m\u001b[0mresult\u001b[0m\u001b[0;34m)\u001b[0m\u001b[0;34m\u001b[0m\u001b[0;34m\u001b[0m\u001b[0m\n\u001b[0m\u001b[1;32m    314\u001b[0m         \u001b[0;32mreturn\u001b[0m \u001b[0mresult\u001b[0m\u001b[0;34m\u001b[0m\u001b[0;34m\u001b[0m\u001b[0m\n\u001b[1;32m    315\u001b[0m \u001b[0;34m\u001b[0m\u001b[0m\n",
      "\u001b[0;31mGraphAPIError\u001b[0m: (#803) Some of the aliases you requested do not exist: 0         165419643537532_3697420720337389\n1         165419643537532_3697304380349023\n2         165419643537532_3695161693896625\n3         165419643537532_3694477183965076\n4         165419643537532_3690108024401992\n                        ...               \n7029       165419643537532_179748328771330\n7030       165419643537532_178622235550606\n7031       165419643537532_177815448964618\n7037       165419643537532_174031516009678\nshares                                  14\nName: id, Length: 5426, dtype: object"
     ]
    }
   ],
   "source": [
    "df[\"likes\"] = df[graph.get_connections(id=df[\"id\"], connection_name='insights',metric='post_activity_by_action_type', date_preset='yesterday', period='lifetime', show_description_from_api_doc=False)]"
   ]
  },
  {
   "cell_type": "code",
   "execution_count": 338,
   "metadata": {},
   "outputs": [],
   "source": [
    "def return_likes(nid):\n",
    "    return graph.get_connections(nid, connection_name='insights',metric='post_activity_by_action_type', date_preset='yesterday', period='lifetime', show_description_from_api_doc=False)"
   ]
  },
  {
   "cell_type": "code",
   "execution_count": 350,
   "metadata": {},
   "outputs": [
    {
     "output_type": "error",
     "ename": "GraphAPIError",
     "evalue": "(#190) This method must be called with a Page Access Token",
     "traceback": [
      "\u001b[0;31m---------------------------------------------------------------------------\u001b[0m",
      "\u001b[0;31mGraphAPIError\u001b[0m                             Traceback (most recent call last)",
      "\u001b[0;32m<ipython-input-350-1cacba6ded76>\u001b[0m in \u001b[0;36m<module>\u001b[0;34m\u001b[0m\n\u001b[0;32m----> 1\u001b[0;31m \u001b[0mdf\u001b[0m\u001b[0;34m[\u001b[0m\u001b[0;34m'likes'\u001b[0m\u001b[0;34m]\u001b[0m \u001b[0;34m=\u001b[0m \u001b[0mdf\u001b[0m\u001b[0;34m[\u001b[0m\u001b[0;34m'id'\u001b[0m\u001b[0;34m]\u001b[0m\u001b[0;34m.\u001b[0m\u001b[0mapply\u001b[0m\u001b[0;34m(\u001b[0m\u001b[0mreturn_likes\u001b[0m\u001b[0;34m)\u001b[0m\u001b[0;34m\u001b[0m\u001b[0;34m\u001b[0m\u001b[0m\n\u001b[0m",
      "\u001b[0;32m/Library/Frameworks/Python.framework/Versions/3.8/lib/python3.8/site-packages/pandas/core/series.py\u001b[0m in \u001b[0;36mapply\u001b[0;34m(self, func, convert_dtype, args, **kwds)\u001b[0m\n\u001b[1;32m   4106\u001b[0m             \u001b[0;32melse\u001b[0m\u001b[0;34m:\u001b[0m\u001b[0;34m\u001b[0m\u001b[0;34m\u001b[0m\u001b[0m\n\u001b[1;32m   4107\u001b[0m                 \u001b[0mvalues\u001b[0m \u001b[0;34m=\u001b[0m \u001b[0mself\u001b[0m\u001b[0;34m.\u001b[0m\u001b[0mastype\u001b[0m\u001b[0;34m(\u001b[0m\u001b[0mobject\u001b[0m\u001b[0;34m)\u001b[0m\u001b[0;34m.\u001b[0m\u001b[0m_values\u001b[0m\u001b[0;34m\u001b[0m\u001b[0;34m\u001b[0m\u001b[0m\n\u001b[0;32m-> 4108\u001b[0;31m                 \u001b[0mmapped\u001b[0m \u001b[0;34m=\u001b[0m \u001b[0mlib\u001b[0m\u001b[0;34m.\u001b[0m\u001b[0mmap_infer\u001b[0m\u001b[0;34m(\u001b[0m\u001b[0mvalues\u001b[0m\u001b[0;34m,\u001b[0m \u001b[0mf\u001b[0m\u001b[0;34m,\u001b[0m \u001b[0mconvert\u001b[0m\u001b[0;34m=\u001b[0m\u001b[0mconvert_dtype\u001b[0m\u001b[0;34m)\u001b[0m\u001b[0;34m\u001b[0m\u001b[0;34m\u001b[0m\u001b[0m\n\u001b[0m\u001b[1;32m   4109\u001b[0m \u001b[0;34m\u001b[0m\u001b[0m\n\u001b[1;32m   4110\u001b[0m         \u001b[0;32mif\u001b[0m \u001b[0mlen\u001b[0m\u001b[0;34m(\u001b[0m\u001b[0mmapped\u001b[0m\u001b[0;34m)\u001b[0m \u001b[0;32mand\u001b[0m \u001b[0misinstance\u001b[0m\u001b[0;34m(\u001b[0m\u001b[0mmapped\u001b[0m\u001b[0;34m[\u001b[0m\u001b[0;36m0\u001b[0m\u001b[0;34m]\u001b[0m\u001b[0;34m,\u001b[0m \u001b[0mSeries\u001b[0m\u001b[0;34m)\u001b[0m\u001b[0;34m:\u001b[0m\u001b[0;34m\u001b[0m\u001b[0;34m\u001b[0m\u001b[0m\n",
      "\u001b[0;32mpandas/_libs/lib.pyx\u001b[0m in \u001b[0;36mpandas._libs.lib.map_infer\u001b[0;34m()\u001b[0m\n",
      "\u001b[0;32m<ipython-input-338-d92a698a9bd1>\u001b[0m in \u001b[0;36mreturn_likes\u001b[0;34m(nid)\u001b[0m\n\u001b[1;32m      1\u001b[0m \u001b[0;32mdef\u001b[0m \u001b[0mreturn_likes\u001b[0m\u001b[0;34m(\u001b[0m\u001b[0mnid\u001b[0m\u001b[0;34m)\u001b[0m\u001b[0;34m:\u001b[0m\u001b[0;34m\u001b[0m\u001b[0;34m\u001b[0m\u001b[0m\n\u001b[0;32m----> 2\u001b[0;31m     \u001b[0;32mreturn\u001b[0m \u001b[0mgraph\u001b[0m\u001b[0;34m.\u001b[0m\u001b[0mget_connections\u001b[0m\u001b[0;34m(\u001b[0m\u001b[0mnid\u001b[0m\u001b[0;34m,\u001b[0m \u001b[0mconnection_name\u001b[0m\u001b[0;34m=\u001b[0m\u001b[0;34m'insights'\u001b[0m\u001b[0;34m,\u001b[0m\u001b[0mmetric\u001b[0m\u001b[0;34m=\u001b[0m\u001b[0;34m'post_activity_by_action_type'\u001b[0m\u001b[0;34m,\u001b[0m \u001b[0mdate_preset\u001b[0m\u001b[0;34m=\u001b[0m\u001b[0;34m'yesterday'\u001b[0m\u001b[0;34m,\u001b[0m \u001b[0mperiod\u001b[0m\u001b[0;34m=\u001b[0m\u001b[0;34m'lifetime'\u001b[0m\u001b[0;34m,\u001b[0m \u001b[0mshow_description_from_api_doc\u001b[0m\u001b[0;34m=\u001b[0m\u001b[0;32mFalse\u001b[0m\u001b[0;34m)\u001b[0m\u001b[0;34m\u001b[0m\u001b[0;34m\u001b[0m\u001b[0m\n\u001b[0m",
      "\u001b[0;32m/Library/Frameworks/Python.framework/Versions/3.8/lib/python3.8/site-packages/facebook/__init__.py\u001b[0m in \u001b[0;36mget_connections\u001b[0;34m(self, id, connection_name, **args)\u001b[0m\n\u001b[1;32m    147\u001b[0m     \u001b[0;32mdef\u001b[0m \u001b[0mget_connections\u001b[0m\u001b[0;34m(\u001b[0m\u001b[0mself\u001b[0m\u001b[0;34m,\u001b[0m \u001b[0mid\u001b[0m\u001b[0;34m,\u001b[0m \u001b[0mconnection_name\u001b[0m\u001b[0;34m,\u001b[0m \u001b[0;34m**\u001b[0m\u001b[0margs\u001b[0m\u001b[0;34m)\u001b[0m\u001b[0;34m:\u001b[0m\u001b[0;34m\u001b[0m\u001b[0;34m\u001b[0m\u001b[0m\n\u001b[1;32m    148\u001b[0m         \u001b[0;34m\"\"\"Fetches the connections for given object.\"\"\"\u001b[0m\u001b[0;34m\u001b[0m\u001b[0;34m\u001b[0m\u001b[0m\n\u001b[0;32m--> 149\u001b[0;31m         return self.request(\n\u001b[0m\u001b[1;32m    150\u001b[0m             \u001b[0;34m\"{0}/{1}/{2}\"\u001b[0m\u001b[0;34m.\u001b[0m\u001b[0mformat\u001b[0m\u001b[0;34m(\u001b[0m\u001b[0mself\u001b[0m\u001b[0;34m.\u001b[0m\u001b[0mversion\u001b[0m\u001b[0;34m,\u001b[0m \u001b[0mid\u001b[0m\u001b[0;34m,\u001b[0m \u001b[0mconnection_name\u001b[0m\u001b[0;34m)\u001b[0m\u001b[0;34m,\u001b[0m \u001b[0margs\u001b[0m\u001b[0;34m\u001b[0m\u001b[0;34m\u001b[0m\u001b[0m\n\u001b[1;32m    151\u001b[0m         )\n",
      "\u001b[0;32m/Library/Frameworks/Python.framework/Versions/3.8/lib/python3.8/site-packages/facebook/__init__.py\u001b[0m in \u001b[0;36mrequest\u001b[0;34m(self, path, args, post_args, files, method)\u001b[0m\n\u001b[1;32m    311\u001b[0m \u001b[0;34m\u001b[0m\u001b[0m\n\u001b[1;32m    312\u001b[0m         \u001b[0;32mif\u001b[0m \u001b[0mresult\u001b[0m \u001b[0;32mand\u001b[0m \u001b[0misinstance\u001b[0m\u001b[0;34m(\u001b[0m\u001b[0mresult\u001b[0m\u001b[0;34m,\u001b[0m \u001b[0mdict\u001b[0m\u001b[0;34m)\u001b[0m \u001b[0;32mand\u001b[0m \u001b[0mresult\u001b[0m\u001b[0;34m.\u001b[0m\u001b[0mget\u001b[0m\u001b[0;34m(\u001b[0m\u001b[0;34m\"error\"\u001b[0m\u001b[0;34m)\u001b[0m\u001b[0;34m:\u001b[0m\u001b[0;34m\u001b[0m\u001b[0;34m\u001b[0m\u001b[0m\n\u001b[0;32m--> 313\u001b[0;31m             \u001b[0;32mraise\u001b[0m \u001b[0mGraphAPIError\u001b[0m\u001b[0;34m(\u001b[0m\u001b[0mresult\u001b[0m\u001b[0;34m)\u001b[0m\u001b[0;34m\u001b[0m\u001b[0;34m\u001b[0m\u001b[0m\n\u001b[0m\u001b[1;32m    314\u001b[0m         \u001b[0;32mreturn\u001b[0m \u001b[0mresult\u001b[0m\u001b[0;34m\u001b[0m\u001b[0;34m\u001b[0m\u001b[0m\n\u001b[1;32m    315\u001b[0m \u001b[0;34m\u001b[0m\u001b[0m\n",
      "\u001b[0;31mGraphAPIError\u001b[0m: (#190) This method must be called with a Page Access Token"
     ]
    }
   ],
   "source": [
    "df['likes'] = df['id'].apply(return_likes)"
   ]
  },
  {
   "cell_type": "code",
   "execution_count": 345,
   "metadata": {},
   "outputs": [
    {
     "output_type": "error",
     "ename": "GraphAPIError",
     "evalue": "(#190) This method must be called with a Page Access Token",
     "traceback": [
      "\u001b[0;31m---------------------------------------------------------------------------\u001b[0m",
      "\u001b[0;31mGraphAPIError\u001b[0m                             Traceback (most recent call last)",
      "\u001b[0;32m<ipython-input-345-e6e365dc049b>\u001b[0m in \u001b[0;36m<module>\u001b[0;34m\u001b[0m\n\u001b[0;32m----> 1\u001b[0;31m \u001b[0mdf\u001b[0m\u001b[0;34m[\u001b[0m\u001b[0;34m'likes'\u001b[0m\u001b[0;34m]\u001b[0m \u001b[0;34m=\u001b[0m \u001b[0mdf\u001b[0m\u001b[0;34m[\u001b[0m\u001b[0mdf\u001b[0m\u001b[0;34m[\u001b[0m\u001b[0;34m'likes'\u001b[0m\u001b[0;34m]\u001b[0m \u001b[0;34m==\u001b[0m \u001b[0;34m''\u001b[0m\u001b[0;34m]\u001b[0m\u001b[0;34m[\u001b[0m\u001b[0;34m'id'\u001b[0m\u001b[0;34m]\u001b[0m\u001b[0;34m.\u001b[0m\u001b[0mapply\u001b[0m\u001b[0;34m(\u001b[0m\u001b[0mreturn_likes\u001b[0m\u001b[0;34m)\u001b[0m\u001b[0;34m\u001b[0m\u001b[0;34m\u001b[0m\u001b[0m\n\u001b[0m",
      "\u001b[0;32m/Library/Frameworks/Python.framework/Versions/3.8/lib/python3.8/site-packages/pandas/core/series.py\u001b[0m in \u001b[0;36mapply\u001b[0;34m(self, func, convert_dtype, args, **kwds)\u001b[0m\n\u001b[1;32m   4106\u001b[0m             \u001b[0;32melse\u001b[0m\u001b[0;34m:\u001b[0m\u001b[0;34m\u001b[0m\u001b[0;34m\u001b[0m\u001b[0m\n\u001b[1;32m   4107\u001b[0m                 \u001b[0mvalues\u001b[0m \u001b[0;34m=\u001b[0m \u001b[0mself\u001b[0m\u001b[0;34m.\u001b[0m\u001b[0mastype\u001b[0m\u001b[0;34m(\u001b[0m\u001b[0mobject\u001b[0m\u001b[0;34m)\u001b[0m\u001b[0;34m.\u001b[0m\u001b[0m_values\u001b[0m\u001b[0;34m\u001b[0m\u001b[0;34m\u001b[0m\u001b[0m\n\u001b[0;32m-> 4108\u001b[0;31m                 \u001b[0mmapped\u001b[0m \u001b[0;34m=\u001b[0m \u001b[0mlib\u001b[0m\u001b[0;34m.\u001b[0m\u001b[0mmap_infer\u001b[0m\u001b[0;34m(\u001b[0m\u001b[0mvalues\u001b[0m\u001b[0;34m,\u001b[0m \u001b[0mf\u001b[0m\u001b[0;34m,\u001b[0m \u001b[0mconvert\u001b[0m\u001b[0;34m=\u001b[0m\u001b[0mconvert_dtype\u001b[0m\u001b[0;34m)\u001b[0m\u001b[0;34m\u001b[0m\u001b[0;34m\u001b[0m\u001b[0m\n\u001b[0m\u001b[1;32m   4109\u001b[0m \u001b[0;34m\u001b[0m\u001b[0m\n\u001b[1;32m   4110\u001b[0m         \u001b[0;32mif\u001b[0m \u001b[0mlen\u001b[0m\u001b[0;34m(\u001b[0m\u001b[0mmapped\u001b[0m\u001b[0;34m)\u001b[0m \u001b[0;32mand\u001b[0m \u001b[0misinstance\u001b[0m\u001b[0;34m(\u001b[0m\u001b[0mmapped\u001b[0m\u001b[0;34m[\u001b[0m\u001b[0;36m0\u001b[0m\u001b[0;34m]\u001b[0m\u001b[0;34m,\u001b[0m \u001b[0mSeries\u001b[0m\u001b[0;34m)\u001b[0m\u001b[0;34m:\u001b[0m\u001b[0;34m\u001b[0m\u001b[0;34m\u001b[0m\u001b[0m\n",
      "\u001b[0;32mpandas/_libs/lib.pyx\u001b[0m in \u001b[0;36mpandas._libs.lib.map_infer\u001b[0;34m()\u001b[0m\n",
      "\u001b[0;32m<ipython-input-338-d92a698a9bd1>\u001b[0m in \u001b[0;36mreturn_likes\u001b[0;34m(nid)\u001b[0m\n\u001b[1;32m      1\u001b[0m \u001b[0;32mdef\u001b[0m \u001b[0mreturn_likes\u001b[0m\u001b[0;34m(\u001b[0m\u001b[0mnid\u001b[0m\u001b[0;34m)\u001b[0m\u001b[0;34m:\u001b[0m\u001b[0;34m\u001b[0m\u001b[0;34m\u001b[0m\u001b[0m\n\u001b[0;32m----> 2\u001b[0;31m     \u001b[0;32mreturn\u001b[0m \u001b[0mgraph\u001b[0m\u001b[0;34m.\u001b[0m\u001b[0mget_connections\u001b[0m\u001b[0;34m(\u001b[0m\u001b[0mnid\u001b[0m\u001b[0;34m,\u001b[0m \u001b[0mconnection_name\u001b[0m\u001b[0;34m=\u001b[0m\u001b[0;34m'insights'\u001b[0m\u001b[0;34m,\u001b[0m\u001b[0mmetric\u001b[0m\u001b[0;34m=\u001b[0m\u001b[0;34m'post_activity_by_action_type'\u001b[0m\u001b[0;34m,\u001b[0m \u001b[0mdate_preset\u001b[0m\u001b[0;34m=\u001b[0m\u001b[0;34m'yesterday'\u001b[0m\u001b[0;34m,\u001b[0m \u001b[0mperiod\u001b[0m\u001b[0;34m=\u001b[0m\u001b[0;34m'lifetime'\u001b[0m\u001b[0;34m,\u001b[0m \u001b[0mshow_description_from_api_doc\u001b[0m\u001b[0;34m=\u001b[0m\u001b[0;32mFalse\u001b[0m\u001b[0;34m)\u001b[0m\u001b[0;34m\u001b[0m\u001b[0;34m\u001b[0m\u001b[0m\n\u001b[0m",
      "\u001b[0;32m/Library/Frameworks/Python.framework/Versions/3.8/lib/python3.8/site-packages/facebook/__init__.py\u001b[0m in \u001b[0;36mget_connections\u001b[0;34m(self, id, connection_name, **args)\u001b[0m\n\u001b[1;32m    147\u001b[0m     \u001b[0;32mdef\u001b[0m \u001b[0mget_connections\u001b[0m\u001b[0;34m(\u001b[0m\u001b[0mself\u001b[0m\u001b[0;34m,\u001b[0m \u001b[0mid\u001b[0m\u001b[0;34m,\u001b[0m \u001b[0mconnection_name\u001b[0m\u001b[0;34m,\u001b[0m \u001b[0;34m**\u001b[0m\u001b[0margs\u001b[0m\u001b[0;34m)\u001b[0m\u001b[0;34m:\u001b[0m\u001b[0;34m\u001b[0m\u001b[0;34m\u001b[0m\u001b[0m\n\u001b[1;32m    148\u001b[0m         \u001b[0;34m\"\"\"Fetches the connections for given object.\"\"\"\u001b[0m\u001b[0;34m\u001b[0m\u001b[0;34m\u001b[0m\u001b[0m\n\u001b[0;32m--> 149\u001b[0;31m         return self.request(\n\u001b[0m\u001b[1;32m    150\u001b[0m             \u001b[0;34m\"{0}/{1}/{2}\"\u001b[0m\u001b[0;34m.\u001b[0m\u001b[0mformat\u001b[0m\u001b[0;34m(\u001b[0m\u001b[0mself\u001b[0m\u001b[0;34m.\u001b[0m\u001b[0mversion\u001b[0m\u001b[0;34m,\u001b[0m \u001b[0mid\u001b[0m\u001b[0;34m,\u001b[0m \u001b[0mconnection_name\u001b[0m\u001b[0;34m)\u001b[0m\u001b[0;34m,\u001b[0m \u001b[0margs\u001b[0m\u001b[0;34m\u001b[0m\u001b[0;34m\u001b[0m\u001b[0m\n\u001b[1;32m    151\u001b[0m         )\n",
      "\u001b[0;32m/Library/Frameworks/Python.framework/Versions/3.8/lib/python3.8/site-packages/facebook/__init__.py\u001b[0m in \u001b[0;36mrequest\u001b[0;34m(self, path, args, post_args, files, method)\u001b[0m\n\u001b[1;32m    311\u001b[0m \u001b[0;34m\u001b[0m\u001b[0m\n\u001b[1;32m    312\u001b[0m         \u001b[0;32mif\u001b[0m \u001b[0mresult\u001b[0m \u001b[0;32mand\u001b[0m \u001b[0misinstance\u001b[0m\u001b[0;34m(\u001b[0m\u001b[0mresult\u001b[0m\u001b[0;34m,\u001b[0m \u001b[0mdict\u001b[0m\u001b[0;34m)\u001b[0m \u001b[0;32mand\u001b[0m \u001b[0mresult\u001b[0m\u001b[0;34m.\u001b[0m\u001b[0mget\u001b[0m\u001b[0;34m(\u001b[0m\u001b[0;34m\"error\"\u001b[0m\u001b[0;34m)\u001b[0m\u001b[0;34m:\u001b[0m\u001b[0;34m\u001b[0m\u001b[0;34m\u001b[0m\u001b[0m\n\u001b[0;32m--> 313\u001b[0;31m             \u001b[0;32mraise\u001b[0m \u001b[0mGraphAPIError\u001b[0m\u001b[0;34m(\u001b[0m\u001b[0mresult\u001b[0m\u001b[0;34m)\u001b[0m\u001b[0;34m\u001b[0m\u001b[0;34m\u001b[0m\u001b[0m\n\u001b[0m\u001b[1;32m    314\u001b[0m         \u001b[0;32mreturn\u001b[0m \u001b[0mresult\u001b[0m\u001b[0;34m\u001b[0m\u001b[0;34m\u001b[0m\u001b[0m\n\u001b[1;32m    315\u001b[0m \u001b[0;34m\u001b[0m\u001b[0m\n",
      "\u001b[0;31mGraphAPIError\u001b[0m: (#190) This method must be called with a Page Access Token"
     ]
    }
   ],
   "source": [
    "df['likes'] = df[df['likes'] == '']['id'].apply(return_likes)"
   ]
  },
  {
   "cell_type": "code",
   "execution_count": 346,
   "metadata": {},
   "outputs": [
    {
     "output_type": "execute_result",
     "data": {
      "text/plain": [
       "                    created_time  \\\n",
       "1824    2019-03-28T02:46:44+0000   \n",
       "1864    2019-03-08T02:43:42+0000   \n",
       "1893    2019-02-17T05:35:51+0000   \n",
       "1907    2019-02-12T02:09:32+0000   \n",
       "1915    2019-02-01T00:53:56+0000   \n",
       "...                          ...   \n",
       "7029    2011-10-12T03:02:01+0000   \n",
       "7030    2011-10-09T14:27:12+0000   \n",
       "7031    2011-10-07T14:04:52+0000   \n",
       "7037    2011-09-28T03:15:16+0000   \n",
       "shares                        14   \n",
       "\n",
       "                                                  message  \\\n",
       "1824    Cherry Blossoms on National Mall with the D.C....   \n",
       "1864    March is Women’s History Month in the United S...   \n",
       "1893    Đã bao lâu rồi ta không gặp nhau? Sau một thời...   \n",
       "1907    Denali (\"The Great One\") \\n\\nDenali, named Mou...   \n",
       "1915    Wildflowers in King Range National Conservatio...   \n",
       "...                                                   ...   \n",
       "7029    Study of the United States Institutes (SUSI) f...   \n",
       "7030    Columbus Day\\nMonday, October 10, 2011\\n\\nThis...   \n",
       "7031    The American Center Ho Chi Minh City will be c...   \n",
       "7037    The American Center - Grand Opening September ...   \n",
       "shares                                                 14   \n",
       "\n",
       "                                      id likes  \n",
       "1824    165419643537532_2146855768727233        \n",
       "1864    165419643537532_2119039544842189        \n",
       "1893    165419643537532_2091012240978253        \n",
       "1907    165419643537532_2082215305191280        \n",
       "1915    165419643537532_2066342073445270        \n",
       "...                                  ...   ...  \n",
       "7029     165419643537532_179748328771330        \n",
       "7030     165419643537532_178622235550606        \n",
       "7031     165419643537532_177815448964618        \n",
       "7037     165419643537532_174031516009678        \n",
       "shares                                14        \n",
       "\n",
       "[3025 rows x 4 columns]"
      ],
      "text/html": "<div>\n<style scoped>\n    .dataframe tbody tr th:only-of-type {\n        vertical-align: middle;\n    }\n\n    .dataframe tbody tr th {\n        vertical-align: top;\n    }\n\n    .dataframe thead th {\n        text-align: right;\n    }\n</style>\n<table border=\"1\" class=\"dataframe\">\n  <thead>\n    <tr style=\"text-align: right;\">\n      <th></th>\n      <th>created_time</th>\n      <th>message</th>\n      <th>id</th>\n      <th>likes</th>\n    </tr>\n  </thead>\n  <tbody>\n    <tr>\n      <th>1824</th>\n      <td>2019-03-28T02:46:44+0000</td>\n      <td>Cherry Blossoms on National Mall with the D.C....</td>\n      <td>165419643537532_2146855768727233</td>\n      <td></td>\n    </tr>\n    <tr>\n      <th>1864</th>\n      <td>2019-03-08T02:43:42+0000</td>\n      <td>March is Women’s History Month in the United S...</td>\n      <td>165419643537532_2119039544842189</td>\n      <td></td>\n    </tr>\n    <tr>\n      <th>1893</th>\n      <td>2019-02-17T05:35:51+0000</td>\n      <td>Đã bao lâu rồi ta không gặp nhau? Sau một thời...</td>\n      <td>165419643537532_2091012240978253</td>\n      <td></td>\n    </tr>\n    <tr>\n      <th>1907</th>\n      <td>2019-02-12T02:09:32+0000</td>\n      <td>Denali (\"The Great One\") \\n\\nDenali, named Mou...</td>\n      <td>165419643537532_2082215305191280</td>\n      <td></td>\n    </tr>\n    <tr>\n      <th>1915</th>\n      <td>2019-02-01T00:53:56+0000</td>\n      <td>Wildflowers in King Range National Conservatio...</td>\n      <td>165419643537532_2066342073445270</td>\n      <td></td>\n    </tr>\n    <tr>\n      <th>...</th>\n      <td>...</td>\n      <td>...</td>\n      <td>...</td>\n      <td>...</td>\n    </tr>\n    <tr>\n      <th>7029</th>\n      <td>2011-10-12T03:02:01+0000</td>\n      <td>Study of the United States Institutes (SUSI) f...</td>\n      <td>165419643537532_179748328771330</td>\n      <td></td>\n    </tr>\n    <tr>\n      <th>7030</th>\n      <td>2011-10-09T14:27:12+0000</td>\n      <td>Columbus Day\\nMonday, October 10, 2011\\n\\nThis...</td>\n      <td>165419643537532_178622235550606</td>\n      <td></td>\n    </tr>\n    <tr>\n      <th>7031</th>\n      <td>2011-10-07T14:04:52+0000</td>\n      <td>The American Center Ho Chi Minh City will be c...</td>\n      <td>165419643537532_177815448964618</td>\n      <td></td>\n    </tr>\n    <tr>\n      <th>7037</th>\n      <td>2011-09-28T03:15:16+0000</td>\n      <td>The American Center - Grand Opening September ...</td>\n      <td>165419643537532_174031516009678</td>\n      <td></td>\n    </tr>\n    <tr>\n      <th>shares</th>\n      <td>14</td>\n      <td>14</td>\n      <td>14</td>\n      <td></td>\n    </tr>\n  </tbody>\n</table>\n<p>3025 rows × 4 columns</p>\n</div>"
     },
     "metadata": {},
     "execution_count": 346
    }
   ],
   "source": [
    "df[df['likes'] == '']"
   ]
  },
  {
   "cell_type": "code",
   "execution_count": 327,
   "metadata": {},
   "outputs": [
    {
     "output_type": "execute_result",
     "data": {
      "text/plain": [
       "                    created_time  \\\n",
       "0       2021-02-04T09:08:00+0000   \n",
       "1       2021-02-04T07:08:00+0000   \n",
       "2       2021-02-04T03:08:00+0000   \n",
       "3       2021-02-03T08:08:00+0000   \n",
       "4       2021-02-03T03:08:00+0000   \n",
       "...                          ...   \n",
       "7029    2011-10-12T03:02:01+0000   \n",
       "7030    2011-10-09T14:27:12+0000   \n",
       "7031    2011-10-07T14:04:52+0000   \n",
       "7037    2011-09-28T03:15:16+0000   \n",
       "shares                        14   \n",
       "\n",
       "                                                  message  \\\n",
       "0       📣 The Online Book Request service will be clos...   \n",
       "1       Hôm nay là Ngày Thế giới Phòng chống Ung thư. ...   \n",
       "2       Khóa học kỹ năng thẩm định thông tin chuyên sâ...   \n",
       "3       #Bạncóbiết Shirley Chisholm là người phụ nữ Mỹ...   \n",
       "4       🌏♻️ Bạn quan tâm tới vấn đề rác thải nhựa? Chú...   \n",
       "...                                                   ...   \n",
       "7029    Study of the United States Institutes (SUSI) f...   \n",
       "7030    Columbus Day\\nMonday, October 10, 2011\\n\\nThis...   \n",
       "7031    The American Center Ho Chi Minh City will be c...   \n",
       "7037    The American Center - Grand Opening September ...   \n",
       "shares                                                 14   \n",
       "\n",
       "                                      id likes  \n",
       "0       165419643537532_3697420720337389    76  \n",
       "1       165419643537532_3697304380349023   275  \n",
       "2       165419643537532_3695161693896625   116  \n",
       "3       165419643537532_3694477183965076   147  \n",
       "4       165419643537532_3690108024401992   202  \n",
       "...                                  ...   ...  \n",
       "7029     165419643537532_179748328771330        \n",
       "7030     165419643537532_178622235550606        \n",
       "7031     165419643537532_177815448964618        \n",
       "7037     165419643537532_174031516009678        \n",
       "shares                                14        \n",
       "\n",
       "[5426 rows x 4 columns]"
      ],
      "text/html": "<div>\n<style scoped>\n    .dataframe tbody tr th:only-of-type {\n        vertical-align: middle;\n    }\n\n    .dataframe tbody tr th {\n        vertical-align: top;\n    }\n\n    .dataframe thead th {\n        text-align: right;\n    }\n</style>\n<table border=\"1\" class=\"dataframe\">\n  <thead>\n    <tr style=\"text-align: right;\">\n      <th></th>\n      <th>created_time</th>\n      <th>message</th>\n      <th>id</th>\n      <th>likes</th>\n    </tr>\n  </thead>\n  <tbody>\n    <tr>\n      <th>0</th>\n      <td>2021-02-04T09:08:00+0000</td>\n      <td>📣 The Online Book Request service will be clos...</td>\n      <td>165419643537532_3697420720337389</td>\n      <td>76</td>\n    </tr>\n    <tr>\n      <th>1</th>\n      <td>2021-02-04T07:08:00+0000</td>\n      <td>Hôm nay là Ngày Thế giới Phòng chống Ung thư. ...</td>\n      <td>165419643537532_3697304380349023</td>\n      <td>275</td>\n    </tr>\n    <tr>\n      <th>2</th>\n      <td>2021-02-04T03:08:00+0000</td>\n      <td>Khóa học kỹ năng thẩm định thông tin chuyên sâ...</td>\n      <td>165419643537532_3695161693896625</td>\n      <td>116</td>\n    </tr>\n    <tr>\n      <th>3</th>\n      <td>2021-02-03T08:08:00+0000</td>\n      <td>#Bạncóbiết Shirley Chisholm là người phụ nữ Mỹ...</td>\n      <td>165419643537532_3694477183965076</td>\n      <td>147</td>\n    </tr>\n    <tr>\n      <th>4</th>\n      <td>2021-02-03T03:08:00+0000</td>\n      <td>🌏♻️ Bạn quan tâm tới vấn đề rác thải nhựa? Chú...</td>\n      <td>165419643537532_3690108024401992</td>\n      <td>202</td>\n    </tr>\n    <tr>\n      <th>...</th>\n      <td>...</td>\n      <td>...</td>\n      <td>...</td>\n      <td>...</td>\n    </tr>\n    <tr>\n      <th>7029</th>\n      <td>2011-10-12T03:02:01+0000</td>\n      <td>Study of the United States Institutes (SUSI) f...</td>\n      <td>165419643537532_179748328771330</td>\n      <td></td>\n    </tr>\n    <tr>\n      <th>7030</th>\n      <td>2011-10-09T14:27:12+0000</td>\n      <td>Columbus Day\\nMonday, October 10, 2011\\n\\nThis...</td>\n      <td>165419643537532_178622235550606</td>\n      <td></td>\n    </tr>\n    <tr>\n      <th>7031</th>\n      <td>2011-10-07T14:04:52+0000</td>\n      <td>The American Center Ho Chi Minh City will be c...</td>\n      <td>165419643537532_177815448964618</td>\n      <td></td>\n    </tr>\n    <tr>\n      <th>7037</th>\n      <td>2011-09-28T03:15:16+0000</td>\n      <td>The American Center - Grand Opening September ...</td>\n      <td>165419643537532_174031516009678</td>\n      <td></td>\n    </tr>\n    <tr>\n      <th>shares</th>\n      <td>14</td>\n      <td>14</td>\n      <td>14</td>\n      <td></td>\n    </tr>\n  </tbody>\n</table>\n<p>5426 rows × 4 columns</p>\n</div>"
     },
     "metadata": {},
     "execution_count": 327
    }
   ],
   "source": [
    "df"
   ]
  },
  {
   "cell_type": "code",
   "execution_count": 281,
   "metadata": {
    "tags": []
   },
   "outputs": [
    {
     "output_type": "execute_result",
     "data": {
      "text/plain": [
       "                    created_time  \\\n",
       "0       2021-02-04T09:08:00+0000   \n",
       "1       2021-02-04T07:08:00+0000   \n",
       "2       2021-02-04T03:08:00+0000   \n",
       "3       2021-02-03T08:08:00+0000   \n",
       "4       2021-02-03T03:08:00+0000   \n",
       "...                          ...   \n",
       "7029    2011-10-12T03:02:01+0000   \n",
       "7030    2011-10-09T14:27:12+0000   \n",
       "7031    2011-10-07T14:04:52+0000   \n",
       "7037    2011-09-28T03:15:16+0000   \n",
       "shares                        14   \n",
       "\n",
       "                                                  message  \\\n",
       "0       📣 The Online Book Request service will be clos...   \n",
       "1       Hôm nay là Ngày Thế giới Phòng chống Ung thư. ...   \n",
       "2       Khóa học kỹ năng thẩm định thông tin chuyên sâ...   \n",
       "3       #Bạncóbiết Shirley Chisholm là người phụ nữ Mỹ...   \n",
       "4       🌏♻️ Bạn quan tâm tới vấn đề rác thải nhựa? Chú...   \n",
       "...                                                   ...   \n",
       "7029    Study of the United States Institutes (SUSI) f...   \n",
       "7030    Columbus Day\\nMonday, October 10, 2011\\n\\nThis...   \n",
       "7031    The American Center Ho Chi Minh City will be c...   \n",
       "7037    The American Center - Grand Opening September ...   \n",
       "shares                                                 14   \n",
       "\n",
       "                                      id story likes  \n",
       "0       165419643537532_3697420720337389   NaN    76  \n",
       "1       165419643537532_3697304380349023   NaN   275  \n",
       "2       165419643537532_3695161693896625   NaN   116  \n",
       "3       165419643537532_3694477183965076   NaN   147  \n",
       "4       165419643537532_3690108024401992   NaN   202  \n",
       "...                                  ...   ...   ...  \n",
       "7029     165419643537532_179748328771330   NaN        \n",
       "7030     165419643537532_178622235550606   NaN        \n",
       "7031     165419643537532_177815448964618   NaN        \n",
       "7037     165419643537532_174031516009678   NaN        \n",
       "shares                                14    14        \n",
       "\n",
       "[5426 rows x 5 columns]"
      ],
      "text/html": "<div>\n<style scoped>\n    .dataframe tbody tr th:only-of-type {\n        vertical-align: middle;\n    }\n\n    .dataframe tbody tr th {\n        vertical-align: top;\n    }\n\n    .dataframe thead th {\n        text-align: right;\n    }\n</style>\n<table border=\"1\" class=\"dataframe\">\n  <thead>\n    <tr style=\"text-align: right;\">\n      <th></th>\n      <th>created_time</th>\n      <th>message</th>\n      <th>id</th>\n      <th>story</th>\n      <th>likes</th>\n    </tr>\n  </thead>\n  <tbody>\n    <tr>\n      <th>0</th>\n      <td>2021-02-04T09:08:00+0000</td>\n      <td>📣 The Online Book Request service will be clos...</td>\n      <td>165419643537532_3697420720337389</td>\n      <td>NaN</td>\n      <td>76</td>\n    </tr>\n    <tr>\n      <th>1</th>\n      <td>2021-02-04T07:08:00+0000</td>\n      <td>Hôm nay là Ngày Thế giới Phòng chống Ung thư. ...</td>\n      <td>165419643537532_3697304380349023</td>\n      <td>NaN</td>\n      <td>275</td>\n    </tr>\n    <tr>\n      <th>2</th>\n      <td>2021-02-04T03:08:00+0000</td>\n      <td>Khóa học kỹ năng thẩm định thông tin chuyên sâ...</td>\n      <td>165419643537532_3695161693896625</td>\n      <td>NaN</td>\n      <td>116</td>\n    </tr>\n    <tr>\n      <th>3</th>\n      <td>2021-02-03T08:08:00+0000</td>\n      <td>#Bạncóbiết Shirley Chisholm là người phụ nữ Mỹ...</td>\n      <td>165419643537532_3694477183965076</td>\n      <td>NaN</td>\n      <td>147</td>\n    </tr>\n    <tr>\n      <th>4</th>\n      <td>2021-02-03T03:08:00+0000</td>\n      <td>🌏♻️ Bạn quan tâm tới vấn đề rác thải nhựa? Chú...</td>\n      <td>165419643537532_3690108024401992</td>\n      <td>NaN</td>\n      <td>202</td>\n    </tr>\n    <tr>\n      <th>...</th>\n      <td>...</td>\n      <td>...</td>\n      <td>...</td>\n      <td>...</td>\n      <td>...</td>\n    </tr>\n    <tr>\n      <th>7029</th>\n      <td>2011-10-12T03:02:01+0000</td>\n      <td>Study of the United States Institutes (SUSI) f...</td>\n      <td>165419643537532_179748328771330</td>\n      <td>NaN</td>\n      <td></td>\n    </tr>\n    <tr>\n      <th>7030</th>\n      <td>2011-10-09T14:27:12+0000</td>\n      <td>Columbus Day\\nMonday, October 10, 2011\\n\\nThis...</td>\n      <td>165419643537532_178622235550606</td>\n      <td>NaN</td>\n      <td></td>\n    </tr>\n    <tr>\n      <th>7031</th>\n      <td>2011-10-07T14:04:52+0000</td>\n      <td>The American Center Ho Chi Minh City will be c...</td>\n      <td>165419643537532_177815448964618</td>\n      <td>NaN</td>\n      <td></td>\n    </tr>\n    <tr>\n      <th>7037</th>\n      <td>2011-09-28T03:15:16+0000</td>\n      <td>The American Center - Grand Opening September ...</td>\n      <td>165419643537532_174031516009678</td>\n      <td>NaN</td>\n      <td></td>\n    </tr>\n    <tr>\n      <th>shares</th>\n      <td>14</td>\n      <td>14</td>\n      <td>14</td>\n      <td>14</td>\n      <td></td>\n    </tr>\n  </tbody>\n</table>\n<p>5426 rows × 5 columns</p>\n</div>"
     },
     "metadata": {},
     "execution_count": 281
    }
   ],
   "source": [
    "df.drop"
   ]
  },
  {
   "cell_type": "code",
   "execution_count": 210,
   "metadata": {},
   "outputs": [
    {
     "output_type": "error",
     "ename": "GraphAPIError",
     "evalue": "(#803) Some of the aliases you requested do not exist: ['165419643537532_3697420720337389' '165419643537532_3697304380349023'\n '165419643537532_3695161693896625' ... '165419643537532_178622235550606'\n '165419643537532_177815448964618' '165419643537532_174031516009678']",
     "traceback": [
      "\u001b[0;31m---------------------------------------------------------------------------\u001b[0m",
      "\u001b[0;31mGraphAPIError\u001b[0m                             Traceback (most recent call last)",
      "\u001b[0;32m<ipython-input-210-a5975b0e9b06>\u001b[0m in \u001b[0;36m<module>\u001b[0;34m\u001b[0m\n\u001b[0;32m----> 1\u001b[0;31m \u001b[0minsight\u001b[0m \u001b[0;34m=\u001b[0m \u001b[0mgraph\u001b[0m\u001b[0;34m.\u001b[0m\u001b[0mget_connections\u001b[0m\u001b[0;34m(\u001b[0m\u001b[0mid\u001b[0m\u001b[0;34m=\u001b[0m\u001b[0mdf\u001b[0m\u001b[0;34m[\u001b[0m\u001b[0;34m'id'\u001b[0m\u001b[0;34m]\u001b[0m\u001b[0;34m.\u001b[0m\u001b[0mvalues\u001b[0m\u001b[0;34m,\u001b[0m \u001b[0mconnection_name\u001b[0m\u001b[0;34m=\u001b[0m\u001b[0;34m'insights'\u001b[0m\u001b[0;34m,\u001b[0m\u001b[0mmetric\u001b[0m\u001b[0;34m=\u001b[0m\u001b[0;34m'post_activity_by_action_type'\u001b[0m\u001b[0;34m,\u001b[0m \u001b[0mdate_preset\u001b[0m\u001b[0;34m=\u001b[0m\u001b[0;34m'yesterday'\u001b[0m\u001b[0;34m,\u001b[0m \u001b[0mperiod\u001b[0m\u001b[0;34m=\u001b[0m\u001b[0;34m'lifetime'\u001b[0m\u001b[0;34m,\u001b[0m \u001b[0mshow_description_from_api_doc\u001b[0m\u001b[0;34m=\u001b[0m\u001b[0;32mFalse\u001b[0m\u001b[0;34m)\u001b[0m\u001b[0;34m\u001b[0m\u001b[0;34m\u001b[0m\u001b[0m\n\u001b[0m\u001b[1;32m      2\u001b[0m \u001b[0mdf\u001b[0m\u001b[0;34m[\u001b[0m\u001b[0;34m'share'\u001b[0m\u001b[0;34m]\u001b[0m \u001b[0;34m=\u001b[0m \u001b[0minsight\u001b[0m\u001b[0;34m[\u001b[0m\u001b[0;34m'data'\u001b[0m\u001b[0;34m]\u001b[0m\u001b[0;34m[\u001b[0m\u001b[0;36m0\u001b[0m\u001b[0;34m]\u001b[0m\u001b[0;34m[\u001b[0m\u001b[0;34m'values'\u001b[0m\u001b[0;34m]\u001b[0m\u001b[0;34m[\u001b[0m\u001b[0;36m0\u001b[0m\u001b[0;34m]\u001b[0m\u001b[0;34m[\u001b[0m\u001b[0;34m'value'\u001b[0m\u001b[0;34m]\u001b[0m\u001b[0;34m[\u001b[0m\u001b[0;34m'share'\u001b[0m\u001b[0;34m]\u001b[0m\u001b[0;34m\u001b[0m\u001b[0;34m\u001b[0m\u001b[0m\n",
      "\u001b[0;32m/Library/Frameworks/Python.framework/Versions/3.8/lib/python3.8/site-packages/facebook/__init__.py\u001b[0m in \u001b[0;36mget_connections\u001b[0;34m(self, id, connection_name, **args)\u001b[0m\n\u001b[1;32m    147\u001b[0m     \u001b[0;32mdef\u001b[0m \u001b[0mget_connections\u001b[0m\u001b[0;34m(\u001b[0m\u001b[0mself\u001b[0m\u001b[0;34m,\u001b[0m \u001b[0mid\u001b[0m\u001b[0;34m,\u001b[0m \u001b[0mconnection_name\u001b[0m\u001b[0;34m,\u001b[0m \u001b[0;34m**\u001b[0m\u001b[0margs\u001b[0m\u001b[0;34m)\u001b[0m\u001b[0;34m:\u001b[0m\u001b[0;34m\u001b[0m\u001b[0;34m\u001b[0m\u001b[0m\n\u001b[1;32m    148\u001b[0m         \u001b[0;34m\"\"\"Fetches the connections for given object.\"\"\"\u001b[0m\u001b[0;34m\u001b[0m\u001b[0;34m\u001b[0m\u001b[0m\n\u001b[0;32m--> 149\u001b[0;31m         return self.request(\n\u001b[0m\u001b[1;32m    150\u001b[0m             \u001b[0;34m\"{0}/{1}/{2}\"\u001b[0m\u001b[0;34m.\u001b[0m\u001b[0mformat\u001b[0m\u001b[0;34m(\u001b[0m\u001b[0mself\u001b[0m\u001b[0;34m.\u001b[0m\u001b[0mversion\u001b[0m\u001b[0;34m,\u001b[0m \u001b[0mid\u001b[0m\u001b[0;34m,\u001b[0m \u001b[0mconnection_name\u001b[0m\u001b[0;34m)\u001b[0m\u001b[0;34m,\u001b[0m \u001b[0margs\u001b[0m\u001b[0;34m\u001b[0m\u001b[0;34m\u001b[0m\u001b[0m\n\u001b[1;32m    151\u001b[0m         )\n",
      "\u001b[0;32m/Library/Frameworks/Python.framework/Versions/3.8/lib/python3.8/site-packages/facebook/__init__.py\u001b[0m in \u001b[0;36mrequest\u001b[0;34m(self, path, args, post_args, files, method)\u001b[0m\n\u001b[1;32m    311\u001b[0m \u001b[0;34m\u001b[0m\u001b[0m\n\u001b[1;32m    312\u001b[0m         \u001b[0;32mif\u001b[0m \u001b[0mresult\u001b[0m \u001b[0;32mand\u001b[0m \u001b[0misinstance\u001b[0m\u001b[0;34m(\u001b[0m\u001b[0mresult\u001b[0m\u001b[0;34m,\u001b[0m \u001b[0mdict\u001b[0m\u001b[0;34m)\u001b[0m \u001b[0;32mand\u001b[0m \u001b[0mresult\u001b[0m\u001b[0;34m.\u001b[0m\u001b[0mget\u001b[0m\u001b[0;34m(\u001b[0m\u001b[0;34m\"error\"\u001b[0m\u001b[0;34m)\u001b[0m\u001b[0;34m:\u001b[0m\u001b[0;34m\u001b[0m\u001b[0;34m\u001b[0m\u001b[0m\n\u001b[0;32m--> 313\u001b[0;31m             \u001b[0;32mraise\u001b[0m \u001b[0mGraphAPIError\u001b[0m\u001b[0;34m(\u001b[0m\u001b[0mresult\u001b[0m\u001b[0;34m)\u001b[0m\u001b[0;34m\u001b[0m\u001b[0;34m\u001b[0m\u001b[0m\n\u001b[0m\u001b[1;32m    314\u001b[0m         \u001b[0;32mreturn\u001b[0m \u001b[0mresult\u001b[0m\u001b[0;34m\u001b[0m\u001b[0;34m\u001b[0m\u001b[0m\n\u001b[1;32m    315\u001b[0m \u001b[0;34m\u001b[0m\u001b[0m\n",
      "\u001b[0;31mGraphAPIError\u001b[0m: (#803) Some of the aliases you requested do not exist: ['165419643537532_3697420720337389' '165419643537532_3697304380349023'\n '165419643537532_3695161693896625' ... '165419643537532_178622235550606'\n '165419643537532_177815448964618' '165419643537532_174031516009678']"
     ]
    }
   ],
   "source": [
    "insight = graph.get_connections(id=df['id'].values, connection_name='insights',metric='post_activity_by_action_type', date_preset='yesterday', period='lifetime', show_description_from_api_doc=False)\n",
    "df['share'] = insight['data'][0]['values'][0]['value']['share']"
   ]
  },
  {
   "cell_type": "code",
   "execution_count": 207,
   "metadata": {},
   "outputs": [
    {
     "output_type": "execute_result",
     "data": {
      "text/plain": [
       "11"
      ]
     },
     "metadata": {},
     "execution_count": 207
    }
   ],
   "source": [
    "insight['data'][0]['values'][0]['value']['share']"
   ]
  },
  {
   "cell_type": "code",
   "execution_count": 149,
   "metadata": {},
   "outputs": [
    {
     "output_type": "error",
     "ename": "GraphAPIError",
     "evalue": "(#803) Some of the aliases you requested do not exist: 0       165419643537532_3697420720337389\n1       165419643537532_3697304380349023\n2       165419643537532_3695161693896625\n3       165419643537532_3694477183965076\n4       165419643537532_3690108024401992\n                      ...               \n7028     165419643537532_179787395434090\n7029     165419643537532_179748328771330\n7030     165419643537532_178622235550606\n7031     165419643537532_177815448964618\n7037     165419643537532_174031516009678\nName: id, Length: 5425, dtype: object",
     "traceback": [
      "\u001b[0;31m---------------------------------------------------------------------------\u001b[0m",
      "\u001b[0;31mGraphAPIError\u001b[0m                             Traceback (most recent call last)",
      "\u001b[0;32m<ipython-input-149-6c877d4ee5c0>\u001b[0m in \u001b[0;36m<module>\u001b[0;34m\u001b[0m\n\u001b[0;32m----> 1\u001b[0;31m \u001b[0;32mfor\u001b[0m \u001b[0mind\u001b[0m\u001b[0;34m,\u001b[0m \u001b[0mpost\u001b[0m \u001b[0;32min\u001b[0m \u001b[0menumerate\u001b[0m\u001b[0;34m(\u001b[0m\u001b[0minsight\u001b[0m\u001b[0;34m)\u001b[0m\u001b[0;34m:\u001b[0m\u001b[0;34m\u001b[0m\u001b[0;34m\u001b[0m\u001b[0m\n\u001b[0m\u001b[1;32m      2\u001b[0m     \u001b[0mprint\u001b[0m\u001b[0;34m(\u001b[0m\u001b[0mind\u001b[0m\u001b[0;34m,\u001b[0m \u001b[0mpost\u001b[0m\u001b[0;34m)\u001b[0m\u001b[0;34m\u001b[0m\u001b[0;34m\u001b[0m\u001b[0m\n",
      "\u001b[0;32m/Library/Frameworks/Python.framework/Versions/3.8/lib/python3.8/site-packages/facebook/__init__.py\u001b[0m in \u001b[0;36mget_all_connections\u001b[0;34m(self, id, connection_name, **args)\u001b[0m\n\u001b[1;32m    158\u001b[0m         \"\"\"\n\u001b[1;32m    159\u001b[0m         \u001b[0;32mwhile\u001b[0m \u001b[0;32mTrue\u001b[0m\u001b[0;34m:\u001b[0m\u001b[0;34m\u001b[0m\u001b[0;34m\u001b[0m\u001b[0m\n\u001b[0;32m--> 160\u001b[0;31m             \u001b[0mpage\u001b[0m \u001b[0;34m=\u001b[0m \u001b[0mself\u001b[0m\u001b[0;34m.\u001b[0m\u001b[0mget_connections\u001b[0m\u001b[0;34m(\u001b[0m\u001b[0mid\u001b[0m\u001b[0;34m,\u001b[0m \u001b[0mconnection_name\u001b[0m\u001b[0;34m,\u001b[0m \u001b[0;34m**\u001b[0m\u001b[0margs\u001b[0m\u001b[0;34m)\u001b[0m\u001b[0;34m\u001b[0m\u001b[0;34m\u001b[0m\u001b[0m\n\u001b[0m\u001b[1;32m    161\u001b[0m             \u001b[0;32mfor\u001b[0m \u001b[0mpost\u001b[0m \u001b[0;32min\u001b[0m \u001b[0mpage\u001b[0m\u001b[0;34m[\u001b[0m\u001b[0;34m\"data\"\u001b[0m\u001b[0;34m]\u001b[0m\u001b[0;34m:\u001b[0m\u001b[0;34m\u001b[0m\u001b[0;34m\u001b[0m\u001b[0m\n\u001b[1;32m    162\u001b[0m                 \u001b[0;32myield\u001b[0m \u001b[0mpost\u001b[0m\u001b[0;34m\u001b[0m\u001b[0;34m\u001b[0m\u001b[0m\n",
      "\u001b[0;32m/Library/Frameworks/Python.framework/Versions/3.8/lib/python3.8/site-packages/facebook/__init__.py\u001b[0m in \u001b[0;36mget_connections\u001b[0;34m(self, id, connection_name, **args)\u001b[0m\n\u001b[1;32m    147\u001b[0m     \u001b[0;32mdef\u001b[0m \u001b[0mget_connections\u001b[0m\u001b[0;34m(\u001b[0m\u001b[0mself\u001b[0m\u001b[0;34m,\u001b[0m \u001b[0mid\u001b[0m\u001b[0;34m,\u001b[0m \u001b[0mconnection_name\u001b[0m\u001b[0;34m,\u001b[0m \u001b[0;34m**\u001b[0m\u001b[0margs\u001b[0m\u001b[0;34m)\u001b[0m\u001b[0;34m:\u001b[0m\u001b[0;34m\u001b[0m\u001b[0;34m\u001b[0m\u001b[0m\n\u001b[1;32m    148\u001b[0m         \u001b[0;34m\"\"\"Fetches the connections for given object.\"\"\"\u001b[0m\u001b[0;34m\u001b[0m\u001b[0;34m\u001b[0m\u001b[0m\n\u001b[0;32m--> 149\u001b[0;31m         return self.request(\n\u001b[0m\u001b[1;32m    150\u001b[0m             \u001b[0;34m\"{0}/{1}/{2}\"\u001b[0m\u001b[0;34m.\u001b[0m\u001b[0mformat\u001b[0m\u001b[0;34m(\u001b[0m\u001b[0mself\u001b[0m\u001b[0;34m.\u001b[0m\u001b[0mversion\u001b[0m\u001b[0;34m,\u001b[0m \u001b[0mid\u001b[0m\u001b[0;34m,\u001b[0m \u001b[0mconnection_name\u001b[0m\u001b[0;34m)\u001b[0m\u001b[0;34m,\u001b[0m \u001b[0margs\u001b[0m\u001b[0;34m\u001b[0m\u001b[0;34m\u001b[0m\u001b[0m\n\u001b[1;32m    151\u001b[0m         )\n",
      "\u001b[0;32m/Library/Frameworks/Python.framework/Versions/3.8/lib/python3.8/site-packages/facebook/__init__.py\u001b[0m in \u001b[0;36mrequest\u001b[0;34m(self, path, args, post_args, files, method)\u001b[0m\n\u001b[1;32m    311\u001b[0m \u001b[0;34m\u001b[0m\u001b[0m\n\u001b[1;32m    312\u001b[0m         \u001b[0;32mif\u001b[0m \u001b[0mresult\u001b[0m \u001b[0;32mand\u001b[0m \u001b[0misinstance\u001b[0m\u001b[0;34m(\u001b[0m\u001b[0mresult\u001b[0m\u001b[0;34m,\u001b[0m \u001b[0mdict\u001b[0m\u001b[0;34m)\u001b[0m \u001b[0;32mand\u001b[0m \u001b[0mresult\u001b[0m\u001b[0;34m.\u001b[0m\u001b[0mget\u001b[0m\u001b[0;34m(\u001b[0m\u001b[0;34m\"error\"\u001b[0m\u001b[0;34m)\u001b[0m\u001b[0;34m:\u001b[0m\u001b[0;34m\u001b[0m\u001b[0;34m\u001b[0m\u001b[0m\n\u001b[0;32m--> 313\u001b[0;31m             \u001b[0;32mraise\u001b[0m \u001b[0mGraphAPIError\u001b[0m\u001b[0;34m(\u001b[0m\u001b[0mresult\u001b[0m\u001b[0;34m)\u001b[0m\u001b[0;34m\u001b[0m\u001b[0;34m\u001b[0m\u001b[0m\n\u001b[0m\u001b[1;32m    314\u001b[0m         \u001b[0;32mreturn\u001b[0m \u001b[0mresult\u001b[0m\u001b[0;34m\u001b[0m\u001b[0;34m\u001b[0m\u001b[0m\n\u001b[1;32m    315\u001b[0m \u001b[0;34m\u001b[0m\u001b[0m\n",
      "\u001b[0;31mGraphAPIError\u001b[0m: (#803) Some of the aliases you requested do not exist: 0       165419643537532_3697420720337389\n1       165419643537532_3697304380349023\n2       165419643537532_3695161693896625\n3       165419643537532_3694477183965076\n4       165419643537532_3690108024401992\n                      ...               \n7028     165419643537532_179787395434090\n7029     165419643537532_179748328771330\n7030     165419643537532_178622235550606\n7031     165419643537532_177815448964618\n7037     165419643537532_174031516009678\nName: id, Length: 5425, dtype: object"
     ]
    }
   ],
   "source": [
    "for ind, post in enumerate(insight):\n",
    "    print(ind, post)"
   ]
  },
  {
   "cell_type": "code",
   "execution_count": 145,
   "metadata": {},
   "outputs": [],
   "source": [
    "posts_all = graph.get_all_connections(id ='165419643537532', connection_name ='posts', fields ='created_time, id')"
   ]
  },
  {
   "cell_type": "code",
   "execution_count": 146,
   "metadata": {
    "tags": [
     "outputPrepend"
    ]
   },
   "outputs": [
    {
     "output_type": "stream",
     "name": "stdout",
     "text": [
      "268055'}\n",
      "405 {'created_time': '2020-11-18T13:55:00+0000', 'id': '165419643537532_3496542933758503'}\n",
      "406 {'created_time': '2020-11-18T10:54:10+0000', 'id': '165419643537532_3496399603772836'}\n",
      "407 {'created_time': '2020-11-18T10:38:32+0000', 'id': '165419643537532_438071863853771'}\n",
      "408 {'created_time': '2020-11-18T07:01:22+0000', 'id': '165419643537532_394206075329924'}\n",
      "409 {'created_time': '2020-11-18T04:57:18+0000', 'id': '165419643537532_3471530376259759'}\n",
      "410 {'created_time': '2020-11-18T01:49:00+0000', 'id': '165419643537532_3493639680715495'}\n",
      "411 {'created_time': '2020-11-17T13:40:00+0000', 'id': '165419643537532_3493589624053834'}\n",
      "412 {'created_time': '2020-11-17T10:51:17+0000', 'id': '165419643537532_3482589478487182'}\n",
      "413 {'created_time': '2020-11-17T05:03:24+0000', 'id': '165419643537532_3490468424365954'}\n",
      "414 {'created_time': '2020-11-17T01:20:00+0000', 'id': '165419643537532_3482214548524675'}\n",
      "415 {'created_time': '2020-11-16T09:04:00+0000', 'id': '165419643537532_3490212764391520'}\n",
      "416 {'created_time': '2020-11-16T06:58:39+0000', 'id': '165419643537532_2708140426168515'}\n",
      "417 {'created_time': '2020-11-16T05:01:17+0000', 'id': '165419643537532_3490108481068615'}\n",
      "418 {'created_time': '2020-11-16T01:48:42+0000', 'id': '165419643537532_3482571441822319'}\n",
      "419 {'created_time': '2020-11-15T12:37:00+0000', 'id': '165419643537532_3487711067975023'}\n",
      "420 {'created_time': '2020-11-15T06:46:36+0000', 'id': '165419643537532_3487663261313137'}\n",
      "421 {'created_time': '2020-11-15T03:05:00+0000', 'id': '165419643537532_3482495951829868'}\n",
      "422 {'created_time': '2020-11-14T12:03:38+0000', 'id': '165419643537532_3485061058240024'}\n",
      "423 {'created_time': '2020-11-14T08:03:00+0000', 'id': '165419643537532_3482621655150631'}\n",
      "424 {'created_time': '2020-11-14T05:03:00+0000', 'id': '165419643537532_3460657404013723'}\n",
      "425 {'created_time': '2020-11-14T02:21:00+0000', 'id': '165419643537532_3479564108789719'}\n",
      "426 {'created_time': '2020-11-13T14:24:00+0000', 'id': '165419643537532_3482527415160055'}\n",
      "427 {'created_time': '2020-11-13T10:45:11+0000', 'id': '165419643537532_3482547941824669'}\n",
      "428 {'created_time': '2020-11-13T08:03:01+0000', 'id': '165419643537532_3479534732125990'}\n",
      "429 {'created_time': '2020-11-13T03:56:38+0000', 'id': '165419643537532_366461274804176'}\n",
      "430 {'created_time': '2020-11-13T02:00:00+0000', 'id': '165419643537532_3471432932936170'}\n",
      "431 {'created_time': '2020-11-12T13:50:01+0000', 'id': '165419643537532_3474491235963673'}\n",
      "432 {'created_time': '2020-11-12T10:13:37+0000', 'id': '165419643537532_3479735275439269'}\n",
      "433 {'created_time': '2020-11-12T08:03:40+0000', 'id': '165419643537532_3479477625465034'}\n",
      "434 {'created_time': '2020-11-12T04:58:00+0000', 'id': '165419643537532_3479163248829805'}\n",
      "435 {'created_time': '2020-11-12T01:55:00+0000', 'id': '165419643537532_3474317989314331'}\n",
      "436 {'created_time': '2020-11-11T12:38:41+0000', 'id': '165419643537532_3471586719587458'}\n",
      "437 {'created_time': '2020-11-11T05:16:12+0000', 'id': '165419643537532_3474394755973321'}\n",
      "438 {'created_time': '2020-11-11T01:45:11+0000', 'id': '165419643537532_3460559240690206'}\n",
      "439 {'created_time': '2020-11-10T13:11:01+0000', 'id': '165419643537532_3474396859306444'}\n",
      "440 {'created_time': '2020-11-10T10:14:36+0000', 'id': '165419643537532_1037718963347148'}\n",
      "441 {'created_time': '2020-11-10T08:03:01+0000', 'id': '165419643537532_3460830407329756'}\n",
      "442 {'created_time': '2020-11-10T02:29:49+0000', 'id': '165419643537532_370894560685590'}\n",
      "443 {'created_time': '2020-11-10T01:33:09+0000', 'id': '165419643537532_3471952182884245'}\n",
      "444 {'created_time': '2020-11-09T13:25:00+0000', 'id': '165419643537532_3471465469599583'}\n",
      "445 {'created_time': '2020-11-09T11:00:31+0000', 'id': '165419643537532_3471400352939428'}\n",
      "446 {'created_time': '2020-11-09T07:02:06+0000', 'id': '165419643537532_731959147408619'}\n",
      "447 {'created_time': '2020-11-09T05:22:22+0000', 'id': '165419643537532_3471213066291490'}\n",
      "448 {'created_time': '2020-11-09T01:45:44+0000', 'id': '165419643537532_3469412733138190'}\n",
      "449 {'created_time': '2020-11-08T11:04:00+0000', 'id': '165419643537532_3460713957341401'}\n",
      "450 {'created_time': '2020-11-08T04:27:00+0000', 'id': '165419643537532_3460787037334093'}\n",
      "451 {'created_time': '2020-11-07T10:30:25+0000', 'id': '165419643537532_3441375169275280'}\n",
      "452 {'created_time': '2020-11-07T04:01:00+0000', 'id': '165419643537532_3460731210673009'}\n",
      "453 {'created_time': '2020-11-06T11:38:31+0000', 'id': '165419643537532_3463203487092448'}\n",
      "454 {'created_time': '2020-11-06T08:01:01+0000', 'id': '165419643537532_3460681307344666'}\n",
      "455 {'created_time': '2020-11-06T01:44:00+0000', 'id': '165419643537532_3460743164005147'}\n",
      "456 {'created_time': '2020-11-05T07:00:01+0000', 'id': '165419643537532_3458180740928056'}\n",
      "457 {'created_time': '2020-11-05T04:43:44+0000', 'id': '165419643537532_2874484582838137'}\n",
      "458 {'created_time': '2020-11-05T03:18:14+0000', 'id': '165419643537532_3460100470736083'}\n",
      "459 {'created_time': '2020-11-04T13:00:01+0000', 'id': '165419643537532_3458208997591897'}\n",
      "460 {'created_time': '2020-11-04T08:30:01+0000', 'id': '165419643537532_3457928610953269'}\n",
      "461 {'created_time': '2020-11-04T02:46:53+0000', 'id': '165419643537532_3452588254820638'}\n",
      "462 {'created_time': '2020-11-03T13:54:00+0000', 'id': '165419643537532_3209972889082177'}\n",
      "463 {'created_time': '2020-11-03T11:00:02+0000', 'id': '165419643537532_3455482821197848'}\n",
      "464 {'created_time': '2020-11-03T08:28:33+0000', 'id': '165419643537532_3455367104542753'}\n",
      "465 {'created_time': '2020-11-03T05:00:02+0000', 'id': '165419643537532_3455020201244110'}\n",
      "466 {'created_time': '2020-11-03T02:31:38+0000', 'id': '165419643537532_729265981008286'}\n",
      "467 {'created_time': '2020-11-03T02:30:43+0000', 'id': '165419643537532_3442127149200082'}\n",
      "468 {'created_time': '2020-11-02T14:00:01+0000', 'id': '165419643537532_3452400328172764'}\n",
      "469 {'created_time': '2020-11-02T11:01:01+0000', 'id': '165419643537532_3452823691463761'}\n",
      "470 {'created_time': '2020-11-02T07:14:44+0000', 'id': '165419643537532_280013076624279'}\n",
      "471 {'created_time': '2020-11-02T04:55:00+0000', 'id': '165419643537532_3452148088197988'}\n",
      "472 {'created_time': '2020-11-02T02:08:00+0000', 'id': '165419643537532_3436587893087341'}\n",
      "473 {'created_time': '2020-11-01T12:23:32+0000', 'id': '165419643537532_3441652539247543'}\n",
      "474 {'created_time': '2020-11-01T08:34:00+0000', 'id': '165419643537532_3444880732258057'}\n",
      "475 {'created_time': '2020-11-01T04:11:00+0000', 'id': '165419643537532_3444911275588336'}\n",
      "476 {'created_time': '2020-10-31T12:07:00+0000', 'id': '165419643537532_3444979102248220'}\n",
      "477 {'created_time': '2020-10-31T08:07:00+0000', 'id': '165419643537532_3445743855505078'}\n",
      "478 {'created_time': '2020-10-31T05:43:00+0000', 'id': '165419643537532_3447034688709328'}\n",
      "479 {'created_time': '2020-10-31T04:01:51+0000', 'id': '165419643537532_3445128358899961'}\n",
      "480 {'created_time': '2020-10-31T02:43:37+0000', 'id': '165419643537532_3445139405565523'}\n",
      "481 {'created_time': '2020-10-30T14:17:24+0000', 'id': '165419643537532_3445288392217291'}\n",
      "482 {'created_time': '2020-10-30T12:58:26+0000', 'id': '165419643537532_3445078412238289'}\n",
      "483 {'created_time': '2020-10-30T11:00:02+0000', 'id': '165419643537532_3444736395605824'}\n",
      "484 {'created_time': '2020-10-30T10:52:02+0000', 'id': '165419643537532_3444835068929290'}\n",
      "485 {'created_time': '2020-10-30T05:02:35+0000', 'id': '165419643537532_3444255378987259'}\n",
      "486 {'created_time': '2020-10-30T03:10:04+0000', 'id': '165419643537532_3444061822339948'}\n",
      "487 {'created_time': '2020-10-30T01:03:00+0000', 'id': '165419643537532_3443760429036754'}\n",
      "488 {'created_time': '2020-10-29T14:02:48+0000', 'id': '165419643537532_3439131149499682'}\n",
      "489 {'created_time': '2020-10-29T10:26:18+0000', 'id': '165419643537532_3442181565861307'}\n",
      "490 {'created_time': '2020-10-29T04:40:47+0000', 'id': '165419643537532_3439129159499881'}\n",
      "491 {'created_time': '2020-10-29T01:47:00+0000', 'id': '165419643537532_3439346079478189'}\n",
      "492 {'created_time': '2020-10-28T14:04:01+0000', 'id': '165419643537532_3436743713071759'}\n",
      "493 {'created_time': '2020-10-28T11:02:00+0000', 'id': '165419643537532_3436651703080960'}\n",
      "494 {'created_time': '2020-10-28T09:41:15+0000', 'id': '165419643537532_996551357423978'}\n",
      "495 {'created_time': '2020-10-28T08:44:00+0000', 'id': '165419643537532_3438932126186251'}\n",
      "496 {'created_time': '2020-10-28T06:58:25+0000', 'id': '165419643537532_818674115610149'}\n",
      "497 {'created_time': '2020-10-28T06:16:00+0000', 'id': '165419643537532_3438919482854182'}\n",
      "498 {'created_time': '2020-10-28T04:55:53+0000', 'id': '165419643537532_3438904292855701'}\n",
      "499 {'created_time': '2020-10-27T14:07:12+0000', 'id': '165419643537532_3436458359766961'}\n",
      "500 {'created_time': '2020-10-27T11:03:00+0000', 'id': '165419643537532_3436700883076042'}\n",
      "501 {'created_time': '2020-10-27T08:00:02+0000', 'id': '165419643537532_3436323383113792'}\n",
      "502 {'created_time': '2020-10-27T05:55:12+0000', 'id': '165419643537532_3436093763136754'}\n",
      "503 {'created_time': '2020-10-27T01:46:09+0000', 'id': '165419643537532_3433574850055312'}\n",
      "504 {'created_time': '2020-10-26T13:56:01+0000', 'id': '165419643537532_3434040793342051'}\n",
      "505 {'created_time': '2020-10-26T08:45:00+0000', 'id': '165419643537532_3433603870052410'}\n",
      "506 {'created_time': '2020-10-26T06:54:40+0000', 'id': '165419643537532_3120001624893204'}\n",
      "507 {'created_time': '2020-10-26T04:54:19+0000', 'id': '165419643537532_3433523676727096'}\n",
      "508 {'created_time': '2020-10-26T01:57:01+0000', 'id': '165419643537532_3209968389082627'}\n",
      "509 {'created_time': '2020-10-25T10:53:00+0000', 'id': '165419643537532_3407130052699792'}\n",
      "510 {'created_time': '2020-10-25T04:05:12+0000', 'id': '165419643537532_1899362070227872'}\n",
      "511 {'created_time': '2020-10-24T04:29:24+0000', 'id': '165419643537532_3419919394754191'}\n",
      "512 {'created_time': '2020-10-23T07:56:30+0000', 'id': '165419643537532_1495347137336169'}\n",
      "513 {'created_time': '2020-10-23T06:50:34+0000', 'id': '165419643537532_342690577023539'}\n",
      "514 {'created_time': '2020-10-23T02:36:35+0000', 'id': '165419643537532_3424909417588522'}\n",
      "515 {'created_time': '2020-10-23T01:30:57+0000', 'id': '165419643537532_3419888684757262'}\n",
      "516 {'created_time': '2020-10-22T09:32:10+0000', 'id': '165419643537532_285169455874257'}\n",
      "517 {'created_time': '2020-10-22T07:03:18+0000', 'id': '165419643537532_379164066549276'}\n",
      "518 {'created_time': '2020-10-22T04:45:00+0000', 'id': '165419643537532_3419985491414248'}\n",
      "519 {'created_time': '2020-10-22T02:05:01+0000', 'id': '165419643537532_3419876041425193'}\n",
      "520 {'created_time': '2020-10-21T13:52:53+0000', 'id': '165419643537532_3419858714760259'}\n",
      "521 {'created_time': '2020-10-21T11:02:00+0000', 'id': '165419643537532_3418122881600509'}\n",
      "522 {'created_time': '2020-10-21T08:09:00+0000', 'id': '165419643537532_3419837811429016'}\n",
      "523 {'created_time': '2020-10-21T05:48:18+0000', 'id': '165419643537532_3419785541434243'}\n",
      "524 {'created_time': '2020-10-21T03:03:15+0000', 'id': '165419643537532_3419506204795510'}\n",
      "525 {'created_time': '2020-10-21T01:58:00+0000', 'id': '165419643537532_3416736108405853'}\n",
      "526 {'created_time': '2020-10-20T12:21:01+0000', 'id': '165419643537532_3417482568331207'}\n",
      "527 {'created_time': '2020-10-20T09:37:01+0000', 'id': '165419643537532_3416924308387033'}\n",
      "528 {'created_time': '2020-10-20T06:59:00+0000', 'id': '165419643537532_1063471487408098'}\n",
      "529 {'created_time': '2020-10-20T02:29:39+0000', 'id': '165419643537532_1110976489318162'}\n",
      "530 {'created_time': '2020-10-19T13:52:00+0000', 'id': '165419643537532_3415132168566247'}\n",
      "531 {'created_time': '2020-10-19T10:44:00+0000', 'id': '165419643537532_3414764578603006'}\n",
      "532 {'created_time': '2020-10-19T09:41:01+0000', 'id': '165419643537532_3414935565252574'}\n",
      "533 {'created_time': '2020-10-19T08:00:40+0000', 'id': '165419643537532_3414774961935301'}\n",
      "534 {'created_time': '2020-10-19T04:32:42+0000', 'id': '165419643537532_834355810669219'}\n",
      "535 {'created_time': '2020-10-19T01:45:00+0000', 'id': '165419643537532_3407117476034383'}\n",
      "536 {'created_time': '2020-10-18T05:02:00+0000', 'id': '165419643537532_3402038726542258'}\n",
      "537 {'created_time': '2020-10-17T10:11:32+0000', 'id': '165419643537532_3402055359873928'}\n",
      "538 {'created_time': '2020-10-17T05:05:00+0000', 'id': '165419643537532_3407148936031237'}\n",
      "539 {'created_time': '2020-10-17T02:29:09+0000', 'id': '165419643537532_665408374116428'}\n",
      "540 {'created_time': '2020-10-16T13:46:01+0000', 'id': '165419643537532_3407217372691060'}\n",
      "541 {'created_time': '2020-10-16T11:22:11+0000', 'id': '165419643537532_3407433252669472'}\n",
      "542 {'created_time': '2020-10-16T05:05:01+0000', 'id': '165419643537532_3402050646541066'}\n",
      "543 {'created_time': '2020-10-16T01:55:01+0000', 'id': '165419643537532_3209965592416240'}\n",
      "544 {'created_time': '2020-10-15T11:08:58+0000', 'id': '165419643537532_843887583083380'}\n",
      "545 {'created_time': '2020-10-15T06:58:40+0000', 'id': '165419643537532_911160922746950'}\n",
      "546 {'created_time': '2020-10-15T05:03:50+0000', 'id': '165419643537532_3402041846541946'}\n",
      "547 {'created_time': '2020-10-15T01:59:00+0000', 'id': '165419643537532_3402033899876074'}\n",
      "548 {'created_time': '2020-10-14T13:58:01+0000', 'id': '165419643537532_3402031386542992'}\n",
      "549 {'created_time': '2020-10-14T07:37:58+0000', 'id': '165419643537532_3401832636562867'}\n",
      "550 {'created_time': '2020-10-14T06:58:38+0000', 'id': '165419643537532_263490484981076'}\n",
      "551 {'created_time': '2020-10-14T03:39:57+0000', 'id': '165419643537532_371299250655500'}\n",
      "552 {'created_time': '2020-10-12T14:02:21+0000', 'id': '165419643537532_3396839240395540'}\n",
      "553 {'created_time': '2020-10-12T05:03:42+0000', 'id': '165419643537532_3393119187434212'}\n",
      "554 {'created_time': '2020-10-11T10:00:05+0000', 'id': '165419643537532_3393114074101390'}\n",
      "555 {'created_time': '2020-10-11T07:27:07+0000', 'id': '165419643537532_3393091007437030'}\n",
      "556 {'created_time': '2020-10-09T04:32:23+0000', 'id': '165419643537532_3386811984731599'}\n",
      "557 {'created_time': '2020-10-09T01:51:01+0000', 'id': '165419643537532_3209957489083717'}\n",
      "558 {'created_time': '2020-10-08T10:48:00+0000', 'id': '165419643537532_3384396498306481'}\n",
      "559 {'created_time': '2020-10-08T04:25:19+0000', 'id': '165419643537532_1422359591488606'}\n",
      "560 {'created_time': '2020-10-07T10:52:13+0000', 'id': '165419643537532_969299930223698'}\n",
      "561 {'created_time': '2020-10-07T07:46:32+0000', 'id': '165419643537532_3381004058645725'}\n",
      "562 {'created_time': '2020-10-07T03:36:57+0000', 'id': '165419643537532_364959574644154'}\n",
      "563 {'created_time': '2020-10-07T02:03:17+0000', 'id': '165419643537532_760500654531843'}\n",
      "564 {'created_time': '2020-10-06T12:31:20+0000', 'id': '165419643537532_3378061845606613'}\n",
      "565 {'created_time': '2020-10-06T07:35:18+0000', 'id': '165419643537532_340715127249846'}\n",
      "566 {'created_time': '2020-10-06T07:01:07+0000', 'id': '165419643537532_386693479000390'}\n",
      "567 {'created_time': '2020-10-06T04:41:43+0000', 'id': '165419643537532_639718303399249'}\n",
      "568 {'created_time': '2020-10-06T03:01:26+0000', 'id': '165419643537532_816231895875143'}\n",
      "569 {'created_time': '2020-10-05T09:54:55+0000', 'id': '165419643537532_3375131485899649'}\n",
      "570 {'created_time': '2020-10-05T01:48:00+0000', 'id': '165419643537532_3209951652417634'}\n",
      "571 {'created_time': '2020-10-04T05:14:00+0000', 'id': '165419643537532_3365394326873365'}\n",
      "572 {'created_time': '2020-10-03T10:03:35+0000', 'id': '165419643537532_3356470261099105'}\n",
      "573 {'created_time': '2020-10-03T04:51:58+0000', 'id': '165419643537532_3356466474432817'}\n",
      "574 {'created_time': '2020-10-03T01:41:00+0000', 'id': '165419643537532_3362927673786697'}\n",
      "575 {'created_time': '2020-10-02T14:47:16+0000', 'id': '165419643537532_343899376721236'}\n",
      "576 {'created_time': '2020-10-02T09:54:00+0000', 'id': '165419643537532_3365843220161809'}\n",
      "577 {'created_time': '2020-10-02T04:54:26+0000', 'id': '165419643537532_3356468031099328'}\n",
      "578 {'created_time': '2020-10-02T01:23:57+0000', 'id': '165419643537532_3362905297122268'}\n",
      "579 {'created_time': '2020-10-01T13:29:00+0000', 'id': '165419643537532_3362977560448375'}\n",
      "580 {'created_time': '2020-10-01T09:00:22+0000', 'id': '165419643537532_3362845947128203'}\n",
      "581 {'created_time': '2020-10-01T04:57:00+0000', 'id': '165419643537532_3359912670754864'}\n",
      "582 {'created_time': '2020-10-01T01:57:02+0000', 'id': '165419643537532_3359957464083718'}\n",
      "583 {'created_time': '2020-09-30T13:29:32+0000', 'id': '165419643537532_327906561808700'}\n",
      "584 {'created_time': '2020-09-30T09:44:25+0000', 'id': '165419643537532_3359264974152967'}\n",
      "585 {'created_time': '2020-09-30T04:37:10+0000', 'id': '165419643537532_3356090777803720'}\n",
      "586 {'created_time': '2020-09-30T01:45:48+0000', 'id': '165419643537532_3313893558690109'}\n",
      "587 {'created_time': '2020-09-29T14:33:00+0000', 'id': '165419643537532_3356448094434655'}\n",
      "588 {'created_time': '2020-09-29T10:27:35+0000', 'id': '165419643537532_722144635182345'}\n",
      "589 {'created_time': '2020-09-29T09:28:00+0000', 'id': '165419643537532_3356321937780604'}\n",
      "590 {'created_time': '2020-09-29T04:46:10+0000', 'id': '165419643537532_3356282347784563'}\n",
      "591 {'created_time': '2020-09-29T02:30:13+0000', 'id': '165419643537532_3376939922366408'}\n",
      "592 {'created_time': '2020-09-29T01:19:00+0000', 'id': '165419643537532_3341208019291996'}\n",
      "593 {'created_time': '2020-09-28T14:03:01+0000', 'id': '165419643537532_3353942871351844'}\n",
      "594 {'created_time': '2020-09-28T09:28:02+0000', 'id': '165419643537532_3353463094733155'}\n",
      "595 {'created_time': '2020-09-28T02:58:23+0000', 'id': '165419643537532_3353224808090317'}\n",
      "596 {'created_time': '2020-09-28T01:44:00+0000', 'id': '165419643537532_3209942365751896'}\n",
      "597 {'created_time': '2020-09-27T02:03:00+0000', 'id': '165419643537532_3344822695597195'}\n",
      "598 {'created_time': '2020-09-26T13:54:01+0000', 'id': '165419643537532_3344708512275280'}\n",
      "599 {'created_time': '2020-09-26T02:08:01+0000', 'id': '165419643537532_3341189659293832'}\n",
      "600 {'created_time': '2020-09-25T15:31:21+0000', 'id': '165419643537532_3345626755516789'}\n",
      "601 {'created_time': '2020-09-25T10:00:02+0000', 'id': '165419643537532_3337913529621445'}\n",
      "602 {'created_time': '2020-09-25T05:02:00+0000', 'id': '165419643537532_3341174352628696'}\n",
      "603 {'created_time': '2020-09-25T02:06:00+0000', 'id': '165419643537532_3341121682633963'}\n",
      "604 {'created_time': '2020-09-24T10:58:44+0000', 'id': '165419643537532_1130962653967623'}\n",
      "605 {'created_time': '2020-09-24T09:46:01+0000', 'id': '165419643537532_3341595752586556'}\n",
      "606 {'created_time': '2020-09-24T04:48:00+0000', 'id': '165419643537532_3339078212838310'}\n",
      "607 {'created_time': '2020-09-23T13:19:00+0000', 'id': '165419643537532_3338494376230027'}\n",
      "608 {'created_time': '2020-09-23T09:05:14+0000', 'id': '165419643537532_338555167575478'}\n",
      "609 {'created_time': '2020-09-23T04:48:00+0000', 'id': '165419643537532_3337838982962233'}\n",
      "610 {'created_time': '2020-09-23T01:51:18+0000', 'id': '165419643537532_3337598329652965'}\n",
      "611 {'created_time': '2020-09-22T09:58:58+0000', 'id': '165419643537532_3335535359859262'}\n",
      "612 {'created_time': '2020-09-22T07:22:08+0000', 'id': '165419643537532_3335185753227556'}\n",
      "613 {'created_time': '2020-09-22T02:00:11+0000', 'id': '165419643537532_2756972364581844'}\n",
      "614 {'created_time': '2020-09-22T01:43:00+0000', 'id': '165419643537532_3209939822418817'}\n",
      "615 {'created_time': '2020-09-21T04:38:00+0000', 'id': '165419643537532_3320457311367067'}\n",
      "616 {'created_time': '2020-09-21T02:39:29+0000', 'id': '165419643537532_3331758266903638'}\n",
      "617 {'created_time': '2020-09-21T01:55:00+0000', 'id': '165419643537532_3317375151675283'}\n",
      "618 {'created_time': '2020-09-20T09:36:01+0000', 'id': '165419643537532_3328835397195925'}\n",
      "619 {'created_time': '2020-09-20T04:45:10+0000', 'id': '165419643537532_3314191401993658'}\n",
      "620 {'created_time': '2020-09-20T01:57:01+0000', 'id': '165419643537532_3323444841068314'}\n",
      "621 {'created_time': '2020-09-19T12:32:19+0000', 'id': '165419643537532_3318143404931791'}\n",
      "622 {'created_time': '2020-09-19T04:52:00+0000', 'id': '165419643537532_3322809111131887'}\n",
      "623 {'created_time': '2020-09-19T02:15:00+0000', 'id': '165419643537532_3314181278661337'}\n",
      "624 {'created_time': '2020-09-18T09:17:58+0000', 'id': '165419643537532_3298522413560557'}\n"
     ]
    },
    {
     "output_type": "error",
     "ename": "KeyboardInterrupt",
     "evalue": "",
     "traceback": [
      "\u001b[0;31m---------------------------------------------------------------------------\u001b[0m",
      "\u001b[0;31mKeyboardInterrupt\u001b[0m                         Traceback (most recent call last)",
      "\u001b[0;32m<ipython-input-146-398269ab987e>\u001b[0m in \u001b[0;36m<module>\u001b[0;34m\u001b[0m\n\u001b[0;32m----> 1\u001b[0;31m \u001b[0;32mfor\u001b[0m \u001b[0mind\u001b[0m\u001b[0;34m,\u001b[0m \u001b[0mpost\u001b[0m \u001b[0;32min\u001b[0m \u001b[0menumerate\u001b[0m\u001b[0;34m(\u001b[0m\u001b[0mposts_all\u001b[0m\u001b[0;34m)\u001b[0m\u001b[0;34m:\u001b[0m\u001b[0;34m\u001b[0m\u001b[0;34m\u001b[0m\u001b[0m\n\u001b[0m\u001b[1;32m      2\u001b[0m     \u001b[0mprint\u001b[0m\u001b[0;34m(\u001b[0m\u001b[0mind\u001b[0m\u001b[0;34m,\u001b[0m \u001b[0mpost\u001b[0m\u001b[0;34m)\u001b[0m\u001b[0;34m\u001b[0m\u001b[0;34m\u001b[0m\u001b[0m\n",
      "\u001b[0;32m/Library/Frameworks/Python.framework/Versions/3.8/lib/python3.8/site-packages/facebook/__init__.py\u001b[0m in \u001b[0;36mget_all_connections\u001b[0;34m(self, id, connection_name, **args)\u001b[0m\n\u001b[1;32m    158\u001b[0m         \"\"\"\n\u001b[1;32m    159\u001b[0m         \u001b[0;32mwhile\u001b[0m \u001b[0;32mTrue\u001b[0m\u001b[0;34m:\u001b[0m\u001b[0;34m\u001b[0m\u001b[0;34m\u001b[0m\u001b[0m\n\u001b[0;32m--> 160\u001b[0;31m             \u001b[0mpage\u001b[0m \u001b[0;34m=\u001b[0m \u001b[0mself\u001b[0m\u001b[0;34m.\u001b[0m\u001b[0mget_connections\u001b[0m\u001b[0;34m(\u001b[0m\u001b[0mid\u001b[0m\u001b[0;34m,\u001b[0m \u001b[0mconnection_name\u001b[0m\u001b[0;34m,\u001b[0m \u001b[0;34m**\u001b[0m\u001b[0margs\u001b[0m\u001b[0;34m)\u001b[0m\u001b[0;34m\u001b[0m\u001b[0;34m\u001b[0m\u001b[0m\n\u001b[0m\u001b[1;32m    161\u001b[0m             \u001b[0;32mfor\u001b[0m \u001b[0mpost\u001b[0m \u001b[0;32min\u001b[0m \u001b[0mpage\u001b[0m\u001b[0;34m[\u001b[0m\u001b[0;34m\"data\"\u001b[0m\u001b[0;34m]\u001b[0m\u001b[0;34m:\u001b[0m\u001b[0;34m\u001b[0m\u001b[0;34m\u001b[0m\u001b[0m\n\u001b[1;32m    162\u001b[0m                 \u001b[0;32myield\u001b[0m \u001b[0mpost\u001b[0m\u001b[0;34m\u001b[0m\u001b[0;34m\u001b[0m\u001b[0m\n",
      "\u001b[0;32m/Library/Frameworks/Python.framework/Versions/3.8/lib/python3.8/site-packages/facebook/__init__.py\u001b[0m in \u001b[0;36mget_connections\u001b[0;34m(self, id, connection_name, **args)\u001b[0m\n\u001b[1;32m    147\u001b[0m     \u001b[0;32mdef\u001b[0m \u001b[0mget_connections\u001b[0m\u001b[0;34m(\u001b[0m\u001b[0mself\u001b[0m\u001b[0;34m,\u001b[0m \u001b[0mid\u001b[0m\u001b[0;34m,\u001b[0m \u001b[0mconnection_name\u001b[0m\u001b[0;34m,\u001b[0m \u001b[0;34m**\u001b[0m\u001b[0margs\u001b[0m\u001b[0;34m)\u001b[0m\u001b[0;34m:\u001b[0m\u001b[0;34m\u001b[0m\u001b[0;34m\u001b[0m\u001b[0m\n\u001b[1;32m    148\u001b[0m         \u001b[0;34m\"\"\"Fetches the connections for given object.\"\"\"\u001b[0m\u001b[0;34m\u001b[0m\u001b[0;34m\u001b[0m\u001b[0m\n\u001b[0;32m--> 149\u001b[0;31m         return self.request(\n\u001b[0m\u001b[1;32m    150\u001b[0m             \u001b[0;34m\"{0}/{1}/{2}\"\u001b[0m\u001b[0;34m.\u001b[0m\u001b[0mformat\u001b[0m\u001b[0;34m(\u001b[0m\u001b[0mself\u001b[0m\u001b[0;34m.\u001b[0m\u001b[0mversion\u001b[0m\u001b[0;34m,\u001b[0m \u001b[0mid\u001b[0m\u001b[0;34m,\u001b[0m \u001b[0mconnection_name\u001b[0m\u001b[0;34m)\u001b[0m\u001b[0;34m,\u001b[0m \u001b[0margs\u001b[0m\u001b[0;34m\u001b[0m\u001b[0;34m\u001b[0m\u001b[0m\n\u001b[1;32m    151\u001b[0m         )\n",
      "\u001b[0;32m/Library/Frameworks/Python.framework/Versions/3.8/lib/python3.8/site-packages/facebook/__init__.py\u001b[0m in \u001b[0;36mrequest\u001b[0;34m(self, path, args, post_args, files, method)\u001b[0m\n\u001b[1;32m    276\u001b[0m \u001b[0;34m\u001b[0m\u001b[0m\n\u001b[1;32m    277\u001b[0m         \u001b[0;32mtry\u001b[0m\u001b[0;34m:\u001b[0m\u001b[0;34m\u001b[0m\u001b[0;34m\u001b[0m\u001b[0m\n\u001b[0;32m--> 278\u001b[0;31m             response = self.session.request(\n\u001b[0m\u001b[1;32m    279\u001b[0m                 \u001b[0mmethod\u001b[0m \u001b[0;32mor\u001b[0m \u001b[0;34m\"GET\"\u001b[0m\u001b[0;34m,\u001b[0m\u001b[0;34m\u001b[0m\u001b[0;34m\u001b[0m\u001b[0m\n\u001b[1;32m    280\u001b[0m                 \u001b[0mFACEBOOK_GRAPH_URL\u001b[0m \u001b[0;34m+\u001b[0m \u001b[0mpath\u001b[0m\u001b[0;34m,\u001b[0m\u001b[0;34m\u001b[0m\u001b[0;34m\u001b[0m\u001b[0m\n",
      "\u001b[0;32m/Library/Frameworks/Python.framework/Versions/3.8/lib/python3.8/site-packages/requests/sessions.py\u001b[0m in \u001b[0;36mrequest\u001b[0;34m(self, method, url, params, data, headers, cookies, files, auth, timeout, allow_redirects, proxies, hooks, stream, verify, cert, json)\u001b[0m\n\u001b[1;32m    540\u001b[0m         }\n\u001b[1;32m    541\u001b[0m         \u001b[0msend_kwargs\u001b[0m\u001b[0;34m.\u001b[0m\u001b[0mupdate\u001b[0m\u001b[0;34m(\u001b[0m\u001b[0msettings\u001b[0m\u001b[0;34m)\u001b[0m\u001b[0;34m\u001b[0m\u001b[0;34m\u001b[0m\u001b[0m\n\u001b[0;32m--> 542\u001b[0;31m         \u001b[0mresp\u001b[0m \u001b[0;34m=\u001b[0m \u001b[0mself\u001b[0m\u001b[0;34m.\u001b[0m\u001b[0msend\u001b[0m\u001b[0;34m(\u001b[0m\u001b[0mprep\u001b[0m\u001b[0;34m,\u001b[0m \u001b[0;34m**\u001b[0m\u001b[0msend_kwargs\u001b[0m\u001b[0;34m)\u001b[0m\u001b[0;34m\u001b[0m\u001b[0;34m\u001b[0m\u001b[0m\n\u001b[0m\u001b[1;32m    543\u001b[0m \u001b[0;34m\u001b[0m\u001b[0m\n\u001b[1;32m    544\u001b[0m         \u001b[0;32mreturn\u001b[0m \u001b[0mresp\u001b[0m\u001b[0;34m\u001b[0m\u001b[0;34m\u001b[0m\u001b[0m\n",
      "\u001b[0;32m/Library/Frameworks/Python.framework/Versions/3.8/lib/python3.8/site-packages/requests/sessions.py\u001b[0m in \u001b[0;36msend\u001b[0;34m(self, request, **kwargs)\u001b[0m\n\u001b[1;32m    653\u001b[0m \u001b[0;34m\u001b[0m\u001b[0m\n\u001b[1;32m    654\u001b[0m         \u001b[0;31m# Send the request\u001b[0m\u001b[0;34m\u001b[0m\u001b[0;34m\u001b[0m\u001b[0;34m\u001b[0m\u001b[0m\n\u001b[0;32m--> 655\u001b[0;31m         \u001b[0mr\u001b[0m \u001b[0;34m=\u001b[0m \u001b[0madapter\u001b[0m\u001b[0;34m.\u001b[0m\u001b[0msend\u001b[0m\u001b[0;34m(\u001b[0m\u001b[0mrequest\u001b[0m\u001b[0;34m,\u001b[0m \u001b[0;34m**\u001b[0m\u001b[0mkwargs\u001b[0m\u001b[0;34m)\u001b[0m\u001b[0;34m\u001b[0m\u001b[0;34m\u001b[0m\u001b[0m\n\u001b[0m\u001b[1;32m    656\u001b[0m \u001b[0;34m\u001b[0m\u001b[0m\n\u001b[1;32m    657\u001b[0m         \u001b[0;31m# Total elapsed time of the request (approximately)\u001b[0m\u001b[0;34m\u001b[0m\u001b[0;34m\u001b[0m\u001b[0;34m\u001b[0m\u001b[0m\n",
      "\u001b[0;32m/Library/Frameworks/Python.framework/Versions/3.8/lib/python3.8/site-packages/requests/adapters.py\u001b[0m in \u001b[0;36msend\u001b[0;34m(self, request, stream, timeout, verify, cert, proxies)\u001b[0m\n\u001b[1;32m    437\u001b[0m         \u001b[0;32mtry\u001b[0m\u001b[0;34m:\u001b[0m\u001b[0;34m\u001b[0m\u001b[0;34m\u001b[0m\u001b[0m\n\u001b[1;32m    438\u001b[0m             \u001b[0;32mif\u001b[0m \u001b[0;32mnot\u001b[0m \u001b[0mchunked\u001b[0m\u001b[0;34m:\u001b[0m\u001b[0;34m\u001b[0m\u001b[0;34m\u001b[0m\u001b[0m\n\u001b[0;32m--> 439\u001b[0;31m                 resp = conn.urlopen(\n\u001b[0m\u001b[1;32m    440\u001b[0m                     \u001b[0mmethod\u001b[0m\u001b[0;34m=\u001b[0m\u001b[0mrequest\u001b[0m\u001b[0;34m.\u001b[0m\u001b[0mmethod\u001b[0m\u001b[0;34m,\u001b[0m\u001b[0;34m\u001b[0m\u001b[0;34m\u001b[0m\u001b[0m\n\u001b[1;32m    441\u001b[0m                     \u001b[0murl\u001b[0m\u001b[0;34m=\u001b[0m\u001b[0murl\u001b[0m\u001b[0;34m,\u001b[0m\u001b[0;34m\u001b[0m\u001b[0;34m\u001b[0m\u001b[0m\n",
      "\u001b[0;32m/Library/Frameworks/Python.framework/Versions/3.8/lib/python3.8/site-packages/urllib3/connectionpool.py\u001b[0m in \u001b[0;36murlopen\u001b[0;34m(self, method, url, body, headers, retries, redirect, assert_same_host, timeout, pool_timeout, release_conn, chunked, body_pos, **response_kw)\u001b[0m\n\u001b[1;32m    697\u001b[0m \u001b[0;34m\u001b[0m\u001b[0m\n\u001b[1;32m    698\u001b[0m             \u001b[0;31m# Make the request on the httplib connection object.\u001b[0m\u001b[0;34m\u001b[0m\u001b[0;34m\u001b[0m\u001b[0;34m\u001b[0m\u001b[0m\n\u001b[0;32m--> 699\u001b[0;31m             httplib_response = self._make_request(\n\u001b[0m\u001b[1;32m    700\u001b[0m                 \u001b[0mconn\u001b[0m\u001b[0;34m,\u001b[0m\u001b[0;34m\u001b[0m\u001b[0;34m\u001b[0m\u001b[0m\n\u001b[1;32m    701\u001b[0m                 \u001b[0mmethod\u001b[0m\u001b[0;34m,\u001b[0m\u001b[0;34m\u001b[0m\u001b[0;34m\u001b[0m\u001b[0m\n",
      "\u001b[0;32m/Library/Frameworks/Python.framework/Versions/3.8/lib/python3.8/site-packages/urllib3/connectionpool.py\u001b[0m in \u001b[0;36m_make_request\u001b[0;34m(self, conn, method, url, timeout, chunked, **httplib_request_kw)\u001b[0m\n\u001b[1;32m    443\u001b[0m                     \u001b[0;31m# Python 3 (including for exceptions like SystemExit).\u001b[0m\u001b[0;34m\u001b[0m\u001b[0;34m\u001b[0m\u001b[0;34m\u001b[0m\u001b[0m\n\u001b[1;32m    444\u001b[0m                     \u001b[0;31m# Otherwise it looks like a bug in the code.\u001b[0m\u001b[0;34m\u001b[0m\u001b[0;34m\u001b[0m\u001b[0;34m\u001b[0m\u001b[0m\n\u001b[0;32m--> 445\u001b[0;31m                     \u001b[0msix\u001b[0m\u001b[0;34m.\u001b[0m\u001b[0mraise_from\u001b[0m\u001b[0;34m(\u001b[0m\u001b[0me\u001b[0m\u001b[0;34m,\u001b[0m \u001b[0;32mNone\u001b[0m\u001b[0;34m)\u001b[0m\u001b[0;34m\u001b[0m\u001b[0;34m\u001b[0m\u001b[0m\n\u001b[0m\u001b[1;32m    446\u001b[0m         \u001b[0;32mexcept\u001b[0m \u001b[0;34m(\u001b[0m\u001b[0mSocketTimeout\u001b[0m\u001b[0;34m,\u001b[0m \u001b[0mBaseSSLError\u001b[0m\u001b[0;34m,\u001b[0m \u001b[0mSocketError\u001b[0m\u001b[0;34m)\u001b[0m \u001b[0;32mas\u001b[0m \u001b[0me\u001b[0m\u001b[0;34m:\u001b[0m\u001b[0;34m\u001b[0m\u001b[0;34m\u001b[0m\u001b[0m\n\u001b[1;32m    447\u001b[0m             \u001b[0mself\u001b[0m\u001b[0;34m.\u001b[0m\u001b[0m_raise_timeout\u001b[0m\u001b[0;34m(\u001b[0m\u001b[0merr\u001b[0m\u001b[0;34m=\u001b[0m\u001b[0me\u001b[0m\u001b[0;34m,\u001b[0m \u001b[0murl\u001b[0m\u001b[0;34m=\u001b[0m\u001b[0murl\u001b[0m\u001b[0;34m,\u001b[0m \u001b[0mtimeout_value\u001b[0m\u001b[0;34m=\u001b[0m\u001b[0mread_timeout\u001b[0m\u001b[0;34m)\u001b[0m\u001b[0;34m\u001b[0m\u001b[0;34m\u001b[0m\u001b[0m\n",
      "\u001b[0;32m/Library/Frameworks/Python.framework/Versions/3.8/lib/python3.8/site-packages/urllib3/packages/six.py\u001b[0m in \u001b[0;36mraise_from\u001b[0;34m(value, from_value)\u001b[0m\n",
      "\u001b[0;32m/Library/Frameworks/Python.framework/Versions/3.8/lib/python3.8/site-packages/urllib3/connectionpool.py\u001b[0m in \u001b[0;36m_make_request\u001b[0;34m(self, conn, method, url, timeout, chunked, **httplib_request_kw)\u001b[0m\n\u001b[1;32m    438\u001b[0m                 \u001b[0;31m# Python 3\u001b[0m\u001b[0;34m\u001b[0m\u001b[0;34m\u001b[0m\u001b[0;34m\u001b[0m\u001b[0m\n\u001b[1;32m    439\u001b[0m                 \u001b[0;32mtry\u001b[0m\u001b[0;34m:\u001b[0m\u001b[0;34m\u001b[0m\u001b[0;34m\u001b[0m\u001b[0m\n\u001b[0;32m--> 440\u001b[0;31m                     \u001b[0mhttplib_response\u001b[0m \u001b[0;34m=\u001b[0m \u001b[0mconn\u001b[0m\u001b[0;34m.\u001b[0m\u001b[0mgetresponse\u001b[0m\u001b[0;34m(\u001b[0m\u001b[0;34m)\u001b[0m\u001b[0;34m\u001b[0m\u001b[0;34m\u001b[0m\u001b[0m\n\u001b[0m\u001b[1;32m    441\u001b[0m                 \u001b[0;32mexcept\u001b[0m \u001b[0mBaseException\u001b[0m \u001b[0;32mas\u001b[0m \u001b[0me\u001b[0m\u001b[0;34m:\u001b[0m\u001b[0;34m\u001b[0m\u001b[0;34m\u001b[0m\u001b[0m\n\u001b[1;32m    442\u001b[0m                     \u001b[0;31m# Remove the TypeError from the exception chain in\u001b[0m\u001b[0;34m\u001b[0m\u001b[0;34m\u001b[0m\u001b[0;34m\u001b[0m\u001b[0m\n",
      "\u001b[0;32m/Library/Frameworks/Python.framework/Versions/3.8/lib/python3.8/http/client.py\u001b[0m in \u001b[0;36mgetresponse\u001b[0;34m(self)\u001b[0m\n\u001b[1;32m   1345\u001b[0m         \u001b[0;32mtry\u001b[0m\u001b[0;34m:\u001b[0m\u001b[0;34m\u001b[0m\u001b[0;34m\u001b[0m\u001b[0m\n\u001b[1;32m   1346\u001b[0m             \u001b[0;32mtry\u001b[0m\u001b[0;34m:\u001b[0m\u001b[0;34m\u001b[0m\u001b[0;34m\u001b[0m\u001b[0m\n\u001b[0;32m-> 1347\u001b[0;31m                 \u001b[0mresponse\u001b[0m\u001b[0;34m.\u001b[0m\u001b[0mbegin\u001b[0m\u001b[0;34m(\u001b[0m\u001b[0;34m)\u001b[0m\u001b[0;34m\u001b[0m\u001b[0;34m\u001b[0m\u001b[0m\n\u001b[0m\u001b[1;32m   1348\u001b[0m             \u001b[0;32mexcept\u001b[0m \u001b[0mConnectionError\u001b[0m\u001b[0;34m:\u001b[0m\u001b[0;34m\u001b[0m\u001b[0;34m\u001b[0m\u001b[0m\n\u001b[1;32m   1349\u001b[0m                 \u001b[0mself\u001b[0m\u001b[0;34m.\u001b[0m\u001b[0mclose\u001b[0m\u001b[0;34m(\u001b[0m\u001b[0;34m)\u001b[0m\u001b[0;34m\u001b[0m\u001b[0;34m\u001b[0m\u001b[0m\n",
      "\u001b[0;32m/Library/Frameworks/Python.framework/Versions/3.8/lib/python3.8/http/client.py\u001b[0m in \u001b[0;36mbegin\u001b[0;34m(self)\u001b[0m\n\u001b[1;32m    305\u001b[0m         \u001b[0;31m# read until we get a non-100 response\u001b[0m\u001b[0;34m\u001b[0m\u001b[0;34m\u001b[0m\u001b[0;34m\u001b[0m\u001b[0m\n\u001b[1;32m    306\u001b[0m         \u001b[0;32mwhile\u001b[0m \u001b[0;32mTrue\u001b[0m\u001b[0;34m:\u001b[0m\u001b[0;34m\u001b[0m\u001b[0;34m\u001b[0m\u001b[0m\n\u001b[0;32m--> 307\u001b[0;31m             \u001b[0mversion\u001b[0m\u001b[0;34m,\u001b[0m \u001b[0mstatus\u001b[0m\u001b[0;34m,\u001b[0m \u001b[0mreason\u001b[0m \u001b[0;34m=\u001b[0m \u001b[0mself\u001b[0m\u001b[0;34m.\u001b[0m\u001b[0m_read_status\u001b[0m\u001b[0;34m(\u001b[0m\u001b[0;34m)\u001b[0m\u001b[0;34m\u001b[0m\u001b[0;34m\u001b[0m\u001b[0m\n\u001b[0m\u001b[1;32m    308\u001b[0m             \u001b[0;32mif\u001b[0m \u001b[0mstatus\u001b[0m \u001b[0;34m!=\u001b[0m \u001b[0mCONTINUE\u001b[0m\u001b[0;34m:\u001b[0m\u001b[0;34m\u001b[0m\u001b[0;34m\u001b[0m\u001b[0m\n\u001b[1;32m    309\u001b[0m                 \u001b[0;32mbreak\u001b[0m\u001b[0;34m\u001b[0m\u001b[0;34m\u001b[0m\u001b[0m\n",
      "\u001b[0;32m/Library/Frameworks/Python.framework/Versions/3.8/lib/python3.8/http/client.py\u001b[0m in \u001b[0;36m_read_status\u001b[0;34m(self)\u001b[0m\n\u001b[1;32m    266\u001b[0m \u001b[0;34m\u001b[0m\u001b[0m\n\u001b[1;32m    267\u001b[0m     \u001b[0;32mdef\u001b[0m \u001b[0m_read_status\u001b[0m\u001b[0;34m(\u001b[0m\u001b[0mself\u001b[0m\u001b[0;34m)\u001b[0m\u001b[0;34m:\u001b[0m\u001b[0;34m\u001b[0m\u001b[0;34m\u001b[0m\u001b[0m\n\u001b[0;32m--> 268\u001b[0;31m         \u001b[0mline\u001b[0m \u001b[0;34m=\u001b[0m \u001b[0mstr\u001b[0m\u001b[0;34m(\u001b[0m\u001b[0mself\u001b[0m\u001b[0;34m.\u001b[0m\u001b[0mfp\u001b[0m\u001b[0;34m.\u001b[0m\u001b[0mreadline\u001b[0m\u001b[0;34m(\u001b[0m\u001b[0m_MAXLINE\u001b[0m \u001b[0;34m+\u001b[0m \u001b[0;36m1\u001b[0m\u001b[0;34m)\u001b[0m\u001b[0;34m,\u001b[0m \u001b[0;34m\"iso-8859-1\"\u001b[0m\u001b[0;34m)\u001b[0m\u001b[0;34m\u001b[0m\u001b[0;34m\u001b[0m\u001b[0m\n\u001b[0m\u001b[1;32m    269\u001b[0m         \u001b[0;32mif\u001b[0m \u001b[0mlen\u001b[0m\u001b[0;34m(\u001b[0m\u001b[0mline\u001b[0m\u001b[0;34m)\u001b[0m \u001b[0;34m>\u001b[0m \u001b[0m_MAXLINE\u001b[0m\u001b[0;34m:\u001b[0m\u001b[0;34m\u001b[0m\u001b[0;34m\u001b[0m\u001b[0m\n\u001b[1;32m    270\u001b[0m             \u001b[0;32mraise\u001b[0m \u001b[0mLineTooLong\u001b[0m\u001b[0;34m(\u001b[0m\u001b[0;34m\"status line\"\u001b[0m\u001b[0;34m)\u001b[0m\u001b[0;34m\u001b[0m\u001b[0;34m\u001b[0m\u001b[0m\n",
      "\u001b[0;32m/Library/Frameworks/Python.framework/Versions/3.8/lib/python3.8/socket.py\u001b[0m in \u001b[0;36mreadinto\u001b[0;34m(self, b)\u001b[0m\n\u001b[1;32m    667\u001b[0m         \u001b[0;32mwhile\u001b[0m \u001b[0;32mTrue\u001b[0m\u001b[0;34m:\u001b[0m\u001b[0;34m\u001b[0m\u001b[0;34m\u001b[0m\u001b[0m\n\u001b[1;32m    668\u001b[0m             \u001b[0;32mtry\u001b[0m\u001b[0;34m:\u001b[0m\u001b[0;34m\u001b[0m\u001b[0;34m\u001b[0m\u001b[0m\n\u001b[0;32m--> 669\u001b[0;31m                 \u001b[0;32mreturn\u001b[0m \u001b[0mself\u001b[0m\u001b[0;34m.\u001b[0m\u001b[0m_sock\u001b[0m\u001b[0;34m.\u001b[0m\u001b[0mrecv_into\u001b[0m\u001b[0;34m(\u001b[0m\u001b[0mb\u001b[0m\u001b[0;34m)\u001b[0m\u001b[0;34m\u001b[0m\u001b[0;34m\u001b[0m\u001b[0m\n\u001b[0m\u001b[1;32m    670\u001b[0m             \u001b[0;32mexcept\u001b[0m \u001b[0mtimeout\u001b[0m\u001b[0;34m:\u001b[0m\u001b[0;34m\u001b[0m\u001b[0;34m\u001b[0m\u001b[0m\n\u001b[1;32m    671\u001b[0m                 \u001b[0mself\u001b[0m\u001b[0;34m.\u001b[0m\u001b[0m_timeout_occurred\u001b[0m \u001b[0;34m=\u001b[0m \u001b[0;32mTrue\u001b[0m\u001b[0;34m\u001b[0m\u001b[0;34m\u001b[0m\u001b[0m\n",
      "\u001b[0;32m/Library/Frameworks/Python.framework/Versions/3.8/lib/python3.8/ssl.py\u001b[0m in \u001b[0;36mrecv_into\u001b[0;34m(self, buffer, nbytes, flags)\u001b[0m\n\u001b[1;32m   1239\u001b[0m                   \u001b[0;34m\"non-zero flags not allowed in calls to recv_into() on %s\"\u001b[0m \u001b[0;34m%\u001b[0m\u001b[0;34m\u001b[0m\u001b[0;34m\u001b[0m\u001b[0m\n\u001b[1;32m   1240\u001b[0m                   self.__class__)\n\u001b[0;32m-> 1241\u001b[0;31m             \u001b[0;32mreturn\u001b[0m \u001b[0mself\u001b[0m\u001b[0;34m.\u001b[0m\u001b[0mread\u001b[0m\u001b[0;34m(\u001b[0m\u001b[0mnbytes\u001b[0m\u001b[0;34m,\u001b[0m \u001b[0mbuffer\u001b[0m\u001b[0;34m)\u001b[0m\u001b[0;34m\u001b[0m\u001b[0;34m\u001b[0m\u001b[0m\n\u001b[0m\u001b[1;32m   1242\u001b[0m         \u001b[0;32melse\u001b[0m\u001b[0;34m:\u001b[0m\u001b[0;34m\u001b[0m\u001b[0;34m\u001b[0m\u001b[0m\n\u001b[1;32m   1243\u001b[0m             \u001b[0;32mreturn\u001b[0m \u001b[0msuper\u001b[0m\u001b[0;34m(\u001b[0m\u001b[0;34m)\u001b[0m\u001b[0;34m.\u001b[0m\u001b[0mrecv_into\u001b[0m\u001b[0;34m(\u001b[0m\u001b[0mbuffer\u001b[0m\u001b[0;34m,\u001b[0m \u001b[0mnbytes\u001b[0m\u001b[0;34m,\u001b[0m \u001b[0mflags\u001b[0m\u001b[0;34m)\u001b[0m\u001b[0;34m\u001b[0m\u001b[0;34m\u001b[0m\u001b[0m\n",
      "\u001b[0;32m/Library/Frameworks/Python.framework/Versions/3.8/lib/python3.8/ssl.py\u001b[0m in \u001b[0;36mread\u001b[0;34m(self, len, buffer)\u001b[0m\n\u001b[1;32m   1097\u001b[0m         \u001b[0;32mtry\u001b[0m\u001b[0;34m:\u001b[0m\u001b[0;34m\u001b[0m\u001b[0;34m\u001b[0m\u001b[0m\n\u001b[1;32m   1098\u001b[0m             \u001b[0;32mif\u001b[0m \u001b[0mbuffer\u001b[0m \u001b[0;32mis\u001b[0m \u001b[0;32mnot\u001b[0m \u001b[0;32mNone\u001b[0m\u001b[0;34m:\u001b[0m\u001b[0;34m\u001b[0m\u001b[0;34m\u001b[0m\u001b[0m\n\u001b[0;32m-> 1099\u001b[0;31m                 \u001b[0;32mreturn\u001b[0m \u001b[0mself\u001b[0m\u001b[0;34m.\u001b[0m\u001b[0m_sslobj\u001b[0m\u001b[0;34m.\u001b[0m\u001b[0mread\u001b[0m\u001b[0;34m(\u001b[0m\u001b[0mlen\u001b[0m\u001b[0;34m,\u001b[0m \u001b[0mbuffer\u001b[0m\u001b[0;34m)\u001b[0m\u001b[0;34m\u001b[0m\u001b[0;34m\u001b[0m\u001b[0m\n\u001b[0m\u001b[1;32m   1100\u001b[0m             \u001b[0;32melse\u001b[0m\u001b[0;34m:\u001b[0m\u001b[0;34m\u001b[0m\u001b[0;34m\u001b[0m\u001b[0m\n\u001b[1;32m   1101\u001b[0m                 \u001b[0;32mreturn\u001b[0m \u001b[0mself\u001b[0m\u001b[0;34m.\u001b[0m\u001b[0m_sslobj\u001b[0m\u001b[0;34m.\u001b[0m\u001b[0mread\u001b[0m\u001b[0;34m(\u001b[0m\u001b[0mlen\u001b[0m\u001b[0;34m)\u001b[0m\u001b[0;34m\u001b[0m\u001b[0;34m\u001b[0m\u001b[0m\n",
      "\u001b[0;31mKeyboardInterrupt\u001b[0m: "
     ]
    }
   ],
   "source": [
    "for ind, post in enumerate(posts_all):\n",
    "    print(ind, post)"
   ]
  },
  {
   "cell_type": "code",
   "execution_count": 137,
   "metadata": {},
   "outputs": [
    {
     "output_type": "execute_result",
     "data": {
      "text/plain": [
       "<generator object GraphAPI.get_all_connections at 0x7fc8cd04c190>"
      ]
     },
     "metadata": {},
     "execution_count": 137
    }
   ],
   "source": [
    "posts_all"
   ]
  },
  {
   "cell_type": "code",
   "execution_count": 176,
   "metadata": {},
   "outputs": [],
   "source": [
    "newdf = pd.DataFrame()"
   ]
  },
  {
   "cell_type": "code",
   "execution_count": 182,
   "metadata": {},
   "outputs": [],
   "source": [
    "posts_all = graph.get_all_connections(id=165419643537532, connection_name='posts', fields='id')"
   ]
  },
  {
   "cell_type": "code",
   "execution_count": 185,
   "metadata": {},
   "outputs": [
    {
     "output_type": "error",
     "ename": "GraphAPIError",
     "evalue": "(#803) Some of the aliases you requested do not exist: 0       165419643537532_3697420720337389\n1       165419643537532_3697304380349023\n2       165419643537532_3695161693896625\n3       165419643537532_3694477183965076\n4       165419643537532_3690108024401992\n                      ...               \n7028     165419643537532_179787395434090\n7029     165419643537532_179748328771330\n7030     165419643537532_178622235550606\n7031     165419643537532_177815448964618\n7037     165419643537532_174031516009678\nName: id, Length: 5425, dtype: object",
     "traceback": [
      "\u001b[0;31m---------------------------------------------------------------------------\u001b[0m",
      "\u001b[0;31mGraphAPIError\u001b[0m                             Traceback (most recent call last)",
      "\u001b[0;32m<ipython-input-185-93de7cc4d888>\u001b[0m in \u001b[0;36m<module>\u001b[0;34m\u001b[0m\n\u001b[0;32m----> 1\u001b[0;31m \u001b[0;32mfor\u001b[0m \u001b[0mind\u001b[0m\u001b[0;34m,\u001b[0m \u001b[0mpost\u001b[0m \u001b[0;32min\u001b[0m \u001b[0menumerate\u001b[0m\u001b[0;34m(\u001b[0m\u001b[0minsight\u001b[0m\u001b[0;34m)\u001b[0m\u001b[0;34m:\u001b[0m\u001b[0;34m\u001b[0m\u001b[0;34m\u001b[0m\u001b[0m\n\u001b[0m\u001b[1;32m      2\u001b[0m     \u001b[0mdf\u001b[0m\u001b[0;34m[\u001b[0m\u001b[0;34m'insight_post'\u001b[0m\u001b[0;34m]\u001b[0m \u001b[0;34m=\u001b[0m \u001b[0mpost\u001b[0m\u001b[0;34m\u001b[0m\u001b[0;34m\u001b[0m\u001b[0m\n",
      "\u001b[0;32m/Library/Frameworks/Python.framework/Versions/3.8/lib/python3.8/site-packages/facebook/__init__.py\u001b[0m in \u001b[0;36mget_all_connections\u001b[0;34m(self, id, connection_name, **args)\u001b[0m\n\u001b[1;32m    158\u001b[0m         \"\"\"\n\u001b[1;32m    159\u001b[0m         \u001b[0;32mwhile\u001b[0m \u001b[0;32mTrue\u001b[0m\u001b[0;34m:\u001b[0m\u001b[0;34m\u001b[0m\u001b[0;34m\u001b[0m\u001b[0m\n\u001b[0;32m--> 160\u001b[0;31m             \u001b[0mpage\u001b[0m \u001b[0;34m=\u001b[0m \u001b[0mself\u001b[0m\u001b[0;34m.\u001b[0m\u001b[0mget_connections\u001b[0m\u001b[0;34m(\u001b[0m\u001b[0mid\u001b[0m\u001b[0;34m,\u001b[0m \u001b[0mconnection_name\u001b[0m\u001b[0;34m,\u001b[0m \u001b[0;34m**\u001b[0m\u001b[0margs\u001b[0m\u001b[0;34m)\u001b[0m\u001b[0;34m\u001b[0m\u001b[0;34m\u001b[0m\u001b[0m\n\u001b[0m\u001b[1;32m    161\u001b[0m             \u001b[0;32mfor\u001b[0m \u001b[0mpost\u001b[0m \u001b[0;32min\u001b[0m \u001b[0mpage\u001b[0m\u001b[0;34m[\u001b[0m\u001b[0;34m\"data\"\u001b[0m\u001b[0;34m]\u001b[0m\u001b[0;34m:\u001b[0m\u001b[0;34m\u001b[0m\u001b[0;34m\u001b[0m\u001b[0m\n\u001b[1;32m    162\u001b[0m                 \u001b[0;32myield\u001b[0m \u001b[0mpost\u001b[0m\u001b[0;34m\u001b[0m\u001b[0;34m\u001b[0m\u001b[0m\n",
      "\u001b[0;32m/Library/Frameworks/Python.framework/Versions/3.8/lib/python3.8/site-packages/facebook/__init__.py\u001b[0m in \u001b[0;36mget_connections\u001b[0;34m(self, id, connection_name, **args)\u001b[0m\n\u001b[1;32m    147\u001b[0m     \u001b[0;32mdef\u001b[0m \u001b[0mget_connections\u001b[0m\u001b[0;34m(\u001b[0m\u001b[0mself\u001b[0m\u001b[0;34m,\u001b[0m \u001b[0mid\u001b[0m\u001b[0;34m,\u001b[0m \u001b[0mconnection_name\u001b[0m\u001b[0;34m,\u001b[0m \u001b[0;34m**\u001b[0m\u001b[0margs\u001b[0m\u001b[0;34m)\u001b[0m\u001b[0;34m:\u001b[0m\u001b[0;34m\u001b[0m\u001b[0;34m\u001b[0m\u001b[0m\n\u001b[1;32m    148\u001b[0m         \u001b[0;34m\"\"\"Fetches the connections for given object.\"\"\"\u001b[0m\u001b[0;34m\u001b[0m\u001b[0;34m\u001b[0m\u001b[0m\n\u001b[0;32m--> 149\u001b[0;31m         return self.request(\n\u001b[0m\u001b[1;32m    150\u001b[0m             \u001b[0;34m\"{0}/{1}/{2}\"\u001b[0m\u001b[0;34m.\u001b[0m\u001b[0mformat\u001b[0m\u001b[0;34m(\u001b[0m\u001b[0mself\u001b[0m\u001b[0;34m.\u001b[0m\u001b[0mversion\u001b[0m\u001b[0;34m,\u001b[0m \u001b[0mid\u001b[0m\u001b[0;34m,\u001b[0m \u001b[0mconnection_name\u001b[0m\u001b[0;34m)\u001b[0m\u001b[0;34m,\u001b[0m \u001b[0margs\u001b[0m\u001b[0;34m\u001b[0m\u001b[0;34m\u001b[0m\u001b[0m\n\u001b[1;32m    151\u001b[0m         )\n",
      "\u001b[0;32m/Library/Frameworks/Python.framework/Versions/3.8/lib/python3.8/site-packages/facebook/__init__.py\u001b[0m in \u001b[0;36mrequest\u001b[0;34m(self, path, args, post_args, files, method)\u001b[0m\n\u001b[1;32m    311\u001b[0m \u001b[0;34m\u001b[0m\u001b[0m\n\u001b[1;32m    312\u001b[0m         \u001b[0;32mif\u001b[0m \u001b[0mresult\u001b[0m \u001b[0;32mand\u001b[0m \u001b[0misinstance\u001b[0m\u001b[0;34m(\u001b[0m\u001b[0mresult\u001b[0m\u001b[0;34m,\u001b[0m \u001b[0mdict\u001b[0m\u001b[0;34m)\u001b[0m \u001b[0;32mand\u001b[0m \u001b[0mresult\u001b[0m\u001b[0;34m.\u001b[0m\u001b[0mget\u001b[0m\u001b[0;34m(\u001b[0m\u001b[0;34m\"error\"\u001b[0m\u001b[0;34m)\u001b[0m\u001b[0;34m:\u001b[0m\u001b[0;34m\u001b[0m\u001b[0;34m\u001b[0m\u001b[0m\n\u001b[0;32m--> 313\u001b[0;31m             \u001b[0;32mraise\u001b[0m \u001b[0mGraphAPIError\u001b[0m\u001b[0;34m(\u001b[0m\u001b[0mresult\u001b[0m\u001b[0;34m)\u001b[0m\u001b[0;34m\u001b[0m\u001b[0;34m\u001b[0m\u001b[0m\n\u001b[0m\u001b[1;32m    314\u001b[0m         \u001b[0;32mreturn\u001b[0m \u001b[0mresult\u001b[0m\u001b[0;34m\u001b[0m\u001b[0;34m\u001b[0m\u001b[0m\n\u001b[1;32m    315\u001b[0m \u001b[0;34m\u001b[0m\u001b[0m\n",
      "\u001b[0;31mGraphAPIError\u001b[0m: (#803) Some of the aliases you requested do not exist: 0       165419643537532_3697420720337389\n1       165419643537532_3697304380349023\n2       165419643537532_3695161693896625\n3       165419643537532_3694477183965076\n4       165419643537532_3690108024401992\n                      ...               \n7028     165419643537532_179787395434090\n7029     165419643537532_179748328771330\n7030     165419643537532_178622235550606\n7031     165419643537532_177815448964618\n7037     165419643537532_174031516009678\nName: id, Length: 5425, dtype: object"
     ]
    }
   ],
   "source": [
    "for ind, post in enumerate(insight):\n",
    "    df['insight_post'] = post"
   ]
  },
  {
   "cell_type": "code",
   "execution_count": 181,
   "metadata": {},
   "outputs": [
    {
     "output_type": "execute_result",
     "data": {
      "text/plain": [
       "Empty DataFrame\n",
       "Columns: [id]\n",
       "Index: []"
      ],
      "text/html": "<div>\n<style scoped>\n    .dataframe tbody tr th:only-of-type {\n        vertical-align: middle;\n    }\n\n    .dataframe tbody tr th {\n        vertical-align: top;\n    }\n\n    .dataframe thead th {\n        text-align: right;\n    }\n</style>\n<table border=\"1\" class=\"dataframe\">\n  <thead>\n    <tr style=\"text-align: right;\">\n      <th></th>\n      <th>id</th>\n    </tr>\n  </thead>\n  <tbody>\n  </tbody>\n</table>\n</div>"
     },
     "metadata": {},
     "execution_count": 181
    }
   ],
   "source": [
    "newdf"
   ]
  }
 ]
}