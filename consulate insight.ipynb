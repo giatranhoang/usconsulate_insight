{
 "metadata": {
  "language_info": {
   "codemirror_mode": {
    "name": "ipython",
    "version": 3
   },
   "file_extension": ".py",
   "mimetype": "text/x-python",
   "name": "python",
   "nbconvert_exporter": "python",
   "pygments_lexer": "ipython3",
   "version": "3.8.7-final"
  },
  "orig_nbformat": 2,
  "kernelspec": {
   "name": "python387jvsc74a57bd0082e9a3bcad0a290d0001e938aa60b99250c6c2ef33a923c00b70f9826caf4b7",
   "display_name": "Python 3.8.7 64-bit"
  },
  "metadata": {
   "interpreter": {
    "hash": "082e9a3bcad0a290d0001e938aa60b99250c6c2ef33a923c00b70f9826caf4b7"
   }
  }
 },
 "nbformat": 4,
 "nbformat_minor": 2,
 "cells": [
  {
   "cell_type": "code",
   "execution_count": 3,
   "metadata": {},
   "outputs": [],
   "source": [
    "import pandas as pd\n",
    "from datetime import datetime\n",
    "import numpy as np\n",
    "import matplotlib as plt"
   ]
  },
  {
   "cell_type": "code",
   "execution_count": 6,
   "metadata": {},
   "outputs": [
    {
     "output_type": "execute_result",
     "data": {
      "text/plain": [
       "      anger                                           comments  \\\n",
       "0       NaN                                                 []   \n",
       "1       NaN  [{'message': 'The US should ban single-use pla...   \n",
       "2       1.0  [{'message': 'High risk high return, really ho...   \n",
       "3       1.0  [{'message': '', 'id': '3910151185731007_39111...   \n",
       "4       1.0  [{'message': 'Thank you very much for joining ...   \n",
       "...     ...                                                ...   \n",
       "6574    NaN  [{'message': 'Thnks The American Centre for ho...   \n",
       "6575    NaN  [{'message': 'Dear Chi Linh and all,', 'id': '...   \n",
       "6576    NaN  [{'message': 'Dear Chi Linh and all,', 'id': '...   \n",
       "6577    NaN                                                 []   \n",
       "6578    NaN  [{'message': 'Are you opened on Saturday?', 'i...   \n",
       "\n",
       "      count_comments              created_time  \\\n",
       "0                NaN  2021-04-22T01:45:35+0000   \n",
       "1               11.0  2021-04-21T09:14:21+0000   \n",
       "2                3.0  2021-04-21T03:08:54+0000   \n",
       "3                9.0  2021-04-20T13:21:00+0000   \n",
       "4               33.0  2021-04-20T10:28:50+0000   \n",
       "...              ...                       ...   \n",
       "6574             NaN  2011-10-03T08:53:12+0000   \n",
       "6575             NaN  2011-09-30T15:05:30+0000   \n",
       "6576             NaN  2011-09-30T06:29:49+0000   \n",
       "6577             NaN  2011-09-28T03:15:16+0000   \n",
       "6578             NaN  2011-09-14T12:20:12+0000   \n",
       "\n",
       "                                           full_picture  \\\n",
       "0     https://external.fsgn5-7.fna.fbcdn.net/safe_im...   \n",
       "1     https://external.fsgn5-7.fna.fbcdn.net/safe_im...   \n",
       "2     https://external.fsgn5-7.fna.fbcdn.net/safe_im...   \n",
       "3     https://scontent.fsgn5-3.fna.fbcdn.net/v/t1.64...   \n",
       "4     https://scontent.fsgn5-7.fna.fbcdn.net/v/t15.1...   \n",
       "...                                                 ...   \n",
       "6574  https://scontent.fsgn5-6.fna.fbcdn.net/v/t1.18...   \n",
       "6575  https://scontent.fsgn5-5.fna.fbcdn.net/v/t1.18...   \n",
       "6576  https://scontent.fsgn5-5.fna.fbcdn.net/v/t1.18...   \n",
       "6577                                                NaN   \n",
       "6578  https://scontent.fsgn5-5.fna.fbcdn.net/v/t1.18...   \n",
       "\n",
       "                                    id  likes  \\\n",
       "0     165419643537532_3910631939016265   12.0   \n",
       "1     165419643537532_3907208106025315  187.0   \n",
       "2     165419643537532_3910084812404311  125.0   \n",
       "3     165419643537532_3910151185731007  156.0   \n",
       "4     165419643537532_3970213129739105  191.0   \n",
       "...                                ...    ...   \n",
       "6574   165419643537532_176095189136644    NaN   \n",
       "6575   165419643537532_175001792579317    NaN   \n",
       "6576   165419643537532_174882175924612    NaN   \n",
       "6577   165419643537532_174031516009678    8.0   \n",
       "6578   165419643537532_168350943244402    NaN   \n",
       "\n",
       "                                                message  \\\n",
       "0     🌎🌳 Hãy tham gia thử thách với chúng tôi qua cá...   \n",
       "1     #Bạncóbiết Hoa Kỳ đầu tư khoảng 2,5 tỷ đô để g...   \n",
       "2     👩🏻‍🎓📚🇻🇳 Hãy cùng tìm hiểu về trải nghiệm của b...   \n",
       "3     🇺🇸 Hoa Kỳ đang hợp tác với Ấn Độ 🇮🇳, Úc 🇦🇺 và ...   \n",
       "4     What is it like to be Asian in America? What c...   \n",
       "...                                                 ...   \n",
       "6574  On September 23, to mark a World Heart Day and...   \n",
       "6575                                                NaN   \n",
       "6576                                                NaN   \n",
       "6577  The American Center - Grand Opening September ...   \n",
       "6578                                                NaN   \n",
       "\n",
       "                                           message_tags  \\\n",
       "0                                                    []   \n",
       "1     [{'id': '175644755921764', 'name': '#Bạncóbiết...   \n",
       "2                                                    []   \n",
       "3                                                    []   \n",
       "4                                                   NaN   \n",
       "...                                                 ...   \n",
       "6574                                                NaN   \n",
       "6575                                                NaN   \n",
       "6576                                                NaN   \n",
       "6577                                                NaN   \n",
       "6578                                                NaN   \n",
       "\n",
       "                                          permalink_url  share  \\\n",
       "0     https://www.facebook.com/165419643537532/posts...    5.0   \n",
       "1     https://www.facebook.com/165419643537532/posts...   12.0   \n",
       "2     https://www.facebook.com/165419643537532/posts...   11.0   \n",
       "3     https://www.facebook.com/165419643537532/posts...   14.0   \n",
       "4     https://www.facebook.com/USConsulateHCMC/video...   18.0   \n",
       "...                                                 ...    ...   \n",
       "6574  https://www.facebook.com/USConsulateHCMC/photo...    NaN   \n",
       "6575  https://www.facebook.com/USConsulateHCMC/photo...    NaN   \n",
       "6576  https://www.facebook.com/USConsulateHCMC/photo...    NaN   \n",
       "6577  https://www.facebook.com/165419643537532/posts...    NaN   \n",
       "6578  https://www.facebook.com/USConsulateHCMC/photo...    NaN   \n",
       "\n",
       "               status_type  \n",
       "0             shared_story  \n",
       "1             shared_story  \n",
       "2             shared_story  \n",
       "3             added_photos  \n",
       "4              added_video  \n",
       "...                    ...  \n",
       "6574          added_photos  \n",
       "6575          added_photos  \n",
       "6576          added_photos  \n",
       "6577  mobile_status_update  \n",
       "6578          added_photos  \n",
       "\n",
       "[6579 rows x 12 columns]"
      ],
      "text/html": "<div>\n<style scoped>\n    .dataframe tbody tr th:only-of-type {\n        vertical-align: middle;\n    }\n\n    .dataframe tbody tr th {\n        vertical-align: top;\n    }\n\n    .dataframe thead th {\n        text-align: right;\n    }\n</style>\n<table border=\"1\" class=\"dataframe\">\n  <thead>\n    <tr style=\"text-align: right;\">\n      <th></th>\n      <th>anger</th>\n      <th>comments</th>\n      <th>count_comments</th>\n      <th>created_time</th>\n      <th>full_picture</th>\n      <th>id</th>\n      <th>likes</th>\n      <th>message</th>\n      <th>message_tags</th>\n      <th>permalink_url</th>\n      <th>share</th>\n      <th>status_type</th>\n    </tr>\n  </thead>\n  <tbody>\n    <tr>\n      <th>0</th>\n      <td>NaN</td>\n      <td>[]</td>\n      <td>NaN</td>\n      <td>2021-04-22T01:45:35+0000</td>\n      <td>https://external.fsgn5-7.fna.fbcdn.net/safe_im...</td>\n      <td>165419643537532_3910631939016265</td>\n      <td>12.0</td>\n      <td>🌎🌳 Hãy tham gia thử thách với chúng tôi qua cá...</td>\n      <td>[]</td>\n      <td>https://www.facebook.com/165419643537532/posts...</td>\n      <td>5.0</td>\n      <td>shared_story</td>\n    </tr>\n    <tr>\n      <th>1</th>\n      <td>NaN</td>\n      <td>[{'message': 'The US should ban single-use pla...</td>\n      <td>11.0</td>\n      <td>2021-04-21T09:14:21+0000</td>\n      <td>https://external.fsgn5-7.fna.fbcdn.net/safe_im...</td>\n      <td>165419643537532_3907208106025315</td>\n      <td>187.0</td>\n      <td>#Bạncóbiết Hoa Kỳ đầu tư khoảng 2,5 tỷ đô để g...</td>\n      <td>[{'id': '175644755921764', 'name': '#Bạncóbiết...</td>\n      <td>https://www.facebook.com/165419643537532/posts...</td>\n      <td>12.0</td>\n      <td>shared_story</td>\n    </tr>\n    <tr>\n      <th>2</th>\n      <td>1.0</td>\n      <td>[{'message': 'High risk high return, really ho...</td>\n      <td>3.0</td>\n      <td>2021-04-21T03:08:54+0000</td>\n      <td>https://external.fsgn5-7.fna.fbcdn.net/safe_im...</td>\n      <td>165419643537532_3910084812404311</td>\n      <td>125.0</td>\n      <td>👩🏻‍🎓📚🇻🇳 Hãy cùng tìm hiểu về trải nghiệm của b...</td>\n      <td>[]</td>\n      <td>https://www.facebook.com/165419643537532/posts...</td>\n      <td>11.0</td>\n      <td>shared_story</td>\n    </tr>\n    <tr>\n      <th>3</th>\n      <td>1.0</td>\n      <td>[{'message': '', 'id': '3910151185731007_39111...</td>\n      <td>9.0</td>\n      <td>2021-04-20T13:21:00+0000</td>\n      <td>https://scontent.fsgn5-3.fna.fbcdn.net/v/t1.64...</td>\n      <td>165419643537532_3910151185731007</td>\n      <td>156.0</td>\n      <td>🇺🇸 Hoa Kỳ đang hợp tác với Ấn Độ 🇮🇳, Úc 🇦🇺 và ...</td>\n      <td>[]</td>\n      <td>https://www.facebook.com/165419643537532/posts...</td>\n      <td>14.0</td>\n      <td>added_photos</td>\n    </tr>\n    <tr>\n      <th>4</th>\n      <td>1.0</td>\n      <td>[{'message': 'Thank you very much for joining ...</td>\n      <td>33.0</td>\n      <td>2021-04-20T10:28:50+0000</td>\n      <td>https://scontent.fsgn5-7.fna.fbcdn.net/v/t15.1...</td>\n      <td>165419643537532_3970213129739105</td>\n      <td>191.0</td>\n      <td>What is it like to be Asian in America? What c...</td>\n      <td>NaN</td>\n      <td>https://www.facebook.com/USConsulateHCMC/video...</td>\n      <td>18.0</td>\n      <td>added_video</td>\n    </tr>\n    <tr>\n      <th>...</th>\n      <td>...</td>\n      <td>...</td>\n      <td>...</td>\n      <td>...</td>\n      <td>...</td>\n      <td>...</td>\n      <td>...</td>\n      <td>...</td>\n      <td>...</td>\n      <td>...</td>\n      <td>...</td>\n      <td>...</td>\n    </tr>\n    <tr>\n      <th>6574</th>\n      <td>NaN</td>\n      <td>[{'message': 'Thnks The American Centre for ho...</td>\n      <td>NaN</td>\n      <td>2011-10-03T08:53:12+0000</td>\n      <td>https://scontent.fsgn5-6.fna.fbcdn.net/v/t1.18...</td>\n      <td>165419643537532_176095189136644</td>\n      <td>NaN</td>\n      <td>On September 23, to mark a World Heart Day and...</td>\n      <td>NaN</td>\n      <td>https://www.facebook.com/USConsulateHCMC/photo...</td>\n      <td>NaN</td>\n      <td>added_photos</td>\n    </tr>\n    <tr>\n      <th>6575</th>\n      <td>NaN</td>\n      <td>[{'message': 'Dear Chi Linh and all,', 'id': '...</td>\n      <td>NaN</td>\n      <td>2011-09-30T15:05:30+0000</td>\n      <td>https://scontent.fsgn5-5.fna.fbcdn.net/v/t1.18...</td>\n      <td>165419643537532_175001792579317</td>\n      <td>NaN</td>\n      <td>NaN</td>\n      <td>NaN</td>\n      <td>https://www.facebook.com/USConsulateHCMC/photo...</td>\n      <td>NaN</td>\n      <td>added_photos</td>\n    </tr>\n    <tr>\n      <th>6576</th>\n      <td>NaN</td>\n      <td>[{'message': 'Dear Chi Linh and all,', 'id': '...</td>\n      <td>NaN</td>\n      <td>2011-09-30T06:29:49+0000</td>\n      <td>https://scontent.fsgn5-5.fna.fbcdn.net/v/t1.18...</td>\n      <td>165419643537532_174882175924612</td>\n      <td>NaN</td>\n      <td>NaN</td>\n      <td>NaN</td>\n      <td>https://www.facebook.com/USConsulateHCMC/photo...</td>\n      <td>NaN</td>\n      <td>added_photos</td>\n    </tr>\n    <tr>\n      <th>6577</th>\n      <td>NaN</td>\n      <td>[]</td>\n      <td>NaN</td>\n      <td>2011-09-28T03:15:16+0000</td>\n      <td>NaN</td>\n      <td>165419643537532_174031516009678</td>\n      <td>8.0</td>\n      <td>The American Center - Grand Opening September ...</td>\n      <td>NaN</td>\n      <td>https://www.facebook.com/165419643537532/posts...</td>\n      <td>NaN</td>\n      <td>mobile_status_update</td>\n    </tr>\n    <tr>\n      <th>6578</th>\n      <td>NaN</td>\n      <td>[{'message': 'Are you opened on Saturday?', 'i...</td>\n      <td>NaN</td>\n      <td>2011-09-14T12:20:12+0000</td>\n      <td>https://scontent.fsgn5-5.fna.fbcdn.net/v/t1.18...</td>\n      <td>165419643537532_168350943244402</td>\n      <td>NaN</td>\n      <td>NaN</td>\n      <td>NaN</td>\n      <td>https://www.facebook.com/USConsulateHCMC/photo...</td>\n      <td>NaN</td>\n      <td>added_photos</td>\n    </tr>\n  </tbody>\n</table>\n<p>6579 rows × 12 columns</p>\n</div>"
     },
     "metadata": {},
     "execution_count": 6
    }
   ],
   "source": [
    "df = pd.read_csv(\"Updating_Consulate Posts.csv\", index_col=0)\n",
    "df"
   ]
  },
  {
   "cell_type": "code",
   "execution_count": 17,
   "metadata": {},
   "outputs": [],
   "source": [
    "pd.set_option('display.max_columns', None)"
   ]
  },
  {
   "cell_type": "code",
   "execution_count": 9,
   "metadata": {},
   "outputs": [
    {
     "output_type": "stream",
     "name": "stdout",
     "text": [
      "<class 'pandas.core.frame.DataFrame'>\nInt64Index: 6579 entries, 0 to 6578\nData columns (total 12 columns):\n #   Column          Non-Null Count  Dtype  \n---  ------          --------------  -----  \n 0   anger           456 non-null    float64\n 1   comments        6579 non-null   object \n 2   count_comments  3848 non-null   float64\n 3   created_time    6579 non-null   object \n 4   full_picture    5866 non-null   object \n 5   id              6579 non-null   object \n 6   likes           4634 non-null   float64\n 7   message         5556 non-null   object \n 8   message_tags    3417 non-null   object \n 9   permalink_url   6579 non-null   object \n 10  share           4798 non-null   float64\n 11  status_type     6558 non-null   object \ndtypes: float64(4), object(8)\nmemory usage: 668.2+ KB\n"
     ]
    }
   ],
   "source": [
    "df.info()"
   ]
  },
  {
   "cell_type": "code",
   "execution_count": 8,
   "metadata": {},
   "outputs": [
    {
     "output_type": "execute_result",
     "data": {
      "text/plain": [
       "            anger  count_comments         likes        share\n",
       "count  456.000000     3848.000000   4634.000000  4798.000000\n",
       "mean     9.561404       35.844335    280.048338    27.631513\n",
       "std     56.392313      128.518648    864.253337    78.978960\n",
       "min      1.000000        1.000000      1.000000     1.000000\n",
       "25%      1.000000        3.000000     43.000000     4.000000\n",
       "50%      1.000000        9.000000    101.000000    10.000000\n",
       "75%      2.000000       26.000000    240.000000    23.000000\n",
       "max    817.000000     3459.000000  18810.000000  1925.000000"
      ],
      "text/html": "<div>\n<style scoped>\n    .dataframe tbody tr th:only-of-type {\n        vertical-align: middle;\n    }\n\n    .dataframe tbody tr th {\n        vertical-align: top;\n    }\n\n    .dataframe thead th {\n        text-align: right;\n    }\n</style>\n<table border=\"1\" class=\"dataframe\">\n  <thead>\n    <tr style=\"text-align: right;\">\n      <th></th>\n      <th>anger</th>\n      <th>count_comments</th>\n      <th>likes</th>\n      <th>share</th>\n    </tr>\n  </thead>\n  <tbody>\n    <tr>\n      <th>count</th>\n      <td>456.000000</td>\n      <td>3848.000000</td>\n      <td>4634.000000</td>\n      <td>4798.000000</td>\n    </tr>\n    <tr>\n      <th>mean</th>\n      <td>9.561404</td>\n      <td>35.844335</td>\n      <td>280.048338</td>\n      <td>27.631513</td>\n    </tr>\n    <tr>\n      <th>std</th>\n      <td>56.392313</td>\n      <td>128.518648</td>\n      <td>864.253337</td>\n      <td>78.978960</td>\n    </tr>\n    <tr>\n      <th>min</th>\n      <td>1.000000</td>\n      <td>1.000000</td>\n      <td>1.000000</td>\n      <td>1.000000</td>\n    </tr>\n    <tr>\n      <th>25%</th>\n      <td>1.000000</td>\n      <td>3.000000</td>\n      <td>43.000000</td>\n      <td>4.000000</td>\n    </tr>\n    <tr>\n      <th>50%</th>\n      <td>1.000000</td>\n      <td>9.000000</td>\n      <td>101.000000</td>\n      <td>10.000000</td>\n    </tr>\n    <tr>\n      <th>75%</th>\n      <td>2.000000</td>\n      <td>26.000000</td>\n      <td>240.000000</td>\n      <td>23.000000</td>\n    </tr>\n    <tr>\n      <th>max</th>\n      <td>817.000000</td>\n      <td>3459.000000</td>\n      <td>18810.000000</td>\n      <td>1925.000000</td>\n    </tr>\n  </tbody>\n</table>\n</div>"
     },
     "metadata": {},
     "execution_count": 8
    }
   ],
   "source": [
    "df.describe()"
   ]
  },
  {
   "cell_type": "code",
   "execution_count": 19,
   "metadata": {},
   "outputs": [
    {
     "output_type": "execute_result",
     "data": {
      "text/plain": [
       "                      anger  comments  count_comments  created_time  \\\n",
       "status_type                                                           \n",
       "added_photos            277      3189            1835          3189   \n",
       "added_video             107       390             379           390   \n",
       "created_event             2       805              23           805   \n",
       "mobile_status_update      9       468             403           468   \n",
       "shared_story             61      1706            1192          1706   \n",
       "\n",
       "                      full_picture    id  likes  message  message_tags  \\\n",
       "status_type                                                              \n",
       "added_photos                  3189  3189   2020     3115          2003   \n",
       "added_video                    390   390    387      378           197   \n",
       "created_event                  741   805     37        0             0   \n",
       "mobile_status_update           103   468    467      438           126   \n",
       "shared_story                  1443  1706   1702     1625          1091   \n",
       "\n",
       "                      permalink_url  share  \n",
       "status_type                                 \n",
       "added_photos                   3189   2888  \n",
       "added_video                     390    387  \n",
       "created_event                   805      0  \n",
       "mobile_status_update            468    306  \n",
       "shared_story                   1706   1210  "
      ],
      "text/html": "<div>\n<style scoped>\n    .dataframe tbody tr th:only-of-type {\n        vertical-align: middle;\n    }\n\n    .dataframe tbody tr th {\n        vertical-align: top;\n    }\n\n    .dataframe thead th {\n        text-align: right;\n    }\n</style>\n<table border=\"1\" class=\"dataframe\">\n  <thead>\n    <tr style=\"text-align: right;\">\n      <th></th>\n      <th>anger</th>\n      <th>comments</th>\n      <th>count_comments</th>\n      <th>created_time</th>\n      <th>full_picture</th>\n      <th>id</th>\n      <th>likes</th>\n      <th>message</th>\n      <th>message_tags</th>\n      <th>permalink_url</th>\n      <th>share</th>\n    </tr>\n    <tr>\n      <th>status_type</th>\n      <th></th>\n      <th></th>\n      <th></th>\n      <th></th>\n      <th></th>\n      <th></th>\n      <th></th>\n      <th></th>\n      <th></th>\n      <th></th>\n      <th></th>\n    </tr>\n  </thead>\n  <tbody>\n    <tr>\n      <th>added_photos</th>\n      <td>277</td>\n      <td>3189</td>\n      <td>1835</td>\n      <td>3189</td>\n      <td>3189</td>\n      <td>3189</td>\n      <td>2020</td>\n      <td>3115</td>\n      <td>2003</td>\n      <td>3189</td>\n      <td>2888</td>\n    </tr>\n    <tr>\n      <th>added_video</th>\n      <td>107</td>\n      <td>390</td>\n      <td>379</td>\n      <td>390</td>\n      <td>390</td>\n      <td>390</td>\n      <td>387</td>\n      <td>378</td>\n      <td>197</td>\n      <td>390</td>\n      <td>387</td>\n    </tr>\n    <tr>\n      <th>created_event</th>\n      <td>2</td>\n      <td>805</td>\n      <td>23</td>\n      <td>805</td>\n      <td>741</td>\n      <td>805</td>\n      <td>37</td>\n      <td>0</td>\n      <td>0</td>\n      <td>805</td>\n      <td>0</td>\n    </tr>\n    <tr>\n      <th>mobile_status_update</th>\n      <td>9</td>\n      <td>468</td>\n      <td>403</td>\n      <td>468</td>\n      <td>103</td>\n      <td>468</td>\n      <td>467</td>\n      <td>438</td>\n      <td>126</td>\n      <td>468</td>\n      <td>306</td>\n    </tr>\n    <tr>\n      <th>shared_story</th>\n      <td>61</td>\n      <td>1706</td>\n      <td>1192</td>\n      <td>1706</td>\n      <td>1443</td>\n      <td>1706</td>\n      <td>1702</td>\n      <td>1625</td>\n      <td>1091</td>\n      <td>1706</td>\n      <td>1210</td>\n    </tr>\n  </tbody>\n</table>\n</div>"
     },
     "metadata": {},
     "execution_count": 19
    }
   ],
   "source": [
    "df.groupby(\"status_type\").count()"
   ]
  },
  {
   "cell_type": "code",
   "execution_count": null,
   "metadata": {},
   "outputs": [],
   "source": []
  }
 ]
}