{
 "metadata": {
  "language_info": {
   "codemirror_mode": {
    "name": "ipython",
    "version": 3
   },
   "file_extension": ".py",
   "mimetype": "text/x-python",
   "name": "python",
   "nbconvert_exporter": "python",
   "pygments_lexer": "ipython3",
   "version": "3.8.7"
  },
  "orig_nbformat": 2,
  "kernelspec": {
   "name": "python3",
   "display_name": "Python 3.8.7 64-bit",
   "metadata": {
    "interpreter": {
     "hash": "aee8b7b246df8f9039afb4144a1f6fd8d2ca17a180786b69acc140d282b71a49"
    }
   }
  }
 },
 "nbformat": 4,
 "nbformat_minor": 2,
 "cells": [
  {
   "cell_type": "code",
   "execution_count": 1,
   "metadata": {},
   "outputs": [],
   "source": [
    "import numpy as np\n",
    "import pandas as pd"
   ]
  },
  {
   "cell_type": "code",
   "execution_count": 5,
   "metadata": {},
   "outputs": [],
   "source": [
    "index = pd.date_range(\"1/2/2000\", periods = 8)\n",
    "s = pd.Series(np.random.randn(5), index = [\"a\", \"b\", \"c\", \"d\", \"e\"])\n",
    "df = pd.DataFrame(np.random.randn(8, 3), index=index, columns=[\"A\", \"B\", \"C\"])"
   ]
  },
  {
   "cell_type": "code",
   "execution_count": 6,
   "metadata": {},
   "outputs": [
    {
     "output_type": "execute_result",
     "data": {
      "text/plain": [
       "0    0.855365\n",
       "1    0.877925\n",
       "2    0.733342\n",
       "3    0.313274\n",
       "4   -1.184455\n",
       "dtype: float64"
      ]
     },
     "metadata": {},
     "execution_count": 6
    }
   ],
   "source": [
    "longseries = pd.Series(np.random.randn(1000))\n",
    "longseries.head()"
   ]
  },
  {
   "cell_type": "code",
   "execution_count": 7,
   "metadata": {},
   "outputs": [
    {
     "output_type": "execute_result",
     "data": {
      "text/plain": [
       "997    0.556690\n",
       "998    1.151535\n",
       "999    2.065274\n",
       "dtype: float64"
      ]
     },
     "metadata": {},
     "execution_count": 7
    }
   ],
   "source": [
    "longseries.tail(3)"
   ]
  },
  {
   "cell_type": "code",
   "execution_count": 17,
   "metadata": {},
   "outputs": [
    {
     "output_type": "execute_result",
     "data": {
      "text/plain": [
       "                   A         B         C\n",
       "2000-01-02  3.027594 -1.499410  0.276869\n",
       "2000-01-03 -1.244363 -0.179635  0.094280\n",
       "2000-01-04 -2.251898  1.445338  0.262332\n",
       "2000-01-05  0.330909 -0.058982 -1.837619\n",
       "2000-01-06 -1.418626  1.417735  1.323516\n",
       "2000-01-07  0.685073 -1.005804  0.272131\n",
       "2000-01-08 -0.521153 -0.332043 -0.915850\n",
       "2000-01-09 -1.184693  0.618441 -1.468063"
      ],
      "text/html": "<div>\n<style scoped>\n    .dataframe tbody tr th:only-of-type {\n        vertical-align: middle;\n    }\n\n    .dataframe tbody tr th {\n        vertical-align: top;\n    }\n\n    .dataframe thead th {\n        text-align: right;\n    }\n</style>\n<table border=\"1\" class=\"dataframe\">\n  <thead>\n    <tr style=\"text-align: right;\">\n      <th></th>\n      <th>A</th>\n      <th>B</th>\n      <th>C</th>\n    </tr>\n  </thead>\n  <tbody>\n    <tr>\n      <th>2000-01-02</th>\n      <td>3.027594</td>\n      <td>-1.499410</td>\n      <td>0.276869</td>\n    </tr>\n    <tr>\n      <th>2000-01-03</th>\n      <td>-1.244363</td>\n      <td>-0.179635</td>\n      <td>0.094280</td>\n    </tr>\n    <tr>\n      <th>2000-01-04</th>\n      <td>-2.251898</td>\n      <td>1.445338</td>\n      <td>0.262332</td>\n    </tr>\n    <tr>\n      <th>2000-01-05</th>\n      <td>0.330909</td>\n      <td>-0.058982</td>\n      <td>-1.837619</td>\n    </tr>\n    <tr>\n      <th>2000-01-06</th>\n      <td>-1.418626</td>\n      <td>1.417735</td>\n      <td>1.323516</td>\n    </tr>\n    <tr>\n      <th>2000-01-07</th>\n      <td>0.685073</td>\n      <td>-1.005804</td>\n      <td>0.272131</td>\n    </tr>\n    <tr>\n      <th>2000-01-08</th>\n      <td>-0.521153</td>\n      <td>-0.332043</td>\n      <td>-0.915850</td>\n    </tr>\n    <tr>\n      <th>2000-01-09</th>\n      <td>-1.184693</td>\n      <td>0.618441</td>\n      <td>-1.468063</td>\n    </tr>\n  </tbody>\n</table>\n</div>"
     },
     "metadata": {},
     "execution_count": 17
    }
   ],
   "source": [
    "df"
   ]
  },
  {
   "cell_type": "code",
   "execution_count": 29,
   "metadata": {},
   "outputs": [
    {
     "output_type": "execute_result",
     "data": {
      "text/plain": [
       "                   A         B         C\n",
       "2000-01-02  3.027594 -1.499410  0.276869\n",
       "2000-01-03 -1.244363 -0.179635  0.094280"
      ],
      "text/html": "<div>\n<style scoped>\n    .dataframe tbody tr th:only-of-type {\n        vertical-align: middle;\n    }\n\n    .dataframe tbody tr th {\n        vertical-align: top;\n    }\n\n    .dataframe thead th {\n        text-align: right;\n    }\n</style>\n<table border=\"1\" class=\"dataframe\">\n  <thead>\n    <tr style=\"text-align: right;\">\n      <th></th>\n      <th>A</th>\n      <th>B</th>\n      <th>C</th>\n    </tr>\n  </thead>\n  <tbody>\n    <tr>\n      <th>2000-01-02</th>\n      <td>3.027594</td>\n      <td>-1.499410</td>\n      <td>0.276869</td>\n    </tr>\n    <tr>\n      <th>2000-01-03</th>\n      <td>-1.244363</td>\n      <td>-0.179635</td>\n      <td>0.094280</td>\n    </tr>\n  </tbody>\n</table>\n</div>"
     },
     "metadata": {},
     "execution_count": 29
    }
   ],
   "source": [
    "df[:2]"
   ]
  },
  {
   "cell_type": "code",
   "execution_count": 31,
   "metadata": {},
   "outputs": [],
   "source": [
    "df.columns = [x.lower() for x in df.columns]"
   ]
  },
  {
   "cell_type": "code",
   "execution_count": 33,
   "metadata": {},
   "outputs": [
    {
     "output_type": "execute_result",
     "data": {
      "text/plain": [
       "                   a         b         c\n",
       "2000-01-02  3.027594 -1.499410  0.276869\n",
       "2000-01-03 -1.244363 -0.179635  0.094280\n",
       "2000-01-04 -2.251898  1.445338  0.262332\n",
       "2000-01-05  0.330909 -0.058982 -1.837619\n",
       "2000-01-06 -1.418626  1.417735  1.323516\n",
       "2000-01-07  0.685073 -1.005804  0.272131\n",
       "2000-01-08 -0.521153 -0.332043 -0.915850\n",
       "2000-01-09 -1.184693  0.618441 -1.468063"
      ],
      "text/html": "<div>\n<style scoped>\n    .dataframe tbody tr th:only-of-type {\n        vertical-align: middle;\n    }\n\n    .dataframe tbody tr th {\n        vertical-align: top;\n    }\n\n    .dataframe thead th {\n        text-align: right;\n    }\n</style>\n<table border=\"1\" class=\"dataframe\">\n  <thead>\n    <tr style=\"text-align: right;\">\n      <th></th>\n      <th>a</th>\n      <th>b</th>\n      <th>c</th>\n    </tr>\n  </thead>\n  <tbody>\n    <tr>\n      <th>2000-01-02</th>\n      <td>3.027594</td>\n      <td>-1.499410</td>\n      <td>0.276869</td>\n    </tr>\n    <tr>\n      <th>2000-01-03</th>\n      <td>-1.244363</td>\n      <td>-0.179635</td>\n      <td>0.094280</td>\n    </tr>\n    <tr>\n      <th>2000-01-04</th>\n      <td>-2.251898</td>\n      <td>1.445338</td>\n      <td>0.262332</td>\n    </tr>\n    <tr>\n      <th>2000-01-05</th>\n      <td>0.330909</td>\n      <td>-0.058982</td>\n      <td>-1.837619</td>\n    </tr>\n    <tr>\n      <th>2000-01-06</th>\n      <td>-1.418626</td>\n      <td>1.417735</td>\n      <td>1.323516</td>\n    </tr>\n    <tr>\n      <th>2000-01-07</th>\n      <td>0.685073</td>\n      <td>-1.005804</td>\n      <td>0.272131</td>\n    </tr>\n    <tr>\n      <th>2000-01-08</th>\n      <td>-0.521153</td>\n      <td>-0.332043</td>\n      <td>-0.915850</td>\n    </tr>\n    <tr>\n      <th>2000-01-09</th>\n      <td>-1.184693</td>\n      <td>0.618441</td>\n      <td>-1.468063</td>\n    </tr>\n  </tbody>\n</table>\n</div>"
     },
     "metadata": {},
     "execution_count": 33
    }
   ],
   "source": [
    "df"
   ]
  },
  {
   "cell_type": "code",
   "execution_count": 35,
   "metadata": {},
   "outputs": [
    {
     "output_type": "execute_result",
     "data": {
      "text/plain": [
       "<PandasArray>\n",
       "[  0.4796498788113008, -0.15802450453329142, 0.060527924828146895,\n",
       " -0.42113943472340626, -0.48407249920528994]\n",
       "Length: 5, dtype: float64"
      ]
     },
     "metadata": {},
     "execution_count": 35
    }
   ],
   "source": [
    "s.array"
   ]
  },
  {
   "cell_type": "code",
   "execution_count": 36,
   "metadata": {},
   "outputs": [
    {
     "output_type": "execute_result",
     "data": {
      "text/plain": [
       "<PandasArray>\n",
       "['a', 'b', 'c', 'd', 'e']\n",
       "Length: 5, dtype: object"
      ]
     },
     "metadata": {},
     "execution_count": 36
    }
   ],
   "source": [
    "s.index.array"
   ]
  },
  {
   "cell_type": "code",
   "execution_count": 38,
   "metadata": {},
   "outputs": [
    {
     "output_type": "execute_result",
     "data": {
      "text/plain": [
       "array([ 0.47964988, -0.1580245 ,  0.06052792, -0.42113943, -0.4840725 ])"
      ]
     },
     "metadata": {},
     "execution_count": 38
    }
   ],
   "source": [
    "s.to_numpy()"
   ]
  }
 ]
}