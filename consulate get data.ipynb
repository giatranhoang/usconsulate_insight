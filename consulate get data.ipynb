{
 "metadata": {
  "language_info": {
   "codemirror_mode": {
    "name": "ipython",
    "version": 3
   },
   "file_extension": ".py",
   "mimetype": "text/x-python",
   "name": "python",
   "nbconvert_exporter": "python",
   "pygments_lexer": "ipython3",
   "version": "3.8.7-final"
  },
  "orig_nbformat": 2,
  "kernelspec": {
   "name": "python387jvsc74a57bd0082e9a3bcad0a290d0001e938aa60b99250c6c2ef33a923c00b70f9826caf4b7",
   "display_name": "Python 3.8.7 64-bit"
  },
  "metadata": {
   "interpreter": {
    "hash": "082e9a3bcad0a290d0001e938aa60b99250c6c2ef33a923c00b70f9826caf4b7"
   }
  }
 },
 "nbformat": 4,
 "nbformat_minor": 2,
 "cells": [
  {
   "cell_type": "code",
   "execution_count": 2,
   "metadata": {},
   "outputs": [],
   "source": [
    "import pandas as pd\n",
    "import json\n",
    "import requests\n",
    "from pandas.io.json import json_normalize\n",
    "import facebook as facebook\n",
    "from datetime import datetime\n",
    "import numpy as np"
   ]
  },
  {
   "cell_type": "code",
   "execution_count": null,
   "metadata": {},
   "outputs": [],
   "source": []
  },
  {
   "cell_type": "code",
   "execution_count": 8,
   "metadata": {},
   "outputs": [],
   "source": [
    "graph = facebook.GraphAPI(access_token=\"EAABnlB7bWhcBABde3nVXzemP41sx4mnAua62zr7vQZBkP4cfZAR0HEZAIesfJSsTjZBzCHZBsrFDSDRDMaKjGBgtMyjUc5wcS7iZC5gUNAHmJoZCcSO9tJ3yKUA6lUhxifvGXTRbOie58jn3WL8j2jtkydlf282TSHuMcIAW7PUaP6PgIWzz62ut0wLXo8Yf7QZD\", version=\"3.1\")"
   ]
  },
  {
   "cell_type": "code",
   "execution_count": 7,
   "metadata": {},
   "outputs": [],
   "source": [
    "allposts = graph.get_all_connections(id='165419643537532', connection_name ='posts', fields ='created_time, id, message, status_type, permalink_url, full_picture, message_tags, with_tags')"
   ]
  },
  {
   "cell_type": "code",
   "execution_count": 3,
   "metadata": {},
   "outputs": [],
   "source": [
    "df = pd.read_csv(\"Updating_Consulate Posts.csv\", index_col=0)"
   ]
  },
  {
   "cell_type": "code",
   "execution_count": 135,
   "metadata": {},
   "outputs": [
    {
     "output_type": "execute_result",
     "data": {
      "text/plain": [
       "<generator object GraphAPI.get_all_connections at 0x11891b3c0>"
      ]
     },
     "metadata": {},
     "execution_count": 135
    }
   ],
   "source": [
    "allposts"
   ]
  },
  {
   "cell_type": "code",
   "execution_count": 8,
   "metadata": {},
   "outputs": [],
   "source": [
    "ab = list(allposts)"
   ]
  },
  {
   "cell_type": "code",
   "execution_count": 9,
   "metadata": {},
   "outputs": [],
   "source": [
    "df = pd.DataFrame(ab)"
   ]
  },
  {
   "cell_type": "code",
   "execution_count": 10,
   "metadata": {},
   "outputs": [
    {
     "output_type": "execute_result",
     "data": {
      "text/plain": [
       "                  created_time                                id  \\\n",
       "0     2021-04-22T01:45:35+0000  165419643537532_3910631939016265   \n",
       "1     2021-04-21T09:14:21+0000  165419643537532_3907208106025315   \n",
       "2     2021-04-21T03:08:54+0000  165419643537532_3910084812404311   \n",
       "3     2021-04-20T13:21:00+0000  165419643537532_3910151185731007   \n",
       "4     2021-04-20T10:28:50+0000  165419643537532_3970213129739105   \n",
       "...                        ...                               ...   \n",
       "6574  2011-10-03T08:53:12+0000   165419643537532_176095189136644   \n",
       "6575  2011-09-30T15:05:30+0000   165419643537532_175001792579317   \n",
       "6576  2011-09-30T06:29:49+0000   165419643537532_174882175924612   \n",
       "6577  2011-09-28T03:15:16+0000   165419643537532_174031516009678   \n",
       "6578  2011-09-14T12:20:12+0000   165419643537532_168350943244402   \n",
       "\n",
       "                                                message           status_type  \\\n",
       "0     🌎🌳 Hãy tham gia thử thách với chúng tôi qua cá...          shared_story   \n",
       "1     #Bạncóbiết Hoa Kỳ đầu tư khoảng 2,5 tỷ đô để g...          shared_story   \n",
       "2     👩🏻‍🎓📚🇻🇳 Hãy cùng tìm hiểu về trải nghiệm của b...          shared_story   \n",
       "3     🇺🇸 Hoa Kỳ đang hợp tác với Ấn Độ 🇮🇳, Úc 🇦🇺 và ...          added_photos   \n",
       "4     What is it like to be Asian in America? What c...           added_video   \n",
       "...                                                 ...                   ...   \n",
       "6574  On September 23, to mark a World Heart Day and...          added_photos   \n",
       "6575                                                NaN          added_photos   \n",
       "6576                                                NaN          added_photos   \n",
       "6577  The American Center - Grand Opening September ...  mobile_status_update   \n",
       "6578                                                NaN          added_photos   \n",
       "\n",
       "                                          permalink_url  \\\n",
       "0     https://www.facebook.com/165419643537532/posts...   \n",
       "1     https://www.facebook.com/165419643537532/posts...   \n",
       "2     https://www.facebook.com/165419643537532/posts...   \n",
       "3     https://www.facebook.com/165419643537532/posts...   \n",
       "4     https://www.facebook.com/USConsulateHCMC/video...   \n",
       "...                                                 ...   \n",
       "6574  https://www.facebook.com/USConsulateHCMC/photo...   \n",
       "6575  https://www.facebook.com/USConsulateHCMC/photo...   \n",
       "6576  https://www.facebook.com/USConsulateHCMC/photo...   \n",
       "6577  https://www.facebook.com/165419643537532/posts...   \n",
       "6578  https://www.facebook.com/USConsulateHCMC/photo...   \n",
       "\n",
       "                                           full_picture  \\\n",
       "0     https://external.fsgn5-7.fna.fbcdn.net/safe_im...   \n",
       "1     https://external.fsgn5-7.fna.fbcdn.net/safe_im...   \n",
       "2     https://external.fsgn5-7.fna.fbcdn.net/safe_im...   \n",
       "3     https://scontent.fsgn5-3.fna.fbcdn.net/v/t1.64...   \n",
       "4     https://scontent.fsgn5-7.fna.fbcdn.net/v/t15.1...   \n",
       "...                                                 ...   \n",
       "6574  https://scontent.fsgn5-6.fna.fbcdn.net/v/t1.18...   \n",
       "6575  https://scontent.fsgn5-5.fna.fbcdn.net/v/t1.18...   \n",
       "6576  https://scontent.fsgn5-5.fna.fbcdn.net/v/t1.18...   \n",
       "6577                                                NaN   \n",
       "6578  https://scontent.fsgn5-5.fna.fbcdn.net/v/t1.18...   \n",
       "\n",
       "                                           message_tags  \n",
       "0                                                    []  \n",
       "1     [{'id': '175644755921764', 'name': '#Bạncóbiết...  \n",
       "2                                                    []  \n",
       "3                                                    []  \n",
       "4                                                   NaN  \n",
       "...                                                 ...  \n",
       "6574                                                NaN  \n",
       "6575                                                NaN  \n",
       "6576                                                NaN  \n",
       "6577                                                NaN  \n",
       "6578                                                NaN  \n",
       "\n",
       "[6579 rows x 7 columns]"
      ],
      "text/html": "<div>\n<style scoped>\n    .dataframe tbody tr th:only-of-type {\n        vertical-align: middle;\n    }\n\n    .dataframe tbody tr th {\n        vertical-align: top;\n    }\n\n    .dataframe thead th {\n        text-align: right;\n    }\n</style>\n<table border=\"1\" class=\"dataframe\">\n  <thead>\n    <tr style=\"text-align: right;\">\n      <th></th>\n      <th>created_time</th>\n      <th>id</th>\n      <th>message</th>\n      <th>status_type</th>\n      <th>permalink_url</th>\n      <th>full_picture</th>\n      <th>message_tags</th>\n    </tr>\n  </thead>\n  <tbody>\n    <tr>\n      <th>0</th>\n      <td>2021-04-22T01:45:35+0000</td>\n      <td>165419643537532_3910631939016265</td>\n      <td>🌎🌳 Hãy tham gia thử thách với chúng tôi qua cá...</td>\n      <td>shared_story</td>\n      <td>https://www.facebook.com/165419643537532/posts...</td>\n      <td>https://external.fsgn5-7.fna.fbcdn.net/safe_im...</td>\n      <td>[]</td>\n    </tr>\n    <tr>\n      <th>1</th>\n      <td>2021-04-21T09:14:21+0000</td>\n      <td>165419643537532_3907208106025315</td>\n      <td>#Bạncóbiết Hoa Kỳ đầu tư khoảng 2,5 tỷ đô để g...</td>\n      <td>shared_story</td>\n      <td>https://www.facebook.com/165419643537532/posts...</td>\n      <td>https://external.fsgn5-7.fna.fbcdn.net/safe_im...</td>\n      <td>[{'id': '175644755921764', 'name': '#Bạncóbiết...</td>\n    </tr>\n    <tr>\n      <th>2</th>\n      <td>2021-04-21T03:08:54+0000</td>\n      <td>165419643537532_3910084812404311</td>\n      <td>👩🏻‍🎓📚🇻🇳 Hãy cùng tìm hiểu về trải nghiệm của b...</td>\n      <td>shared_story</td>\n      <td>https://www.facebook.com/165419643537532/posts...</td>\n      <td>https://external.fsgn5-7.fna.fbcdn.net/safe_im...</td>\n      <td>[]</td>\n    </tr>\n    <tr>\n      <th>3</th>\n      <td>2021-04-20T13:21:00+0000</td>\n      <td>165419643537532_3910151185731007</td>\n      <td>🇺🇸 Hoa Kỳ đang hợp tác với Ấn Độ 🇮🇳, Úc 🇦🇺 và ...</td>\n      <td>added_photos</td>\n      <td>https://www.facebook.com/165419643537532/posts...</td>\n      <td>https://scontent.fsgn5-3.fna.fbcdn.net/v/t1.64...</td>\n      <td>[]</td>\n    </tr>\n    <tr>\n      <th>4</th>\n      <td>2021-04-20T10:28:50+0000</td>\n      <td>165419643537532_3970213129739105</td>\n      <td>What is it like to be Asian in America? What c...</td>\n      <td>added_video</td>\n      <td>https://www.facebook.com/USConsulateHCMC/video...</td>\n      <td>https://scontent.fsgn5-7.fna.fbcdn.net/v/t15.1...</td>\n      <td>NaN</td>\n    </tr>\n    <tr>\n      <th>...</th>\n      <td>...</td>\n      <td>...</td>\n      <td>...</td>\n      <td>...</td>\n      <td>...</td>\n      <td>...</td>\n      <td>...</td>\n    </tr>\n    <tr>\n      <th>6574</th>\n      <td>2011-10-03T08:53:12+0000</td>\n      <td>165419643537532_176095189136644</td>\n      <td>On September 23, to mark a World Heart Day and...</td>\n      <td>added_photos</td>\n      <td>https://www.facebook.com/USConsulateHCMC/photo...</td>\n      <td>https://scontent.fsgn5-6.fna.fbcdn.net/v/t1.18...</td>\n      <td>NaN</td>\n    </tr>\n    <tr>\n      <th>6575</th>\n      <td>2011-09-30T15:05:30+0000</td>\n      <td>165419643537532_175001792579317</td>\n      <td>NaN</td>\n      <td>added_photos</td>\n      <td>https://www.facebook.com/USConsulateHCMC/photo...</td>\n      <td>https://scontent.fsgn5-5.fna.fbcdn.net/v/t1.18...</td>\n      <td>NaN</td>\n    </tr>\n    <tr>\n      <th>6576</th>\n      <td>2011-09-30T06:29:49+0000</td>\n      <td>165419643537532_174882175924612</td>\n      <td>NaN</td>\n      <td>added_photos</td>\n      <td>https://www.facebook.com/USConsulateHCMC/photo...</td>\n      <td>https://scontent.fsgn5-5.fna.fbcdn.net/v/t1.18...</td>\n      <td>NaN</td>\n    </tr>\n    <tr>\n      <th>6577</th>\n      <td>2011-09-28T03:15:16+0000</td>\n      <td>165419643537532_174031516009678</td>\n      <td>The American Center - Grand Opening September ...</td>\n      <td>mobile_status_update</td>\n      <td>https://www.facebook.com/165419643537532/posts...</td>\n      <td>NaN</td>\n      <td>NaN</td>\n    </tr>\n    <tr>\n      <th>6578</th>\n      <td>2011-09-14T12:20:12+0000</td>\n      <td>165419643537532_168350943244402</td>\n      <td>NaN</td>\n      <td>added_photos</td>\n      <td>https://www.facebook.com/USConsulateHCMC/photo...</td>\n      <td>https://scontent.fsgn5-5.fna.fbcdn.net/v/t1.18...</td>\n      <td>NaN</td>\n    </tr>\n  </tbody>\n</table>\n<p>6579 rows × 7 columns</p>\n</div>"
     },
     "metadata": {},
     "execution_count": 10
    }
   ],
   "source": [
    "df"
   ]
  },
  {
   "cell_type": "code",
   "execution_count": 20,
   "metadata": {},
   "outputs": [
    {
     "output_type": "execute_result",
     "data": {
      "text/plain": [
       "{'data': [{'name': 'post_reactions_by_type_total',\n",
       "   'period': 'lifetime',\n",
       "   'values': [{'value': {'like': 294, 'love': 24, 'wow': 1, 'haha': 2}}],\n",
       "   'title': 'Lifetime Total post Reactions by Type.',\n",
       "   'description': 'Lifetime: Total post reactions by type.',\n",
       "   'id': '165419643537532_3859056144173845/insights/post_reactions_by_type_total/lifetime'}],\n",
       " 'paging': {'previous': 'https://graph.facebook.com/v9.0/165419643537532_3859056144173845/insights?access_token=EAABnlB7bWhcBABde3nVXzemP41sx4mnAua62zr7vQZBkP4cfZAR0HEZAIesfJSsTjZBzCHZBsrFDSDRDMaKjGBgtMyjUc5wcS7iZC5gUNAHmJoZCcSO9tJ3yKUA6lUhxifvGXTRbOie58jn3WL8j2jtkydlf282TSHuMcIAW7PUaP6PgIWzz62ut0wLXo8Yf7QZD&metric=post_reactions_by_type_total&period=lifetime&date_preset=yesterday&since=1618642800&until=1618729200',\n",
       "  'next': 'https://graph.facebook.com/v9.0/165419643537532_3859056144173845/insights?access_token=EAABnlB7bWhcBABde3nVXzemP41sx4mnAua62zr7vQZBkP4cfZAR0HEZAIesfJSsTjZBzCHZBsrFDSDRDMaKjGBgtMyjUc5wcS7iZC5gUNAHmJoZCcSO9tJ3yKUA6lUhxifvGXTRbOie58jn3WL8j2jtkydlf282TSHuMcIAW7PUaP6PgIWzz62ut0wLXo8Yf7QZD&metric=post_reactions_by_type_total&period=lifetime&date_preset=yesterday&since=1618815600&until=1618902000'}}"
      ]
     },
     "metadata": {},
     "execution_count": 20
    }
   ],
   "source": [
    "cd = graph.get_connections(id=\"165419643537532_3859056144173845\", connection_name = \"insights\", metric='post_reactions_by_type_total', date_preset='yesterday', period='lifetime', show_description_from_api_doc=False)\n",
    "cd"
   ]
  },
  {
   "cell_type": "code",
   "execution_count": 97,
   "metadata": {},
   "outputs": [
    {
     "output_type": "error",
     "ename": "SyntaxError",
     "evalue": "invalid syntax (<ipython-input-97-2bc1e05d5c7b>, line 2)",
     "traceback": [
      "\u001b[0;36m  File \u001b[0;32m\"<ipython-input-97-2bc1e05d5c7b>\"\u001b[0;36m, line \u001b[0;32m2\u001b[0m\n\u001b[0;31m    item_reaction\b = graph.get_connections(id=row[\"id\"], connection_name = \"insights\", metric=\"post_reactions_by_type_total\", period=\"lifetime\")\u001b[0m\n\u001b[0m                 ^\u001b[0m\n\u001b[0;31mSyntaxError\u001b[0m\u001b[0;31m:\u001b[0m invalid syntax\n"
     ]
    }
   ],
   "source": [
    "def get_reactions(row):\n",
    "    item_reaction\b = graph.get_connections(id=row[\"id\"], connection_name = \"insights\", metric=\"post_reactions_by_type_total\", period=\"lifetime\")\n",
    "    if \"like\" in item_reaction\b['data'][0]['values'][0]['value']:\n",
    "        return row[\"like\"] = ['data'][0]['values'][0]['value']['like']"
   ]
  },
  {
   "cell_type": "code",
   "execution_count": 30,
   "metadata": {},
   "outputs": [],
   "source": [
    "def get_reactions(row):\n",
    "    item_reaction = graph.get_connections(id = row[\"id\"], connection_name= \"insights\", metric=\"post_reactions_by_type_total\", period = \"lifetime\")\n",
    "    if \"like\" in item_reaction['data'][0]['values'][0]['value']:\n",
    "        row[\"likes\"] = item_reaction['data'][0]['values'][0]['value']['like']\n",
    "    if \"anger\" in item_reaction['data'][0]['values'][0]['value']:\n",
    "        row[\"anger\"] = item_reaction['data'][0]['values'][0]['value']['anger']\n",
    "    return row"
   ]
  },
  {
   "cell_type": "code",
   "execution_count": 105,
   "metadata": {},
   "outputs": [],
   "source": [
    "def get_share(row):\n",
    "    item_shares = graph.get_object(id=row[\"id\"], fields='shares')\n",
    "    if len(item_shares) == 2:\n",
    "        row[\"share\"] = item_shares[\"shares\"][\"count\"]\n",
    "    return row"
   ]
  },
  {
   "cell_type": "code",
   "execution_count": 145,
   "metadata": {},
   "outputs": [],
   "source": [
    "def get_comments(row):\n",
    "    comments = graph.get_connections(id=row[\"id\"], connection_name = \"comments\", fields = \"message\")\n",
    "    if len(comments) != 0:\n",
    "        row[\"comments\"] = comments[\"data\"]\n",
    "    return row"
   ]
  },
  {
   "cell_type": "code",
   "execution_count": 185,
   "metadata": {},
   "outputs": [],
   "source": [
    "def get_count_comments(row):\n",
    "    comments_count = graph.get_connections(id = row[\"id\"], connection_name='insights',metric='post_activity_by_action_type', date_preset='yesterday', period='lifetime', show_description_from_api_doc=False)\n",
    "    if \"comment\" in comments_count['data'][0]['values'][0]['value']:\n",
    "        row[\"count_comments\"] = comments_count['data'][0]['values'][0]['value'][\"comment\"]\n",
    "    return row"
   ]
  },
  {
   "cell_type": "code",
   "execution_count": 175,
   "metadata": {},
   "outputs": [
    {
     "output_type": "execute_result",
     "data": {
      "text/plain": [
       "11"
      ]
     },
     "metadata": {},
     "execution_count": 175
    }
   ],
   "source": [
    "comments_count = graph.get_connections(id = \"165419643537532_3907208106025315\", connection_name='insights',metric='post_activity_by_action_type', date_preset='yesterday', period='lifetime', show_description_from_api_doc=False)\n",
    "comments_count['data'][0]['values'][0]['value'][\"comment\"]"
   ]
  },
  {
   "cell_type": "code",
   "execution_count": 178,
   "metadata": {},
   "outputs": [
    {
     "output_type": "execute_result",
     "data": {
      "text/plain": [
       "      anger              created_time  \\\n",
       "0       NaN  2021-04-22T01:45:35+0000   \n",
       "1       NaN  2021-04-21T09:14:21+0000   \n",
       "2       1.0  2021-04-21T03:08:54+0000   \n",
       "3       1.0  2021-04-20T13:21:00+0000   \n",
       "4       1.0  2021-04-20T10:28:50+0000   \n",
       "...     ...                       ...   \n",
       "6574    NaN  2011-10-03T08:53:12+0000   \n",
       "6575    NaN  2011-09-30T15:05:30+0000   \n",
       "6576    NaN  2011-09-30T06:29:49+0000   \n",
       "6577    NaN  2011-09-28T03:15:16+0000   \n",
       "6578    NaN  2011-09-14T12:20:12+0000   \n",
       "\n",
       "                                           full_picture  \\\n",
       "0     https://external.fsgn5-7.fna.fbcdn.net/safe_im...   \n",
       "1     https://external.fsgn5-7.fna.fbcdn.net/safe_im...   \n",
       "2     https://external.fsgn5-7.fna.fbcdn.net/safe_im...   \n",
       "3     https://scontent.fsgn5-3.fna.fbcdn.net/v/t1.64...   \n",
       "4     https://scontent.fsgn5-7.fna.fbcdn.net/v/t15.1...   \n",
       "...                                                 ...   \n",
       "6574  https://scontent.fsgn5-6.fna.fbcdn.net/v/t1.18...   \n",
       "6575  https://scontent.fsgn5-5.fna.fbcdn.net/v/t1.18...   \n",
       "6576  https://scontent.fsgn5-5.fna.fbcdn.net/v/t1.18...   \n",
       "6577                                                NaN   \n",
       "6578  https://scontent.fsgn5-5.fna.fbcdn.net/v/t1.18...   \n",
       "\n",
       "                                    id  likes  \\\n",
       "0     165419643537532_3910631939016265   12.0   \n",
       "1     165419643537532_3907208106025315  187.0   \n",
       "2     165419643537532_3910084812404311  125.0   \n",
       "3     165419643537532_3910151185731007  156.0   \n",
       "4     165419643537532_3970213129739105  191.0   \n",
       "...                                ...    ...   \n",
       "6574   165419643537532_176095189136644    NaN   \n",
       "6575   165419643537532_175001792579317    NaN   \n",
       "6576   165419643537532_174882175924612    NaN   \n",
       "6577   165419643537532_174031516009678    8.0   \n",
       "6578   165419643537532_168350943244402    NaN   \n",
       "\n",
       "                                                message  \\\n",
       "0     🌎🌳 Hãy tham gia thử thách với chúng tôi qua cá...   \n",
       "1     #Bạncóbiết Hoa Kỳ đầu tư khoảng 2,5 tỷ đô để g...   \n",
       "2     👩🏻‍🎓📚🇻🇳 Hãy cùng tìm hiểu về trải nghiệm của b...   \n",
       "3     🇺🇸 Hoa Kỳ đang hợp tác với Ấn Độ 🇮🇳, Úc 🇦🇺 và ...   \n",
       "4     What is it like to be Asian in America? What c...   \n",
       "...                                                 ...   \n",
       "6574  On September 23, to mark a World Heart Day and...   \n",
       "6575                                                NaN   \n",
       "6576                                                NaN   \n",
       "6577  The American Center - Grand Opening September ...   \n",
       "6578                                                NaN   \n",
       "\n",
       "                                           message_tags  \\\n",
       "0                                                    []   \n",
       "1     [{'id': '175644755921764', 'name': '#Bạncóbiết...   \n",
       "2                                                    []   \n",
       "3                                                    []   \n",
       "4                                                   NaN   \n",
       "...                                                 ...   \n",
       "6574                                                NaN   \n",
       "6575                                                NaN   \n",
       "6576                                                NaN   \n",
       "6577                                                NaN   \n",
       "6578                                                NaN   \n",
       "\n",
       "                                          permalink_url  share  \\\n",
       "0     https://www.facebook.com/165419643537532/posts...    5.0   \n",
       "1     https://www.facebook.com/165419643537532/posts...   12.0   \n",
       "2     https://www.facebook.com/165419643537532/posts...   11.0   \n",
       "3     https://www.facebook.com/165419643537532/posts...   14.0   \n",
       "4     https://www.facebook.com/USConsulateHCMC/video...   18.0   \n",
       "...                                                 ...    ...   \n",
       "6574  https://www.facebook.com/USConsulateHCMC/photo...    NaN   \n",
       "6575  https://www.facebook.com/USConsulateHCMC/photo...    NaN   \n",
       "6576  https://www.facebook.com/USConsulateHCMC/photo...    NaN   \n",
       "6577  https://www.facebook.com/165419643537532/posts...    NaN   \n",
       "6578  https://www.facebook.com/USConsulateHCMC/photo...    NaN   \n",
       "\n",
       "               status_type                                           comments  \n",
       "0             shared_story                                                 []  \n",
       "1             shared_story  [{'message': 'The US should ban single-use pla...  \n",
       "2             shared_story  [{'message': 'High risk high return, really ho...  \n",
       "3             added_photos  [{'message': '', 'id': '3910151185731007_39111...  \n",
       "4              added_video  [{'message': 'Thank you very much for joining ...  \n",
       "...                    ...                                                ...  \n",
       "6574          added_photos  [{'message': 'Thnks The American Centre for ho...  \n",
       "6575          added_photos  [{'message': 'Dear Chi Linh and all,', 'id': '...  \n",
       "6576          added_photos  [{'message': 'Dear Chi Linh and all,', 'id': '...  \n",
       "6577  mobile_status_update                                                 []  \n",
       "6578          added_photos  [{'message': 'Are you opened on Saturday?', 'i...  \n",
       "\n",
       "[6579 rows x 11 columns]"
      ],
      "text/html": "<div>\n<style scoped>\n    .dataframe tbody tr th:only-of-type {\n        vertical-align: middle;\n    }\n\n    .dataframe tbody tr th {\n        vertical-align: top;\n    }\n\n    .dataframe thead th {\n        text-align: right;\n    }\n</style>\n<table border=\"1\" class=\"dataframe\">\n  <thead>\n    <tr style=\"text-align: right;\">\n      <th></th>\n      <th>anger</th>\n      <th>created_time</th>\n      <th>full_picture</th>\n      <th>id</th>\n      <th>likes</th>\n      <th>message</th>\n      <th>message_tags</th>\n      <th>permalink_url</th>\n      <th>share</th>\n      <th>status_type</th>\n      <th>comments</th>\n    </tr>\n  </thead>\n  <tbody>\n    <tr>\n      <th>0</th>\n      <td>NaN</td>\n      <td>2021-04-22T01:45:35+0000</td>\n      <td>https://external.fsgn5-7.fna.fbcdn.net/safe_im...</td>\n      <td>165419643537532_3910631939016265</td>\n      <td>12.0</td>\n      <td>🌎🌳 Hãy tham gia thử thách với chúng tôi qua cá...</td>\n      <td>[]</td>\n      <td>https://www.facebook.com/165419643537532/posts...</td>\n      <td>5.0</td>\n      <td>shared_story</td>\n      <td>[]</td>\n    </tr>\n    <tr>\n      <th>1</th>\n      <td>NaN</td>\n      <td>2021-04-21T09:14:21+0000</td>\n      <td>https://external.fsgn5-7.fna.fbcdn.net/safe_im...</td>\n      <td>165419643537532_3907208106025315</td>\n      <td>187.0</td>\n      <td>#Bạncóbiết Hoa Kỳ đầu tư khoảng 2,5 tỷ đô để g...</td>\n      <td>[{'id': '175644755921764', 'name': '#Bạncóbiết...</td>\n      <td>https://www.facebook.com/165419643537532/posts...</td>\n      <td>12.0</td>\n      <td>shared_story</td>\n      <td>[{'message': 'The US should ban single-use pla...</td>\n    </tr>\n    <tr>\n      <th>2</th>\n      <td>1.0</td>\n      <td>2021-04-21T03:08:54+0000</td>\n      <td>https://external.fsgn5-7.fna.fbcdn.net/safe_im...</td>\n      <td>165419643537532_3910084812404311</td>\n      <td>125.0</td>\n      <td>👩🏻‍🎓📚🇻🇳 Hãy cùng tìm hiểu về trải nghiệm của b...</td>\n      <td>[]</td>\n      <td>https://www.facebook.com/165419643537532/posts...</td>\n      <td>11.0</td>\n      <td>shared_story</td>\n      <td>[{'message': 'High risk high return, really ho...</td>\n    </tr>\n    <tr>\n      <th>3</th>\n      <td>1.0</td>\n      <td>2021-04-20T13:21:00+0000</td>\n      <td>https://scontent.fsgn5-3.fna.fbcdn.net/v/t1.64...</td>\n      <td>165419643537532_3910151185731007</td>\n      <td>156.0</td>\n      <td>🇺🇸 Hoa Kỳ đang hợp tác với Ấn Độ 🇮🇳, Úc 🇦🇺 và ...</td>\n      <td>[]</td>\n      <td>https://www.facebook.com/165419643537532/posts...</td>\n      <td>14.0</td>\n      <td>added_photos</td>\n      <td>[{'message': '', 'id': '3910151185731007_39111...</td>\n    </tr>\n    <tr>\n      <th>4</th>\n      <td>1.0</td>\n      <td>2021-04-20T10:28:50+0000</td>\n      <td>https://scontent.fsgn5-7.fna.fbcdn.net/v/t15.1...</td>\n      <td>165419643537532_3970213129739105</td>\n      <td>191.0</td>\n      <td>What is it like to be Asian in America? What c...</td>\n      <td>NaN</td>\n      <td>https://www.facebook.com/USConsulateHCMC/video...</td>\n      <td>18.0</td>\n      <td>added_video</td>\n      <td>[{'message': 'Thank you very much for joining ...</td>\n    </tr>\n    <tr>\n      <th>...</th>\n      <td>...</td>\n      <td>...</td>\n      <td>...</td>\n      <td>...</td>\n      <td>...</td>\n      <td>...</td>\n      <td>...</td>\n      <td>...</td>\n      <td>...</td>\n      <td>...</td>\n      <td>...</td>\n    </tr>\n    <tr>\n      <th>6574</th>\n      <td>NaN</td>\n      <td>2011-10-03T08:53:12+0000</td>\n      <td>https://scontent.fsgn5-6.fna.fbcdn.net/v/t1.18...</td>\n      <td>165419643537532_176095189136644</td>\n      <td>NaN</td>\n      <td>On September 23, to mark a World Heart Day and...</td>\n      <td>NaN</td>\n      <td>https://www.facebook.com/USConsulateHCMC/photo...</td>\n      <td>NaN</td>\n      <td>added_photos</td>\n      <td>[{'message': 'Thnks The American Centre for ho...</td>\n    </tr>\n    <tr>\n      <th>6575</th>\n      <td>NaN</td>\n      <td>2011-09-30T15:05:30+0000</td>\n      <td>https://scontent.fsgn5-5.fna.fbcdn.net/v/t1.18...</td>\n      <td>165419643537532_175001792579317</td>\n      <td>NaN</td>\n      <td>NaN</td>\n      <td>NaN</td>\n      <td>https://www.facebook.com/USConsulateHCMC/photo...</td>\n      <td>NaN</td>\n      <td>added_photos</td>\n      <td>[{'message': 'Dear Chi Linh and all,', 'id': '...</td>\n    </tr>\n    <tr>\n      <th>6576</th>\n      <td>NaN</td>\n      <td>2011-09-30T06:29:49+0000</td>\n      <td>https://scontent.fsgn5-5.fna.fbcdn.net/v/t1.18...</td>\n      <td>165419643537532_174882175924612</td>\n      <td>NaN</td>\n      <td>NaN</td>\n      <td>NaN</td>\n      <td>https://www.facebook.com/USConsulateHCMC/photo...</td>\n      <td>NaN</td>\n      <td>added_photos</td>\n      <td>[{'message': 'Dear Chi Linh and all,', 'id': '...</td>\n    </tr>\n    <tr>\n      <th>6577</th>\n      <td>NaN</td>\n      <td>2011-09-28T03:15:16+0000</td>\n      <td>NaN</td>\n      <td>165419643537532_174031516009678</td>\n      <td>8.0</td>\n      <td>The American Center - Grand Opening September ...</td>\n      <td>NaN</td>\n      <td>https://www.facebook.com/165419643537532/posts...</td>\n      <td>NaN</td>\n      <td>mobile_status_update</td>\n      <td>[]</td>\n    </tr>\n    <tr>\n      <th>6578</th>\n      <td>NaN</td>\n      <td>2011-09-14T12:20:12+0000</td>\n      <td>https://scontent.fsgn5-5.fna.fbcdn.net/v/t1.18...</td>\n      <td>165419643537532_168350943244402</td>\n      <td>NaN</td>\n      <td>NaN</td>\n      <td>NaN</td>\n      <td>https://www.facebook.com/USConsulateHCMC/photo...</td>\n      <td>NaN</td>\n      <td>added_photos</td>\n      <td>[{'message': 'Are you opened on Saturday?', 'i...</td>\n    </tr>\n  </tbody>\n</table>\n<p>6579 rows × 11 columns</p>\n</div>"
     },
     "metadata": {},
     "execution_count": 178
    }
   ],
   "source": [
    "df_result"
   ]
  },
  {
   "cell_type": "code",
   "execution_count": 104,
   "metadata": {},
   "outputs": [
    {
     "output_type": "execute_result",
     "data": {
      "text/plain": [
       "   anger              created_time  \\\n",
       "0    NaN  2021-04-22T01:45:35+0000   \n",
       "1    NaN  2021-04-21T09:14:21+0000   \n",
       "2    1.0  2021-04-21T03:08:54+0000   \n",
       "3    1.0  2021-04-20T13:21:00+0000   \n",
       "4    1.0  2021-04-20T10:28:50+0000   \n",
       "5    NaN  2021-04-20T01:18:00+0000   \n",
       "\n",
       "                                        full_picture  \\\n",
       "0  https://external.fsgn5-7.fna.fbcdn.net/safe_im...   \n",
       "1  https://external.fsgn5-7.fna.fbcdn.net/safe_im...   \n",
       "2  https://external.fsgn5-7.fna.fbcdn.net/safe_im...   \n",
       "3  https://scontent.fsgn5-3.fna.fbcdn.net/v/t1.64...   \n",
       "4  https://scontent.fsgn5-7.fna.fbcdn.net/v/t15.1...   \n",
       "5  https://scontent.fsgn5-5.fna.fbcdn.net/v/t1.64...   \n",
       "\n",
       "                                 id  likes  \\\n",
       "0  165419643537532_3910631939016265   12.0   \n",
       "1  165419643537532_3907208106025315  187.0   \n",
       "2  165419643537532_3910084812404311  125.0   \n",
       "3  165419643537532_3910151185731007  156.0   \n",
       "4  165419643537532_3970213129739105  191.0   \n",
       "5  165419643537532_3836613506418109   69.0   \n",
       "\n",
       "                                             message  \\\n",
       "0  🌎🌳 Hãy tham gia thử thách với chúng tôi qua cá...   \n",
       "1  #Bạncóbiết Hoa Kỳ đầu tư khoảng 2,5 tỷ đô để g...   \n",
       "2  👩🏻‍🎓📚🇻🇳 Hãy cùng tìm hiểu về trải nghiệm của b...   \n",
       "3  🇺🇸 Hoa Kỳ đang hợp tác với Ấn Độ 🇮🇳, Úc 🇦🇺 và ...   \n",
       "4  What is it like to be Asian in America? What c...   \n",
       "5  Các bạn cựu sinh #YSEALI ơi!\\n \\nCác bạn đã nộ...   \n",
       "\n",
       "                                        message_tags  \\\n",
       "0                                                 []   \n",
       "1  [{'id': '175644755921764', 'name': '#Bạncóbiết...   \n",
       "2                                                 []   \n",
       "3                                                 []   \n",
       "4                                                NaN   \n",
       "5  [{'id': '413701888733070', 'name': '#YSEALI', ...   \n",
       "\n",
       "                                       permalink_url   status_type  share  \n",
       "0  https://www.facebook.com/165419643537532/posts...  shared_story      5  \n",
       "1  https://www.facebook.com/165419643537532/posts...  shared_story     12  \n",
       "2  https://www.facebook.com/165419643537532/posts...  shared_story     11  \n",
       "3  https://www.facebook.com/165419643537532/posts...  added_photos     14  \n",
       "4  https://www.facebook.com/USConsulateHCMC/video...   added_video     18  \n",
       "5  https://www.facebook.com/165419643537532/posts...  added_photos     24  "
      ],
      "text/html": "<div>\n<style scoped>\n    .dataframe tbody tr th:only-of-type {\n        vertical-align: middle;\n    }\n\n    .dataframe tbody tr th {\n        vertical-align: top;\n    }\n\n    .dataframe thead th {\n        text-align: right;\n    }\n</style>\n<table border=\"1\" class=\"dataframe\">\n  <thead>\n    <tr style=\"text-align: right;\">\n      <th></th>\n      <th>anger</th>\n      <th>created_time</th>\n      <th>full_picture</th>\n      <th>id</th>\n      <th>likes</th>\n      <th>message</th>\n      <th>message_tags</th>\n      <th>permalink_url</th>\n      <th>status_type</th>\n      <th>share</th>\n    </tr>\n  </thead>\n  <tbody>\n    <tr>\n      <th>0</th>\n      <td>NaN</td>\n      <td>2021-04-22T01:45:35+0000</td>\n      <td>https://external.fsgn5-7.fna.fbcdn.net/safe_im...</td>\n      <td>165419643537532_3910631939016265</td>\n      <td>12.0</td>\n      <td>🌎🌳 Hãy tham gia thử thách với chúng tôi qua cá...</td>\n      <td>[]</td>\n      <td>https://www.facebook.com/165419643537532/posts...</td>\n      <td>shared_story</td>\n      <td>5</td>\n    </tr>\n    <tr>\n      <th>1</th>\n      <td>NaN</td>\n      <td>2021-04-21T09:14:21+0000</td>\n      <td>https://external.fsgn5-7.fna.fbcdn.net/safe_im...</td>\n      <td>165419643537532_3907208106025315</td>\n      <td>187.0</td>\n      <td>#Bạncóbiết Hoa Kỳ đầu tư khoảng 2,5 tỷ đô để g...</td>\n      <td>[{'id': '175644755921764', 'name': '#Bạncóbiết...</td>\n      <td>https://www.facebook.com/165419643537532/posts...</td>\n      <td>shared_story</td>\n      <td>12</td>\n    </tr>\n    <tr>\n      <th>2</th>\n      <td>1.0</td>\n      <td>2021-04-21T03:08:54+0000</td>\n      <td>https://external.fsgn5-7.fna.fbcdn.net/safe_im...</td>\n      <td>165419643537532_3910084812404311</td>\n      <td>125.0</td>\n      <td>👩🏻‍🎓📚🇻🇳 Hãy cùng tìm hiểu về trải nghiệm của b...</td>\n      <td>[]</td>\n      <td>https://www.facebook.com/165419643537532/posts...</td>\n      <td>shared_story</td>\n      <td>11</td>\n    </tr>\n    <tr>\n      <th>3</th>\n      <td>1.0</td>\n      <td>2021-04-20T13:21:00+0000</td>\n      <td>https://scontent.fsgn5-3.fna.fbcdn.net/v/t1.64...</td>\n      <td>165419643537532_3910151185731007</td>\n      <td>156.0</td>\n      <td>🇺🇸 Hoa Kỳ đang hợp tác với Ấn Độ 🇮🇳, Úc 🇦🇺 và ...</td>\n      <td>[]</td>\n      <td>https://www.facebook.com/165419643537532/posts...</td>\n      <td>added_photos</td>\n      <td>14</td>\n    </tr>\n    <tr>\n      <th>4</th>\n      <td>1.0</td>\n      <td>2021-04-20T10:28:50+0000</td>\n      <td>https://scontent.fsgn5-7.fna.fbcdn.net/v/t15.1...</td>\n      <td>165419643537532_3970213129739105</td>\n      <td>191.0</td>\n      <td>What is it like to be Asian in America? What c...</td>\n      <td>NaN</td>\n      <td>https://www.facebook.com/USConsulateHCMC/video...</td>\n      <td>added_video</td>\n      <td>18</td>\n    </tr>\n    <tr>\n      <th>5</th>\n      <td>NaN</td>\n      <td>2021-04-20T01:18:00+0000</td>\n      <td>https://scontent.fsgn5-5.fna.fbcdn.net/v/t1.64...</td>\n      <td>165419643537532_3836613506418109</td>\n      <td>69.0</td>\n      <td>Các bạn cựu sinh #YSEALI ơi!\\n \\nCác bạn đã nộ...</td>\n      <td>[{'id': '413701888733070', 'name': '#YSEALI', ...</td>\n      <td>https://www.facebook.com/165419643537532/posts...</td>\n      <td>added_photos</td>\n      <td>24</td>\n    </tr>\n  </tbody>\n</table>\n</div>"
     },
     "metadata": {},
     "execution_count": 104
    }
   ],
   "source": [
    "df_test.apply(get_share, axis=1)"
   ]
  },
  {
   "cell_type": "code",
   "execution_count": 37,
   "metadata": {},
   "outputs": [],
   "source": [
    "df_result = df.loc[:10].apply(get_reactions, axis=1)"
   ]
  },
  {
   "cell_type": "code",
   "execution_count": 194,
   "metadata": {},
   "outputs": [],
   "source": [
    "df_result_cmt = df_result.loc[:10].apply(get_count_comments, axis=1)"
   ]
  },
  {
   "cell_type": "code",
   "execution_count": 247,
   "metadata": {},
   "outputs": [],
   "source": [
    "df_result_cmt.to_csv(\"Updating_Consulate Posts.csv\")"
   ]
  },
  {
   "cell_type": "code",
   "execution_count": 245,
   "metadata": {},
   "outputs": [],
   "source": [
    "df_result_cmt = df_result_cmt.append(df_result.loc[6001:6578].apply(get_count_comments, axis=1))"
   ]
  },
  {
   "cell_type": "code",
   "execution_count": 148,
   "metadata": {},
   "outputs": [],
   "source": [
    "df_result.to_csv(\"Updating_Consulate Posts.csv\")"
   ]
  },
  {
   "cell_type": "code",
   "execution_count": 187,
   "metadata": {},
   "outputs": [
    {
     "output_type": "execute_result",
     "data": {
      "text/plain": [
       "   anger              created_time  \\\n",
       "0    NaN  2021-04-22T01:45:35+0000   \n",
       "1    NaN  2021-04-21T09:14:21+0000   \n",
       "2    1.0  2021-04-21T03:08:54+0000   \n",
       "3    1.0  2021-04-20T13:21:00+0000   \n",
       "4    1.0  2021-04-20T10:28:50+0000   \n",
       "5    NaN  2021-04-20T01:18:00+0000   \n",
       "\n",
       "                                        full_picture  \\\n",
       "0  https://external.fsgn5-7.fna.fbcdn.net/safe_im...   \n",
       "1  https://external.fsgn5-7.fna.fbcdn.net/safe_im...   \n",
       "2  https://external.fsgn5-7.fna.fbcdn.net/safe_im...   \n",
       "3  https://scontent.fsgn5-3.fna.fbcdn.net/v/t1.64...   \n",
       "4  https://scontent.fsgn5-7.fna.fbcdn.net/v/t15.1...   \n",
       "5  https://scontent.fsgn5-5.fna.fbcdn.net/v/t1.64...   \n",
       "\n",
       "                                 id  likes  \\\n",
       "0  165419643537532_3910631939016265   12.0   \n",
       "1  165419643537532_3907208106025315  187.0   \n",
       "2  165419643537532_3910084812404311  125.0   \n",
       "3  165419643537532_3910151185731007  156.0   \n",
       "4  165419643537532_3970213129739105  191.0   \n",
       "5  165419643537532_3836613506418109   69.0   \n",
       "\n",
       "                                             message  \\\n",
       "0  🌎🌳 Hãy tham gia thử thách với chúng tôi qua cá...   \n",
       "1  #Bạncóbiết Hoa Kỳ đầu tư khoảng 2,5 tỷ đô để g...   \n",
       "2  👩🏻‍🎓📚🇻🇳 Hãy cùng tìm hiểu về trải nghiệm của b...   \n",
       "3  🇺🇸 Hoa Kỳ đang hợp tác với Ấn Độ 🇮🇳, Úc 🇦🇺 và ...   \n",
       "4  What is it like to be Asian in America? What c...   \n",
       "5  Các bạn cựu sinh #YSEALI ơi!\\n \\nCác bạn đã nộ...   \n",
       "\n",
       "                                        message_tags  \\\n",
       "0                                                 []   \n",
       "1  [{'id': '175644755921764', 'name': '#Bạncóbiết...   \n",
       "2                                                 []   \n",
       "3                                                 []   \n",
       "4                                                NaN   \n",
       "5  [{'id': '413701888733070', 'name': '#YSEALI', ...   \n",
       "\n",
       "                                       permalink_url  share   status_type  \\\n",
       "0  https://www.facebook.com/165419643537532/posts...    5.0  shared_story   \n",
       "1  https://www.facebook.com/165419643537532/posts...   12.0  shared_story   \n",
       "2  https://www.facebook.com/165419643537532/posts...   11.0  shared_story   \n",
       "3  https://www.facebook.com/165419643537532/posts...   14.0  added_photos   \n",
       "4  https://www.facebook.com/USConsulateHCMC/video...   18.0   added_video   \n",
       "5  https://www.facebook.com/165419643537532/posts...   24.0  added_photos   \n",
       "\n",
       "                                            comments  \n",
       "0                                                 []  \n",
       "1  [{'message': 'The US should ban single-use pla...  \n",
       "2  [{'message': 'High risk high return, really ho...  \n",
       "3  [{'message': '', 'id': '3910151185731007_39111...  \n",
       "4  [{'message': 'Thank you very much for joining ...  \n",
       "5  [{'message': 'Nguyen Son ', 'id': '38366135064...  "
      ],
      "text/html": "<div>\n<style scoped>\n    .dataframe tbody tr th:only-of-type {\n        vertical-align: middle;\n    }\n\n    .dataframe tbody tr th {\n        vertical-align: top;\n    }\n\n    .dataframe thead th {\n        text-align: right;\n    }\n</style>\n<table border=\"1\" class=\"dataframe\">\n  <thead>\n    <tr style=\"text-align: right;\">\n      <th></th>\n      <th>anger</th>\n      <th>created_time</th>\n      <th>full_picture</th>\n      <th>id</th>\n      <th>likes</th>\n      <th>message</th>\n      <th>message_tags</th>\n      <th>permalink_url</th>\n      <th>share</th>\n      <th>status_type</th>\n      <th>comments</th>\n    </tr>\n  </thead>\n  <tbody>\n    <tr>\n      <th>0</th>\n      <td>NaN</td>\n      <td>2021-04-22T01:45:35+0000</td>\n      <td>https://external.fsgn5-7.fna.fbcdn.net/safe_im...</td>\n      <td>165419643537532_3910631939016265</td>\n      <td>12.0</td>\n      <td>🌎🌳 Hãy tham gia thử thách với chúng tôi qua cá...</td>\n      <td>[]</td>\n      <td>https://www.facebook.com/165419643537532/posts...</td>\n      <td>5.0</td>\n      <td>shared_story</td>\n      <td>[]</td>\n    </tr>\n    <tr>\n      <th>1</th>\n      <td>NaN</td>\n      <td>2021-04-21T09:14:21+0000</td>\n      <td>https://external.fsgn5-7.fna.fbcdn.net/safe_im...</td>\n      <td>165419643537532_3907208106025315</td>\n      <td>187.0</td>\n      <td>#Bạncóbiết Hoa Kỳ đầu tư khoảng 2,5 tỷ đô để g...</td>\n      <td>[{'id': '175644755921764', 'name': '#Bạncóbiết...</td>\n      <td>https://www.facebook.com/165419643537532/posts...</td>\n      <td>12.0</td>\n      <td>shared_story</td>\n      <td>[{'message': 'The US should ban single-use pla...</td>\n    </tr>\n    <tr>\n      <th>2</th>\n      <td>1.0</td>\n      <td>2021-04-21T03:08:54+0000</td>\n      <td>https://external.fsgn5-7.fna.fbcdn.net/safe_im...</td>\n      <td>165419643537532_3910084812404311</td>\n      <td>125.0</td>\n      <td>👩🏻‍🎓📚🇻🇳 Hãy cùng tìm hiểu về trải nghiệm của b...</td>\n      <td>[]</td>\n      <td>https://www.facebook.com/165419643537532/posts...</td>\n      <td>11.0</td>\n      <td>shared_story</td>\n      <td>[{'message': 'High risk high return, really ho...</td>\n    </tr>\n    <tr>\n      <th>3</th>\n      <td>1.0</td>\n      <td>2021-04-20T13:21:00+0000</td>\n      <td>https://scontent.fsgn5-3.fna.fbcdn.net/v/t1.64...</td>\n      <td>165419643537532_3910151185731007</td>\n      <td>156.0</td>\n      <td>🇺🇸 Hoa Kỳ đang hợp tác với Ấn Độ 🇮🇳, Úc 🇦🇺 và ...</td>\n      <td>[]</td>\n      <td>https://www.facebook.com/165419643537532/posts...</td>\n      <td>14.0</td>\n      <td>added_photos</td>\n      <td>[{'message': '', 'id': '3910151185731007_39111...</td>\n    </tr>\n    <tr>\n      <th>4</th>\n      <td>1.0</td>\n      <td>2021-04-20T10:28:50+0000</td>\n      <td>https://scontent.fsgn5-7.fna.fbcdn.net/v/t15.1...</td>\n      <td>165419643537532_3970213129739105</td>\n      <td>191.0</td>\n      <td>What is it like to be Asian in America? What c...</td>\n      <td>NaN</td>\n      <td>https://www.facebook.com/USConsulateHCMC/video...</td>\n      <td>18.0</td>\n      <td>added_video</td>\n      <td>[{'message': 'Thank you very much for joining ...</td>\n    </tr>\n    <tr>\n      <th>5</th>\n      <td>NaN</td>\n      <td>2021-04-20T01:18:00+0000</td>\n      <td>https://scontent.fsgn5-5.fna.fbcdn.net/v/t1.64...</td>\n      <td>165419643537532_3836613506418109</td>\n      <td>69.0</td>\n      <td>Các bạn cựu sinh #YSEALI ơi!\\n \\nCác bạn đã nộ...</td>\n      <td>[{'id': '413701888733070', 'name': '#YSEALI', ...</td>\n      <td>https://www.facebook.com/165419643537532/posts...</td>\n      <td>24.0</td>\n      <td>added_photos</td>\n      <td>[{'message': 'Nguyen Son ', 'id': '38366135064...</td>\n    </tr>\n  </tbody>\n</table>\n</div>"
     },
     "metadata": {},
     "execution_count": 187
    }
   ],
   "source": [
    "df_test = df_result.loc[:5]\n",
    "df_test"
   ]
  },
  {
   "cell_type": "code",
   "execution_count": 191,
   "metadata": {},
   "outputs": [
    {
     "output_type": "execute_result",
     "data": {
      "text/plain": [
       "   anger                                           comments  count_comments  \\\n",
       "0    NaN                                                 []             NaN   \n",
       "1    NaN  [{'message': 'The US should ban single-use pla...            11.0   \n",
       "2    1.0  [{'message': 'High risk high return, really ho...             3.0   \n",
       "3    1.0  [{'message': '', 'id': '3910151185731007_39111...             9.0   \n",
       "4    1.0  [{'message': 'Thank you very much for joining ...            33.0   \n",
       "5    NaN  [{'message': 'Nguyen Son ', 'id': '38366135064...             1.0   \n",
       "\n",
       "               created_time  \\\n",
       "0  2021-04-22T01:45:35+0000   \n",
       "1  2021-04-21T09:14:21+0000   \n",
       "2  2021-04-21T03:08:54+0000   \n",
       "3  2021-04-20T13:21:00+0000   \n",
       "4  2021-04-20T10:28:50+0000   \n",
       "5  2021-04-20T01:18:00+0000   \n",
       "\n",
       "                                        full_picture  \\\n",
       "0  https://external.fsgn5-7.fna.fbcdn.net/safe_im...   \n",
       "1  https://external.fsgn5-7.fna.fbcdn.net/safe_im...   \n",
       "2  https://external.fsgn5-7.fna.fbcdn.net/safe_im...   \n",
       "3  https://scontent.fsgn5-3.fna.fbcdn.net/v/t1.64...   \n",
       "4  https://scontent.fsgn5-7.fna.fbcdn.net/v/t15.1...   \n",
       "5  https://scontent.fsgn5-5.fna.fbcdn.net/v/t1.64...   \n",
       "\n",
       "                                 id  likes  \\\n",
       "0  165419643537532_3910631939016265   12.0   \n",
       "1  165419643537532_3907208106025315  187.0   \n",
       "2  165419643537532_3910084812404311  125.0   \n",
       "3  165419643537532_3910151185731007  156.0   \n",
       "4  165419643537532_3970213129739105  191.0   \n",
       "5  165419643537532_3836613506418109   69.0   \n",
       "\n",
       "                                             message  \\\n",
       "0  🌎🌳 Hãy tham gia thử thách với chúng tôi qua cá...   \n",
       "1  #Bạncóbiết Hoa Kỳ đầu tư khoảng 2,5 tỷ đô để g...   \n",
       "2  👩🏻‍🎓📚🇻🇳 Hãy cùng tìm hiểu về trải nghiệm của b...   \n",
       "3  🇺🇸 Hoa Kỳ đang hợp tác với Ấn Độ 🇮🇳, Úc 🇦🇺 và ...   \n",
       "4  What is it like to be Asian in America? What c...   \n",
       "5  Các bạn cựu sinh #YSEALI ơi!\\n \\nCác bạn đã nộ...   \n",
       "\n",
       "                                        message_tags  \\\n",
       "0                                                 []   \n",
       "1  [{'id': '175644755921764', 'name': '#Bạncóbiết...   \n",
       "2                                                 []   \n",
       "3                                                 []   \n",
       "4                                                NaN   \n",
       "5  [{'id': '413701888733070', 'name': '#YSEALI', ...   \n",
       "\n",
       "                                       permalink_url  share   status_type  \n",
       "0  https://www.facebook.com/165419643537532/posts...    5.0  shared_story  \n",
       "1  https://www.facebook.com/165419643537532/posts...   12.0  shared_story  \n",
       "2  https://www.facebook.com/165419643537532/posts...   11.0  shared_story  \n",
       "3  https://www.facebook.com/165419643537532/posts...   14.0  added_photos  \n",
       "4  https://www.facebook.com/USConsulateHCMC/video...   18.0   added_video  \n",
       "5  https://www.facebook.com/165419643537532/posts...   24.0  added_photos  "
      ],
      "text/html": "<div>\n<style scoped>\n    .dataframe tbody tr th:only-of-type {\n        vertical-align: middle;\n    }\n\n    .dataframe tbody tr th {\n        vertical-align: top;\n    }\n\n    .dataframe thead th {\n        text-align: right;\n    }\n</style>\n<table border=\"1\" class=\"dataframe\">\n  <thead>\n    <tr style=\"text-align: right;\">\n      <th></th>\n      <th>anger</th>\n      <th>comments</th>\n      <th>count_comments</th>\n      <th>created_time</th>\n      <th>full_picture</th>\n      <th>id</th>\n      <th>likes</th>\n      <th>message</th>\n      <th>message_tags</th>\n      <th>permalink_url</th>\n      <th>share</th>\n      <th>status_type</th>\n    </tr>\n  </thead>\n  <tbody>\n    <tr>\n      <th>0</th>\n      <td>NaN</td>\n      <td>[]</td>\n      <td>NaN</td>\n      <td>2021-04-22T01:45:35+0000</td>\n      <td>https://external.fsgn5-7.fna.fbcdn.net/safe_im...</td>\n      <td>165419643537532_3910631939016265</td>\n      <td>12.0</td>\n      <td>🌎🌳 Hãy tham gia thử thách với chúng tôi qua cá...</td>\n      <td>[]</td>\n      <td>https://www.facebook.com/165419643537532/posts...</td>\n      <td>5.0</td>\n      <td>shared_story</td>\n    </tr>\n    <tr>\n      <th>1</th>\n      <td>NaN</td>\n      <td>[{'message': 'The US should ban single-use pla...</td>\n      <td>11.0</td>\n      <td>2021-04-21T09:14:21+0000</td>\n      <td>https://external.fsgn5-7.fna.fbcdn.net/safe_im...</td>\n      <td>165419643537532_3907208106025315</td>\n      <td>187.0</td>\n      <td>#Bạncóbiết Hoa Kỳ đầu tư khoảng 2,5 tỷ đô để g...</td>\n      <td>[{'id': '175644755921764', 'name': '#Bạncóbiết...</td>\n      <td>https://www.facebook.com/165419643537532/posts...</td>\n      <td>12.0</td>\n      <td>shared_story</td>\n    </tr>\n    <tr>\n      <th>2</th>\n      <td>1.0</td>\n      <td>[{'message': 'High risk high return, really ho...</td>\n      <td>3.0</td>\n      <td>2021-04-21T03:08:54+0000</td>\n      <td>https://external.fsgn5-7.fna.fbcdn.net/safe_im...</td>\n      <td>165419643537532_3910084812404311</td>\n      <td>125.0</td>\n      <td>👩🏻‍🎓📚🇻🇳 Hãy cùng tìm hiểu về trải nghiệm của b...</td>\n      <td>[]</td>\n      <td>https://www.facebook.com/165419643537532/posts...</td>\n      <td>11.0</td>\n      <td>shared_story</td>\n    </tr>\n    <tr>\n      <th>3</th>\n      <td>1.0</td>\n      <td>[{'message': '', 'id': '3910151185731007_39111...</td>\n      <td>9.0</td>\n      <td>2021-04-20T13:21:00+0000</td>\n      <td>https://scontent.fsgn5-3.fna.fbcdn.net/v/t1.64...</td>\n      <td>165419643537532_3910151185731007</td>\n      <td>156.0</td>\n      <td>🇺🇸 Hoa Kỳ đang hợp tác với Ấn Độ 🇮🇳, Úc 🇦🇺 và ...</td>\n      <td>[]</td>\n      <td>https://www.facebook.com/165419643537532/posts...</td>\n      <td>14.0</td>\n      <td>added_photos</td>\n    </tr>\n    <tr>\n      <th>4</th>\n      <td>1.0</td>\n      <td>[{'message': 'Thank you very much for joining ...</td>\n      <td>33.0</td>\n      <td>2021-04-20T10:28:50+0000</td>\n      <td>https://scontent.fsgn5-7.fna.fbcdn.net/v/t15.1...</td>\n      <td>165419643537532_3970213129739105</td>\n      <td>191.0</td>\n      <td>What is it like to be Asian in America? What c...</td>\n      <td>NaN</td>\n      <td>https://www.facebook.com/USConsulateHCMC/video...</td>\n      <td>18.0</td>\n      <td>added_video</td>\n    </tr>\n    <tr>\n      <th>5</th>\n      <td>NaN</td>\n      <td>[{'message': 'Nguyen Son ', 'id': '38366135064...</td>\n      <td>1.0</td>\n      <td>2021-04-20T01:18:00+0000</td>\n      <td>https://scontent.fsgn5-5.fna.fbcdn.net/v/t1.64...</td>\n      <td>165419643537532_3836613506418109</td>\n      <td>69.0</td>\n      <td>Các bạn cựu sinh #YSEALI ơi!\\n \\nCác bạn đã nộ...</td>\n      <td>[{'id': '413701888733070', 'name': '#YSEALI', ...</td>\n      <td>https://www.facebook.com/165419643537532/posts...</td>\n      <td>24.0</td>\n      <td>added_photos</td>\n    </tr>\n  </tbody>\n</table>\n</div>"
     },
     "metadata": {},
     "execution_count": 191
    }
   ],
   "source": [
    "df_test"
   ]
  },
  {
   "cell_type": "code",
   "execution_count": 189,
   "metadata": {},
   "outputs": [],
   "source": [
    "df_test = df_test.apply(get_count_comments, axis=1)"
   ]
  },
  {
   "cell_type": "code",
   "execution_count": 190,
   "metadata": {},
   "outputs": [
    {
     "output_type": "execute_result",
     "data": {
      "text/plain": [
       "Index(['anger', 'comments', 'count_comments', 'created_time', 'full_picture',\n",
       "       'id', 'likes', 'message', 'message_tags', 'permalink_url', 'share',\n",
       "       'status_type'],\n",
       "      dtype='object')"
      ]
     },
     "metadata": {},
     "execution_count": 190
    }
   ],
   "source": [
    "df_test.columns"
   ]
  },
  {
   "cell_type": "code",
   "execution_count": 149,
   "metadata": {},
   "outputs": [],
   "source": [
    "item_reaction = graph.get_connections(id = \"165419643537532_3859131857499607\", connection_name= \"insights\", metric=\"post_reactions_by_type_total\", period = \"lifetime\")\n",
    "if \"share\" in item_reaction['data'][0]['values'][0]['value']:\n",
    "    print(item_reaction['data'][0]['values'][0]['value']['like'])"
   ]
  },
  {
   "cell_type": "code",
   "execution_count": 91,
   "metadata": {},
   "outputs": [
    {
     "output_type": "execute_result",
     "data": {
      "text/plain": [
       "{'like': 326, 'love': 15, 'wow': 1, 'anger': 1}"
      ]
     },
     "metadata": {},
     "execution_count": 91
    }
   ],
   "source": [
    "item_reaction = graph.get_connections(id = \"165419643537532_3859131857499607\", connection_name= \"insights\", metric=\"post_reactions_by_type_total\", period = \"lifetime\")\n",
    "item_reaction['data'][0]['values'][0]['value']"
   ]
  },
  {
   "cell_type": "code",
   "execution_count": null,
   "metadata": {},
   "outputs": [],
   "source": [
    "item_reaction = graph.get_connections(id = \"165419643537532_3859131857499607\", connection_name= \"insights\", metric=\"post_reactions_by_type_total\", period = \"lifetime\")\n",
    "item_reaction[\"data\"][0][\"values\"][\"value\"]"
   ]
  },
  {
   "cell_type": "code",
   "execution_count": 116,
   "metadata": {},
   "outputs": [
    {
     "output_type": "execute_result",
     "data": {
      "text/plain": [
       "0"
      ]
     },
     "metadata": {},
     "execution_count": 116
    }
   ],
   "source": [
    "item_likes = graph.get_connections(id=\"165419643537532_175001792579317\", connection_name = \"insights\", metric='post_reactions_like_total', date_preset='yesterday', period='lifetime', show_description_from_api_doc=False)\n",
    "item_likes['data'][0]['values'][0]['value']"
   ]
  },
  {
   "cell_type": "code",
   "execution_count": 121,
   "metadata": {},
   "outputs": [
    {
     "output_type": "execute_result",
     "data": {
      "text/plain": [
       "                  created_time                                id  \\\n",
       "0     2021-04-19T04:32:01+0000  165419643537532_3907405806005545   \n",
       "1     2021-04-19T02:28:24+0000  165419643537532_3907197182693074   \n",
       "2     2021-04-17T11:34:00+0000  165419643537532_3901860516560074   \n",
       "3     2021-04-17T02:04:32+0000  165419643537532_3893631234049669   \n",
       "4     2021-04-16T12:11:01+0000  165419643537532_3898779546868171   \n",
       "...                        ...                               ...   \n",
       "6566  2011-10-03T08:53:12+0000   165419643537532_176095189136644   \n",
       "6567  2011-09-30T15:05:30+0000   165419643537532_175001792579317   \n",
       "6568  2011-09-30T06:29:49+0000   165419643537532_174882175924612   \n",
       "6569  2011-09-28T03:15:16+0000   165419643537532_174031516009678   \n",
       "6570  2011-09-14T12:20:12+0000   165419643537532_168350943244402   \n",
       "\n",
       "                                                message           status_type  \\\n",
       "0     🇻🇳 Ẩm thực Việt Nam ngon tuyệt và là một trong...          added_photos   \n",
       "1     Cùng thưởng thức những bức ảnh tuyệt vời về Vi...          shared_story   \n",
       "2     170+ khảo sát được thu thập & đây là những gì ...          added_photos   \n",
       "3     Think Playgrounds là một dự án xã hội của kiến...          shared_story   \n",
       "4     Ngày 9 tháng 4 năm 2021, #TLSDamour đã đại diệ...          added_photos   \n",
       "...                                                 ...                   ...   \n",
       "6566  On September 23, to mark a World Heart Day and...          added_photos   \n",
       "6567                                                NaN          added_photos   \n",
       "6568                                                NaN          added_photos   \n",
       "6569  The American Center - Grand Opening September ...  mobile_status_update   \n",
       "6570                                                NaN          added_photos   \n",
       "\n",
       "                                          permalink_url  \\\n",
       "0     https://www.facebook.com/165419643537532/posts...   \n",
       "1     https://www.facebook.com/165419643537532/posts...   \n",
       "2     https://www.facebook.com/165419643537532/posts...   \n",
       "3     https://www.facebook.com/165419643537532/posts...   \n",
       "4     https://www.facebook.com/165419643537532/posts...   \n",
       "...                                                 ...   \n",
       "6566  https://www.facebook.com/USConsulateHCMC/photo...   \n",
       "6567  https://www.facebook.com/USConsulateHCMC/photo...   \n",
       "6568  https://www.facebook.com/USConsulateHCMC/photo...   \n",
       "6569  https://www.facebook.com/165419643537532/posts...   \n",
       "6570  https://www.facebook.com/USConsulateHCMC/photo...   \n",
       "\n",
       "                                           full_picture  \\\n",
       "0     https://scontent.fsgn5-2.fna.fbcdn.net/v/t1.64...   \n",
       "1     https://external.fsgn5-7.fna.fbcdn.net/safe_im...   \n",
       "2     https://scontent.fsgn5-7.fna.fbcdn.net/v/t1.64...   \n",
       "3     https://external.fsgn5-7.fna.fbcdn.net/safe_im...   \n",
       "4     https://scontent.fsgn5-2.fna.fbcdn.net/v/t1.64...   \n",
       "...                                                 ...   \n",
       "6566  https://scontent.fsgn5-6.fna.fbcdn.net/v/t1.18...   \n",
       "6567  https://scontent.fsgn5-5.fna.fbcdn.net/v/t1.18...   \n",
       "6568  https://scontent.fsgn5-5.fna.fbcdn.net/v/t1.18...   \n",
       "6569                                                NaN   \n",
       "6570  https://scontent.fsgn5-5.fna.fbcdn.net/v/t1.18...   \n",
       "\n",
       "                                           message_tags  likes  \n",
       "0                                                    []   96.0  \n",
       "1                                                    []   32.0  \n",
       "2     [{'id': '3491860034257573', 'name': '#consular...   23.0  \n",
       "3                                                    []  157.0  \n",
       "4     [{'id': '2904931832928802', 'name': '#TLSDamou...    NaN  \n",
       "...                                                 ...    ...  \n",
       "6566                                                NaN    NaN  \n",
       "6567                                                NaN    NaN  \n",
       "6568                                                NaN    NaN  \n",
       "6569                                                NaN    NaN  \n",
       "6570                                                NaN    NaN  \n",
       "\n",
       "[6571 rows x 8 columns]"
      ],
      "text/html": "<div>\n<style scoped>\n    .dataframe tbody tr th:only-of-type {\n        vertical-align: middle;\n    }\n\n    .dataframe tbody tr th {\n        vertical-align: top;\n    }\n\n    .dataframe thead th {\n        text-align: right;\n    }\n</style>\n<table border=\"1\" class=\"dataframe\">\n  <thead>\n    <tr style=\"text-align: right;\">\n      <th></th>\n      <th>created_time</th>\n      <th>id</th>\n      <th>message</th>\n      <th>status_type</th>\n      <th>permalink_url</th>\n      <th>full_picture</th>\n      <th>message_tags</th>\n      <th>likes</th>\n    </tr>\n  </thead>\n  <tbody>\n    <tr>\n      <th>0</th>\n      <td>2021-04-19T04:32:01+0000</td>\n      <td>165419643537532_3907405806005545</td>\n      <td>🇻🇳 Ẩm thực Việt Nam ngon tuyệt và là một trong...</td>\n      <td>added_photos</td>\n      <td>https://www.facebook.com/165419643537532/posts...</td>\n      <td>https://scontent.fsgn5-2.fna.fbcdn.net/v/t1.64...</td>\n      <td>[]</td>\n      <td>96.0</td>\n    </tr>\n    <tr>\n      <th>1</th>\n      <td>2021-04-19T02:28:24+0000</td>\n      <td>165419643537532_3907197182693074</td>\n      <td>Cùng thưởng thức những bức ảnh tuyệt vời về Vi...</td>\n      <td>shared_story</td>\n      <td>https://www.facebook.com/165419643537532/posts...</td>\n      <td>https://external.fsgn5-7.fna.fbcdn.net/safe_im...</td>\n      <td>[]</td>\n      <td>32.0</td>\n    </tr>\n    <tr>\n      <th>2</th>\n      <td>2021-04-17T11:34:00+0000</td>\n      <td>165419643537532_3901860516560074</td>\n      <td>170+ khảo sát được thu thập &amp; đây là những gì ...</td>\n      <td>added_photos</td>\n      <td>https://www.facebook.com/165419643537532/posts...</td>\n      <td>https://scontent.fsgn5-7.fna.fbcdn.net/v/t1.64...</td>\n      <td>[{'id': '3491860034257573', 'name': '#consular...</td>\n      <td>23.0</td>\n    </tr>\n    <tr>\n      <th>3</th>\n      <td>2021-04-17T02:04:32+0000</td>\n      <td>165419643537532_3893631234049669</td>\n      <td>Think Playgrounds là một dự án xã hội của kiến...</td>\n      <td>shared_story</td>\n      <td>https://www.facebook.com/165419643537532/posts...</td>\n      <td>https://external.fsgn5-7.fna.fbcdn.net/safe_im...</td>\n      <td>[]</td>\n      <td>157.0</td>\n    </tr>\n    <tr>\n      <th>4</th>\n      <td>2021-04-16T12:11:01+0000</td>\n      <td>165419643537532_3898779546868171</td>\n      <td>Ngày 9 tháng 4 năm 2021, #TLSDamour đã đại diệ...</td>\n      <td>added_photos</td>\n      <td>https://www.facebook.com/165419643537532/posts...</td>\n      <td>https://scontent.fsgn5-2.fna.fbcdn.net/v/t1.64...</td>\n      <td>[{'id': '2904931832928802', 'name': '#TLSDamou...</td>\n      <td>NaN</td>\n    </tr>\n    <tr>\n      <th>...</th>\n      <td>...</td>\n      <td>...</td>\n      <td>...</td>\n      <td>...</td>\n      <td>...</td>\n      <td>...</td>\n      <td>...</td>\n      <td>...</td>\n    </tr>\n    <tr>\n      <th>6566</th>\n      <td>2011-10-03T08:53:12+0000</td>\n      <td>165419643537532_176095189136644</td>\n      <td>On September 23, to mark a World Heart Day and...</td>\n      <td>added_photos</td>\n      <td>https://www.facebook.com/USConsulateHCMC/photo...</td>\n      <td>https://scontent.fsgn5-6.fna.fbcdn.net/v/t1.18...</td>\n      <td>NaN</td>\n      <td>NaN</td>\n    </tr>\n    <tr>\n      <th>6567</th>\n      <td>2011-09-30T15:05:30+0000</td>\n      <td>165419643537532_175001792579317</td>\n      <td>NaN</td>\n      <td>added_photos</td>\n      <td>https://www.facebook.com/USConsulateHCMC/photo...</td>\n      <td>https://scontent.fsgn5-5.fna.fbcdn.net/v/t1.18...</td>\n      <td>NaN</td>\n      <td>NaN</td>\n    </tr>\n    <tr>\n      <th>6568</th>\n      <td>2011-09-30T06:29:49+0000</td>\n      <td>165419643537532_174882175924612</td>\n      <td>NaN</td>\n      <td>added_photos</td>\n      <td>https://www.facebook.com/USConsulateHCMC/photo...</td>\n      <td>https://scontent.fsgn5-5.fna.fbcdn.net/v/t1.18...</td>\n      <td>NaN</td>\n      <td>NaN</td>\n    </tr>\n    <tr>\n      <th>6569</th>\n      <td>2011-09-28T03:15:16+0000</td>\n      <td>165419643537532_174031516009678</td>\n      <td>The American Center - Grand Opening September ...</td>\n      <td>mobile_status_update</td>\n      <td>https://www.facebook.com/165419643537532/posts...</td>\n      <td>NaN</td>\n      <td>NaN</td>\n      <td>NaN</td>\n    </tr>\n    <tr>\n      <th>6570</th>\n      <td>2011-09-14T12:20:12+0000</td>\n      <td>165419643537532_168350943244402</td>\n      <td>NaN</td>\n      <td>added_photos</td>\n      <td>https://www.facebook.com/USConsulateHCMC/photo...</td>\n      <td>https://scontent.fsgn5-5.fna.fbcdn.net/v/t1.18...</td>\n      <td>NaN</td>\n      <td>NaN</td>\n    </tr>\n  </tbody>\n</table>\n<p>6571 rows × 8 columns</p>\n</div>"
     },
     "metadata": {},
     "execution_count": 121
    }
   ],
   "source": [
    "df"
   ]
  },
  {
   "cell_type": "code",
   "execution_count": 58,
   "metadata": {},
   "outputs": [
    {
     "output_type": "error",
     "ename": "IndentationError",
     "evalue": "unexpected indent (<ipython-input-58-9e0c78abe238>, line 6)",
     "traceback": [
      "\u001b[0;36m  File \u001b[0;32m\"<ipython-input-58-9e0c78abe238>\"\u001b[0;36m, line \u001b[0;32m6\u001b[0m\n\u001b[0;31m    else return insight['data'][0]['values'][0]['value']['like']\u001b[0m\n\u001b[0m    ^\u001b[0m\n\u001b[0;31mIndentationError\u001b[0m\u001b[0;31m:\u001b[0m unexpected indent\n"
     ]
    }
   ],
   "source": [
    "def return_engagements(nid):\n",
    "    insight = graph.get_connections(nid, connection_name='insights',metric='post_activity_by_action_type', date_preset='yesterday', period='lifetime', show_description_from_api_doc=False)\n",
    "    if bool(insight['data'][0]['values'][0]['value']) == True:\n",
    "        if bool(insight['data'][0]['values'][0]['value']['like']) == False:\n",
    "            return null\n",
    "                else return insight['data'][0]['values'][0]['value']['like']"
   ]
  },
  {
   "cell_type": "code",
   "execution_count": 61,
   "metadata": {},
   "outputs": [
    {
     "output_type": "error",
     "ename": "GraphAPIError",
     "evalue": "(#803) Some of the aliases you requested do not exist: 0       165419643537532_3859131857499607\n1       165419643537532_3855602657852527\n2       165419643537532_3859056144173845\n3        165419643537532_505717244145146\n4        165419643537532_218596766710290\n                      ...               \n6523     165419643537532_176095189136644\n6524     165419643537532_175001792579317\n6525     165419643537532_174882175924612\n6526     165419643537532_174031516009678\n6527     165419643537532_168350943244402\nName: id, Length: 6528, dtype: object",
     "traceback": [
      "\u001b[0;31m---------------------------------------------------------------------------\u001b[0m",
      "\u001b[0;31mGraphAPIError\u001b[0m                             Traceback (most recent call last)",
      "\u001b[0;32m<ipython-input-61-b5a987aabcae>\u001b[0m in \u001b[0;36m<module>\u001b[0;34m\u001b[0m\n\u001b[0;32m----> 1\u001b[0;31m \u001b[0mdf\u001b[0m\u001b[0;34m[\u001b[0m\u001b[0;34m'likes'\u001b[0m\u001b[0;34m]\u001b[0m \u001b[0;34m=\u001b[0m \u001b[0mgraph\u001b[0m\u001b[0;34m.\u001b[0m\u001b[0mget_connections\u001b[0m\u001b[0;34m(\u001b[0m\u001b[0mdf\u001b[0m\u001b[0;34m[\u001b[0m\u001b[0;34m\"id\"\u001b[0m\u001b[0;34m]\u001b[0m\u001b[0;34m,\u001b[0m \u001b[0mconnection_name\u001b[0m\u001b[0;34m=\u001b[0m\u001b[0;34m'insights'\u001b[0m\u001b[0;34m,\u001b[0m\u001b[0mmetric\u001b[0m\u001b[0;34m=\u001b[0m\u001b[0;34m'post_activity_by_action_type'\u001b[0m\u001b[0;34m,\u001b[0m \u001b[0mdate_preset\u001b[0m\u001b[0;34m=\u001b[0m\u001b[0;34m'yesterday'\u001b[0m\u001b[0;34m,\u001b[0m \u001b[0mperiod\u001b[0m\u001b[0;34m=\u001b[0m\u001b[0;34m'lifetime'\u001b[0m\u001b[0;34m,\u001b[0m \u001b[0mshow_description_from_api_doc\u001b[0m\u001b[0;34m=\u001b[0m\u001b[0;32mFalse\u001b[0m\u001b[0;34m)\u001b[0m\u001b[0;34m\u001b[0m\u001b[0;34m\u001b[0m\u001b[0m\n\u001b[0m",
      "\u001b[0;32m/usr/local/lib/python3.9/site-packages/facebook/__init__.py\u001b[0m in \u001b[0;36mget_connections\u001b[0;34m(self, id, connection_name, **args)\u001b[0m\n\u001b[1;32m    147\u001b[0m     \u001b[0;32mdef\u001b[0m \u001b[0mget_connections\u001b[0m\u001b[0;34m(\u001b[0m\u001b[0mself\u001b[0m\u001b[0;34m,\u001b[0m \u001b[0mid\u001b[0m\u001b[0;34m,\u001b[0m \u001b[0mconnection_name\u001b[0m\u001b[0;34m,\u001b[0m \u001b[0;34m**\u001b[0m\u001b[0margs\u001b[0m\u001b[0;34m)\u001b[0m\u001b[0;34m:\u001b[0m\u001b[0;34m\u001b[0m\u001b[0;34m\u001b[0m\u001b[0m\n\u001b[1;32m    148\u001b[0m         \u001b[0;34m\"\"\"Fetches the connections for given object.\"\"\"\u001b[0m\u001b[0;34m\u001b[0m\u001b[0;34m\u001b[0m\u001b[0m\n\u001b[0;32m--> 149\u001b[0;31m         return self.request(\n\u001b[0m\u001b[1;32m    150\u001b[0m             \u001b[0;34m\"{0}/{1}/{2}\"\u001b[0m\u001b[0;34m.\u001b[0m\u001b[0mformat\u001b[0m\u001b[0;34m(\u001b[0m\u001b[0mself\u001b[0m\u001b[0;34m.\u001b[0m\u001b[0mversion\u001b[0m\u001b[0;34m,\u001b[0m \u001b[0mid\u001b[0m\u001b[0;34m,\u001b[0m \u001b[0mconnection_name\u001b[0m\u001b[0;34m)\u001b[0m\u001b[0;34m,\u001b[0m \u001b[0margs\u001b[0m\u001b[0;34m\u001b[0m\u001b[0;34m\u001b[0m\u001b[0m\n\u001b[1;32m    151\u001b[0m         )\n",
      "\u001b[0;32m/usr/local/lib/python3.9/site-packages/facebook/__init__.py\u001b[0m in \u001b[0;36mrequest\u001b[0;34m(self, path, args, post_args, files, method)\u001b[0m\n\u001b[1;32m    311\u001b[0m \u001b[0;34m\u001b[0m\u001b[0m\n\u001b[1;32m    312\u001b[0m         \u001b[0;32mif\u001b[0m \u001b[0mresult\u001b[0m \u001b[0;32mand\u001b[0m \u001b[0misinstance\u001b[0m\u001b[0;34m(\u001b[0m\u001b[0mresult\u001b[0m\u001b[0;34m,\u001b[0m \u001b[0mdict\u001b[0m\u001b[0;34m)\u001b[0m \u001b[0;32mand\u001b[0m \u001b[0mresult\u001b[0m\u001b[0;34m.\u001b[0m\u001b[0mget\u001b[0m\u001b[0;34m(\u001b[0m\u001b[0;34m\"error\"\u001b[0m\u001b[0;34m)\u001b[0m\u001b[0;34m:\u001b[0m\u001b[0;34m\u001b[0m\u001b[0;34m\u001b[0m\u001b[0m\n\u001b[0;32m--> 313\u001b[0;31m             \u001b[0;32mraise\u001b[0m \u001b[0mGraphAPIError\u001b[0m\u001b[0;34m(\u001b[0m\u001b[0mresult\u001b[0m\u001b[0;34m)\u001b[0m\u001b[0;34m\u001b[0m\u001b[0;34m\u001b[0m\u001b[0m\n\u001b[0m\u001b[1;32m    314\u001b[0m         \u001b[0;32mreturn\u001b[0m \u001b[0mresult\u001b[0m\u001b[0;34m\u001b[0m\u001b[0;34m\u001b[0m\u001b[0m\n\u001b[1;32m    315\u001b[0m \u001b[0;34m\u001b[0m\u001b[0m\n",
      "\u001b[0;31mGraphAPIError\u001b[0m: (#803) Some of the aliases you requested do not exist: 0       165419643537532_3859131857499607\n1       165419643537532_3855602657852527\n2       165419643537532_3859056144173845\n3        165419643537532_505717244145146\n4        165419643537532_218596766710290\n                      ...               \n6523     165419643537532_176095189136644\n6524     165419643537532_175001792579317\n6525     165419643537532_174882175924612\n6526     165419643537532_174031516009678\n6527     165419643537532_168350943244402\nName: id, Length: 6528, dtype: object"
     ]
    }
   ],
   "source": [
    "df['likes'] = graph.get_connections(df[\"id\"], connection_name='insights',metric='post_activity_by_action_type', date_preset='yesterday', period='lifetime', show_description_from_api_doc=False)"
   ]
  },
  {
   "cell_type": "code",
   "execution_count": 65,
   "metadata": {},
   "outputs": [
    {
     "output_type": "error",
     "ename": "GraphAPIError",
     "evalue": "(#803) Some of the aliases you requested do not exist: 0       165419643537532_3859131857499607\n1       165419643537532_3855602657852527\n2       165419643537532_3859056144173845\n3        165419643537532_505717244145146\n4        165419643537532_218596766710290\n                      ...               \n6523     165419643537532_176095189136644\n6524     165419643537532_175001792579317\n6525     165419643537532_174882175924612\n6526     165419643537532_174031516009678\n6527     165419643537532_168350943244402\nName: id, Length: 6528, dtype: object",
     "traceback": [
      "\u001b[0;31m---------------------------------------------------------------------------\u001b[0m",
      "\u001b[0;31mGraphAPIError\u001b[0m                             Traceback (most recent call last)",
      "\u001b[0;32m<ipython-input-65-f373f38f7ac8>\u001b[0m in \u001b[0;36m<module>\u001b[0;34m\u001b[0m\n\u001b[0;32m----> 1\u001b[0;31m \u001b[0mdf\u001b[0m\u001b[0;34m[\u001b[0m\u001b[0;34m\"likes\"\u001b[0m\u001b[0;34m]\u001b[0m \u001b[0;34m=\u001b[0m \u001b[0mgraph\u001b[0m\u001b[0;34m.\u001b[0m\u001b[0mget_connections\u001b[0m\u001b[0;34m(\u001b[0m\u001b[0mid\u001b[0m\u001b[0;34m=\u001b[0m\u001b[0mdf\u001b[0m\u001b[0;34m[\u001b[0m\u001b[0;34m\"id\"\u001b[0m\u001b[0;34m]\u001b[0m\u001b[0;34m,\u001b[0m \u001b[0mconnection_name\u001b[0m \u001b[0;34m=\u001b[0m\u001b[0;34m'insights'\u001b[0m\u001b[0;34m,\u001b[0m \u001b[0mmetric\u001b[0m\u001b[0;34m=\u001b[0m\u001b[0;34m'post_reactions_like_total'\u001b[0m\u001b[0;34m,\u001b[0m \u001b[0mdate_preset\u001b[0m\u001b[0;34m=\u001b[0m\u001b[0;34m'yesterday'\u001b[0m\u001b[0;34m,\u001b[0m \u001b[0mperiod\u001b[0m\u001b[0;34m=\u001b[0m\u001b[0;34m'lifetime'\u001b[0m\u001b[0;34m,\u001b[0m \u001b[0mshow_description_from_api_doc\u001b[0m\u001b[0;34m=\u001b[0m\u001b[0;32mFalse\u001b[0m\u001b[0;34m)\u001b[0m\u001b[0;34m\u001b[0m\u001b[0;34m\u001b[0m\u001b[0m\n\u001b[0m",
      "\u001b[0;32m/usr/local/lib/python3.9/site-packages/facebook/__init__.py\u001b[0m in \u001b[0;36mget_connections\u001b[0;34m(self, id, connection_name, **args)\u001b[0m\n\u001b[1;32m    147\u001b[0m     \u001b[0;32mdef\u001b[0m \u001b[0mget_connections\u001b[0m\u001b[0;34m(\u001b[0m\u001b[0mself\u001b[0m\u001b[0;34m,\u001b[0m \u001b[0mid\u001b[0m\u001b[0;34m,\u001b[0m \u001b[0mconnection_name\u001b[0m\u001b[0;34m,\u001b[0m \u001b[0;34m**\u001b[0m\u001b[0margs\u001b[0m\u001b[0;34m)\u001b[0m\u001b[0;34m:\u001b[0m\u001b[0;34m\u001b[0m\u001b[0;34m\u001b[0m\u001b[0m\n\u001b[1;32m    148\u001b[0m         \u001b[0;34m\"\"\"Fetches the connections for given object.\"\"\"\u001b[0m\u001b[0;34m\u001b[0m\u001b[0;34m\u001b[0m\u001b[0m\n\u001b[0;32m--> 149\u001b[0;31m         return self.request(\n\u001b[0m\u001b[1;32m    150\u001b[0m             \u001b[0;34m\"{0}/{1}/{2}\"\u001b[0m\u001b[0;34m.\u001b[0m\u001b[0mformat\u001b[0m\u001b[0;34m(\u001b[0m\u001b[0mself\u001b[0m\u001b[0;34m.\u001b[0m\u001b[0mversion\u001b[0m\u001b[0;34m,\u001b[0m \u001b[0mid\u001b[0m\u001b[0;34m,\u001b[0m \u001b[0mconnection_name\u001b[0m\u001b[0;34m)\u001b[0m\u001b[0;34m,\u001b[0m \u001b[0margs\u001b[0m\u001b[0;34m\u001b[0m\u001b[0;34m\u001b[0m\u001b[0m\n\u001b[1;32m    151\u001b[0m         )\n",
      "\u001b[0;32m/usr/local/lib/python3.9/site-packages/facebook/__init__.py\u001b[0m in \u001b[0;36mrequest\u001b[0;34m(self, path, args, post_args, files, method)\u001b[0m\n\u001b[1;32m    311\u001b[0m \u001b[0;34m\u001b[0m\u001b[0m\n\u001b[1;32m    312\u001b[0m         \u001b[0;32mif\u001b[0m \u001b[0mresult\u001b[0m \u001b[0;32mand\u001b[0m \u001b[0misinstance\u001b[0m\u001b[0;34m(\u001b[0m\u001b[0mresult\u001b[0m\u001b[0;34m,\u001b[0m \u001b[0mdict\u001b[0m\u001b[0;34m)\u001b[0m \u001b[0;32mand\u001b[0m \u001b[0mresult\u001b[0m\u001b[0;34m.\u001b[0m\u001b[0mget\u001b[0m\u001b[0;34m(\u001b[0m\u001b[0;34m\"error\"\u001b[0m\u001b[0;34m)\u001b[0m\u001b[0;34m:\u001b[0m\u001b[0;34m\u001b[0m\u001b[0;34m\u001b[0m\u001b[0m\n\u001b[0;32m--> 313\u001b[0;31m             \u001b[0;32mraise\u001b[0m \u001b[0mGraphAPIError\u001b[0m\u001b[0;34m(\u001b[0m\u001b[0mresult\u001b[0m\u001b[0;34m)\u001b[0m\u001b[0;34m\u001b[0m\u001b[0;34m\u001b[0m\u001b[0m\n\u001b[0m\u001b[1;32m    314\u001b[0m         \u001b[0;32mreturn\u001b[0m \u001b[0mresult\u001b[0m\u001b[0;34m\u001b[0m\u001b[0;34m\u001b[0m\u001b[0m\n\u001b[1;32m    315\u001b[0m \u001b[0;34m\u001b[0m\u001b[0m\n",
      "\u001b[0;31mGraphAPIError\u001b[0m: (#803) Some of the aliases you requested do not exist: 0       165419643537532_3859131857499607\n1       165419643537532_3855602657852527\n2       165419643537532_3859056144173845\n3        165419643537532_505717244145146\n4        165419643537532_218596766710290\n                      ...               \n6523     165419643537532_176095189136644\n6524     165419643537532_175001792579317\n6525     165419643537532_174882175924612\n6526     165419643537532_174031516009678\n6527     165419643537532_168350943244402\nName: id, Length: 6528, dtype: object"
     ]
    }
   ],
   "source": [
    "df[\"likes\"] = graph.get_connections(id=df[\"id\"], connection_name ='insights', metric='post_reactions_like_total', date_preset='yesterday', period='lifetime', show_description_from_api_doc=False)"
   ]
  },
  {
   "cell_type": "code",
   "execution_count": 73,
   "metadata": {
    "tags": []
   },
   "outputs": [
    {
     "output_type": "error",
     "ename": "GraphAPIError",
     "evalue": "(#190) This method must be called with a Page Access Token",
     "traceback": [
      "\u001b[0;31m---------------------------------------------------------------------------\u001b[0m",
      "\u001b[0;31mGraphAPIError\u001b[0m                             Traceback (most recent call last)",
      "\u001b[0;32m<ipython-input-73-b58e6c20aa38>\u001b[0m in \u001b[0;36m<module>\u001b[0;34m\u001b[0m\n\u001b[1;32m      1\u001b[0m \u001b[0;32mfor\u001b[0m \u001b[0mindex\u001b[0m\u001b[0;34m,\u001b[0m \u001b[0mrow\u001b[0m \u001b[0;32min\u001b[0m \u001b[0mdf\u001b[0m\u001b[0;34m.\u001b[0m\u001b[0miterrows\u001b[0m\u001b[0;34m(\u001b[0m\u001b[0;34m)\u001b[0m\u001b[0;34m:\u001b[0m\u001b[0;34m\u001b[0m\u001b[0;34m\u001b[0m\u001b[0m\n\u001b[0;32m----> 2\u001b[0;31m     \u001b[0mlikes1\u001b[0m \u001b[0;34m=\u001b[0m \u001b[0mgraph\u001b[0m\u001b[0;34m.\u001b[0m\u001b[0mget_connections\u001b[0m\u001b[0;34m(\u001b[0m\u001b[0mid\u001b[0m\u001b[0;34m=\u001b[0m\u001b[0mrow\u001b[0m\u001b[0;34m[\u001b[0m\u001b[0;34m\"id\"\u001b[0m\u001b[0;34m]\u001b[0m\u001b[0;34m,\u001b[0m \u001b[0mconnection_name\u001b[0m \u001b[0;34m=\u001b[0m\u001b[0;34m'insights'\u001b[0m\u001b[0;34m,\u001b[0m \u001b[0mmetric\u001b[0m\u001b[0;34m=\u001b[0m\u001b[0;34m'post_reactions_like_total'\u001b[0m\u001b[0;34m,\u001b[0m \u001b[0mdate_preset\u001b[0m\u001b[0;34m=\u001b[0m\u001b[0;34m'yesterday'\u001b[0m\u001b[0;34m,\u001b[0m \u001b[0mperiod\u001b[0m\u001b[0;34m=\u001b[0m\u001b[0;34m'lifetime'\u001b[0m\u001b[0;34m,\u001b[0m \u001b[0mshow_description_from_api_doc\u001b[0m\u001b[0;34m=\u001b[0m\u001b[0;32mFalse\u001b[0m\u001b[0;34m)\u001b[0m\u001b[0;34m\u001b[0m\u001b[0;34m\u001b[0m\u001b[0m\n\u001b[0m\u001b[1;32m      3\u001b[0m     \u001b[0mdf\u001b[0m\u001b[0;34m.\u001b[0m\u001b[0mloc\u001b[0m\u001b[0;34m[\u001b[0m\u001b[0mindex\u001b[0m\u001b[0;34m,\u001b[0m \u001b[0;34m\"likes\"\u001b[0m\u001b[0;34m]\u001b[0m\u001b[0;34m=\u001b[0m \u001b[0mlikes1\u001b[0m\u001b[0;34m[\u001b[0m\u001b[0;34m'data'\u001b[0m\u001b[0;34m]\u001b[0m\u001b[0;34m[\u001b[0m\u001b[0;36m0\u001b[0m\u001b[0;34m]\u001b[0m\u001b[0;34m[\u001b[0m\u001b[0;34m'values'\u001b[0m\u001b[0;34m]\u001b[0m\u001b[0;34m[\u001b[0m\u001b[0;36m0\u001b[0m\u001b[0;34m]\u001b[0m\u001b[0;34m[\u001b[0m\u001b[0;34m'value'\u001b[0m\u001b[0;34m]\u001b[0m\u001b[0;34m\u001b[0m\u001b[0;34m\u001b[0m\u001b[0m\n",
      "\u001b[0;32m/Library/Frameworks/Python.framework/Versions/3.8/lib/python3.8/site-packages/facebook/__init__.py\u001b[0m in \u001b[0;36mget_connections\u001b[0;34m(self, id, connection_name, **args)\u001b[0m\n\u001b[1;32m    147\u001b[0m     \u001b[0;32mdef\u001b[0m \u001b[0mget_connections\u001b[0m\u001b[0;34m(\u001b[0m\u001b[0mself\u001b[0m\u001b[0;34m,\u001b[0m \u001b[0mid\u001b[0m\u001b[0;34m,\u001b[0m \u001b[0mconnection_name\u001b[0m\u001b[0;34m,\u001b[0m \u001b[0;34m**\u001b[0m\u001b[0margs\u001b[0m\u001b[0;34m)\u001b[0m\u001b[0;34m:\u001b[0m\u001b[0;34m\u001b[0m\u001b[0;34m\u001b[0m\u001b[0m\n\u001b[1;32m    148\u001b[0m         \u001b[0;34m\"\"\"Fetches the connections for given object.\"\"\"\u001b[0m\u001b[0;34m\u001b[0m\u001b[0;34m\u001b[0m\u001b[0m\n\u001b[0;32m--> 149\u001b[0;31m         return self.request(\n\u001b[0m\u001b[1;32m    150\u001b[0m             \u001b[0;34m\"{0}/{1}/{2}\"\u001b[0m\u001b[0;34m.\u001b[0m\u001b[0mformat\u001b[0m\u001b[0;34m(\u001b[0m\u001b[0mself\u001b[0m\u001b[0;34m.\u001b[0m\u001b[0mversion\u001b[0m\u001b[0;34m,\u001b[0m \u001b[0mid\u001b[0m\u001b[0;34m,\u001b[0m \u001b[0mconnection_name\u001b[0m\u001b[0;34m)\u001b[0m\u001b[0;34m,\u001b[0m \u001b[0margs\u001b[0m\u001b[0;34m\u001b[0m\u001b[0;34m\u001b[0m\u001b[0m\n\u001b[1;32m    151\u001b[0m         )\n",
      "\u001b[0;32m/Library/Frameworks/Python.framework/Versions/3.8/lib/python3.8/site-packages/facebook/__init__.py\u001b[0m in \u001b[0;36mrequest\u001b[0;34m(self, path, args, post_args, files, method)\u001b[0m\n\u001b[1;32m    311\u001b[0m \u001b[0;34m\u001b[0m\u001b[0m\n\u001b[1;32m    312\u001b[0m         \u001b[0;32mif\u001b[0m \u001b[0mresult\u001b[0m \u001b[0;32mand\u001b[0m \u001b[0misinstance\u001b[0m\u001b[0;34m(\u001b[0m\u001b[0mresult\u001b[0m\u001b[0;34m,\u001b[0m \u001b[0mdict\u001b[0m\u001b[0;34m)\u001b[0m \u001b[0;32mand\u001b[0m \u001b[0mresult\u001b[0m\u001b[0;34m.\u001b[0m\u001b[0mget\u001b[0m\u001b[0;34m(\u001b[0m\u001b[0;34m\"error\"\u001b[0m\u001b[0;34m)\u001b[0m\u001b[0;34m:\u001b[0m\u001b[0;34m\u001b[0m\u001b[0;34m\u001b[0m\u001b[0m\n\u001b[0;32m--> 313\u001b[0;31m             \u001b[0;32mraise\u001b[0m \u001b[0mGraphAPIError\u001b[0m\u001b[0;34m(\u001b[0m\u001b[0mresult\u001b[0m\u001b[0;34m)\u001b[0m\u001b[0;34m\u001b[0m\u001b[0;34m\u001b[0m\u001b[0m\n\u001b[0m\u001b[1;32m    314\u001b[0m         \u001b[0;32mreturn\u001b[0m \u001b[0mresult\u001b[0m\u001b[0;34m\u001b[0m\u001b[0;34m\u001b[0m\u001b[0m\n\u001b[1;32m    315\u001b[0m \u001b[0;34m\u001b[0m\u001b[0m\n",
      "\u001b[0;31mGraphAPIError\u001b[0m: (#190) This method must be called with a Page Access Token"
     ]
    }
   ],
   "source": [
    "for index, row in df.iterrows():\n",
    "    likes1 = graph.get_connections(id=row[\"id\"], connection_name ='insights', metric='post_reactions_like_total', date_preset='yesterday', period='lifetime', show_description_from_api_doc=False)\n",
    "    df.loc[index, \"likes\"]= likes1['data'][0]['values'][0]['value']"
   ]
  },
  {
   "cell_type": "code",
   "execution_count": 97,
   "metadata": {},
   "outputs": [
    {
     "output_type": "error",
     "ename": "KeyboardInterrupt",
     "evalue": "",
     "traceback": [
      "\u001b[0;31m---------------------------------------------------------------------------\u001b[0m",
      "\u001b[0;31mKeyboardInterrupt\u001b[0m                         Traceback (most recent call last)",
      "\u001b[0;32m<ipython-input-97-2a1463dca0a2>\u001b[0m in \u001b[0;36m<module>\u001b[0;34m\u001b[0m\n\u001b[1;32m      1\u001b[0m \u001b[0;32mfor\u001b[0m \u001b[0mindex\u001b[0m\u001b[0;34m,\u001b[0m \u001b[0mrow\u001b[0m \u001b[0;32min\u001b[0m \u001b[0mdf\u001b[0m\u001b[0;34m[\u001b[0m\u001b[0mdf\u001b[0m\u001b[0;34m[\u001b[0m\u001b[0;34m\"shares\"\u001b[0m\u001b[0;34m]\u001b[0m\u001b[0;34m.\u001b[0m\u001b[0misna\u001b[0m\u001b[0;34m(\u001b[0m\u001b[0;34m)\u001b[0m\u001b[0;34m]\u001b[0m\u001b[0;34m.\u001b[0m\u001b[0miterrows\u001b[0m\u001b[0;34m(\u001b[0m\u001b[0;34m)\u001b[0m\u001b[0;34m:\u001b[0m\u001b[0;34m\u001b[0m\u001b[0;34m\u001b[0m\u001b[0m\n\u001b[0;32m----> 2\u001b[0;31m     \u001b[0mshare_count\u001b[0m \u001b[0;34m=\u001b[0m \u001b[0mgraph\u001b[0m\u001b[0;34m.\u001b[0m\u001b[0mget_object\u001b[0m\u001b[0;34m(\u001b[0m\u001b[0mid\u001b[0m\u001b[0;34m=\u001b[0m\u001b[0mrow\u001b[0m\u001b[0;34m[\u001b[0m\u001b[0;34m\"id\"\u001b[0m\u001b[0;34m]\u001b[0m\u001b[0;34m,\u001b[0m \u001b[0mfields\u001b[0m\u001b[0;34m=\u001b[0m\u001b[0;34m'shares'\u001b[0m\u001b[0;34m)\u001b[0m\u001b[0;34m\u001b[0m\u001b[0;34m\u001b[0m\u001b[0m\n\u001b[0m\u001b[1;32m      3\u001b[0m     \u001b[0;32mif\u001b[0m \u001b[0;34m(\u001b[0m\u001b[0mlen\u001b[0m\u001b[0;34m(\u001b[0m\u001b[0mshare_count\u001b[0m\u001b[0;34m)\u001b[0m \u001b[0;34m==\u001b[0m \u001b[0;36m2\u001b[0m\u001b[0;34m)\u001b[0m\u001b[0;34m:\u001b[0m\u001b[0;34m\u001b[0m\u001b[0;34m\u001b[0m\u001b[0m\n\u001b[1;32m      4\u001b[0m         \u001b[0mdf\u001b[0m\u001b[0;34m.\u001b[0m\u001b[0mloc\u001b[0m\u001b[0;34m[\u001b[0m\u001b[0mindex\u001b[0m\u001b[0;34m,\u001b[0m \u001b[0;34m\"shares\"\u001b[0m\u001b[0;34m]\u001b[0m \u001b[0;34m=\u001b[0m \u001b[0mshare_count\u001b[0m\u001b[0;34m[\u001b[0m\u001b[0;34m\"shares\"\u001b[0m\u001b[0;34m]\u001b[0m\u001b[0;34m[\u001b[0m\u001b[0;34m\"count\"\u001b[0m\u001b[0;34m]\u001b[0m\u001b[0;34m\u001b[0m\u001b[0;34m\u001b[0m\u001b[0m\n\u001b[1;32m      5\u001b[0m     \u001b[0;32melse\u001b[0m\u001b[0;34m:\u001b[0m\u001b[0;34m\u001b[0m\u001b[0;34m\u001b[0m\u001b[0m\n",
      "\u001b[0;32m/Library/Frameworks/Python.framework/Versions/3.8/lib/python3.8/site-packages/facebook/__init__.py\u001b[0m in \u001b[0;36mget_object\u001b[0;34m(self, id, **args)\u001b[0m\n\u001b[1;32m    124\u001b[0m     \u001b[0;32mdef\u001b[0m \u001b[0mget_object\u001b[0m\u001b[0;34m(\u001b[0m\u001b[0mself\u001b[0m\u001b[0;34m,\u001b[0m \u001b[0mid\u001b[0m\u001b[0;34m,\u001b[0m \u001b[0;34m**\u001b[0m\u001b[0margs\u001b[0m\u001b[0;34m)\u001b[0m\u001b[0;34m:\u001b[0m\u001b[0;34m\u001b[0m\u001b[0;34m\u001b[0m\u001b[0m\n\u001b[1;32m    125\u001b[0m         \u001b[0;34m\"\"\"Fetches the given object from the graph.\"\"\"\u001b[0m\u001b[0;34m\u001b[0m\u001b[0;34m\u001b[0m\u001b[0m\n\u001b[0;32m--> 126\u001b[0;31m         \u001b[0;32mreturn\u001b[0m \u001b[0mself\u001b[0m\u001b[0;34m.\u001b[0m\u001b[0mrequest\u001b[0m\u001b[0;34m(\u001b[0m\u001b[0;34m\"{0}/{1}\"\u001b[0m\u001b[0;34m.\u001b[0m\u001b[0mformat\u001b[0m\u001b[0;34m(\u001b[0m\u001b[0mself\u001b[0m\u001b[0;34m.\u001b[0m\u001b[0mversion\u001b[0m\u001b[0;34m,\u001b[0m \u001b[0mid\u001b[0m\u001b[0;34m)\u001b[0m\u001b[0;34m,\u001b[0m \u001b[0margs\u001b[0m\u001b[0;34m)\u001b[0m\u001b[0;34m\u001b[0m\u001b[0;34m\u001b[0m\u001b[0m\n\u001b[0m\u001b[1;32m    127\u001b[0m \u001b[0;34m\u001b[0m\u001b[0m\n\u001b[1;32m    128\u001b[0m     \u001b[0;32mdef\u001b[0m \u001b[0mget_objects\u001b[0m\u001b[0;34m(\u001b[0m\u001b[0mself\u001b[0m\u001b[0;34m,\u001b[0m \u001b[0mids\u001b[0m\u001b[0;34m,\u001b[0m \u001b[0;34m**\u001b[0m\u001b[0margs\u001b[0m\u001b[0;34m)\u001b[0m\u001b[0;34m:\u001b[0m\u001b[0;34m\u001b[0m\u001b[0;34m\u001b[0m\u001b[0m\n",
      "\u001b[0;32m/Library/Frameworks/Python.framework/Versions/3.8/lib/python3.8/site-packages/facebook/__init__.py\u001b[0m in \u001b[0;36mrequest\u001b[0;34m(self, path, args, post_args, files, method)\u001b[0m\n\u001b[1;32m    276\u001b[0m \u001b[0;34m\u001b[0m\u001b[0m\n\u001b[1;32m    277\u001b[0m         \u001b[0;32mtry\u001b[0m\u001b[0;34m:\u001b[0m\u001b[0;34m\u001b[0m\u001b[0;34m\u001b[0m\u001b[0m\n\u001b[0;32m--> 278\u001b[0;31m             response = self.session.request(\n\u001b[0m\u001b[1;32m    279\u001b[0m                 \u001b[0mmethod\u001b[0m \u001b[0;32mor\u001b[0m \u001b[0;34m\"GET\"\u001b[0m\u001b[0;34m,\u001b[0m\u001b[0;34m\u001b[0m\u001b[0;34m\u001b[0m\u001b[0m\n\u001b[1;32m    280\u001b[0m                 \u001b[0mFACEBOOK_GRAPH_URL\u001b[0m \u001b[0;34m+\u001b[0m \u001b[0mpath\u001b[0m\u001b[0;34m,\u001b[0m\u001b[0;34m\u001b[0m\u001b[0;34m\u001b[0m\u001b[0m\n",
      "\u001b[0;32m/Library/Frameworks/Python.framework/Versions/3.8/lib/python3.8/site-packages/requests/sessions.py\u001b[0m in \u001b[0;36mrequest\u001b[0;34m(self, method, url, params, data, headers, cookies, files, auth, timeout, allow_redirects, proxies, hooks, stream, verify, cert, json)\u001b[0m\n\u001b[1;32m    540\u001b[0m         }\n\u001b[1;32m    541\u001b[0m         \u001b[0msend_kwargs\u001b[0m\u001b[0;34m.\u001b[0m\u001b[0mupdate\u001b[0m\u001b[0;34m(\u001b[0m\u001b[0msettings\u001b[0m\u001b[0;34m)\u001b[0m\u001b[0;34m\u001b[0m\u001b[0;34m\u001b[0m\u001b[0m\n\u001b[0;32m--> 542\u001b[0;31m         \u001b[0mresp\u001b[0m \u001b[0;34m=\u001b[0m \u001b[0mself\u001b[0m\u001b[0;34m.\u001b[0m\u001b[0msend\u001b[0m\u001b[0;34m(\u001b[0m\u001b[0mprep\u001b[0m\u001b[0;34m,\u001b[0m \u001b[0;34m**\u001b[0m\u001b[0msend_kwargs\u001b[0m\u001b[0;34m)\u001b[0m\u001b[0;34m\u001b[0m\u001b[0;34m\u001b[0m\u001b[0m\n\u001b[0m\u001b[1;32m    543\u001b[0m \u001b[0;34m\u001b[0m\u001b[0m\n\u001b[1;32m    544\u001b[0m         \u001b[0;32mreturn\u001b[0m \u001b[0mresp\u001b[0m\u001b[0;34m\u001b[0m\u001b[0;34m\u001b[0m\u001b[0m\n",
      "\u001b[0;32m/Library/Frameworks/Python.framework/Versions/3.8/lib/python3.8/site-packages/requests/sessions.py\u001b[0m in \u001b[0;36msend\u001b[0;34m(self, request, **kwargs)\u001b[0m\n\u001b[1;32m    653\u001b[0m \u001b[0;34m\u001b[0m\u001b[0m\n\u001b[1;32m    654\u001b[0m         \u001b[0;31m# Send the request\u001b[0m\u001b[0;34m\u001b[0m\u001b[0;34m\u001b[0m\u001b[0;34m\u001b[0m\u001b[0m\n\u001b[0;32m--> 655\u001b[0;31m         \u001b[0mr\u001b[0m \u001b[0;34m=\u001b[0m \u001b[0madapter\u001b[0m\u001b[0;34m.\u001b[0m\u001b[0msend\u001b[0m\u001b[0;34m(\u001b[0m\u001b[0mrequest\u001b[0m\u001b[0;34m,\u001b[0m \u001b[0;34m**\u001b[0m\u001b[0mkwargs\u001b[0m\u001b[0;34m)\u001b[0m\u001b[0;34m\u001b[0m\u001b[0;34m\u001b[0m\u001b[0m\n\u001b[0m\u001b[1;32m    656\u001b[0m \u001b[0;34m\u001b[0m\u001b[0m\n\u001b[1;32m    657\u001b[0m         \u001b[0;31m# Total elapsed time of the request (approximately)\u001b[0m\u001b[0;34m\u001b[0m\u001b[0;34m\u001b[0m\u001b[0;34m\u001b[0m\u001b[0m\n",
      "\u001b[0;32m/Library/Frameworks/Python.framework/Versions/3.8/lib/python3.8/site-packages/requests/adapters.py\u001b[0m in \u001b[0;36msend\u001b[0;34m(self, request, stream, timeout, verify, cert, proxies)\u001b[0m\n\u001b[1;32m    437\u001b[0m         \u001b[0;32mtry\u001b[0m\u001b[0;34m:\u001b[0m\u001b[0;34m\u001b[0m\u001b[0;34m\u001b[0m\u001b[0m\n\u001b[1;32m    438\u001b[0m             \u001b[0;32mif\u001b[0m \u001b[0;32mnot\u001b[0m \u001b[0mchunked\u001b[0m\u001b[0;34m:\u001b[0m\u001b[0;34m\u001b[0m\u001b[0;34m\u001b[0m\u001b[0m\n\u001b[0;32m--> 439\u001b[0;31m                 resp = conn.urlopen(\n\u001b[0m\u001b[1;32m    440\u001b[0m                     \u001b[0mmethod\u001b[0m\u001b[0;34m=\u001b[0m\u001b[0mrequest\u001b[0m\u001b[0;34m.\u001b[0m\u001b[0mmethod\u001b[0m\u001b[0;34m,\u001b[0m\u001b[0;34m\u001b[0m\u001b[0;34m\u001b[0m\u001b[0m\n\u001b[1;32m    441\u001b[0m                     \u001b[0murl\u001b[0m\u001b[0;34m=\u001b[0m\u001b[0murl\u001b[0m\u001b[0;34m,\u001b[0m\u001b[0;34m\u001b[0m\u001b[0;34m\u001b[0m\u001b[0m\n",
      "\u001b[0;32m/Library/Frameworks/Python.framework/Versions/3.8/lib/python3.8/site-packages/urllib3/connectionpool.py\u001b[0m in \u001b[0;36murlopen\u001b[0;34m(self, method, url, body, headers, retries, redirect, assert_same_host, timeout, pool_timeout, release_conn, chunked, body_pos, **response_kw)\u001b[0m\n\u001b[1;32m    697\u001b[0m \u001b[0;34m\u001b[0m\u001b[0m\n\u001b[1;32m    698\u001b[0m             \u001b[0;31m# Make the request on the httplib connection object.\u001b[0m\u001b[0;34m\u001b[0m\u001b[0;34m\u001b[0m\u001b[0;34m\u001b[0m\u001b[0m\n\u001b[0;32m--> 699\u001b[0;31m             httplib_response = self._make_request(\n\u001b[0m\u001b[1;32m    700\u001b[0m                 \u001b[0mconn\u001b[0m\u001b[0;34m,\u001b[0m\u001b[0;34m\u001b[0m\u001b[0;34m\u001b[0m\u001b[0m\n\u001b[1;32m    701\u001b[0m                 \u001b[0mmethod\u001b[0m\u001b[0;34m,\u001b[0m\u001b[0;34m\u001b[0m\u001b[0;34m\u001b[0m\u001b[0m\n",
      "\u001b[0;32m/Library/Frameworks/Python.framework/Versions/3.8/lib/python3.8/site-packages/urllib3/connectionpool.py\u001b[0m in \u001b[0;36m_make_request\u001b[0;34m(self, conn, method, url, timeout, chunked, **httplib_request_kw)\u001b[0m\n\u001b[1;32m    443\u001b[0m                     \u001b[0;31m# Python 3 (including for exceptions like SystemExit).\u001b[0m\u001b[0;34m\u001b[0m\u001b[0;34m\u001b[0m\u001b[0;34m\u001b[0m\u001b[0m\n\u001b[1;32m    444\u001b[0m                     \u001b[0;31m# Otherwise it looks like a bug in the code.\u001b[0m\u001b[0;34m\u001b[0m\u001b[0;34m\u001b[0m\u001b[0;34m\u001b[0m\u001b[0m\n\u001b[0;32m--> 445\u001b[0;31m                     \u001b[0msix\u001b[0m\u001b[0;34m.\u001b[0m\u001b[0mraise_from\u001b[0m\u001b[0;34m(\u001b[0m\u001b[0me\u001b[0m\u001b[0;34m,\u001b[0m \u001b[0;32mNone\u001b[0m\u001b[0;34m)\u001b[0m\u001b[0;34m\u001b[0m\u001b[0;34m\u001b[0m\u001b[0m\n\u001b[0m\u001b[1;32m    446\u001b[0m         \u001b[0;32mexcept\u001b[0m \u001b[0;34m(\u001b[0m\u001b[0mSocketTimeout\u001b[0m\u001b[0;34m,\u001b[0m \u001b[0mBaseSSLError\u001b[0m\u001b[0;34m,\u001b[0m \u001b[0mSocketError\u001b[0m\u001b[0;34m)\u001b[0m \u001b[0;32mas\u001b[0m \u001b[0me\u001b[0m\u001b[0;34m:\u001b[0m\u001b[0;34m\u001b[0m\u001b[0;34m\u001b[0m\u001b[0m\n\u001b[1;32m    447\u001b[0m             \u001b[0mself\u001b[0m\u001b[0;34m.\u001b[0m\u001b[0m_raise_timeout\u001b[0m\u001b[0;34m(\u001b[0m\u001b[0merr\u001b[0m\u001b[0;34m=\u001b[0m\u001b[0me\u001b[0m\u001b[0;34m,\u001b[0m \u001b[0murl\u001b[0m\u001b[0;34m=\u001b[0m\u001b[0murl\u001b[0m\u001b[0;34m,\u001b[0m \u001b[0mtimeout_value\u001b[0m\u001b[0;34m=\u001b[0m\u001b[0mread_timeout\u001b[0m\u001b[0;34m)\u001b[0m\u001b[0;34m\u001b[0m\u001b[0;34m\u001b[0m\u001b[0m\n",
      "\u001b[0;32m/Library/Frameworks/Python.framework/Versions/3.8/lib/python3.8/site-packages/urllib3/packages/six.py\u001b[0m in \u001b[0;36mraise_from\u001b[0;34m(value, from_value)\u001b[0m\n",
      "\u001b[0;32m/Library/Frameworks/Python.framework/Versions/3.8/lib/python3.8/site-packages/urllib3/connectionpool.py\u001b[0m in \u001b[0;36m_make_request\u001b[0;34m(self, conn, method, url, timeout, chunked, **httplib_request_kw)\u001b[0m\n\u001b[1;32m    438\u001b[0m                 \u001b[0;31m# Python 3\u001b[0m\u001b[0;34m\u001b[0m\u001b[0;34m\u001b[0m\u001b[0;34m\u001b[0m\u001b[0m\n\u001b[1;32m    439\u001b[0m                 \u001b[0;32mtry\u001b[0m\u001b[0;34m:\u001b[0m\u001b[0;34m\u001b[0m\u001b[0;34m\u001b[0m\u001b[0m\n\u001b[0;32m--> 440\u001b[0;31m                     \u001b[0mhttplib_response\u001b[0m \u001b[0;34m=\u001b[0m \u001b[0mconn\u001b[0m\u001b[0;34m.\u001b[0m\u001b[0mgetresponse\u001b[0m\u001b[0;34m(\u001b[0m\u001b[0;34m)\u001b[0m\u001b[0;34m\u001b[0m\u001b[0;34m\u001b[0m\u001b[0m\n\u001b[0m\u001b[1;32m    441\u001b[0m                 \u001b[0;32mexcept\u001b[0m \u001b[0mBaseException\u001b[0m \u001b[0;32mas\u001b[0m \u001b[0me\u001b[0m\u001b[0;34m:\u001b[0m\u001b[0;34m\u001b[0m\u001b[0;34m\u001b[0m\u001b[0m\n\u001b[1;32m    442\u001b[0m                     \u001b[0;31m# Remove the TypeError from the exception chain in\u001b[0m\u001b[0;34m\u001b[0m\u001b[0;34m\u001b[0m\u001b[0;34m\u001b[0m\u001b[0m\n",
      "\u001b[0;32m/Library/Frameworks/Python.framework/Versions/3.8/lib/python3.8/http/client.py\u001b[0m in \u001b[0;36mgetresponse\u001b[0;34m(self)\u001b[0m\n\u001b[1;32m   1345\u001b[0m         \u001b[0;32mtry\u001b[0m\u001b[0;34m:\u001b[0m\u001b[0;34m\u001b[0m\u001b[0;34m\u001b[0m\u001b[0m\n\u001b[1;32m   1346\u001b[0m             \u001b[0;32mtry\u001b[0m\u001b[0;34m:\u001b[0m\u001b[0;34m\u001b[0m\u001b[0;34m\u001b[0m\u001b[0m\n\u001b[0;32m-> 1347\u001b[0;31m                 \u001b[0mresponse\u001b[0m\u001b[0;34m.\u001b[0m\u001b[0mbegin\u001b[0m\u001b[0;34m(\u001b[0m\u001b[0;34m)\u001b[0m\u001b[0;34m\u001b[0m\u001b[0;34m\u001b[0m\u001b[0m\n\u001b[0m\u001b[1;32m   1348\u001b[0m             \u001b[0;32mexcept\u001b[0m \u001b[0mConnectionError\u001b[0m\u001b[0;34m:\u001b[0m\u001b[0;34m\u001b[0m\u001b[0;34m\u001b[0m\u001b[0m\n\u001b[1;32m   1349\u001b[0m                 \u001b[0mself\u001b[0m\u001b[0;34m.\u001b[0m\u001b[0mclose\u001b[0m\u001b[0;34m(\u001b[0m\u001b[0;34m)\u001b[0m\u001b[0;34m\u001b[0m\u001b[0;34m\u001b[0m\u001b[0m\n",
      "\u001b[0;32m/Library/Frameworks/Python.framework/Versions/3.8/lib/python3.8/http/client.py\u001b[0m in \u001b[0;36mbegin\u001b[0;34m(self)\u001b[0m\n\u001b[1;32m    305\u001b[0m         \u001b[0;31m# read until we get a non-100 response\u001b[0m\u001b[0;34m\u001b[0m\u001b[0;34m\u001b[0m\u001b[0;34m\u001b[0m\u001b[0m\n\u001b[1;32m    306\u001b[0m         \u001b[0;32mwhile\u001b[0m \u001b[0;32mTrue\u001b[0m\u001b[0;34m:\u001b[0m\u001b[0;34m\u001b[0m\u001b[0;34m\u001b[0m\u001b[0m\n\u001b[0;32m--> 307\u001b[0;31m             \u001b[0mversion\u001b[0m\u001b[0;34m,\u001b[0m \u001b[0mstatus\u001b[0m\u001b[0;34m,\u001b[0m \u001b[0mreason\u001b[0m \u001b[0;34m=\u001b[0m \u001b[0mself\u001b[0m\u001b[0;34m.\u001b[0m\u001b[0m_read_status\u001b[0m\u001b[0;34m(\u001b[0m\u001b[0;34m)\u001b[0m\u001b[0;34m\u001b[0m\u001b[0;34m\u001b[0m\u001b[0m\n\u001b[0m\u001b[1;32m    308\u001b[0m             \u001b[0;32mif\u001b[0m \u001b[0mstatus\u001b[0m \u001b[0;34m!=\u001b[0m \u001b[0mCONTINUE\u001b[0m\u001b[0;34m:\u001b[0m\u001b[0;34m\u001b[0m\u001b[0;34m\u001b[0m\u001b[0m\n\u001b[1;32m    309\u001b[0m                 \u001b[0;32mbreak\u001b[0m\u001b[0;34m\u001b[0m\u001b[0;34m\u001b[0m\u001b[0m\n",
      "\u001b[0;32m/Library/Frameworks/Python.framework/Versions/3.8/lib/python3.8/http/client.py\u001b[0m in \u001b[0;36m_read_status\u001b[0;34m(self)\u001b[0m\n\u001b[1;32m    266\u001b[0m \u001b[0;34m\u001b[0m\u001b[0m\n\u001b[1;32m    267\u001b[0m     \u001b[0;32mdef\u001b[0m \u001b[0m_read_status\u001b[0m\u001b[0;34m(\u001b[0m\u001b[0mself\u001b[0m\u001b[0;34m)\u001b[0m\u001b[0;34m:\u001b[0m\u001b[0;34m\u001b[0m\u001b[0;34m\u001b[0m\u001b[0m\n\u001b[0;32m--> 268\u001b[0;31m         \u001b[0mline\u001b[0m \u001b[0;34m=\u001b[0m \u001b[0mstr\u001b[0m\u001b[0;34m(\u001b[0m\u001b[0mself\u001b[0m\u001b[0;34m.\u001b[0m\u001b[0mfp\u001b[0m\u001b[0;34m.\u001b[0m\u001b[0mreadline\u001b[0m\u001b[0;34m(\u001b[0m\u001b[0m_MAXLINE\u001b[0m \u001b[0;34m+\u001b[0m \u001b[0;36m1\u001b[0m\u001b[0;34m)\u001b[0m\u001b[0;34m,\u001b[0m \u001b[0;34m\"iso-8859-1\"\u001b[0m\u001b[0;34m)\u001b[0m\u001b[0;34m\u001b[0m\u001b[0;34m\u001b[0m\u001b[0m\n\u001b[0m\u001b[1;32m    269\u001b[0m         \u001b[0;32mif\u001b[0m \u001b[0mlen\u001b[0m\u001b[0;34m(\u001b[0m\u001b[0mline\u001b[0m\u001b[0;34m)\u001b[0m \u001b[0;34m>\u001b[0m \u001b[0m_MAXLINE\u001b[0m\u001b[0;34m:\u001b[0m\u001b[0;34m\u001b[0m\u001b[0;34m\u001b[0m\u001b[0m\n\u001b[1;32m    270\u001b[0m             \u001b[0;32mraise\u001b[0m \u001b[0mLineTooLong\u001b[0m\u001b[0;34m(\u001b[0m\u001b[0;34m\"status line\"\u001b[0m\u001b[0;34m)\u001b[0m\u001b[0;34m\u001b[0m\u001b[0;34m\u001b[0m\u001b[0m\n",
      "\u001b[0;32m/Library/Frameworks/Python.framework/Versions/3.8/lib/python3.8/socket.py\u001b[0m in \u001b[0;36mreadinto\u001b[0;34m(self, b)\u001b[0m\n\u001b[1;32m    667\u001b[0m         \u001b[0;32mwhile\u001b[0m \u001b[0;32mTrue\u001b[0m\u001b[0;34m:\u001b[0m\u001b[0;34m\u001b[0m\u001b[0;34m\u001b[0m\u001b[0m\n\u001b[1;32m    668\u001b[0m             \u001b[0;32mtry\u001b[0m\u001b[0;34m:\u001b[0m\u001b[0;34m\u001b[0m\u001b[0;34m\u001b[0m\u001b[0m\n\u001b[0;32m--> 669\u001b[0;31m                 \u001b[0;32mreturn\u001b[0m \u001b[0mself\u001b[0m\u001b[0;34m.\u001b[0m\u001b[0m_sock\u001b[0m\u001b[0;34m.\u001b[0m\u001b[0mrecv_into\u001b[0m\u001b[0;34m(\u001b[0m\u001b[0mb\u001b[0m\u001b[0;34m)\u001b[0m\u001b[0;34m\u001b[0m\u001b[0;34m\u001b[0m\u001b[0m\n\u001b[0m\u001b[1;32m    670\u001b[0m             \u001b[0;32mexcept\u001b[0m \u001b[0mtimeout\u001b[0m\u001b[0;34m:\u001b[0m\u001b[0;34m\u001b[0m\u001b[0;34m\u001b[0m\u001b[0m\n\u001b[1;32m    671\u001b[0m                 \u001b[0mself\u001b[0m\u001b[0;34m.\u001b[0m\u001b[0m_timeout_occurred\u001b[0m \u001b[0;34m=\u001b[0m \u001b[0;32mTrue\u001b[0m\u001b[0;34m\u001b[0m\u001b[0;34m\u001b[0m\u001b[0m\n",
      "\u001b[0;32m/Library/Frameworks/Python.framework/Versions/3.8/lib/python3.8/ssl.py\u001b[0m in \u001b[0;36mrecv_into\u001b[0;34m(self, buffer, nbytes, flags)\u001b[0m\n\u001b[1;32m   1239\u001b[0m                   \u001b[0;34m\"non-zero flags not allowed in calls to recv_into() on %s\"\u001b[0m \u001b[0;34m%\u001b[0m\u001b[0;34m\u001b[0m\u001b[0;34m\u001b[0m\u001b[0m\n\u001b[1;32m   1240\u001b[0m                   self.__class__)\n\u001b[0;32m-> 1241\u001b[0;31m             \u001b[0;32mreturn\u001b[0m \u001b[0mself\u001b[0m\u001b[0;34m.\u001b[0m\u001b[0mread\u001b[0m\u001b[0;34m(\u001b[0m\u001b[0mnbytes\u001b[0m\u001b[0;34m,\u001b[0m \u001b[0mbuffer\u001b[0m\u001b[0;34m)\u001b[0m\u001b[0;34m\u001b[0m\u001b[0;34m\u001b[0m\u001b[0m\n\u001b[0m\u001b[1;32m   1242\u001b[0m         \u001b[0;32melse\u001b[0m\u001b[0;34m:\u001b[0m\u001b[0;34m\u001b[0m\u001b[0;34m\u001b[0m\u001b[0m\n\u001b[1;32m   1243\u001b[0m             \u001b[0;32mreturn\u001b[0m \u001b[0msuper\u001b[0m\u001b[0;34m(\u001b[0m\u001b[0;34m)\u001b[0m\u001b[0;34m.\u001b[0m\u001b[0mrecv_into\u001b[0m\u001b[0;34m(\u001b[0m\u001b[0mbuffer\u001b[0m\u001b[0;34m,\u001b[0m \u001b[0mnbytes\u001b[0m\u001b[0;34m,\u001b[0m \u001b[0mflags\u001b[0m\u001b[0;34m)\u001b[0m\u001b[0;34m\u001b[0m\u001b[0;34m\u001b[0m\u001b[0m\n",
      "\u001b[0;32m/Library/Frameworks/Python.framework/Versions/3.8/lib/python3.8/ssl.py\u001b[0m in \u001b[0;36mread\u001b[0;34m(self, len, buffer)\u001b[0m\n\u001b[1;32m   1097\u001b[0m         \u001b[0;32mtry\u001b[0m\u001b[0;34m:\u001b[0m\u001b[0;34m\u001b[0m\u001b[0;34m\u001b[0m\u001b[0m\n\u001b[1;32m   1098\u001b[0m             \u001b[0;32mif\u001b[0m \u001b[0mbuffer\u001b[0m \u001b[0;32mis\u001b[0m \u001b[0;32mnot\u001b[0m \u001b[0;32mNone\u001b[0m\u001b[0;34m:\u001b[0m\u001b[0;34m\u001b[0m\u001b[0;34m\u001b[0m\u001b[0m\n\u001b[0;32m-> 1099\u001b[0;31m                 \u001b[0;32mreturn\u001b[0m \u001b[0mself\u001b[0m\u001b[0;34m.\u001b[0m\u001b[0m_sslobj\u001b[0m\u001b[0;34m.\u001b[0m\u001b[0mread\u001b[0m\u001b[0;34m(\u001b[0m\u001b[0mlen\u001b[0m\u001b[0;34m,\u001b[0m \u001b[0mbuffer\u001b[0m\u001b[0;34m)\u001b[0m\u001b[0;34m\u001b[0m\u001b[0;34m\u001b[0m\u001b[0m\n\u001b[0m\u001b[1;32m   1100\u001b[0m             \u001b[0;32melse\u001b[0m\u001b[0;34m:\u001b[0m\u001b[0;34m\u001b[0m\u001b[0;34m\u001b[0m\u001b[0m\n\u001b[1;32m   1101\u001b[0m                 \u001b[0;32mreturn\u001b[0m \u001b[0mself\u001b[0m\u001b[0;34m.\u001b[0m\u001b[0m_sslobj\u001b[0m\u001b[0;34m.\u001b[0m\u001b[0mread\u001b[0m\u001b[0;34m(\u001b[0m\u001b[0mlen\u001b[0m\u001b[0;34m)\u001b[0m\u001b[0;34m\u001b[0m\u001b[0;34m\u001b[0m\u001b[0m\n",
      "\u001b[0;31mKeyboardInterrupt\u001b[0m: "
     ]
    }
   ],
   "source": [
    "for index, row in df[df[\"shares\"].isna()].iterrows():\n",
    "    share_count = graph.get_object(id=row[\"id\"], fields='shares')\n",
    "    if (len(share_count) == 2):\n",
    "        df.loc[index, \"shares\"] = share_count[\"shares\"][\"count\"]\n",
    "    else:\n",
    "        df.loc[index, \"shares\"] = 0 "
   ]
  },
  {
   "cell_type": "code",
   "execution_count": 94,
   "metadata": {},
   "outputs": [],
   "source": [
    "shares = graph.get_object(id=\"165419643537532_174031516009678\", fields='shares')"
   ]
  },
  {
   "cell_type": "code",
   "execution_count": 95,
   "metadata": {},
   "outputs": [
    {
     "output_type": "execute_result",
     "data": {
      "text/plain": [
       "{'id': '165419643537532_174031516009678'}"
      ]
     },
     "metadata": {},
     "execution_count": 95
    }
   ],
   "source": [
    "shares"
   ]
  },
  {
   "cell_type": "code",
   "execution_count": 88,
   "metadata": {},
   "outputs": [
    {
     "output_type": "execute_result",
     "data": {
      "text/plain": [
       "37"
      ]
     },
     "metadata": {},
     "execution_count": 88
    }
   ],
   "source": [
    "shares[\"shares\"][\"count\"]"
   ]
  },
  {
   "cell_type": "code",
   "execution_count": 96,
   "metadata": {},
   "outputs": [
    {
     "output_type": "execute_result",
     "data": {
      "text/plain": [
       "1"
      ]
     },
     "metadata": {},
     "execution_count": 96
    }
   ],
   "source": [
    "len(shares)"
   ]
  },
  {
   "cell_type": "code",
   "execution_count": 104,
   "metadata": {},
   "outputs": [
    {
     "output_type": "execute_result",
     "data": {
      "text/plain": [
       "      Unnamed: 0  Unnamed: 0.1              created_time  \\\n",
       "0              0             0  2021-04-04T02:15:00+0000   \n",
       "1              1             1  2021-04-03T12:48:00+0000   \n",
       "2              2             2  2021-04-02T12:34:00+0000   \n",
       "3              3             3  2021-04-02T08:53:25+0000   \n",
       "4              4             4  2021-04-02T07:38:53+0000   \n",
       "...          ...           ...                       ...   \n",
       "6523        6523          6523  2011-10-03T08:53:12+0000   \n",
       "6524        6524          6524  2011-09-30T15:05:30+0000   \n",
       "6525        6525          6525  2011-09-30T06:29:49+0000   \n",
       "6526        6526          6526  2011-09-28T03:15:16+0000   \n",
       "6527        6527          6527  2011-09-14T12:20:12+0000   \n",
       "\n",
       "                                    id  \\\n",
       "0     165419643537532_3859131857499607   \n",
       "1     165419643537532_3855602657852527   \n",
       "2     165419643537532_3859056144173845   \n",
       "3      165419643537532_505717244145146   \n",
       "4      165419643537532_218596766710290   \n",
       "...                                ...   \n",
       "6523   165419643537532_176095189136644   \n",
       "6524   165419643537532_175001792579317   \n",
       "6525   165419643537532_174882175924612   \n",
       "6526   165419643537532_174031516009678   \n",
       "6527   165419643537532_168350943244402   \n",
       "\n",
       "                                                message           status_type  \\\n",
       "0     ⚡️ 𝐂𝐚̣̂𝐩 𝐧𝐡𝐚̣̂𝐭 𝐯𝐞̂̀ 𝐭𝐡𝐢̣ 𝐭𝐡𝐮̛̣𝐜 𝐤𝐡𝐨̂𝐧𝐠 đ𝐢̣𝐧𝐡 ...          added_photos   \n",
       "1     💡 𝐓𝐢𝐩 𝐨𝐟 𝐭𝐡𝐞 𝐖𝐞𝐞𝐤: This month’s American Citiz...          added_photos   \n",
       "2     🇺🇸🤝🇻🇳 Bộ trưởng Bộ Y tế Nguyễn Thanh Long và Đ...          added_photos   \n",
       "3                                                   NaN         created_event   \n",
       "4                                                   NaN         created_event   \n",
       "...                                                 ...                   ...   \n",
       "6523  On September 23, to mark a World Heart Day and...          added_photos   \n",
       "6524                                                NaN          added_photos   \n",
       "6525                                                NaN          added_photos   \n",
       "6526  The American Center - Grand Opening September ...  mobile_status_update   \n",
       "6527                                                NaN          added_photos   \n",
       "\n",
       "                                          permalink_url  \\\n",
       "0     https://www.facebook.com/165419643537532/posts...   \n",
       "1     https://www.facebook.com/165419643537532/posts...   \n",
       "2     https://www.facebook.com/165419643537532/posts...   \n",
       "3      https://www.facebook.com/events/505717244145146/   \n",
       "4      https://www.facebook.com/events/218596766710290/   \n",
       "...                                                 ...   \n",
       "6523  https://www.facebook.com/USConsulateHCMC/photo...   \n",
       "6524  https://www.facebook.com/USConsulateHCMC/photo...   \n",
       "6525  https://www.facebook.com/USConsulateHCMC/photo...   \n",
       "6526  https://www.facebook.com/165419643537532/posts...   \n",
       "6527  https://www.facebook.com/USConsulateHCMC/photo...   \n",
       "\n",
       "                                           full_picture message_tags  likes  \\\n",
       "0     https://scontent.fsgn2-4.fna.fbcdn.net/v/t1.64...           []  294.0   \n",
       "1     https://scontent.fsgn2-2.fna.fbcdn.net/v/t1.64...           []   40.0   \n",
       "2     https://scontent.fsgn2-3.fna.fbcdn.net/v/t1.64...          NaN  288.0   \n",
       "3     https://scontent.fsgn2-3.fna.fbcdn.net/v/t1.64...          NaN    0.0   \n",
       "4     https://scontent.fsgn2-5.fna.fbcdn.net/v/t1.64...          NaN    0.0   \n",
       "...                                                 ...          ...    ...   \n",
       "6523  https://scontent.fsgn2-5.fna.fbcdn.net/v/t1.18...          NaN    0.0   \n",
       "6524  https://scontent.fsgn2-2.fna.fbcdn.net/v/t1.18...          NaN    0.0   \n",
       "6525  https://scontent.fsgn2-3.fna.fbcdn.net/v/t1.18...          NaN    0.0   \n",
       "6526                                                NaN          NaN    0.0   \n",
       "6527  https://scontent.fsgn2-3.fna.fbcdn.net/v/t1.18...          NaN    0.0   \n",
       "\n",
       "      anger  shares  no of shares  \n",
       "0       0.0    36.0          36.0  \n",
       "1       0.0     6.0           6.0  \n",
       "2       0.0    12.0          12.0  \n",
       "3       0.0     0.0           NaN  \n",
       "4       0.0     0.0           NaN  \n",
       "...     ...     ...           ...  \n",
       "6523    0.0     NaN           NaN  \n",
       "6524    0.0     NaN           NaN  \n",
       "6525    0.0     NaN           NaN  \n",
       "6526    0.0     NaN           NaN  \n",
       "6527    0.0     NaN           NaN  \n",
       "\n",
       "[6528 rows x 13 columns]"
      ],
      "text/html": "<div>\n<style scoped>\n    .dataframe tbody tr th:only-of-type {\n        vertical-align: middle;\n    }\n\n    .dataframe tbody tr th {\n        vertical-align: top;\n    }\n\n    .dataframe thead th {\n        text-align: right;\n    }\n</style>\n<table border=\"1\" class=\"dataframe\">\n  <thead>\n    <tr style=\"text-align: right;\">\n      <th></th>\n      <th>Unnamed: 0</th>\n      <th>Unnamed: 0.1</th>\n      <th>created_time</th>\n      <th>id</th>\n      <th>message</th>\n      <th>status_type</th>\n      <th>permalink_url</th>\n      <th>full_picture</th>\n      <th>message_tags</th>\n      <th>likes</th>\n      <th>anger</th>\n      <th>shares</th>\n      <th>no of shares</th>\n    </tr>\n  </thead>\n  <tbody>\n    <tr>\n      <th>0</th>\n      <td>0</td>\n      <td>0</td>\n      <td>2021-04-04T02:15:00+0000</td>\n      <td>165419643537532_3859131857499607</td>\n      <td>⚡️ 𝐂𝐚̣̂𝐩 𝐧𝐡𝐚̣̂𝐭 𝐯𝐞̂̀ 𝐭𝐡𝐢̣ 𝐭𝐡𝐮̛̣𝐜 𝐤𝐡𝐨̂𝐧𝐠 đ𝐢̣𝐧𝐡 ...</td>\n      <td>added_photos</td>\n      <td>https://www.facebook.com/165419643537532/posts...</td>\n      <td>https://scontent.fsgn2-4.fna.fbcdn.net/v/t1.64...</td>\n      <td>[]</td>\n      <td>294.0</td>\n      <td>0.0</td>\n      <td>36.0</td>\n      <td>36.0</td>\n    </tr>\n    <tr>\n      <th>1</th>\n      <td>1</td>\n      <td>1</td>\n      <td>2021-04-03T12:48:00+0000</td>\n      <td>165419643537532_3855602657852527</td>\n      <td>💡 𝐓𝐢𝐩 𝐨𝐟 𝐭𝐡𝐞 𝐖𝐞𝐞𝐤: This month’s American Citiz...</td>\n      <td>added_photos</td>\n      <td>https://www.facebook.com/165419643537532/posts...</td>\n      <td>https://scontent.fsgn2-2.fna.fbcdn.net/v/t1.64...</td>\n      <td>[]</td>\n      <td>40.0</td>\n      <td>0.0</td>\n      <td>6.0</td>\n      <td>6.0</td>\n    </tr>\n    <tr>\n      <th>2</th>\n      <td>2</td>\n      <td>2</td>\n      <td>2021-04-02T12:34:00+0000</td>\n      <td>165419643537532_3859056144173845</td>\n      <td>🇺🇸🤝🇻🇳 Bộ trưởng Bộ Y tế Nguyễn Thanh Long và Đ...</td>\n      <td>added_photos</td>\n      <td>https://www.facebook.com/165419643537532/posts...</td>\n      <td>https://scontent.fsgn2-3.fna.fbcdn.net/v/t1.64...</td>\n      <td>NaN</td>\n      <td>288.0</td>\n      <td>0.0</td>\n      <td>12.0</td>\n      <td>12.0</td>\n    </tr>\n    <tr>\n      <th>3</th>\n      <td>3</td>\n      <td>3</td>\n      <td>2021-04-02T08:53:25+0000</td>\n      <td>165419643537532_505717244145146</td>\n      <td>NaN</td>\n      <td>created_event</td>\n      <td>https://www.facebook.com/events/505717244145146/</td>\n      <td>https://scontent.fsgn2-3.fna.fbcdn.net/v/t1.64...</td>\n      <td>NaN</td>\n      <td>0.0</td>\n      <td>0.0</td>\n      <td>0.0</td>\n      <td>NaN</td>\n    </tr>\n    <tr>\n      <th>4</th>\n      <td>4</td>\n      <td>4</td>\n      <td>2021-04-02T07:38:53+0000</td>\n      <td>165419643537532_218596766710290</td>\n      <td>NaN</td>\n      <td>created_event</td>\n      <td>https://www.facebook.com/events/218596766710290/</td>\n      <td>https://scontent.fsgn2-5.fna.fbcdn.net/v/t1.64...</td>\n      <td>NaN</td>\n      <td>0.0</td>\n      <td>0.0</td>\n      <td>0.0</td>\n      <td>NaN</td>\n    </tr>\n    <tr>\n      <th>...</th>\n      <td>...</td>\n      <td>...</td>\n      <td>...</td>\n      <td>...</td>\n      <td>...</td>\n      <td>...</td>\n      <td>...</td>\n      <td>...</td>\n      <td>...</td>\n      <td>...</td>\n      <td>...</td>\n      <td>...</td>\n      <td>...</td>\n    </tr>\n    <tr>\n      <th>6523</th>\n      <td>6523</td>\n      <td>6523</td>\n      <td>2011-10-03T08:53:12+0000</td>\n      <td>165419643537532_176095189136644</td>\n      <td>On September 23, to mark a World Heart Day and...</td>\n      <td>added_photos</td>\n      <td>https://www.facebook.com/USConsulateHCMC/photo...</td>\n      <td>https://scontent.fsgn2-5.fna.fbcdn.net/v/t1.18...</td>\n      <td>NaN</td>\n      <td>0.0</td>\n      <td>0.0</td>\n      <td>NaN</td>\n      <td>NaN</td>\n    </tr>\n    <tr>\n      <th>6524</th>\n      <td>6524</td>\n      <td>6524</td>\n      <td>2011-09-30T15:05:30+0000</td>\n      <td>165419643537532_175001792579317</td>\n      <td>NaN</td>\n      <td>added_photos</td>\n      <td>https://www.facebook.com/USConsulateHCMC/photo...</td>\n      <td>https://scontent.fsgn2-2.fna.fbcdn.net/v/t1.18...</td>\n      <td>NaN</td>\n      <td>0.0</td>\n      <td>0.0</td>\n      <td>NaN</td>\n      <td>NaN</td>\n    </tr>\n    <tr>\n      <th>6525</th>\n      <td>6525</td>\n      <td>6525</td>\n      <td>2011-09-30T06:29:49+0000</td>\n      <td>165419643537532_174882175924612</td>\n      <td>NaN</td>\n      <td>added_photos</td>\n      <td>https://www.facebook.com/USConsulateHCMC/photo...</td>\n      <td>https://scontent.fsgn2-3.fna.fbcdn.net/v/t1.18...</td>\n      <td>NaN</td>\n      <td>0.0</td>\n      <td>0.0</td>\n      <td>NaN</td>\n      <td>NaN</td>\n    </tr>\n    <tr>\n      <th>6526</th>\n      <td>6526</td>\n      <td>6526</td>\n      <td>2011-09-28T03:15:16+0000</td>\n      <td>165419643537532_174031516009678</td>\n      <td>The American Center - Grand Opening September ...</td>\n      <td>mobile_status_update</td>\n      <td>https://www.facebook.com/165419643537532/posts...</td>\n      <td>NaN</td>\n      <td>NaN</td>\n      <td>0.0</td>\n      <td>0.0</td>\n      <td>NaN</td>\n      <td>NaN</td>\n    </tr>\n    <tr>\n      <th>6527</th>\n      <td>6527</td>\n      <td>6527</td>\n      <td>2011-09-14T12:20:12+0000</td>\n      <td>165419643537532_168350943244402</td>\n      <td>NaN</td>\n      <td>added_photos</td>\n      <td>https://www.facebook.com/USConsulateHCMC/photo...</td>\n      <td>https://scontent.fsgn2-3.fna.fbcdn.net/v/t1.18...</td>\n      <td>NaN</td>\n      <td>0.0</td>\n      <td>0.0</td>\n      <td>NaN</td>\n      <td>NaN</td>\n    </tr>\n  </tbody>\n</table>\n<p>6528 rows × 13 columns</p>\n</div>"
     },
     "metadata": {},
     "execution_count": 104
    }
   ],
   "source": [
    "df"
   ]
  },
  {
   "cell_type": "code",
   "execution_count": 101,
   "metadata": {},
   "outputs": [],
   "source": [
    "array = np.array(df)"
   ]
  },
  {
   "cell_type": "code",
   "execution_count": 102,
   "metadata": {},
   "outputs": [
    {
     "output_type": "execute_result",
     "data": {
      "text/plain": [
       "array([[0, 0, '2021-04-04T02:15:00+0000', ..., 0.0, 36.0, 36.0],\n",
       "       [1, 1, '2021-04-03T12:48:00+0000', ..., 0.0, 6.0, 6.0],\n",
       "       [2, 2, '2021-04-02T12:34:00+0000', ..., 0.0, 12.0, 12.0],\n",
       "       ...,\n",
       "       [6525, 6525, '2011-09-30T06:29:49+0000', ..., 0.0, nan, nan],\n",
       "       [6526, 6526, '2011-09-28T03:15:16+0000', ..., 0.0, nan, nan],\n",
       "       [6527, 6527, '2011-09-14T12:20:12+0000', ..., 0.0, nan, nan]],\n",
       "      dtype=object)"
      ]
     },
     "metadata": {},
     "execution_count": 102
    }
   ],
   "source": [
    "array"
   ]
  },
  {
   "cell_type": "code",
   "execution_count": 103,
   "metadata": {},
   "outputs": [
    {
     "output_type": "error",
     "ename": "KeyboardInterrupt",
     "evalue": "",
     "traceback": [
      "\u001b[0;31m---------------------------------------------------------------------------\u001b[0m",
      "\u001b[0;31mKeyboardInterrupt\u001b[0m                         Traceback (most recent call last)",
      "\u001b[0;32m<ipython-input-103-da388aefc564>\u001b[0m in \u001b[0;36m<module>\u001b[0;34m\u001b[0m\n\u001b[1;32m      1\u001b[0m \u001b[0;32mfor\u001b[0m \u001b[0mitem\u001b[0m \u001b[0;32min\u001b[0m \u001b[0marray\u001b[0m\u001b[0;34m:\u001b[0m\u001b[0;34m\u001b[0m\u001b[0;34m\u001b[0m\u001b[0m\n\u001b[0;32m----> 2\u001b[0;31m     \u001b[0mshare_count\u001b[0m \u001b[0;34m=\u001b[0m \u001b[0mgraph\u001b[0m\u001b[0;34m.\u001b[0m\u001b[0mget_object\u001b[0m\u001b[0;34m(\u001b[0m\u001b[0mid\u001b[0m\u001b[0;34m=\u001b[0m\u001b[0mitem\u001b[0m\u001b[0;34m[\u001b[0m\u001b[0;36m3\u001b[0m\u001b[0;34m]\u001b[0m\u001b[0;34m,\u001b[0m \u001b[0mfields\u001b[0m\u001b[0;34m=\u001b[0m\u001b[0;34m'shares'\u001b[0m\u001b[0;34m)\u001b[0m\u001b[0;34m\u001b[0m\u001b[0;34m\u001b[0m\u001b[0m\n\u001b[0m\u001b[1;32m      3\u001b[0m     \u001b[0;32mif\u001b[0m \u001b[0;34m(\u001b[0m\u001b[0mlen\u001b[0m\u001b[0;34m(\u001b[0m\u001b[0mshare_count\u001b[0m\u001b[0;34m)\u001b[0m \u001b[0;34m==\u001b[0m \u001b[0;36m2\u001b[0m\u001b[0;34m)\u001b[0m\u001b[0;34m:\u001b[0m\u001b[0;34m\u001b[0m\u001b[0;34m\u001b[0m\u001b[0m\n\u001b[1;32m      4\u001b[0m         \u001b[0mitem\u001b[0m\u001b[0;34m[\u001b[0m\u001b[0;36m11\u001b[0m\u001b[0;34m]\u001b[0m \u001b[0;34m=\u001b[0m \u001b[0mshare_count\u001b[0m\u001b[0;34m[\u001b[0m\u001b[0;34m\"shares\"\u001b[0m\u001b[0;34m]\u001b[0m\u001b[0;34m[\u001b[0m\u001b[0;34m\"count\"\u001b[0m\u001b[0;34m]\u001b[0m\u001b[0;34m\u001b[0m\u001b[0;34m\u001b[0m\u001b[0m\n\u001b[1;32m      5\u001b[0m     \u001b[0;32melse\u001b[0m\u001b[0;34m:\u001b[0m\u001b[0;34m\u001b[0m\u001b[0;34m\u001b[0m\u001b[0m\n",
      "\u001b[0;32m/Library/Frameworks/Python.framework/Versions/3.8/lib/python3.8/site-packages/facebook/__init__.py\u001b[0m in \u001b[0;36mget_object\u001b[0;34m(self, id, **args)\u001b[0m\n\u001b[1;32m    124\u001b[0m     \u001b[0;32mdef\u001b[0m \u001b[0mget_object\u001b[0m\u001b[0;34m(\u001b[0m\u001b[0mself\u001b[0m\u001b[0;34m,\u001b[0m \u001b[0mid\u001b[0m\u001b[0;34m,\u001b[0m \u001b[0;34m**\u001b[0m\u001b[0margs\u001b[0m\u001b[0;34m)\u001b[0m\u001b[0;34m:\u001b[0m\u001b[0;34m\u001b[0m\u001b[0;34m\u001b[0m\u001b[0m\n\u001b[1;32m    125\u001b[0m         \u001b[0;34m\"\"\"Fetches the given object from the graph.\"\"\"\u001b[0m\u001b[0;34m\u001b[0m\u001b[0;34m\u001b[0m\u001b[0m\n\u001b[0;32m--> 126\u001b[0;31m         \u001b[0;32mreturn\u001b[0m \u001b[0mself\u001b[0m\u001b[0;34m.\u001b[0m\u001b[0mrequest\u001b[0m\u001b[0;34m(\u001b[0m\u001b[0;34m\"{0}/{1}\"\u001b[0m\u001b[0;34m.\u001b[0m\u001b[0mformat\u001b[0m\u001b[0;34m(\u001b[0m\u001b[0mself\u001b[0m\u001b[0;34m.\u001b[0m\u001b[0mversion\u001b[0m\u001b[0;34m,\u001b[0m \u001b[0mid\u001b[0m\u001b[0;34m)\u001b[0m\u001b[0;34m,\u001b[0m \u001b[0margs\u001b[0m\u001b[0;34m)\u001b[0m\u001b[0;34m\u001b[0m\u001b[0;34m\u001b[0m\u001b[0m\n\u001b[0m\u001b[1;32m    127\u001b[0m \u001b[0;34m\u001b[0m\u001b[0m\n\u001b[1;32m    128\u001b[0m     \u001b[0;32mdef\u001b[0m \u001b[0mget_objects\u001b[0m\u001b[0;34m(\u001b[0m\u001b[0mself\u001b[0m\u001b[0;34m,\u001b[0m \u001b[0mids\u001b[0m\u001b[0;34m,\u001b[0m \u001b[0;34m**\u001b[0m\u001b[0margs\u001b[0m\u001b[0;34m)\u001b[0m\u001b[0;34m:\u001b[0m\u001b[0;34m\u001b[0m\u001b[0;34m\u001b[0m\u001b[0m\n",
      "\u001b[0;32m/Library/Frameworks/Python.framework/Versions/3.8/lib/python3.8/site-packages/facebook/__init__.py\u001b[0m in \u001b[0;36mrequest\u001b[0;34m(self, path, args, post_args, files, method)\u001b[0m\n\u001b[1;32m    276\u001b[0m \u001b[0;34m\u001b[0m\u001b[0m\n\u001b[1;32m    277\u001b[0m         \u001b[0;32mtry\u001b[0m\u001b[0;34m:\u001b[0m\u001b[0;34m\u001b[0m\u001b[0;34m\u001b[0m\u001b[0m\n\u001b[0;32m--> 278\u001b[0;31m             response = self.session.request(\n\u001b[0m\u001b[1;32m    279\u001b[0m                 \u001b[0mmethod\u001b[0m \u001b[0;32mor\u001b[0m \u001b[0;34m\"GET\"\u001b[0m\u001b[0;34m,\u001b[0m\u001b[0;34m\u001b[0m\u001b[0;34m\u001b[0m\u001b[0m\n\u001b[1;32m    280\u001b[0m                 \u001b[0mFACEBOOK_GRAPH_URL\u001b[0m \u001b[0;34m+\u001b[0m \u001b[0mpath\u001b[0m\u001b[0;34m,\u001b[0m\u001b[0;34m\u001b[0m\u001b[0;34m\u001b[0m\u001b[0m\n",
      "\u001b[0;32m/Library/Frameworks/Python.framework/Versions/3.8/lib/python3.8/site-packages/requests/sessions.py\u001b[0m in \u001b[0;36mrequest\u001b[0;34m(self, method, url, params, data, headers, cookies, files, auth, timeout, allow_redirects, proxies, hooks, stream, verify, cert, json)\u001b[0m\n\u001b[1;32m    540\u001b[0m         }\n\u001b[1;32m    541\u001b[0m         \u001b[0msend_kwargs\u001b[0m\u001b[0;34m.\u001b[0m\u001b[0mupdate\u001b[0m\u001b[0;34m(\u001b[0m\u001b[0msettings\u001b[0m\u001b[0;34m)\u001b[0m\u001b[0;34m\u001b[0m\u001b[0;34m\u001b[0m\u001b[0m\n\u001b[0;32m--> 542\u001b[0;31m         \u001b[0mresp\u001b[0m \u001b[0;34m=\u001b[0m \u001b[0mself\u001b[0m\u001b[0;34m.\u001b[0m\u001b[0msend\u001b[0m\u001b[0;34m(\u001b[0m\u001b[0mprep\u001b[0m\u001b[0;34m,\u001b[0m \u001b[0;34m**\u001b[0m\u001b[0msend_kwargs\u001b[0m\u001b[0;34m)\u001b[0m\u001b[0;34m\u001b[0m\u001b[0;34m\u001b[0m\u001b[0m\n\u001b[0m\u001b[1;32m    543\u001b[0m \u001b[0;34m\u001b[0m\u001b[0m\n\u001b[1;32m    544\u001b[0m         \u001b[0;32mreturn\u001b[0m \u001b[0mresp\u001b[0m\u001b[0;34m\u001b[0m\u001b[0;34m\u001b[0m\u001b[0m\n",
      "\u001b[0;32m/Library/Frameworks/Python.framework/Versions/3.8/lib/python3.8/site-packages/requests/sessions.py\u001b[0m in \u001b[0;36msend\u001b[0;34m(self, request, **kwargs)\u001b[0m\n\u001b[1;32m    653\u001b[0m \u001b[0;34m\u001b[0m\u001b[0m\n\u001b[1;32m    654\u001b[0m         \u001b[0;31m# Send the request\u001b[0m\u001b[0;34m\u001b[0m\u001b[0;34m\u001b[0m\u001b[0;34m\u001b[0m\u001b[0m\n\u001b[0;32m--> 655\u001b[0;31m         \u001b[0mr\u001b[0m \u001b[0;34m=\u001b[0m \u001b[0madapter\u001b[0m\u001b[0;34m.\u001b[0m\u001b[0msend\u001b[0m\u001b[0;34m(\u001b[0m\u001b[0mrequest\u001b[0m\u001b[0;34m,\u001b[0m \u001b[0;34m**\u001b[0m\u001b[0mkwargs\u001b[0m\u001b[0;34m)\u001b[0m\u001b[0;34m\u001b[0m\u001b[0;34m\u001b[0m\u001b[0m\n\u001b[0m\u001b[1;32m    656\u001b[0m \u001b[0;34m\u001b[0m\u001b[0m\n\u001b[1;32m    657\u001b[0m         \u001b[0;31m# Total elapsed time of the request (approximately)\u001b[0m\u001b[0;34m\u001b[0m\u001b[0;34m\u001b[0m\u001b[0;34m\u001b[0m\u001b[0m\n",
      "\u001b[0;32m/Library/Frameworks/Python.framework/Versions/3.8/lib/python3.8/site-packages/requests/adapters.py\u001b[0m in \u001b[0;36msend\u001b[0;34m(self, request, stream, timeout, verify, cert, proxies)\u001b[0m\n\u001b[1;32m    437\u001b[0m         \u001b[0;32mtry\u001b[0m\u001b[0;34m:\u001b[0m\u001b[0;34m\u001b[0m\u001b[0;34m\u001b[0m\u001b[0m\n\u001b[1;32m    438\u001b[0m             \u001b[0;32mif\u001b[0m \u001b[0;32mnot\u001b[0m \u001b[0mchunked\u001b[0m\u001b[0;34m:\u001b[0m\u001b[0;34m\u001b[0m\u001b[0;34m\u001b[0m\u001b[0m\n\u001b[0;32m--> 439\u001b[0;31m                 resp = conn.urlopen(\n\u001b[0m\u001b[1;32m    440\u001b[0m                     \u001b[0mmethod\u001b[0m\u001b[0;34m=\u001b[0m\u001b[0mrequest\u001b[0m\u001b[0;34m.\u001b[0m\u001b[0mmethod\u001b[0m\u001b[0;34m,\u001b[0m\u001b[0;34m\u001b[0m\u001b[0;34m\u001b[0m\u001b[0m\n\u001b[1;32m    441\u001b[0m                     \u001b[0murl\u001b[0m\u001b[0;34m=\u001b[0m\u001b[0murl\u001b[0m\u001b[0;34m,\u001b[0m\u001b[0;34m\u001b[0m\u001b[0;34m\u001b[0m\u001b[0m\n",
      "\u001b[0;32m/Library/Frameworks/Python.framework/Versions/3.8/lib/python3.8/site-packages/urllib3/connectionpool.py\u001b[0m in \u001b[0;36murlopen\u001b[0;34m(self, method, url, body, headers, retries, redirect, assert_same_host, timeout, pool_timeout, release_conn, chunked, body_pos, **response_kw)\u001b[0m\n\u001b[1;32m    697\u001b[0m \u001b[0;34m\u001b[0m\u001b[0m\n\u001b[1;32m    698\u001b[0m             \u001b[0;31m# Make the request on the httplib connection object.\u001b[0m\u001b[0;34m\u001b[0m\u001b[0;34m\u001b[0m\u001b[0;34m\u001b[0m\u001b[0m\n\u001b[0;32m--> 699\u001b[0;31m             httplib_response = self._make_request(\n\u001b[0m\u001b[1;32m    700\u001b[0m                 \u001b[0mconn\u001b[0m\u001b[0;34m,\u001b[0m\u001b[0;34m\u001b[0m\u001b[0;34m\u001b[0m\u001b[0m\n\u001b[1;32m    701\u001b[0m                 \u001b[0mmethod\u001b[0m\u001b[0;34m,\u001b[0m\u001b[0;34m\u001b[0m\u001b[0;34m\u001b[0m\u001b[0m\n",
      "\u001b[0;32m/Library/Frameworks/Python.framework/Versions/3.8/lib/python3.8/site-packages/urllib3/connectionpool.py\u001b[0m in \u001b[0;36m_make_request\u001b[0;34m(self, conn, method, url, timeout, chunked, **httplib_request_kw)\u001b[0m\n\u001b[1;32m    443\u001b[0m                     \u001b[0;31m# Python 3 (including for exceptions like SystemExit).\u001b[0m\u001b[0;34m\u001b[0m\u001b[0;34m\u001b[0m\u001b[0;34m\u001b[0m\u001b[0m\n\u001b[1;32m    444\u001b[0m                     \u001b[0;31m# Otherwise it looks like a bug in the code.\u001b[0m\u001b[0;34m\u001b[0m\u001b[0;34m\u001b[0m\u001b[0;34m\u001b[0m\u001b[0m\n\u001b[0;32m--> 445\u001b[0;31m                     \u001b[0msix\u001b[0m\u001b[0;34m.\u001b[0m\u001b[0mraise_from\u001b[0m\u001b[0;34m(\u001b[0m\u001b[0me\u001b[0m\u001b[0;34m,\u001b[0m \u001b[0;32mNone\u001b[0m\u001b[0;34m)\u001b[0m\u001b[0;34m\u001b[0m\u001b[0;34m\u001b[0m\u001b[0m\n\u001b[0m\u001b[1;32m    446\u001b[0m         \u001b[0;32mexcept\u001b[0m \u001b[0;34m(\u001b[0m\u001b[0mSocketTimeout\u001b[0m\u001b[0;34m,\u001b[0m \u001b[0mBaseSSLError\u001b[0m\u001b[0;34m,\u001b[0m \u001b[0mSocketError\u001b[0m\u001b[0;34m)\u001b[0m \u001b[0;32mas\u001b[0m \u001b[0me\u001b[0m\u001b[0;34m:\u001b[0m\u001b[0;34m\u001b[0m\u001b[0;34m\u001b[0m\u001b[0m\n\u001b[1;32m    447\u001b[0m             \u001b[0mself\u001b[0m\u001b[0;34m.\u001b[0m\u001b[0m_raise_timeout\u001b[0m\u001b[0;34m(\u001b[0m\u001b[0merr\u001b[0m\u001b[0;34m=\u001b[0m\u001b[0me\u001b[0m\u001b[0;34m,\u001b[0m \u001b[0murl\u001b[0m\u001b[0;34m=\u001b[0m\u001b[0murl\u001b[0m\u001b[0;34m,\u001b[0m \u001b[0mtimeout_value\u001b[0m\u001b[0;34m=\u001b[0m\u001b[0mread_timeout\u001b[0m\u001b[0;34m)\u001b[0m\u001b[0;34m\u001b[0m\u001b[0;34m\u001b[0m\u001b[0m\n",
      "\u001b[0;32m/Library/Frameworks/Python.framework/Versions/3.8/lib/python3.8/site-packages/urllib3/packages/six.py\u001b[0m in \u001b[0;36mraise_from\u001b[0;34m(value, from_value)\u001b[0m\n",
      "\u001b[0;32m/Library/Frameworks/Python.framework/Versions/3.8/lib/python3.8/site-packages/urllib3/connectionpool.py\u001b[0m in \u001b[0;36m_make_request\u001b[0;34m(self, conn, method, url, timeout, chunked, **httplib_request_kw)\u001b[0m\n\u001b[1;32m    438\u001b[0m                 \u001b[0;31m# Python 3\u001b[0m\u001b[0;34m\u001b[0m\u001b[0;34m\u001b[0m\u001b[0;34m\u001b[0m\u001b[0m\n\u001b[1;32m    439\u001b[0m                 \u001b[0;32mtry\u001b[0m\u001b[0;34m:\u001b[0m\u001b[0;34m\u001b[0m\u001b[0;34m\u001b[0m\u001b[0m\n\u001b[0;32m--> 440\u001b[0;31m                     \u001b[0mhttplib_response\u001b[0m \u001b[0;34m=\u001b[0m \u001b[0mconn\u001b[0m\u001b[0;34m.\u001b[0m\u001b[0mgetresponse\u001b[0m\u001b[0;34m(\u001b[0m\u001b[0;34m)\u001b[0m\u001b[0;34m\u001b[0m\u001b[0;34m\u001b[0m\u001b[0m\n\u001b[0m\u001b[1;32m    441\u001b[0m                 \u001b[0;32mexcept\u001b[0m \u001b[0mBaseException\u001b[0m \u001b[0;32mas\u001b[0m \u001b[0me\u001b[0m\u001b[0;34m:\u001b[0m\u001b[0;34m\u001b[0m\u001b[0;34m\u001b[0m\u001b[0m\n\u001b[1;32m    442\u001b[0m                     \u001b[0;31m# Remove the TypeError from the exception chain in\u001b[0m\u001b[0;34m\u001b[0m\u001b[0;34m\u001b[0m\u001b[0;34m\u001b[0m\u001b[0m\n",
      "\u001b[0;32m/Library/Frameworks/Python.framework/Versions/3.8/lib/python3.8/http/client.py\u001b[0m in \u001b[0;36mgetresponse\u001b[0;34m(self)\u001b[0m\n\u001b[1;32m   1345\u001b[0m         \u001b[0;32mtry\u001b[0m\u001b[0;34m:\u001b[0m\u001b[0;34m\u001b[0m\u001b[0;34m\u001b[0m\u001b[0m\n\u001b[1;32m   1346\u001b[0m             \u001b[0;32mtry\u001b[0m\u001b[0;34m:\u001b[0m\u001b[0;34m\u001b[0m\u001b[0;34m\u001b[0m\u001b[0m\n\u001b[0;32m-> 1347\u001b[0;31m                 \u001b[0mresponse\u001b[0m\u001b[0;34m.\u001b[0m\u001b[0mbegin\u001b[0m\u001b[0;34m(\u001b[0m\u001b[0;34m)\u001b[0m\u001b[0;34m\u001b[0m\u001b[0;34m\u001b[0m\u001b[0m\n\u001b[0m\u001b[1;32m   1348\u001b[0m             \u001b[0;32mexcept\u001b[0m \u001b[0mConnectionError\u001b[0m\u001b[0;34m:\u001b[0m\u001b[0;34m\u001b[0m\u001b[0;34m\u001b[0m\u001b[0m\n\u001b[1;32m   1349\u001b[0m                 \u001b[0mself\u001b[0m\u001b[0;34m.\u001b[0m\u001b[0mclose\u001b[0m\u001b[0;34m(\u001b[0m\u001b[0;34m)\u001b[0m\u001b[0;34m\u001b[0m\u001b[0;34m\u001b[0m\u001b[0m\n",
      "\u001b[0;32m/Library/Frameworks/Python.framework/Versions/3.8/lib/python3.8/http/client.py\u001b[0m in \u001b[0;36mbegin\u001b[0;34m(self)\u001b[0m\n\u001b[1;32m    305\u001b[0m         \u001b[0;31m# read until we get a non-100 response\u001b[0m\u001b[0;34m\u001b[0m\u001b[0;34m\u001b[0m\u001b[0;34m\u001b[0m\u001b[0m\n\u001b[1;32m    306\u001b[0m         \u001b[0;32mwhile\u001b[0m \u001b[0;32mTrue\u001b[0m\u001b[0;34m:\u001b[0m\u001b[0;34m\u001b[0m\u001b[0;34m\u001b[0m\u001b[0m\n\u001b[0;32m--> 307\u001b[0;31m             \u001b[0mversion\u001b[0m\u001b[0;34m,\u001b[0m \u001b[0mstatus\u001b[0m\u001b[0;34m,\u001b[0m \u001b[0mreason\u001b[0m \u001b[0;34m=\u001b[0m \u001b[0mself\u001b[0m\u001b[0;34m.\u001b[0m\u001b[0m_read_status\u001b[0m\u001b[0;34m(\u001b[0m\u001b[0;34m)\u001b[0m\u001b[0;34m\u001b[0m\u001b[0;34m\u001b[0m\u001b[0m\n\u001b[0m\u001b[1;32m    308\u001b[0m             \u001b[0;32mif\u001b[0m \u001b[0mstatus\u001b[0m \u001b[0;34m!=\u001b[0m \u001b[0mCONTINUE\u001b[0m\u001b[0;34m:\u001b[0m\u001b[0;34m\u001b[0m\u001b[0;34m\u001b[0m\u001b[0m\n\u001b[1;32m    309\u001b[0m                 \u001b[0;32mbreak\u001b[0m\u001b[0;34m\u001b[0m\u001b[0;34m\u001b[0m\u001b[0m\n",
      "\u001b[0;32m/Library/Frameworks/Python.framework/Versions/3.8/lib/python3.8/http/client.py\u001b[0m in \u001b[0;36m_read_status\u001b[0;34m(self)\u001b[0m\n\u001b[1;32m    266\u001b[0m \u001b[0;34m\u001b[0m\u001b[0m\n\u001b[1;32m    267\u001b[0m     \u001b[0;32mdef\u001b[0m \u001b[0m_read_status\u001b[0m\u001b[0;34m(\u001b[0m\u001b[0mself\u001b[0m\u001b[0;34m)\u001b[0m\u001b[0;34m:\u001b[0m\u001b[0;34m\u001b[0m\u001b[0;34m\u001b[0m\u001b[0m\n\u001b[0;32m--> 268\u001b[0;31m         \u001b[0mline\u001b[0m \u001b[0;34m=\u001b[0m \u001b[0mstr\u001b[0m\u001b[0;34m(\u001b[0m\u001b[0mself\u001b[0m\u001b[0;34m.\u001b[0m\u001b[0mfp\u001b[0m\u001b[0;34m.\u001b[0m\u001b[0mreadline\u001b[0m\u001b[0;34m(\u001b[0m\u001b[0m_MAXLINE\u001b[0m \u001b[0;34m+\u001b[0m \u001b[0;36m1\u001b[0m\u001b[0;34m)\u001b[0m\u001b[0;34m,\u001b[0m \u001b[0;34m\"iso-8859-1\"\u001b[0m\u001b[0;34m)\u001b[0m\u001b[0;34m\u001b[0m\u001b[0;34m\u001b[0m\u001b[0m\n\u001b[0m\u001b[1;32m    269\u001b[0m         \u001b[0;32mif\u001b[0m \u001b[0mlen\u001b[0m\u001b[0;34m(\u001b[0m\u001b[0mline\u001b[0m\u001b[0;34m)\u001b[0m \u001b[0;34m>\u001b[0m \u001b[0m_MAXLINE\u001b[0m\u001b[0;34m:\u001b[0m\u001b[0;34m\u001b[0m\u001b[0;34m\u001b[0m\u001b[0m\n\u001b[1;32m    270\u001b[0m             \u001b[0;32mraise\u001b[0m \u001b[0mLineTooLong\u001b[0m\u001b[0;34m(\u001b[0m\u001b[0;34m\"status line\"\u001b[0m\u001b[0;34m)\u001b[0m\u001b[0;34m\u001b[0m\u001b[0;34m\u001b[0m\u001b[0m\n",
      "\u001b[0;32m/Library/Frameworks/Python.framework/Versions/3.8/lib/python3.8/socket.py\u001b[0m in \u001b[0;36mreadinto\u001b[0;34m(self, b)\u001b[0m\n\u001b[1;32m    667\u001b[0m         \u001b[0;32mwhile\u001b[0m \u001b[0;32mTrue\u001b[0m\u001b[0;34m:\u001b[0m\u001b[0;34m\u001b[0m\u001b[0;34m\u001b[0m\u001b[0m\n\u001b[1;32m    668\u001b[0m             \u001b[0;32mtry\u001b[0m\u001b[0;34m:\u001b[0m\u001b[0;34m\u001b[0m\u001b[0;34m\u001b[0m\u001b[0m\n\u001b[0;32m--> 669\u001b[0;31m                 \u001b[0;32mreturn\u001b[0m \u001b[0mself\u001b[0m\u001b[0;34m.\u001b[0m\u001b[0m_sock\u001b[0m\u001b[0;34m.\u001b[0m\u001b[0mrecv_into\u001b[0m\u001b[0;34m(\u001b[0m\u001b[0mb\u001b[0m\u001b[0;34m)\u001b[0m\u001b[0;34m\u001b[0m\u001b[0;34m\u001b[0m\u001b[0m\n\u001b[0m\u001b[1;32m    670\u001b[0m             \u001b[0;32mexcept\u001b[0m \u001b[0mtimeout\u001b[0m\u001b[0;34m:\u001b[0m\u001b[0;34m\u001b[0m\u001b[0;34m\u001b[0m\u001b[0m\n\u001b[1;32m    671\u001b[0m                 \u001b[0mself\u001b[0m\u001b[0;34m.\u001b[0m\u001b[0m_timeout_occurred\u001b[0m \u001b[0;34m=\u001b[0m \u001b[0;32mTrue\u001b[0m\u001b[0;34m\u001b[0m\u001b[0;34m\u001b[0m\u001b[0m\n",
      "\u001b[0;32m/Library/Frameworks/Python.framework/Versions/3.8/lib/python3.8/ssl.py\u001b[0m in \u001b[0;36mrecv_into\u001b[0;34m(self, buffer, nbytes, flags)\u001b[0m\n\u001b[1;32m   1239\u001b[0m                   \u001b[0;34m\"non-zero flags not allowed in calls to recv_into() on %s\"\u001b[0m \u001b[0;34m%\u001b[0m\u001b[0;34m\u001b[0m\u001b[0;34m\u001b[0m\u001b[0m\n\u001b[1;32m   1240\u001b[0m                   self.__class__)\n\u001b[0;32m-> 1241\u001b[0;31m             \u001b[0;32mreturn\u001b[0m \u001b[0mself\u001b[0m\u001b[0;34m.\u001b[0m\u001b[0mread\u001b[0m\u001b[0;34m(\u001b[0m\u001b[0mnbytes\u001b[0m\u001b[0;34m,\u001b[0m \u001b[0mbuffer\u001b[0m\u001b[0;34m)\u001b[0m\u001b[0;34m\u001b[0m\u001b[0;34m\u001b[0m\u001b[0m\n\u001b[0m\u001b[1;32m   1242\u001b[0m         \u001b[0;32melse\u001b[0m\u001b[0;34m:\u001b[0m\u001b[0;34m\u001b[0m\u001b[0;34m\u001b[0m\u001b[0m\n\u001b[1;32m   1243\u001b[0m             \u001b[0;32mreturn\u001b[0m \u001b[0msuper\u001b[0m\u001b[0;34m(\u001b[0m\u001b[0;34m)\u001b[0m\u001b[0;34m.\u001b[0m\u001b[0mrecv_into\u001b[0m\u001b[0;34m(\u001b[0m\u001b[0mbuffer\u001b[0m\u001b[0;34m,\u001b[0m \u001b[0mnbytes\u001b[0m\u001b[0;34m,\u001b[0m \u001b[0mflags\u001b[0m\u001b[0;34m)\u001b[0m\u001b[0;34m\u001b[0m\u001b[0;34m\u001b[0m\u001b[0m\n",
      "\u001b[0;32m/Library/Frameworks/Python.framework/Versions/3.8/lib/python3.8/ssl.py\u001b[0m in \u001b[0;36mread\u001b[0;34m(self, len, buffer)\u001b[0m\n\u001b[1;32m   1097\u001b[0m         \u001b[0;32mtry\u001b[0m\u001b[0;34m:\u001b[0m\u001b[0;34m\u001b[0m\u001b[0;34m\u001b[0m\u001b[0m\n\u001b[1;32m   1098\u001b[0m             \u001b[0;32mif\u001b[0m \u001b[0mbuffer\u001b[0m \u001b[0;32mis\u001b[0m \u001b[0;32mnot\u001b[0m \u001b[0;32mNone\u001b[0m\u001b[0;34m:\u001b[0m\u001b[0;34m\u001b[0m\u001b[0;34m\u001b[0m\u001b[0m\n\u001b[0;32m-> 1099\u001b[0;31m                 \u001b[0;32mreturn\u001b[0m \u001b[0mself\u001b[0m\u001b[0;34m.\u001b[0m\u001b[0m_sslobj\u001b[0m\u001b[0;34m.\u001b[0m\u001b[0mread\u001b[0m\u001b[0;34m(\u001b[0m\u001b[0mlen\u001b[0m\u001b[0;34m,\u001b[0m \u001b[0mbuffer\u001b[0m\u001b[0;34m)\u001b[0m\u001b[0;34m\u001b[0m\u001b[0;34m\u001b[0m\u001b[0m\n\u001b[0m\u001b[1;32m   1100\u001b[0m             \u001b[0;32melse\u001b[0m\u001b[0;34m:\u001b[0m\u001b[0;34m\u001b[0m\u001b[0;34m\u001b[0m\u001b[0m\n\u001b[1;32m   1101\u001b[0m                 \u001b[0;32mreturn\u001b[0m \u001b[0mself\u001b[0m\u001b[0;34m.\u001b[0m\u001b[0m_sslobj\u001b[0m\u001b[0;34m.\u001b[0m\u001b[0mread\u001b[0m\u001b[0;34m(\u001b[0m\u001b[0mlen\u001b[0m\u001b[0;34m)\u001b[0m\u001b[0;34m\u001b[0m\u001b[0;34m\u001b[0m\u001b[0m\n",
      "\u001b[0;31mKeyboardInterrupt\u001b[0m: "
     ]
    }
   ],
   "source": [
    "for item in array:\n",
    "    share_count = graph.get_object(id=item[3], fields='shares')\n",
    "    if (len(share_count) == 2):\n",
    "        item[11] = share_count[\"shares\"][\"count\"]\n",
    "    else:\n",
    "        item[11] = 0 \n",
    "    "
   ]
  },
  {
   "cell_type": "code",
   "execution_count": 105,
   "metadata": {},
   "outputs": [
    {
     "output_type": "execute_result",
     "data": {
      "text/plain": [
       "array([[0, 0, '2021-04-04T02:15:00+0000', ..., 0.0, 36, 36.0],\n",
       "       [1, 1, '2021-04-03T12:48:00+0000', ..., 0.0, 6, 6.0],\n",
       "       [2, 2, '2021-04-02T12:34:00+0000', ..., 0.0, 12, 12.0],\n",
       "       ...,\n",
       "       [6525, 6525, '2011-09-30T06:29:49+0000', ..., 0.0, nan, nan],\n",
       "       [6526, 6526, '2011-09-28T03:15:16+0000', ..., 0.0, nan, nan],\n",
       "       [6527, 6527, '2011-09-14T12:20:12+0000', ..., 0.0, nan, nan]],\n",
       "      dtype=object)"
      ]
     },
     "metadata": {},
     "execution_count": 105
    }
   ],
   "source": [
    "array"
   ]
  },
  {
   "cell_type": "code",
   "execution_count": 90,
   "metadata": {},
   "outputs": [],
   "source": [
    "for index, row in df[df[\"likes\"].isnull()].iterrows():\n",
    "    likes1 = graph.get_connections(id=row[\"id\"], connection_name ='insights', metric='post_reactions_like_total', date_preset='yesterday', period='lifetime', show_description_from_api_doc=False)\n",
    "    df.loc[index, \"likes\"]= likes1['data'][0]['values'][0]['value']"
   ]
  },
  {
   "cell_type": "code",
   "execution_count": 116,
   "metadata": {},
   "outputs": [],
   "source": [
    "reaction = \"anger\"\n",
    "metric = \"post_reactions_anger_total\""
   ]
  },
  {
   "cell_type": "code",
   "execution_count": 120,
   "metadata": {},
   "outputs": [
    {
     "output_type": "error",
     "ename": "GraphAPIError",
     "evalue": "(#190) This method must be called with a Page Access Token",
     "traceback": [
      "\u001b[0;31m---------------------------------------------------------------------------\u001b[0m",
      "\u001b[0;31mGraphAPIError\u001b[0m                             Traceback (most recent call last)",
      "\u001b[0;32m<ipython-input-120-bf8d911a3196>\u001b[0m in \u001b[0;36m<module>\u001b[0;34m\u001b[0m\n\u001b[1;32m      1\u001b[0m \u001b[0;32mfor\u001b[0m \u001b[0mindex\u001b[0m\u001b[0;34m,\u001b[0m \u001b[0mrow\u001b[0m \u001b[0;32min\u001b[0m \u001b[0mdf\u001b[0m\u001b[0;34m.\u001b[0m\u001b[0miterrows\u001b[0m\u001b[0;34m(\u001b[0m\u001b[0;34m)\u001b[0m\u001b[0;34m:\u001b[0m\u001b[0;34m\u001b[0m\u001b[0;34m\u001b[0m\u001b[0m\n\u001b[0;32m----> 2\u001b[0;31m     \u001b[0mlikes1\u001b[0m \u001b[0;34m=\u001b[0m \u001b[0mgraph\u001b[0m\u001b[0;34m.\u001b[0m\u001b[0mget_connections\u001b[0m\u001b[0;34m(\u001b[0m\u001b[0mid\u001b[0m\u001b[0;34m=\u001b[0m\u001b[0mrow\u001b[0m\u001b[0;34m[\u001b[0m\u001b[0;34m\"id\"\u001b[0m\u001b[0;34m]\u001b[0m\u001b[0;34m,\u001b[0m \u001b[0mconnection_name\u001b[0m \u001b[0;34m=\u001b[0m\u001b[0;34m'insights'\u001b[0m\u001b[0;34m,\u001b[0m \u001b[0mmetric\u001b[0m\u001b[0;34m=\u001b[0m\u001b[0;34m'post_reactions_anger_total'\u001b[0m\u001b[0;34m,\u001b[0m \u001b[0mdate_preset\u001b[0m\u001b[0;34m=\u001b[0m\u001b[0;34m'yesterday'\u001b[0m\u001b[0;34m,\u001b[0m \u001b[0mperiod\u001b[0m\u001b[0;34m=\u001b[0m\u001b[0;34m'lifetime'\u001b[0m\u001b[0;34m,\u001b[0m \u001b[0mshow_description_from_api_doc\u001b[0m\u001b[0;34m=\u001b[0m\u001b[0;32mFalse\u001b[0m\u001b[0;34m)\u001b[0m\u001b[0;34m\u001b[0m\u001b[0;34m\u001b[0m\u001b[0m\n\u001b[0m\u001b[1;32m      3\u001b[0m     \u001b[0mdf\u001b[0m\u001b[0;34m.\u001b[0m\u001b[0mloc\u001b[0m\u001b[0;34m[\u001b[0m\u001b[0mindex\u001b[0m\u001b[0;34m,\u001b[0m \u001b[0;34m\"anger\"\u001b[0m\u001b[0;34m]\u001b[0m\u001b[0;34m=\u001b[0m \u001b[0mlikes1\u001b[0m\u001b[0;34m[\u001b[0m\u001b[0;34m'data'\u001b[0m\u001b[0;34m]\u001b[0m\u001b[0;34m[\u001b[0m\u001b[0;36m0\u001b[0m\u001b[0;34m]\u001b[0m\u001b[0;34m[\u001b[0m\u001b[0;34m'values'\u001b[0m\u001b[0;34m]\u001b[0m\u001b[0;34m[\u001b[0m\u001b[0;36m0\u001b[0m\u001b[0;34m]\u001b[0m\u001b[0;34m[\u001b[0m\u001b[0;34m'value'\u001b[0m\u001b[0;34m]\u001b[0m\u001b[0;34m\u001b[0m\u001b[0;34m\u001b[0m\u001b[0m\n",
      "\u001b[0;32m/Library/Frameworks/Python.framework/Versions/3.8/lib/python3.8/site-packages/facebook/__init__.py\u001b[0m in \u001b[0;36mget_connections\u001b[0;34m(self, id, connection_name, **args)\u001b[0m\n\u001b[1;32m    147\u001b[0m     \u001b[0;32mdef\u001b[0m \u001b[0mget_connections\u001b[0m\u001b[0;34m(\u001b[0m\u001b[0mself\u001b[0m\u001b[0;34m,\u001b[0m \u001b[0mid\u001b[0m\u001b[0;34m,\u001b[0m \u001b[0mconnection_name\u001b[0m\u001b[0;34m,\u001b[0m \u001b[0;34m**\u001b[0m\u001b[0margs\u001b[0m\u001b[0;34m)\u001b[0m\u001b[0;34m:\u001b[0m\u001b[0;34m\u001b[0m\u001b[0;34m\u001b[0m\u001b[0m\n\u001b[1;32m    148\u001b[0m         \u001b[0;34m\"\"\"Fetches the connections for given object.\"\"\"\u001b[0m\u001b[0;34m\u001b[0m\u001b[0;34m\u001b[0m\u001b[0m\n\u001b[0;32m--> 149\u001b[0;31m         return self.request(\n\u001b[0m\u001b[1;32m    150\u001b[0m             \u001b[0;34m\"{0}/{1}/{2}\"\u001b[0m\u001b[0;34m.\u001b[0m\u001b[0mformat\u001b[0m\u001b[0;34m(\u001b[0m\u001b[0mself\u001b[0m\u001b[0;34m.\u001b[0m\u001b[0mversion\u001b[0m\u001b[0;34m,\u001b[0m \u001b[0mid\u001b[0m\u001b[0;34m,\u001b[0m \u001b[0mconnection_name\u001b[0m\u001b[0;34m)\u001b[0m\u001b[0;34m,\u001b[0m \u001b[0margs\u001b[0m\u001b[0;34m\u001b[0m\u001b[0;34m\u001b[0m\u001b[0m\n\u001b[1;32m    151\u001b[0m         )\n",
      "\u001b[0;32m/Library/Frameworks/Python.framework/Versions/3.8/lib/python3.8/site-packages/facebook/__init__.py\u001b[0m in \u001b[0;36mrequest\u001b[0;34m(self, path, args, post_args, files, method)\u001b[0m\n\u001b[1;32m    311\u001b[0m \u001b[0;34m\u001b[0m\u001b[0m\n\u001b[1;32m    312\u001b[0m         \u001b[0;32mif\u001b[0m \u001b[0mresult\u001b[0m \u001b[0;32mand\u001b[0m \u001b[0misinstance\u001b[0m\u001b[0;34m(\u001b[0m\u001b[0mresult\u001b[0m\u001b[0;34m,\u001b[0m \u001b[0mdict\u001b[0m\u001b[0;34m)\u001b[0m \u001b[0;32mand\u001b[0m \u001b[0mresult\u001b[0m\u001b[0;34m.\u001b[0m\u001b[0mget\u001b[0m\u001b[0;34m(\u001b[0m\u001b[0;34m\"error\"\u001b[0m\u001b[0;34m)\u001b[0m\u001b[0;34m:\u001b[0m\u001b[0;34m\u001b[0m\u001b[0;34m\u001b[0m\u001b[0m\n\u001b[0;32m--> 313\u001b[0;31m             \u001b[0;32mraise\u001b[0m \u001b[0mGraphAPIError\u001b[0m\u001b[0;34m(\u001b[0m\u001b[0mresult\u001b[0m\u001b[0;34m)\u001b[0m\u001b[0;34m\u001b[0m\u001b[0;34m\u001b[0m\u001b[0m\n\u001b[0m\u001b[1;32m    314\u001b[0m         \u001b[0;32mreturn\u001b[0m \u001b[0mresult\u001b[0m\u001b[0;34m\u001b[0m\u001b[0;34m\u001b[0m\u001b[0m\n\u001b[1;32m    315\u001b[0m \u001b[0;34m\u001b[0m\u001b[0m\n",
      "\u001b[0;31mGraphAPIError\u001b[0m: (#190) This method must be called with a Page Access Token"
     ]
    }
   ],
   "source": [
    "for index, row in df.iterrows():\n",
    "    likes1 = graph.get_connections(id=row[\"id\"], connection_name ='insights', metric='post_reactions_anger_total', date_preset='yesterday', period='lifetime', show_description_from_api_doc=False)\n",
    "    df.loc[index, \"anger\"]= likes1['data'][0]['values'][0]['value']"
   ]
  },
  {
   "cell_type": "code",
   "execution_count": 138,
   "metadata": {},
   "outputs": [],
   "source": [
    "for index, row in df[df[\"anger\"].isnull()].iterrows():\n",
    "    likes1 = graph.get_connections(id=row[\"id\"], connection_name ='insights', metric='post_reactions_anger_total', date_preset='yesterday', period='lifetime', show_description_from_api_doc=False)\n",
    "    df.loc[index, \"anger\"]= likes1['data'][0]['values'][0]['value']"
   ]
  },
  {
   "cell_type": "code",
   "execution_count": 159,
   "metadata": {},
   "outputs": [],
   "source": [
    "abc = graph.get_connections(id=\"165419643537532_3910631939016265\", connection_name ='insights', metric='post_reactions_like_total', date_preset='yesterday', period='lifetime', show_description_from_api_doc=False)"
   ]
  },
  {
   "cell_type": "code",
   "execution_count": 160,
   "metadata": {},
   "outputs": [
    {
     "output_type": "execute_result",
     "data": {
      "text/plain": [
       "33"
      ]
     },
     "metadata": {},
     "execution_count": 160
    }
   ],
   "source": [
    "abc['data'][0]['values'][0]['value']"
   ]
  },
  {
   "cell_type": "code",
   "execution_count": 62,
   "metadata": {},
   "outputs": [],
   "source": [
    "dffirst = df.iloc[:3]"
   ]
  },
  {
   "cell_type": "code",
   "execution_count": 139,
   "metadata": {},
   "outputs": [
    {
     "output_type": "execute_result",
     "data": {
      "text/plain": [
       "Empty DataFrame\n",
       "Columns: [Unnamed: 0, created_time, id, message, status_type, permalink_url, full_picture, message_tags, likes, anger]\n",
       "Index: []"
      ],
      "text/html": "<div>\n<style scoped>\n    .dataframe tbody tr th:only-of-type {\n        vertical-align: middle;\n    }\n\n    .dataframe tbody tr th {\n        vertical-align: top;\n    }\n\n    .dataframe thead th {\n        text-align: right;\n    }\n</style>\n<table border=\"1\" class=\"dataframe\">\n  <thead>\n    <tr style=\"text-align: right;\">\n      <th></th>\n      <th>Unnamed: 0</th>\n      <th>created_time</th>\n      <th>id</th>\n      <th>message</th>\n      <th>status_type</th>\n      <th>permalink_url</th>\n      <th>full_picture</th>\n      <th>message_tags</th>\n      <th>likes</th>\n      <th>anger</th>\n    </tr>\n  </thead>\n  <tbody>\n  </tbody>\n</table>\n</div>"
     },
     "metadata": {},
     "execution_count": 139
    }
   ],
   "source": [
    "df[df[\"anger\"].isnull()]"
   ]
  },
  {
   "cell_type": "code",
   "execution_count": 112,
   "metadata": {},
   "outputs": [
    {
     "output_type": "execute_result",
     "data": {
      "text/plain": [
       "      Unnamed: 0              created_time                               id  \\\n",
       "3              3  2021-04-02T08:53:25+0000  165419643537532_505717244145146   \n",
       "4              4  2021-04-02T07:38:53+0000  165419643537532_218596766710290   \n",
       "8              8  2021-04-01T10:32:19+0000  165419643537532_184982976771639   \n",
       "15            15  2021-03-31T05:53:37+0000  165419643537532_135134605213645   \n",
       "20            20  2021-03-30T03:54:09+0000  165419643537532_249693136899421   \n",
       "...          ...                       ...                              ...   \n",
       "6523        6523  2011-10-03T08:53:12+0000  165419643537532_176095189136644   \n",
       "6524        6524  2011-09-30T15:05:30+0000  165419643537532_175001792579317   \n",
       "6525        6525  2011-09-30T06:29:49+0000  165419643537532_174882175924612   \n",
       "6526        6526  2011-09-28T03:15:16+0000  165419643537532_174031516009678   \n",
       "6527        6527  2011-09-14T12:20:12+0000  165419643537532_168350943244402   \n",
       "\n",
       "                                                message           status_type  \\\n",
       "3                                                   NaN         created_event   \n",
       "4                                                   NaN         created_event   \n",
       "8                                                   NaN         created_event   \n",
       "15                                                  NaN         created_event   \n",
       "20                                                  NaN         created_event   \n",
       "...                                                 ...                   ...   \n",
       "6523  On September 23, to mark a World Heart Day and...          added_photos   \n",
       "6524                                                NaN          added_photos   \n",
       "6525                                                NaN          added_photos   \n",
       "6526  The American Center - Grand Opening September ...  mobile_status_update   \n",
       "6527                                                NaN          added_photos   \n",
       "\n",
       "                                          permalink_url  \\\n",
       "3      https://www.facebook.com/events/505717244145146/   \n",
       "4      https://www.facebook.com/events/218596766710290/   \n",
       "8      https://www.facebook.com/events/184982976771639/   \n",
       "15     https://www.facebook.com/events/135134605213645/   \n",
       "20     https://www.facebook.com/events/249693136899421/   \n",
       "...                                                 ...   \n",
       "6523  https://www.facebook.com/USConsulateHCMC/photo...   \n",
       "6524  https://www.facebook.com/USConsulateHCMC/photo...   \n",
       "6525  https://www.facebook.com/USConsulateHCMC/photo...   \n",
       "6526  https://www.facebook.com/165419643537532/posts...   \n",
       "6527  https://www.facebook.com/USConsulateHCMC/photo...   \n",
       "\n",
       "                                           full_picture message_tags  likes  \n",
       "3     https://scontent.fsgn2-3.fna.fbcdn.net/v/t1.64...          NaN    0.0  \n",
       "4     https://scontent.fsgn2-5.fna.fbcdn.net/v/t1.64...          NaN    0.0  \n",
       "8     https://scontent.fsgn2-5.fna.fbcdn.net/v/t1.64...          NaN    0.0  \n",
       "15    https://scontent.fsgn2-4.fna.fbcdn.net/v/t1.64...          NaN    0.0  \n",
       "20    https://scontent.fsgn2-5.fna.fbcdn.net/v/t1.64...          NaN    0.0  \n",
       "...                                                 ...          ...    ...  \n",
       "6523  https://scontent.fsgn2-5.fna.fbcdn.net/v/t1.18...          NaN    0.0  \n",
       "6524  https://scontent.fsgn2-2.fna.fbcdn.net/v/t1.18...          NaN    0.0  \n",
       "6525  https://scontent.fsgn2-3.fna.fbcdn.net/v/t1.18...          NaN    0.0  \n",
       "6526                                                NaN          NaN    0.0  \n",
       "6527  https://scontent.fsgn2-3.fna.fbcdn.net/v/t1.18...          NaN    0.0  \n",
       "\n",
       "[4615 rows x 9 columns]"
      ],
      "text/html": "<div>\n<style scoped>\n    .dataframe tbody tr th:only-of-type {\n        vertical-align: middle;\n    }\n\n    .dataframe tbody tr th {\n        vertical-align: top;\n    }\n\n    .dataframe thead th {\n        text-align: right;\n    }\n</style>\n<table border=\"1\" class=\"dataframe\">\n  <thead>\n    <tr style=\"text-align: right;\">\n      <th></th>\n      <th>Unnamed: 0</th>\n      <th>created_time</th>\n      <th>id</th>\n      <th>message</th>\n      <th>status_type</th>\n      <th>permalink_url</th>\n      <th>full_picture</th>\n      <th>message_tags</th>\n      <th>likes</th>\n    </tr>\n  </thead>\n  <tbody>\n    <tr>\n      <th>3</th>\n      <td>3</td>\n      <td>2021-04-02T08:53:25+0000</td>\n      <td>165419643537532_505717244145146</td>\n      <td>NaN</td>\n      <td>created_event</td>\n      <td>https://www.facebook.com/events/505717244145146/</td>\n      <td>https://scontent.fsgn2-3.fna.fbcdn.net/v/t1.64...</td>\n      <td>NaN</td>\n      <td>0.0</td>\n    </tr>\n    <tr>\n      <th>4</th>\n      <td>4</td>\n      <td>2021-04-02T07:38:53+0000</td>\n      <td>165419643537532_218596766710290</td>\n      <td>NaN</td>\n      <td>created_event</td>\n      <td>https://www.facebook.com/events/218596766710290/</td>\n      <td>https://scontent.fsgn2-5.fna.fbcdn.net/v/t1.64...</td>\n      <td>NaN</td>\n      <td>0.0</td>\n    </tr>\n    <tr>\n      <th>8</th>\n      <td>8</td>\n      <td>2021-04-01T10:32:19+0000</td>\n      <td>165419643537532_184982976771639</td>\n      <td>NaN</td>\n      <td>created_event</td>\n      <td>https://www.facebook.com/events/184982976771639/</td>\n      <td>https://scontent.fsgn2-5.fna.fbcdn.net/v/t1.64...</td>\n      <td>NaN</td>\n      <td>0.0</td>\n    </tr>\n    <tr>\n      <th>15</th>\n      <td>15</td>\n      <td>2021-03-31T05:53:37+0000</td>\n      <td>165419643537532_135134605213645</td>\n      <td>NaN</td>\n      <td>created_event</td>\n      <td>https://www.facebook.com/events/135134605213645/</td>\n      <td>https://scontent.fsgn2-4.fna.fbcdn.net/v/t1.64...</td>\n      <td>NaN</td>\n      <td>0.0</td>\n    </tr>\n    <tr>\n      <th>20</th>\n      <td>20</td>\n      <td>2021-03-30T03:54:09+0000</td>\n      <td>165419643537532_249693136899421</td>\n      <td>NaN</td>\n      <td>created_event</td>\n      <td>https://www.facebook.com/events/249693136899421/</td>\n      <td>https://scontent.fsgn2-5.fna.fbcdn.net/v/t1.64...</td>\n      <td>NaN</td>\n      <td>0.0</td>\n    </tr>\n    <tr>\n      <th>...</th>\n      <td>...</td>\n      <td>...</td>\n      <td>...</td>\n      <td>...</td>\n      <td>...</td>\n      <td>...</td>\n      <td>...</td>\n      <td>...</td>\n      <td>...</td>\n    </tr>\n    <tr>\n      <th>6523</th>\n      <td>6523</td>\n      <td>2011-10-03T08:53:12+0000</td>\n      <td>165419643537532_176095189136644</td>\n      <td>On September 23, to mark a World Heart Day and...</td>\n      <td>added_photos</td>\n      <td>https://www.facebook.com/USConsulateHCMC/photo...</td>\n      <td>https://scontent.fsgn2-5.fna.fbcdn.net/v/t1.18...</td>\n      <td>NaN</td>\n      <td>0.0</td>\n    </tr>\n    <tr>\n      <th>6524</th>\n      <td>6524</td>\n      <td>2011-09-30T15:05:30+0000</td>\n      <td>165419643537532_175001792579317</td>\n      <td>NaN</td>\n      <td>added_photos</td>\n      <td>https://www.facebook.com/USConsulateHCMC/photo...</td>\n      <td>https://scontent.fsgn2-2.fna.fbcdn.net/v/t1.18...</td>\n      <td>NaN</td>\n      <td>0.0</td>\n    </tr>\n    <tr>\n      <th>6525</th>\n      <td>6525</td>\n      <td>2011-09-30T06:29:49+0000</td>\n      <td>165419643537532_174882175924612</td>\n      <td>NaN</td>\n      <td>added_photos</td>\n      <td>https://www.facebook.com/USConsulateHCMC/photo...</td>\n      <td>https://scontent.fsgn2-3.fna.fbcdn.net/v/t1.18...</td>\n      <td>NaN</td>\n      <td>0.0</td>\n    </tr>\n    <tr>\n      <th>6526</th>\n      <td>6526</td>\n      <td>2011-09-28T03:15:16+0000</td>\n      <td>165419643537532_174031516009678</td>\n      <td>The American Center - Grand Opening September ...</td>\n      <td>mobile_status_update</td>\n      <td>https://www.facebook.com/165419643537532/posts...</td>\n      <td>NaN</td>\n      <td>NaN</td>\n      <td>0.0</td>\n    </tr>\n    <tr>\n      <th>6527</th>\n      <td>6527</td>\n      <td>2011-09-14T12:20:12+0000</td>\n      <td>165419643537532_168350943244402</td>\n      <td>NaN</td>\n      <td>added_photos</td>\n      <td>https://www.facebook.com/USConsulateHCMC/photo...</td>\n      <td>https://scontent.fsgn2-3.fna.fbcdn.net/v/t1.18...</td>\n      <td>NaN</td>\n      <td>0.0</td>\n    </tr>\n  </tbody>\n</table>\n<p>4615 rows × 9 columns</p>\n</div>"
     },
     "metadata": {},
     "execution_count": 112
    }
   ],
   "source": [
    "df[df[\"likes\"] == 0 & df[\"message\"].isna()]"
   ]
  },
  {
   "cell_type": "code",
   "execution_count": 140,
   "metadata": {},
   "outputs": [
    {
     "output_type": "execute_result",
     "data": {
      "text/plain": [
       "      Unnamed: 0              created_time                                id  \\\n",
       "0              0  2021-04-04T02:15:00+0000  165419643537532_3859131857499607   \n",
       "4359        4359  2014-10-11T06:18:52+0000   165419643537532_718217614924396   \n",
       "4358        4358  2014-10-11T09:12:45+0000   165419643537532_718269978252493   \n",
       "4357        4357  2014-10-13T00:35:29+0000   165419643537532_719287898150701   \n",
       "4356        4356  2014-10-15T01:31:17+0000   165419643537532_720447801368044   \n",
       "...          ...                       ...                               ...   \n",
       "213          213  2021-01-20T13:22:00+0000  165419643537532_3657414241004704   \n",
       "201          201  2021-01-23T05:08:00+0000  165419643537532_3662839210462207   \n",
       "207          207  2021-01-22T02:08:00+0000  165419643537532_3659640154115446   \n",
       "1182        1182  2020-04-14T07:00:00+0000  165419643537532_2899017800177689   \n",
       "747          747  2020-08-14T10:00:04+0000  165419643537532_3218935501519249   \n",
       "\n",
       "                                                message   status_type  \\\n",
       "0     ⚡️ 𝐂𝐚̣̂𝐩 𝐧𝐡𝐚̣̂𝐭 𝐯𝐞̂̀ 𝐭𝐡𝐢̣ 𝐭𝐡𝐮̛̣𝐜 𝐤𝐡𝐨̂𝐧𝐠 đ𝐢̣𝐧𝐡 ...  added_photos   \n",
       "4359  Session 1: Advanced Presentation Methods for S...  added_photos   \n",
       "4358  Gender Equality Group Discussion at the Americ...  added_photos   \n",
       "4357  Mời các bạn ghi lại chương trình tuần này.  Rấ...  shared_story   \n",
       "4356  Hôm nay AC có 2 chương trình rất hay.  Hai chư...  shared_story   \n",
       "...                                                 ...           ...   \n",
       "213   Lễ nhậm chức của Tổng thống đắc cử Joe Biden v...  added_photos   \n",
       "201   𝗖𝘂̀𝗻𝗴 𝘁𝗶̀𝗺 𝗵𝗶𝗲̂̉𝘂 𝘃𝗲̂̀ 𝗣𝗵𝗼́ 𝗧𝗼̂̉𝗻𝗴 𝘁𝗵𝗼̂́𝗻𝗴 𝗛𝗼𝗮...  added_photos   \n",
       "207   𝗖𝘂̀𝗻𝗴 𝘁𝗶̀𝗺 𝗵𝗶𝗲̂̉𝘂 𝘃𝗲̂̀ 𝗧𝗼̂̉𝗻𝗴 𝘁𝗵𝗼̂́𝗻𝗴 𝗝𝗼𝗲 𝗕𝗶𝗱𝗲...  added_photos   \n",
       "1182  Chúng tôi hết sức quan ngại từ những phát hiện...  added_photos   \n",
       "747   Chính phủ Hoa Kỳ bày tỏ quan ngại sâu sắc về v...  added_photos   \n",
       "\n",
       "                                          permalink_url  \\\n",
       "0     https://www.facebook.com/165419643537532/posts...   \n",
       "4359  https://www.facebook.com/USConsulateHCMC/photo...   \n",
       "4358  https://www.facebook.com/USConsulateHCMC/photo...   \n",
       "4357  https://www.facebook.com/165419643537532/posts...   \n",
       "4356  https://www.facebook.com/165419643537532/posts...   \n",
       "...                                                 ...   \n",
       "213   https://www.facebook.com/165419643537532/posts...   \n",
       "201   https://www.facebook.com/165419643537532/posts...   \n",
       "207   https://www.facebook.com/165419643537532/posts...   \n",
       "1182  https://www.facebook.com/165419643537532/posts...   \n",
       "747   https://www.facebook.com/165419643537532/posts...   \n",
       "\n",
       "                                           full_picture  \\\n",
       "0     https://scontent.fsgn2-4.fna.fbcdn.net/v/t1.64...   \n",
       "4359  https://scontent.fsgn2-5.fna.fbcdn.net/v/t1.18...   \n",
       "4358  https://scontent.fsgn2-1.fna.fbcdn.net/v/t1.18...   \n",
       "4357  https://external.fsgn2-2.fna.fbcdn.net/safe_im...   \n",
       "4356  https://external.fsgn2-2.fna.fbcdn.net/safe_im...   \n",
       "...                                                 ...   \n",
       "213   https://scontent.fsgn2-5.fna.fbcdn.net/v/t1.64...   \n",
       "201   https://scontent.fsgn2-2.fna.fbcdn.net/v/t1.64...   \n",
       "207   https://scontent.fsgn2-6.fna.fbcdn.net/v/t1.64...   \n",
       "1182  https://scontent.fsgn2-4.fna.fbcdn.net/v/t1.64...   \n",
       "747   https://scontent.fsgn2-5.fna.fbcdn.net/v/t1.64...   \n",
       "\n",
       "                                           message_tags   likes  anger  \n",
       "0                                                    []   294.0    0.0  \n",
       "4359                                                NaN     0.0    0.0  \n",
       "4358                                                NaN     0.0    0.0  \n",
       "4357                                                 []     0.0    0.0  \n",
       "4356                                                 []     0.0    0.0  \n",
       "...                                                 ...     ...    ...  \n",
       "213   [{'id': '1189472611099598', 'name': '#inaugura...   980.0  212.0  \n",
       "201                                                  []  2538.0  376.0  \n",
       "207                                                  []  2618.0  455.0  \n",
       "1182  [{'id': '114050161948682', 'name': 'Reuters', ...  2569.0  529.0  \n",
       "747                                                  []  1263.0  817.0  \n",
       "\n",
       "[6528 rows x 10 columns]"
      ],
      "text/html": "<div>\n<style scoped>\n    .dataframe tbody tr th:only-of-type {\n        vertical-align: middle;\n    }\n\n    .dataframe tbody tr th {\n        vertical-align: top;\n    }\n\n    .dataframe thead th {\n        text-align: right;\n    }\n</style>\n<table border=\"1\" class=\"dataframe\">\n  <thead>\n    <tr style=\"text-align: right;\">\n      <th></th>\n      <th>Unnamed: 0</th>\n      <th>created_time</th>\n      <th>id</th>\n      <th>message</th>\n      <th>status_type</th>\n      <th>permalink_url</th>\n      <th>full_picture</th>\n      <th>message_tags</th>\n      <th>likes</th>\n      <th>anger</th>\n    </tr>\n  </thead>\n  <tbody>\n    <tr>\n      <th>0</th>\n      <td>0</td>\n      <td>2021-04-04T02:15:00+0000</td>\n      <td>165419643537532_3859131857499607</td>\n      <td>⚡️ 𝐂𝐚̣̂𝐩 𝐧𝐡𝐚̣̂𝐭 𝐯𝐞̂̀ 𝐭𝐡𝐢̣ 𝐭𝐡𝐮̛̣𝐜 𝐤𝐡𝐨̂𝐧𝐠 đ𝐢̣𝐧𝐡 ...</td>\n      <td>added_photos</td>\n      <td>https://www.facebook.com/165419643537532/posts...</td>\n      <td>https://scontent.fsgn2-4.fna.fbcdn.net/v/t1.64...</td>\n      <td>[]</td>\n      <td>294.0</td>\n      <td>0.0</td>\n    </tr>\n    <tr>\n      <th>4359</th>\n      <td>4359</td>\n      <td>2014-10-11T06:18:52+0000</td>\n      <td>165419643537532_718217614924396</td>\n      <td>Session 1: Advanced Presentation Methods for S...</td>\n      <td>added_photos</td>\n      <td>https://www.facebook.com/USConsulateHCMC/photo...</td>\n      <td>https://scontent.fsgn2-5.fna.fbcdn.net/v/t1.18...</td>\n      <td>NaN</td>\n      <td>0.0</td>\n      <td>0.0</td>\n    </tr>\n    <tr>\n      <th>4358</th>\n      <td>4358</td>\n      <td>2014-10-11T09:12:45+0000</td>\n      <td>165419643537532_718269978252493</td>\n      <td>Gender Equality Group Discussion at the Americ...</td>\n      <td>added_photos</td>\n      <td>https://www.facebook.com/USConsulateHCMC/photo...</td>\n      <td>https://scontent.fsgn2-1.fna.fbcdn.net/v/t1.18...</td>\n      <td>NaN</td>\n      <td>0.0</td>\n      <td>0.0</td>\n    </tr>\n    <tr>\n      <th>4357</th>\n      <td>4357</td>\n      <td>2014-10-13T00:35:29+0000</td>\n      <td>165419643537532_719287898150701</td>\n      <td>Mời các bạn ghi lại chương trình tuần này.  Rấ...</td>\n      <td>shared_story</td>\n      <td>https://www.facebook.com/165419643537532/posts...</td>\n      <td>https://external.fsgn2-2.fna.fbcdn.net/safe_im...</td>\n      <td>[]</td>\n      <td>0.0</td>\n      <td>0.0</td>\n    </tr>\n    <tr>\n      <th>4356</th>\n      <td>4356</td>\n      <td>2014-10-15T01:31:17+0000</td>\n      <td>165419643537532_720447801368044</td>\n      <td>Hôm nay AC có 2 chương trình rất hay.  Hai chư...</td>\n      <td>shared_story</td>\n      <td>https://www.facebook.com/165419643537532/posts...</td>\n      <td>https://external.fsgn2-2.fna.fbcdn.net/safe_im...</td>\n      <td>[]</td>\n      <td>0.0</td>\n      <td>0.0</td>\n    </tr>\n    <tr>\n      <th>...</th>\n      <td>...</td>\n      <td>...</td>\n      <td>...</td>\n      <td>...</td>\n      <td>...</td>\n      <td>...</td>\n      <td>...</td>\n      <td>...</td>\n      <td>...</td>\n      <td>...</td>\n    </tr>\n    <tr>\n      <th>213</th>\n      <td>213</td>\n      <td>2021-01-20T13:22:00+0000</td>\n      <td>165419643537532_3657414241004704</td>\n      <td>Lễ nhậm chức của Tổng thống đắc cử Joe Biden v...</td>\n      <td>added_photos</td>\n      <td>https://www.facebook.com/165419643537532/posts...</td>\n      <td>https://scontent.fsgn2-5.fna.fbcdn.net/v/t1.64...</td>\n      <td>[{'id': '1189472611099598', 'name': '#inaugura...</td>\n      <td>980.0</td>\n      <td>212.0</td>\n    </tr>\n    <tr>\n      <th>201</th>\n      <td>201</td>\n      <td>2021-01-23T05:08:00+0000</td>\n      <td>165419643537532_3662839210462207</td>\n      <td>𝗖𝘂̀𝗻𝗴 𝘁𝗶̀𝗺 𝗵𝗶𝗲̂̉𝘂 𝘃𝗲̂̀ 𝗣𝗵𝗼́ 𝗧𝗼̂̉𝗻𝗴 𝘁𝗵𝗼̂́𝗻𝗴 𝗛𝗼𝗮...</td>\n      <td>added_photos</td>\n      <td>https://www.facebook.com/165419643537532/posts...</td>\n      <td>https://scontent.fsgn2-2.fna.fbcdn.net/v/t1.64...</td>\n      <td>[]</td>\n      <td>2538.0</td>\n      <td>376.0</td>\n    </tr>\n    <tr>\n      <th>207</th>\n      <td>207</td>\n      <td>2021-01-22T02:08:00+0000</td>\n      <td>165419643537532_3659640154115446</td>\n      <td>𝗖𝘂̀𝗻𝗴 𝘁𝗶̀𝗺 𝗵𝗶𝗲̂̉𝘂 𝘃𝗲̂̀ 𝗧𝗼̂̉𝗻𝗴 𝘁𝗵𝗼̂́𝗻𝗴 𝗝𝗼𝗲 𝗕𝗶𝗱𝗲...</td>\n      <td>added_photos</td>\n      <td>https://www.facebook.com/165419643537532/posts...</td>\n      <td>https://scontent.fsgn2-6.fna.fbcdn.net/v/t1.64...</td>\n      <td>[]</td>\n      <td>2618.0</td>\n      <td>455.0</td>\n    </tr>\n    <tr>\n      <th>1182</th>\n      <td>1182</td>\n      <td>2020-04-14T07:00:00+0000</td>\n      <td>165419643537532_2899017800177689</td>\n      <td>Chúng tôi hết sức quan ngại từ những phát hiện...</td>\n      <td>added_photos</td>\n      <td>https://www.facebook.com/165419643537532/posts...</td>\n      <td>https://scontent.fsgn2-4.fna.fbcdn.net/v/t1.64...</td>\n      <td>[{'id': '114050161948682', 'name': 'Reuters', ...</td>\n      <td>2569.0</td>\n      <td>529.0</td>\n    </tr>\n    <tr>\n      <th>747</th>\n      <td>747</td>\n      <td>2020-08-14T10:00:04+0000</td>\n      <td>165419643537532_3218935501519249</td>\n      <td>Chính phủ Hoa Kỳ bày tỏ quan ngại sâu sắc về v...</td>\n      <td>added_photos</td>\n      <td>https://www.facebook.com/165419643537532/posts...</td>\n      <td>https://scontent.fsgn2-5.fna.fbcdn.net/v/t1.64...</td>\n      <td>[]</td>\n      <td>1263.0</td>\n      <td>817.0</td>\n    </tr>\n  </tbody>\n</table>\n<p>6528 rows × 10 columns</p>\n</div>"
     },
     "metadata": {},
     "execution_count": 140
    }
   ],
   "source": [
    "df.sort_values(by=['anger'])"
   ]
  },
  {
   "cell_type": "code",
   "execution_count": 99,
   "metadata": {},
   "outputs": [],
   "source": [
    "ambovideo = df[df[\"message\"].str.contains(\"Kritenbrink\", na=False)]"
   ]
  },
  {
   "cell_type": "code",
   "execution_count": 100,
   "metadata": {},
   "outputs": [],
   "source": [
    "amboposts = df[df[\"message\"].str.contains(\"Kritenbrink\", na=False)]"
   ]
  },
  {
   "cell_type": "code",
   "execution_count": 102,
   "metadata": {},
   "outputs": [
    {
     "output_type": "execute_result",
     "data": {
      "text/plain": [
       "      Unnamed: 0              created_time                                id  \\\n",
       "2841        2841  2018-01-19T07:19:12+0000  165419643537532_1581788235233992   \n",
       "1920        1920  2019-04-23T02:21:25+0000  165419643537532_2186349154777894   \n",
       "1928        1928  2019-04-19T13:00:00+0000  165419643537532_2180232068722936   \n",
       "2099        2099  2018-12-12T09:00:01+0000  165419643537532_1991716517574493   \n",
       "2102        2102  2018-12-11T10:39:48+0000  165419643537532_1990617327684412   \n",
       "...          ...                       ...                               ...   \n",
       "1259        1259  2020-03-23T13:46:58+0000  165419643537532_2848846751861461   \n",
       "1236        1236  2020-03-31T06:46:11+0000  165419643537532_2866177430128393   \n",
       "1172        1172  2020-04-16T11:48:30+0000  165419643537532_2904676422945160   \n",
       "160          160  2021-02-08T13:11:19+0000  165419643537532_3707751855970942   \n",
       "1132        1132  2020-04-29T08:37:43+0000  165419643537532_2934817353264400   \n",
       "\n",
       "                                                message           status_type  \\\n",
       "2841  Sẽ diễn ra trong vòng 15' nữa, bạn đã sẵn sàng...  mobile_status_update   \n",
       "1920  Tuyên bố của Đại sứ Kritenbrink về việc nguyên...  mobile_status_update   \n",
       "1928  Tôi vô cùng vinh dự và xúc động khi được gặp T...          added_photos   \n",
       "2099  Người xưa thường nói: \"Nhập gia tùy tục\" Đại s...          added_photos   \n",
       "2102  Đại sứ Kritenbrink, Chuẩn Đô đốc Jon Kreitz và...          added_photos   \n",
       "...                                                 ...                   ...   \n",
       "1259  “Tôi gửi đến các bạn những lời chúc tốt đẹp nh...           added_video   \n",
       "1236  #ĐạisứKritenbrink: Các đối tác luôn sát cánh b...           added_video   \n",
       "1172  Cảm ơn rất nhiều 🇻🇳! ❤️❤️❤️ Hôm nay, #ĐạisứKri...          added_photos   \n",
       "160   Bằng tất cả tình cảm quý mến dành cho 🇻🇳, cộng...           added_video   \n",
       "1132  #ĐạisứKritenbrink: Sau nhiều năm gian khó và h...          added_photos   \n",
       "\n",
       "                                          permalink_url  \\\n",
       "2841  https://www.facebook.com/165419643537532/posts...   \n",
       "1920  https://www.facebook.com/165419643537532/posts...   \n",
       "1928  https://www.facebook.com/165419643537532/posts...   \n",
       "2099  https://www.facebook.com/165419643537532/posts...   \n",
       "2102  https://www.facebook.com/165419643537532/posts...   \n",
       "...                                                 ...   \n",
       "1259  https://www.facebook.com/165419643537532/posts...   \n",
       "1236  https://www.facebook.com/165419643537532/posts...   \n",
       "1172  https://www.facebook.com/165419643537532/posts...   \n",
       "160   https://www.facebook.com/165419643537532/posts...   \n",
       "1132  https://www.facebook.com/165419643537532/posts...   \n",
       "\n",
       "                                           full_picture  \\\n",
       "2841  https://scontent.fsgn2-1.fna.fbcdn.net/v/t31.1...   \n",
       "1920                                                NaN   \n",
       "1928  https://scontent.fsgn2-5.fna.fbcdn.net/v/t1.64...   \n",
       "2099  https://scontent.fsgn2-5.fna.fbcdn.net/v/t1.64...   \n",
       "2102  https://scontent.fsgn2-5.fna.fbcdn.net/v/t1.64...   \n",
       "...                                                 ...   \n",
       "1259  https://scontent.fsgn2-4.fna.fbcdn.net/v/t15.5...   \n",
       "1236  https://scontent.fsgn2-4.fna.fbcdn.net/v/t15.5...   \n",
       "1172  https://scontent.fsgn2-5.fna.fbcdn.net/v/t1.64...   \n",
       "160   https://scontent.fsgn2-1.fna.fbcdn.net/v/t15.5...   \n",
       "1132  https://scontent.fsgn2-4.fna.fbcdn.net/v/t1.64...   \n",
       "\n",
       "                                           message_tags   likes  \n",
       "2841  [{'id': '238467186292600', 'name': '#AmericanC...     0.0  \n",
       "1920                                                NaN     0.0  \n",
       "1928  [{'id': '2107028136003141', 'name': '#Ambassad...     0.0  \n",
       "2099                                                NaN     0.0  \n",
       "2102                                                NaN     0.0  \n",
       "...                                                 ...     ...  \n",
       "1259  [{'id': '2722264851181928', 'name': '#ĐạisứKri...  2085.0  \n",
       "1236  [{'id': '2722264851181928', 'name': '#ĐạisứKri...  2276.0  \n",
       "1172  [{'id': '2722264851181928', 'name': '#ĐạisứKri...  3449.0  \n",
       "160   [{'id': '312851086870901', 'name': 'Binz Da Po...  4987.0  \n",
       "1132  [{'id': '2722264851181928', 'name': '#ĐạisứKri...  5391.0  \n",
       "\n",
       "[120 rows x 9 columns]"
      ],
      "text/html": "<div>\n<style scoped>\n    .dataframe tbody tr th:only-of-type {\n        vertical-align: middle;\n    }\n\n    .dataframe tbody tr th {\n        vertical-align: top;\n    }\n\n    .dataframe thead th {\n        text-align: right;\n    }\n</style>\n<table border=\"1\" class=\"dataframe\">\n  <thead>\n    <tr style=\"text-align: right;\">\n      <th></th>\n      <th>Unnamed: 0</th>\n      <th>created_time</th>\n      <th>id</th>\n      <th>message</th>\n      <th>status_type</th>\n      <th>permalink_url</th>\n      <th>full_picture</th>\n      <th>message_tags</th>\n      <th>likes</th>\n    </tr>\n  </thead>\n  <tbody>\n    <tr>\n      <th>2841</th>\n      <td>2841</td>\n      <td>2018-01-19T07:19:12+0000</td>\n      <td>165419643537532_1581788235233992</td>\n      <td>Sẽ diễn ra trong vòng 15' nữa, bạn đã sẵn sàng...</td>\n      <td>mobile_status_update</td>\n      <td>https://www.facebook.com/165419643537532/posts...</td>\n      <td>https://scontent.fsgn2-1.fna.fbcdn.net/v/t31.1...</td>\n      <td>[{'id': '238467186292600', 'name': '#AmericanC...</td>\n      <td>0.0</td>\n    </tr>\n    <tr>\n      <th>1920</th>\n      <td>1920</td>\n      <td>2019-04-23T02:21:25+0000</td>\n      <td>165419643537532_2186349154777894</td>\n      <td>Tuyên bố của Đại sứ Kritenbrink về việc nguyên...</td>\n      <td>mobile_status_update</td>\n      <td>https://www.facebook.com/165419643537532/posts...</td>\n      <td>NaN</td>\n      <td>NaN</td>\n      <td>0.0</td>\n    </tr>\n    <tr>\n      <th>1928</th>\n      <td>1928</td>\n      <td>2019-04-19T13:00:00+0000</td>\n      <td>165419643537532_2180232068722936</td>\n      <td>Tôi vô cùng vinh dự và xúc động khi được gặp T...</td>\n      <td>added_photos</td>\n      <td>https://www.facebook.com/165419643537532/posts...</td>\n      <td>https://scontent.fsgn2-5.fna.fbcdn.net/v/t1.64...</td>\n      <td>[{'id': '2107028136003141', 'name': '#Ambassad...</td>\n      <td>0.0</td>\n    </tr>\n    <tr>\n      <th>2099</th>\n      <td>2099</td>\n      <td>2018-12-12T09:00:01+0000</td>\n      <td>165419643537532_1991716517574493</td>\n      <td>Người xưa thường nói: \"Nhập gia tùy tục\" Đại s...</td>\n      <td>added_photos</td>\n      <td>https://www.facebook.com/165419643537532/posts...</td>\n      <td>https://scontent.fsgn2-5.fna.fbcdn.net/v/t1.64...</td>\n      <td>NaN</td>\n      <td>0.0</td>\n    </tr>\n    <tr>\n      <th>2102</th>\n      <td>2102</td>\n      <td>2018-12-11T10:39:48+0000</td>\n      <td>165419643537532_1990617327684412</td>\n      <td>Đại sứ Kritenbrink, Chuẩn Đô đốc Jon Kreitz và...</td>\n      <td>added_photos</td>\n      <td>https://www.facebook.com/165419643537532/posts...</td>\n      <td>https://scontent.fsgn2-5.fna.fbcdn.net/v/t1.64...</td>\n      <td>NaN</td>\n      <td>0.0</td>\n    </tr>\n    <tr>\n      <th>...</th>\n      <td>...</td>\n      <td>...</td>\n      <td>...</td>\n      <td>...</td>\n      <td>...</td>\n      <td>...</td>\n      <td>...</td>\n      <td>...</td>\n      <td>...</td>\n    </tr>\n    <tr>\n      <th>1259</th>\n      <td>1259</td>\n      <td>2020-03-23T13:46:58+0000</td>\n      <td>165419643537532_2848846751861461</td>\n      <td>“Tôi gửi đến các bạn những lời chúc tốt đẹp nh...</td>\n      <td>added_video</td>\n      <td>https://www.facebook.com/165419643537532/posts...</td>\n      <td>https://scontent.fsgn2-4.fna.fbcdn.net/v/t15.5...</td>\n      <td>[{'id': '2722264851181928', 'name': '#ĐạisứKri...</td>\n      <td>2085.0</td>\n    </tr>\n    <tr>\n      <th>1236</th>\n      <td>1236</td>\n      <td>2020-03-31T06:46:11+0000</td>\n      <td>165419643537532_2866177430128393</td>\n      <td>#ĐạisứKritenbrink: Các đối tác luôn sát cánh b...</td>\n      <td>added_video</td>\n      <td>https://www.facebook.com/165419643537532/posts...</td>\n      <td>https://scontent.fsgn2-4.fna.fbcdn.net/v/t15.5...</td>\n      <td>[{'id': '2722264851181928', 'name': '#ĐạisứKri...</td>\n      <td>2276.0</td>\n    </tr>\n    <tr>\n      <th>1172</th>\n      <td>1172</td>\n      <td>2020-04-16T11:48:30+0000</td>\n      <td>165419643537532_2904676422945160</td>\n      <td>Cảm ơn rất nhiều 🇻🇳! ❤️❤️❤️ Hôm nay, #ĐạisứKri...</td>\n      <td>added_photos</td>\n      <td>https://www.facebook.com/165419643537532/posts...</td>\n      <td>https://scontent.fsgn2-5.fna.fbcdn.net/v/t1.64...</td>\n      <td>[{'id': '2722264851181928', 'name': '#ĐạisứKri...</td>\n      <td>3449.0</td>\n    </tr>\n    <tr>\n      <th>160</th>\n      <td>160</td>\n      <td>2021-02-08T13:11:19+0000</td>\n      <td>165419643537532_3707751855970942</td>\n      <td>Bằng tất cả tình cảm quý mến dành cho 🇻🇳, cộng...</td>\n      <td>added_video</td>\n      <td>https://www.facebook.com/165419643537532/posts...</td>\n      <td>https://scontent.fsgn2-1.fna.fbcdn.net/v/t15.5...</td>\n      <td>[{'id': '312851086870901', 'name': 'Binz Da Po...</td>\n      <td>4987.0</td>\n    </tr>\n    <tr>\n      <th>1132</th>\n      <td>1132</td>\n      <td>2020-04-29T08:37:43+0000</td>\n      <td>165419643537532_2934817353264400</td>\n      <td>#ĐạisứKritenbrink: Sau nhiều năm gian khó và h...</td>\n      <td>added_photos</td>\n      <td>https://www.facebook.com/165419643537532/posts...</td>\n      <td>https://scontent.fsgn2-4.fna.fbcdn.net/v/t1.64...</td>\n      <td>[{'id': '2722264851181928', 'name': '#ĐạisứKri...</td>\n      <td>5391.0</td>\n    </tr>\n  </tbody>\n</table>\n<p>120 rows × 9 columns</p>\n</div>"
     },
     "metadata": {},
     "execution_count": 102
    }
   ],
   "source": [
    "amboposts.sort_values(by = \"likes\")"
   ]
  },
  {
   "cell_type": "code",
   "execution_count": 15,
   "metadata": {},
   "outputs": [
    {
     "output_type": "execute_result",
     "data": {
      "text/plain": [
       "Unnamed: 0       13\n",
       "created_time     13\n",
       "id               13\n",
       "message          13\n",
       "status_type      13\n",
       "permalink_url    13\n",
       "full_picture     13\n",
       "message_tags     13\n",
       "dtype: int64"
      ]
     },
     "metadata": {},
     "execution_count": 15
    }
   ],
   "source": [
    "ambovideo.count()"
   ]
  },
  {
   "cell_type": "code",
   "execution_count": 23,
   "metadata": {},
   "outputs": [],
   "source": [
    "pd.set_option(\"max_colwidth\", None)"
   ]
  },
  {
   "cell_type": "code",
   "execution_count": 26,
   "metadata": {},
   "outputs": [],
   "source": [
    "amb_posts = df[df[\"message\"].str.contains(\"Tarnowka\", na=False)]"
   ]
  },
  {
   "cell_type": "code",
   "execution_count": 38,
   "metadata": {},
   "outputs": [
    {
     "output_type": "execute_result",
     "data": {
      "text/plain": [
       "                      Unnamed: 0  created_time  id  message  permalink_url  \\\n",
       "status_type                                                                  \n",
       "added_photos                  96            96  96       96             96   \n",
       "added_video                   13            13  13       13             13   \n",
       "mobile_status_update           3             3   3        3              3   \n",
       "shared_story                   8             8   8        8              8   \n",
       "\n",
       "                      full_picture  message_tags  \n",
       "status_type                                       \n",
       "added_photos                    96            87  \n",
       "added_video                     13            13  \n",
       "mobile_status_update             2             2  \n",
       "shared_story                     8             8  "
      ],
      "text/html": "<div>\n<style scoped>\n    .dataframe tbody tr th:only-of-type {\n        vertical-align: middle;\n    }\n\n    .dataframe tbody tr th {\n        vertical-align: top;\n    }\n\n    .dataframe thead th {\n        text-align: right;\n    }\n</style>\n<table border=\"1\" class=\"dataframe\">\n  <thead>\n    <tr style=\"text-align: right;\">\n      <th></th>\n      <th>Unnamed: 0</th>\n      <th>created_time</th>\n      <th>id</th>\n      <th>message</th>\n      <th>permalink_url</th>\n      <th>full_picture</th>\n      <th>message_tags</th>\n    </tr>\n    <tr>\n      <th>status_type</th>\n      <th></th>\n      <th></th>\n      <th></th>\n      <th></th>\n      <th></th>\n      <th></th>\n      <th></th>\n    </tr>\n  </thead>\n  <tbody>\n    <tr>\n      <th>added_photos</th>\n      <td>96</td>\n      <td>96</td>\n      <td>96</td>\n      <td>96</td>\n      <td>96</td>\n      <td>96</td>\n      <td>87</td>\n    </tr>\n    <tr>\n      <th>added_video</th>\n      <td>13</td>\n      <td>13</td>\n      <td>13</td>\n      <td>13</td>\n      <td>13</td>\n      <td>13</td>\n      <td>13</td>\n    </tr>\n    <tr>\n      <th>mobile_status_update</th>\n      <td>3</td>\n      <td>3</td>\n      <td>3</td>\n      <td>3</td>\n      <td>3</td>\n      <td>2</td>\n      <td>2</td>\n    </tr>\n    <tr>\n      <th>shared_story</th>\n      <td>8</td>\n      <td>8</td>\n      <td>8</td>\n      <td>8</td>\n      <td>8</td>\n      <td>8</td>\n      <td>8</td>\n    </tr>\n  </tbody>\n</table>\n</div>"
     },
     "metadata": {},
     "execution_count": 38
    }
   ],
   "source": [
    "amb_posts.groupby(\"status_type\").count()"
   ]
  },
  {
   "cell_type": "code",
   "execution_count": 55,
   "metadata": {},
   "outputs": [
    {
     "output_type": "execute_result",
     "data": {
      "text/plain": [
       "      Unnamed: 0              created_time                                id  \\\n",
       "226          226  2021-01-15T13:00:23+0000  165419643537532_3644014275678034   \n",
       "1920        1920  2019-04-23T02:21:25+0000  165419643537532_2186349154777894   \n",
       "2841        2841  2018-01-19T07:19:12+0000  165419643537532_1581788235233992   \n",
       "\n",
       "                                                                                                                                                                                                                                                                                                                                                                                                                                                                                                                                                                                                                                                                                                                                                                                                                                                                                                                                                                                                                                                                                                                                                                                                                                                                                                                       message  \\\n",
       "226                                                                                                                                                                                                                                                                                                                                                                                                                                                                                                                                                                                                                                                                                                                                                                                                                                                                                                                                           🤪 Ơ, Đại sứ Kritenbrink và Wowy đã dành thời gian gặp nhau tại Hà Nội kìa! Bạn có tò mò họ đang thực hiện \"dự án\" gì không? Hãy cùng chờ xem nhé! 😉🆒\\n\\n🤪 Spotted! #AmbassadorKritenbrink and Wowy spent some quality time in Hanoi. Wonder what they were doing? 🤔 Stay tuned to find out! 😉🆒\\n\\nhttps://www.facebook.com/artistwowy/photos/a.372575242867087/2514459638678626/   \n",
       "1920  Tuyên bố của Đại sứ Kritenbrink về việc nguyên Chủ tịch nước Lê Đức Anh qua đời:\\n\\nPhái đoàn Ngoại giao Hoa Kỳ tại Việt Nam bày tỏ lời chia buồn chân thành về việc ông Lê Đức Anh, nguyên Chủ tịch nước Việt Nam, qua đời. Ông Lê Đức Anh phục vụ trong quá trình hai nước chúng ta thực hiện bình thường hóa quan hệ song phương, qua đó đưa tới mối quan hệ đối tác và hữu nghị sâu sắc mà hai quốc gia đang có. Trong thời gian ông lãnh đạo, Việt Nam bắt đầu cải cách và quá trình cải cách đã góp phần mang lại tăng trưởng kinh tế và sự phát triển đáng kể cho đất nước. Chúng tôi xin gửi sự cảm thông tới gia đình và người thân của ông Lê Đức Anh, cũng như tới nhân dân Việt Nam.\\n\\nStatement by Ambassador Kritenbrink on the Passing of Former President Lê Đức Anh:\\n\\nThe U.S. Mission in Vietnam expresses sincere condolences regarding the passing of Lê Đức Anh, former President of Vietnam. Lê Đức Anh served during normalization of bilateral relations between our two countries, leading to the deep partnership and friendship that our two nations enjoy today. During his leadership, Vietnam began reforms that helped build significant economic growth and development for the country. We send our sympathies to Lê Đức Anh’s family, his loved ones, and to the people of Vietnam.   \n",
       "2841                                                                                                                                                                                                                                                                                                                                                                                                                                                                                                                                                                                                                                                                                                                                                                                                                                                                                                                                                                                                                                                                                                                                                                                                                Sẽ diễn ra trong vòng 15' nữa, bạn đã sẵn sàng để gặp Đại sứ Hoa Kỳ Daniel j. Kritenbrink? #AmericanCenter   \n",
       "\n",
       "               status_type  \\\n",
       "226   mobile_status_update   \n",
       "1920  mobile_status_update   \n",
       "2841  mobile_status_update   \n",
       "\n",
       "                                                         permalink_url  \\\n",
       "226   https://www.facebook.com/165419643537532/posts/3644014275678034/   \n",
       "1920  https://www.facebook.com/165419643537532/posts/2186349154777894/   \n",
       "2841  https://www.facebook.com/165419643537532/posts/1581788235233992/   \n",
       "\n",
       "                                                                                                                                                                                                                                                                            full_picture  \\\n",
       "226                     https://scontent.fsgn2-1.fna.fbcdn.net/v/t1.6435-9/s720x720/136755501_2514459642011959_4219588117417997827_n.jpg?_nc_cat=111&ccb=1-3&_nc_sid=110474&_nc_ohc=o6es-Dlp--UAX8C8OZP&_nc_ht=scontent.fsgn2-1.fna&tp=7&oh=2f49b7e168ab85773b5a6cf8532e8bd1&oe=609027E8   \n",
       "1920                                                                                                                                                                                                                                                                                 NaN   \n",
       "2841  https://scontent.fsgn2-1.fna.fbcdn.net/v/t31.18172-8/c280.0.720.720a/p720x720/26240051_1578797218866427_7266616833360748108_o.jpg?_nc_cat=105&ccb=1-3&_nc_sid=b386c4&_nc_ohc=N2pPQI9qth4AX_NEStz&_nc_ht=scontent.fsgn2-1.fna&tp=27&oh=eff3e7c55d04d8df7625d5fdf89108bf&oe=608EC04F   \n",
       "\n",
       "                                                                                     message_tags  \n",
       "226   [{'id': '2107028136003141', 'name': '#AmbassadorKritenbrink', 'offset': 161, 'length': 22}]  \n",
       "1920                                                                                          NaN  \n",
       "2841           [{'id': '238467186292600', 'name': '#AmericanCenter', 'offset': 91, 'length': 15}]  "
      ],
      "text/html": "<div>\n<style scoped>\n    .dataframe tbody tr th:only-of-type {\n        vertical-align: middle;\n    }\n\n    .dataframe tbody tr th {\n        vertical-align: top;\n    }\n\n    .dataframe thead th {\n        text-align: right;\n    }\n</style>\n<table border=\"1\" class=\"dataframe\">\n  <thead>\n    <tr style=\"text-align: right;\">\n      <th></th>\n      <th>Unnamed: 0</th>\n      <th>created_time</th>\n      <th>id</th>\n      <th>message</th>\n      <th>status_type</th>\n      <th>permalink_url</th>\n      <th>full_picture</th>\n      <th>message_tags</th>\n    </tr>\n  </thead>\n  <tbody>\n    <tr>\n      <th>226</th>\n      <td>226</td>\n      <td>2021-01-15T13:00:23+0000</td>\n      <td>165419643537532_3644014275678034</td>\n      <td>🤪 Ơ, Đại sứ Kritenbrink và Wowy đã dành thời gian gặp nhau tại Hà Nội kìa! Bạn có tò mò họ đang thực hiện \"dự án\" gì không? Hãy cùng chờ xem nhé! 😉🆒\\n\\n🤪 Spotted! #AmbassadorKritenbrink and Wowy spent some quality time in Hanoi. Wonder what they were doing? 🤔 Stay tuned to find out! 😉🆒\\n\\nhttps://www.facebook.com/artistwowy/photos/a.372575242867087/2514459638678626/</td>\n      <td>mobile_status_update</td>\n      <td>https://www.facebook.com/165419643537532/posts/3644014275678034/</td>\n      <td>https://scontent.fsgn2-1.fna.fbcdn.net/v/t1.6435-9/s720x720/136755501_2514459642011959_4219588117417997827_n.jpg?_nc_cat=111&amp;ccb=1-3&amp;_nc_sid=110474&amp;_nc_ohc=o6es-Dlp--UAX8C8OZP&amp;_nc_ht=scontent.fsgn2-1.fna&amp;tp=7&amp;oh=2f49b7e168ab85773b5a6cf8532e8bd1&amp;oe=609027E8</td>\n      <td>[{'id': '2107028136003141', 'name': '#AmbassadorKritenbrink', 'offset': 161, 'length': 22}]</td>\n    </tr>\n    <tr>\n      <th>1920</th>\n      <td>1920</td>\n      <td>2019-04-23T02:21:25+0000</td>\n      <td>165419643537532_2186349154777894</td>\n      <td>Tuyên bố của Đại sứ Kritenbrink về việc nguyên Chủ tịch nước Lê Đức Anh qua đời:\\n\\nPhái đoàn Ngoại giao Hoa Kỳ tại Việt Nam bày tỏ lời chia buồn chân thành về việc ông Lê Đức Anh, nguyên Chủ tịch nước Việt Nam, qua đời. Ông Lê Đức Anh phục vụ trong quá trình hai nước chúng ta thực hiện bình thường hóa quan hệ song phương, qua đó đưa tới mối quan hệ đối tác và hữu nghị sâu sắc mà hai quốc gia đang có. Trong thời gian ông lãnh đạo, Việt Nam bắt đầu cải cách và quá trình cải cách đã góp phần mang lại tăng trưởng kinh tế và sự phát triển đáng kể cho đất nước. Chúng tôi xin gửi sự cảm thông tới gia đình và người thân của ông Lê Đức Anh, cũng như tới nhân dân Việt Nam.\\n\\nStatement by Ambassador Kritenbrink on the Passing of Former President Lê Đức Anh:\\n\\nThe U.S. Mission in Vietnam expresses sincere condolences regarding the passing of Lê Đức Anh, former President of Vietnam. Lê Đức Anh served during normalization of bilateral relations between our two countries, leading to the deep partnership and friendship that our two nations enjoy today. During his leadership, Vietnam began reforms that helped build significant economic growth and development for the country. We send our sympathies to Lê Đức Anh’s family, his loved ones, and to the people of Vietnam.</td>\n      <td>mobile_status_update</td>\n      <td>https://www.facebook.com/165419643537532/posts/2186349154777894/</td>\n      <td>NaN</td>\n      <td>NaN</td>\n    </tr>\n    <tr>\n      <th>2841</th>\n      <td>2841</td>\n      <td>2018-01-19T07:19:12+0000</td>\n      <td>165419643537532_1581788235233992</td>\n      <td>Sẽ diễn ra trong vòng 15' nữa, bạn đã sẵn sàng để gặp Đại sứ Hoa Kỳ Daniel j. Kritenbrink? #AmericanCenter</td>\n      <td>mobile_status_update</td>\n      <td>https://www.facebook.com/165419643537532/posts/1581788235233992/</td>\n      <td>https://scontent.fsgn2-1.fna.fbcdn.net/v/t31.18172-8/c280.0.720.720a/p720x720/26240051_1578797218866427_7266616833360748108_o.jpg?_nc_cat=105&amp;ccb=1-3&amp;_nc_sid=b386c4&amp;_nc_ohc=N2pPQI9qth4AX_NEStz&amp;_nc_ht=scontent.fsgn2-1.fna&amp;tp=27&amp;oh=eff3e7c55d04d8df7625d5fdf89108bf&amp;oe=608EC04F</td>\n      <td>[{'id': '238467186292600', 'name': '#AmericanCenter', 'offset': 91, 'length': 15}]</td>\n    </tr>\n  </tbody>\n</table>\n</div>"
     },
     "metadata": {},
     "execution_count": 55
    }
   ],
   "source": [
    "amb_posts[amb_posts[\"status_type\"] == \"mobile_status_update\"]"
   ]
  },
  {
   "cell_type": "code",
   "execution_count": 50,
   "metadata": {},
   "outputs": [
    {
     "output_type": "execute_result",
     "data": {
      "text/plain": [
       "                                                                                                                                                                                                                                                                                                                                                                                                                                                                 message  \\\n",
       "2                                                                                                                                                                                                                                                                                                                                                                                                                                                                                                      🇺🇸🤝🇻🇳 Bộ trưởng Bộ Y tế Nguyễn Thanh Long và Đại sứ Kritenbrink đều biết rằng không một quốc gia nào an toàn trước COVID-19 cho đến khi tất cả các nước đều đã an toàn, đó là lý do vì sao Hoa Kỳ và Việt Nam đang phối hợp để đưa vắc xin đến với người dân Việt Nam trong thời gian sớm nhất có thể. Bạn có biết Hoa Kỳ là nước đóng góp nhiều nhất cho cơ chế COVAX? Và xin chúc mừng Việt Nam đã đạt được những thành công đáng kinh ngạc trong kiểm soát COVID-19. Hoa Kỳ và Việt Nam đang cùng hành động để tăng cường hợp tác y tế song phương! 👩🏻‍⚕️🧪😷\\n\\n🇺🇸🤝🇻🇳 Minister of Health Nguyen Thanh Long and Ambassador Kritenbrink know that no country is safe from COVID-19 until every country is safe, which is why the United States and Vietnam are collaborating to distribute vaccine to the people of Vietnam as quickly as possible. Did you know that the United States is the largest contributor to the COVAX facility? And congratulations to Vietnam for their amazing success at controlling COVID-19. The United States and Vietnam are working together to strengthen our health cooperation! 👩🏻‍⚕️🧪😷\\n\\n📸 Photo credit: Chí Cường (Báo Gia đình và Xã hội)   \n",
       "7                                                                                                                                                                                                                                                                                                                                                                                                                                                                                                                                                                                                                                                                                                                                                                                                                                                                                                                                                                 #ĐạisứKritenbrink: Hoa Kỳ vui mừng chào đón lô vắc xin COVID-19 đầu tiên được tài trợ từ chương trình COVAX đến Việt Nam ngày hôm nay. Vắc xin có vai trò quan trọng để chấm dứt đại dịch này và Hoa Kỳ tự hào hỗ trợ nỗ lực toàn cầu này với khoản đóng góp ban đầu là 2 tỷ đô la cho chương trình COVAX thông qua USAID - US Agency for International Development. 🇻🇳🇺🇸\\n\\n#AmbassadorKritenbrink: The United States welcomes the arrival of COVID-19 vaccines from COVAX in Vietnam today. Vaccines are critical to ending this pandemic, and the United States is proud to support the global effort with an initial $2 billion contribution to COVAX through USAID - US Agency for International Development. 🇻🇳🇺🇸   \n",
       "39                                                                                                                                                                                                                                                                                                                                                                                                                                                   Đại sứ Hoa Kỳ Daniel Kritenbrink đã tham gia lễ ký kết của tổ chức Đối tác Một sức khoẻ Phòng chống Dịch bệnh từ Động vật sang Người tại Việt Nam. Khung Đối tác thể hiện sự hỗ trợ liên tục từ Chính phủ Hoa Kỳ và các đối tác khác cùng chung tay với Chính phủ Việt Nam trong nỗ lực ngăn chặn, phát hiện và ứng phó với các mối de doạ từ bệnh truyền nhiễm trên phạm vi động vật - con người (bệnh truyền nhiễm từ động vật) và dịch bệnh có nguy cơ trở thành đại dịch lây lan từ động vật, như trường hợp COVID-19. Hoa Kỳ 🇺🇸 và Việt Nam 🇻🇳 đang làm việc cùng nhau để tăng cường hợp tác y tế!\\n\\nU.S. Ambassador Daniel Kritenbrink participated in a signing ceremony for Vietnam’s One Health Partnership for Zoonoses. The Partnership Framework signals the continued support of the U.S. Government, and other partners, to the Government of Vietnam in its efforts to prevent, detect, and respond to emerging infectious disease threats which may spillover at the animal - human interface (zoonotic diseases) and to epidemics at risk of becoming animal pandemic spread, as in the case of COVID-19. Together, the United States 🇺🇸 and Vietnam 🇻🇳 are working together to strengthen our health cooperation!   \n",
       "160                                                                                                                                                                                                                                                                                                                                                                                                                                                                                                                                                                                                                                                                                                                                                                                                                                                                                                                                                                                                                                                                                                                      Bằng tất cả tình cảm quý mến dành cho 🇻🇳, cộng thêm sự trợ giúp nhiệt tình từ HLV “mát tay” Wowy thì những lời chúc mừng năm mới cực kỳ chân thành của ngài Đại sứ Mỹ tại Việt Nam Daniel Kritenbrink đã khiến Binz Da Poet phải thốt lên: “Ờ mây zing! Gút chóp!” 😆\\n\\nWith all his affection for 🇻🇳, together with enthusiastic guidance from the amazing coach Wowy, #AmbassadorKritenbrink’s Lunar New Year musical masterpiece gained the praise of one of Vietnam’s top rap artist - Binz Da Poet, who called the Ambassador’s rap, “Amazing, good job!” 😆   \n",
       "163                                                                                                                                                                                                                                                                                                                                                                                                                                                                                                                                                                                                                                                                                                                                                                                                                                                                                                                                                                                                                                                                                                                                                                                                              Tết này, những gương mặt vàng trong làng Rap Việt Nam như Binz Da Poet, Wowy Nguyễn, và #AmbassadorKritenbrink 🤪 sẽ cùng lên sóng trên Vietcetera ? Đúng vậy đó! Hãy cùng đón chờ bản hit mới nhất lên sóng vào ngày mai - 8/2 nhé! 🤘🏻🤝\\n\\nThis Tet, Vietcetera celebrates famous faces of Vietnamese rap: Binz Da Poet, Wowy Nguyễn, and U.S. Ambassador Daniel Kritenbrink ?? 🤔🤔🤔 That’s right - stay tuned for our release of Vietnam’s latest rap hit tomorrow, 8/2.   \n",
       "...                                                                                                                                                                                                                                                                                                                                                                                                                                                                                                                                                                                                                                                                                                                                                                                                                                                                                                                                                                                                                                                                                                                                                                                                                                                                                                                                                                                                                                                                                                                                                                                                                                                                                   ...   \n",
       "2267                                                                                                                                                                                                                                                                                                                                                                                                                                                                                                                                                                                                                                                                                                                                                                                                                                                                                                                                                  Đại sứ Ambassador Daniel J. Kritenbrink và Tổng Lãnh sự Tarnowka chúc đoàn quân y của Bệnh viện Quân y 175 thượng lộ bình an. Bệnh viện 175 vừa cử các bác sĩ và nhân viên y tế sang Nam Sudan để tham gia lực lượng gìn giữ hòa bình của Liên Hiệp Quốc lần đầu tiên. Hoa Kỳ tự hào hợp tác cùng Việt Nam trong việc hỗ trợ an toàn, an ninh và nhân đạo ở Nam Sudan.\\n\\nAmbassador Kritenbrink and Consul General Tarnowka wished safe travels to Vietnam's Military Hospital 175, which just sent doctors and medical staff to South Sudan for its first-ever United Nations peacekeeping mission. The United States is proud to partner with Vietnam in providing safety, security, and humanitarian assistance in South Sudan.   \n",
       "2277                                                                                                                                                                                                                                                                                                                                                                                                                                                                                                                                                                                                                                                                                                                                                                                                                                                                                                                                                                                                                                                                                                                                                                                                                                                                                                                                                                                                                                           Cùng thưởng thức bia thủ công Mỹ được sản xuất tại Việt Nam với Đại sứ Kritenbrink và Phó Tổng Lãnh sự Tim Liston. #CGTarnowka\\n\\nEnjoying American craft beer, brewed in Vietnam, with Ambassador Kritenbrink and Tim Liston. #CGTarnowka   \n",
       "2294  Thay mặt Phái đoàn Ngoại giao Hoa Kỳ tại Việt Nam, tôi xin gửi lời chia buồn chân thành về việc Chủ tịch nước Trần Đại Quang từ trần. Chúng tôi xin bày tỏ lòng cảm thông tới gia đình ông và nhân dân Việt Nam vào thời khắc đau buồn này. Chủ tịch nước Trần Đại Quang là một người bạn của mối quan hệ Hoa Kỳ - Việt Nam. Sự tiếp đón của ông trong chuyến thăm lịch sử của Tổng thống Donald J. Trump tới Hà Nội vào tháng 11 năm 2017 đã giúp đưa mối Quan hệ Đối tác Toàn diện Hoa Kỳ - Việt Nam lên tầm cao mới trên cơ sở hiểu biết lẫn nhau, có lợi ích chung và mong muốn chung nhằm thúc đẩy hòa bình, hợp tác, thịnh vượng và an ninh trong khu vực Ấn Độ Dương - Thái Bình Dương.\\n\\nCùng với gia đình và bạn bè của ông cũng như nhân dân Việt Nam, chúng tôi trân trọng di sản ông để lại và bày tỏ lòng tiếc thương trước sự ra đi của ông.\\n\\nTrân trọng, \\nDaniel Kritenbrink\\n\\nOn behalf of the U.S. Mission in Vietnam, I would like to express our sincere condolences on the passing of President Tran Dai Quang. Our sympathies go out to his family and the people of Vietnam at this sad time. President Tran Dai Quang was a friend of the U.S.-Vietnam relationship. His hosting of President Donald J. Trump’s historic state visit to Hanoi in November 2017 helped advance the U.S.-Vietnam Comprehensive Partnership to new heights on the basis of mutual understanding, shared interests, and a common desire to promote peace, cooperation, prosperity, and security in the Indo-Pacific region.\\n\\nWe honor his legacy and mourn his loss alongside his family and our friends, the people of Vietnam.\\n\\nVery truly yours,\\nDaniel Kritenbrink   \n",
       "2303                                                                                                                                                                                                                                                                                                                                                                                                                                                                                                                                                                                  Đại sứ Kritenbrink đã đến tham quan các địa điểm diễn ra chương trình Thiên Thần Thái Bình Dương ở tỉnh Quảng Nam cuối tuần qua. Mỗi năm, chương trình Thiên Thần Thái Bình Dương quy tụ các nhân viên dân sự và quân sự đến từ Hoa Kỳ và 7 quốc gia đối tác ở khắp khu vực Ấn Độ Dương - Thái Bình Dương để hỗ trợ nhân đạo cho người dân Việt Nam. Chuơng trình Thiên Thần Thái Bình Dương là một trong nhiều hoạt động Hoa Kỳ thực hiện cùng Việt Nam cũng như các quốc gia và tổ chức khác để xây dựng năng lực và quan hệ đối tác trong khu vực Ấn Độ Dương - Thái Bình Dương.  \\n\\nAmbassador Kritenbrink visited the Pacific Angel sites in Quang Nam Province this weekend. Every year, Pacific Angel brings together civilian and military personnel from the United States and seven partners throughout the Indo-Pacific region to support humanitarian assistance to th‎e Vietnamese people. Pacific Angel is one of the many ways that the United States works together with Vietnam and other nations and organizations to build capacity and partnership in the Indo-Pacific region.   \n",
       "2841                                                                                                                                                                                                                                                                                                                                                                                                                                                                                                                                                                                                                                                                                                                                                                                                                                                                                                                                                                                                                                                                                                                                                                                                                                                                                                                                                                                                                                                                                                                                                                           Sẽ diễn ra trong vòng 15' nữa, bạn đã sẵn sàng để gặp Đại sứ Hoa Kỳ Daniel j. Kritenbrink? #AmericanCenter   \n",
       "\n",
       "               status_type  \\\n",
       "2             added_photos   \n",
       "7             added_photos   \n",
       "39            added_photos   \n",
       "160            added_video   \n",
       "163            added_video   \n",
       "...                    ...   \n",
       "2267          added_photos   \n",
       "2277          added_photos   \n",
       "2294          added_photos   \n",
       "2303          added_photos   \n",
       "2841  mobile_status_update   \n",
       "\n",
       "                                                                                   permalink_url  \n",
       "2                               https://www.facebook.com/165419643537532/posts/3859056144173845/  \n",
       "7                               https://www.facebook.com/165419643537532/posts/3856463221099804/  \n",
       "39                              https://www.facebook.com/165419643537532/posts/3826158787463581/  \n",
       "160                             https://www.facebook.com/165419643537532/posts/3707751855970942/  \n",
       "163                             https://www.facebook.com/165419643537532/posts/3705398099539651/  \n",
       "...                                                                                          ...  \n",
       "2267                            https://www.facebook.com/165419643537532/posts/1892689124143900/  \n",
       "2277  https://www.facebook.com/USConsulateHCMC/photos/a.179781728767990/1886488894763923/?type=3  \n",
       "2294  https://www.facebook.com/USConsulateHCMC/photos/a.179781728767990/1877462752333204/?type=3  \n",
       "2303                            https://www.facebook.com/165419643537532/posts/1873399792739500/  \n",
       "2841                            https://www.facebook.com/165419643537532/posts/1581788235233992/  \n",
       "\n",
       "[120 rows x 4 columns]"
      ],
      "text/html": "<div>\n<style scoped>\n    .dataframe tbody tr th:only-of-type {\n        vertical-align: middle;\n    }\n\n    .dataframe tbody tr th {\n        vertical-align: top;\n    }\n\n    .dataframe thead th {\n        text-align: right;\n    }\n</style>\n<table border=\"1\" class=\"dataframe\">\n  <thead>\n    <tr style=\"text-align: right;\">\n      <th></th>\n      <th>id</th>\n      <th>message</th>\n      <th>status_type</th>\n      <th>permalink_url</th>\n    </tr>\n  </thead>\n  <tbody>\n    <tr>\n      <th>2</th>\n      <td>165419643537532_3859056144173845</td>\n      <td>🇺🇸🤝🇻🇳 Bộ trưởng Bộ Y tế Nguyễn Thanh Long và Đại sứ Kritenbrink đều biết rằng không một quốc gia nào an toàn trước COVID-19 cho đến khi tất cả các nước đều đã an toàn, đó là lý do vì sao Hoa Kỳ và Việt Nam đang phối hợp để đưa vắc xin đến với người dân Việt Nam trong thời gian sớm nhất có thể. Bạn có biết Hoa Kỳ là nước đóng góp nhiều nhất cho cơ chế COVAX? Và xin chúc mừng Việt Nam đã đạt được những thành công đáng kinh ngạc trong kiểm soát COVID-19. Hoa Kỳ và Việt Nam đang cùng hành động để tăng cường hợp tác y tế song phương! 👩🏻‍⚕️🧪😷\\n\\n🇺🇸🤝🇻🇳 Minister of Health Nguyen Thanh Long and Ambassador Kritenbrink know that no country is safe from COVID-19 until every country is safe, which is why the United States and Vietnam are collaborating to distribute vaccine to the people of Vietnam as quickly as possible. Did you know that the United States is the largest contributor to the COVAX facility? And congratulations to Vietnam for their amazing success at controlling COVID-19. The United States and Vietnam are working together to strengthen our health cooperation! 👩🏻‍⚕️🧪😷\\n\\n📸 Photo credit: Chí Cường (Báo Gia đình và Xã hội)</td>\n      <td>added_photos</td>\n      <td>https://www.facebook.com/165419643537532/posts/3859056144173845/</td>\n    </tr>\n    <tr>\n      <th>7</th>\n      <td>165419643537532_3856463221099804</td>\n      <td>#ĐạisứKritenbrink: Hoa Kỳ vui mừng chào đón lô vắc xin COVID-19 đầu tiên được tài trợ từ chương trình COVAX đến Việt Nam ngày hôm nay. Vắc xin có vai trò quan trọng để chấm dứt đại dịch này và Hoa Kỳ tự hào hỗ trợ nỗ lực toàn cầu này với khoản đóng góp ban đầu là 2 tỷ đô la cho chương trình COVAX thông qua USAID - US Agency for International Development. 🇻🇳🇺🇸\\n\\n#AmbassadorKritenbrink: The United States welcomes the arrival of COVID-19 vaccines from COVAX in Vietnam today. Vaccines are critical to ending this pandemic, and the United States is proud to support the global effort with an initial $2 billion contribution to COVAX through USAID - US Agency for International Development. 🇻🇳🇺🇸</td>\n      <td>added_photos</td>\n      <td>https://www.facebook.com/165419643537532/posts/3856463221099804/</td>\n    </tr>\n    <tr>\n      <th>39</th>\n      <td>165419643537532_3826158787463581</td>\n      <td>Đại sứ Hoa Kỳ Daniel Kritenbrink đã tham gia lễ ký kết của tổ chức Đối tác Một sức khoẻ Phòng chống Dịch bệnh từ Động vật sang Người tại Việt Nam. Khung Đối tác thể hiện sự hỗ trợ liên tục từ Chính phủ Hoa Kỳ và các đối tác khác cùng chung tay với Chính phủ Việt Nam trong nỗ lực ngăn chặn, phát hiện và ứng phó với các mối de doạ từ bệnh truyền nhiễm trên phạm vi động vật - con người (bệnh truyền nhiễm từ động vật) và dịch bệnh có nguy cơ trở thành đại dịch lây lan từ động vật, như trường hợp COVID-19. Hoa Kỳ 🇺🇸 và Việt Nam 🇻🇳 đang làm việc cùng nhau để tăng cường hợp tác y tế!\\n\\nU.S. Ambassador Daniel Kritenbrink participated in a signing ceremony for Vietnam’s One Health Partnership for Zoonoses. The Partnership Framework signals the continued support of the U.S. Government, and other partners, to the Government of Vietnam in its efforts to prevent, detect, and respond to emerging infectious disease threats which may spillover at the animal - human interface (zoonotic diseases) and to epidemics at risk of becoming animal pandemic spread, as in the case of COVID-19. Together, the United States 🇺🇸 and Vietnam 🇻🇳 are working together to strengthen our health cooperation!</td>\n      <td>added_photos</td>\n      <td>https://www.facebook.com/165419643537532/posts/3826158787463581/</td>\n    </tr>\n    <tr>\n      <th>160</th>\n      <td>165419643537532_3707751855970942</td>\n      <td>Bằng tất cả tình cảm quý mến dành cho 🇻🇳, cộng thêm sự trợ giúp nhiệt tình từ HLV “mát tay” Wowy thì những lời chúc mừng năm mới cực kỳ chân thành của ngài Đại sứ Mỹ tại Việt Nam Daniel Kritenbrink đã khiến Binz Da Poet phải thốt lên: “Ờ mây zing! Gút chóp!” 😆\\n\\nWith all his affection for 🇻🇳, together with enthusiastic guidance from the amazing coach Wowy, #AmbassadorKritenbrink’s Lunar New Year musical masterpiece gained the praise of one of Vietnam’s top rap artist - Binz Da Poet, who called the Ambassador’s rap, “Amazing, good job!” 😆</td>\n      <td>added_video</td>\n      <td>https://www.facebook.com/165419643537532/posts/3707751855970942/</td>\n    </tr>\n    <tr>\n      <th>163</th>\n      <td>165419643537532_3705398099539651</td>\n      <td>Tết này, những gương mặt vàng trong làng Rap Việt Nam như Binz Da Poet, Wowy Nguyễn, và #AmbassadorKritenbrink 🤪 sẽ cùng lên sóng trên Vietcetera ? Đúng vậy đó! Hãy cùng đón chờ bản hit mới nhất lên sóng vào ngày mai - 8/2 nhé! 🤘🏻🤝\\n\\nThis Tet, Vietcetera celebrates famous faces of Vietnamese rap: Binz Da Poet, Wowy Nguyễn, and U.S. Ambassador Daniel Kritenbrink ?? 🤔🤔🤔 That’s right - stay tuned for our release of Vietnam’s latest rap hit tomorrow, 8/2.</td>\n      <td>added_video</td>\n      <td>https://www.facebook.com/165419643537532/posts/3705398099539651/</td>\n    </tr>\n    <tr>\n      <th>...</th>\n      <td>...</td>\n      <td>...</td>\n      <td>...</td>\n      <td>...</td>\n    </tr>\n    <tr>\n      <th>2267</th>\n      <td>165419643537532_1892689124143900</td>\n      <td>Đại sứ Ambassador Daniel J. Kritenbrink và Tổng Lãnh sự Tarnowka chúc đoàn quân y của Bệnh viện Quân y 175 thượng lộ bình an. Bệnh viện 175 vừa cử các bác sĩ và nhân viên y tế sang Nam Sudan để tham gia lực lượng gìn giữ hòa bình của Liên Hiệp Quốc lần đầu tiên. Hoa Kỳ tự hào hợp tác cùng Việt Nam trong việc hỗ trợ an toàn, an ninh và nhân đạo ở Nam Sudan.\\n\\nAmbassador Kritenbrink and Consul General Tarnowka wished safe travels to Vietnam's Military Hospital 175, which just sent doctors and medical staff to South Sudan for its first-ever United Nations peacekeeping mission. The United States is proud to partner with Vietnam in providing safety, security, and humanitarian assistance in South Sudan.</td>\n      <td>added_photos</td>\n      <td>https://www.facebook.com/165419643537532/posts/1892689124143900/</td>\n    </tr>\n    <tr>\n      <th>2277</th>\n      <td>165419643537532_1886488894763923</td>\n      <td>Cùng thưởng thức bia thủ công Mỹ được sản xuất tại Việt Nam với Đại sứ Kritenbrink và Phó Tổng Lãnh sự Tim Liston. #CGTarnowka\\n\\nEnjoying American craft beer, brewed in Vietnam, with Ambassador Kritenbrink and Tim Liston. #CGTarnowka</td>\n      <td>added_photos</td>\n      <td>https://www.facebook.com/USConsulateHCMC/photos/a.179781728767990/1886488894763923/?type=3</td>\n    </tr>\n    <tr>\n      <th>2294</th>\n      <td>165419643537532_1877462752333204</td>\n      <td>Thay mặt Phái đoàn Ngoại giao Hoa Kỳ tại Việt Nam, tôi xin gửi lời chia buồn chân thành về việc Chủ tịch nước Trần Đại Quang từ trần. Chúng tôi xin bày tỏ lòng cảm thông tới gia đình ông và nhân dân Việt Nam vào thời khắc đau buồn này. Chủ tịch nước Trần Đại Quang là một người bạn của mối quan hệ Hoa Kỳ - Việt Nam. Sự tiếp đón của ông trong chuyến thăm lịch sử của Tổng thống Donald J. Trump tới Hà Nội vào tháng 11 năm 2017 đã giúp đưa mối Quan hệ Đối tác Toàn diện Hoa Kỳ - Việt Nam lên tầm cao mới trên cơ sở hiểu biết lẫn nhau, có lợi ích chung và mong muốn chung nhằm thúc đẩy hòa bình, hợp tác, thịnh vượng và an ninh trong khu vực Ấn Độ Dương - Thái Bình Dương.\\n\\nCùng với gia đình và bạn bè của ông cũng như nhân dân Việt Nam, chúng tôi trân trọng di sản ông để lại và bày tỏ lòng tiếc thương trước sự ra đi của ông.\\n\\nTrân trọng, \\nDaniel Kritenbrink\\n\\nOn behalf of the U.S. Mission in Vietnam, I would like to express our sincere condolences on the passing of President Tran Dai Quang. Our sympathies go out to his family and the people of Vietnam at this sad time. President Tran Dai Quang was a friend of the U.S.-Vietnam relationship. His hosting of President Donald J. Trump’s historic state visit to Hanoi in November 2017 helped advance the U.S.-Vietnam Comprehensive Partnership to new heights on the basis of mutual understanding, shared interests, and a common desire to promote peace, cooperation, prosperity, and security in the Indo-Pacific region.\\n\\nWe honor his legacy and mourn his loss alongside his family and our friends, the people of Vietnam.\\n\\nVery truly yours,\\nDaniel Kritenbrink</td>\n      <td>added_photos</td>\n      <td>https://www.facebook.com/USConsulateHCMC/photos/a.179781728767990/1877462752333204/?type=3</td>\n    </tr>\n    <tr>\n      <th>2303</th>\n      <td>165419643537532_1873399792739500</td>\n      <td>Đại sứ Kritenbrink đã đến tham quan các địa điểm diễn ra chương trình Thiên Thần Thái Bình Dương ở tỉnh Quảng Nam cuối tuần qua. Mỗi năm, chương trình Thiên Thần Thái Bình Dương quy tụ các nhân viên dân sự và quân sự đến từ Hoa Kỳ và 7 quốc gia đối tác ở khắp khu vực Ấn Độ Dương - Thái Bình Dương để hỗ trợ nhân đạo cho người dân Việt Nam. Chuơng trình Thiên Thần Thái Bình Dương là một trong nhiều hoạt động Hoa Kỳ thực hiện cùng Việt Nam cũng như các quốc gia và tổ chức khác để xây dựng năng lực và quan hệ đối tác trong khu vực Ấn Độ Dương - Thái Bình Dương.  \\n\\nAmbassador Kritenbrink visited the Pacific Angel sites in Quang Nam Province this weekend. Every year, Pacific Angel brings together civilian and military personnel from the United States and seven partners throughout the Indo-Pacific region to support humanitarian assistance to th‎e Vietnamese people. Pacific Angel is one of the many ways that the United States works together with Vietnam and other nations and organizations to build capacity and partnership in the Indo-Pacific region.</td>\n      <td>added_photos</td>\n      <td>https://www.facebook.com/165419643537532/posts/1873399792739500/</td>\n    </tr>\n    <tr>\n      <th>2841</th>\n      <td>165419643537532_1581788235233992</td>\n      <td>Sẽ diễn ra trong vòng 15' nữa, bạn đã sẵn sàng để gặp Đại sứ Hoa Kỳ Daniel j. Kritenbrink? #AmericanCenter</td>\n      <td>mobile_status_update</td>\n      <td>https://www.facebook.com/165419643537532/posts/1581788235233992/</td>\n    </tr>\n  </tbody>\n</table>\n<p>120 rows × 4 columns</p>\n</div>"
     },
     "metadata": {},
     "execution_count": 50
    }
   ],
   "source": [
    "amb_posts[amb_posts.columns[2:6]]"
   ]
  },
  {
   "cell_type": "code",
   "execution_count": 54,
   "metadata": {},
   "outputs": [],
   "source": [
    "amb_posts.to_excel(\"Amb posts until 20210404.xlsx\")"
   ]
  },
  {
   "cell_type": "code",
   "execution_count": 56,
   "metadata": {},
   "outputs": [],
   "source": [
    "cg_posts = df[df[\"message\"].str.contains(\"Tarnowka\", na=False)]"
   ]
  },
  {
   "cell_type": "code",
   "execution_count": 78,
   "metadata": {},
   "outputs": [
    {
     "output_type": "execute_result",
     "data": {
      "text/plain": [
       "      Unnamed: 0  Unnamed: 0.1              created_time  \\\n",
       "0              0             0  2021-04-04T02:15:00+0000   \n",
       "1              1             1  2021-04-03T12:48:00+0000   \n",
       "2              2             2  2021-04-02T12:34:00+0000   \n",
       "3              3             3  2021-04-02T08:53:25+0000   \n",
       "4              4             4  2021-04-02T07:38:53+0000   \n",
       "...          ...           ...                       ...   \n",
       "6523        6523          6523  2011-10-03T08:53:12+0000   \n",
       "6524        6524          6524  2011-09-30T15:05:30+0000   \n",
       "6525        6525          6525  2011-09-30T06:29:49+0000   \n",
       "6526        6526          6526  2011-09-28T03:15:16+0000   \n",
       "6527        6527          6527  2011-09-14T12:20:12+0000   \n",
       "\n",
       "                                    id  \\\n",
       "0     165419643537532_3859131857499607   \n",
       "1     165419643537532_3855602657852527   \n",
       "2     165419643537532_3859056144173845   \n",
       "3      165419643537532_505717244145146   \n",
       "4      165419643537532_218596766710290   \n",
       "...                                ...   \n",
       "6523   165419643537532_176095189136644   \n",
       "6524   165419643537532_175001792579317   \n",
       "6525   165419643537532_174882175924612   \n",
       "6526   165419643537532_174031516009678   \n",
       "6527   165419643537532_168350943244402   \n",
       "\n",
       "                                                message           status_type  \\\n",
       "0     ⚡️ 𝐂𝐚̣̂𝐩 𝐧𝐡𝐚̣̂𝐭 𝐯𝐞̂̀ 𝐭𝐡𝐢̣ 𝐭𝐡𝐮̛̣𝐜 𝐤𝐡𝐨̂𝐧𝐠 đ𝐢̣𝐧𝐡 ...          added_photos   \n",
       "1     💡 𝐓𝐢𝐩 𝐨𝐟 𝐭𝐡𝐞 𝐖𝐞𝐞𝐤: This month’s American Citiz...          added_photos   \n",
       "2     🇺🇸🤝🇻🇳 Bộ trưởng Bộ Y tế Nguyễn Thanh Long và Đ...          added_photos   \n",
       "3                                                   NaN         created_event   \n",
       "4                                                   NaN         created_event   \n",
       "...                                                 ...                   ...   \n",
       "6523  On September 23, to mark a World Heart Day and...          added_photos   \n",
       "6524                                                NaN          added_photos   \n",
       "6525                                                NaN          added_photos   \n",
       "6526  The American Center - Grand Opening September ...  mobile_status_update   \n",
       "6527                                                NaN          added_photos   \n",
       "\n",
       "                                          permalink_url  \\\n",
       "0     https://www.facebook.com/165419643537532/posts...   \n",
       "1     https://www.facebook.com/165419643537532/posts...   \n",
       "2     https://www.facebook.com/165419643537532/posts...   \n",
       "3      https://www.facebook.com/events/505717244145146/   \n",
       "4      https://www.facebook.com/events/218596766710290/   \n",
       "...                                                 ...   \n",
       "6523  https://www.facebook.com/USConsulateHCMC/photo...   \n",
       "6524  https://www.facebook.com/USConsulateHCMC/photo...   \n",
       "6525  https://www.facebook.com/USConsulateHCMC/photo...   \n",
       "6526  https://www.facebook.com/165419643537532/posts...   \n",
       "6527  https://www.facebook.com/USConsulateHCMC/photo...   \n",
       "\n",
       "                                           full_picture message_tags  likes  \\\n",
       "0     https://scontent.fsgn2-4.fna.fbcdn.net/v/t1.64...           []  294.0   \n",
       "1     https://scontent.fsgn2-2.fna.fbcdn.net/v/t1.64...           []   40.0   \n",
       "2     https://scontent.fsgn2-3.fna.fbcdn.net/v/t1.64...          NaN  288.0   \n",
       "3     https://scontent.fsgn2-3.fna.fbcdn.net/v/t1.64...          NaN    0.0   \n",
       "4     https://scontent.fsgn2-5.fna.fbcdn.net/v/t1.64...          NaN    0.0   \n",
       "...                                                 ...          ...    ...   \n",
       "6523  https://scontent.fsgn2-5.fna.fbcdn.net/v/t1.18...          NaN    0.0   \n",
       "6524  https://scontent.fsgn2-2.fna.fbcdn.net/v/t1.18...          NaN    0.0   \n",
       "6525  https://scontent.fsgn2-3.fna.fbcdn.net/v/t1.18...          NaN    0.0   \n",
       "6526                                                NaN          NaN    0.0   \n",
       "6527  https://scontent.fsgn2-3.fna.fbcdn.net/v/t1.18...          NaN    0.0   \n",
       "\n",
       "      anger  shares  \n",
       "0       0.0    37.0  \n",
       "1       0.0     7.0  \n",
       "2       0.0    12.0  \n",
       "3       0.0     NaN  \n",
       "4       0.0     NaN  \n",
       "...     ...     ...  \n",
       "6523    0.0     NaN  \n",
       "6524    0.0     NaN  \n",
       "6525    0.0     NaN  \n",
       "6526    0.0     NaN  \n",
       "6527    0.0     NaN  \n",
       "\n",
       "[6528 rows x 12 columns]"
      ],
      "text/html": "<div>\n<style scoped>\n    .dataframe tbody tr th:only-of-type {\n        vertical-align: middle;\n    }\n\n    .dataframe tbody tr th {\n        vertical-align: top;\n    }\n\n    .dataframe thead th {\n        text-align: right;\n    }\n</style>\n<table border=\"1\" class=\"dataframe\">\n  <thead>\n    <tr style=\"text-align: right;\">\n      <th></th>\n      <th>Unnamed: 0</th>\n      <th>Unnamed: 0.1</th>\n      <th>created_time</th>\n      <th>id</th>\n      <th>message</th>\n      <th>status_type</th>\n      <th>permalink_url</th>\n      <th>full_picture</th>\n      <th>message_tags</th>\n      <th>likes</th>\n      <th>anger</th>\n      <th>shares</th>\n    </tr>\n  </thead>\n  <tbody>\n    <tr>\n      <th>0</th>\n      <td>0</td>\n      <td>0</td>\n      <td>2021-04-04T02:15:00+0000</td>\n      <td>165419643537532_3859131857499607</td>\n      <td>⚡️ 𝐂𝐚̣̂𝐩 𝐧𝐡𝐚̣̂𝐭 𝐯𝐞̂̀ 𝐭𝐡𝐢̣ 𝐭𝐡𝐮̛̣𝐜 𝐤𝐡𝐨̂𝐧𝐠 đ𝐢̣𝐧𝐡 ...</td>\n      <td>added_photos</td>\n      <td>https://www.facebook.com/165419643537532/posts...</td>\n      <td>https://scontent.fsgn2-4.fna.fbcdn.net/v/t1.64...</td>\n      <td>[]</td>\n      <td>294.0</td>\n      <td>0.0</td>\n      <td>37.0</td>\n    </tr>\n    <tr>\n      <th>1</th>\n      <td>1</td>\n      <td>1</td>\n      <td>2021-04-03T12:48:00+0000</td>\n      <td>165419643537532_3855602657852527</td>\n      <td>💡 𝐓𝐢𝐩 𝐨𝐟 𝐭𝐡𝐞 𝐖𝐞𝐞𝐤: This month’s American Citiz...</td>\n      <td>added_photos</td>\n      <td>https://www.facebook.com/165419643537532/posts...</td>\n      <td>https://scontent.fsgn2-2.fna.fbcdn.net/v/t1.64...</td>\n      <td>[]</td>\n      <td>40.0</td>\n      <td>0.0</td>\n      <td>7.0</td>\n    </tr>\n    <tr>\n      <th>2</th>\n      <td>2</td>\n      <td>2</td>\n      <td>2021-04-02T12:34:00+0000</td>\n      <td>165419643537532_3859056144173845</td>\n      <td>🇺🇸🤝🇻🇳 Bộ trưởng Bộ Y tế Nguyễn Thanh Long và Đ...</td>\n      <td>added_photos</td>\n      <td>https://www.facebook.com/165419643537532/posts...</td>\n      <td>https://scontent.fsgn2-3.fna.fbcdn.net/v/t1.64...</td>\n      <td>NaN</td>\n      <td>288.0</td>\n      <td>0.0</td>\n      <td>12.0</td>\n    </tr>\n    <tr>\n      <th>3</th>\n      <td>3</td>\n      <td>3</td>\n      <td>2021-04-02T08:53:25+0000</td>\n      <td>165419643537532_505717244145146</td>\n      <td>NaN</td>\n      <td>created_event</td>\n      <td>https://www.facebook.com/events/505717244145146/</td>\n      <td>https://scontent.fsgn2-3.fna.fbcdn.net/v/t1.64...</td>\n      <td>NaN</td>\n      <td>0.0</td>\n      <td>0.0</td>\n      <td>NaN</td>\n    </tr>\n    <tr>\n      <th>4</th>\n      <td>4</td>\n      <td>4</td>\n      <td>2021-04-02T07:38:53+0000</td>\n      <td>165419643537532_218596766710290</td>\n      <td>NaN</td>\n      <td>created_event</td>\n      <td>https://www.facebook.com/events/218596766710290/</td>\n      <td>https://scontent.fsgn2-5.fna.fbcdn.net/v/t1.64...</td>\n      <td>NaN</td>\n      <td>0.0</td>\n      <td>0.0</td>\n      <td>NaN</td>\n    </tr>\n    <tr>\n      <th>...</th>\n      <td>...</td>\n      <td>...</td>\n      <td>...</td>\n      <td>...</td>\n      <td>...</td>\n      <td>...</td>\n      <td>...</td>\n      <td>...</td>\n      <td>...</td>\n      <td>...</td>\n      <td>...</td>\n      <td>...</td>\n    </tr>\n    <tr>\n      <th>6523</th>\n      <td>6523</td>\n      <td>6523</td>\n      <td>2011-10-03T08:53:12+0000</td>\n      <td>165419643537532_176095189136644</td>\n      <td>On September 23, to mark a World Heart Day and...</td>\n      <td>added_photos</td>\n      <td>https://www.facebook.com/USConsulateHCMC/photo...</td>\n      <td>https://scontent.fsgn2-5.fna.fbcdn.net/v/t1.18...</td>\n      <td>NaN</td>\n      <td>0.0</td>\n      <td>0.0</td>\n      <td>NaN</td>\n    </tr>\n    <tr>\n      <th>6524</th>\n      <td>6524</td>\n      <td>6524</td>\n      <td>2011-09-30T15:05:30+0000</td>\n      <td>165419643537532_175001792579317</td>\n      <td>NaN</td>\n      <td>added_photos</td>\n      <td>https://www.facebook.com/USConsulateHCMC/photo...</td>\n      <td>https://scontent.fsgn2-2.fna.fbcdn.net/v/t1.18...</td>\n      <td>NaN</td>\n      <td>0.0</td>\n      <td>0.0</td>\n      <td>NaN</td>\n    </tr>\n    <tr>\n      <th>6525</th>\n      <td>6525</td>\n      <td>6525</td>\n      <td>2011-09-30T06:29:49+0000</td>\n      <td>165419643537532_174882175924612</td>\n      <td>NaN</td>\n      <td>added_photos</td>\n      <td>https://www.facebook.com/USConsulateHCMC/photo...</td>\n      <td>https://scontent.fsgn2-3.fna.fbcdn.net/v/t1.18...</td>\n      <td>NaN</td>\n      <td>0.0</td>\n      <td>0.0</td>\n      <td>NaN</td>\n    </tr>\n    <tr>\n      <th>6526</th>\n      <td>6526</td>\n      <td>6526</td>\n      <td>2011-09-28T03:15:16+0000</td>\n      <td>165419643537532_174031516009678</td>\n      <td>The American Center - Grand Opening September ...</td>\n      <td>mobile_status_update</td>\n      <td>https://www.facebook.com/165419643537532/posts...</td>\n      <td>NaN</td>\n      <td>NaN</td>\n      <td>0.0</td>\n      <td>0.0</td>\n      <td>NaN</td>\n    </tr>\n    <tr>\n      <th>6527</th>\n      <td>6527</td>\n      <td>6527</td>\n      <td>2011-09-14T12:20:12+0000</td>\n      <td>165419643537532_168350943244402</td>\n      <td>NaN</td>\n      <td>added_photos</td>\n      <td>https://www.facebook.com/USConsulateHCMC/photo...</td>\n      <td>https://scontent.fsgn2-3.fna.fbcdn.net/v/t1.18...</td>\n      <td>NaN</td>\n      <td>0.0</td>\n      <td>0.0</td>\n      <td>NaN</td>\n    </tr>\n  </tbody>\n</table>\n<p>6528 rows × 12 columns</p>\n</div>"
     },
     "metadata": {},
     "execution_count": 78
    }
   ],
   "source": [
    "df"
   ]
  },
  {
   "cell_type": "code",
   "execution_count": 43,
   "metadata": {},
   "outputs": [
    {
     "output_type": "execute_result",
     "data": {
      "text/plain": [
       "{'id': '165419643537532_175001792579317'}"
      ]
     },
     "metadata": {},
     "execution_count": 43
    }
   ],
   "source": [
    "likes1 = graph.get_object(id=\"165419643537532_175001792579317\", fields = \"shares\")\n",
    "likes1"
   ]
  },
  {
   "cell_type": "code",
   "execution_count": 44,
   "metadata": {},
   "outputs": [
    {
     "output_type": "execute_result",
     "data": {
      "text/plain": [
       "1"
      ]
     },
     "metadata": {},
     "execution_count": 44
    }
   ],
   "source": [
    "len(likes1)"
   ]
  },
  {
   "cell_type": "code",
   "execution_count": 143,
   "metadata": {},
   "outputs": [
    {
     "output_type": "execute_result",
     "data": {
      "text/plain": [
       "[{'message': 'Are you opened on Saturday?', 'id': '168348963244600_863888'},\n",
       " {'message': 'Toèn lè gà nhà lai lè seo?', 'id': '168348963244600_864205'},\n",
       " {'message': 'chiu hog noi chi Linh,hehe, xi tin language wa di, 24 like roi`, con1  cai nua:P',\n",
       "  'id': '168348963244600_864256'},\n",
       " {'message': 'Congratulations and keep it going.....',\n",
       "  'id': '168348963244600_864320'}]"
      ]
     },
     "metadata": {},
     "execution_count": 143
    }
   ],
   "source": [
    "likes1 = graph.get_connections(id=\"165419643537532_168350943244402\", connection_name = \"comments\", fields = \"message, total_count\")\n",
    "likes1[\"data\"]"
   ]
  },
  {
   "cell_type": "code",
   "execution_count": 144,
   "metadata": {},
   "outputs": [
    {
     "output_type": "execute_result",
     "data": {
      "text/plain": [
       "[{'message': 'Dear Chi Linh and all,', 'id': '174880212591475_926952'},\n",
       " {'message': 'I was happy to join in the Grand Opening of American Center. I think that it will be a very good place for Vietnamese people.',\n",
       "  'id': '174880212591475_926954'},\n",
       " {'message': 'Excuse me, I would like to know the functions of The American Center - HCM city. Anyone can tell me about this ?',\n",
       "  'id': '174880212591475_931494'},\n",
       " {'message': 'Please check our website for more information',\n",
       "  'id': '174880212591475_931563'},\n",
       " {'message': 'http://hochiminh.usconsulate.gov/achcmc.html',\n",
       "  'id': '174880212591475_931564'},\n",
       " {'message': \"What a nice place! I'd love to visit!\",\n",
       "  'id': '174880212591475_938767'},\n",
       " {'message': 'OMG. so beautiful!', 'id': '174880212591475_938865'}]"
      ]
     },
     "metadata": {},
     "execution_count": 144
    }
   ],
   "source": [
    "likes1 = graph.get_connections(id=\"165419643537532_175001792579317\", connection_name = \"comments\", fields = \"message\")\n",
    "likes1[\"data\"]"
   ]
  },
  {
   "cell_type": "code",
   "execution_count": 163,
   "metadata": {},
   "outputs": [
    {
     "output_type": "execute_result",
     "data": {
      "text/plain": [
       "{'share': 4, 'like': 56, 'comment': 2}"
      ]
     },
     "metadata": {},
     "execution_count": 163
    }
   ],
   "source": [
    "likes1 = graph.get_connections(id = \"165419643537532_3907197182693074\", connection_name='insights',metric='post_activity_by_action_type', date_preset='yesterday', period='lifetime', show_description_from_api_doc=False)\n",
    "likes1['data'][0]['values'][0]['value']"
   ]
  },
  {
   "cell_type": "code",
   "execution_count": 29,
   "metadata": {},
   "outputs": [],
   "source": [
    "df[\"shares\"] = \"\""
   ]
  },
  {
   "cell_type": "code",
   "execution_count": 51,
   "metadata": {},
   "outputs": [],
   "source": [
    "df[\"shares\"] = df.apply(get_share, axis = 1)"
   ]
  },
  {
   "cell_type": "code",
   "execution_count": 56,
   "metadata": {},
   "outputs": [
    {
     "output_type": "execute_result",
     "data": {
      "text/plain": [
       "      Unnamed: 0  Unnamed: 0.1              created_time  \\\n",
       "2535        2535          2535  2018-06-13T07:06:00+0000   \n",
       "1876        1876          1876  2019-05-17T02:00:00+0000   \n",
       "2537        2537          2537  2018-06-11T09:20:37+0000   \n",
       "983          983           983  2020-06-14T03:09:00+0000   \n",
       "2773        2773          2773  2018-03-07T12:44:29+0000   \n",
       "...          ...           ...                       ...   \n",
       "6523        6523          6523  2011-10-03T08:53:12+0000   \n",
       "6524        6524          6524  2011-09-30T15:05:30+0000   \n",
       "6525        6525          6525  2011-09-30T06:29:49+0000   \n",
       "6526        6526          6526  2011-09-28T03:15:16+0000   \n",
       "6527        6527          6527  2011-09-14T12:20:12+0000   \n",
       "\n",
       "                                    id  \\\n",
       "2535  165419643537532_1727603287319152   \n",
       "1876  165419643537532_2222665171146292   \n",
       "2537  165419643537532_1725432784202869   \n",
       "983   165419643537532_3042479769164824   \n",
       "2773  165419643537532_1630926513653497   \n",
       "...                                ...   \n",
       "6523   165419643537532_176095189136644   \n",
       "6524   165419643537532_175001792579317   \n",
       "6525   165419643537532_174882175924612   \n",
       "6526   165419643537532_174031516009678   \n",
       "6527   165419643537532_168350943244402   \n",
       "\n",
       "                                                message           status_type  \\\n",
       "2535  Chúng tôi thất vọng trước việc Việt Nam thông ...          added_photos   \n",
       "1876  Ngoại Giao Đoàn Hoa Kỳ tại Việt Nam mở đợt tuy...          added_photos   \n",
       "2537  [TUYÊN BỐ CỦA ĐẠI SỨ QUÁN HOA KỲ TẠI VIỆT NAM]...  mobile_status_update   \n",
       "983   🦁 Bạn có phải là người hâm mộ phim Vua Sư Tử? ...           added_video   \n",
       "2773                          7th Fleet Band in Danang!           added_video   \n",
       "...                                                 ...                   ...   \n",
       "6523  On September 23, to mark a World Heart Day and...          added_photos   \n",
       "6524                                                NaN          added_photos   \n",
       "6525                                                NaN          added_photos   \n",
       "6526  The American Center - Grand Opening September ...  mobile_status_update   \n",
       "6527                                                NaN          added_photos   \n",
       "\n",
       "                                          permalink_url  \\\n",
       "2535  https://www.facebook.com/165419643537532/posts...   \n",
       "1876  https://www.facebook.com/165419643537532/posts...   \n",
       "2537  https://www.facebook.com/165419643537532/posts...   \n",
       "983   https://www.facebook.com/165419643537532/posts...   \n",
       "2773  https://www.facebook.com/USConsulateHCMC/video...   \n",
       "...                                                 ...   \n",
       "6523  https://www.facebook.com/USConsulateHCMC/photo...   \n",
       "6524  https://www.facebook.com/USConsulateHCMC/photo...   \n",
       "6525  https://www.facebook.com/USConsulateHCMC/photo...   \n",
       "6526  https://www.facebook.com/165419643537532/posts...   \n",
       "6527  https://www.facebook.com/USConsulateHCMC/photo...   \n",
       "\n",
       "                                           full_picture  \\\n",
       "2535  https://scontent.fsgn2-5.fna.fbcdn.net/v/t1.64...   \n",
       "1876  https://scontent.fsgn2-5.fna.fbcdn.net/v/t1.64...   \n",
       "2537                                                NaN   \n",
       "983   https://scontent.fsgn2-2.fna.fbcdn.net/v/t15.5...   \n",
       "2773  https://scontent.fsgn2-4.fna.fbcdn.net/v/t15.5...   \n",
       "...                                                 ...   \n",
       "6523  https://scontent.fsgn2-5.fna.fbcdn.net/v/t1.18...   \n",
       "6524  https://scontent.fsgn2-2.fna.fbcdn.net/v/t1.18...   \n",
       "6525  https://scontent.fsgn2-3.fna.fbcdn.net/v/t1.18...   \n",
       "6526                                                NaN   \n",
       "6527  https://scontent.fsgn2-3.fna.fbcdn.net/v/t1.18...   \n",
       "\n",
       "                                           message_tags    likes  anger  \\\n",
       "2535                                                NaN      2.0    0.0   \n",
       "1876                                                 []   5988.0    1.0   \n",
       "2537                                                NaN      0.0    0.0   \n",
       "983   [{'id': '211146183395', 'name': 'United States...  15359.0    2.0   \n",
       "2773                                                NaN   8370.0   23.0   \n",
       "...                                                 ...      ...    ...   \n",
       "6523                                                NaN      0.0    0.0   \n",
       "6524                                                NaN      0.0    0.0   \n",
       "6525                                                NaN      0.0    0.0   \n",
       "6526                                                NaN      0.0    0.0   \n",
       "6527                                                NaN      0.0    0.0   \n",
       "\n",
       "      shares  \n",
       "2535  1926.0  \n",
       "1876  1682.0  \n",
       "2537  1343.0  \n",
       "983   1337.0  \n",
       "2773  1145.0  \n",
       "...      ...  \n",
       "6523     NaN  \n",
       "6524     NaN  \n",
       "6525     NaN  \n",
       "6526     NaN  \n",
       "6527     NaN  \n",
       "\n",
       "[6528 rows x 12 columns]"
      ],
      "text/html": "<div>\n<style scoped>\n    .dataframe tbody tr th:only-of-type {\n        vertical-align: middle;\n    }\n\n    .dataframe tbody tr th {\n        vertical-align: top;\n    }\n\n    .dataframe thead th {\n        text-align: right;\n    }\n</style>\n<table border=\"1\" class=\"dataframe\">\n  <thead>\n    <tr style=\"text-align: right;\">\n      <th></th>\n      <th>Unnamed: 0</th>\n      <th>Unnamed: 0.1</th>\n      <th>created_time</th>\n      <th>id</th>\n      <th>message</th>\n      <th>status_type</th>\n      <th>permalink_url</th>\n      <th>full_picture</th>\n      <th>message_tags</th>\n      <th>likes</th>\n      <th>anger</th>\n      <th>shares</th>\n    </tr>\n  </thead>\n  <tbody>\n    <tr>\n      <th>2535</th>\n      <td>2535</td>\n      <td>2535</td>\n      <td>2018-06-13T07:06:00+0000</td>\n      <td>165419643537532_1727603287319152</td>\n      <td>Chúng tôi thất vọng trước việc Việt Nam thông ...</td>\n      <td>added_photos</td>\n      <td>https://www.facebook.com/165419643537532/posts...</td>\n      <td>https://scontent.fsgn2-5.fna.fbcdn.net/v/t1.64...</td>\n      <td>NaN</td>\n      <td>2.0</td>\n      <td>0.0</td>\n      <td>1926.0</td>\n    </tr>\n    <tr>\n      <th>1876</th>\n      <td>1876</td>\n      <td>1876</td>\n      <td>2019-05-17T02:00:00+0000</td>\n      <td>165419643537532_2222665171146292</td>\n      <td>Ngoại Giao Đoàn Hoa Kỳ tại Việt Nam mở đợt tuy...</td>\n      <td>added_photos</td>\n      <td>https://www.facebook.com/165419643537532/posts...</td>\n      <td>https://scontent.fsgn2-5.fna.fbcdn.net/v/t1.64...</td>\n      <td>[]</td>\n      <td>5988.0</td>\n      <td>1.0</td>\n      <td>1682.0</td>\n    </tr>\n    <tr>\n      <th>2537</th>\n      <td>2537</td>\n      <td>2537</td>\n      <td>2018-06-11T09:20:37+0000</td>\n      <td>165419643537532_1725432784202869</td>\n      <td>[TUYÊN BỐ CỦA ĐẠI SỨ QUÁN HOA KỲ TẠI VIỆT NAM]...</td>\n      <td>mobile_status_update</td>\n      <td>https://www.facebook.com/165419643537532/posts...</td>\n      <td>NaN</td>\n      <td>NaN</td>\n      <td>0.0</td>\n      <td>0.0</td>\n      <td>1343.0</td>\n    </tr>\n    <tr>\n      <th>983</th>\n      <td>983</td>\n      <td>983</td>\n      <td>2020-06-14T03:09:00+0000</td>\n      <td>165419643537532_3042479769164824</td>\n      <td>🦁 Bạn có phải là người hâm mộ phim Vua Sư Tử? ...</td>\n      <td>added_video</td>\n      <td>https://www.facebook.com/165419643537532/posts...</td>\n      <td>https://scontent.fsgn2-2.fna.fbcdn.net/v/t15.5...</td>\n      <td>[{'id': '211146183395', 'name': 'United States...</td>\n      <td>15359.0</td>\n      <td>2.0</td>\n      <td>1337.0</td>\n    </tr>\n    <tr>\n      <th>2773</th>\n      <td>2773</td>\n      <td>2773</td>\n      <td>2018-03-07T12:44:29+0000</td>\n      <td>165419643537532_1630926513653497</td>\n      <td>7th Fleet Band in Danang!</td>\n      <td>added_video</td>\n      <td>https://www.facebook.com/USConsulateHCMC/video...</td>\n      <td>https://scontent.fsgn2-4.fna.fbcdn.net/v/t15.5...</td>\n      <td>NaN</td>\n      <td>8370.0</td>\n      <td>23.0</td>\n      <td>1145.0</td>\n    </tr>\n    <tr>\n      <th>...</th>\n      <td>...</td>\n      <td>...</td>\n      <td>...</td>\n      <td>...</td>\n      <td>...</td>\n      <td>...</td>\n      <td>...</td>\n      <td>...</td>\n      <td>...</td>\n      <td>...</td>\n      <td>...</td>\n      <td>...</td>\n    </tr>\n    <tr>\n      <th>6523</th>\n      <td>6523</td>\n      <td>6523</td>\n      <td>2011-10-03T08:53:12+0000</td>\n      <td>165419643537532_176095189136644</td>\n      <td>On September 23, to mark a World Heart Day and...</td>\n      <td>added_photos</td>\n      <td>https://www.facebook.com/USConsulateHCMC/photo...</td>\n      <td>https://scontent.fsgn2-5.fna.fbcdn.net/v/t1.18...</td>\n      <td>NaN</td>\n      <td>0.0</td>\n      <td>0.0</td>\n      <td>NaN</td>\n    </tr>\n    <tr>\n      <th>6524</th>\n      <td>6524</td>\n      <td>6524</td>\n      <td>2011-09-30T15:05:30+0000</td>\n      <td>165419643537532_175001792579317</td>\n      <td>NaN</td>\n      <td>added_photos</td>\n      <td>https://www.facebook.com/USConsulateHCMC/photo...</td>\n      <td>https://scontent.fsgn2-2.fna.fbcdn.net/v/t1.18...</td>\n      <td>NaN</td>\n      <td>0.0</td>\n      <td>0.0</td>\n      <td>NaN</td>\n    </tr>\n    <tr>\n      <th>6525</th>\n      <td>6525</td>\n      <td>6525</td>\n      <td>2011-09-30T06:29:49+0000</td>\n      <td>165419643537532_174882175924612</td>\n      <td>NaN</td>\n      <td>added_photos</td>\n      <td>https://www.facebook.com/USConsulateHCMC/photo...</td>\n      <td>https://scontent.fsgn2-3.fna.fbcdn.net/v/t1.18...</td>\n      <td>NaN</td>\n      <td>0.0</td>\n      <td>0.0</td>\n      <td>NaN</td>\n    </tr>\n    <tr>\n      <th>6526</th>\n      <td>6526</td>\n      <td>6526</td>\n      <td>2011-09-28T03:15:16+0000</td>\n      <td>165419643537532_174031516009678</td>\n      <td>The American Center - Grand Opening September ...</td>\n      <td>mobile_status_update</td>\n      <td>https://www.facebook.com/165419643537532/posts...</td>\n      <td>NaN</td>\n      <td>NaN</td>\n      <td>0.0</td>\n      <td>0.0</td>\n      <td>NaN</td>\n    </tr>\n    <tr>\n      <th>6527</th>\n      <td>6527</td>\n      <td>6527</td>\n      <td>2011-09-14T12:20:12+0000</td>\n      <td>165419643537532_168350943244402</td>\n      <td>NaN</td>\n      <td>added_photos</td>\n      <td>https://www.facebook.com/USConsulateHCMC/photo...</td>\n      <td>https://scontent.fsgn2-3.fna.fbcdn.net/v/t1.18...</td>\n      <td>NaN</td>\n      <td>0.0</td>\n      <td>0.0</td>\n      <td>NaN</td>\n    </tr>\n  </tbody>\n</table>\n<p>6528 rows × 12 columns</p>\n</div>"
     },
     "metadata": {},
     "execution_count": 56
    }
   ],
   "source": [
    "df.sort_values(by=['shares'], ascending=False)"
   ]
  },
  {
   "cell_type": "code",
   "execution_count": null,
   "metadata": {},
   "outputs": [],
   "source": []
  },
  {
   "cell_type": "code",
   "execution_count": 63,
   "metadata": {},
   "outputs": [
    {
     "output_type": "execute_result",
     "data": {
      "text/plain": [
       "      Unnamed: 0  Unnamed: 0.1              created_time  \\\n",
       "5              5             5  2021-04-02T02:58:50+0000   \n",
       "12            12            12  2021-03-31T14:00:07+0000   \n",
       "17            17            17  2021-03-31T02:33:15+0000   \n",
       "24            24            24  2021-03-29T03:03:46+0000   \n",
       "33            33            33  2021-03-24T14:00:17+0000   \n",
       "...          ...           ...                       ...   \n",
       "4559        4559          4559  2014-05-31T12:38:17+0000   \n",
       "4602        4602          4602  2014-04-29T15:14:41+0000   \n",
       "5517        5517          5517  2013-02-19T04:13:34+0000   \n",
       "6486        6486          6486  2011-10-28T08:42:00+0000   \n",
       "6522        6522          6522  2011-10-04T03:56:22+0000   \n",
       "\n",
       "                                    id  \\\n",
       "5     165419643537532_3800102960037679   \n",
       "12     165419643537532_475554033759018   \n",
       "17     165419643537532_859327421591591   \n",
       "24     165419643537532_256543339470601   \n",
       "33     165419643537532_456105862376490   \n",
       "...                                ...   \n",
       "4559   165419643537532_647906755288816   \n",
       "4602   165419643537532_631309013615257   \n",
       "5517   165419643537532_131044657068301   \n",
       "6486   165419643537532_128334003941429   \n",
       "6522   165419643537532_117417895033040   \n",
       "\n",
       "                                                message  status_type  \\\n",
       "5     Live stream: Chinh phục Học bổng Fulbright ngà...  added_video   \n",
       "12    Chào mừng đến với Phần 2 | Tập 3 của ACTV 📺!\\n...  added_video   \n",
       "17    Làm cách nào để hồ sơ xét tuyển ngành nghệ thu...  added_video   \n",
       "24    Live stream: Chinh phục Học bổng Thạc sỹ Fulbr...  added_video   \n",
       "33    Chào mừng đến với Phần 2 | Tập 2 của ACTV 📺!\\n...  added_video   \n",
       "...                                                 ...          ...   \n",
       "4559  Tiết mục đặc biệt nhất của chương trình đạp xe...  added_video   \n",
       "4602  Cám ơn các bạn đã đến tham dự và biểu diễn rất...  added_video   \n",
       "5517                                                NaN  added_video   \n",
       "6486                                                NaN  added_video   \n",
       "6522                                                NaN  added_video   \n",
       "\n",
       "                                          permalink_url  \\\n",
       "5     https://www.facebook.com/USConsulateHCMC/video...   \n",
       "12    https://www.facebook.com/USConsulateHCMC/video...   \n",
       "17    https://www.facebook.com/USConsulateHCMC/video...   \n",
       "24    https://www.facebook.com/USConsulateHCMC/video...   \n",
       "33    https://www.facebook.com/USConsulateHCMC/video...   \n",
       "...                                                 ...   \n",
       "4559  https://www.facebook.com/USConsulateHCMC/video...   \n",
       "4602  https://www.facebook.com/USConsulateHCMC/video...   \n",
       "5517  https://www.facebook.com/USConsulateHCMC/video...   \n",
       "6486  https://www.facebook.com/USConsulateHCMC/video...   \n",
       "6522  https://www.facebook.com/USConsulateHCMC/video...   \n",
       "\n",
       "                                           full_picture  \\\n",
       "5     https://scontent.fsgn2-1.fna.fbcdn.net/v/t15.5...   \n",
       "12    https://scontent.fsgn2-4.fna.fbcdn.net/v/t15.5...   \n",
       "17    https://scontent.fsgn2-2.fna.fbcdn.net/v/t15.1...   \n",
       "24    https://scontent.fsgn2-4.fna.fbcdn.net/v/t15.5...   \n",
       "33    https://scontent.fsgn2-5.fna.fbcdn.net/v/t15.5...   \n",
       "...                                                 ...   \n",
       "4559  https://scontent.fsgn2-3.fna.fbcdn.net/v/t15.0...   \n",
       "4602  https://scontent.fsgn2-1.fna.fbcdn.net/v/t15.0...   \n",
       "5517  https://scontent.fsgn2-5.fna.fbcdn.net/v/t15.0...   \n",
       "6486  https://scontent.fsgn2-1.fna.fbcdn.net/v/t15.0...   \n",
       "6522  https://scontent.fsgn2-4.fna.fbcdn.net/v/t15.0...   \n",
       "\n",
       "                                           message_tags  likes  anger  shares  \n",
       "5                                                   NaN  102.0    1.0    27.0  \n",
       "12    [{'id': '612012588812093', 'name': '#WomensHis...  145.0    0.0    25.0  \n",
       "17                                                  NaN  139.0    0.0    14.0  \n",
       "24                                                  NaN   83.0    0.0    34.0  \n",
       "33    [{'id': '476121152450504', 'name': '#esports',...  219.0    0.0    26.0  \n",
       "...                                                 ...    ...    ...     ...  \n",
       "4559                                                NaN    0.0    0.0    16.0  \n",
       "4602                                                NaN    0.0    0.0    11.0  \n",
       "5517                                                NaN    0.0    0.0     4.0  \n",
       "6486                                                NaN    0.0    0.0     5.0  \n",
       "6522                                                NaN    0.0    0.0     1.0  \n",
       "\n",
       "[384 rows x 12 columns]"
      ],
      "text/html": "<div>\n<style scoped>\n    .dataframe tbody tr th:only-of-type {\n        vertical-align: middle;\n    }\n\n    .dataframe tbody tr th {\n        vertical-align: top;\n    }\n\n    .dataframe thead th {\n        text-align: right;\n    }\n</style>\n<table border=\"1\" class=\"dataframe\">\n  <thead>\n    <tr style=\"text-align: right;\">\n      <th></th>\n      <th>Unnamed: 0</th>\n      <th>Unnamed: 0.1</th>\n      <th>created_time</th>\n      <th>id</th>\n      <th>message</th>\n      <th>status_type</th>\n      <th>permalink_url</th>\n      <th>full_picture</th>\n      <th>message_tags</th>\n      <th>likes</th>\n      <th>anger</th>\n      <th>shares</th>\n    </tr>\n  </thead>\n  <tbody>\n    <tr>\n      <th>5</th>\n      <td>5</td>\n      <td>5</td>\n      <td>2021-04-02T02:58:50+0000</td>\n      <td>165419643537532_3800102960037679</td>\n      <td>Live stream: Chinh phục Học bổng Fulbright ngà...</td>\n      <td>added_video</td>\n      <td>https://www.facebook.com/USConsulateHCMC/video...</td>\n      <td>https://scontent.fsgn2-1.fna.fbcdn.net/v/t15.5...</td>\n      <td>NaN</td>\n      <td>102.0</td>\n      <td>1.0</td>\n      <td>27.0</td>\n    </tr>\n    <tr>\n      <th>12</th>\n      <td>12</td>\n      <td>12</td>\n      <td>2021-03-31T14:00:07+0000</td>\n      <td>165419643537532_475554033759018</td>\n      <td>Chào mừng đến với Phần 2 | Tập 3 của ACTV 📺!\\n...</td>\n      <td>added_video</td>\n      <td>https://www.facebook.com/USConsulateHCMC/video...</td>\n      <td>https://scontent.fsgn2-4.fna.fbcdn.net/v/t15.5...</td>\n      <td>[{'id': '612012588812093', 'name': '#WomensHis...</td>\n      <td>145.0</td>\n      <td>0.0</td>\n      <td>25.0</td>\n    </tr>\n    <tr>\n      <th>17</th>\n      <td>17</td>\n      <td>17</td>\n      <td>2021-03-31T02:33:15+0000</td>\n      <td>165419643537532_859327421591591</td>\n      <td>Làm cách nào để hồ sơ xét tuyển ngành nghệ thu...</td>\n      <td>added_video</td>\n      <td>https://www.facebook.com/USConsulateHCMC/video...</td>\n      <td>https://scontent.fsgn2-2.fna.fbcdn.net/v/t15.1...</td>\n      <td>NaN</td>\n      <td>139.0</td>\n      <td>0.0</td>\n      <td>14.0</td>\n    </tr>\n    <tr>\n      <th>24</th>\n      <td>24</td>\n      <td>24</td>\n      <td>2021-03-29T03:03:46+0000</td>\n      <td>165419643537532_256543339470601</td>\n      <td>Live stream: Chinh phục Học bổng Thạc sỹ Fulbr...</td>\n      <td>added_video</td>\n      <td>https://www.facebook.com/USConsulateHCMC/video...</td>\n      <td>https://scontent.fsgn2-4.fna.fbcdn.net/v/t15.5...</td>\n      <td>NaN</td>\n      <td>83.0</td>\n      <td>0.0</td>\n      <td>34.0</td>\n    </tr>\n    <tr>\n      <th>33</th>\n      <td>33</td>\n      <td>33</td>\n      <td>2021-03-24T14:00:17+0000</td>\n      <td>165419643537532_456105862376490</td>\n      <td>Chào mừng đến với Phần 2 | Tập 2 của ACTV 📺!\\n...</td>\n      <td>added_video</td>\n      <td>https://www.facebook.com/USConsulateHCMC/video...</td>\n      <td>https://scontent.fsgn2-5.fna.fbcdn.net/v/t15.5...</td>\n      <td>[{'id': '476121152450504', 'name': '#esports',...</td>\n      <td>219.0</td>\n      <td>0.0</td>\n      <td>26.0</td>\n    </tr>\n    <tr>\n      <th>...</th>\n      <td>...</td>\n      <td>...</td>\n      <td>...</td>\n      <td>...</td>\n      <td>...</td>\n      <td>...</td>\n      <td>...</td>\n      <td>...</td>\n      <td>...</td>\n      <td>...</td>\n      <td>...</td>\n      <td>...</td>\n    </tr>\n    <tr>\n      <th>4559</th>\n      <td>4559</td>\n      <td>4559</td>\n      <td>2014-05-31T12:38:17+0000</td>\n      <td>165419643537532_647906755288816</td>\n      <td>Tiết mục đặc biệt nhất của chương trình đạp xe...</td>\n      <td>added_video</td>\n      <td>https://www.facebook.com/USConsulateHCMC/video...</td>\n      <td>https://scontent.fsgn2-3.fna.fbcdn.net/v/t15.0...</td>\n      <td>NaN</td>\n      <td>0.0</td>\n      <td>0.0</td>\n      <td>16.0</td>\n    </tr>\n    <tr>\n      <th>4602</th>\n      <td>4602</td>\n      <td>4602</td>\n      <td>2014-04-29T15:14:41+0000</td>\n      <td>165419643537532_631309013615257</td>\n      <td>Cám ơn các bạn đã đến tham dự và biểu diễn rất...</td>\n      <td>added_video</td>\n      <td>https://www.facebook.com/USConsulateHCMC/video...</td>\n      <td>https://scontent.fsgn2-1.fna.fbcdn.net/v/t15.0...</td>\n      <td>NaN</td>\n      <td>0.0</td>\n      <td>0.0</td>\n      <td>11.0</td>\n    </tr>\n    <tr>\n      <th>5517</th>\n      <td>5517</td>\n      <td>5517</td>\n      <td>2013-02-19T04:13:34+0000</td>\n      <td>165419643537532_131044657068301</td>\n      <td>NaN</td>\n      <td>added_video</td>\n      <td>https://www.facebook.com/USConsulateHCMC/video...</td>\n      <td>https://scontent.fsgn2-5.fna.fbcdn.net/v/t15.0...</td>\n      <td>NaN</td>\n      <td>0.0</td>\n      <td>0.0</td>\n      <td>4.0</td>\n    </tr>\n    <tr>\n      <th>6486</th>\n      <td>6486</td>\n      <td>6486</td>\n      <td>2011-10-28T08:42:00+0000</td>\n      <td>165419643537532_128334003941429</td>\n      <td>NaN</td>\n      <td>added_video</td>\n      <td>https://www.facebook.com/USConsulateHCMC/video...</td>\n      <td>https://scontent.fsgn2-1.fna.fbcdn.net/v/t15.0...</td>\n      <td>NaN</td>\n      <td>0.0</td>\n      <td>0.0</td>\n      <td>5.0</td>\n    </tr>\n    <tr>\n      <th>6522</th>\n      <td>6522</td>\n      <td>6522</td>\n      <td>2011-10-04T03:56:22+0000</td>\n      <td>165419643537532_117417895033040</td>\n      <td>NaN</td>\n      <td>added_video</td>\n      <td>https://www.facebook.com/USConsulateHCMC/video...</td>\n      <td>https://scontent.fsgn2-4.fna.fbcdn.net/v/t15.0...</td>\n      <td>NaN</td>\n      <td>0.0</td>\n      <td>0.0</td>\n      <td>1.0</td>\n    </tr>\n  </tbody>\n</table>\n<p>384 rows × 12 columns</p>\n</div>"
     },
     "metadata": {},
     "execution_count": 63
    }
   ],
   "source": [
    "df[df[\"status_type\"] == \"added_video\"]"
   ]
  },
  {
   "cell_type": "code",
   "execution_count": 9,
   "metadata": {},
   "outputs": [
    {
     "output_type": "execute_result",
     "data": {
      "text/plain": [
       "                   id              created_time  \\\n",
       "0     212643073963295  2021-04-22T03:24:01+0000   \n",
       "1    3970213129739105  2021-04-20T09:53:30+0000   \n",
       "2    2889244218015469  2021-04-19T07:42:15+0000   \n",
       "3     463745138207580  2021-04-15T07:16:04+0000   \n",
       "4     458639862083933  2021-04-14T14:00:18+0000   \n",
       "..                ...                       ...   \n",
       "442   631309013615257  2014-04-29T15:14:41+0000   \n",
       "443   131044657068301  2013-02-19T04:13:34+0000   \n",
       "444   131043813735052  2013-02-19T04:01:47+0000   \n",
       "445   128334003941429  2011-10-28T08:42:00+0000   \n",
       "446   117417895033040  2011-10-04T03:56:22+0000   \n",
       "\n",
       "                                                 title  \\\n",
       "0                                    Restore Our Earth   \n",
       "1        Asians in America Through the Vietnamese Lens   \n",
       "2                    Ambassador Kritenbrink's Farewell   \n",
       "3            Outbreak - Epidemics in a Connected World   \n",
       "4                            ACTV Season 2 | Episode 5   \n",
       "..                                                 ...   \n",
       "442                                                NaN   \n",
       "443    Cùng Vợ Chồng Ngài Tổng Lãnh Sự Mỹ Đón Tết Việt   \n",
       "444  American Center's One Year Anniversary Celebra...   \n",
       "445       The American Center on Vietnam Today Channel   \n",
       "446  Ambassador Shear opens American Center in Ho c...   \n",
       "\n",
       "                                           description    length  \\\n",
       "0    🥳🌳🌊  Chào mừng Ngày Trái đất 🌍! Cách đây 50 nă...    57.984   \n",
       "1    What is it like to be Asian in America? What c...  7220.418   \n",
       "2    🥳☺️❤️Cảm ơn, Việt Nam, đã là chủ nhà tuyệt vời...   208.619   \n",
       "3    Hãy tham dự cùng Tổng lãnh sự Damour #CGDamour...  3379.712   \n",
       "4    Chào mừng đến với Phần 2 | Tập 5 của ACTV 📺!\\n...   740.181   \n",
       "..                                                 ...       ...   \n",
       "442  Cám ơn các bạn đã đến tham dự và biểu diễn rất...   212.700   \n",
       "443                                                NaN   264.270   \n",
       "444                                                NaN   158.520   \n",
       "445                                                NaN   208.820   \n",
       "446                                                NaN   222.420   \n",
       "\n",
       "     is_crosspost_video                              permalink_url  \\\n",
       "0                 False   /USConsulateHCMC/videos/212643073963295/   \n",
       "1                 False  /USConsulateHCMC/videos/3970213129739105/   \n",
       "2                 False  /USConsulateHCMC/videos/2889244218015469/   \n",
       "3                 False   /USConsulateHCMC/videos/463745138207580/   \n",
       "4                 False   /USConsulateHCMC/videos/458639862083933/   \n",
       "..                  ...                                        ...   \n",
       "442               False   /USConsulateHCMC/videos/631309013615257/   \n",
       "443               False   /USConsulateHCMC/videos/131044657068301/   \n",
       "444               False   /USConsulateHCMC/videos/131043813735052/   \n",
       "445               False   /USConsulateHCMC/videos/128334003941429/   \n",
       "446               False   /USConsulateHCMC/videos/117417895033040/   \n",
       "\n",
       "                                                source live_status  \n",
       "0    https://scontent.fsgn2-1.fna.fbcdn.net/v/t66.3...         NaN  \n",
       "1    https://scontent.fsgn2-4.fna.fbcdn.net/v/t66.3...         VOD  \n",
       "2    https://scontent.fsgn2-2.fna.fbcdn.net/v/t66.3...         NaN  \n",
       "3    https://scontent.fsgn2-2.fna.fbcdn.net/v/t66.3...         VOD  \n",
       "4    https://scontent.fsgn2-2.fna.fbcdn.net/v/t66.3...         VOD  \n",
       "..                                                 ...         ...  \n",
       "442  https://video.fsgn2-1.fna.fbcdn.net/v/t43.1792...         NaN  \n",
       "443  https://video.fsgn2-4.fna.fbcdn.net/v/t43.1792...         NaN  \n",
       "444  https://video.fsgn2-1.fna.fbcdn.net/v/t42.1790...         NaN  \n",
       "445  https://video.fsgn2-5.fna.fbcdn.net/v/t43.1792...         NaN  \n",
       "446  https://video.fsgn2-5.fna.fbcdn.net/v/t43.1792...         NaN  \n",
       "\n",
       "[447 rows x 9 columns]"
      ],
      "text/html": "<div>\n<style scoped>\n    .dataframe tbody tr th:only-of-type {\n        vertical-align: middle;\n    }\n\n    .dataframe tbody tr th {\n        vertical-align: top;\n    }\n\n    .dataframe thead th {\n        text-align: right;\n    }\n</style>\n<table border=\"1\" class=\"dataframe\">\n  <thead>\n    <tr style=\"text-align: right;\">\n      <th></th>\n      <th>id</th>\n      <th>created_time</th>\n      <th>title</th>\n      <th>description</th>\n      <th>length</th>\n      <th>is_crosspost_video</th>\n      <th>permalink_url</th>\n      <th>source</th>\n      <th>live_status</th>\n    </tr>\n  </thead>\n  <tbody>\n    <tr>\n      <th>0</th>\n      <td>212643073963295</td>\n      <td>2021-04-22T03:24:01+0000</td>\n      <td>Restore Our Earth</td>\n      <td>🥳🌳🌊  Chào mừng Ngày Trái đất 🌍! Cách đây 50 nă...</td>\n      <td>57.984</td>\n      <td>False</td>\n      <td>/USConsulateHCMC/videos/212643073963295/</td>\n      <td>https://scontent.fsgn2-1.fna.fbcdn.net/v/t66.3...</td>\n      <td>NaN</td>\n    </tr>\n    <tr>\n      <th>1</th>\n      <td>3970213129739105</td>\n      <td>2021-04-20T09:53:30+0000</td>\n      <td>Asians in America Through the Vietnamese Lens</td>\n      <td>What is it like to be Asian in America? What c...</td>\n      <td>7220.418</td>\n      <td>False</td>\n      <td>/USConsulateHCMC/videos/3970213129739105/</td>\n      <td>https://scontent.fsgn2-4.fna.fbcdn.net/v/t66.3...</td>\n      <td>VOD</td>\n    </tr>\n    <tr>\n      <th>2</th>\n      <td>2889244218015469</td>\n      <td>2021-04-19T07:42:15+0000</td>\n      <td>Ambassador Kritenbrink's Farewell</td>\n      <td>🥳☺️❤️Cảm ơn, Việt Nam, đã là chủ nhà tuyệt vời...</td>\n      <td>208.619</td>\n      <td>False</td>\n      <td>/USConsulateHCMC/videos/2889244218015469/</td>\n      <td>https://scontent.fsgn2-2.fna.fbcdn.net/v/t66.3...</td>\n      <td>NaN</td>\n    </tr>\n    <tr>\n      <th>3</th>\n      <td>463745138207580</td>\n      <td>2021-04-15T07:16:04+0000</td>\n      <td>Outbreak - Epidemics in a Connected World</td>\n      <td>Hãy tham dự cùng Tổng lãnh sự Damour #CGDamour...</td>\n      <td>3379.712</td>\n      <td>False</td>\n      <td>/USConsulateHCMC/videos/463745138207580/</td>\n      <td>https://scontent.fsgn2-2.fna.fbcdn.net/v/t66.3...</td>\n      <td>VOD</td>\n    </tr>\n    <tr>\n      <th>4</th>\n      <td>458639862083933</td>\n      <td>2021-04-14T14:00:18+0000</td>\n      <td>ACTV Season 2 | Episode 5</td>\n      <td>Chào mừng đến với Phần 2 | Tập 5 của ACTV 📺!\\n...</td>\n      <td>740.181</td>\n      <td>False</td>\n      <td>/USConsulateHCMC/videos/458639862083933/</td>\n      <td>https://scontent.fsgn2-2.fna.fbcdn.net/v/t66.3...</td>\n      <td>VOD</td>\n    </tr>\n    <tr>\n      <th>...</th>\n      <td>...</td>\n      <td>...</td>\n      <td>...</td>\n      <td>...</td>\n      <td>...</td>\n      <td>...</td>\n      <td>...</td>\n      <td>...</td>\n      <td>...</td>\n    </tr>\n    <tr>\n      <th>442</th>\n      <td>631309013615257</td>\n      <td>2014-04-29T15:14:41+0000</td>\n      <td>NaN</td>\n      <td>Cám ơn các bạn đã đến tham dự và biểu diễn rất...</td>\n      <td>212.700</td>\n      <td>False</td>\n      <td>/USConsulateHCMC/videos/631309013615257/</td>\n      <td>https://video.fsgn2-1.fna.fbcdn.net/v/t43.1792...</td>\n      <td>NaN</td>\n    </tr>\n    <tr>\n      <th>443</th>\n      <td>131044657068301</td>\n      <td>2013-02-19T04:13:34+0000</td>\n      <td>Cùng Vợ Chồng Ngài Tổng Lãnh Sự Mỹ Đón Tết Việt</td>\n      <td>NaN</td>\n      <td>264.270</td>\n      <td>False</td>\n      <td>/USConsulateHCMC/videos/131044657068301/</td>\n      <td>https://video.fsgn2-4.fna.fbcdn.net/v/t43.1792...</td>\n      <td>NaN</td>\n    </tr>\n    <tr>\n      <th>444</th>\n      <td>131043813735052</td>\n      <td>2013-02-19T04:01:47+0000</td>\n      <td>American Center's One Year Anniversary Celebra...</td>\n      <td>NaN</td>\n      <td>158.520</td>\n      <td>False</td>\n      <td>/USConsulateHCMC/videos/131043813735052/</td>\n      <td>https://video.fsgn2-1.fna.fbcdn.net/v/t42.1790...</td>\n      <td>NaN</td>\n    </tr>\n    <tr>\n      <th>445</th>\n      <td>128334003941429</td>\n      <td>2011-10-28T08:42:00+0000</td>\n      <td>The American Center on Vietnam Today Channel</td>\n      <td>NaN</td>\n      <td>208.820</td>\n      <td>False</td>\n      <td>/USConsulateHCMC/videos/128334003941429/</td>\n      <td>https://video.fsgn2-5.fna.fbcdn.net/v/t43.1792...</td>\n      <td>NaN</td>\n    </tr>\n    <tr>\n      <th>446</th>\n      <td>117417895033040</td>\n      <td>2011-10-04T03:56:22+0000</td>\n      <td>Ambassador Shear opens American Center in Ho c...</td>\n      <td>NaN</td>\n      <td>222.420</td>\n      <td>False</td>\n      <td>/USConsulateHCMC/videos/117417895033040/</td>\n      <td>https://video.fsgn2-5.fna.fbcdn.net/v/t43.1792...</td>\n      <td>NaN</td>\n    </tr>\n  </tbody>\n</table>\n<p>447 rows × 9 columns</p>\n</div>"
     },
     "metadata": {},
     "execution_count": 9
    }
   ],
   "source": [
    "allvideos = graph.get_all_connections(id='165419643537532', connection_name ='videos', fields = \"id, created_time, title, description, live_status, length, is_crosspost_video, permalink_url, source\")\n",
    "videos = list(allvideos)\n",
    "df_videos = pd.DataFrame(videos)\n",
    "df_videos"
   ]
  },
  {
   "cell_type": "code",
   "execution_count": 89,
   "metadata": {},
   "outputs": [],
   "source": [
    "df_videos.to_csv(\"Updating_Consulate Videos.csv\")"
   ]
  },
  {
   "cell_type": "code",
   "execution_count": 5,
   "metadata": {},
   "outputs": [],
   "source": [
    "df_videos = pd.read_csv(\"Updating_Consulate Videos.csv\", index_col=0)"
   ]
  },
  {
   "cell_type": "code",
   "execution_count": 6,
   "metadata": {},
   "outputs": [
    {
     "output_type": "execute_result",
     "data": {
      "text/plain": [
       "                   id              created_time  \\\n",
       "0     463745138207580  2021-04-15T07:16:04+0000   \n",
       "1     458639862083933  2021-04-14T14:00:18+0000   \n",
       "2    2815005512085524  2021-04-07T14:00:23+0000   \n",
       "3     929437200930676  2021-04-07T02:27:14+0000   \n",
       "4    3800102960037679  2021-04-02T02:58:37+0000   \n",
       "..                ...                       ...   \n",
       "439   631309013615257  2014-04-29T15:14:41+0000   \n",
       "440   131044657068301  2013-02-19T04:13:34+0000   \n",
       "441   131043813735052  2013-02-19T04:01:47+0000   \n",
       "442   128334003941429  2011-10-28T08:42:00+0000   \n",
       "443   117417895033040  2011-10-04T03:56:22+0000   \n",
       "\n",
       "                                                 title  \\\n",
       "0            Outbreak - Epidemics in a Connected World   \n",
       "1                            ACTV Season 2 | Episode 5   \n",
       "2                            ACTV Season 2 | Episode 4   \n",
       "3                   Find the Best LL.M Program For You   \n",
       "4    Live stream: Chinh phục Học bổng Fulbright ngà...   \n",
       "..                                                 ...   \n",
       "439                                                NaN   \n",
       "440    Cùng Vợ Chồng Ngài Tổng Lãnh Sự Mỹ Đón Tết Việt   \n",
       "441  American Center's One Year Anniversary Celebra...   \n",
       "442       The American Center on Vietnam Today Channel   \n",
       "443  Ambassador Shear opens American Center in Ho c...   \n",
       "\n",
       "                                           description live_status    length  \\\n",
       "0    Hãy tham dự cùng Tổng lãnh sự Damour #CGDamour...         VOD  3379.712   \n",
       "1    Chào mừng đến với Phần 2 | Tập 5 của ACTV 📺!\\n...         VOD   740.181   \n",
       "2    Chào mừng đến với Phần 2 | Tập 4 của ACTV 📺!\\n...         VOD   789.035   \n",
       "3                   Find the Best LL.M Program For You         VOD  2737.963   \n",
       "4    Live stream: Chinh phục Học bổng Fulbright ngà...         VOD  5783.424   \n",
       "..                                                 ...         ...       ...   \n",
       "439  Cám ơn các bạn đã đến tham dự và biểu diễn rất...         NaN   212.700   \n",
       "440                                                NaN         NaN   264.270   \n",
       "441                                                NaN         NaN   158.520   \n",
       "442                                                NaN         NaN   208.820   \n",
       "443                                                NaN         NaN   222.420   \n",
       "\n",
       "     is_crosspost_video                              permalink_url  \\\n",
       "0                 False   /USConsulateHCMC/videos/463745138207580/   \n",
       "1                 False   /USConsulateHCMC/videos/458639862083933/   \n",
       "2                 False  /USConsulateHCMC/videos/2815005512085524/   \n",
       "3                  True   /USConsulateHCMC/videos/929437200930676/   \n",
       "4                  True  /USConsulateHCMC/videos/3800102960037679/   \n",
       "..                  ...                                        ...   \n",
       "439               False   /USConsulateHCMC/videos/631309013615257/   \n",
       "440               False   /USConsulateHCMC/videos/131044657068301/   \n",
       "441               False   /USConsulateHCMC/videos/131043813735052/   \n",
       "442               False   /USConsulateHCMC/videos/128334003941429/   \n",
       "443               False   /USConsulateHCMC/videos/117417895033040/   \n",
       "\n",
       "                                                source  \n",
       "0    https://scontent.fsgn2-2.fna.fbcdn.net/v/t66.3...  \n",
       "1    https://scontent.fsgn2-2.fna.fbcdn.net/v/t66.3...  \n",
       "2    https://scontent.fsgn2-3.fna.fbcdn.net/v/t66.3...  \n",
       "3    https://scontent.fsgn2-5.fna.fbcdn.net/v/t66.3...  \n",
       "4    https://scontent.fsgn2-5.fna.fbcdn.net/v/t66.3...  \n",
       "..                                                 ...  \n",
       "439  https://video.fsgn2-1.fna.fbcdn.net/v/t43.1792...  \n",
       "440  https://video.fsgn2-4.fna.fbcdn.net/v/t43.1792...  \n",
       "441  https://video.fsgn2-1.fna.fbcdn.net/v/t42.1790...  \n",
       "442  https://video.fsgn2-5.fna.fbcdn.net/v/t43.1792...  \n",
       "443  https://video.fsgn2-5.fna.fbcdn.net/v/t43.1792...  \n",
       "\n",
       "[444 rows x 9 columns]"
      ],
      "text/html": "<div>\n<style scoped>\n    .dataframe tbody tr th:only-of-type {\n        vertical-align: middle;\n    }\n\n    .dataframe tbody tr th {\n        vertical-align: top;\n    }\n\n    .dataframe thead th {\n        text-align: right;\n    }\n</style>\n<table border=\"1\" class=\"dataframe\">\n  <thead>\n    <tr style=\"text-align: right;\">\n      <th></th>\n      <th>id</th>\n      <th>created_time</th>\n      <th>title</th>\n      <th>description</th>\n      <th>live_status</th>\n      <th>length</th>\n      <th>is_crosspost_video</th>\n      <th>permalink_url</th>\n      <th>source</th>\n    </tr>\n  </thead>\n  <tbody>\n    <tr>\n      <th>0</th>\n      <td>463745138207580</td>\n      <td>2021-04-15T07:16:04+0000</td>\n      <td>Outbreak - Epidemics in a Connected World</td>\n      <td>Hãy tham dự cùng Tổng lãnh sự Damour #CGDamour...</td>\n      <td>VOD</td>\n      <td>3379.712</td>\n      <td>False</td>\n      <td>/USConsulateHCMC/videos/463745138207580/</td>\n      <td>https://scontent.fsgn2-2.fna.fbcdn.net/v/t66.3...</td>\n    </tr>\n    <tr>\n      <th>1</th>\n      <td>458639862083933</td>\n      <td>2021-04-14T14:00:18+0000</td>\n      <td>ACTV Season 2 | Episode 5</td>\n      <td>Chào mừng đến với Phần 2 | Tập 5 của ACTV 📺!\\n...</td>\n      <td>VOD</td>\n      <td>740.181</td>\n      <td>False</td>\n      <td>/USConsulateHCMC/videos/458639862083933/</td>\n      <td>https://scontent.fsgn2-2.fna.fbcdn.net/v/t66.3...</td>\n    </tr>\n    <tr>\n      <th>2</th>\n      <td>2815005512085524</td>\n      <td>2021-04-07T14:00:23+0000</td>\n      <td>ACTV Season 2 | Episode 4</td>\n      <td>Chào mừng đến với Phần 2 | Tập 4 của ACTV 📺!\\n...</td>\n      <td>VOD</td>\n      <td>789.035</td>\n      <td>False</td>\n      <td>/USConsulateHCMC/videos/2815005512085524/</td>\n      <td>https://scontent.fsgn2-3.fna.fbcdn.net/v/t66.3...</td>\n    </tr>\n    <tr>\n      <th>3</th>\n      <td>929437200930676</td>\n      <td>2021-04-07T02:27:14+0000</td>\n      <td>Find the Best LL.M Program For You</td>\n      <td>Find the Best LL.M Program For You</td>\n      <td>VOD</td>\n      <td>2737.963</td>\n      <td>True</td>\n      <td>/USConsulateHCMC/videos/929437200930676/</td>\n      <td>https://scontent.fsgn2-5.fna.fbcdn.net/v/t66.3...</td>\n    </tr>\n    <tr>\n      <th>4</th>\n      <td>3800102960037679</td>\n      <td>2021-04-02T02:58:37+0000</td>\n      <td>Live stream: Chinh phục Học bổng Fulbright ngà...</td>\n      <td>Live stream: Chinh phục Học bổng Fulbright ngà...</td>\n      <td>VOD</td>\n      <td>5783.424</td>\n      <td>True</td>\n      <td>/USConsulateHCMC/videos/3800102960037679/</td>\n      <td>https://scontent.fsgn2-5.fna.fbcdn.net/v/t66.3...</td>\n    </tr>\n    <tr>\n      <th>...</th>\n      <td>...</td>\n      <td>...</td>\n      <td>...</td>\n      <td>...</td>\n      <td>...</td>\n      <td>...</td>\n      <td>...</td>\n      <td>...</td>\n      <td>...</td>\n    </tr>\n    <tr>\n      <th>439</th>\n      <td>631309013615257</td>\n      <td>2014-04-29T15:14:41+0000</td>\n      <td>NaN</td>\n      <td>Cám ơn các bạn đã đến tham dự và biểu diễn rất...</td>\n      <td>NaN</td>\n      <td>212.700</td>\n      <td>False</td>\n      <td>/USConsulateHCMC/videos/631309013615257/</td>\n      <td>https://video.fsgn2-1.fna.fbcdn.net/v/t43.1792...</td>\n    </tr>\n    <tr>\n      <th>440</th>\n      <td>131044657068301</td>\n      <td>2013-02-19T04:13:34+0000</td>\n      <td>Cùng Vợ Chồng Ngài Tổng Lãnh Sự Mỹ Đón Tết Việt</td>\n      <td>NaN</td>\n      <td>NaN</td>\n      <td>264.270</td>\n      <td>False</td>\n      <td>/USConsulateHCMC/videos/131044657068301/</td>\n      <td>https://video.fsgn2-4.fna.fbcdn.net/v/t43.1792...</td>\n    </tr>\n    <tr>\n      <th>441</th>\n      <td>131043813735052</td>\n      <td>2013-02-19T04:01:47+0000</td>\n      <td>American Center's One Year Anniversary Celebra...</td>\n      <td>NaN</td>\n      <td>NaN</td>\n      <td>158.520</td>\n      <td>False</td>\n      <td>/USConsulateHCMC/videos/131043813735052/</td>\n      <td>https://video.fsgn2-1.fna.fbcdn.net/v/t42.1790...</td>\n    </tr>\n    <tr>\n      <th>442</th>\n      <td>128334003941429</td>\n      <td>2011-10-28T08:42:00+0000</td>\n      <td>The American Center on Vietnam Today Channel</td>\n      <td>NaN</td>\n      <td>NaN</td>\n      <td>208.820</td>\n      <td>False</td>\n      <td>/USConsulateHCMC/videos/128334003941429/</td>\n      <td>https://video.fsgn2-5.fna.fbcdn.net/v/t43.1792...</td>\n    </tr>\n    <tr>\n      <th>443</th>\n      <td>117417895033040</td>\n      <td>2011-10-04T03:56:22+0000</td>\n      <td>Ambassador Shear opens American Center in Ho c...</td>\n      <td>NaN</td>\n      <td>NaN</td>\n      <td>222.420</td>\n      <td>False</td>\n      <td>/USConsulateHCMC/videos/117417895033040/</td>\n      <td>https://video.fsgn2-5.fna.fbcdn.net/v/t43.1792...</td>\n    </tr>\n  </tbody>\n</table>\n<p>444 rows × 9 columns</p>\n</div>"
     },
     "metadata": {},
     "execution_count": 6
    }
   ],
   "source": [
    "df_videos"
   ]
  },
  {
   "cell_type": "code",
   "execution_count": 88,
   "metadata": {},
   "outputs": [
    {
     "output_type": "execute_result",
     "data": {
      "text/plain": [
       "                   id              created_time  \\\n",
       "336   404199617046124  2019-03-06T07:49:49+0000   \n",
       "419  1338159389596879  2017-05-05T07:08:54+0000   \n",
       "207   518605188672134  2020-03-10T08:59:19+0000   \n",
       "365  1815189931893820  2018-08-09T09:40:29+0000   \n",
       "401  1487816741297809  2017-10-13T07:00:06+0000   \n",
       "..                ...                       ...   \n",
       "237   730110464186112  2020-02-23T07:14:47+0000   \n",
       "236   604838170064813  2020-02-23T08:28:01+0000   \n",
       "235   613246212585686  2020-02-24T00:43:32+0000   \n",
       "222   562997447634061  2020-02-26T16:56:38+0000   \n",
       "215  2793715414185068  2020-03-06T03:42:24+0000   \n",
       "\n",
       "                                                 title  \\\n",
       "336         CG Remark at EducationUSA Spring Fair 2019   \n",
       "419                                YSEALI Info Session   \n",
       "207                          English Speaking Workshop   \n",
       "365                            Hành Trình Hiểu Về Nhau   \n",
       "401  Youth Scholarships Talk Show - Toạ đàm Học bổn...   \n",
       "..                                                 ...   \n",
       "237                                                NaN   \n",
       "236                                                NaN   \n",
       "235                                                NaN   \n",
       "222                                                NaN   \n",
       "215       Sailors from #TRStrikeGroup say Xin Chao VN!   \n",
       "\n",
       "                                           description   live_status  \\\n",
       "336  Tổng lãnh sự Mary Tarnowka đang phát biểu khai...  LIVE_STOPPED   \n",
       "419  The YSEALI alumni are ready to share their exp...           VOD   \n",
       "207                          English Speaking Workshop           VOD   \n",
       "365  Không dễ để các bậc phụ huynh thấu hiểu cho nh...           VOD   \n",
       "401  Hãy tham gia cùng chúng tôi Toạ đàm Học bổng T...           VOD   \n",
       "..                                                 ...           ...   \n",
       "237                                                NaN           NaN   \n",
       "236                                                NaN           NaN   \n",
       "235                                                NaN           NaN   \n",
       "222                                                NaN           NaN   \n",
       "215  Các thuỷ thủ của Nhóm tàu tác chiến sân bay US...           NaN   \n",
       "\n",
       "          length  is_crosspost_video  \\\n",
       "336  1209600.000               False   \n",
       "419     9472.000               False   \n",
       "207     8801.323               False   \n",
       "365     8622.548               False   \n",
       "401     7837.801               False   \n",
       "..           ...                 ...   \n",
       "237        3.550               False   \n",
       "236        3.550               False   \n",
       "235        3.550               False   \n",
       "222        3.550               False   \n",
       "215        3.250               False   \n",
       "\n",
       "                                 permalink_url  \\\n",
       "336   /USConsulateHCMC/videos/404199617046124/   \n",
       "419  /USConsulateHCMC/videos/1338159389596879/   \n",
       "207   /USConsulateHCMC/videos/518605188672134/   \n",
       "365  /USConsulateHCMC/videos/1815189931893820/   \n",
       "401  /USConsulateHCMC/videos/1487816741297809/   \n",
       "..                                         ...   \n",
       "237   /USConsulateHCMC/videos/730110464186112/   \n",
       "236   /USConsulateHCMC/videos/604838170064813/   \n",
       "235   /USConsulateHCMC/videos/613246212585686/   \n",
       "222   /USConsulateHCMC/videos/562997447634061/   \n",
       "215  /USConsulateHCMC/videos/2793715414185068/   \n",
       "\n",
       "                                                source  \n",
       "336                                                NaN  \n",
       "419  https://scontent.fsgn2-4.fna.fbcdn.net/v/t66.3...  \n",
       "207  https://scontent.fsgn2-4.fna.fbcdn.net/v/t66.3...  \n",
       "365  https://scontent.fsgn2-1.fna.fbcdn.net/v/t66.3...  \n",
       "401  https://scontent.fsgn2-1.fna.fbcdn.net/v/t66.3...  \n",
       "..                                                 ...  \n",
       "237  https://video.fsgn2-2.fna.fbcdn.net/v/t42.1790...  \n",
       "236  https://video.fsgn2-2.fna.fbcdn.net/v/t42.1790...  \n",
       "235  https://video.fsgn2-5.fna.fbcdn.net/v/t42.1790...  \n",
       "222  https://video.fsgn2-4.fna.fbcdn.net/v/t42.1790...  \n",
       "215  https://video.fsgn2-2.fna.fbcdn.net/v/t42.1790...  \n",
       "\n",
       "[444 rows x 9 columns]"
      ],
      "text/html": "<div>\n<style scoped>\n    .dataframe tbody tr th:only-of-type {\n        vertical-align: middle;\n    }\n\n    .dataframe tbody tr th {\n        vertical-align: top;\n    }\n\n    .dataframe thead th {\n        text-align: right;\n    }\n</style>\n<table border=\"1\" class=\"dataframe\">\n  <thead>\n    <tr style=\"text-align: right;\">\n      <th></th>\n      <th>id</th>\n      <th>created_time</th>\n      <th>title</th>\n      <th>description</th>\n      <th>live_status</th>\n      <th>length</th>\n      <th>is_crosspost_video</th>\n      <th>permalink_url</th>\n      <th>source</th>\n    </tr>\n  </thead>\n  <tbody>\n    <tr>\n      <th>336</th>\n      <td>404199617046124</td>\n      <td>2019-03-06T07:49:49+0000</td>\n      <td>CG Remark at EducationUSA Spring Fair 2019</td>\n      <td>Tổng lãnh sự Mary Tarnowka đang phát biểu khai...</td>\n      <td>LIVE_STOPPED</td>\n      <td>1209600.000</td>\n      <td>False</td>\n      <td>/USConsulateHCMC/videos/404199617046124/</td>\n      <td>NaN</td>\n    </tr>\n    <tr>\n      <th>419</th>\n      <td>1338159389596879</td>\n      <td>2017-05-05T07:08:54+0000</td>\n      <td>YSEALI Info Session</td>\n      <td>The YSEALI alumni are ready to share their exp...</td>\n      <td>VOD</td>\n      <td>9472.000</td>\n      <td>False</td>\n      <td>/USConsulateHCMC/videos/1338159389596879/</td>\n      <td>https://scontent.fsgn2-4.fna.fbcdn.net/v/t66.3...</td>\n    </tr>\n    <tr>\n      <th>207</th>\n      <td>518605188672134</td>\n      <td>2020-03-10T08:59:19+0000</td>\n      <td>English Speaking Workshop</td>\n      <td>English Speaking Workshop</td>\n      <td>VOD</td>\n      <td>8801.323</td>\n      <td>False</td>\n      <td>/USConsulateHCMC/videos/518605188672134/</td>\n      <td>https://scontent.fsgn2-4.fna.fbcdn.net/v/t66.3...</td>\n    </tr>\n    <tr>\n      <th>365</th>\n      <td>1815189931893820</td>\n      <td>2018-08-09T09:40:29+0000</td>\n      <td>Hành Trình Hiểu Về Nhau</td>\n      <td>Không dễ để các bậc phụ huynh thấu hiểu cho nh...</td>\n      <td>VOD</td>\n      <td>8622.548</td>\n      <td>False</td>\n      <td>/USConsulateHCMC/videos/1815189931893820/</td>\n      <td>https://scontent.fsgn2-1.fna.fbcdn.net/v/t66.3...</td>\n    </tr>\n    <tr>\n      <th>401</th>\n      <td>1487816741297809</td>\n      <td>2017-10-13T07:00:06+0000</td>\n      <td>Youth Scholarships Talk Show - Toạ đàm Học bổn...</td>\n      <td>Hãy tham gia cùng chúng tôi Toạ đàm Học bổng T...</td>\n      <td>VOD</td>\n      <td>7837.801</td>\n      <td>False</td>\n      <td>/USConsulateHCMC/videos/1487816741297809/</td>\n      <td>https://scontent.fsgn2-1.fna.fbcdn.net/v/t66.3...</td>\n    </tr>\n    <tr>\n      <th>...</th>\n      <td>...</td>\n      <td>...</td>\n      <td>...</td>\n      <td>...</td>\n      <td>...</td>\n      <td>...</td>\n      <td>...</td>\n      <td>...</td>\n      <td>...</td>\n    </tr>\n    <tr>\n      <th>237</th>\n      <td>730110464186112</td>\n      <td>2020-02-23T07:14:47+0000</td>\n      <td>NaN</td>\n      <td>NaN</td>\n      <td>NaN</td>\n      <td>3.550</td>\n      <td>False</td>\n      <td>/USConsulateHCMC/videos/730110464186112/</td>\n      <td>https://video.fsgn2-2.fna.fbcdn.net/v/t42.1790...</td>\n    </tr>\n    <tr>\n      <th>236</th>\n      <td>604838170064813</td>\n      <td>2020-02-23T08:28:01+0000</td>\n      <td>NaN</td>\n      <td>NaN</td>\n      <td>NaN</td>\n      <td>3.550</td>\n      <td>False</td>\n      <td>/USConsulateHCMC/videos/604838170064813/</td>\n      <td>https://video.fsgn2-2.fna.fbcdn.net/v/t42.1790...</td>\n    </tr>\n    <tr>\n      <th>235</th>\n      <td>613246212585686</td>\n      <td>2020-02-24T00:43:32+0000</td>\n      <td>NaN</td>\n      <td>NaN</td>\n      <td>NaN</td>\n      <td>3.550</td>\n      <td>False</td>\n      <td>/USConsulateHCMC/videos/613246212585686/</td>\n      <td>https://video.fsgn2-5.fna.fbcdn.net/v/t42.1790...</td>\n    </tr>\n    <tr>\n      <th>222</th>\n      <td>562997447634061</td>\n      <td>2020-02-26T16:56:38+0000</td>\n      <td>NaN</td>\n      <td>NaN</td>\n      <td>NaN</td>\n      <td>3.550</td>\n      <td>False</td>\n      <td>/USConsulateHCMC/videos/562997447634061/</td>\n      <td>https://video.fsgn2-4.fna.fbcdn.net/v/t42.1790...</td>\n    </tr>\n    <tr>\n      <th>215</th>\n      <td>2793715414185068</td>\n      <td>2020-03-06T03:42:24+0000</td>\n      <td>Sailors from #TRStrikeGroup say Xin Chao VN!</td>\n      <td>Các thuỷ thủ của Nhóm tàu tác chiến sân bay US...</td>\n      <td>NaN</td>\n      <td>3.250</td>\n      <td>False</td>\n      <td>/USConsulateHCMC/videos/2793715414185068/</td>\n      <td>https://video.fsgn2-2.fna.fbcdn.net/v/t42.1790...</td>\n    </tr>\n  </tbody>\n</table>\n<p>444 rows × 9 columns</p>\n</div>"
     },
     "metadata": {},
     "execution_count": 88
    }
   ],
   "source": [
    "df_videos.sort_values(by = [\"length\"],ascending = False)"
   ]
  },
  {
   "cell_type": "code",
   "execution_count": 76,
   "metadata": {},
   "outputs": [],
   "source": [
    "live = graph.get_all_connections(id='165419643537532', connection_name ='live_videos', fields = \"id, title, description, broadcast_start_time, permalink_url\")\n",
    "livevideos = list(live)\n",
    "df_live = pd.DataFrame(livevideos)"
   ]
  },
  {
   "cell_type": "code",
   "execution_count": 77,
   "metadata": {},
   "outputs": [
    {
     "output_type": "execute_result",
     "data": {
      "text/plain": [
       "                   id                                              title  \\\n",
       "0    3896336820445777          Outbreak - Epidemics in a Connected World   \n",
       "1    3894211640658295                          ACTV Season 2 | Episode 5   \n",
       "2    3873893012690158                          ACTV Season 2 | Episode 4   \n",
       "3    3872834022796057                 Find the Best LL.M Program For You   \n",
       "4    3858387320907394  Live stream: Chinh phục Học bổng Fulbright ngà...   \n",
       "..                ...                                                ...   \n",
       "176  1281021318644020                                                NaN   \n",
       "177  1280904405322378                                 Women in Diplomacy   \n",
       "178  1275606872518798                                                NaN   \n",
       "179  1275585655854253                                                NaN   \n",
       "180  1268395246573294                                                NaN   \n",
       "\n",
       "                                           description  \\\n",
       "0    Hãy tham dự cùng Tổng lãnh sự Damour #CGDamour...   \n",
       "1    Chào mừng đến với Phần 2 | Tập 5 của ACTV 📺!\\n...   \n",
       "2    Chào mừng đến với Phần 2 | Tập 4 của ACTV 📺!\\n...   \n",
       "3                   Find the Best LL.M Program For You   \n",
       "4    Live stream: Chinh phục Học bổng Fulbright ngà...   \n",
       "..                                                 ...   \n",
       "176                                                NaN   \n",
       "177  Join us today with U.S. Consul General and Con...   \n",
       "178                                 Info Session: VISA   \n",
       "179                                                NaN   \n",
       "180                                                NaN   \n",
       "\n",
       "         broadcast_start_time                              permalink_url  \n",
       "0    2021-04-15T08:02:51+0000   /USConsulateHCMC/videos/463745138207580/  \n",
       "1    2021-04-14T14:00:18+0000   /USConsulateHCMC/videos/458639862083933/  \n",
       "2    2021-04-07T14:00:23+0000  /USConsulateHCMC/videos/2815005512085524/  \n",
       "3    2021-04-07T02:27:29+0000   /USConsulateHCMC/videos/929437200930676/  \n",
       "4    2021-04-02T02:58:47+0000  /USConsulateHCMC/videos/3800102960037679/  \n",
       "..                        ...                                        ...  \n",
       "176  2017-03-07T10:24:35+0000  /USConsulateHCMC/videos/1281021315310687/  \n",
       "177  2017-03-07T07:36:31+0000  /USConsulateHCMC/videos/1280904398655712/  \n",
       "178  2017-03-02T09:23:37+0000  /USConsulateHCMC/videos/1275606862518799/  \n",
       "179  2017-03-02T08:32:27+0000  /USConsulateHCMC/videos/1275585645854254/  \n",
       "180  2017-02-23T10:45:48+0000  /USConsulateHCMC/videos/1268395236573295/  \n",
       "\n",
       "[181 rows x 5 columns]"
      ],
      "text/html": "<div>\n<style scoped>\n    .dataframe tbody tr th:only-of-type {\n        vertical-align: middle;\n    }\n\n    .dataframe tbody tr th {\n        vertical-align: top;\n    }\n\n    .dataframe thead th {\n        text-align: right;\n    }\n</style>\n<table border=\"1\" class=\"dataframe\">\n  <thead>\n    <tr style=\"text-align: right;\">\n      <th></th>\n      <th>id</th>\n      <th>title</th>\n      <th>description</th>\n      <th>broadcast_start_time</th>\n      <th>permalink_url</th>\n    </tr>\n  </thead>\n  <tbody>\n    <tr>\n      <th>0</th>\n      <td>3896336820445777</td>\n      <td>Outbreak - Epidemics in a Connected World</td>\n      <td>Hãy tham dự cùng Tổng lãnh sự Damour #CGDamour...</td>\n      <td>2021-04-15T08:02:51+0000</td>\n      <td>/USConsulateHCMC/videos/463745138207580/</td>\n    </tr>\n    <tr>\n      <th>1</th>\n      <td>3894211640658295</td>\n      <td>ACTV Season 2 | Episode 5</td>\n      <td>Chào mừng đến với Phần 2 | Tập 5 của ACTV 📺!\\n...</td>\n      <td>2021-04-14T14:00:18+0000</td>\n      <td>/USConsulateHCMC/videos/458639862083933/</td>\n    </tr>\n    <tr>\n      <th>2</th>\n      <td>3873893012690158</td>\n      <td>ACTV Season 2 | Episode 4</td>\n      <td>Chào mừng đến với Phần 2 | Tập 4 của ACTV 📺!\\n...</td>\n      <td>2021-04-07T14:00:23+0000</td>\n      <td>/USConsulateHCMC/videos/2815005512085524/</td>\n    </tr>\n    <tr>\n      <th>3</th>\n      <td>3872834022796057</td>\n      <td>Find the Best LL.M Program For You</td>\n      <td>Find the Best LL.M Program For You</td>\n      <td>2021-04-07T02:27:29+0000</td>\n      <td>/USConsulateHCMC/videos/929437200930676/</td>\n    </tr>\n    <tr>\n      <th>4</th>\n      <td>3858387320907394</td>\n      <td>Live stream: Chinh phục Học bổng Fulbright ngà...</td>\n      <td>Live stream: Chinh phục Học bổng Fulbright ngà...</td>\n      <td>2021-04-02T02:58:47+0000</td>\n      <td>/USConsulateHCMC/videos/3800102960037679/</td>\n    </tr>\n    <tr>\n      <th>...</th>\n      <td>...</td>\n      <td>...</td>\n      <td>...</td>\n      <td>...</td>\n      <td>...</td>\n    </tr>\n    <tr>\n      <th>176</th>\n      <td>1281021318644020</td>\n      <td>NaN</td>\n      <td>NaN</td>\n      <td>2017-03-07T10:24:35+0000</td>\n      <td>/USConsulateHCMC/videos/1281021315310687/</td>\n    </tr>\n    <tr>\n      <th>177</th>\n      <td>1280904405322378</td>\n      <td>Women in Diplomacy</td>\n      <td>Join us today with U.S. Consul General and Con...</td>\n      <td>2017-03-07T07:36:31+0000</td>\n      <td>/USConsulateHCMC/videos/1280904398655712/</td>\n    </tr>\n    <tr>\n      <th>178</th>\n      <td>1275606872518798</td>\n      <td>NaN</td>\n      <td>Info Session: VISA</td>\n      <td>2017-03-02T09:23:37+0000</td>\n      <td>/USConsulateHCMC/videos/1275606862518799/</td>\n    </tr>\n    <tr>\n      <th>179</th>\n      <td>1275585655854253</td>\n      <td>NaN</td>\n      <td>NaN</td>\n      <td>2017-03-02T08:32:27+0000</td>\n      <td>/USConsulateHCMC/videos/1275585645854254/</td>\n    </tr>\n    <tr>\n      <th>180</th>\n      <td>1268395246573294</td>\n      <td>NaN</td>\n      <td>NaN</td>\n      <td>2017-02-23T10:45:48+0000</td>\n      <td>/USConsulateHCMC/videos/1268395236573295/</td>\n    </tr>\n  </tbody>\n</table>\n<p>181 rows × 5 columns</p>\n</div>"
     },
     "metadata": {},
     "execution_count": 77
    }
   ],
   "source": [
    "df_live"
   ]
  },
  {
   "cell_type": "code",
   "execution_count": 32,
   "metadata": {},
   "outputs": [
    {
     "output_type": "execute_result",
     "data": {
      "text/plain": [
       "{'data': []}"
      ]
     },
     "metadata": {},
     "execution_count": 32
    }
   ],
   "source": [
    "insight = graph.get_connections(id=\"131044657068301\", connection_name = \"video_insights\", metric='total_video_views, total_video_views_sound_on, total_video_complete_views, total_video_reactions_by_type_total, total_video_view_time_by_age_bucket_and_gender, total_video_view_time_by_region_id, total_video_views_by_distribution_type, total_video_impressions', date_preset='yesterday', period='lifetime', show_description_from_api_doc=False)\n",
    "insight"
   ]
  },
  {
   "cell_type": "code",
   "execution_count": 37,
   "metadata": {},
   "outputs": [
    {
     "output_type": "error",
     "ename": "AttributeError",
     "evalue": "'dict' object has no attribute 'size'",
     "traceback": [
      "\u001b[0;31m---------------------------------------------------------------------------\u001b[0m",
      "\u001b[0;31mAttributeError\u001b[0m                            Traceback (most recent call last)",
      "\u001b[0;32m<ipython-input-37-7099c3cb8442>\u001b[0m in \u001b[0;36m<module>\u001b[0;34m\u001b[0m\n\u001b[0;32m----> 1\u001b[0;31m \u001b[0minsight\u001b[0m\u001b[0;34m.\u001b[0m\u001b[0msize\u001b[0m \u001b[0;34m==\u001b[0m \u001b[0;36m0\u001b[0m\u001b[0;34m\u001b[0m\u001b[0;34m\u001b[0m\u001b[0m\n\u001b[0m",
      "\u001b[0;31mAttributeError\u001b[0m: 'dict' object has no attribute 'size'"
     ]
    }
   ],
   "source": [
    "insight.size == 0"
   ]
  },
  {
   "cell_type": "code",
   "execution_count": 23,
   "metadata": {},
   "outputs": [
    {
     "output_type": "execute_result",
     "data": {
      "text/plain": [
       "{'page_owned': 2677, 'shared': 1340}"
      ]
     },
     "metadata": {},
     "execution_count": 23
    }
   ],
   "source": [
    "insight[\"data\"][6][\"values\"][0][\"value\"]"
   ]
  },
  {
   "cell_type": "code",
   "execution_count": 29,
   "metadata": {},
   "outputs": [
    {
     "output_type": "execute_result",
     "data": {
      "text/plain": [
       "{'name': 'total_video_views_sound_on',\n",
       " 'period': 'lifetime',\n",
       " 'values': [{'value': 2769}],\n",
       " 'title': 'Lifetime video views with sound on',\n",
       " 'description': 'Lifetime: Number of times your video sound was turned on and it was viewed for 3 seconds or viewed to the end, whichever came first (total count)',\n",
       " 'id': '518605188672134/video_insights/total_video_views_sound_on/lifetime'}"
      ]
     },
     "metadata": {},
     "execution_count": 29
    }
   ],
   "source": [
    "insight[\"data\"][1]"
   ]
  },
  {
   "cell_type": "code",
   "execution_count": 33,
   "metadata": {},
   "outputs": [],
   "source": [
    "def get_insight(row):\n",
    "    insight = graph.get_connections(id=row[\"id\"], connection_name = \"video_insights\", metric='total_video_views, total_video_views_sound_on, total_video_complete_views, total_video_reactions_by_type_total, total_video_view_time_by_age_bucket_and_gender, total_video_view_time_by_region_id, total_video_views_by_distribution_type, total_video_impressions', date_preset='yesterday', period='lifetime', show_description_from_api_doc=False)\n",
    "    if insight[\"data\"] !=  \n",
    "        row[\"total_views\"] = insight[\"data\"][0][\"values\"][0][\"value\"]\n",
    "        row[\"video_views_sound_on\"] = insight[\"data\"][1][\"values\"][0][\"value\"]\n",
    "        row[\"video_complete_views\"] = insight[\"data\"][2][\"values\"][0][\"value\"]\n",
    "        if \"like\" in insight[\"data\"][3][\"values\"][0][\"value\"]:\n",
    "            row[\"like\"] = insight[\"data\"][3][\"values\"][0][\"value\"][\"like\"]\n",
    "        if \"love\" in insight[\"data\"][3][\"values\"][0][\"value\"]:\n",
    "            row[\"love\"] = insight[\"data\"][3][\"values\"][0][\"value\"][\"love\"]\n",
    "        if \"haha\" in insight[\"data\"][3][\"values\"][0][\"value\"]:\n",
    "            row[\"haha\"] = insight[\"data\"][3][\"values\"][0][\"value\"][\"haha\"]\n",
    "        if \"anger\" in insight[\"data\"][3][\"values\"][0][\"value\"]:\n",
    "            row[\"anger\"] = insight[\"data\"][3][\"values\"][0][\"value\"][\"anger\"]\n",
    "        row[\"video_view_time_by_age_bucket_and_gender\"] = insight[\"data\"][4][\"values\"][0][\"value\"]\n",
    "        row[\"video_view_time_by_region_id\"] = insight[\"data\"][5][\"values\"][0][\"value\"]\n",
    "        if \"page_owned\" in insight[\"data\"][6][\"values\"][0][\"value\"]:\n",
    "            row[\"video_views_by_page_owned\"] = insight[\"data\"][6][\"values\"][0][\"value\"][\"page_owned\"]\n",
    "        if \"shared\" in insight[\"data\"][6][\"values\"][0][\"value\"]:\n",
    "            row[\"video_views_by_shared\"] = insight[\"data\"][6][\"values\"][0][\"value\"][\"shared\"]\n",
    "        row[\"impression\"] = insight[\"data\"][7][\"values\"][0][\"value\"]\n",
    "    return row"
   ]
  },
  {
   "cell_type": "code",
   "execution_count": 26,
   "metadata": {},
   "outputs": [
    {
     "output_type": "execute_result",
     "data": {
      "text/plain": [
       "                   id              created_time  \\\n",
       "0     212643073963295  2021-04-22T03:24:01+0000   \n",
       "1    3970213129739105  2021-04-20T09:53:30+0000   \n",
       "2    2889244218015469  2021-04-19T07:42:15+0000   \n",
       "3     463745138207580  2021-04-15T07:16:04+0000   \n",
       "4     458639862083933  2021-04-14T14:00:18+0000   \n",
       "..                ...                       ...   \n",
       "442   631309013615257  2014-04-29T15:14:41+0000   \n",
       "443   131044657068301  2013-02-19T04:13:34+0000   \n",
       "444   131043813735052  2013-02-19T04:01:47+0000   \n",
       "445   128334003941429  2011-10-28T08:42:00+0000   \n",
       "446   117417895033040  2011-10-04T03:56:22+0000   \n",
       "\n",
       "                                                 title  \\\n",
       "0                                    Restore Our Earth   \n",
       "1        Asians in America Through the Vietnamese Lens   \n",
       "2                    Ambassador Kritenbrink's Farewell   \n",
       "3            Outbreak - Epidemics in a Connected World   \n",
       "4                            ACTV Season 2 | Episode 5   \n",
       "..                                                 ...   \n",
       "442                                                NaN   \n",
       "443    Cùng Vợ Chồng Ngài Tổng Lãnh Sự Mỹ Đón Tết Việt   \n",
       "444  American Center's One Year Anniversary Celebra...   \n",
       "445       The American Center on Vietnam Today Channel   \n",
       "446  Ambassador Shear opens American Center in Ho c...   \n",
       "\n",
       "                                           description    length  \\\n",
       "0    🥳🌳🌊  Chào mừng Ngày Trái đất 🌍! Cách đây 50 nă...    57.984   \n",
       "1    What is it like to be Asian in America? What c...  7220.418   \n",
       "2    🥳☺️❤️Cảm ơn, Việt Nam, đã là chủ nhà tuyệt vời...   208.619   \n",
       "3    Hãy tham dự cùng Tổng lãnh sự Damour #CGDamour...  3379.712   \n",
       "4    Chào mừng đến với Phần 2 | Tập 5 của ACTV 📺!\\n...   740.181   \n",
       "..                                                 ...       ...   \n",
       "442  Cám ơn các bạn đã đến tham dự và biểu diễn rất...   212.700   \n",
       "443                                                NaN   264.270   \n",
       "444                                                NaN   158.520   \n",
       "445                                                NaN   208.820   \n",
       "446                                                NaN   222.420   \n",
       "\n",
       "     is_crosspost_video                              permalink_url  \\\n",
       "0                 False   /USConsulateHCMC/videos/212643073963295/   \n",
       "1                 False  /USConsulateHCMC/videos/3970213129739105/   \n",
       "2                 False  /USConsulateHCMC/videos/2889244218015469/   \n",
       "3                 False   /USConsulateHCMC/videos/463745138207580/   \n",
       "4                 False   /USConsulateHCMC/videos/458639862083933/   \n",
       "..                  ...                                        ...   \n",
       "442               False   /USConsulateHCMC/videos/631309013615257/   \n",
       "443               False   /USConsulateHCMC/videos/131044657068301/   \n",
       "444               False   /USConsulateHCMC/videos/131043813735052/   \n",
       "445               False   /USConsulateHCMC/videos/128334003941429/   \n",
       "446               False   /USConsulateHCMC/videos/117417895033040/   \n",
       "\n",
       "                                                source live_status  \n",
       "0    https://scontent.fsgn2-1.fna.fbcdn.net/v/t66.3...         NaN  \n",
       "1    https://scontent.fsgn2-4.fna.fbcdn.net/v/t66.3...         VOD  \n",
       "2    https://scontent.fsgn2-2.fna.fbcdn.net/v/t66.3...         NaN  \n",
       "3    https://scontent.fsgn2-2.fna.fbcdn.net/v/t66.3...         VOD  \n",
       "4    https://scontent.fsgn2-2.fna.fbcdn.net/v/t66.3...         VOD  \n",
       "..                                                 ...         ...  \n",
       "442  https://video.fsgn2-1.fna.fbcdn.net/v/t43.1792...         NaN  \n",
       "443  https://video.fsgn2-4.fna.fbcdn.net/v/t43.1792...         NaN  \n",
       "444  https://video.fsgn2-1.fna.fbcdn.net/v/t42.1790...         NaN  \n",
       "445  https://video.fsgn2-5.fna.fbcdn.net/v/t43.1792...         NaN  \n",
       "446  https://video.fsgn2-5.fna.fbcdn.net/v/t43.1792...         NaN  \n",
       "\n",
       "[447 rows x 9 columns]"
      ],
      "text/html": "<div>\n<style scoped>\n    .dataframe tbody tr th:only-of-type {\n        vertical-align: middle;\n    }\n\n    .dataframe tbody tr th {\n        vertical-align: top;\n    }\n\n    .dataframe thead th {\n        text-align: right;\n    }\n</style>\n<table border=\"1\" class=\"dataframe\">\n  <thead>\n    <tr style=\"text-align: right;\">\n      <th></th>\n      <th>id</th>\n      <th>created_time</th>\n      <th>title</th>\n      <th>description</th>\n      <th>length</th>\n      <th>is_crosspost_video</th>\n      <th>permalink_url</th>\n      <th>source</th>\n      <th>live_status</th>\n    </tr>\n  </thead>\n  <tbody>\n    <tr>\n      <th>0</th>\n      <td>212643073963295</td>\n      <td>2021-04-22T03:24:01+0000</td>\n      <td>Restore Our Earth</td>\n      <td>🥳🌳🌊  Chào mừng Ngày Trái đất 🌍! Cách đây 50 nă...</td>\n      <td>57.984</td>\n      <td>False</td>\n      <td>/USConsulateHCMC/videos/212643073963295/</td>\n      <td>https://scontent.fsgn2-1.fna.fbcdn.net/v/t66.3...</td>\n      <td>NaN</td>\n    </tr>\n    <tr>\n      <th>1</th>\n      <td>3970213129739105</td>\n      <td>2021-04-20T09:53:30+0000</td>\n      <td>Asians in America Through the Vietnamese Lens</td>\n      <td>What is it like to be Asian in America? What c...</td>\n      <td>7220.418</td>\n      <td>False</td>\n      <td>/USConsulateHCMC/videos/3970213129739105/</td>\n      <td>https://scontent.fsgn2-4.fna.fbcdn.net/v/t66.3...</td>\n      <td>VOD</td>\n    </tr>\n    <tr>\n      <th>2</th>\n      <td>2889244218015469</td>\n      <td>2021-04-19T07:42:15+0000</td>\n      <td>Ambassador Kritenbrink's Farewell</td>\n      <td>🥳☺️❤️Cảm ơn, Việt Nam, đã là chủ nhà tuyệt vời...</td>\n      <td>208.619</td>\n      <td>False</td>\n      <td>/USConsulateHCMC/videos/2889244218015469/</td>\n      <td>https://scontent.fsgn2-2.fna.fbcdn.net/v/t66.3...</td>\n      <td>NaN</td>\n    </tr>\n    <tr>\n      <th>3</th>\n      <td>463745138207580</td>\n      <td>2021-04-15T07:16:04+0000</td>\n      <td>Outbreak - Epidemics in a Connected World</td>\n      <td>Hãy tham dự cùng Tổng lãnh sự Damour #CGDamour...</td>\n      <td>3379.712</td>\n      <td>False</td>\n      <td>/USConsulateHCMC/videos/463745138207580/</td>\n      <td>https://scontent.fsgn2-2.fna.fbcdn.net/v/t66.3...</td>\n      <td>VOD</td>\n    </tr>\n    <tr>\n      <th>4</th>\n      <td>458639862083933</td>\n      <td>2021-04-14T14:00:18+0000</td>\n      <td>ACTV Season 2 | Episode 5</td>\n      <td>Chào mừng đến với Phần 2 | Tập 5 của ACTV 📺!\\n...</td>\n      <td>740.181</td>\n      <td>False</td>\n      <td>/USConsulateHCMC/videos/458639862083933/</td>\n      <td>https://scontent.fsgn2-2.fna.fbcdn.net/v/t66.3...</td>\n      <td>VOD</td>\n    </tr>\n    <tr>\n      <th>...</th>\n      <td>...</td>\n      <td>...</td>\n      <td>...</td>\n      <td>...</td>\n      <td>...</td>\n      <td>...</td>\n      <td>...</td>\n      <td>...</td>\n      <td>...</td>\n    </tr>\n    <tr>\n      <th>442</th>\n      <td>631309013615257</td>\n      <td>2014-04-29T15:14:41+0000</td>\n      <td>NaN</td>\n      <td>Cám ơn các bạn đã đến tham dự và biểu diễn rất...</td>\n      <td>212.700</td>\n      <td>False</td>\n      <td>/USConsulateHCMC/videos/631309013615257/</td>\n      <td>https://video.fsgn2-1.fna.fbcdn.net/v/t43.1792...</td>\n      <td>NaN</td>\n    </tr>\n    <tr>\n      <th>443</th>\n      <td>131044657068301</td>\n      <td>2013-02-19T04:13:34+0000</td>\n      <td>Cùng Vợ Chồng Ngài Tổng Lãnh Sự Mỹ Đón Tết Việt</td>\n      <td>NaN</td>\n      <td>264.270</td>\n      <td>False</td>\n      <td>/USConsulateHCMC/videos/131044657068301/</td>\n      <td>https://video.fsgn2-4.fna.fbcdn.net/v/t43.1792...</td>\n      <td>NaN</td>\n    </tr>\n    <tr>\n      <th>444</th>\n      <td>131043813735052</td>\n      <td>2013-02-19T04:01:47+0000</td>\n      <td>American Center's One Year Anniversary Celebra...</td>\n      <td>NaN</td>\n      <td>158.520</td>\n      <td>False</td>\n      <td>/USConsulateHCMC/videos/131043813735052/</td>\n      <td>https://video.fsgn2-1.fna.fbcdn.net/v/t42.1790...</td>\n      <td>NaN</td>\n    </tr>\n    <tr>\n      <th>445</th>\n      <td>128334003941429</td>\n      <td>2011-10-28T08:42:00+0000</td>\n      <td>The American Center on Vietnam Today Channel</td>\n      <td>NaN</td>\n      <td>208.820</td>\n      <td>False</td>\n      <td>/USConsulateHCMC/videos/128334003941429/</td>\n      <td>https://video.fsgn2-5.fna.fbcdn.net/v/t43.1792...</td>\n      <td>NaN</td>\n    </tr>\n    <tr>\n      <th>446</th>\n      <td>117417895033040</td>\n      <td>2011-10-04T03:56:22+0000</td>\n      <td>Ambassador Shear opens American Center in Ho c...</td>\n      <td>NaN</td>\n      <td>222.420</td>\n      <td>False</td>\n      <td>/USConsulateHCMC/videos/117417895033040/</td>\n      <td>https://video.fsgn2-5.fna.fbcdn.net/v/t43.1792...</td>\n      <td>NaN</td>\n    </tr>\n  </tbody>\n</table>\n<p>447 rows × 9 columns</p>\n</div>"
     },
     "metadata": {},
     "execution_count": 26
    }
   ],
   "source": [
    "df_videos"
   ]
  },
  {
   "cell_type": "code",
   "execution_count": 34,
   "metadata": {},
   "outputs": [
    {
     "output_type": "error",
     "ename": "TypeError",
     "evalue": "argument of type 'int' is not iterable",
     "traceback": [
      "\u001b[0;31m---------------------------------------------------------------------------\u001b[0m",
      "\u001b[0;31mTypeError\u001b[0m                                 Traceback (most recent call last)",
      "\u001b[0;32m<ipython-input-34-96824e675617>\u001b[0m in \u001b[0;36m<module>\u001b[0;34m\u001b[0m\n\u001b[0;32m----> 1\u001b[0;31m \u001b[0mdf_videos\u001b[0m \u001b[0;34m=\u001b[0m \u001b[0mdf_videos\u001b[0m\u001b[0;34m.\u001b[0m\u001b[0mapply\u001b[0m\u001b[0;34m(\u001b[0m\u001b[0mget_insight\u001b[0m\u001b[0;34m,\u001b[0m \u001b[0maxis\u001b[0m \u001b[0;34m=\u001b[0m \u001b[0;36m1\u001b[0m\u001b[0;34m)\u001b[0m\u001b[0;34m\u001b[0m\u001b[0;34m\u001b[0m\u001b[0m\n\u001b[0m",
      "\u001b[0;32m/Library/Frameworks/Python.framework/Versions/3.8/lib/python3.8/site-packages/pandas/core/frame.py\u001b[0m in \u001b[0;36mapply\u001b[0;34m(self, func, axis, raw, result_type, args, **kwds)\u001b[0m\n\u001b[1;32m   7763\u001b[0m             \u001b[0mkwds\u001b[0m\u001b[0;34m=\u001b[0m\u001b[0mkwds\u001b[0m\u001b[0;34m,\u001b[0m\u001b[0;34m\u001b[0m\u001b[0;34m\u001b[0m\u001b[0m\n\u001b[1;32m   7764\u001b[0m         )\n\u001b[0;32m-> 7765\u001b[0;31m         \u001b[0;32mreturn\u001b[0m \u001b[0mop\u001b[0m\u001b[0;34m.\u001b[0m\u001b[0mget_result\u001b[0m\u001b[0;34m(\u001b[0m\u001b[0;34m)\u001b[0m\u001b[0;34m\u001b[0m\u001b[0;34m\u001b[0m\u001b[0m\n\u001b[0m\u001b[1;32m   7766\u001b[0m \u001b[0;34m\u001b[0m\u001b[0m\n\u001b[1;32m   7767\u001b[0m     \u001b[0;32mdef\u001b[0m \u001b[0mapplymap\u001b[0m\u001b[0;34m(\u001b[0m\u001b[0mself\u001b[0m\u001b[0;34m,\u001b[0m \u001b[0mfunc\u001b[0m\u001b[0;34m,\u001b[0m \u001b[0mna_action\u001b[0m\u001b[0;34m:\u001b[0m \u001b[0mOptional\u001b[0m\u001b[0;34m[\u001b[0m\u001b[0mstr\u001b[0m\u001b[0;34m]\u001b[0m \u001b[0;34m=\u001b[0m \u001b[0;32mNone\u001b[0m\u001b[0;34m)\u001b[0m \u001b[0;34m->\u001b[0m \u001b[0mDataFrame\u001b[0m\u001b[0;34m:\u001b[0m\u001b[0;34m\u001b[0m\u001b[0;34m\u001b[0m\u001b[0m\n",
      "\u001b[0;32m/Library/Frameworks/Python.framework/Versions/3.8/lib/python3.8/site-packages/pandas/core/apply.py\u001b[0m in \u001b[0;36mget_result\u001b[0;34m(self)\u001b[0m\n\u001b[1;32m    183\u001b[0m             \u001b[0;32mreturn\u001b[0m \u001b[0mself\u001b[0m\u001b[0;34m.\u001b[0m\u001b[0mapply_raw\u001b[0m\u001b[0;34m(\u001b[0m\u001b[0;34m)\u001b[0m\u001b[0;34m\u001b[0m\u001b[0;34m\u001b[0m\u001b[0m\n\u001b[1;32m    184\u001b[0m \u001b[0;34m\u001b[0m\u001b[0m\n\u001b[0;32m--> 185\u001b[0;31m         \u001b[0;32mreturn\u001b[0m \u001b[0mself\u001b[0m\u001b[0;34m.\u001b[0m\u001b[0mapply_standard\u001b[0m\u001b[0;34m(\u001b[0m\u001b[0;34m)\u001b[0m\u001b[0;34m\u001b[0m\u001b[0;34m\u001b[0m\u001b[0m\n\u001b[0m\u001b[1;32m    186\u001b[0m \u001b[0;34m\u001b[0m\u001b[0m\n\u001b[1;32m    187\u001b[0m     \u001b[0;32mdef\u001b[0m \u001b[0mapply_empty_result\u001b[0m\u001b[0;34m(\u001b[0m\u001b[0mself\u001b[0m\u001b[0;34m)\u001b[0m\u001b[0;34m:\u001b[0m\u001b[0;34m\u001b[0m\u001b[0;34m\u001b[0m\u001b[0m\n",
      "\u001b[0;32m/Library/Frameworks/Python.framework/Versions/3.8/lib/python3.8/site-packages/pandas/core/apply.py\u001b[0m in \u001b[0;36mapply_standard\u001b[0;34m(self)\u001b[0m\n\u001b[1;32m    274\u001b[0m \u001b[0;34m\u001b[0m\u001b[0m\n\u001b[1;32m    275\u001b[0m     \u001b[0;32mdef\u001b[0m \u001b[0mapply_standard\u001b[0m\u001b[0;34m(\u001b[0m\u001b[0mself\u001b[0m\u001b[0;34m)\u001b[0m\u001b[0;34m:\u001b[0m\u001b[0;34m\u001b[0m\u001b[0;34m\u001b[0m\u001b[0m\n\u001b[0;32m--> 276\u001b[0;31m         \u001b[0mresults\u001b[0m\u001b[0;34m,\u001b[0m \u001b[0mres_index\u001b[0m \u001b[0;34m=\u001b[0m \u001b[0mself\u001b[0m\u001b[0;34m.\u001b[0m\u001b[0mapply_series_generator\u001b[0m\u001b[0;34m(\u001b[0m\u001b[0;34m)\u001b[0m\u001b[0;34m\u001b[0m\u001b[0;34m\u001b[0m\u001b[0m\n\u001b[0m\u001b[1;32m    277\u001b[0m \u001b[0;34m\u001b[0m\u001b[0m\n\u001b[1;32m    278\u001b[0m         \u001b[0;31m# wrap results\u001b[0m\u001b[0;34m\u001b[0m\u001b[0;34m\u001b[0m\u001b[0;34m\u001b[0m\u001b[0m\n",
      "\u001b[0;32m/Library/Frameworks/Python.framework/Versions/3.8/lib/python3.8/site-packages/pandas/core/apply.py\u001b[0m in \u001b[0;36mapply_series_generator\u001b[0;34m(self)\u001b[0m\n\u001b[1;32m    288\u001b[0m             \u001b[0;32mfor\u001b[0m \u001b[0mi\u001b[0m\u001b[0;34m,\u001b[0m \u001b[0mv\u001b[0m \u001b[0;32min\u001b[0m \u001b[0menumerate\u001b[0m\u001b[0;34m(\u001b[0m\u001b[0mseries_gen\u001b[0m\u001b[0;34m)\u001b[0m\u001b[0;34m:\u001b[0m\u001b[0;34m\u001b[0m\u001b[0;34m\u001b[0m\u001b[0m\n\u001b[1;32m    289\u001b[0m                 \u001b[0;31m# ignore SettingWithCopy here in case the user mutates\u001b[0m\u001b[0;34m\u001b[0m\u001b[0;34m\u001b[0m\u001b[0;34m\u001b[0m\u001b[0m\n\u001b[0;32m--> 290\u001b[0;31m                 \u001b[0mresults\u001b[0m\u001b[0;34m[\u001b[0m\u001b[0mi\u001b[0m\u001b[0;34m]\u001b[0m \u001b[0;34m=\u001b[0m \u001b[0mself\u001b[0m\u001b[0;34m.\u001b[0m\u001b[0mf\u001b[0m\u001b[0;34m(\u001b[0m\u001b[0mv\u001b[0m\u001b[0;34m)\u001b[0m\u001b[0;34m\u001b[0m\u001b[0;34m\u001b[0m\u001b[0m\n\u001b[0m\u001b[1;32m    291\u001b[0m                 \u001b[0;32mif\u001b[0m \u001b[0misinstance\u001b[0m\u001b[0;34m(\u001b[0m\u001b[0mresults\u001b[0m\u001b[0;34m[\u001b[0m\u001b[0mi\u001b[0m\u001b[0;34m]\u001b[0m\u001b[0;34m,\u001b[0m \u001b[0mABCSeries\u001b[0m\u001b[0;34m)\u001b[0m\u001b[0;34m:\u001b[0m\u001b[0;34m\u001b[0m\u001b[0;34m\u001b[0m\u001b[0m\n\u001b[1;32m    292\u001b[0m                     \u001b[0;31m# If we have a view on v, we need to make a copy because\u001b[0m\u001b[0;34m\u001b[0m\u001b[0;34m\u001b[0m\u001b[0;34m\u001b[0m\u001b[0m\n",
      "\u001b[0;32m<ipython-input-33-0f1bef95e092>\u001b[0m in \u001b[0;36mget_insight\u001b[0;34m(row)\u001b[0m\n\u001b[1;32m      1\u001b[0m \u001b[0;32mdef\u001b[0m \u001b[0mget_insight\u001b[0m\u001b[0;34m(\u001b[0m\u001b[0mrow\u001b[0m\u001b[0;34m)\u001b[0m\u001b[0;34m:\u001b[0m\u001b[0;34m\u001b[0m\u001b[0;34m\u001b[0m\u001b[0m\n\u001b[1;32m      2\u001b[0m     \u001b[0minsight\u001b[0m \u001b[0;34m=\u001b[0m \u001b[0mgraph\u001b[0m\u001b[0;34m.\u001b[0m\u001b[0mget_connections\u001b[0m\u001b[0;34m(\u001b[0m\u001b[0mid\u001b[0m\u001b[0;34m=\u001b[0m\u001b[0mrow\u001b[0m\u001b[0;34m[\u001b[0m\u001b[0;34m\"id\"\u001b[0m\u001b[0;34m]\u001b[0m\u001b[0;34m,\u001b[0m \u001b[0mconnection_name\u001b[0m \u001b[0;34m=\u001b[0m \u001b[0;34m\"video_insights\"\u001b[0m\u001b[0;34m,\u001b[0m \u001b[0mmetric\u001b[0m\u001b[0;34m=\u001b[0m\u001b[0;34m'total_video_views, total_video_views_sound_on, total_video_complete_views, total_video_reactions_by_type_total, total_video_view_time_by_age_bucket_and_gender, total_video_view_time_by_region_id, total_video_views_by_distribution_type, total_video_impressions'\u001b[0m\u001b[0;34m,\u001b[0m \u001b[0mdate_preset\u001b[0m\u001b[0;34m=\u001b[0m\u001b[0;34m'yesterday'\u001b[0m\u001b[0;34m,\u001b[0m \u001b[0mperiod\u001b[0m\u001b[0;34m=\u001b[0m\u001b[0;34m'lifetime'\u001b[0m\u001b[0;34m,\u001b[0m \u001b[0mshow_description_from_api_doc\u001b[0m\u001b[0;34m=\u001b[0m\u001b[0;32mFalse\u001b[0m\u001b[0;34m)\u001b[0m\u001b[0;34m\u001b[0m\u001b[0;34m\u001b[0m\u001b[0m\n\u001b[0;32m----> 3\u001b[0;31m     \u001b[0;32mif\u001b[0m \u001b[0;34m\"total views\"\u001b[0m \u001b[0;32min\u001b[0m \u001b[0minsight\u001b[0m\u001b[0;34m[\u001b[0m\u001b[0;34m\"data\"\u001b[0m\u001b[0;34m]\u001b[0m\u001b[0;34m[\u001b[0m\u001b[0;36m0\u001b[0m\u001b[0;34m]\u001b[0m\u001b[0;34m[\u001b[0m\u001b[0;34m\"values\"\u001b[0m\u001b[0;34m]\u001b[0m\u001b[0;34m[\u001b[0m\u001b[0;36m0\u001b[0m\u001b[0;34m]\u001b[0m\u001b[0;34m[\u001b[0m\u001b[0;34m\"value\"\u001b[0m\u001b[0;34m]\u001b[0m\u001b[0;34m:\u001b[0m\u001b[0;34m\u001b[0m\u001b[0;34m\u001b[0m\u001b[0m\n\u001b[0m\u001b[1;32m      4\u001b[0m         \u001b[0mrow\u001b[0m\u001b[0;34m[\u001b[0m\u001b[0;34m\"total_views\"\u001b[0m\u001b[0;34m]\u001b[0m \u001b[0;34m=\u001b[0m \u001b[0minsight\u001b[0m\u001b[0;34m[\u001b[0m\u001b[0;34m\"data\"\u001b[0m\u001b[0;34m]\u001b[0m\u001b[0;34m[\u001b[0m\u001b[0;36m0\u001b[0m\u001b[0;34m]\u001b[0m\u001b[0;34m[\u001b[0m\u001b[0;34m\"values\"\u001b[0m\u001b[0;34m]\u001b[0m\u001b[0;34m[\u001b[0m\u001b[0;36m0\u001b[0m\u001b[0;34m]\u001b[0m\u001b[0;34m[\u001b[0m\u001b[0;34m\"value\"\u001b[0m\u001b[0;34m]\u001b[0m\u001b[0;34m\u001b[0m\u001b[0;34m\u001b[0m\u001b[0m\n\u001b[1;32m      5\u001b[0m         \u001b[0mrow\u001b[0m\u001b[0;34m[\u001b[0m\u001b[0;34m\"video_views_sound_on\"\u001b[0m\u001b[0;34m]\u001b[0m \u001b[0;34m=\u001b[0m \u001b[0minsight\u001b[0m\u001b[0;34m[\u001b[0m\u001b[0;34m\"data\"\u001b[0m\u001b[0;34m]\u001b[0m\u001b[0;34m[\u001b[0m\u001b[0;36m1\u001b[0m\u001b[0;34m]\u001b[0m\u001b[0;34m[\u001b[0m\u001b[0;34m\"values\"\u001b[0m\u001b[0;34m]\u001b[0m\u001b[0;34m[\u001b[0m\u001b[0;36m0\u001b[0m\u001b[0;34m]\u001b[0m\u001b[0;34m[\u001b[0m\u001b[0;34m\"value\"\u001b[0m\u001b[0;34m]\u001b[0m\u001b[0;34m\u001b[0m\u001b[0;34m\u001b[0m\u001b[0m\n",
      "\u001b[0;31mTypeError\u001b[0m: argument of type 'int' is not iterable"
     ]
    }
   ],
   "source": [
    "df_videos = df_videos.apply(get_insight, axis = 1)"
   ]
  }
 ]
}