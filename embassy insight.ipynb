{
 "metadata": {
  "language_info": {
   "codemirror_mode": {
    "name": "ipython",
    "version": 3
   },
   "file_extension": ".py",
   "mimetype": "text/x-python",
   "name": "python",
   "nbconvert_exporter": "python",
   "pygments_lexer": "ipython3",
   "version": "3.8.7"
  },
  "orig_nbformat": 2,
  "kernelspec": {
   "name": "python3",
   "display_name": "Python 3.8.7 64-bit",
   "metadata": {
    "interpreter": {
     "hash": "aee8b7b246df8f9039afb4144a1f6fd8d2ca17a180786b69acc140d282b71a49"
    }
   }
  }
 },
 "nbformat": 4,
 "nbformat_minor": 2,
 "cells": [
  {
   "cell_type": "code",
   "execution_count": 1,
   "metadata": {},
   "outputs": [],
   "source": [
    "import pandas as pd\n",
    "import json\n",
    "import requests\n",
    "from pandas.io.json import json_normalize\n",
    "import facebook as facebook\n",
    "from datetime import datetime"
   ]
  },
  {
   "cell_type": "code",
   "execution_count": 65,
   "metadata": {},
   "outputs": [],
   "source": [
    "graph = facebook.GraphAPI(access_token=\"EAANKJqZBNNskBAPIJpYsZAtIpWwIEtsSCkNsx0TZB0sNsjWH5wVdJs9nny57p6WTwqJf3CE3Bdb9nyEMKRaagerreRIQ8JNgfSFgth441LsIznZC1RnX4AvZAsYn3lQv5AcTFEdQ84V84IZAtv8wZC7VUQvcWoep2AZBTpq3jl7PDCEGA7BBQzKyrGVN7rsZBXi4ZD\", version=\"3.1\")"
   ]
  },
  {
   "cell_type": "code",
   "execution_count": 10,
   "metadata": {},
   "outputs": [],
   "source": [
    "allposts = graph.get_all_connections(id='110425642319640', connection_name ='posts', fields ='created_time, id, message, status_type, permalink_url, full_picture, message_tags, with_tags')\n",
    "ab = list(allposts)\n",
    "df = pd.DataFrame(ab)"
   ]
  },
  {
   "cell_type": "code",
   "execution_count": 62,
   "metadata": {},
   "outputs": [
    {
     "output_type": "execute_result",
     "data": {
      "text/plain": [
       "                  created_time                                id  \\\n",
       "0     2021-04-06T06:00:00+0000  110425642319640_4382795545082607   \n",
       "1     2021-04-06T02:00:00+0000  110425642319640_4381052148590280   \n",
       "2     2021-04-03T08:00:01+0000  110425642319640_4334355313259964   \n",
       "3     2021-04-03T05:00:00+0000  110425642319640_4373198716042290   \n",
       "4     2021-04-02T11:00:01+0000  110425642319640_4370392692989559   \n",
       "...                        ...                               ...   \n",
       "6229  2012-05-15T06:18:16+0000   110425642319640_436671479695053   \n",
       "6230  2012-05-15T09:02:35+0000   110425642319640_843598962335634   \n",
       "6231  2012-05-08T08:42:32+0000   110425642319640_432057176823150   \n",
       "6232  2012-10-11T03:54:12+0000   110425642319640_508506279178239   \n",
       "6233  2012-10-11T03:50:51+0000   110425642319640_508505179178349   \n",
       "\n",
       "                                                message           status_type  \\\n",
       "0     HANOI LEADERSHIP BOOTCAMP SERIES\\n\\nTrung tâm ...          added_photos   \n",
       "1     🇺🇸🤝🇻🇳 Vào ngày 30/3/2021, Trưởng phòng Hợp tác...          added_photos   \n",
       "2     🎥🤩🌴 Có rất nhiều điều để tìm hiểu và khám phá ...          added_photos   \n",
       "3     🎉🇻🇳 Chúc mừng Việt Nam đã chính thức đảm nhiệm...          added_photos   \n",
       "4     📣🗣️ Cập nhật về thị thực không định cư: Phái đ...          added_photos   \n",
       "...                                                 ...                   ...   \n",
       "6229  Road Traffic Safety Poster Competition (May 14...          added_photos   \n",
       "6230                                                NaN          added_photos   \n",
       "6231  The U.S. and Vietnam are making progress on ef...  mobile_status_update   \n",
       "6232                                                NaN                   NaN   \n",
       "6233                                                NaN                   NaN   \n",
       "\n",
       "                                          permalink_url  \\\n",
       "0     https://www.facebook.com/110425642319640/posts...   \n",
       "1     https://www.facebook.com/110425642319640/posts...   \n",
       "2     https://www.facebook.com/110425642319640/posts...   \n",
       "3     https://www.facebook.com/110425642319640/posts...   \n",
       "4     https://www.facebook.com/110425642319640/posts...   \n",
       "...                                                 ...   \n",
       "6229  https://www.facebook.com/usembassyhanoi/photos...   \n",
       "6230  https://www.facebook.com/usembassyhanoi/photos...   \n",
       "6231  https://www.facebook.com/110425642319640/posts...   \n",
       "6232  https://www.facebook.com/110425642319640/posts...   \n",
       "6233  https://www.facebook.com/110425642319640/posts...   \n",
       "\n",
       "                                           full_picture message_tags  \n",
       "0     https://scontent.fsgn2-4.fna.fbcdn.net/v/t1.64...           []  \n",
       "1     https://scontent.fsgn2-5.fna.fbcdn.net/v/t1.64...          NaN  \n",
       "2     https://scontent.fsgn2-5.fna.fbcdn.net/v/t1.64...           []  \n",
       "3     https://scontent.fsgn2-3.fna.fbcdn.net/v/t1.64...          NaN  \n",
       "4     https://scontent.fsgn2-1.fna.fbcdn.net/v/t1.64...           []  \n",
       "...                                                 ...          ...  \n",
       "6229  https://scontent.fsgn2-2.fna.fbcdn.net/v/t1.18...          NaN  \n",
       "6230  https://scontent.fsgn2-1.fna.fbcdn.net/v/t31.1...          NaN  \n",
       "6231                                                NaN           []  \n",
       "6232  https://scontent.fsgn2-2.fna.fbcdn.net/v/t1.18...          NaN  \n",
       "6233  https://scontent.fsgn2-1.fna.fbcdn.net/v/t1.18...          NaN  \n",
       "\n",
       "[6234 rows x 7 columns]"
      ],
      "text/html": "<div>\n<style scoped>\n    .dataframe tbody tr th:only-of-type {\n        vertical-align: middle;\n    }\n\n    .dataframe tbody tr th {\n        vertical-align: top;\n    }\n\n    .dataframe thead th {\n        text-align: right;\n    }\n</style>\n<table border=\"1\" class=\"dataframe\">\n  <thead>\n    <tr style=\"text-align: right;\">\n      <th></th>\n      <th>created_time</th>\n      <th>id</th>\n      <th>message</th>\n      <th>status_type</th>\n      <th>permalink_url</th>\n      <th>full_picture</th>\n      <th>message_tags</th>\n    </tr>\n  </thead>\n  <tbody>\n    <tr>\n      <th>0</th>\n      <td>2021-04-06T06:00:00+0000</td>\n      <td>110425642319640_4382795545082607</td>\n      <td>HANOI LEADERSHIP BOOTCAMP SERIES\\n\\nTrung tâm ...</td>\n      <td>added_photos</td>\n      <td>https://www.facebook.com/110425642319640/posts...</td>\n      <td>https://scontent.fsgn2-4.fna.fbcdn.net/v/t1.64...</td>\n      <td>[]</td>\n    </tr>\n    <tr>\n      <th>1</th>\n      <td>2021-04-06T02:00:00+0000</td>\n      <td>110425642319640_4381052148590280</td>\n      <td>🇺🇸🤝🇻🇳 Vào ngày 30/3/2021, Trưởng phòng Hợp tác...</td>\n      <td>added_photos</td>\n      <td>https://www.facebook.com/110425642319640/posts...</td>\n      <td>https://scontent.fsgn2-5.fna.fbcdn.net/v/t1.64...</td>\n      <td>NaN</td>\n    </tr>\n    <tr>\n      <th>2</th>\n      <td>2021-04-03T08:00:01+0000</td>\n      <td>110425642319640_4334355313259964</td>\n      <td>🎥🤩🌴 Có rất nhiều điều để tìm hiểu và khám phá ...</td>\n      <td>added_photos</td>\n      <td>https://www.facebook.com/110425642319640/posts...</td>\n      <td>https://scontent.fsgn2-5.fna.fbcdn.net/v/t1.64...</td>\n      <td>[]</td>\n    </tr>\n    <tr>\n      <th>3</th>\n      <td>2021-04-03T05:00:00+0000</td>\n      <td>110425642319640_4373198716042290</td>\n      <td>🎉🇻🇳 Chúc mừng Việt Nam đã chính thức đảm nhiệm...</td>\n      <td>added_photos</td>\n      <td>https://www.facebook.com/110425642319640/posts...</td>\n      <td>https://scontent.fsgn2-3.fna.fbcdn.net/v/t1.64...</td>\n      <td>NaN</td>\n    </tr>\n    <tr>\n      <th>4</th>\n      <td>2021-04-02T11:00:01+0000</td>\n      <td>110425642319640_4370392692989559</td>\n      <td>📣🗣️ Cập nhật về thị thực không định cư: Phái đ...</td>\n      <td>added_photos</td>\n      <td>https://www.facebook.com/110425642319640/posts...</td>\n      <td>https://scontent.fsgn2-1.fna.fbcdn.net/v/t1.64...</td>\n      <td>[]</td>\n    </tr>\n    <tr>\n      <th>...</th>\n      <td>...</td>\n      <td>...</td>\n      <td>...</td>\n      <td>...</td>\n      <td>...</td>\n      <td>...</td>\n      <td>...</td>\n    </tr>\n    <tr>\n      <th>6229</th>\n      <td>2012-05-15T06:18:16+0000</td>\n      <td>110425642319640_436671479695053</td>\n      <td>Road Traffic Safety Poster Competition (May 14...</td>\n      <td>added_photos</td>\n      <td>https://www.facebook.com/usembassyhanoi/photos...</td>\n      <td>https://scontent.fsgn2-2.fna.fbcdn.net/v/t1.18...</td>\n      <td>NaN</td>\n    </tr>\n    <tr>\n      <th>6230</th>\n      <td>2012-05-15T09:02:35+0000</td>\n      <td>110425642319640_843598962335634</td>\n      <td>NaN</td>\n      <td>added_photos</td>\n      <td>https://www.facebook.com/usembassyhanoi/photos...</td>\n      <td>https://scontent.fsgn2-1.fna.fbcdn.net/v/t31.1...</td>\n      <td>NaN</td>\n    </tr>\n    <tr>\n      <th>6231</th>\n      <td>2012-05-08T08:42:32+0000</td>\n      <td>110425642319640_432057176823150</td>\n      <td>The U.S. and Vietnam are making progress on ef...</td>\n      <td>mobile_status_update</td>\n      <td>https://www.facebook.com/110425642319640/posts...</td>\n      <td>NaN</td>\n      <td>[]</td>\n    </tr>\n    <tr>\n      <th>6232</th>\n      <td>2012-10-11T03:54:12+0000</td>\n      <td>110425642319640_508506279178239</td>\n      <td>NaN</td>\n      <td>NaN</td>\n      <td>https://www.facebook.com/110425642319640/posts...</td>\n      <td>https://scontent.fsgn2-2.fna.fbcdn.net/v/t1.18...</td>\n      <td>NaN</td>\n    </tr>\n    <tr>\n      <th>6233</th>\n      <td>2012-10-11T03:50:51+0000</td>\n      <td>110425642319640_508505179178349</td>\n      <td>NaN</td>\n      <td>NaN</td>\n      <td>https://www.facebook.com/110425642319640/posts...</td>\n      <td>https://scontent.fsgn2-1.fna.fbcdn.net/v/t1.18...</td>\n      <td>NaN</td>\n    </tr>\n  </tbody>\n</table>\n<p>6234 rows × 7 columns</p>\n</div>"
     },
     "metadata": {},
     "execution_count": 62
    }
   ],
   "source": [
    "df"
   ]
  },
  {
   "cell_type": "code",
   "execution_count": 15,
   "metadata": {},
   "outputs": [],
   "source": [
    "df.to_csv(\"20210406_Embassy Posts.csv\")"
   ]
  },
  {
   "cell_type": "code",
   "execution_count": 49,
   "metadata": {},
   "outputs": [
    {
     "output_type": "execute_result",
     "data": {
      "text/plain": [
       "                  created_time                                id  \\\n",
       "37    2021-03-24T04:00:53+0000  110425642319640_4338119112883584   \n",
       "141   2021-02-08T13:17:51+0000  110425642319640_4215693758459454   \n",
       "143   2021-02-07T15:12:01+0000  110425642319640_4213227422039421   \n",
       "166   2021-01-29T09:00:01+0000  110425642319640_4188116431217187   \n",
       "180   2021-01-24T02:00:00+0000  110425642319640_4167249283303902   \n",
       "504   2020-10-08T08:04:40+0000  110425642319640_1350783775116102   \n",
       "528   2020-09-30T05:45:00+0000  110425642319640_3847083728653794   \n",
       "615   2020-09-05T14:00:08+0000  110425642319640_3762664550429046   \n",
       "648   2020-08-21T02:00:01+0000  110425642319640_3714590688569766   \n",
       "661   2020-08-15T02:00:03+0000  110425642319640_3695938693768299   \n",
       "782   2020-07-08T01:43:34+0000  110425642319640_3419267398096417   \n",
       "936   2020-05-03T14:04:28+0000  110425642319640_3405561849472653   \n",
       "949   2020-04-28T12:30:00+0000  110425642319640_3392872160741622   \n",
       "1004  2020-04-13T14:43:41+0000  110425642319640_3355326947829477   \n",
       "1055  2020-03-31T06:49:40+0000  110425642319640_3322690614426444   \n",
       "1073  2020-03-23T13:47:42+0000  110425642319640_3303252803036892   \n",
       "1209  2020-01-22T14:00:31+0000  110425642319640_3162346943794146   \n",
       "1215  2020-01-17T02:00:00+0000  110425642319640_3148698288492345   \n",
       "1548  2019-06-26T08:30:00+0000  110425642319640_2718184274877084   \n",
       "1636  2019-05-15T09:00:00+0000  110425642319640_2643033745725471   \n",
       "1771  2019-03-08T09:08:44+0000  110425642319640_2535163023179211   \n",
       "1844  2019-01-31T02:18:00+0000  110425642319640_2475563585805822   \n",
       "1850  2019-01-29T10:00:01+0000  110425642319640_2474113809284133   \n",
       "2164  2018-06-29T06:11:17+0000  110425642319640_2143472972348220   \n",
       "\n",
       "                                                message  status_type  \\\n",
       "37    Hôm nay là #Ngaythegioiphongchonglao. Vẫn còn ...  added_video   \n",
       "141   😎🎤🎼 Bằng tất cả tình cảm quý mến dành cho Việt...  added_video   \n",
       "143   Tết này, những gương mặt vàng trong làng Rap V...  added_video   \n",
       "166   🥳🏮🧧 #ĐạisứKritenbrink: Hai năm trước đây, tron...  added_video   \n",
       "180   Từ Nebraska đến Hanoi, it’s your boy #Danbo!  ...  added_video   \n",
       "504   Tune in as #AmbassadorKritenbrink delivers his...  added_video   \n",
       "528   #ĐạisứKritenbrink: Để tri ân Tết Trung thu của...  added_video   \n",
       "615   DISCOVER MY STATE: NEBRASKA\\n\\nWhere can you e...  added_video   \n",
       "648   #ĐạisứKritenbrink đã thảo luận về chính sách m...  added_video   \n",
       "661   Trong cuộc phỏng vấn với Truyền hình An ninh, ...  added_video   \n",
       "782   Hãy cùng tham gia giao lưu trực tuyến với Đại ...  added_video   \n",
       "936   Trong cuộc phỏng vấn với Truyền hình Nhân Dân ...  added_video   \n",
       "949   Ngày hôm nay, trong cuộc phỏng vấn với kênh tr...  added_video   \n",
       "1004  #ĐạisứKritenbrink nêu bật những nỗ lực hợp tác...  added_video   \n",
       "1055  #ĐạisứKritenbrink: Các đối tác luôn sát cánh b...  added_video   \n",
       "1073  “Tôi gửi đến các bạn những lời chúc tốt đẹp nh...  added_video   \n",
       "1209  \"Tết tết tết tết đến rồi, Tết đến trong tim mọ...  added_video   \n",
       "1215  #ĐạisứKritenbrink: Tôi rất vinh hạnh khi có dị...  added_video   \n",
       "1548  \"Âm nhạc là ngôn ngữ toàn cầu và khi được xem ...  added_video   \n",
       "1636  Tuần trước, tôi đã một buổi nói chuyện tuyệt v...  added_video   \n",
       "1771  \"Chúc mừng ngày Quốc tế Phụ nữ!\\n\\nHôm nay tôi...  added_video   \n",
       "1844  Các chính phủ có thể cùng lúc làm giảm ô nhiễm...  added_video   \n",
       "1850  #AmbassadorKritenbrink: Đây là cái Tết thứ hai...  added_video   \n",
       "2164  [LIVESTREAM: MINI-CONFERENCE: NEW PARTNERSHIPS...  added_video   \n",
       "\n",
       "                                          permalink_url  \\\n",
       "37    https://www.facebook.com/110425642319640/posts...   \n",
       "141   https://www.facebook.com/110425642319640/posts...   \n",
       "143   https://www.facebook.com/110425642319640/posts...   \n",
       "166   https://www.facebook.com/110425642319640/posts...   \n",
       "180   https://www.facebook.com/110425642319640/posts...   \n",
       "504   https://www.facebook.com/usembassyhanoi/videos...   \n",
       "528   https://www.facebook.com/110425642319640/posts...   \n",
       "615   https://www.facebook.com/110425642319640/posts...   \n",
       "648   https://www.facebook.com/110425642319640/posts...   \n",
       "661   https://www.facebook.com/110425642319640/posts...   \n",
       "782   https://www.facebook.com/usembassyhanoi/videos...   \n",
       "936   https://www.facebook.com/110425642319640/posts...   \n",
       "949   https://www.facebook.com/110425642319640/posts...   \n",
       "1004  https://www.facebook.com/110425642319640/posts...   \n",
       "1055  https://www.facebook.com/110425642319640/posts...   \n",
       "1073  https://www.facebook.com/110425642319640/posts...   \n",
       "1209  https://www.facebook.com/110425642319640/posts...   \n",
       "1215  https://www.facebook.com/110425642319640/posts...   \n",
       "1548  https://www.facebook.com/110425642319640/posts...   \n",
       "1636  https://www.facebook.com/110425642319640/posts...   \n",
       "1771  https://www.facebook.com/110425642319640/posts...   \n",
       "1844  https://www.facebook.com/110425642319640/posts...   \n",
       "1850  https://www.facebook.com/110425642319640/posts...   \n",
       "2164  https://www.facebook.com/usembassyhanoi/videos...   \n",
       "\n",
       "                                           full_picture  \\\n",
       "37    https://scontent.fsgn2-2.fna.fbcdn.net/v/t15.5...   \n",
       "141   https://scontent.fsgn2-1.fna.fbcdn.net/v/t15.5...   \n",
       "143   https://scontent.fsgn2-5.fna.fbcdn.net/v/t15.5...   \n",
       "166   https://scontent.fsgn2-4.fna.fbcdn.net/v/t15.1...   \n",
       "180   https://scontent.fsgn2-6.fna.fbcdn.net/v/t15.1...   \n",
       "504   https://scontent.fsgn2-1.fna.fbcdn.net/v/t15.1...   \n",
       "528   https://scontent.fsgn2-5.fna.fbcdn.net/v/t15.5...   \n",
       "615   https://scontent.fsgn2-3.fna.fbcdn.net/v/t15.5...   \n",
       "648   https://scontent.fsgn2-3.fna.fbcdn.net/v/t15.1...   \n",
       "661   https://scontent.fsgn2-2.fna.fbcdn.net/v/t15.5...   \n",
       "782   https://scontent.fsgn2-5.fna.fbcdn.net/v/t15.5...   \n",
       "936   https://scontent.fsgn2-3.fna.fbcdn.net/v/t15.5...   \n",
       "949   https://scontent.fsgn2-1.fna.fbcdn.net/v/t15.5...   \n",
       "1004  https://scontent.fsgn2-2.fna.fbcdn.net/v/t15.1...   \n",
       "1055  https://scontent.fsgn2-4.fna.fbcdn.net/v/t15.5...   \n",
       "1073  https://scontent.fsgn2-3.fna.fbcdn.net/v/t15.5...   \n",
       "1209  https://scontent.fsgn2-1.fna.fbcdn.net/v/t15.5...   \n",
       "1215  https://scontent.fsgn2-4.fna.fbcdn.net/v/t15.1...   \n",
       "1548  https://scontent.fsgn2-6.fna.fbcdn.net/v/t15.1...   \n",
       "1636  https://scontent.fsgn2-5.fna.fbcdn.net/v/t15.5...   \n",
       "1771  https://scontent.fsgn2-1.fna.fbcdn.net/v/t15.5...   \n",
       "1844  https://scontent.fsgn2-5.fna.fbcdn.net/v/t15.1...   \n",
       "1850  https://scontent.fsgn2-5.fna.fbcdn.net/v/t15.5...   \n",
       "2164  https://scontent.fsgn2-1.fna.fbcdn.net/v/t15.5...   \n",
       "\n",
       "                                           message_tags  \n",
       "37    [{'id': '1456247951086151', 'name': '#ngaytheg...  \n",
       "141   [{'id': '2107028136003141', 'name': '#Ambassad...  \n",
       "143   [{'id': '2107028136003141', 'name': '#Ambassad...  \n",
       "166   [{'id': '2722264851181928', 'name': '#ĐạisứKri...  \n",
       "180   [{'id': '459900304078534', 'name': '#danbo', '...  \n",
       "504   [{'id': '2107028136003141', 'name': '#Ambassad...  \n",
       "528   [{'id': '2722264851181928', 'name': '#ĐạisứKri...  \n",
       "615   [{'id': '2908410405854367', 'name': '#25nămMỹV...  \n",
       "648   [{'id': '2722264851181928', 'name': '#ĐạisứKri...  \n",
       "661   [{'id': '2722264851181928', 'name': '#ĐạisứKri...  \n",
       "782   [{'id': '2107028136003141', 'name': '#Ambassad...  \n",
       "936   [{'id': '2722264851181928', 'name': '#ĐạisứKri...  \n",
       "949   [{'id': '2722264851181928', 'name': '#ĐạisứKri...  \n",
       "1004  [{'id': '2722264851181928', 'name': '#ĐạisứKri...  \n",
       "1055  [{'id': '2722264851181928', 'name': '#ĐạisứKri...  \n",
       "1073  [{'id': '2722264851181928', 'name': '#ĐạisứKri...  \n",
       "1209  [{'id': '2722264851181928', 'name': '#ĐạisứKri...  \n",
       "1215  [{'id': '2722264851181928', 'name': '#ĐạisứKri...  \n",
       "1548                                                NaN  \n",
       "1636  [{'id': '2722264851181928', 'name': '#ĐạisứKri...  \n",
       "1771  [{'id': '2107028136003141', 'name': '#Ambassad...  \n",
       "1844  [{'id': '2107028136003141', 'name': '#Ambassad...  \n",
       "1850  [{'id': '2107028136003141', 'name': '#Ambassad...  \n",
       "2164                                                NaN  "
      ],
      "text/html": "<div>\n<style scoped>\n    .dataframe tbody tr th:only-of-type {\n        vertical-align: middle;\n    }\n\n    .dataframe tbody tr th {\n        vertical-align: top;\n    }\n\n    .dataframe thead th {\n        text-align: right;\n    }\n</style>\n<table border=\"1\" class=\"dataframe\">\n  <thead>\n    <tr style=\"text-align: right;\">\n      <th></th>\n      <th>created_time</th>\n      <th>id</th>\n      <th>message</th>\n      <th>status_type</th>\n      <th>permalink_url</th>\n      <th>full_picture</th>\n      <th>message_tags</th>\n    </tr>\n  </thead>\n  <tbody>\n    <tr>\n      <th>37</th>\n      <td>2021-03-24T04:00:53+0000</td>\n      <td>110425642319640_4338119112883584</td>\n      <td>Hôm nay là #Ngaythegioiphongchonglao. Vẫn còn ...</td>\n      <td>added_video</td>\n      <td>https://www.facebook.com/110425642319640/posts...</td>\n      <td>https://scontent.fsgn2-2.fna.fbcdn.net/v/t15.5...</td>\n      <td>[{'id': '1456247951086151', 'name': '#ngaytheg...</td>\n    </tr>\n    <tr>\n      <th>141</th>\n      <td>2021-02-08T13:17:51+0000</td>\n      <td>110425642319640_4215693758459454</td>\n      <td>😎🎤🎼 Bằng tất cả tình cảm quý mến dành cho Việt...</td>\n      <td>added_video</td>\n      <td>https://www.facebook.com/110425642319640/posts...</td>\n      <td>https://scontent.fsgn2-1.fna.fbcdn.net/v/t15.5...</td>\n      <td>[{'id': '2107028136003141', 'name': '#Ambassad...</td>\n    </tr>\n    <tr>\n      <th>143</th>\n      <td>2021-02-07T15:12:01+0000</td>\n      <td>110425642319640_4213227422039421</td>\n      <td>Tết này, những gương mặt vàng trong làng Rap V...</td>\n      <td>added_video</td>\n      <td>https://www.facebook.com/110425642319640/posts...</td>\n      <td>https://scontent.fsgn2-5.fna.fbcdn.net/v/t15.5...</td>\n      <td>[{'id': '2107028136003141', 'name': '#Ambassad...</td>\n    </tr>\n    <tr>\n      <th>166</th>\n      <td>2021-01-29T09:00:01+0000</td>\n      <td>110425642319640_4188116431217187</td>\n      <td>🥳🏮🧧 #ĐạisứKritenbrink: Hai năm trước đây, tron...</td>\n      <td>added_video</td>\n      <td>https://www.facebook.com/110425642319640/posts...</td>\n      <td>https://scontent.fsgn2-4.fna.fbcdn.net/v/t15.1...</td>\n      <td>[{'id': '2722264851181928', 'name': '#ĐạisứKri...</td>\n    </tr>\n    <tr>\n      <th>180</th>\n      <td>2021-01-24T02:00:00+0000</td>\n      <td>110425642319640_4167249283303902</td>\n      <td>Từ Nebraska đến Hanoi, it’s your boy #Danbo!  ...</td>\n      <td>added_video</td>\n      <td>https://www.facebook.com/110425642319640/posts...</td>\n      <td>https://scontent.fsgn2-6.fna.fbcdn.net/v/t15.1...</td>\n      <td>[{'id': '459900304078534', 'name': '#danbo', '...</td>\n    </tr>\n    <tr>\n      <th>504</th>\n      <td>2020-10-08T08:04:40+0000</td>\n      <td>110425642319640_1350783775116102</td>\n      <td>Tune in as #AmbassadorKritenbrink delivers his...</td>\n      <td>added_video</td>\n      <td>https://www.facebook.com/usembassyhanoi/videos...</td>\n      <td>https://scontent.fsgn2-1.fna.fbcdn.net/v/t15.1...</td>\n      <td>[{'id': '2107028136003141', 'name': '#Ambassad...</td>\n    </tr>\n    <tr>\n      <th>528</th>\n      <td>2020-09-30T05:45:00+0000</td>\n      <td>110425642319640_3847083728653794</td>\n      <td>#ĐạisứKritenbrink: Để tri ân Tết Trung thu của...</td>\n      <td>added_video</td>\n      <td>https://www.facebook.com/110425642319640/posts...</td>\n      <td>https://scontent.fsgn2-5.fna.fbcdn.net/v/t15.5...</td>\n      <td>[{'id': '2722264851181928', 'name': '#ĐạisứKri...</td>\n    </tr>\n    <tr>\n      <th>615</th>\n      <td>2020-09-05T14:00:08+0000</td>\n      <td>110425642319640_3762664550429046</td>\n      <td>DISCOVER MY STATE: NEBRASKA\\n\\nWhere can you e...</td>\n      <td>added_video</td>\n      <td>https://www.facebook.com/110425642319640/posts...</td>\n      <td>https://scontent.fsgn2-3.fna.fbcdn.net/v/t15.5...</td>\n      <td>[{'id': '2908410405854367', 'name': '#25nămMỹV...</td>\n    </tr>\n    <tr>\n      <th>648</th>\n      <td>2020-08-21T02:00:01+0000</td>\n      <td>110425642319640_3714590688569766</td>\n      <td>#ĐạisứKritenbrink đã thảo luận về chính sách m...</td>\n      <td>added_video</td>\n      <td>https://www.facebook.com/110425642319640/posts...</td>\n      <td>https://scontent.fsgn2-3.fna.fbcdn.net/v/t15.1...</td>\n      <td>[{'id': '2722264851181928', 'name': '#ĐạisứKri...</td>\n    </tr>\n    <tr>\n      <th>661</th>\n      <td>2020-08-15T02:00:03+0000</td>\n      <td>110425642319640_3695938693768299</td>\n      <td>Trong cuộc phỏng vấn với Truyền hình An ninh, ...</td>\n      <td>added_video</td>\n      <td>https://www.facebook.com/110425642319640/posts...</td>\n      <td>https://scontent.fsgn2-2.fna.fbcdn.net/v/t15.5...</td>\n      <td>[{'id': '2722264851181928', 'name': '#ĐạisứKri...</td>\n    </tr>\n    <tr>\n      <th>782</th>\n      <td>2020-07-08T01:43:34+0000</td>\n      <td>110425642319640_3419267398096417</td>\n      <td>Hãy cùng tham gia giao lưu trực tuyến với Đại ...</td>\n      <td>added_video</td>\n      <td>https://www.facebook.com/usembassyhanoi/videos...</td>\n      <td>https://scontent.fsgn2-5.fna.fbcdn.net/v/t15.5...</td>\n      <td>[{'id': '2107028136003141', 'name': '#Ambassad...</td>\n    </tr>\n    <tr>\n      <th>936</th>\n      <td>2020-05-03T14:04:28+0000</td>\n      <td>110425642319640_3405561849472653</td>\n      <td>Trong cuộc phỏng vấn với Truyền hình Nhân Dân ...</td>\n      <td>added_video</td>\n      <td>https://www.facebook.com/110425642319640/posts...</td>\n      <td>https://scontent.fsgn2-3.fna.fbcdn.net/v/t15.5...</td>\n      <td>[{'id': '2722264851181928', 'name': '#ĐạisứKri...</td>\n    </tr>\n    <tr>\n      <th>949</th>\n      <td>2020-04-28T12:30:00+0000</td>\n      <td>110425642319640_3392872160741622</td>\n      <td>Ngày hôm nay, trong cuộc phỏng vấn với kênh tr...</td>\n      <td>added_video</td>\n      <td>https://www.facebook.com/110425642319640/posts...</td>\n      <td>https://scontent.fsgn2-1.fna.fbcdn.net/v/t15.5...</td>\n      <td>[{'id': '2722264851181928', 'name': '#ĐạisứKri...</td>\n    </tr>\n    <tr>\n      <th>1004</th>\n      <td>2020-04-13T14:43:41+0000</td>\n      <td>110425642319640_3355326947829477</td>\n      <td>#ĐạisứKritenbrink nêu bật những nỗ lực hợp tác...</td>\n      <td>added_video</td>\n      <td>https://www.facebook.com/110425642319640/posts...</td>\n      <td>https://scontent.fsgn2-2.fna.fbcdn.net/v/t15.1...</td>\n      <td>[{'id': '2722264851181928', 'name': '#ĐạisứKri...</td>\n    </tr>\n    <tr>\n      <th>1055</th>\n      <td>2020-03-31T06:49:40+0000</td>\n      <td>110425642319640_3322690614426444</td>\n      <td>#ĐạisứKritenbrink: Các đối tác luôn sát cánh b...</td>\n      <td>added_video</td>\n      <td>https://www.facebook.com/110425642319640/posts...</td>\n      <td>https://scontent.fsgn2-4.fna.fbcdn.net/v/t15.5...</td>\n      <td>[{'id': '2722264851181928', 'name': '#ĐạisứKri...</td>\n    </tr>\n    <tr>\n      <th>1073</th>\n      <td>2020-03-23T13:47:42+0000</td>\n      <td>110425642319640_3303252803036892</td>\n      <td>“Tôi gửi đến các bạn những lời chúc tốt đẹp nh...</td>\n      <td>added_video</td>\n      <td>https://www.facebook.com/110425642319640/posts...</td>\n      <td>https://scontent.fsgn2-3.fna.fbcdn.net/v/t15.5...</td>\n      <td>[{'id': '2722264851181928', 'name': '#ĐạisứKri...</td>\n    </tr>\n    <tr>\n      <th>1209</th>\n      <td>2020-01-22T14:00:31+0000</td>\n      <td>110425642319640_3162346943794146</td>\n      <td>\"Tết tết tết tết đến rồi, Tết đến trong tim mọ...</td>\n      <td>added_video</td>\n      <td>https://www.facebook.com/110425642319640/posts...</td>\n      <td>https://scontent.fsgn2-1.fna.fbcdn.net/v/t15.5...</td>\n      <td>[{'id': '2722264851181928', 'name': '#ĐạisứKri...</td>\n    </tr>\n    <tr>\n      <th>1215</th>\n      <td>2020-01-17T02:00:00+0000</td>\n      <td>110425642319640_3148698288492345</td>\n      <td>#ĐạisứKritenbrink: Tôi rất vinh hạnh khi có dị...</td>\n      <td>added_video</td>\n      <td>https://www.facebook.com/110425642319640/posts...</td>\n      <td>https://scontent.fsgn2-4.fna.fbcdn.net/v/t15.1...</td>\n      <td>[{'id': '2722264851181928', 'name': '#ĐạisứKri...</td>\n    </tr>\n    <tr>\n      <th>1548</th>\n      <td>2019-06-26T08:30:00+0000</td>\n      <td>110425642319640_2718184274877084</td>\n      <td>\"Âm nhạc là ngôn ngữ toàn cầu và khi được xem ...</td>\n      <td>added_video</td>\n      <td>https://www.facebook.com/110425642319640/posts...</td>\n      <td>https://scontent.fsgn2-6.fna.fbcdn.net/v/t15.1...</td>\n      <td>NaN</td>\n    </tr>\n    <tr>\n      <th>1636</th>\n      <td>2019-05-15T09:00:00+0000</td>\n      <td>110425642319640_2643033745725471</td>\n      <td>Tuần trước, tôi đã một buổi nói chuyện tuyệt v...</td>\n      <td>added_video</td>\n      <td>https://www.facebook.com/110425642319640/posts...</td>\n      <td>https://scontent.fsgn2-5.fna.fbcdn.net/v/t15.5...</td>\n      <td>[{'id': '2722264851181928', 'name': '#ĐạisứKri...</td>\n    </tr>\n    <tr>\n      <th>1771</th>\n      <td>2019-03-08T09:08:44+0000</td>\n      <td>110425642319640_2535163023179211</td>\n      <td>\"Chúc mừng ngày Quốc tế Phụ nữ!\\n\\nHôm nay tôi...</td>\n      <td>added_video</td>\n      <td>https://www.facebook.com/110425642319640/posts...</td>\n      <td>https://scontent.fsgn2-1.fna.fbcdn.net/v/t15.5...</td>\n      <td>[{'id': '2107028136003141', 'name': '#Ambassad...</td>\n    </tr>\n    <tr>\n      <th>1844</th>\n      <td>2019-01-31T02:18:00+0000</td>\n      <td>110425642319640_2475563585805822</td>\n      <td>Các chính phủ có thể cùng lúc làm giảm ô nhiễm...</td>\n      <td>added_video</td>\n      <td>https://www.facebook.com/110425642319640/posts...</td>\n      <td>https://scontent.fsgn2-5.fna.fbcdn.net/v/t15.1...</td>\n      <td>[{'id': '2107028136003141', 'name': '#Ambassad...</td>\n    </tr>\n    <tr>\n      <th>1850</th>\n      <td>2019-01-29T10:00:01+0000</td>\n      <td>110425642319640_2474113809284133</td>\n      <td>#AmbassadorKritenbrink: Đây là cái Tết thứ hai...</td>\n      <td>added_video</td>\n      <td>https://www.facebook.com/110425642319640/posts...</td>\n      <td>https://scontent.fsgn2-5.fna.fbcdn.net/v/t15.5...</td>\n      <td>[{'id': '2107028136003141', 'name': '#Ambassad...</td>\n    </tr>\n    <tr>\n      <th>2164</th>\n      <td>2018-06-29T06:11:17+0000</td>\n      <td>110425642319640_2143472972348220</td>\n      <td>[LIVESTREAM: MINI-CONFERENCE: NEW PARTNERSHIPS...</td>\n      <td>added_video</td>\n      <td>https://www.facebook.com/usembassyhanoi/videos...</td>\n      <td>https://scontent.fsgn2-1.fna.fbcdn.net/v/t15.5...</td>\n      <td>NaN</td>\n    </tr>\n  </tbody>\n</table>\n</div>"
     },
     "metadata": {},
     "execution_count": 49
    }
   ],
   "source": [
    "ambovideo = df[df[\"message\"].str.contains(\"Kritenbrink\", na=False)]\n",
    "ambovideo[ambovideo[\"status_type\"] == \"added_video\"]"
   ]
  },
  {
   "cell_type": "code",
   "execution_count": 52,
   "metadata": {},
   "outputs": [
    {
     "output_type": "execute_result",
     "data": {
      "text/plain": [
       "{'data': [{'name': 'post_video_view_time_by_region_id',\n",
       "   'period': 'lifetime',\n",
       "   'values': [{'value': {'Hanoi - Vietnam': 11779600719,\n",
       "      'Ho Chi Minh City - Vietnam': 9982771617,\n",
       "      'Da Nang - Vietnam': 1243565760,\n",
       "      'Haiphong - Vietnam': 1174337814,\n",
       "      'Đồng Nai Province - Vietnam': 1023730473,\n",
       "      'California - United States': 881194271,\n",
       "      'Hải Dương Province - Vietnam': 631532981,\n",
       "      'Bình Dương Province - Vietnam': 629521350,\n",
       "      'Thanh Hóa Province - Vietnam': 624325018,\n",
       "      'Nghệ An Province - Vietnam': 588579608,\n",
       "      'Quảng Ninh Province - Vietnam': 586766032,\n",
       "      'Khánh Hòa Province - Vietnam': 555847916,\n",
       "      'Bà Rịa–Vũng Tàu Province - Vietnam': 541509977,\n",
       "      'Thừa Thiên–Huế Province - Vietnam': 514037045,\n",
       "      'Bắc Ninh Province - Vietnam': 513539419,\n",
       "      'Cần Thơ - Vietnam': 480475948,\n",
       "      'Nam Định Province - Vietnam': 453137210,\n",
       "      'Texas - United States': 414936150,\n",
       "      'Thái Nguyên Province - Vietnam': 385878887,\n",
       "      'Bắc Giang Province - Vietnam': 384767415,\n",
       "      'Lâm Đồng Province - Vietnam': 382885705,\n",
       "      'Thái Bình Province - Vietnam': 371112240,\n",
       "      'Quảng Nam Province - Vietnam': 365680002,\n",
       "      'Đắk Lắk Province - Vietnam': 359896671,\n",
       "      'Ontario - Canada': 341870013,\n",
       "      'New South Wales - Australia': 320681634,\n",
       "      'Victoria - Australia': 314820895,\n",
       "      'Hưng Yên Province - Vietnam': 287845595,\n",
       "      'An Giang Province - Vietnam': 283925378,\n",
       "      'Tokyo - Japan': 276869850,\n",
       "      'Virginia - United States': 268757833,\n",
       "      'Bình Định Province - Vietnam': 268572698,\n",
       "      'Bình Thuận Province - Vietnam': 267349741,\n",
       "      'Kiên Giang Province - Vietnam': 251290978,\n",
       "      'Hà Tĩnh Province - Vietnam': 247775805,\n",
       "      'England - United Kingdom': 247401037,\n",
       "      'Vĩnh Phúc Province - Vietnam': 243977454,\n",
       "      'Ninh Bình Province - Vietnam': 240079045,\n",
       "      'Phú Thọ Province - Vietnam': 225216667,\n",
       "      'Gia Lai Province - Vietnam': 208450965,\n",
       "      'Tây Ninh Province - Vietnam': 203315812,\n",
       "      'Tiền Giang Province - Vietnam': 200069355,\n",
       "      'Quảng Ngãi Province - Vietnam': 194035239,\n",
       "      'Osaka Prefecture - Japan': 182488351,\n",
       "      'Hà Nam Province - Vietnam': 172172116}}],\n",
       "   'title': 'Lifetime Video View Time (in MS) by Top Location (Region)',\n",
       "   'description': 'Lifetime video view time (in MS) by Top Location (Region).',\n",
       "   'id': '110425642319640_4215693758459454/insights/post_video_view_time_by_region_id/lifetime'}],\n",
       " 'paging': {'previous': 'https://graph.facebook.com/v10.0/110425642319640_4215693758459454/insights?access_token=EAANKJqZBNNskBACzokYxiVM9lyzjphlzFiErT7Gk5pfz7sWfa6hZBzwN05CxYX75ZAE3SYGXDE5UpVrxYMU8XDg8Ljl2HDlAUgzhYaZBNZCWbikFzHAO9CUXX56W7G5KCt9dH6KZB7ThzaghFwZAPYzCZAmUYvFxWx7oDCcQKIhteQSdVU8eBpRnIOuhRYSROat7oDt3DKZBycO0sQXId3Kpw&metric=post_video_view_time_by_region_id&period=lifetime&date_preset=yesterday&since=1617519600&until=1617606000',\n",
       "  'next': 'https://graph.facebook.com/v10.0/110425642319640_4215693758459454/insights?access_token=EAANKJqZBNNskBACzokYxiVM9lyzjphlzFiErT7Gk5pfz7sWfa6hZBzwN05CxYX75ZAE3SYGXDE5UpVrxYMU8XDg8Ljl2HDlAUgzhYaZBNZCWbikFzHAO9CUXX56W7G5KCt9dH6KZB7ThzaghFwZAPYzCZAmUYvFxWx7oDCcQKIhteQSdVU8eBpRnIOuhRYSROat7oDt3DKZBycO0sQXId3Kpw&metric=post_video_view_time_by_region_id&period=lifetime&date_preset=yesterday&since=1617692400&until=1617778800'}}"
      ]
     },
     "metadata": {},
     "execution_count": 52
    }
   ],
   "source": [
    "rap = graph.get_connections(id=\"110425642319640_4215693758459454\", connection_name ='insights', metric='post_video_view_time_by_region_id', date_preset='yesterday', period='lifetime', show_description_from_api_doc=False)\n",
    "rap"
   ]
  },
  {
   "cell_type": "code",
   "execution_count": 61,
   "metadata": {},
   "outputs": [
    {
     "output_type": "execute_result",
     "data": {
      "text/plain": [
       "{'data': [],\n",
       " 'paging': {'previous': 'https://graph.facebook.com/v10.0/110425642319640_4215693758459454/insights?access_token=EAANKJqZBNNskBACzokYxiVM9lyzjphlzFiErT7Gk5pfz7sWfa6hZBzwN05CxYX75ZAE3SYGXDE5UpVrxYMU8XDg8Ljl2HDlAUgzhYaZBNZCWbikFzHAO9CUXX56W7G5KCt9dH6KZB7ThzaghFwZAPYzCZAmUYvFxWx7oDCcQKIhteQSdVU8eBpRnIOuhRYSROat7oDt3DKZBycO0sQXId3Kpw&metric=total_video_views&period=lifetime&date_preset=yesterday&since=1617519600&until=1617606000',\n",
       "  'next': 'https://graph.facebook.com/v10.0/110425642319640_4215693758459454/insights?access_token=EAANKJqZBNNskBACzokYxiVM9lyzjphlzFiErT7Gk5pfz7sWfa6hZBzwN05CxYX75ZAE3SYGXDE5UpVrxYMU8XDg8Ljl2HDlAUgzhYaZBNZCWbikFzHAO9CUXX56W7G5KCt9dH6KZB7ThzaghFwZAPYzCZAmUYvFxWx7oDCcQKIhteQSdVU8eBpRnIOuhRYSROat7oDt3DKZBycO0sQXId3Kpw&metric=total_video_views&period=lifetime&date_preset=yesterday&since=1617692400&until=1617778800'}}"
      ]
     },
     "metadata": {},
     "execution_count": 61
    }
   ],
   "source": [
    "rap = graph.get_connections(id=\"110425642319640_4215693758459454\", connection_name ='insights', metric='total_video_views', date_preset='yesterday', period='lifetime', show_description_from_api_doc=False)\n",
    "rap"
   ]
  },
  {
   "cell_type": "code",
   "execution_count": 66,
   "metadata": {},
   "outputs": [
    {
     "output_type": "error",
     "ename": "GraphAPIError",
     "evalue": "(#190) This method must be called with a Page Access Token",
     "traceback": [
      "\u001b[0;31m---------------------------------------------------------------------------\u001b[0m",
      "\u001b[0;31mGraphAPIError\u001b[0m                             Traceback (most recent call last)",
      "\u001b[0;32m<ipython-input-66-b58e6c20aa38>\u001b[0m in \u001b[0;36m<module>\u001b[0;34m\u001b[0m\n\u001b[1;32m      1\u001b[0m \u001b[0;32mfor\u001b[0m \u001b[0mindex\u001b[0m\u001b[0;34m,\u001b[0m \u001b[0mrow\u001b[0m \u001b[0;32min\u001b[0m \u001b[0mdf\u001b[0m\u001b[0;34m.\u001b[0m\u001b[0miterrows\u001b[0m\u001b[0;34m(\u001b[0m\u001b[0;34m)\u001b[0m\u001b[0;34m:\u001b[0m\u001b[0;34m\u001b[0m\u001b[0;34m\u001b[0m\u001b[0m\n\u001b[0;32m----> 2\u001b[0;31m     \u001b[0mlikes1\u001b[0m \u001b[0;34m=\u001b[0m \u001b[0mgraph\u001b[0m\u001b[0;34m.\u001b[0m\u001b[0mget_connections\u001b[0m\u001b[0;34m(\u001b[0m\u001b[0mid\u001b[0m\u001b[0;34m=\u001b[0m\u001b[0mrow\u001b[0m\u001b[0;34m[\u001b[0m\u001b[0;34m\"id\"\u001b[0m\u001b[0;34m]\u001b[0m\u001b[0;34m,\u001b[0m \u001b[0mconnection_name\u001b[0m \u001b[0;34m=\u001b[0m\u001b[0;34m'insights'\u001b[0m\u001b[0;34m,\u001b[0m \u001b[0mmetric\u001b[0m\u001b[0;34m=\u001b[0m\u001b[0;34m'post_reactions_like_total'\u001b[0m\u001b[0;34m,\u001b[0m \u001b[0mdate_preset\u001b[0m\u001b[0;34m=\u001b[0m\u001b[0;34m'yesterday'\u001b[0m\u001b[0;34m,\u001b[0m \u001b[0mperiod\u001b[0m\u001b[0;34m=\u001b[0m\u001b[0;34m'lifetime'\u001b[0m\u001b[0;34m,\u001b[0m \u001b[0mshow_description_from_api_doc\u001b[0m\u001b[0;34m=\u001b[0m\u001b[0;32mFalse\u001b[0m\u001b[0;34m)\u001b[0m\u001b[0;34m\u001b[0m\u001b[0;34m\u001b[0m\u001b[0m\n\u001b[0m\u001b[1;32m      3\u001b[0m     \u001b[0mdf\u001b[0m\u001b[0;34m.\u001b[0m\u001b[0mloc\u001b[0m\u001b[0;34m[\u001b[0m\u001b[0mindex\u001b[0m\u001b[0;34m,\u001b[0m \u001b[0;34m\"likes\"\u001b[0m\u001b[0;34m]\u001b[0m\u001b[0;34m=\u001b[0m \u001b[0mlikes1\u001b[0m\u001b[0;34m[\u001b[0m\u001b[0;34m'data'\u001b[0m\u001b[0;34m]\u001b[0m\u001b[0;34m[\u001b[0m\u001b[0;36m0\u001b[0m\u001b[0;34m]\u001b[0m\u001b[0;34m[\u001b[0m\u001b[0;34m'values'\u001b[0m\u001b[0;34m]\u001b[0m\u001b[0;34m[\u001b[0m\u001b[0;36m0\u001b[0m\u001b[0;34m]\u001b[0m\u001b[0;34m[\u001b[0m\u001b[0;34m'value'\u001b[0m\u001b[0;34m]\u001b[0m\u001b[0;34m\u001b[0m\u001b[0;34m\u001b[0m\u001b[0m\n",
      "\u001b[0;32m/Library/Frameworks/Python.framework/Versions/3.8/lib/python3.8/site-packages/facebook/__init__.py\u001b[0m in \u001b[0;36mget_connections\u001b[0;34m(self, id, connection_name, **args)\u001b[0m\n\u001b[1;32m    147\u001b[0m     \u001b[0;32mdef\u001b[0m \u001b[0mget_connections\u001b[0m\u001b[0;34m(\u001b[0m\u001b[0mself\u001b[0m\u001b[0;34m,\u001b[0m \u001b[0mid\u001b[0m\u001b[0;34m,\u001b[0m \u001b[0mconnection_name\u001b[0m\u001b[0;34m,\u001b[0m \u001b[0;34m**\u001b[0m\u001b[0margs\u001b[0m\u001b[0;34m)\u001b[0m\u001b[0;34m:\u001b[0m\u001b[0;34m\u001b[0m\u001b[0;34m\u001b[0m\u001b[0m\n\u001b[1;32m    148\u001b[0m         \u001b[0;34m\"\"\"Fetches the connections for given object.\"\"\"\u001b[0m\u001b[0;34m\u001b[0m\u001b[0;34m\u001b[0m\u001b[0m\n\u001b[0;32m--> 149\u001b[0;31m         return self.request(\n\u001b[0m\u001b[1;32m    150\u001b[0m             \u001b[0;34m\"{0}/{1}/{2}\"\u001b[0m\u001b[0;34m.\u001b[0m\u001b[0mformat\u001b[0m\u001b[0;34m(\u001b[0m\u001b[0mself\u001b[0m\u001b[0;34m.\u001b[0m\u001b[0mversion\u001b[0m\u001b[0;34m,\u001b[0m \u001b[0mid\u001b[0m\u001b[0;34m,\u001b[0m \u001b[0mconnection_name\u001b[0m\u001b[0;34m)\u001b[0m\u001b[0;34m,\u001b[0m \u001b[0margs\u001b[0m\u001b[0;34m\u001b[0m\u001b[0;34m\u001b[0m\u001b[0m\n\u001b[1;32m    151\u001b[0m         )\n",
      "\u001b[0;32m/Library/Frameworks/Python.framework/Versions/3.8/lib/python3.8/site-packages/facebook/__init__.py\u001b[0m in \u001b[0;36mrequest\u001b[0;34m(self, path, args, post_args, files, method)\u001b[0m\n\u001b[1;32m    311\u001b[0m \u001b[0;34m\u001b[0m\u001b[0m\n\u001b[1;32m    312\u001b[0m         \u001b[0;32mif\u001b[0m \u001b[0mresult\u001b[0m \u001b[0;32mand\u001b[0m \u001b[0misinstance\u001b[0m\u001b[0;34m(\u001b[0m\u001b[0mresult\u001b[0m\u001b[0;34m,\u001b[0m \u001b[0mdict\u001b[0m\u001b[0;34m)\u001b[0m \u001b[0;32mand\u001b[0m \u001b[0mresult\u001b[0m\u001b[0;34m.\u001b[0m\u001b[0mget\u001b[0m\u001b[0;34m(\u001b[0m\u001b[0;34m\"error\"\u001b[0m\u001b[0;34m)\u001b[0m\u001b[0;34m:\u001b[0m\u001b[0;34m\u001b[0m\u001b[0;34m\u001b[0m\u001b[0m\n\u001b[0;32m--> 313\u001b[0;31m             \u001b[0;32mraise\u001b[0m \u001b[0mGraphAPIError\u001b[0m\u001b[0;34m(\u001b[0m\u001b[0mresult\u001b[0m\u001b[0;34m)\u001b[0m\u001b[0;34m\u001b[0m\u001b[0;34m\u001b[0m\u001b[0m\n\u001b[0m\u001b[1;32m    314\u001b[0m         \u001b[0;32mreturn\u001b[0m \u001b[0mresult\u001b[0m\u001b[0;34m\u001b[0m\u001b[0;34m\u001b[0m\u001b[0m\n\u001b[1;32m    315\u001b[0m \u001b[0;34m\u001b[0m\u001b[0m\n",
      "\u001b[0;31mGraphAPIError\u001b[0m: (#190) This method must be called with a Page Access Token"
     ]
    }
   ],
   "source": [
    "for index, row in df.iterrows():\n",
    "    likes1 = graph.get_connections(id=row[\"id\"], connection_name ='insights', metric='post_reactions_like_total', date_preset='yesterday', period='lifetime', show_description_from_api_doc=False)\n",
    "    df.loc[index, \"likes\"]= likes1['data'][0]['values'][0]['value']"
   ]
  },
  {
   "cell_type": "code",
   "execution_count": 73,
   "metadata": {},
   "outputs": [],
   "source": [
    "for index, row in df[df[\"likes\"].isnull()].iterrows():\n",
    "    likes1 = graph.get_connections(id=row[\"id\"], connection_name ='insights', metric='post_reactions_like_total', date_preset='yesterday', period='lifetime', show_description_from_api_doc=False)\n",
    "    df.loc[index, \"likes\"]= likes1['data'][0]['values'][0]['value']"
   ]
  },
  {
   "cell_type": "code",
   "execution_count": 74,
   "metadata": {},
   "outputs": [
    {
     "output_type": "execute_result",
     "data": {
      "text/plain": [
       "Empty DataFrame\n",
       "Columns: [created_time, id, message, status_type, permalink_url, full_picture, message_tags, likes]\n",
       "Index: []"
      ],
      "text/html": "<div>\n<style scoped>\n    .dataframe tbody tr th:only-of-type {\n        vertical-align: middle;\n    }\n\n    .dataframe tbody tr th {\n        vertical-align: top;\n    }\n\n    .dataframe thead th {\n        text-align: right;\n    }\n</style>\n<table border=\"1\" class=\"dataframe\">\n  <thead>\n    <tr style=\"text-align: right;\">\n      <th></th>\n      <th>created_time</th>\n      <th>id</th>\n      <th>message</th>\n      <th>status_type</th>\n      <th>permalink_url</th>\n      <th>full_picture</th>\n      <th>message_tags</th>\n      <th>likes</th>\n    </tr>\n  </thead>\n  <tbody>\n  </tbody>\n</table>\n</div>"
     },
     "metadata": {},
     "execution_count": 74
    }
   ],
   "source": [
    "df[df[\"likes\"].isnull()]"
   ]
  },
  {
   "cell_type": "code",
   "execution_count": 77,
   "metadata": {},
   "outputs": [
    {
     "output_type": "execute_result",
     "data": {
      "text/plain": [
       "                  created_time                                id  \\\n",
       "3116  2017-02-21T01:54:10+0000  110425642319640_1579022972126559   \n",
       "4149  2015-04-13T04:00:02+0000  110425642319640_1031634083532120   \n",
       "4148  2015-04-15T06:30:00+0000  110425642319640_1032839760078219   \n",
       "4147  2015-04-15T08:31:17+0000  110425642319640_1032874833408045   \n",
       "4146  2015-04-17T06:29:56+0000  110425642319640_1034089566619905   \n",
       "...                        ...                               ...   \n",
       "945   2020-04-29T08:52:45+0000  110425642319640_3395023160526522   \n",
       "922   2020-05-07T05:00:01+0000  110425642319640_3414707911891380   \n",
       "1031  2020-04-06T14:22:31+0000  110425642319640_3337665702928935   \n",
       "1595  2019-06-03T07:06:00+0000  110425642319640_2671478159547696   \n",
       "141   2021-02-08T13:17:51+0000  110425642319640_4215693758459454   \n",
       "\n",
       "                                                message   status_type  \\\n",
       "3116  #‎ACCorner‬‬‬ Cảm ơn các bạn đã đến tham dự cá...  added_photos   \n",
       "4149  Cảm ơn các bạn đã đến tham dự các sự kiện tron...  added_photos   \n",
       "4148  One of the prominent American corporations in ...  added_photos   \n",
       "4147  APPLY NOW FOR U.S. VISA!\\nGoing to the United ...  shared_story   \n",
       "4146  ILLINOIS - Mile after Magnificent Mile! #50pla...  added_photos   \n",
       "...                                                 ...           ...   \n",
       "945   #ĐạisứKritenbrink: Sau nhiều năm gian khó và h...  added_photos   \n",
       "922   Ngày 6/5, Tổng thống Donald J. Trump đã có cuộ...  added_photos   \n",
       "1031  Hoa Kỳ lên án việc nước Cộng hòa Nhân dân (CHN...  added_photos   \n",
       "1595  Chúc mừng phi công quân sự Việt Nam đầu tiên s...  added_photos   \n",
       "141   😎🎤🎼 Bằng tất cả tình cảm quý mến dành cho Việt...   added_video   \n",
       "\n",
       "                                          permalink_url  \\\n",
       "3116  https://www.facebook.com/usembassyhanoi/photos...   \n",
       "4149  https://www.facebook.com/usembassyhanoi/photos...   \n",
       "4148  https://www.facebook.com/usembassyhanoi/photos...   \n",
       "4147  https://www.facebook.com/110425642319640/posts...   \n",
       "4146  https://www.facebook.com/usembassyhanoi/photos...   \n",
       "...                                                 ...   \n",
       "945   https://www.facebook.com/110425642319640/posts...   \n",
       "922   https://www.facebook.com/110425642319640/posts...   \n",
       "1031  https://www.facebook.com/110425642319640/posts...   \n",
       "1595  https://www.facebook.com/110425642319640/posts...   \n",
       "141   https://www.facebook.com/110425642319640/posts...   \n",
       "\n",
       "                                           full_picture  \\\n",
       "3116  https://scontent.fsgn2-5.fna.fbcdn.net/v/t31.1...   \n",
       "4149  https://scontent.fsgn2-5.fna.fbcdn.net/v/t31.1...   \n",
       "4148  https://scontent.fsgn2-1.fna.fbcdn.net/v/t31.1...   \n",
       "4147  https://external.fsgn2-2.fna.fbcdn.net/safe_im...   \n",
       "4146  https://scontent.fsgn2-2.fna.fbcdn.net/v/t1.18...   \n",
       "...                                                 ...   \n",
       "945   https://scontent.fsgn2-2.fna.fbcdn.net/v/t1.64...   \n",
       "922   https://scontent.fsgn2-6.fna.fbcdn.net/v/t1.64...   \n",
       "1031  https://scontent.fsgn2-5.fna.fbcdn.net/v/t1.64...   \n",
       "1595  https://scontent.fsgn2-2.fna.fbcdn.net/v/t1.64...   \n",
       "141   https://scontent.fsgn2-1.fna.fbcdn.net/v/t15.5...   \n",
       "\n",
       "                                           message_tags    likes  \n",
       "3116                                                 []      0.0  \n",
       "4149                                                 []      0.0  \n",
       "4148  [{'id': '101910403287498', 'name': 'K0 Còi', '...      0.0  \n",
       "4147                                                 []      0.0  \n",
       "4146  [{'id': '943853828976138', 'name': '#50platesf...      0.0  \n",
       "...                                                 ...      ...  \n",
       "945   [{'id': '2722264851181928', 'name': '#ĐạisứKri...   7149.0  \n",
       "922                                                 NaN   7379.0  \n",
       "1031                                                 []   7921.0  \n",
       "1595                                                NaN   9108.0  \n",
       "141   [{'id': '2107028136003141', 'name': '#Ambassad...  62686.0  \n",
       "\n",
       "[6234 rows x 8 columns]"
      ],
      "text/html": "<div>\n<style scoped>\n    .dataframe tbody tr th:only-of-type {\n        vertical-align: middle;\n    }\n\n    .dataframe tbody tr th {\n        vertical-align: top;\n    }\n\n    .dataframe thead th {\n        text-align: right;\n    }\n</style>\n<table border=\"1\" class=\"dataframe\">\n  <thead>\n    <tr style=\"text-align: right;\">\n      <th></th>\n      <th>created_time</th>\n      <th>id</th>\n      <th>message</th>\n      <th>status_type</th>\n      <th>permalink_url</th>\n      <th>full_picture</th>\n      <th>message_tags</th>\n      <th>likes</th>\n    </tr>\n  </thead>\n  <tbody>\n    <tr>\n      <th>3116</th>\n      <td>2017-02-21T01:54:10+0000</td>\n      <td>110425642319640_1579022972126559</td>\n      <td>#‎ACCorner‬‬‬ Cảm ơn các bạn đã đến tham dự cá...</td>\n      <td>added_photos</td>\n      <td>https://www.facebook.com/usembassyhanoi/photos...</td>\n      <td>https://scontent.fsgn2-5.fna.fbcdn.net/v/t31.1...</td>\n      <td>[]</td>\n      <td>0.0</td>\n    </tr>\n    <tr>\n      <th>4149</th>\n      <td>2015-04-13T04:00:02+0000</td>\n      <td>110425642319640_1031634083532120</td>\n      <td>Cảm ơn các bạn đã đến tham dự các sự kiện tron...</td>\n      <td>added_photos</td>\n      <td>https://www.facebook.com/usembassyhanoi/photos...</td>\n      <td>https://scontent.fsgn2-5.fna.fbcdn.net/v/t31.1...</td>\n      <td>[]</td>\n      <td>0.0</td>\n    </tr>\n    <tr>\n      <th>4148</th>\n      <td>2015-04-15T06:30:00+0000</td>\n      <td>110425642319640_1032839760078219</td>\n      <td>One of the prominent American corporations in ...</td>\n      <td>added_photos</td>\n      <td>https://www.facebook.com/usembassyhanoi/photos...</td>\n      <td>https://scontent.fsgn2-1.fna.fbcdn.net/v/t31.1...</td>\n      <td>[{'id': '101910403287498', 'name': 'K0 Còi', '...</td>\n      <td>0.0</td>\n    </tr>\n    <tr>\n      <th>4147</th>\n      <td>2015-04-15T08:31:17+0000</td>\n      <td>110425642319640_1032874833408045</td>\n      <td>APPLY NOW FOR U.S. VISA!\\nGoing to the United ...</td>\n      <td>shared_story</td>\n      <td>https://www.facebook.com/110425642319640/posts...</td>\n      <td>https://external.fsgn2-2.fna.fbcdn.net/safe_im...</td>\n      <td>[]</td>\n      <td>0.0</td>\n    </tr>\n    <tr>\n      <th>4146</th>\n      <td>2015-04-17T06:29:56+0000</td>\n      <td>110425642319640_1034089566619905</td>\n      <td>ILLINOIS - Mile after Magnificent Mile! #50pla...</td>\n      <td>added_photos</td>\n      <td>https://www.facebook.com/usembassyhanoi/photos...</td>\n      <td>https://scontent.fsgn2-2.fna.fbcdn.net/v/t1.18...</td>\n      <td>[{'id': '943853828976138', 'name': '#50platesf...</td>\n      <td>0.0</td>\n    </tr>\n    <tr>\n      <th>...</th>\n      <td>...</td>\n      <td>...</td>\n      <td>...</td>\n      <td>...</td>\n      <td>...</td>\n      <td>...</td>\n      <td>...</td>\n      <td>...</td>\n    </tr>\n    <tr>\n      <th>945</th>\n      <td>2020-04-29T08:52:45+0000</td>\n      <td>110425642319640_3395023160526522</td>\n      <td>#ĐạisứKritenbrink: Sau nhiều năm gian khó và h...</td>\n      <td>added_photos</td>\n      <td>https://www.facebook.com/110425642319640/posts...</td>\n      <td>https://scontent.fsgn2-2.fna.fbcdn.net/v/t1.64...</td>\n      <td>[{'id': '2722264851181928', 'name': '#ĐạisứKri...</td>\n      <td>7149.0</td>\n    </tr>\n    <tr>\n      <th>922</th>\n      <td>2020-05-07T05:00:01+0000</td>\n      <td>110425642319640_3414707911891380</td>\n      <td>Ngày 6/5, Tổng thống Donald J. Trump đã có cuộ...</td>\n      <td>added_photos</td>\n      <td>https://www.facebook.com/110425642319640/posts...</td>\n      <td>https://scontent.fsgn2-6.fna.fbcdn.net/v/t1.64...</td>\n      <td>NaN</td>\n      <td>7379.0</td>\n    </tr>\n    <tr>\n      <th>1031</th>\n      <td>2020-04-06T14:22:31+0000</td>\n      <td>110425642319640_3337665702928935</td>\n      <td>Hoa Kỳ lên án việc nước Cộng hòa Nhân dân (CHN...</td>\n      <td>added_photos</td>\n      <td>https://www.facebook.com/110425642319640/posts...</td>\n      <td>https://scontent.fsgn2-5.fna.fbcdn.net/v/t1.64...</td>\n      <td>[]</td>\n      <td>7921.0</td>\n    </tr>\n    <tr>\n      <th>1595</th>\n      <td>2019-06-03T07:06:00+0000</td>\n      <td>110425642319640_2671478159547696</td>\n      <td>Chúc mừng phi công quân sự Việt Nam đầu tiên s...</td>\n      <td>added_photos</td>\n      <td>https://www.facebook.com/110425642319640/posts...</td>\n      <td>https://scontent.fsgn2-2.fna.fbcdn.net/v/t1.64...</td>\n      <td>NaN</td>\n      <td>9108.0</td>\n    </tr>\n    <tr>\n      <th>141</th>\n      <td>2021-02-08T13:17:51+0000</td>\n      <td>110425642319640_4215693758459454</td>\n      <td>😎🎤🎼 Bằng tất cả tình cảm quý mến dành cho Việt...</td>\n      <td>added_video</td>\n      <td>https://www.facebook.com/110425642319640/posts...</td>\n      <td>https://scontent.fsgn2-1.fna.fbcdn.net/v/t15.5...</td>\n      <td>[{'id': '2107028136003141', 'name': '#Ambassad...</td>\n      <td>62686.0</td>\n    </tr>\n  </tbody>\n</table>\n<p>6234 rows × 8 columns</p>\n</div>"
     },
     "metadata": {},
     "execution_count": 77
    }
   ],
   "source": [
    "df.sort_values(by = \"likes\")"
   ]
  },
  {
   "cell_type": "code",
   "execution_count": 76,
   "metadata": {},
   "outputs": [],
   "source": [
    "df.to_csv(\"20210406_Embassy Posts.csv\")"
   ]
  }
 ]
}